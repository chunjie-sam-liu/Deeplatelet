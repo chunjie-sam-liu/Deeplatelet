{
  "nbformat": 4,
  "nbformat_minor": 0,
  "metadata": {
    "colab": {
      "name": "08-DeepSurvPFS.ipynb",
      "provenance": [],
      "collapsed_sections": [],
      "authorship_tag": "ABX9TyOnoHOr6JdSTs+//PY4kAFl",
      "include_colab_link": true
    },
    "kernelspec": {
      "name": "python3",
      "display_name": "Python 3"
    }
  },
  "cells": [
    {
      "cell_type": "markdown",
      "metadata": {
        "id": "view-in-github",
        "colab_type": "text"
      },
      "source": [
        "<a href=\"https://colab.research.google.com/github/chunjie-sam-liu/TEP-prognosis/blob/main/08_DeepSurvPFS.ipynb\" target=\"_parent\"><img src=\"https://colab.research.google.com/assets/colab-badge.svg\" alt=\"Open In Colab\"/></a>"
      ]
    },
    {
      "cell_type": "code",
      "metadata": {
        "colab": {
          "base_uri": "https://localhost:8080/"
        },
        "id": "ZiLrfynVsPQA",
        "outputId": "756a460d-1db7-46b3-a81a-b7d657851b62"
      },
      "source": [
        "! pip install torchtuples\n",
        "! pip install pycox\n",
        "! pip install hiddenlayer"
      ],
      "execution_count": 1,
      "outputs": [
        {
          "output_type": "stream",
          "text": [
            "Requirement already satisfied: torchtuples in /usr/local/lib/python3.7/dist-packages (0.2.0)\n",
            "Requirement already satisfied: numpy>=1.15.4 in /usr/local/lib/python3.7/dist-packages (from torchtuples) (1.19.5)\n",
            "Requirement already satisfied: matplotlib>=3.0.3 in /usr/local/lib/python3.7/dist-packages (from torchtuples) (3.2.2)\n",
            "Requirement already satisfied: pandas>=0.24.2 in /usr/local/lib/python3.7/dist-packages (from torchtuples) (1.1.5)\n",
            "Requirement already satisfied: pyparsing!=2.0.4,!=2.1.2,!=2.1.6,>=2.0.1 in /usr/local/lib/python3.7/dist-packages (from matplotlib>=3.0.3->torchtuples) (2.4.7)\n",
            "Requirement already satisfied: kiwisolver>=1.0.1 in /usr/local/lib/python3.7/dist-packages (from matplotlib>=3.0.3->torchtuples) (1.3.1)\n",
            "Requirement already satisfied: cycler>=0.10 in /usr/local/lib/python3.7/dist-packages (from matplotlib>=3.0.3->torchtuples) (0.10.0)\n",
            "Requirement already satisfied: python-dateutil>=2.1 in /usr/local/lib/python3.7/dist-packages (from matplotlib>=3.0.3->torchtuples) (2.8.1)\n",
            "Requirement already satisfied: pytz>=2017.2 in /usr/local/lib/python3.7/dist-packages (from pandas>=0.24.2->torchtuples) (2018.9)\n",
            "Requirement already satisfied: six in /usr/local/lib/python3.7/dist-packages (from cycler>=0.10->matplotlib>=3.0.3->torchtuples) (1.15.0)\n",
            "Requirement already satisfied: pycox in /usr/local/lib/python3.7/dist-packages (0.2.2)\n",
            "Requirement already satisfied: torchtuples>=0.2.0 in /usr/local/lib/python3.7/dist-packages (from pycox) (0.2.0)\n",
            "Requirement already satisfied: numba>=0.44 in /usr/local/lib/python3.7/dist-packages (from pycox) (0.51.2)\n",
            "Requirement already satisfied: requests>=2.22.0 in /usr/local/lib/python3.7/dist-packages (from pycox) (2.23.0)\n",
            "Requirement already satisfied: py7zr>=0.11.3 in /usr/local/lib/python3.7/dist-packages (from pycox) (0.13.0)\n",
            "Requirement already satisfied: scikit-learn>=0.21.2 in /usr/local/lib/python3.7/dist-packages (from pycox) (0.22.2.post1)\n",
            "Requirement already satisfied: feather-format>=0.4.0 in /usr/local/lib/python3.7/dist-packages (from pycox) (0.4.1)\n",
            "Requirement already satisfied: h5py>=2.9.0 in /usr/local/lib/python3.7/dist-packages (from pycox) (2.10.0)\n",
            "Requirement already satisfied: matplotlib>=3.0.3 in /usr/local/lib/python3.7/dist-packages (from torchtuples>=0.2.0->pycox) (3.2.2)\n",
            "Requirement already satisfied: pandas>=0.24.2 in /usr/local/lib/python3.7/dist-packages (from torchtuples>=0.2.0->pycox) (1.1.5)\n",
            "Requirement already satisfied: numpy>=1.15.4 in /usr/local/lib/python3.7/dist-packages (from torchtuples>=0.2.0->pycox) (1.19.5)\n",
            "Requirement already satisfied: llvmlite<0.35,>=0.34.0.dev0 in /usr/local/lib/python3.7/dist-packages (from numba>=0.44->pycox) (0.34.0)\n",
            "Requirement already satisfied: setuptools in /usr/local/lib/python3.7/dist-packages (from numba>=0.44->pycox) (53.0.0)\n",
            "Requirement already satisfied: idna<3,>=2.5 in /usr/local/lib/python3.7/dist-packages (from requests>=2.22.0->pycox) (2.10)\n",
            "Requirement already satisfied: chardet<4,>=3.0.2 in /usr/local/lib/python3.7/dist-packages (from requests>=2.22.0->pycox) (3.0.4)\n",
            "Requirement already satisfied: urllib3!=1.25.0,!=1.25.1,<1.26,>=1.21.1 in /usr/local/lib/python3.7/dist-packages (from requests>=2.22.0->pycox) (1.24.3)\n",
            "Requirement already satisfied: certifi>=2017.4.17 in /usr/local/lib/python3.7/dist-packages (from requests>=2.22.0->pycox) (2020.12.5)\n",
            "Requirement already satisfied: ppmd-cffi<0.4.0,>=0.3.1 in /usr/local/lib/python3.7/dist-packages (from py7zr>=0.11.3->pycox) (0.3.3)\n",
            "Requirement already satisfied: texttable in /usr/local/lib/python3.7/dist-packages (from py7zr>=0.11.3->pycox) (1.6.3)\n",
            "Requirement already satisfied: pycryptodome in /usr/local/lib/python3.7/dist-packages (from py7zr>=0.11.3->pycox) (3.10.1)\n",
            "Requirement already satisfied: multivolumefile<0.2.0,>=0.1.1 in /usr/local/lib/python3.7/dist-packages (from py7zr>=0.11.3->pycox) (0.1.4)\n",
            "Requirement already satisfied: importlib-metadata; python_version < \"3.8\" in /usr/local/lib/python3.7/dist-packages (from py7zr>=0.11.3->pycox) (3.4.0)\n",
            "Requirement already satisfied: zstandard in /usr/local/lib/python3.7/dist-packages (from py7zr>=0.11.3->pycox) (0.15.1)\n",
            "Requirement already satisfied: joblib>=0.11 in /usr/local/lib/python3.7/dist-packages (from scikit-learn>=0.21.2->pycox) (1.0.1)\n",
            "Requirement already satisfied: scipy>=0.17.0 in /usr/local/lib/python3.7/dist-packages (from scikit-learn>=0.21.2->pycox) (1.4.1)\n",
            "Requirement already satisfied: pyarrow>=0.4.0 in /usr/local/lib/python3.7/dist-packages (from feather-format>=0.4.0->pycox) (0.14.1)\n",
            "Requirement already satisfied: six in /usr/local/lib/python3.7/dist-packages (from h5py>=2.9.0->pycox) (1.15.0)\n",
            "Requirement already satisfied: kiwisolver>=1.0.1 in /usr/local/lib/python3.7/dist-packages (from matplotlib>=3.0.3->torchtuples>=0.2.0->pycox) (1.3.1)\n",
            "Requirement already satisfied: python-dateutil>=2.1 in /usr/local/lib/python3.7/dist-packages (from matplotlib>=3.0.3->torchtuples>=0.2.0->pycox) (2.8.1)\n",
            "Requirement already satisfied: cycler>=0.10 in /usr/local/lib/python3.7/dist-packages (from matplotlib>=3.0.3->torchtuples>=0.2.0->pycox) (0.10.0)\n",
            "Requirement already satisfied: pyparsing!=2.0.4,!=2.1.2,!=2.1.6,>=2.0.1 in /usr/local/lib/python3.7/dist-packages (from matplotlib>=3.0.3->torchtuples>=0.2.0->pycox) (2.4.7)\n",
            "Requirement already satisfied: pytz>=2017.2 in /usr/local/lib/python3.7/dist-packages (from pandas>=0.24.2->torchtuples>=0.2.0->pycox) (2018.9)\n",
            "Requirement already satisfied: cffi>=1.14.0 in /usr/local/lib/python3.7/dist-packages (from ppmd-cffi<0.4.0,>=0.3.1->py7zr>=0.11.3->pycox) (1.14.5)\n",
            "Requirement already satisfied: typing-extensions>=3.6.4; python_version < \"3.8\" in /usr/local/lib/python3.7/dist-packages (from importlib-metadata; python_version < \"3.8\"->py7zr>=0.11.3->pycox) (3.7.4.3)\n",
            "Requirement already satisfied: zipp>=0.5 in /usr/local/lib/python3.7/dist-packages (from importlib-metadata; python_version < \"3.8\"->py7zr>=0.11.3->pycox) (3.4.0)\n",
            "Requirement already satisfied: pycparser in /usr/local/lib/python3.7/dist-packages (from cffi>=1.14.0->ppmd-cffi<0.4.0,>=0.3.1->py7zr>=0.11.3->pycox) (2.20)\n",
            "Requirement already satisfied: hiddenlayer in /usr/local/lib/python3.7/dist-packages (0.3)\n"
          ],
          "name": "stdout"
        }
      ]
    },
    {
      "cell_type": "code",
      "metadata": {
        "id": "IQc3SAkcsSx-"
      },
      "source": [
        "import os\n",
        "\n",
        "import numpy as np\n",
        "# Data import\n",
        "import feather\n",
        "import matplotlib.pyplot as plt\n",
        "%matplotlib inline\n",
        "\n",
        "# For preprocessing\n",
        "from sklearn.preprocessing import StandardScaler\n",
        "from sklearn_pandas import DataFrameMapper\n",
        "\n",
        "import torch\n",
        "from torch import nn\n",
        "import torchtuples as tt\n",
        "import torch.nn.functional as F\n",
        "from torch.nn.modules.linear import Linear\n",
        "\n",
        "from pycox.models import LogisticHazard, CoxPH\n",
        "from pycox.models.loss import NLLLogistiHazardLoss\n",
        "from pycox.evaluation import EvalSurv\n"
      ],
      "execution_count": 2,
      "outputs": []
    },
    {
      "cell_type": "code",
      "metadata": {
        "colab": {
          "base_uri": "https://localhost:8080/"
        },
        "id": "IEL-4vMqs4UM",
        "outputId": "7ab691fe-d622-493a-bb6e-afddbadee445"
      },
      "source": [
        "np.random.seed(1234)\n",
        "torch.manual_seed(1234)"
      ],
      "execution_count": 3,
      "outputs": [
        {
          "output_type": "execute_result",
          "data": {
            "text/plain": [
              "<torch._C.Generator at 0x7f14c7f1a370>"
            ]
          },
          "metadata": {
            "tags": []
          },
          "execution_count": 3
        }
      ]
    },
    {
      "cell_type": "code",
      "metadata": {
        "id": "XnDht0DMs-Wc"
      },
      "source": [
        "# Load data and label transformation\n",
        "def load_data(filepath):\n",
        "    df = feather.read_dataframe(source=filepath)\n",
        "    df_train = df.loc[df.oc == \"OC521\"].drop(columns=[\"barcode\", \"oc\"], axis=1)\n",
        "    df_val = df.loc[df.oc == \"OC44\"].drop(columns=[\"barcode\", \"oc\"], axis=1)\n",
        "    df_test1 = df.loc[df.oc == \"OC79\"].drop(columns=[\"barcode\", \"oc\"], axis=1)\n",
        "    df_test2 = df.loc[df.oc == \"OC172\"].drop(columns=[\"barcode\", \"oc\"], axis=1)\n",
        "    return df_train, df_val, df_test1, df_test2\n",
        "\n",
        "\n",
        "def get_target(df):\n",
        "    dd = np.array([i if i < 60 else 60 for i in df['duration'].values])\n",
        "    return (dd, df[\"event\"].values)\n",
        "\n",
        "\n",
        "def transform_features(df_train, df_val, df_test1, df_test2):\n",
        "    columns = df_train.columns\n",
        "    columns = columns[: len(columns) - 2]\n",
        "    standardize = [([col], StandardScaler()) for col in columns]\n",
        "\n",
        "    x_mapper = DataFrameMapper(standardize)\n",
        "\n",
        "    x_train = x_mapper.fit_transform(df_train).astype(\"float32\")\n",
        "    x_val = x_mapper.transform(df_val).astype(\"float32\")\n",
        "    x_test1 = x_mapper.transform(df_test1).astype(\"float32\")\n",
        "    x_test2 = x_mapper.transform(df_test2).astype(\"float32\")\n",
        "\n",
        "    return x_train, x_val, x_test1, x_test2\n",
        "\n",
        "\n",
        "def transform_labels(df_train, df_val, nd=10):\n",
        "    num_durations = nd\n",
        "    labtrans = LogisticHazard.label_transform(num_durations)\n",
        "    y_train_surv = labtrans.fit_transform(*get_target(df_train))\n",
        "    y_val_surv = labtrans.transform(*get_target(df_val))\n",
        "\n",
        "    return y_train_surv, y_val_surv, labtrans"
      ],
      "execution_count": 4,
      "outputs": []
    },
    {
      "cell_type": "code",
      "metadata": {
        "colab": {
          "base_uri": "https://localhost:8080/"
        },
        "id": "SwzouJuttDdd",
        "outputId": "fe9ac55b-8a0e-4478-d4ed-16cf62926080"
      },
      "source": [
        "from google.colab import drive\n",
        "drive.mount('/content/drive')"
      ],
      "execution_count": 5,
      "outputs": [
        {
          "output_type": "stream",
          "text": [
            "Drive already mounted at /content/drive; to attempt to forcibly remount, call drive.mount(\"/content/drive\", force_remount=True).\n"
          ],
          "name": "stdout"
        }
      ]
    },
    {
      "cell_type": "code",
      "metadata": {
        "id": "EFVltuPZtW8V"
      },
      "source": [
        "filepath=\"/content/drive/MyDrive/colab-data/total434.pfs.se.norm.coxph.feather\""
      ],
      "execution_count": 6,
      "outputs": []
    },
    {
      "cell_type": "code",
      "metadata": {
        "id": "gr1EhPGOtMv0"
      },
      "source": [
        "# load data\n",
        "df_train, df_val, df_test1, df_test2 = load_data(filepath)\n",
        "# transform features\n",
        "x_train, x_val, x_test1, x_test2 = transform_features(df_train, df_val, df_test1, df_test2)\n",
        "# transform labels\n",
        "# y_train_surv, y_val_surv, labtrans = transform_labels(df_train, df_val)"
      ],
      "execution_count": 7,
      "outputs": []
    },
    {
      "cell_type": "code",
      "metadata": {
        "id": "eWl07eIqtTyM"
      },
      "source": [
        "y_train = get_target(df_train)\n",
        "y_val = get_target(df_val)\n",
        "\n",
        "durations_test1, events_test1 = get_target(df_test1)\n",
        "durations_test2, events_test2 = get_target(df_test2)"
      ],
      "execution_count": 8,
      "outputs": []
    },
    {
      "cell_type": "code",
      "metadata": {
        "id": "H5PbWOEBuHjs"
      },
      "source": [
        "in_features = x_train.shape[1]\n",
        "num_nodes = [32, 32]\n",
        "out_features = 1\n",
        "batch_norm = True\n",
        "dropout = 0.1\n",
        "output_bias = False\n",
        "\n",
        "net = tt.practical.MLPVanilla(in_features, num_nodes, out_features, batch_norm, dropout, output_bias=output_bias)"
      ],
      "execution_count": 9,
      "outputs": []
    },
    {
      "cell_type": "code",
      "metadata": {
        "colab": {
          "base_uri": "https://localhost:8080/"
        },
        "id": "URS6OY8z20me",
        "outputId": "b890e53a-ea55-4c8c-dfee-166f3e6c3402"
      },
      "source": [
        "net"
      ],
      "execution_count": 10,
      "outputs": [
        {
          "output_type": "execute_result",
          "data": {
            "text/plain": [
              "MLPVanilla(\n",
              "  (net): Sequential(\n",
              "    (0): DenseVanillaBlock(\n",
              "      (linear): Linear(in_features=41, out_features=32, bias=True)\n",
              "      (activation): ReLU()\n",
              "      (batch_norm): BatchNorm1d(32, eps=1e-05, momentum=0.1, affine=True, track_running_stats=True)\n",
              "      (dropout): Dropout(p=0.1, inplace=False)\n",
              "    )\n",
              "    (1): DenseVanillaBlock(\n",
              "      (linear): Linear(in_features=32, out_features=32, bias=True)\n",
              "      (activation): ReLU()\n",
              "      (batch_norm): BatchNorm1d(32, eps=1e-05, momentum=0.1, affine=True, track_running_stats=True)\n",
              "      (dropout): Dropout(p=0.1, inplace=False)\n",
              "    )\n",
              "    (2): Linear(in_features=32, out_features=1, bias=False)\n",
              "  )\n",
              ")"
            ]
          },
          "metadata": {
            "tags": []
          },
          "execution_count": 10
        }
      ]
    },
    {
      "cell_type": "code",
      "metadata": {
        "id": "uFfUryEzuIxt"
      },
      "source": [
        "model = CoxPH(net, tt.optim.Adam)"
      ],
      "execution_count": 11,
      "outputs": []
    },
    {
      "cell_type": "code",
      "metadata": {
        "colab": {
          "base_uri": "https://localhost:8080/",
          "height": 283
        },
        "id": "fokHpSiP0Pw5",
        "outputId": "22b61941-8172-448e-c6f4-dc62eb9d5948"
      },
      "source": [
        "batch_size = 256\n",
        "lrfinder = model.lr_finder(x_train, y_train, batch_size, tolerance=10)\n",
        "_ = lrfinder.plot()"
      ],
      "execution_count": 12,
      "outputs": [
        {
          "output_type": "display_data",
          "data": {
            "image/png": "[encoded data removed]",
            "text/plain": [
              "<Figure size 432x288 with 1 Axes>"
            ]
          },
          "metadata": {
            "tags": [],
            "needs_background": "light"
          }
        }
      ]
    },
    {
      "cell_type": "code",
      "metadata": {
        "colab": {
          "base_uri": "https://localhost:8080/"
        },
        "id": "80lxheL0uxWm",
        "outputId": "b0c0551c-95c2-4059-8ffb-e6aa1d65c74c"
      },
      "source": [
        "lrfinder.get_best_lr()"
      ],
      "execution_count": 13,
      "outputs": [
        {
          "output_type": "execute_result",
          "data": {
            "text/plain": [
              "0.15556761439304817"
            ]
          },
          "metadata": {
            "tags": []
          },
          "execution_count": 13
        }
      ]
    },
    {
      "cell_type": "code",
      "metadata": {
        "id": "Ca0vTuWCuzg9"
      },
      "source": [
        "model.optimizer.set_lr(lrfinder.get_best_lr())"
      ],
      "execution_count": 14,
      "outputs": []
    },
    {
      "cell_type": "code",
      "metadata": {
        "id": "nlCZKYILu0wd"
      },
      "source": [
        "epochs = 512\n",
        "callbacks = [tt.callbacks.EarlyStopping()]\n",
        "verbose = True"
      ],
      "execution_count": 15,
      "outputs": []
    },
    {
      "cell_type": "code",
      "metadata": {
        "id": "k7LBzC8gu_0J"
      },
      "source": [
        "val = x_val, y_val"
      ],
      "execution_count": 16,
      "outputs": []
    },
    {
      "cell_type": "code",
      "metadata": {
        "id": "K_HayDkU_owK"
      },
      "source": [
        "model.load_model_weights(path=\"/content/drive/MyDrive/colab-data/pfs.model\")"
      ],
      "execution_count": 18,
      "outputs": []
    },
    {
      "cell_type": "code",
      "metadata": {
        "colab": {
          "base_uri": "https://localhost:8080/"
        },
        "id": "MHqaGaW6u2Vt",
        "outputId": "31c62ce3-d338-4676-b7ef-fa720484814e"
      },
      "source": [
        "%%time\n",
        "log = model.fit(x_train, y_train, batch_size, epochs, callbacks, verbose, val_data=val, val_batch_size=batch_size)"
      ],
      "execution_count": 17,
      "outputs": [
        {
          "output_type": "stream",
          "text": [
            "0:\t[0s / 0s],\t\ttrain_loss: 3.7631,\tval_loss: 3.3306\n",
            "1:\t[0s / 0s],\t\ttrain_loss: 3.6627,\tval_loss: 5.3025\n",
            "2:\t[0s / 0s],\t\ttrain_loss: 3.3801,\tval_loss: 2.5799\n",
            "3:\t[0s / 0s],\t\ttrain_loss: 3.3185,\tval_loss: 3.3337\n",
            "4:\t[0s / 0s],\t\ttrain_loss: 3.1309,\tval_loss: 4.1545\n",
            "5:\t[0s / 0s],\t\ttrain_loss: 3.1211,\tval_loss: 3.2431\n",
            "6:\t[0s / 0s],\t\ttrain_loss: 2.8696,\tval_loss: 2.7473\n",
            "7:\t[0s / 0s],\t\ttrain_loss: 3.0934,\tval_loss: 2.5402\n",
            "8:\t[0s / 0s],\t\ttrain_loss: 3.2747,\tval_loss: 2.3678\n",
            "9:\t[0s / 0s],\t\ttrain_loss: 2.9974,\tval_loss: 2.3995\n",
            "10:\t[0s / 0s],\t\ttrain_loss: 3.0751,\tval_loss: 2.4924\n",
            "11:\t[0s / 0s],\t\ttrain_loss: 2.9888,\tval_loss: 2.4403\n",
            "12:\t[0s / 0s],\t\ttrain_loss: 3.1415,\tval_loss: 2.4245\n",
            "13:\t[0s / 0s],\t\ttrain_loss: 3.1336,\tval_loss: 2.4068\n",
            "14:\t[0s / 0s],\t\ttrain_loss: 3.0336,\tval_loss: 2.3327\n",
            "15:\t[0s / 0s],\t\ttrain_loss: 3.0074,\tval_loss: 2.2223\n",
            "16:\t[0s / 0s],\t\ttrain_loss: 2.9180,\tval_loss: 2.1861\n",
            "17:\t[0s / 0s],\t\ttrain_loss: 3.1497,\tval_loss: 2.2053\n",
            "18:\t[0s / 0s],\t\ttrain_loss: 2.9731,\tval_loss: 2.2667\n",
            "19:\t[0s / 0s],\t\ttrain_loss: 3.0223,\tval_loss: 2.3990\n",
            "20:\t[0s / 0s],\t\ttrain_loss: 2.8581,\tval_loss: 2.5412\n",
            "21:\t[0s / 0s],\t\ttrain_loss: 3.1124,\tval_loss: 2.6125\n",
            "22:\t[0s / 0s],\t\ttrain_loss: 2.7754,\tval_loss: 2.5260\n",
            "23:\t[0s / 0s],\t\ttrain_loss: 3.0086,\tval_loss: 2.3708\n",
            "24:\t[0s / 0s],\t\ttrain_loss: 2.8336,\tval_loss: 2.1859\n",
            "25:\t[0s / 0s],\t\ttrain_loss: 2.7568,\tval_loss: 2.1260\n",
            "26:\t[0s / 0s],\t\ttrain_loss: 2.8761,\tval_loss: 2.1058\n",
            "27:\t[0s / 0s],\t\ttrain_loss: 2.9087,\tval_loss: 2.0997\n",
            "28:\t[0s / 0s],\t\ttrain_loss: 2.8271,\tval_loss: 2.1921\n",
            "29:\t[0s / 0s],\t\ttrain_loss: 2.8579,\tval_loss: 2.3143\n",
            "30:\t[0s / 0s],\t\ttrain_loss: 2.7653,\tval_loss: 2.3023\n",
            "31:\t[0s / 0s],\t\ttrain_loss: 2.7001,\tval_loss: 2.2466\n",
            "32:\t[0s / 0s],\t\ttrain_loss: 2.7888,\tval_loss: 2.2109\n",
            "33:\t[0s / 0s],\t\ttrain_loss: 2.8693,\tval_loss: 2.1884\n",
            "34:\t[0s / 0s],\t\ttrain_loss: 2.7738,\tval_loss: 2.2381\n",
            "35:\t[0s / 0s],\t\ttrain_loss: 2.7832,\tval_loss: 2.3765\n",
            "36:\t[0s / 0s],\t\ttrain_loss: 2.7403,\tval_loss: 2.3937\n",
            "37:\t[0s / 0s],\t\ttrain_loss: 2.7542,\tval_loss: 2.3631\n",
            "CPU times: user 394 ms, sys: 9.99 ms, total: 404 ms\n",
            "Wall time: 416 ms\n"
          ],
          "name": "stdout"
        }
      ]
    },
    {
      "cell_type": "code",
      "metadata": {
        "colab": {
          "base_uri": "https://localhost:8080/",
          "height": 265
        },
        "id": "YavtY54vvDKl",
        "outputId": "7e322c77-af05-47db-b08f-c9fa1c71aaa5"
      },
      "source": [
        "_ = log.plot()"
      ],
      "execution_count": 18,
      "outputs": [
        {
          "output_type": "display_data",
          "data": {
            "image/png": "[encoded data removed]",
            "text/plain": [
              "<Figure size 432x288 with 1 Axes>"
            ]
          },
          "metadata": {
            "tags": [],
            "needs_background": "light"
          }
        }
      ]
    },
    {
      "cell_type": "code",
      "metadata": {
        "colab": {
          "base_uri": "https://localhost:8080/"
        },
        "id": "B-gkpXQhvFSV",
        "outputId": "6516a810-2693-43e4-f1f4-bf25ba5e1e2b"
      },
      "source": [
        "model.partial_log_likelihood(*val).mean()"
      ],
      "execution_count": 19,
      "outputs": [
        {
          "output_type": "execute_result",
          "data": {
            "text/plain": [
              "-2.1745712757110596"
            ]
          },
          "metadata": {
            "tags": []
          },
          "execution_count": 19
        }
      ]
    },
    {
      "cell_type": "code",
      "metadata": {
        "id": "8YHGOtDpvIN1"
      },
      "source": [
        "_ = model.compute_baseline_hazards()"
      ],
      "execution_count": 20,
      "outputs": []
    },
    {
      "cell_type": "code",
      "metadata": {
        "colab": {
          "base_uri": "https://localhost:8080/"
        },
        "id": "ilo-JivbvJ50",
        "outputId": "c0e1b828-098f-4b76-a36a-96e268d705b0"
      },
      "source": [
        "model.predict(x_test1[[0]])"
      ],
      "execution_count": 21,
      "outputs": [
        {
          "output_type": "execute_result",
          "data": {
            "text/plain": [
              "array([[-2.85135]], dtype=float32)"
            ]
          },
          "metadata": {
            "tags": []
          },
          "execution_count": 21
        }
      ]
    },
    {
      "cell_type": "code",
      "metadata": {
        "id": "dLc56tuxvPk3"
      },
      "source": [
        "surv = model.predict_surv_df(x_test1)"
      ],
      "execution_count": 22,
      "outputs": []
    },
    {
      "cell_type": "code",
      "metadata": {
        "colab": {
          "base_uri": "https://localhost:8080/",
          "height": 279
        },
        "id": "eMJZd3FgvV8b",
        "outputId": "a7b7b0c1-6b9b-43ea-fa60-cd1c1740c17a"
      },
      "source": [
        "surv.iloc[:, :5].plot()\n",
        "plt.ylabel('S(t | x)')\n",
        "_ = plt.xlabel('Time')"
      ],
      "execution_count": 23,
      "outputs": [
        {
          "output_type": "display_data",
          "data": {
            "image/png": "[encoded data removed]",
            "text/plain": [
              "<Figure size 432x288 with 1 Axes>"
            ]
          },
          "metadata": {
            "tags": [],
            "needs_background": "light"
          }
        }
      ]
    },
    {
      "cell_type": "code",
      "metadata": {
        "colab": {
          "base_uri": "https://localhost:8080/",
          "height": 370
        },
        "id": "EpgRi2sZvjZD",
        "outputId": "2fbfc1e4-d9f2-4187-caaa-1061148eef37"
      },
      "source": [
        "surv1 = model.predict_surv_df(x_test1)\n",
        "ev1 = EvalSurv(surv1, durations_test1, events_test1, censor_surv='km')\n",
        "print(ev1.concordance_td())\n",
        "print(ev1.concordance_td('adj_antolini'))\n",
        "time_grid = np.linspace(durations_test1.min(), durations_test1.max(), 100)\n",
        "_ = ev1.brier_score(time_grid).plot()\n",
        "print(ev1.integrated_brier_score(time_grid))"
      ],
      "execution_count": 24,
      "outputs": [
        {
          "output_type": "stream",
          "text": [
            "/usr/local/lib/python3.7/dist-packages/numba/np/ufunc/parallel.py:363: NumbaWarning: The TBB threading layer requires TBB version 2019.5 or later i.e., TBB_INTERFACE_VERSION >= 11005. Found TBB_INTERFACE_VERSION = 9107. The TBB threading layer is disabled.\n",
            "  warnings.warn(problem)\n"
          ],
          "name": "stderr"
        },
        {
          "output_type": "stream",
          "text": [
            "0.7484536082474227\n",
            "0.7484536082474227\n",
            "0.17195172334853334\n"
          ],
          "name": "stdout"
        },
        {
          "output_type": "display_data",
          "data": {
            "image/png": "[encoded data removed]",
            "text/plain": [
              "<Figure size 432x288 with 1 Axes>"
            ]
          },
          "metadata": {
            "tags": [],
            "needs_background": "light"
          }
        }
      ]
    },
    {
      "cell_type": "code",
      "metadata": {
        "colab": {
          "base_uri": "https://localhost:8080/",
          "height": 316
        },
        "id": "OSPl31Gzv3-d",
        "outputId": "e5f9f786-63c3-4ea0-b5d7-43ea2f13bea1"
      },
      "source": [
        "surv2 = model.predict_surv_df(x_test2)\n",
        "ev2 = EvalSurv(surv2, durations_test2, events_test2, censor_surv='km')\n",
        "print(ev2.concordance_td())\n",
        "print(ev2.concordance_td('adj_antolini'))\n",
        "time_grid = np.linspace(durations_test2.min(), durations_test2.max(), 200)\n",
        "_ = ev2.brier_score(time_grid).plot()\n",
        "print(ev2.integrated_brier_score(time_grid))"
      ],
      "execution_count": 25,
      "outputs": [
        {
          "output_type": "stream",
          "text": [
            "0.7049245432883241\n",
            "0.7049245432883241\n",
            "0.13397774327628542\n"
          ],
          "name": "stdout"
        },
        {
          "output_type": "display_data",
          "data": {
            "image/png": "[encoded data removed]",
            "text/plain": [
              "<Figure size 432x288 with 1 Axes>"
            ]
          },
          "metadata": {
            "tags": [],
            "needs_background": "light"
          }
        }
      ]
    },
    {
      "cell_type": "code",
      "metadata": {
        "colab": {
          "base_uri": "https://localhost:8080/",
          "height": 316
        },
        "id": "uFx_wlZKx6C6",
        "outputId": "f3dac33b-4698-4336-aeb7-42308e2110bd"
      },
      "source": [
        "durations_train, events_train = get_target(df_train)\n",
        "surv = model.predict_surv_df(x_train)\n",
        "ev = EvalSurv(surv, durations_train, events_train, censor_surv='km')\n",
        "print(ev.concordance_td())\n",
        "print(ev.concordance_td('adj_antolini'))\n",
        "time_grid = np.linspace(durations_train.min(), durations_train.max(), 200)\n",
        "_ = ev.brier_score(time_grid).plot()\n",
        "print(ev.integrated_brier_score(time_grid))"
      ],
      "execution_count": 26,
      "outputs": [
        {
          "output_type": "stream",
          "text": [
            "0.862403804868382\n",
            "0.862403804868382\n",
            "0.07388314827613886\n"
          ],
          "name": "stdout"
        },
        {
          "output_type": "display_data",
          "data": {
            "image/png": "[encoded data removed]",
            "text/plain": [
              "<Figure size 432x288 with 1 Axes>"
            ]
          },
          "metadata": {
            "tags": [],
            "needs_background": "light"
          }
        }
      ]
    },
    {
      "cell_type": "code",
      "metadata": {
        "colab": {
          "base_uri": "https://localhost:8080/",
          "height": 319
        },
        "id": "bN7wTFt6x-WF",
        "outputId": "e86c9709-eb20-42f2-9c39-7ac09756168b"
      },
      "source": [
        "durations_val, events_val = get_target(df_val)\n",
        "surv = model.predict_surv_df(x_val)\n",
        "ev = EvalSurv(surv, durations_val, events_val, censor_surv='km')\n",
        "print(ev.concordance_td())\n",
        "print(ev.concordance_td('adj_antolini'))\n",
        "time_grid = np.linspace(durations_val.min(), durations_val.max(), 200)\n",
        "_ = ev.brier_score(time_grid).plot()\n",
        "print(ev.integrated_brier_score(time_grid))"
      ],
      "execution_count": 27,
      "outputs": [
        {
          "output_type": "stream",
          "text": [
            "0.7515527950310559\n",
            "0.7515527950310559\n",
            "0.18875336177990218\n"
          ],
          "name": "stdout"
        },
        {
          "output_type": "display_data",
          "data": {
            "image/png": "[encoded data removed]",
            "text/plain": [
              "<Figure size 432x288 with 1 Axes>"
            ]
          },
          "metadata": {
            "tags": [],
            "needs_background": "light"
          }
        }
      ]
    },
    {
      "cell_type": "code",
      "metadata": {
        "colab": {
          "base_uri": "https://localhost:8080/"
        },
        "id": "42qSFiq96q_l",
        "outputId": "327b8a98-8061-4a38-b3b7-9fa6edf2577d"
      },
      "source": [
        "model.predict(x_val)"
      ],
      "execution_count": 28,
      "outputs": [
        {
          "output_type": "execute_result",
          "data": {
            "text/plain": [
              "array([[-1.9643924 ],\n",
              "       [-1.0095215 ],\n",
              "       [-0.04231635],\n",
              "       [-2.496239  ],\n",
              "       [-3.1868174 ],\n",
              "       [-2.9699726 ],\n",
              "       [-5.2882605 ],\n",
              "       [-1.8312371 ],\n",
              "       [-2.3953996 ],\n",
              "       [-4.731367  ],\n",
              "       [-8.700153  ],\n",
              "       [-1.0807579 ],\n",
              "       [-1.1397352 ],\n",
              "       [-0.6800099 ],\n",
              "       [-1.1299583 ],\n",
              "       [-3.6281838 ],\n",
              "       [-1.8839234 ],\n",
              "       [-0.24881357],\n",
              "       [-0.9704909 ],\n",
              "       [-0.88518083]], dtype=float32)"
            ]
          },
          "metadata": {
            "tags": []
          },
          "execution_count": 28
        }
      ]
    },
    {
      "cell_type": "code",
      "metadata": {
        "id": "wtlw5QJk7oKr"
      },
      "source": [
        "model.save_model_weights(path=\"/content/drive/MyDrive/colab-data/pfs.model\")"
      ],
      "execution_count": 29,
      "outputs": []
    },
    {
      "cell_type": "code",
      "metadata": {
        "id": "XP7iFCPd-xiz"
      },
      "source": [
        ""
      ],
      "execution_count": null,
      "outputs": []
    }
  ]
}