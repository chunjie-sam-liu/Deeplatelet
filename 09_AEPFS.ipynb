{
  "nbformat": 4,
  "nbformat_minor": 0,
  "metadata": {
    "colab": {
      "name": "09-AEPFS.ipynb",
      "provenance": [],
      "collapsed_sections": [],
      "authorship_tag": "ABX9TyPAOSNdVl7hQyOMyUDCubl5",
      "include_colab_link": true
    },
    "kernelspec": {
      "name": "python3",
      "display_name": "Python 3"
    }
  },
  "cells": [
    {
      "cell_type": "markdown",
      "metadata": {
        "id": "view-in-github",
        "colab_type": "text"
      },
      "source": [
        "<a href=\"https://colab.research.google.com/github/chunjie-sam-liu/TEP-prognosis/blob/main/09_AEPFS.ipynb\" target=\"_parent\"><img src=\"https://colab.research.google.com/assets/colab-badge.svg\" alt=\"Open In Colab\"/></a>"
      ]
    },
    {
      "cell_type": "code",
      "metadata": {
        "colab": {
          "base_uri": "https://localhost:8080/"
        },
        "id": "vUmFLv2xG-Cm",
        "outputId": "b1704d50-ee65-4cac-c5d4-5dfa16c6232e"
      },
      "source": [
        "! pip install torchtuples\n",
        "! pip install pycox\n",
        "! pip install hiddenlayer"
      ],
      "execution_count": null,
      "outputs": [
        {
          "output_type": "stream",
          "text": [
            "Collecting torchtuples\n",
            "\u001b[?25l  Downloading https://files.pythonhosted.org/packages/95/70/93eb42c0a46ef94b3885b8e5611a8019d00522a9ab7343d4ca25033afd44/torchtuples-0.2.0-py3-none-any.whl (41kB)\n",
            "\r\u001b[K     |███████▉                        | 10kB 12.6MB/s eta 0:00:01\r\u001b[K     |███████████████▊                | 20kB 9.6MB/s eta 0:00:01\r\u001b[K     |███████████████████████▋        | 30kB 8.0MB/s eta 0:00:01\r\u001b[K     |███████████████████████████████▌| 40kB 7.7MB/s eta 0:00:01\r\u001b[K     |████████████████████████████████| 51kB 4.1MB/s \n",
            "\u001b[?25hRequirement already satisfied: matplotlib>=3.0.3 in /usr/local/lib/python3.6/dist-packages (from torchtuples) (3.2.2)\n",
            "Requirement already satisfied: numpy>=1.15.4 in /usr/local/lib/python3.6/dist-packages (from torchtuples) (1.19.5)\n",
            "Requirement already satisfied: pandas>=0.24.2 in /usr/local/lib/python3.6/dist-packages (from torchtuples) (1.1.5)\n",
            "Requirement already satisfied: python-dateutil>=2.1 in /usr/local/lib/python3.6/dist-packages (from matplotlib>=3.0.3->torchtuples) (2.8.1)\n",
            "Requirement already satisfied: kiwisolver>=1.0.1 in /usr/local/lib/python3.6/dist-packages (from matplotlib>=3.0.3->torchtuples) (1.3.1)\n",
            "Requirement already satisfied: cycler>=0.10 in /usr/local/lib/python3.6/dist-packages (from matplotlib>=3.0.3->torchtuples) (0.10.0)\n",
            "Requirement already satisfied: pyparsing!=2.0.4,!=2.1.2,!=2.1.6,>=2.0.1 in /usr/local/lib/python3.6/dist-packages (from matplotlib>=3.0.3->torchtuples) (2.4.7)\n",
            "Requirement already satisfied: pytz>=2017.2 in /usr/local/lib/python3.6/dist-packages (from pandas>=0.24.2->torchtuples) (2018.9)\n",
            "Requirement already satisfied: six>=1.5 in /usr/local/lib/python3.6/dist-packages (from python-dateutil>=2.1->matplotlib>=3.0.3->torchtuples) (1.15.0)\n",
            "Installing collected packages: torchtuples\n",
            "Successfully installed torchtuples-0.2.0\n",
            "Collecting pycox\n",
            "\u001b[?25l  Downloading https://files.pythonhosted.org/packages/b6/b5/cb5f3b20c9f00843989490595830e24b45506394dc8be07d8d4db3639cf1/pycox-0.2.2-py3-none-any.whl (73kB)\n",
            "\u001b[K     |████████████████████████████████| 81kB 3.3MB/s \n",
            "\u001b[?25hRequirement already satisfied: feather-format>=0.4.0 in /usr/local/lib/python3.6/dist-packages (from pycox) (0.4.1)\n",
            "Requirement already satisfied: numba>=0.44 in /usr/local/lib/python3.6/dist-packages (from pycox) (0.51.2)\n",
            "Requirement already satisfied: torchtuples>=0.2.0 in /usr/local/lib/python3.6/dist-packages (from pycox) (0.2.0)\n",
            "Requirement already satisfied: requests>=2.22.0 in /usr/local/lib/python3.6/dist-packages (from pycox) (2.23.0)\n",
            "Requirement already satisfied: h5py>=2.9.0 in /usr/local/lib/python3.6/dist-packages (from pycox) (2.10.0)\n",
            "Collecting py7zr>=0.11.3\n",
            "\u001b[?25l  Downloading https://files.pythonhosted.org/packages/ce/90/c3b0190d9b720eea38138bb5ea03ecf2c8f67b359a3be1963e732d9350c0/py7zr-0.13.0-py3-none-any.whl (65kB)\n",
            "\u001b[K     |████████████████████████████████| 71kB 4.3MB/s \n",
            "\u001b[?25hRequirement already satisfied: scikit-learn>=0.21.2 in /usr/local/lib/python3.6/dist-packages (from pycox) (0.22.2.post1)\n",
            "Requirement already satisfied: pyarrow>=0.4.0 in /usr/local/lib/python3.6/dist-packages (from feather-format>=0.4.0->pycox) (0.14.1)\n",
            "Requirement already satisfied: numpy>=1.15 in /usr/local/lib/python3.6/dist-packages (from numba>=0.44->pycox) (1.19.5)\n",
            "Requirement already satisfied: llvmlite<0.35,>=0.34.0.dev0 in /usr/local/lib/python3.6/dist-packages (from numba>=0.44->pycox) (0.34.0)\n",
            "Requirement already satisfied: setuptools in /usr/local/lib/python3.6/dist-packages (from numba>=0.44->pycox) (53.0.0)\n",
            "Requirement already satisfied: matplotlib>=3.0.3 in /usr/local/lib/python3.6/dist-packages (from torchtuples>=0.2.0->pycox) (3.2.2)\n",
            "Requirement already satisfied: pandas>=0.24.2 in /usr/local/lib/python3.6/dist-packages (from torchtuples>=0.2.0->pycox) (1.1.5)\n",
            "Requirement already satisfied: certifi>=2017.4.17 in /usr/local/lib/python3.6/dist-packages (from requests>=2.22.0->pycox) (2020.12.5)\n",
            "Requirement already satisfied: idna<3,>=2.5 in /usr/local/lib/python3.6/dist-packages (from requests>=2.22.0->pycox) (2.10)\n",
            "Requirement already satisfied: chardet<4,>=3.0.2 in /usr/local/lib/python3.6/dist-packages (from requests>=2.22.0->pycox) (3.0.4)\n",
            "Requirement already satisfied: urllib3!=1.25.0,!=1.25.1,<1.26,>=1.21.1 in /usr/local/lib/python3.6/dist-packages (from requests>=2.22.0->pycox) (1.24.3)\n",
            "Requirement already satisfied: six in /usr/local/lib/python3.6/dist-packages (from h5py>=2.9.0->pycox) (1.15.0)\n",
            "Collecting multivolumefile<0.2.0,>=0.1.1\n",
            "  Downloading https://files.pythonhosted.org/packages/60/f6/49365b7037b027fdda13c33489b2a545101e37384c3b88110bf8ad50c64b/multivolumefile-0.1.4-py3-none-any.whl\n",
            "Collecting pycryptodome\n",
            "\u001b[?25l  Downloading https://files.pythonhosted.org/packages/ad/16/9627ab0493894a11c68e46000dbcc82f578c8ff06bc2980dcd016aea9bd3/pycryptodome-3.10.1-cp35-abi3-manylinux2010_x86_64.whl (1.9MB)\n",
            "\u001b[K     |████████████████████████████████| 1.9MB 7.6MB/s \n",
            "\u001b[?25hCollecting ppmd-cffi<0.4.0,>=0.3.1\n",
            "\u001b[?25l  Downloading https://files.pythonhosted.org/packages/6b/01/e71c6ed20455fb94b45c5c71c4ae3a99ba3a554359177a0086aa7d18281e/ppmd_cffi-0.3.3-cp36-cp36m-manylinux2014_x86_64.whl (122kB)\n",
            "\u001b[K     |████████████████████████████████| 122kB 20.5MB/s \n",
            "\u001b[?25hCollecting texttable\n",
            "  Downloading https://files.pythonhosted.org/packages/06/f5/46201c428aebe0eecfa83df66bf3e6caa29659dbac5a56ddfd83cae0d4a4/texttable-1.6.3-py2.py3-none-any.whl\n",
            "Collecting zstandard\n",
            "\u001b[?25l  Downloading https://files.pythonhosted.org/packages/d9/6a/5ec4fdf8b67ba8aff9b11f201b7dd34d6a06e3677f9ffba9510b3e20405c/zstandard-0.15.1-cp36-cp36m-manylinux2014_x86_64.whl (2.2MB)\n",
            "\u001b[K     |████████████████████████████████| 2.2MB 20.1MB/s \n",
            "\u001b[?25hRequirement already satisfied: importlib-metadata; python_version < \"3.8\" in /usr/local/lib/python3.6/dist-packages (from py7zr>=0.11.3->pycox) (3.4.0)\n",
            "Requirement already satisfied: scipy>=0.17.0 in /usr/local/lib/python3.6/dist-packages (from scikit-learn>=0.21.2->pycox) (1.4.1)\n",
            "Requirement already satisfied: joblib>=0.11 in /usr/local/lib/python3.6/dist-packages (from scikit-learn>=0.21.2->pycox) (1.0.0)\n",
            "Requirement already satisfied: pyparsing!=2.0.4,!=2.1.2,!=2.1.6,>=2.0.1 in /usr/local/lib/python3.6/dist-packages (from matplotlib>=3.0.3->torchtuples>=0.2.0->pycox) (2.4.7)\n",
            "Requirement already satisfied: kiwisolver>=1.0.1 in /usr/local/lib/python3.6/dist-packages (from matplotlib>=3.0.3->torchtuples>=0.2.0->pycox) (1.3.1)\n",
            "Requirement already satisfied: python-dateutil>=2.1 in /usr/local/lib/python3.6/dist-packages (from matplotlib>=3.0.3->torchtuples>=0.2.0->pycox) (2.8.1)\n",
            "Requirement already satisfied: cycler>=0.10 in /usr/local/lib/python3.6/dist-packages (from matplotlib>=3.0.3->torchtuples>=0.2.0->pycox) (0.10.0)\n",
            "Requirement already satisfied: pytz>=2017.2 in /usr/local/lib/python3.6/dist-packages (from pandas>=0.24.2->torchtuples>=0.2.0->pycox) (2018.9)\n",
            "Requirement already satisfied: cffi>=1.14.0 in /usr/local/lib/python3.6/dist-packages (from ppmd-cffi<0.4.0,>=0.3.1->py7zr>=0.11.3->pycox) (1.14.4)\n",
            "Requirement already satisfied: zipp>=0.5 in /usr/local/lib/python3.6/dist-packages (from importlib-metadata; python_version < \"3.8\"->py7zr>=0.11.3->pycox) (3.4.0)\n",
            "Requirement already satisfied: typing-extensions>=3.6.4; python_version < \"3.8\" in /usr/local/lib/python3.6/dist-packages (from importlib-metadata; python_version < \"3.8\"->py7zr>=0.11.3->pycox) (3.7.4.3)\n",
            "Requirement already satisfied: pycparser in /usr/local/lib/python3.6/dist-packages (from cffi>=1.14.0->ppmd-cffi<0.4.0,>=0.3.1->py7zr>=0.11.3->pycox) (2.20)\n",
            "Installing collected packages: multivolumefile, pycryptodome, ppmd-cffi, texttable, zstandard, py7zr, pycox\n",
            "Successfully installed multivolumefile-0.1.4 ppmd-cffi-0.3.3 py7zr-0.13.0 pycox-0.2.2 pycryptodome-3.10.1 texttable-1.6.3 zstandard-0.15.1\n",
            "Collecting hiddenlayer\n",
            "  Downloading https://files.pythonhosted.org/packages/64/f8/ea51d02695a4dc397f3b2487fae462cd3f2ce707c54250e0fdfaec2ff92e/hiddenlayer-0.3-py3-none-any.whl\n",
            "Installing collected packages: hiddenlayer\n",
            "Successfully installed hiddenlayer-0.3\n"
          ],
          "name": "stdout"
        }
      ]
    },
    {
      "cell_type": "code",
      "metadata": {
        "id": "7v8uaB0mHK__"
      },
      "source": [
        "import numpy as np\n",
        "import feather\n",
        "import matplotlib.pyplot as plt\n",
        "\n",
        "# For preprocessing\n",
        "from sklearn.preprocessing import StandardScaler\n",
        "from sklearn_pandas import DataFrameMapper\n",
        "\n",
        "import torch\n",
        "from torch import nn\n",
        "import torch.nn.functional as F\n",
        "from torch.nn.modules.linear import Linear\n",
        "import torchtuples as tt\n",
        "\n",
        "from pycox.models import LogisticHazard\n",
        "from pycox.models.loss import NLLLogistiHazardLoss\n",
        "from pycox.evaluation import EvalSurv\n",
        "\n",
        "import os"
      ],
      "execution_count": null,
      "outputs": []
    },
    {
      "cell_type": "code",
      "metadata": {
        "id": "uPKHuhrLHMRX"
      },
      "source": [
        "# random\n",
        "np.random.seed(1234)\n",
        "_ = torch.manual_seed(1234)"
      ],
      "execution_count": null,
      "outputs": []
    },
    {
      "cell_type": "code",
      "metadata": {
        "id": "pRaWhy3iHNZV"
      },
      "source": [
        "class NetAESurv(nn.Module):\n",
        "    def __init__(self, in_features, encoded_features, out_features):\n",
        "        super().__init__()\n",
        "\n",
        "        # Encoder\n",
        "        self.encoder = nn.Sequential(\n",
        "            nn.Linear(in_features, 2048),\n",
        "            nn.ReLU(),\n",
        "            nn.Linear(2048, 1024),\n",
        "            nn.ReLU(),\n",
        "            nn.Linear(1024, 512),\n",
        "            nn.ReLU(),\n",
        "            nn.Linear(512, 256),\n",
        "            nn.ReLU(),\n",
        "            nn.Linear(256, 128),\n",
        "            nn.ReLU(),\n",
        "            nn.Linear(128, encoded_features),\n",
        "        )\n",
        "\n",
        "        # Decoder\n",
        "        self.decoder = nn.Sequential(\n",
        "            nn.Linear(encoded_features, 128),\n",
        "            nn.ReLU(),\n",
        "            nn.Linear(128, 256),\n",
        "            nn.ReLU(),\n",
        "            nn.Linear(256, 512),\n",
        "            nn.ReLU(),\n",
        "            nn.Linear(512, 1024),\n",
        "            nn.ReLU(),\n",
        "            nn.Linear(1024, 2048),\n",
        "            nn.ReLU(),\n",
        "            nn.Linear(2048, in_features),\n",
        "        )\n",
        "\n",
        "        # Full connection\n",
        "        self.survnet = nn.Sequential(\n",
        "            nn.Linear(encoded_features, 64),\n",
        "            nn.ReLU(),\n",
        "            nn.Linear(64, 64),\n",
        "            nn.ReLU(),\n",
        "            nn.Linear(64, 64),\n",
        "            nn.ReLU(),\n",
        "            nn.Linear(64, out_features),\n",
        "        )\n",
        "\n",
        "    def forward(self, input):\n",
        "        encoded = self.encoder(input)\n",
        "        decoded = self.decoder(encoded)\n",
        "        phi = self.survnet(encoded)\n",
        "        return phi, decoded\n",
        "\n",
        "    def predict(self, input):\n",
        "        encoded = self.encoder(input)\n",
        "        return self.survnet(encoded)\n"
      ],
      "execution_count": null,
      "outputs": []
    },
    {
      "cell_type": "code",
      "metadata": {
        "id": "hWqlSItqHSZ9"
      },
      "source": [
        "class LossAELogHaz(nn.Module):\n",
        "    def __init__(self, alpha):\n",
        "        super().__init__()\n",
        "        assert (alpha >= 0) and (alpha <= 1), \"Need `alpha` in [0, 1].\"\n",
        "        self.alpha = alpha\n",
        "        self.loss_surv = NLLLogistiHazardLoss()\n",
        "        self.loss_ae = nn.MSELoss()\n",
        "\n",
        "    def forward(self, phi, decoded, target_loghaz, target_ae):\n",
        "        idx_durations, events = target_loghaz\n",
        "        loss_surv = self.loss_surv(phi, idx_durations, events)\n",
        "        loss_ae = self.loss_ae(decoded, target_ae)\n",
        "        return self.alpha * loss_surv + (1 - self.alpha) * loss_ae\n"
      ],
      "execution_count": null,
      "outputs": []
    },
    {
      "cell_type": "code",
      "metadata": {
        "id": "wtvMCMTXHUX9"
      },
      "source": [
        "def load_data(filepath):\n",
        "    df = feather.read_dataframe(source=filepath)\n",
        "    df_train = df.loc[df.oc == \"OC521\"].drop(columns=[\"barcode\", \"oc\"], axis=1)\n",
        "    df_val = df.loc[df.oc == \"OC44\"].drop(columns=[\"barcode\", \"oc\"], axis=1)\n",
        "    df_test1 = df.loc[df.oc == \"OC79\"].drop(columns=[\"barcode\", \"oc\"], axis=1)\n",
        "    df_test2 = df.loc[df.oc == \"OC172\"].drop(columns=[\"barcode\", \"oc\"], axis=1)\n",
        "    return df_train, df_val, df_test1, df_test2\n",
        "\n",
        "\n",
        "def get_target(df):\n",
        "    return (df[\"duration\"].values, df[\"event\"].values)\n",
        "\n",
        "\n",
        "def transform_features(df_train, df_val, df_test1, df_test2):\n",
        "    columns = df_train.columns\n",
        "    columns = columns[: len(columns) - 2]\n",
        "    standardize = [([col], StandardScaler()) for col in columns]\n",
        "\n",
        "    x_mapper = DataFrameMapper(standardize)\n",
        "\n",
        "    x_train = x_mapper.fit_transform(df_train).astype(\"float32\")\n",
        "    x_val = x_mapper.transform(df_val).astype(\"float32\")\n",
        "    x_test1 = x_mapper.transform(df_test1).astype(\"float32\")\n",
        "    x_test2 = x_mapper.transform(df_test2).astype(\"float32\")\n",
        "\n",
        "    return x_train, x_val, x_test1, x_test2\n",
        "\n",
        "\n",
        "def transform_labels(df_train, df_val, nd=10):\n",
        "    num_durations = nd\n",
        "    labtrans = LogisticHazard.label_transform(num_durations)\n",
        "    y_train_surv = labtrans.fit_transform(*get_target(df_train))\n",
        "    y_val_surv = labtrans.transform(*get_target(df_val))\n",
        "\n",
        "    return y_train_surv, y_val_surv, labtrans\n"
      ],
      "execution_count": null,
      "outputs": []
    },
    {
      "cell_type": "code",
      "metadata": {
        "colab": {
          "base_uri": "https://localhost:8080/"
        },
        "id": "cCdvN7GqHVcl",
        "outputId": "baf97ba6-bf94-4ec2-ff5a-40de661d6026"
      },
      "source": [
        "from google.colab import drive\n",
        "drive.mount('/content/drive')"
      ],
      "execution_count": null,
      "outputs": [
        {
          "output_type": "stream",
          "text": [
            "Mounted at /content/drive\n"
          ],
          "name": "stdout"
        }
      ]
    },
    {
      "cell_type": "code",
      "metadata": {
        "id": "UiPes9NzHa2W"
      },
      "source": [
        "filepath=\"/content/drive/MyDrive/colab-data/total434.pfs.se.norm.coxph.feather\""
      ],
      "execution_count": null,
      "outputs": []
    },
    {
      "cell_type": "code",
      "metadata": {
        "id": "dG-Pg1oaHuSm"
      },
      "source": [
        "# load data\n",
        "df_train, df_val, df_test1, df_test2 = load_data(filepath)\n",
        "# transform features\n",
        "x_train, x_val, x_test1, x_test2 = transform_features(df_train, df_val, df_test1, df_test2)\n",
        "# transform labels\n",
        "y_train_surv, y_val_surv, labtrans = transform_labels(df_train, df_val)"
      ],
      "execution_count": null,
      "outputs": []
    },
    {
      "cell_type": "code",
      "metadata": {
        "id": "2uWaBNc3Hvym"
      },
      "source": [
        "# make train and validation datasets with tuplefy\n",
        "train = tt.tuplefy(x_train, (y_train_surv, x_train))\n",
        "val = tt.tuplefy(x_val, (y_val_surv, x_val))"
      ],
      "execution_count": null,
      "outputs": []
    },
    {
      "cell_type": "code",
      "metadata": {
        "id": "gqxTY918HyZ2"
      },
      "source": [
        "durations_test1, events_test1 = get_target(df_test1)\n",
        "durations_test2, events_test2 = get_target(df_test2)"
      ],
      "execution_count": null,
      "outputs": []
    },
    {
      "cell_type": "code",
      "metadata": {
        "id": "XM7kgvfiH0nm"
      },
      "source": [
        "# set arch\n",
        "in_features = x_train.shape[1]\n",
        "encoded_features = 64\n",
        "out_features = labtrans.out_features\n",
        "netaesurv = NetAESurv(in_features, encoded_features, out_features)"
      ],
      "execution_count": null,
      "outputs": []
    },
    {
      "cell_type": "code",
      "metadata": {
        "colab": {
          "base_uri": "https://localhost:8080/"
        },
        "id": "W62937pLH1Te",
        "outputId": "a7e9156a-0551-4a86-f983-84b238de5b19"
      },
      "source": [
        "netaesurv"
      ],
      "execution_count": null,
      "outputs": [
        {
          "output_type": "execute_result",
          "data": {
            "text/plain": [
              "NetAESurv(\n",
              "  (encoder): Sequential(\n",
              "    (0): Linear(in_features=41, out_features=2048, bias=True)\n",
              "    (1): ReLU()\n",
              "    (2): Linear(in_features=2048, out_features=1024, bias=True)\n",
              "    (3): ReLU()\n",
              "    (4): Linear(in_features=1024, out_features=512, bias=True)\n",
              "    (5): ReLU()\n",
              "    (6): Linear(in_features=512, out_features=256, bias=True)\n",
              "    (7): ReLU()\n",
              "    (8): Linear(in_features=256, out_features=128, bias=True)\n",
              "    (9): ReLU()\n",
              "    (10): Linear(in_features=128, out_features=64, bias=True)\n",
              "  )\n",
              "  (decoder): Sequential(\n",
              "    (0): Linear(in_features=64, out_features=128, bias=True)\n",
              "    (1): ReLU()\n",
              "    (2): Linear(in_features=128, out_features=256, bias=True)\n",
              "    (3): ReLU()\n",
              "    (4): Linear(in_features=256, out_features=512, bias=True)\n",
              "    (5): ReLU()\n",
              "    (6): Linear(in_features=512, out_features=1024, bias=True)\n",
              "    (7): ReLU()\n",
              "    (8): Linear(in_features=1024, out_features=2048, bias=True)\n",
              "    (9): ReLU()\n",
              "    (10): Linear(in_features=2048, out_features=41, bias=True)\n",
              "  )\n",
              "  (survnet): Sequential(\n",
              "    (0): Linear(in_features=64, out_features=64, bias=True)\n",
              "    (1): ReLU()\n",
              "    (2): Linear(in_features=64, out_features=64, bias=True)\n",
              "    (3): ReLU()\n",
              "    (4): Linear(in_features=64, out_features=64, bias=True)\n",
              "    (5): ReLU()\n",
              "    (6): Linear(in_features=64, out_features=10, bias=True)\n",
              "  )\n",
              ")"
            ]
          },
          "metadata": {
            "tags": []
          },
          "execution_count": 20
        }
      ]
    },
    {
      "cell_type": "code",
      "metadata": {
        "colab": {
          "base_uri": "https://localhost:8080/"
        },
        "id": "3w1XfjgNH2rq",
        "outputId": "9e30cd1f-4c57-4806-cdf0-d03abfd0ac56"
      },
      "source": [
        "from torchsummary import summary\n",
        "summary(model=netaesurv, input_size=(1, in_features))"
      ],
      "execution_count": null,
      "outputs": [
        {
          "output_type": "stream",
          "text": [
            "----------------------------------------------------------------\n",
            "        Layer (type)               Output Shape         Param #\n",
            "================================================================\n",
            "            Linear-1              [-1, 1, 2048]          86,016\n",
            "              ReLU-2              [-1, 1, 2048]               0\n",
            "            Linear-3              [-1, 1, 1024]       2,098,176\n",
            "              ReLU-4              [-1, 1, 1024]               0\n",
            "            Linear-5               [-1, 1, 512]         524,800\n",
            "              ReLU-6               [-1, 1, 512]               0\n",
            "            Linear-7               [-1, 1, 256]         131,328\n",
            "              ReLU-8               [-1, 1, 256]               0\n",
            "            Linear-9               [-1, 1, 128]          32,896\n",
            "             ReLU-10               [-1, 1, 128]               0\n",
            "           Linear-11                [-1, 1, 64]           8,256\n",
            "           Linear-12               [-1, 1, 128]           8,320\n",
            "             ReLU-13               [-1, 1, 128]               0\n",
            "           Linear-14               [-1, 1, 256]          33,024\n",
            "             ReLU-15               [-1, 1, 256]               0\n",
            "           Linear-16               [-1, 1, 512]         131,584\n",
            "             ReLU-17               [-1, 1, 512]               0\n",
            "           Linear-18              [-1, 1, 1024]         525,312\n",
            "             ReLU-19              [-1, 1, 1024]               0\n",
            "           Linear-20              [-1, 1, 2048]       2,099,200\n",
            "             ReLU-21              [-1, 1, 2048]               0\n",
            "           Linear-22                [-1, 1, 41]          84,009\n",
            "           Linear-23                [-1, 1, 64]           4,160\n",
            "             ReLU-24                [-1, 1, 64]               0\n",
            "           Linear-25                [-1, 1, 64]           4,160\n",
            "             ReLU-26                [-1, 1, 64]               0\n",
            "           Linear-27                [-1, 1, 64]           4,160\n",
            "             ReLU-28                [-1, 1, 64]               0\n",
            "           Linear-29                [-1, 1, 10]             650\n",
            "================================================================\n",
            "Total params: 5,776,051\n",
            "Trainable params: 5,776,051\n",
            "Non-trainable params: 0\n",
            "----------------------------------------------------------------\n",
            "Input size (MB): 0.00\n",
            "Forward/backward pass size (MB): 0.12\n",
            "Params size (MB): 22.03\n",
            "Estimated Total Size (MB): 22.16\n",
            "----------------------------------------------------------------\n"
          ],
          "name": "stdout"
        }
      ]
    },
    {
      "cell_type": "code",
      "metadata": {
        "colab": {
          "base_uri": "https://localhost:8080/",
          "height": 258
        },
        "id": "_9L2maikH3-0",
        "outputId": "ba5e592e-2c0f-4dd0-ff0c-d2d57dd348f3"
      },
      "source": [
        "import hiddenlayer as hl\n",
        "hl.build_graph(netaesurv, torch.zeros([1, in_features]))"
      ],
      "execution_count": null,
      "outputs": [
        {
          "output_type": "execute_result",
          "data": {
            "text/plain": [
              "<hiddenlayer.graph.Graph at 0x7f9f9e434cf8>"
            ],
            "image/svg+xml": "<?xml version=\"1.0\" encoding=\"UTF-8\" standalone=\"no\"?>\n<!DOCTYPE svg PUBLIC \"-//W3C//DTD SVG 1.1//EN\"\n \"http://www.w3.org/Graphics/SVG/1.1/DTD/svg11.dtd\">\n<!-- Generated by graphviz version 2.40.1 (20161225.0304)\n -->\n<!-- Title: %3 Pages: 1 -->\n<svg width=\"504pt\" height=\"178pt\"\n viewBox=\"0.00 0.00 504.00 178.00\" xmlns=\"http://www.w3.org/2000/svg\" xmlns:xlink=\"http://www.w3.org/1999/xlink\">\n<g id=\"graph0\" class=\"graph\" transform=\"scale(1 1) rotate(0) translate(72 142)\">\n<title>%3</title>\n<polygon fill=\"#ffffff\" stroke=\"transparent\" points=\"-72,36 -72,-142 432,-142 432,36 -72,36\"/>\n<!-- /outputs/43 -->\n<g id=\"node1\" class=\"node\">\n<title>/outputs/43</title>\n<polygon fill=\"#e8e8e8\" stroke=\"#000000\" points=\"162,-71 108,-71 108,-35 162,-35 162,-71\"/>\n<text text-anchor=\"start\" x=\"122\" y=\"-50\" font-family=\"Times\" font-size=\"10.00\" fill=\"#000000\">Linear</text>\n</g>\n<!-- 2000838093213848375 -->\n<g id=\"node4\" class=\"node\">\n<title>2000838093213848375</title>\n<polygon fill=\"#e8e8e8\" stroke=\"#000000\" points=\"270,-106 198,-106 198,-62 270,-62 270,-106\"/>\n<text text-anchor=\"start\" x=\"206\" y=\"-90\" font-family=\"Times\" font-size=\"10.00\" fill=\"#000000\">Linear &gt; Relu</text>\n<text text-anchor=\"start\" x=\"255\" y=\"-69\" font-family=\"Times\" font-size=\"10.00\" fill=\"#000000\">x3</text>\n</g>\n<!-- /outputs/43&#45;&gt;2000838093213848375 -->\n<g id=\"edge1\" class=\"edge\">\n<title>/outputs/43&#45;&gt;2000838093213848375</title>\n<path fill=\"none\" stroke=\"#000000\" d=\"M162.0522,-61.4709C170.1245,-63.9986 179.2072,-66.8427 188.1316,-69.6372\"/>\n<polygon fill=\"#000000\" stroke=\"#000000\" points=\"187.1092,-72.9845 197.6982,-72.6328 189.201,-66.3044 187.1092,-72.9845\"/>\n</g>\n<!-- 16215656072497970328 -->\n<g id=\"node6\" class=\"node\">\n<title>16215656072497970328</title>\n<polygon fill=\"#e8e8e8\" stroke=\"#000000\" points=\"270,-44 198,-44 198,0 270,0 270,-44\"/>\n<text text-anchor=\"start\" x=\"206\" y=\"-28\" font-family=\"Times\" font-size=\"10.00\" fill=\"#000000\">Linear &gt; Relu</text>\n<text text-anchor=\"start\" x=\"255\" y=\"-7\" font-family=\"Times\" font-size=\"10.00\" fill=\"#000000\">x5</text>\n</g>\n<!-- /outputs/43&#45;&gt;16215656072497970328 -->\n<g id=\"edge4\" class=\"edge\">\n<title>/outputs/43&#45;&gt;16215656072497970328</title>\n<path fill=\"none\" stroke=\"#000000\" d=\"M162.0522,-44.5291C170.1245,-42.0014 179.2072,-39.1573 188.1316,-36.3628\"/>\n<polygon fill=\"#000000\" stroke=\"#000000\" points=\"189.201,-39.6956 197.6982,-33.3672 187.1092,-33.0155 189.201,-39.6956\"/>\n</g>\n<!-- /outputs/54 -->\n<g id=\"node2\" class=\"node\">\n<title>/outputs/54</title>\n<polygon fill=\"#e8e8e8\" stroke=\"#000000\" points=\"360,-40 306,-40 306,-4 360,-4 360,-40\"/>\n<text text-anchor=\"start\" x=\"320\" y=\"-19\" font-family=\"Times\" font-size=\"10.00\" fill=\"#000000\">Linear</text>\n</g>\n<!-- /outputs/61 -->\n<g id=\"node3\" class=\"node\">\n<title>/outputs/61</title>\n<polygon fill=\"#e8e8e8\" stroke=\"#000000\" points=\"360,-102 306,-102 306,-66 360,-66 360,-102\"/>\n<text text-anchor=\"start\" x=\"320\" y=\"-81\" font-family=\"Times\" font-size=\"10.00\" fill=\"#000000\">Linear</text>\n</g>\n<!-- 2000838093213848375&#45;&gt;/outputs/61 -->\n<g id=\"edge2\" class=\"edge\">\n<title>2000838093213848375&#45;&gt;/outputs/61</title>\n<path fill=\"none\" stroke=\"#000000\" d=\"M270.0213,-84C278.3402,-84 287.2088,-84 295.5856,-84\"/>\n<polygon fill=\"#000000\" stroke=\"#000000\" points=\"295.8548,-87.5001 305.8547,-84 295.8547,-80.5001 295.8548,-87.5001\"/>\n</g>\n<!-- 4943347808524701207 -->\n<g id=\"node5\" class=\"node\">\n<title>4943347808524701207</title>\n<polygon fill=\"#e8e8e8\" stroke=\"#000000\" points=\"72,-75 0,-75 0,-31 72,-31 72,-75\"/>\n<text text-anchor=\"start\" x=\"8\" y=\"-59\" font-family=\"Times\" font-size=\"10.00\" fill=\"#000000\">Linear &gt; Relu</text>\n<text text-anchor=\"start\" x=\"57\" y=\"-38\" font-family=\"Times\" font-size=\"10.00\" fill=\"#000000\">x5</text>\n</g>\n<!-- 4943347808524701207&#45;&gt;/outputs/43 -->\n<g id=\"edge3\" class=\"edge\">\n<title>4943347808524701207&#45;&gt;/outputs/43</title>\n<path fill=\"none\" stroke=\"#000000\" d=\"M72.0213,-53C80.3402,-53 89.2088,-53 97.5856,-53\"/>\n<polygon fill=\"#000000\" stroke=\"#000000\" points=\"97.8548,-56.5001 107.8547,-53 97.8547,-49.5001 97.8548,-56.5001\"/>\n</g>\n<!-- 16215656072497970328&#45;&gt;/outputs/54 -->\n<g id=\"edge5\" class=\"edge\">\n<title>16215656072497970328&#45;&gt;/outputs/54</title>\n<path fill=\"none\" stroke=\"#000000\" d=\"M270.0213,-22C278.3402,-22 287.2088,-22 295.5856,-22\"/>\n<polygon fill=\"#000000\" stroke=\"#000000\" points=\"295.8548,-25.5001 305.8547,-22 295.8547,-18.5001 295.8548,-25.5001\"/>\n</g>\n</g>\n</svg>\n"
          },
          "metadata": {
            "tags": []
          },
          "execution_count": 22
        }
      ]
    },
    {
      "cell_type": "code",
      "metadata": {
        "id": "bb_vPXKcH5jV"
      },
      "source": [
        "# loss\n",
        "loss = LossAELogHaz(0.6)"
      ],
      "execution_count": null,
      "outputs": []
    },
    {
      "cell_type": "code",
      "metadata": {
        "colab": {
          "base_uri": "https://localhost:8080/"
        },
        "id": "X5WP9GsdH7VV",
        "outputId": "33b735db-a8b7-4d35-8d3d-2c060967c69e"
      },
      "source": [
        "loss"
      ],
      "execution_count": null,
      "outputs": [
        {
          "output_type": "execute_result",
          "data": {
            "text/plain": [
              "LossAELogHaz(\n",
              "  (loss_surv): NLLLogistiHazardLoss()\n",
              "  (loss_ae): MSELoss()\n",
              ")"
            ]
          },
          "metadata": {
            "tags": []
          },
          "execution_count": 24
        }
      ]
    },
    {
      "cell_type": "code",
      "metadata": {
        "id": "znvancG6H8hC"
      },
      "source": [
        "# model\n",
        "model = LogisticHazard(net=netaesurv, optimizer=tt.optim.Adam(0.01), duration_index=labtrans.cuts, loss=loss)"
      ],
      "execution_count": null,
      "outputs": []
    },
    {
      "cell_type": "code",
      "metadata": {
        "colab": {
          "base_uri": "https://localhost:8080/"
        },
        "id": "8yAxE8rHH9lW",
        "outputId": "a95c1219-1379-4fdd-fca0-7c590ae7a9e2"
      },
      "source": [
        "# metrics\n",
        "metrics = dict(loss_surv=LossAELogHaz(1), loss_ae=LossAELogHaz(0))\n",
        "\n",
        "# callbacks\n",
        "callbacks = [tt.cb.EarlyStopping()]\n",
        "\n",
        "# cycling\n",
        "batch_size = 5\n",
        "epochs = 100\n",
        "\n",
        "# trainning model\n",
        "log = model.fit(\n",
        "    *train, batch_size=batch_size, epochs=epochs,  verbose=True, val_data=val, metrics=metrics\n",
        ")"
      ],
      "execution_count": null,
      "outputs": [
        {
          "output_type": "stream",
          "text": [
            "0:\t[5s / 5s],\t\ttrain_loss: 15.6712,\ttrain_loss_surv: 1.2815,\ttrain_loss_ae: 37.2556,\tval_loss: 1.3504,\tval_loss_surv: 1.4425,\tval_loss_ae: 1.2122\n",
            "1:\t[5s / 10s],\t\ttrain_loss: 1.1026,\ttrain_loss_surv: 1.1702,\ttrain_loss_ae: 1.0012,\tval_loss: 1.2969,\tval_loss_surv: 1.3557,\tval_loss_ae: 1.2088\n",
            "2:\t[4s / 15s],\t\ttrain_loss: 1.4798,\ttrain_loss_surv: 1.6035,\ttrain_loss_ae: 1.2942,\tval_loss: 1.2971,\tval_loss_surv: 1.3627,\tval_loss_ae: 1.1987\n",
            "3:\t[5s / 20s],\t\ttrain_loss: 1.0195,\ttrain_loss_surv: 1.0172,\ttrain_loss_ae: 1.0231,\tval_loss: 1.2715,\tval_loss_surv: 1.3303,\tval_loss_ae: 1.1833\n",
            "4:\t[5s / 25s],\t\ttrain_loss: 0.9832,\ttrain_loss_surv: 0.9938,\ttrain_loss_ae: 0.9673,\tval_loss: 1.2863,\tval_loss_surv: 1.3540,\tval_loss_ae: 1.1847\n",
            "5:\t[5s / 31s],\t\ttrain_loss: 0.9455,\ttrain_loss_surv: 0.9370,\ttrain_loss_ae: 0.9581,\tval_loss: 1.3218,\tval_loss_surv: 1.4087,\tval_loss_ae: 1.1914\n",
            "6:\t[5s / 36s],\t\ttrain_loss: 0.9893,\ttrain_loss_surv: 0.9546,\ttrain_loss_ae: 1.0413,\tval_loss: 1.3861,\tval_loss_surv: 1.5250,\tval_loss_ae: 1.1778\n",
            "7:\t[5s / 41s],\t\ttrain_loss: 0.9240,\ttrain_loss_surv: 0.8733,\ttrain_loss_ae: 1.0000,\tval_loss: 1.5303,\tval_loss_surv: 1.7542,\tval_loss_ae: 1.1945\n",
            "8:\t[5s / 46s],\t\ttrain_loss: 0.8786,\ttrain_loss_surv: 0.8346,\ttrain_loss_ae: 0.9447,\tval_loss: 1.9950,\tval_loss_surv: 2.5365,\tval_loss_ae: 1.1829\n",
            "9:\t[5s / 51s],\t\ttrain_loss: 0.8701,\ttrain_loss_surv: 0.8256,\ttrain_loss_ae: 0.9369,\tval_loss: 1.6840,\tval_loss_surv: 2.0242,\tval_loss_ae: 1.1736\n",
            "10:\t[5s / 57s],\t\ttrain_loss: 0.8719,\ttrain_loss_surv: 0.8287,\ttrain_loss_ae: 0.9367,\tval_loss: 1.6463,\tval_loss_surv: 1.9520,\tval_loss_ae: 1.1878\n",
            "11:\t[8s / 1m:5s],\t\ttrain_loss: 0.8755,\ttrain_loss_surv: 0.8314,\ttrain_loss_ae: 0.9416,\tval_loss: 1.4729,\tval_loss_surv: 1.6526,\tval_loss_ae: 1.2033\n",
            "12:\t[10s / 1m:16s],\t\ttrain_loss: 0.8618,\ttrain_loss_surv: 0.8112,\ttrain_loss_ae: 0.9377,\tval_loss: 1.4876,\tval_loss_surv: 1.6899,\tval_loss_ae: 1.1840\n",
            "13:\t[12s / 1m:28s],\t\ttrain_loss: 0.8676,\ttrain_loss_surv: 0.8194,\ttrain_loss_ae: 0.9399,\tval_loss: 2.1062,\tval_loss_surv: 2.7254,\tval_loss_ae: 1.1775\n",
            "14:\t[12s / 1m:40s],\t\ttrain_loss: 0.8738,\ttrain_loss_surv: 0.8297,\ttrain_loss_ae: 0.9398,\tval_loss: 1.6336,\tval_loss_surv: 1.9353,\tval_loss_ae: 1.1810\n",
            "15:\t[11s / 1m:52s],\t\ttrain_loss: 0.8534,\ttrain_loss_surv: 0.7978,\ttrain_loss_ae: 0.9368,\tval_loss: 1.4747,\tval_loss_surv: 1.6752,\tval_loss_ae: 1.1740\n",
            "16:\t[10s / 2m:3s],\t\ttrain_loss: 0.8523,\ttrain_loss_surv: 0.7971,\ttrain_loss_ae: 0.9352,\tval_loss: 2.6666,\tval_loss_surv: 3.6638,\tval_loss_ae: 1.1708\n",
            "17:\t[10s / 2m:13s],\t\ttrain_loss: 0.8437,\ttrain_loss_surv: 0.7854,\ttrain_loss_ae: 0.9311,\tval_loss: 1.8741,\tval_loss_surv: 2.3375,\tval_loss_ae: 1.1790\n",
            "18:\t[10s / 2m:23s],\t\ttrain_loss: 0.8354,\ttrain_loss_surv: 0.7689,\ttrain_loss_ae: 0.9352,\tval_loss: 1.7853,\tval_loss_surv: 2.1890,\tval_loss_ae: 1.1797\n",
            "19:\t[10s / 2m:33s],\t\ttrain_loss: 0.8236,\ttrain_loss_surv: 0.7495,\ttrain_loss_ae: 0.9346,\tval_loss: 2.1472,\tval_loss_surv: 2.7933,\tval_loss_ae: 1.1779\n",
            "20:\t[10s / 2m:43s],\t\ttrain_loss: 0.8254,\ttrain_loss_surv: 0.7534,\ttrain_loss_ae: 0.9333,\tval_loss: 1.7412,\tval_loss_surv: 2.1166,\tval_loss_ae: 1.1780\n",
            "21:\t[10s / 2m:53s],\t\ttrain_loss: 0.8169,\ttrain_loss_surv: 0.7409,\ttrain_loss_ae: 0.9308,\tval_loss: 2.0939,\tval_loss_surv: 2.7009,\tval_loss_ae: 1.1833\n",
            "22:\t[9s / 3m:3s],\t\ttrain_loss: 0.8145,\ttrain_loss_surv: 0.7347,\ttrain_loss_ae: 0.9343,\tval_loss: 1.7692,\tval_loss_surv: 2.1631,\tval_loss_ae: 1.1784\n",
            "23:\t[9s / 3m:13s],\t\ttrain_loss: 0.8138,\ttrain_loss_surv: 0.7357,\ttrain_loss_ae: 0.9310,\tval_loss: 1.9708,\tval_loss_surv: 2.4969,\tval_loss_ae: 1.1816\n",
            "24:\t[9s / 3m:23s],\t\ttrain_loss: 0.8139,\ttrain_loss_surv: 0.7369,\ttrain_loss_ae: 0.9294,\tval_loss: 2.0129,\tval_loss_surv: 2.5669,\tval_loss_ae: 1.1818\n",
            "25:\t[10s / 3m:33s],\t\ttrain_loss: 0.8320,\ttrain_loss_surv: 0.7651,\ttrain_loss_ae: 0.9324,\tval_loss: 3.3346,\tval_loss_surv: 4.7700,\tval_loss_ae: 1.1814\n",
            "26:\t[9s / 3m:43s],\t\ttrain_loss: 0.9116,\ttrain_loss_surv: 0.8964,\ttrain_loss_ae: 0.9343,\tval_loss: 1.3531,\tval_loss_surv: 1.4605,\tval_loss_ae: 1.1919\n",
            "27:\t[9s / 3m:53s],\t\ttrain_loss: 0.8902,\ttrain_loss_surv: 0.8557,\ttrain_loss_ae: 0.9421,\tval_loss: 1.3438,\tval_loss_surv: 1.4414,\tval_loss_ae: 1.1974\n",
            "28:\t[9s / 4m:3s],\t\ttrain_loss: 0.8386,\ttrain_loss_surv: 0.7758,\ttrain_loss_ae: 0.9328,\tval_loss: 1.3550,\tval_loss_surv: 1.4686,\tval_loss_ae: 1.1846\n",
            "29:\t[9s / 4m:13s],\t\ttrain_loss: 0.8077,\ttrain_loss_surv: 0.7287,\ttrain_loss_ae: 0.9263,\tval_loss: 1.4568,\tval_loss_surv: 1.6382,\tval_loss_ae: 1.1846\n",
            "30:\t[9s / 4m:23s],\t\ttrain_loss: 0.8061,\ttrain_loss_surv: 0.7256,\ttrain_loss_ae: 0.9269,\tval_loss: 1.5817,\tval_loss_surv: 1.8488,\tval_loss_ae: 1.1810\n",
            "31:\t[9s / 4m:33s],\t\ttrain_loss: 0.8063,\ttrain_loss_surv: 0.7222,\ttrain_loss_ae: 0.9325,\tval_loss: 1.4751,\tval_loss_surv: 1.6683,\tval_loss_ae: 1.1854\n",
            "32:\t[10s / 4m:43s],\t\ttrain_loss: 0.8200,\ttrain_loss_surv: 0.7446,\ttrain_loss_ae: 0.9330,\tval_loss: 1.6261,\tval_loss_surv: 1.9231,\tval_loss_ae: 1.1806\n",
            "33:\t[10s / 4m:53s],\t\ttrain_loss: 0.7959,\ttrain_loss_surv: 0.7047,\ttrain_loss_ae: 0.9326,\tval_loss: 1.5591,\tval_loss_surv: 1.8073,\tval_loss_ae: 1.1868\n",
            "34:\t[10s / 5m:3s],\t\ttrain_loss: 0.8005,\ttrain_loss_surv: 0.7125,\ttrain_loss_ae: 0.9326,\tval_loss: 1.9345,\tval_loss_surv: 2.4337,\tval_loss_ae: 1.1857\n",
            "35:\t[9s / 5m:13s],\t\ttrain_loss: 0.8009,\ttrain_loss_surv: 0.7117,\ttrain_loss_ae: 0.9349,\tval_loss: 1.4787,\tval_loss_surv: 1.6789,\tval_loss_ae: 1.1783\n",
            "36:\t[9s / 5m:22s],\t\ttrain_loss: 0.7988,\ttrain_loss_surv: 0.7119,\ttrain_loss_ae: 0.9291,\tval_loss: 1.8216,\tval_loss_surv: 2.2474,\tval_loss_ae: 1.1828\n",
            "37:\t[9s / 5m:32s],\t\ttrain_loss: 0.7815,\ttrain_loss_surv: 0.6799,\ttrain_loss_ae: 0.9339,\tval_loss: 1.5503,\tval_loss_surv: 1.7975,\tval_loss_ae: 1.1793\n",
            "38:\t[10s / 5m:42s],\t\ttrain_loss: 0.7674,\ttrain_loss_surv: 0.6580,\ttrain_loss_ae: 0.9314,\tval_loss: 1.6326,\tval_loss_surv: 1.9356,\tval_loss_ae: 1.1779\n",
            "39:\t[10s / 5m:52s],\t\ttrain_loss: 0.7645,\ttrain_loss_surv: 0.6545,\ttrain_loss_ae: 0.9296,\tval_loss: 1.6653,\tval_loss_surv: 1.9893,\tval_loss_ae: 1.1792\n",
            "40:\t[9s / 6m:2s],\t\ttrain_loss: 0.7750,\ttrain_loss_surv: 0.6715,\ttrain_loss_ae: 0.9302,\tval_loss: 1.9394,\tval_loss_surv: 2.4441,\tval_loss_ae: 1.1823\n",
            "41:\t[9s / 6m:12s],\t\ttrain_loss: 0.7784,\ttrain_loss_surv: 0.6770,\ttrain_loss_ae: 0.9306,\tval_loss: 1.7032,\tval_loss_surv: 2.0463,\tval_loss_ae: 1.1886\n",
            "42:\t[9s / 6m:22s],\t\ttrain_loss: 0.7980,\ttrain_loss_surv: 0.7071,\ttrain_loss_ae: 0.9345,\tval_loss: 1.6654,\tval_loss_surv: 1.9865,\tval_loss_ae: 1.1838\n",
            "43:\t[9s / 6m:32s],\t\ttrain_loss: 0.7904,\ttrain_loss_surv: 0.6971,\ttrain_loss_ae: 0.9304,\tval_loss: 1.7772,\tval_loss_surv: 2.1690,\tval_loss_ae: 1.1894\n",
            "44:\t[11s / 6m:44s],\t\ttrain_loss: 0.7690,\ttrain_loss_surv: 0.6606,\ttrain_loss_ae: 0.9317,\tval_loss: 1.7208,\tval_loss_surv: 2.0775,\tval_loss_ae: 1.1858\n",
            "45:\t[10s / 6m:54s],\t\ttrain_loss: 0.7584,\ttrain_loss_surv: 0.6413,\ttrain_loss_ae: 0.9339,\tval_loss: 1.8585,\tval_loss_surv: 2.3022,\tval_loss_ae: 1.1929\n",
            "46:\t[9s / 7m:4s],\t\ttrain_loss: 0.7533,\ttrain_loss_surv: 0.6370,\ttrain_loss_ae: 0.9277,\tval_loss: 2.0291,\tval_loss_surv: 2.5851,\tval_loss_ae: 1.1950\n",
            "47:\t[9s / 7m:14s],\t\ttrain_loss: 0.7561,\ttrain_loss_surv: 0.6412,\ttrain_loss_ae: 0.9286,\tval_loss: 1.9608,\tval_loss_surv: 2.4721,\tval_loss_ae: 1.1939\n",
            "48:\t[9s / 7m:24s],\t\ttrain_loss: 0.8262,\ttrain_loss_surv: 0.7528,\ttrain_loss_ae: 0.9364,\tval_loss: 1.7657,\tval_loss_surv: 2.1329,\tval_loss_ae: 1.2149\n",
            "49:\t[9s / 7m:33s],\t\ttrain_loss: 0.8234,\ttrain_loss_surv: 0.7447,\ttrain_loss_ae: 0.9415,\tval_loss: 1.5952,\tval_loss_surv: 1.8658,\tval_loss_ae: 1.1894\n",
            "50:\t[9s / 7m:43s],\t\ttrain_loss: 0.7810,\ttrain_loss_surv: 0.6828,\ttrain_loss_ae: 0.9282,\tval_loss: 1.6073,\tval_loss_surv: 1.8879,\tval_loss_ae: 1.1866\n",
            "51:\t[10s / 7m:53s],\t\ttrain_loss: 0.8046,\ttrain_loss_surv: 0.7183,\ttrain_loss_ae: 0.9341,\tval_loss: 1.5019,\tval_loss_surv: 1.7100,\tval_loss_ae: 1.1897\n",
            "52:\t[9s / 8m:3s],\t\ttrain_loss: 0.7950,\ttrain_loss_surv: 0.7016,\ttrain_loss_ae: 0.9350,\tval_loss: 1.5207,\tval_loss_surv: 1.7335,\tval_loss_ae: 1.2016\n",
            "53:\t[9s / 8m:13s],\t\ttrain_loss: 0.8072,\ttrain_loss_surv: 0.7245,\ttrain_loss_ae: 0.9312,\tval_loss: 1.5059,\tval_loss_surv: 1.7077,\tval_loss_ae: 1.2033\n",
            "54:\t[9s / 8m:23s],\t\ttrain_loss: 0.7821,\ttrain_loss_surv: 0.6851,\ttrain_loss_ae: 0.9276,\tval_loss: 1.5592,\tval_loss_surv: 1.8116,\tval_loss_ae: 1.1806\n",
            "55:\t[10s / 8m:33s],\t\ttrain_loss: 0.7710,\ttrain_loss_surv: 0.6661,\ttrain_loss_ae: 0.9284,\tval_loss: 1.7958,\tval_loss_surv: 2.2000,\tval_loss_ae: 1.1896\n",
            "56:\t[9s / 8m:43s],\t\ttrain_loss: 0.7671,\ttrain_loss_surv: 0.6574,\ttrain_loss_ae: 0.9316,\tval_loss: 1.5502,\tval_loss_surv: 1.7988,\tval_loss_ae: 1.1772\n",
            "57:\t[9s / 8m:53s],\t\ttrain_loss: 0.7645,\ttrain_loss_surv: 0.6537,\ttrain_loss_ae: 0.9305,\tval_loss: 1.8415,\tval_loss_surv: 2.2787,\tval_loss_ae: 1.1857\n",
            "58:\t[9s / 9m:3s],\t\ttrain_loss: 0.7654,\ttrain_loss_surv: 0.6576,\ttrain_loss_ae: 0.9272,\tval_loss: 1.7727,\tval_loss_surv: 2.1607,\tval_loss_ae: 1.1908\n",
            "59:\t[10s / 9m:13s],\t\ttrain_loss: 0.8210,\ttrain_loss_surv: 0.7425,\ttrain_loss_ae: 0.9388,\tval_loss: 1.5682,\tval_loss_surv: 1.8140,\tval_loss_ae: 1.1994\n",
            "60:\t[9s / 9m:23s],\t\ttrain_loss: 0.8146,\ttrain_loss_surv: 0.7237,\ttrain_loss_ae: 0.9510,\tval_loss: 1.6509,\tval_loss_surv: 1.9573,\tval_loss_ae: 1.1914\n",
            "61:\t[9s / 9m:33s],\t\ttrain_loss: 0.8653,\ttrain_loss_surv: 0.8141,\ttrain_loss_ae: 0.9421,\tval_loss: 1.5717,\tval_loss_surv: 1.8152,\tval_loss_ae: 1.2065\n",
            "62:\t[9s / 9m:43s],\t\ttrain_loss: 0.8474,\ttrain_loss_surv: 0.7827,\ttrain_loss_ae: 0.9444,\tval_loss: 1.6530,\tval_loss_surv: 1.9581,\tval_loss_ae: 1.1953\n",
            "63:\t[9s / 9m:53s],\t\ttrain_loss: 0.7953,\ttrain_loss_surv: 0.6994,\ttrain_loss_ae: 0.9393,\tval_loss: 1.5103,\tval_loss_surv: 1.7270,\tval_loss_ae: 1.1853\n",
            "64:\t[9s / 10m:3s],\t\ttrain_loss: 0.8125,\ttrain_loss_surv: 0.7299,\ttrain_loss_ae: 0.9365,\tval_loss: 1.7186,\tval_loss_surv: 2.0767,\tval_loss_ae: 1.1815\n",
            "65:\t[9s / 10m:13s],\t\ttrain_loss: 0.7866,\ttrain_loss_surv: 0.6882,\ttrain_loss_ae: 0.9343,\tval_loss: 1.5439,\tval_loss_surv: 1.7775,\tval_loss_ae: 1.1934\n",
            "66:\t[9s / 10m:23s],\t\ttrain_loss: 0.8738,\ttrain_loss_surv: 0.8323,\ttrain_loss_ae: 0.9360,\tval_loss: 1.8814,\tval_loss_surv: 2.3436,\tval_loss_ae: 1.1882\n",
            "67:\t[9s / 10m:32s],\t\ttrain_loss: 0.8277,\ttrain_loss_surv: 0.7404,\ttrain_loss_ae: 0.9586,\tval_loss: 1.7050,\tval_loss_surv: 2.0449,\tval_loss_ae: 1.1952\n",
            "68:\t[9s / 10m:42s],\t\ttrain_loss: 0.8282,\ttrain_loss_surv: 0.7486,\ttrain_loss_ae: 0.9476,\tval_loss: 1.6880,\tval_loss_surv: 2.0233,\tval_loss_ae: 1.1851\n",
            "69:\t[9s / 10m:52s],\t\ttrain_loss: 0.7821,\ttrain_loss_surv: 0.6782,\ttrain_loss_ae: 0.9379,\tval_loss: 1.9362,\tval_loss_surv: 2.4387,\tval_loss_ae: 1.1824\n",
            "70:\t[9s / 11m:2s],\t\ttrain_loss: 0.7734,\ttrain_loss_surv: 0.6674,\ttrain_loss_ae: 0.9323,\tval_loss: 1.6356,\tval_loss_surv: 1.9388,\tval_loss_ae: 1.1808\n",
            "71:\t[9s / 11m:12s],\t\ttrain_loss: 0.7734,\ttrain_loss_surv: 0.6671,\ttrain_loss_ae: 0.9329,\tval_loss: 1.6516,\tval_loss_surv: 1.9636,\tval_loss_ae: 1.1836\n",
            "72:\t[9s / 11m:22s],\t\ttrain_loss: 0.7612,\ttrain_loss_surv: 0.6437,\ttrain_loss_ae: 0.9375,\tval_loss: 1.5729,\tval_loss_surv: 1.8311,\tval_loss_ae: 1.1857\n",
            "73:\t[9s / 11m:32s],\t\ttrain_loss: 0.7582,\ttrain_loss_surv: 0.6428,\ttrain_loss_ae: 0.9312,\tval_loss: 1.6091,\tval_loss_surv: 1.8933,\tval_loss_ae: 1.1829\n",
            "74:\t[9s / 11m:42s],\t\ttrain_loss: 0.7771,\ttrain_loss_surv: 0.6712,\ttrain_loss_ae: 0.9359,\tval_loss: 1.5893,\tval_loss_surv: 1.8572,\tval_loss_ae: 1.1876\n",
            "75:\t[9s / 11m:51s],\t\ttrain_loss: 0.7715,\ttrain_loss_surv: 0.6595,\ttrain_loss_ae: 0.9394,\tval_loss: 1.5779,\tval_loss_surv: 1.8404,\tval_loss_ae: 1.1842\n",
            "76:\t[9s / 12m:1s],\t\ttrain_loss: 0.7613,\ttrain_loss_surv: 0.6477,\ttrain_loss_ae: 0.9317,\tval_loss: 1.8163,\tval_loss_surv: 2.2391,\tval_loss_ae: 1.1820\n",
            "77:\t[9s / 12m:11s],\t\ttrain_loss: 0.7649,\ttrain_loss_surv: 0.6532,\ttrain_loss_ae: 0.9325,\tval_loss: 1.6309,\tval_loss_surv: 1.9293,\tval_loss_ae: 1.1833\n",
            "78:\t[9s / 12m:21s],\t\ttrain_loss: 0.7565,\ttrain_loss_surv: 0.6401,\ttrain_loss_ae: 0.9311,\tval_loss: 1.7288,\tval_loss_surv: 2.0906,\tval_loss_ae: 1.1860\n",
            "79:\t[9s / 12m:31s],\t\ttrain_loss: 0.7675,\ttrain_loss_surv: 0.6586,\ttrain_loss_ae: 0.9308,\tval_loss: 1.7178,\tval_loss_surv: 2.0716,\tval_loss_ae: 1.1870\n",
            "80:\t[10s / 12m:41s],\t\ttrain_loss: 0.7846,\ttrain_loss_surv: 0.6856,\ttrain_loss_ae: 0.9332,\tval_loss: 1.6932,\tval_loss_surv: 2.0298,\tval_loss_ae: 1.1883\n",
            "81:\t[9s / 12m:51s],\t\ttrain_loss: 0.7863,\ttrain_loss_surv: 0.6882,\ttrain_loss_ae: 0.9336,\tval_loss: 2.2408,\tval_loss_surv: 2.9429,\tval_loss_ae: 1.1877\n",
            "82:\t[9s / 13m:0s],\t\ttrain_loss: 0.8162,\ttrain_loss_surv: 0.7412,\ttrain_loss_ae: 0.9288,\tval_loss: 1.5363,\tval_loss_surv: 1.7702,\tval_loss_ae: 1.1855\n",
            "83:\t[9s / 13m:10s],\t\ttrain_loss: 0.8157,\ttrain_loss_surv: 0.7384,\ttrain_loss_ae: 0.9316,\tval_loss: 1.5922,\tval_loss_surv: 1.8645,\tval_loss_ae: 1.1837\n",
            "84:\t[9s / 13m:20s],\t\ttrain_loss: 0.8202,\ttrain_loss_surv: 0.7467,\ttrain_loss_ae: 0.9304,\tval_loss: 1.5412,\tval_loss_surv: 1.7797,\tval_loss_ae: 1.1833\n",
            "85:\t[9s / 13m:30s],\t\ttrain_loss: 0.8139,\ttrain_loss_surv: 0.7355,\ttrain_loss_ae: 0.9315,\tval_loss: 1.5741,\tval_loss_surv: 1.8348,\tval_loss_ae: 1.1831\n",
            "86:\t[9s / 13m:40s],\t\ttrain_loss: 0.8162,\ttrain_loss_surv: 0.7380,\ttrain_loss_ae: 0.9336,\tval_loss: 1.5668,\tval_loss_surv: 1.8210,\tval_loss_ae: 1.1855\n",
            "87:\t[9s / 13m:50s],\t\ttrain_loss: 0.8405,\ttrain_loss_surv: 0.7786,\ttrain_loss_ae: 0.9333,\tval_loss: 1.8409,\tval_loss_surv: 2.2745,\tval_loss_ae: 1.1906\n",
            "88:\t[9s / 13m:59s],\t\ttrain_loss: 0.9240,\ttrain_loss_surv: 0.9111,\ttrain_loss_ae: 0.9433,\tval_loss: 1.7612,\tval_loss_surv: 2.1376,\tval_loss_ae: 1.1967\n",
            "89:\t[9s / 14m:9s],\t\ttrain_loss: 0.8625,\ttrain_loss_surv: 0.8071,\ttrain_loss_ae: 0.9455,\tval_loss: 1.4235,\tval_loss_surv: 1.5759,\tval_loss_ae: 1.1949\n",
            "90:\t[9s / 14m:19s],\t\ttrain_loss: 7.4025,\ttrain_loss_surv: 1.3153,\ttrain_loss_ae: 16.5332,\tval_loss: 1.4681,\tval_loss_surv: 1.6036,\tval_loss_ae: 1.2648\n",
            "91:\t[9s / 14m:29s],\t\ttrain_loss: 1.1603,\ttrain_loss_surv: 1.2457,\ttrain_loss_ae: 1.0323,\tval_loss: 1.3873,\tval_loss_surv: 1.5055,\tval_loss_ae: 1.2099\n",
            "92:\t[9s / 14m:38s],\t\ttrain_loss: 1.1003,\ttrain_loss_surv: 1.1619,\ttrain_loss_ae: 1.0079,\tval_loss: 1.4824,\tval_loss_surv: 1.6633,\tval_loss_ae: 1.2112\n",
            "93:\t[9s / 14m:48s],\t\ttrain_loss: 1.1002,\ttrain_loss_surv: 1.1611,\ttrain_loss_ae: 1.0089,\tval_loss: 1.4344,\tval_loss_surv: 1.5834,\tval_loss_ae: 1.2108\n",
            "94:\t[9s / 14m:58s],\t\ttrain_loss: 1.1076,\ttrain_loss_surv: 1.1729,\ttrain_loss_ae: 1.0095,\tval_loss: 1.5058,\tval_loss_surv: 1.7031,\tval_loss_ae: 1.2098\n",
            "95:\t[9s / 15m:8s],\t\ttrain_loss: 1.0989,\ttrain_loss_surv: 1.1608,\ttrain_loss_ae: 1.0061,\tval_loss: 1.4505,\tval_loss_surv: 1.6107,\tval_loss_ae: 1.2104\n",
            "96:\t[9s / 15m:18s],\t\ttrain_loss: 1.1011,\ttrain_loss_surv: 1.1636,\ttrain_loss_ae: 1.0074,\tval_loss: 1.4768,\tval_loss_surv: 1.6552,\tval_loss_ae: 1.2092\n",
            "97:\t[9s / 15m:28s],\t\ttrain_loss: 1.0988,\ttrain_loss_surv: 1.1614,\ttrain_loss_ae: 1.0049,\tval_loss: 1.4314,\tval_loss_surv: 1.5791,\tval_loss_ae: 1.2097\n",
            "98:\t[9s / 15m:37s],\t\ttrain_loss: 1.1002,\ttrain_loss_surv: 1.1631,\ttrain_loss_ae: 1.0057,\tval_loss: 1.4790,\tval_loss_surv: 1.6589,\tval_loss_ae: 1.2092\n",
            "99:\t[9s / 15m:47s],\t\ttrain_loss: 1.0916,\ttrain_loss_surv: 1.1477,\ttrain_loss_ae: 1.0074,\tval_loss: 1.4433,\tval_loss_surv: 1.5987,\tval_loss_ae: 1.2101\n"
          ],
          "name": "stdout"
        }
      ]
    },
    {
      "cell_type": "code",
      "metadata": {
        "id": "rW8HAbmiH_P2"
      },
      "source": [
        "res = model.log.to_pandas()"
      ],
      "execution_count": null,
      "outputs": []
    },
    {
      "cell_type": "code",
      "metadata": {
        "colab": {
          "base_uri": "https://localhost:8080/",
          "height": 669
        },
        "id": "TASZlJ2WsgO-",
        "outputId": "468a17bc-879b-4398-f62a-6efe6c56e9ee"
      },
      "source": [
        "res.tail(20)"
      ],
      "execution_count": null,
      "outputs": [
        {
          "output_type": "execute_result",
          "data": {
            "text/html": [
              "<div>\n",
              "<style scoped>\n",
              "    .dataframe tbody tr th:only-of-type {\n",
              "        vertical-align: middle;\n",
              "    }\n",
              "\n",
              "    .dataframe tbody tr th {\n",
              "        vertical-align: top;\n",
              "    }\n",
              "\n",
              "    .dataframe thead th {\n",
              "        text-align: right;\n",
              "    }\n",
              "</style>\n",
              "<table border=\"1\" class=\"dataframe\">\n",
              "  <thead>\n",
              "    <tr style=\"text-align: right;\">\n",
              "      <th></th>\n",
              "      <th>train_loss</th>\n",
              "      <th>train_loss_surv</th>\n",
              "      <th>train_loss_ae</th>\n",
              "      <th>val_loss</th>\n",
              "      <th>val_loss_surv</th>\n",
              "      <th>val_loss_ae</th>\n",
              "    </tr>\n",
              "  </thead>\n",
              "  <tbody>\n",
              "    <tr>\n",
              "      <th>80</th>\n",
              "      <td>0.784632</td>\n",
              "      <td>0.685591</td>\n",
              "      <td>0.933195</td>\n",
              "      <td>1.693188</td>\n",
              "      <td>2.029793</td>\n",
              "      <td>1.188280</td>\n",
              "    </tr>\n",
              "    <tr>\n",
              "      <th>81</th>\n",
              "      <td>0.786339</td>\n",
              "      <td>0.688178</td>\n",
              "      <td>0.933581</td>\n",
              "      <td>2.240824</td>\n",
              "      <td>2.942878</td>\n",
              "      <td>1.187743</td>\n",
              "    </tr>\n",
              "    <tr>\n",
              "      <th>82</th>\n",
              "      <td>0.816228</td>\n",
              "      <td>0.741199</td>\n",
              "      <td>0.928770</td>\n",
              "      <td>1.536312</td>\n",
              "      <td>1.770220</td>\n",
              "      <td>1.185451</td>\n",
              "    </tr>\n",
              "    <tr>\n",
              "      <th>83</th>\n",
              "      <td>0.815712</td>\n",
              "      <td>0.738450</td>\n",
              "      <td>0.931606</td>\n",
              "      <td>1.592194</td>\n",
              "      <td>1.864546</td>\n",
              "      <td>1.183666</td>\n",
              "    </tr>\n",
              "    <tr>\n",
              "      <th>84</th>\n",
              "      <td>0.820192</td>\n",
              "      <td>0.746690</td>\n",
              "      <td>0.930445</td>\n",
              "      <td>1.541157</td>\n",
              "      <td>1.779745</td>\n",
              "      <td>1.183275</td>\n",
              "    </tr>\n",
              "    <tr>\n",
              "      <th>85</th>\n",
              "      <td>0.813926</td>\n",
              "      <td>0.735526</td>\n",
              "      <td>0.931526</td>\n",
              "      <td>1.574099</td>\n",
              "      <td>1.834756</td>\n",
              "      <td>1.183113</td>\n",
              "    </tr>\n",
              "    <tr>\n",
              "      <th>86</th>\n",
              "      <td>0.816225</td>\n",
              "      <td>0.737971</td>\n",
              "      <td>0.933606</td>\n",
              "      <td>1.566802</td>\n",
              "      <td>1.820986</td>\n",
              "      <td>1.185526</td>\n",
              "    </tr>\n",
              "    <tr>\n",
              "      <th>87</th>\n",
              "      <td>0.840452</td>\n",
              "      <td>0.778552</td>\n",
              "      <td>0.933301</td>\n",
              "      <td>1.840937</td>\n",
              "      <td>2.274508</td>\n",
              "      <td>1.190580</td>\n",
              "    </tr>\n",
              "    <tr>\n",
              "      <th>88</th>\n",
              "      <td>0.923987</td>\n",
              "      <td>0.911098</td>\n",
              "      <td>0.943321</td>\n",
              "      <td>1.761244</td>\n",
              "      <td>2.137611</td>\n",
              "      <td>1.196693</td>\n",
              "    </tr>\n",
              "    <tr>\n",
              "      <th>89</th>\n",
              "      <td>0.862469</td>\n",
              "      <td>0.807089</td>\n",
              "      <td>0.945538</td>\n",
              "      <td>1.423471</td>\n",
              "      <td>1.575873</td>\n",
              "      <td>1.194868</td>\n",
              "    </tr>\n",
              "    <tr>\n",
              "      <th>90</th>\n",
              "      <td>7.402477</td>\n",
              "      <td>1.315315</td>\n",
              "      <td>16.533220</td>\n",
              "      <td>1.468087</td>\n",
              "      <td>1.603621</td>\n",
              "      <td>1.264786</td>\n",
              "    </tr>\n",
              "    <tr>\n",
              "      <th>91</th>\n",
              "      <td>1.160327</td>\n",
              "      <td>1.245673</td>\n",
              "      <td>1.032307</td>\n",
              "      <td>1.387268</td>\n",
              "      <td>1.505509</td>\n",
              "      <td>1.209906</td>\n",
              "    </tr>\n",
              "    <tr>\n",
              "      <th>92</th>\n",
              "      <td>1.100284</td>\n",
              "      <td>1.161894</td>\n",
              "      <td>1.007870</td>\n",
              "      <td>1.482420</td>\n",
              "      <td>1.663262</td>\n",
              "      <td>1.211158</td>\n",
              "    </tr>\n",
              "    <tr>\n",
              "      <th>93</th>\n",
              "      <td>1.100208</td>\n",
              "      <td>1.161085</td>\n",
              "      <td>1.008893</td>\n",
              "      <td>1.434362</td>\n",
              "      <td>1.583397</td>\n",
              "      <td>1.210808</td>\n",
              "    </tr>\n",
              "    <tr>\n",
              "      <th>94</th>\n",
              "      <td>1.107572</td>\n",
              "      <td>1.172941</td>\n",
              "      <td>1.009520</td>\n",
              "      <td>1.505793</td>\n",
              "      <td>1.703106</td>\n",
              "      <td>1.209823</td>\n",
              "    </tr>\n",
              "    <tr>\n",
              "      <th>95</th>\n",
              "      <td>1.098914</td>\n",
              "      <td>1.160780</td>\n",
              "      <td>1.006115</td>\n",
              "      <td>1.450544</td>\n",
              "      <td>1.610665</td>\n",
              "      <td>1.210363</td>\n",
              "    </tr>\n",
              "    <tr>\n",
              "      <th>96</th>\n",
              "      <td>1.101127</td>\n",
              "      <td>1.163645</td>\n",
              "      <td>1.007350</td>\n",
              "      <td>1.476802</td>\n",
              "      <td>1.655200</td>\n",
              "      <td>1.209205</td>\n",
              "    </tr>\n",
              "    <tr>\n",
              "      <th>97</th>\n",
              "      <td>1.098768</td>\n",
              "      <td>1.161375</td>\n",
              "      <td>1.004857</td>\n",
              "      <td>1.431366</td>\n",
              "      <td>1.579118</td>\n",
              "      <td>1.209738</td>\n",
              "    </tr>\n",
              "    <tr>\n",
              "      <th>98</th>\n",
              "      <td>1.100179</td>\n",
              "      <td>1.163135</td>\n",
              "      <td>1.005746</td>\n",
              "      <td>1.479039</td>\n",
              "      <td>1.658915</td>\n",
              "      <td>1.209225</td>\n",
              "    </tr>\n",
              "    <tr>\n",
              "      <th>99</th>\n",
              "      <td>1.091551</td>\n",
              "      <td>1.147677</td>\n",
              "      <td>1.007361</td>\n",
              "      <td>1.443285</td>\n",
              "      <td>1.598744</td>\n",
              "      <td>1.210096</td>\n",
              "    </tr>\n",
              "  </tbody>\n",
              "</table>\n",
              "</div>"
            ],
            "text/plain": [
              "    train_loss  train_loss_surv  ...  val_loss_surv  val_loss_ae\n",
              "80    0.784632         0.685591  ...       2.029793     1.188280\n",
              "81    0.786339         0.688178  ...       2.942878     1.187743\n",
              "82    0.816228         0.741199  ...       1.770220     1.185451\n",
              "83    0.815712         0.738450  ...       1.864546     1.183666\n",
              "84    0.820192         0.746690  ...       1.779745     1.183275\n",
              "85    0.813926         0.735526  ...       1.834756     1.183113\n",
              "86    0.816225         0.737971  ...       1.820986     1.185526\n",
              "87    0.840452         0.778552  ...       2.274508     1.190580\n",
              "88    0.923987         0.911098  ...       2.137611     1.196693\n",
              "89    0.862469         0.807089  ...       1.575873     1.194868\n",
              "90    7.402477         1.315315  ...       1.603621     1.264786\n",
              "91    1.160327         1.245673  ...       1.505509     1.209906\n",
              "92    1.100284         1.161894  ...       1.663262     1.211158\n",
              "93    1.100208         1.161085  ...       1.583397     1.210808\n",
              "94    1.107572         1.172941  ...       1.703106     1.209823\n",
              "95    1.098914         1.160780  ...       1.610665     1.210363\n",
              "96    1.101127         1.163645  ...       1.655200     1.209205\n",
              "97    1.098768         1.161375  ...       1.579118     1.209738\n",
              "98    1.100179         1.163135  ...       1.658915     1.209225\n",
              "99    1.091551         1.147677  ...       1.598744     1.210096\n",
              "\n",
              "[20 rows x 6 columns]"
            ]
          },
          "metadata": {
            "tags": []
          },
          "execution_count": 28
        }
      ]
    },
    {
      "cell_type": "code",
      "metadata": {
        "colab": {
          "base_uri": "https://localhost:8080/",
          "height": 265
        },
        "id": "CbhkG9_LyOeI",
        "outputId": "8e13823d-1089-4702-db50-9072ca4754e0"
      },
      "source": [
        "_ = res[['train_loss', 'val_loss']].plot()"
      ],
      "execution_count": null,
      "outputs": [
        {
          "output_type": "display_data",
          "data": {
            "image/png": "[encoded data removed]",
            "text/plain": [
              "<Figure size 432x288 with 1 Axes>"
            ]
          },
          "metadata": {
            "tags": [],
            "needs_background": "light"
          }
        }
      ]
    },
    {
      "cell_type": "code",
      "metadata": {
        "colab": {
          "base_uri": "https://localhost:8080/",
          "height": 54
        },
        "id": "ePVAlSz3yRB_",
        "outputId": "b3842d35-3180-4013-de17-8198ac330669"
      },
      "source": [
        "_ = res[['train_loss_surv', 'val_loss_surv']].plot()"
      ],
      "execution_count": null,
      "outputs": [
        {
          "output_type": "display_data",
          "data": {
            "image/png": "[encoded data removed]",
            "text/plain": [
              "<Figure size 432x288 with 1 Axes>"
            ]
          },
          "metadata": {
            "tags": [],
            "needs_background": "light"
          }
        }
      ]
    },
    {
      "cell_type": "code",
      "metadata": {
        "colab": {
          "base_uri": "https://localhost:8080/",
          "height": 265
        },
        "id": "IHQnnn9MyTGv",
        "outputId": "32891b52-6d8c-4b24-ab05-4ac1e5183256"
      },
      "source": [
        "_ = res[['train_loss_ae', 'val_loss_ae']].plot()"
      ],
      "execution_count": null,
      "outputs": [
        {
          "output_type": "display_data",
          "data": {
            "image/png": "[encoded data removed]",
            "text/plain": [
              "<Figure size 432x288 with 1 Axes>"
            ]
          },
          "metadata": {
            "tags": [],
            "needs_background": "light"
          }
        }
      ]
    },
    {
      "cell_type": "code",
      "metadata": {
        "id": "93kduPP9yWl3"
      },
      "source": [
        "surv1 = model.interpolate(10).predict_surv_df(x_test1)\n",
        "surv2 = model.interpolate(10).predict_surv_df(x_test2)"
      ],
      "execution_count": null,
      "outputs": []
    },
    {
      "cell_type": "code",
      "metadata": {
        "colab": {
          "base_uri": "https://localhost:8080/",
          "height": 507
        },
        "id": "z9k3niH4yYXH",
        "outputId": "0dc5fde6-9a3f-41c3-b0a5-9aea17a30c99"
      },
      "source": [
        "surv1.iloc[:, :5]"
      ],
      "execution_count": null,
      "outputs": [
        {
          "output_type": "execute_result",
          "data": {
            "text/html": [
              "<div>\n",
              "<style scoped>\n",
              "    .dataframe tbody tr th:only-of-type {\n",
              "        vertical-align: middle;\n",
              "    }\n",
              "\n",
              "    .dataframe tbody tr th {\n",
              "        vertical-align: top;\n",
              "    }\n",
              "\n",
              "    .dataframe thead th {\n",
              "        text-align: right;\n",
              "    }\n",
              "</style>\n",
              "<table border=\"1\" class=\"dataframe\">\n",
              "  <thead>\n",
              "    <tr style=\"text-align: right;\">\n",
              "      <th></th>\n",
              "      <th>0</th>\n",
              "      <th>1</th>\n",
              "      <th>2</th>\n",
              "      <th>3</th>\n",
              "      <th>4</th>\n",
              "    </tr>\n",
              "  </thead>\n",
              "  <tbody>\n",
              "    <tr>\n",
              "      <th>0.000000</th>\n",
              "      <td>0.999971</td>\n",
              "      <td>0.999971</td>\n",
              "      <td>0.999971</td>\n",
              "      <td>0.999971</td>\n",
              "      <td>0.999971</td>\n",
              "    </tr>\n",
              "    <tr>\n",
              "      <th>1.455556</th>\n",
              "      <td>0.969731</td>\n",
              "      <td>0.969731</td>\n",
              "      <td>0.969731</td>\n",
              "      <td>0.969731</td>\n",
              "      <td>0.969731</td>\n",
              "    </tr>\n",
              "    <tr>\n",
              "      <th>2.911111</th>\n",
              "      <td>0.939491</td>\n",
              "      <td>0.939491</td>\n",
              "      <td>0.939491</td>\n",
              "      <td>0.939491</td>\n",
              "      <td>0.939491</td>\n",
              "    </tr>\n",
              "    <tr>\n",
              "      <th>4.366667</th>\n",
              "      <td>0.909252</td>\n",
              "      <td>0.909252</td>\n",
              "      <td>0.909252</td>\n",
              "      <td>0.909252</td>\n",
              "      <td>0.909252</td>\n",
              "    </tr>\n",
              "    <tr>\n",
              "      <th>5.822222</th>\n",
              "      <td>0.879012</td>\n",
              "      <td>0.879012</td>\n",
              "      <td>0.879012</td>\n",
              "      <td>0.879012</td>\n",
              "      <td>0.879012</td>\n",
              "    </tr>\n",
              "    <tr>\n",
              "      <th>...</th>\n",
              "      <td>...</td>\n",
              "      <td>...</td>\n",
              "      <td>...</td>\n",
              "      <td>...</td>\n",
              "      <td>...</td>\n",
              "    </tr>\n",
              "    <tr>\n",
              "      <th>125.177778</th>\n",
              "      <td>0.008178</td>\n",
              "      <td>0.008178</td>\n",
              "      <td>0.008178</td>\n",
              "      <td>0.008178</td>\n",
              "      <td>0.008178</td>\n",
              "    </tr>\n",
              "    <tr>\n",
              "      <th>126.633333</th>\n",
              "      <td>0.006146</td>\n",
              "      <td>0.006146</td>\n",
              "      <td>0.006146</td>\n",
              "      <td>0.006146</td>\n",
              "      <td>0.006146</td>\n",
              "    </tr>\n",
              "    <tr>\n",
              "      <th>128.088889</th>\n",
              "      <td>0.004114</td>\n",
              "      <td>0.004114</td>\n",
              "      <td>0.004114</td>\n",
              "      <td>0.004114</td>\n",
              "      <td>0.004114</td>\n",
              "    </tr>\n",
              "    <tr>\n",
              "      <th>129.544444</th>\n",
              "      <td>0.002082</td>\n",
              "      <td>0.002082</td>\n",
              "      <td>0.002082</td>\n",
              "      <td>0.002082</td>\n",
              "      <td>0.002082</td>\n",
              "    </tr>\n",
              "    <tr>\n",
              "      <th>131.000000</th>\n",
              "      <td>0.000050</td>\n",
              "      <td>0.000050</td>\n",
              "      <td>0.000050</td>\n",
              "      <td>0.000050</td>\n",
              "      <td>0.000050</td>\n",
              "    </tr>\n",
              "  </tbody>\n",
              "</table>\n",
              "<p>91 rows × 5 columns</p>\n",
              "</div>"
            ],
            "text/plain": [
              "                   0         1         2         3         4\n",
              "0.000000    0.999971  0.999971  0.999971  0.999971  0.999971\n",
              "1.455556    0.969731  0.969731  0.969731  0.969731  0.969731\n",
              "2.911111    0.939491  0.939491  0.939491  0.939491  0.939491\n",
              "4.366667    0.909252  0.909252  0.909252  0.909252  0.909252\n",
              "5.822222    0.879012  0.879012  0.879012  0.879012  0.879012\n",
              "...              ...       ...       ...       ...       ...\n",
              "125.177778  0.008178  0.008178  0.008178  0.008178  0.008178\n",
              "126.633333  0.006146  0.006146  0.006146  0.006146  0.006146\n",
              "128.088889  0.004114  0.004114  0.004114  0.004114  0.004114\n",
              "129.544444  0.002082  0.002082  0.002082  0.002082  0.002082\n",
              "131.000000  0.000050  0.000050  0.000050  0.000050  0.000050\n",
              "\n",
              "[91 rows x 5 columns]"
            ]
          },
          "metadata": {
            "tags": []
          },
          "execution_count": 33
        }
      ]
    },
    {
      "cell_type": "code",
      "metadata": {
        "colab": {
          "base_uri": "https://localhost:8080/",
          "height": 419
        },
        "id": "4SGj47IxyZrh",
        "outputId": "1bae9f98-1982-461d-dc9d-e598ee0a8a5f"
      },
      "source": [
        "surv2.iloc[:, :10]"
      ],
      "execution_count": null,
      "outputs": [
        {
          "output_type": "execute_result",
          "data": {
            "text/html": [
              "<div>\n",
              "<style scoped>\n",
              "    .dataframe tbody tr th:only-of-type {\n",
              "        vertical-align: middle;\n",
              "    }\n",
              "\n",
              "    .dataframe tbody tr th {\n",
              "        vertical-align: top;\n",
              "    }\n",
              "\n",
              "    .dataframe thead th {\n",
              "        text-align: right;\n",
              "    }\n",
              "</style>\n",
              "<table border=\"1\" class=\"dataframe\">\n",
              "  <thead>\n",
              "    <tr style=\"text-align: right;\">\n",
              "      <th></th>\n",
              "      <th>0</th>\n",
              "      <th>1</th>\n",
              "      <th>2</th>\n",
              "      <th>3</th>\n",
              "      <th>4</th>\n",
              "      <th>5</th>\n",
              "      <th>6</th>\n",
              "      <th>7</th>\n",
              "      <th>8</th>\n",
              "      <th>9</th>\n",
              "    </tr>\n",
              "  </thead>\n",
              "  <tbody>\n",
              "    <tr>\n",
              "      <th>0.000000</th>\n",
              "      <td>0.999971</td>\n",
              "      <td>0.999971</td>\n",
              "      <td>0.999971</td>\n",
              "      <td>0.999971</td>\n",
              "      <td>0.999971</td>\n",
              "      <td>0.999971</td>\n",
              "      <td>0.999971</td>\n",
              "      <td>0.999971</td>\n",
              "      <td>0.999971</td>\n",
              "      <td>0.999971</td>\n",
              "    </tr>\n",
              "    <tr>\n",
              "      <th>1.455556</th>\n",
              "      <td>0.969731</td>\n",
              "      <td>0.969731</td>\n",
              "      <td>0.969731</td>\n",
              "      <td>0.969731</td>\n",
              "      <td>0.969731</td>\n",
              "      <td>0.969731</td>\n",
              "      <td>0.969731</td>\n",
              "      <td>0.969731</td>\n",
              "      <td>0.969731</td>\n",
              "      <td>0.969731</td>\n",
              "    </tr>\n",
              "    <tr>\n",
              "      <th>2.911111</th>\n",
              "      <td>0.939491</td>\n",
              "      <td>0.939491</td>\n",
              "      <td>0.939491</td>\n",
              "      <td>0.939491</td>\n",
              "      <td>0.939491</td>\n",
              "      <td>0.939491</td>\n",
              "      <td>0.939491</td>\n",
              "      <td>0.939491</td>\n",
              "      <td>0.939491</td>\n",
              "      <td>0.939491</td>\n",
              "    </tr>\n",
              "    <tr>\n",
              "      <th>4.366667</th>\n",
              "      <td>0.909252</td>\n",
              "      <td>0.909252</td>\n",
              "      <td>0.909252</td>\n",
              "      <td>0.909252</td>\n",
              "      <td>0.909252</td>\n",
              "      <td>0.909252</td>\n",
              "      <td>0.909252</td>\n",
              "      <td>0.909252</td>\n",
              "      <td>0.909252</td>\n",
              "      <td>0.909252</td>\n",
              "    </tr>\n",
              "    <tr>\n",
              "      <th>5.822222</th>\n",
              "      <td>0.879012</td>\n",
              "      <td>0.879012</td>\n",
              "      <td>0.879012</td>\n",
              "      <td>0.879012</td>\n",
              "      <td>0.879012</td>\n",
              "      <td>0.879012</td>\n",
              "      <td>0.879012</td>\n",
              "      <td>0.879012</td>\n",
              "      <td>0.879012</td>\n",
              "      <td>0.879012</td>\n",
              "    </tr>\n",
              "    <tr>\n",
              "      <th>...</th>\n",
              "      <td>...</td>\n",
              "      <td>...</td>\n",
              "      <td>...</td>\n",
              "      <td>...</td>\n",
              "      <td>...</td>\n",
              "      <td>...</td>\n",
              "      <td>...</td>\n",
              "      <td>...</td>\n",
              "      <td>...</td>\n",
              "      <td>...</td>\n",
              "    </tr>\n",
              "    <tr>\n",
              "      <th>125.177778</th>\n",
              "      <td>0.008178</td>\n",
              "      <td>0.008178</td>\n",
              "      <td>0.008178</td>\n",
              "      <td>0.008178</td>\n",
              "      <td>0.008178</td>\n",
              "      <td>0.008178</td>\n",
              "      <td>0.008178</td>\n",
              "      <td>0.008178</td>\n",
              "      <td>0.008178</td>\n",
              "      <td>0.008178</td>\n",
              "    </tr>\n",
              "    <tr>\n",
              "      <th>126.633333</th>\n",
              "      <td>0.006146</td>\n",
              "      <td>0.006146</td>\n",
              "      <td>0.006146</td>\n",
              "      <td>0.006146</td>\n",
              "      <td>0.006146</td>\n",
              "      <td>0.006146</td>\n",
              "      <td>0.006146</td>\n",
              "      <td>0.006146</td>\n",
              "      <td>0.006146</td>\n",
              "      <td>0.006146</td>\n",
              "    </tr>\n",
              "    <tr>\n",
              "      <th>128.088889</th>\n",
              "      <td>0.004114</td>\n",
              "      <td>0.004114</td>\n",
              "      <td>0.004114</td>\n",
              "      <td>0.004114</td>\n",
              "      <td>0.004114</td>\n",
              "      <td>0.004114</td>\n",
              "      <td>0.004114</td>\n",
              "      <td>0.004114</td>\n",
              "      <td>0.004114</td>\n",
              "      <td>0.004114</td>\n",
              "    </tr>\n",
              "    <tr>\n",
              "      <th>129.544444</th>\n",
              "      <td>0.002082</td>\n",
              "      <td>0.002082</td>\n",
              "      <td>0.002082</td>\n",
              "      <td>0.002082</td>\n",
              "      <td>0.002082</td>\n",
              "      <td>0.002082</td>\n",
              "      <td>0.002082</td>\n",
              "      <td>0.002082</td>\n",
              "      <td>0.002082</td>\n",
              "      <td>0.002082</td>\n",
              "    </tr>\n",
              "    <tr>\n",
              "      <th>131.000000</th>\n",
              "      <td>0.000050</td>\n",
              "      <td>0.000050</td>\n",
              "      <td>0.000050</td>\n",
              "      <td>0.000050</td>\n",
              "      <td>0.000050</td>\n",
              "      <td>0.000050</td>\n",
              "      <td>0.000050</td>\n",
              "      <td>0.000050</td>\n",
              "      <td>0.000050</td>\n",
              "      <td>0.000050</td>\n",
              "    </tr>\n",
              "  </tbody>\n",
              "</table>\n",
              "<p>91 rows × 10 columns</p>\n",
              "</div>"
            ],
            "text/plain": [
              "                   0         1         2  ...         7         8         9\n",
              "0.000000    0.999971  0.999971  0.999971  ...  0.999971  0.999971  0.999971\n",
              "1.455556    0.969731  0.969731  0.969731  ...  0.969731  0.969731  0.969731\n",
              "2.911111    0.939491  0.939491  0.939491  ...  0.939491  0.939491  0.939491\n",
              "4.366667    0.909252  0.909252  0.909252  ...  0.909252  0.909252  0.909252\n",
              "5.822222    0.879012  0.879012  0.879012  ...  0.879012  0.879012  0.879012\n",
              "...              ...       ...       ...  ...       ...       ...       ...\n",
              "125.177778  0.008178  0.008178  0.008178  ...  0.008178  0.008178  0.008178\n",
              "126.633333  0.006146  0.006146  0.006146  ...  0.006146  0.006146  0.006146\n",
              "128.088889  0.004114  0.004114  0.004114  ...  0.004114  0.004114  0.004114\n",
              "129.544444  0.002082  0.002082  0.002082  ...  0.002082  0.002082  0.002082\n",
              "131.000000  0.000050  0.000050  0.000050  ...  0.000050  0.000050  0.000050\n",
              "\n",
              "[91 rows x 10 columns]"
            ]
          },
          "metadata": {
            "tags": []
          },
          "execution_count": 34
        }
      ]
    },
    {
      "cell_type": "code",
      "metadata": {
        "colab": {
          "base_uri": "https://localhost:8080/",
          "height": 279
        },
        "id": "NpbfmaV_ybrX",
        "outputId": "91889f00-f262-42bc-8835-444236fa6de3"
      },
      "source": [
        "surv1.iloc[:, :1].plot(drawstyle='steps-post')\n",
        "plt.ylabel('S(t | x)')\n",
        "_ = plt.xlabel('Time')"
      ],
      "execution_count": null,
      "outputs": [
        {
          "output_type": "display_data",
          "data": {
            "image/png": "[encoded data removed]",
            "text/plain": [
              "<Figure size 432x288 with 1 Axes>"
            ]
          },
          "metadata": {
            "tags": [],
            "needs_background": "light"
          }
        }
      ]
    },
    {
      "cell_type": "code",
      "metadata": {
        "colab": {
          "base_uri": "https://localhost:8080/",
          "height": 54
        },
        "id": "Mdg0qqQUydZT",
        "outputId": "66960ecd-e12c-443a-8832-f128e4f084d6"
      },
      "source": [
        "surv2.iloc[:, :1].plot(drawstyle='steps-post')\n",
        "plt.ylabel('S(t | x)')\n",
        "_ = plt.xlabel('Time')"
      ],
      "execution_count": null,
      "outputs": [
        {
          "output_type": "display_data",
          "data": {
            "image/png": "[encoded data removed]",
            "text/plain": [
              "<Figure size 432x288 with 1 Axes>"
            ]
          },
          "metadata": {
            "tags": [],
            "needs_background": "light"
          }
        }
      ]
    },
    {
      "cell_type": "code",
      "metadata": {
        "colab": {
          "base_uri": "https://localhost:8080/"
        },
        "id": "HHVxooMxyfW3",
        "outputId": "757c9878-61e8-41fb-cafc-05acd6d33320"
      },
      "source": [
        "model.predict(x_test1[:2])"
      ],
      "execution_count": null,
      "outputs": [
        {
          "output_type": "execute_result",
          "data": {
            "text/plain": [
              "array([[-10.427992  ,  -0.83587277,  -0.51593745,   0.3160803 ,\n",
              "         -0.35261053,   0.8643018 ,  -0.5676364 ,  -6.173911  ,\n",
              "         -5.9846725 ,   6.006667  ],\n",
              "       [-10.427992  ,  -0.83587277,  -0.51593745,   0.3160803 ,\n",
              "         -0.35261053,   0.8643018 ,  -0.5676364 ,  -6.173911  ,\n",
              "         -5.9846725 ,   6.006667  ]], dtype=float32)"
            ]
          },
          "metadata": {
            "tags": []
          },
          "execution_count": 37
        }
      ]
    },
    {
      "cell_type": "code",
      "metadata": {
        "colab": {
          "base_uri": "https://localhost:8080/"
        },
        "id": "fU2RXHy0ygz3",
        "outputId": "876dcabf-34df-4e6d-952c-e8ed79165843"
      },
      "source": [
        "model.predict_net(x_test1[:1])"
      ],
      "execution_count": null,
      "outputs": [
        {
          "output_type": "execute_result",
          "data": {
            "text/plain": [
              "(array([[-10.427991  ,  -0.83587277,  -0.51593745,   0.31608033,\n",
              "          -0.35261047,   0.8643018 ,  -0.5676364 ,  -6.173911  ,\n",
              "          -5.9846725 ,   6.006667  ]], dtype=float32),\n",
              " array([[ 0.0367692 , -0.01741931, -0.00726779,  0.01332553,  0.00598496,\n",
              "          0.07035309, -0.02499136,  0.03521502,  0.02661629,  0.0040535 ,\n",
              "         -0.00961292, -0.00908348,  0.03685755,  0.00149958, -0.00962301,\n",
              "          0.03415236, -0.000754  , -0.00828171, -0.01337377,  0.0215282 ,\n",
              "         -0.04127207,  0.01196919,  0.01714903, -0.03749722,  0.02246907,\n",
              "          0.02909294,  0.01847257, -0.00534394, -0.0053225 , -0.00998791,\n",
              "          0.02564961, -0.0068378 ,  0.02815288, -0.00362345, -0.01115112,\n",
              "          0.03419432, -0.03566173,  0.02479804,  0.01298883,  0.02613592,\n",
              "         -0.01261495]], dtype=float32))"
            ]
          },
          "metadata": {
            "tags": []
          },
          "execution_count": 38
        }
      ]
    },
    {
      "cell_type": "code",
      "metadata": {
        "id": "dA-EcaH-yiig"
      },
      "source": [
        "evs1 = EvalSurv(surv1, durations_test1, events_test1, censor_surv='km')\n",
        "evs2 = EvalSurv(surv2, durations_test2, events_test2, censor_surv='km')"
      ],
      "execution_count": null,
      "outputs": []
    },
    {
      "cell_type": "code",
      "metadata": {
        "colab": {
          "base_uri": "https://localhost:8080/"
        },
        "id": "pTI_T8fnymZo",
        "outputId": "426d0e68-95d3-4a85-f91d-3a13afdfda36"
      },
      "source": [
        "evs1.concordance_td()"
      ],
      "execution_count": null,
      "outputs": [
        {
          "output_type": "execute_result",
          "data": {
            "text/plain": [
              "0.522680412371134"
            ]
          },
          "metadata": {
            "tags": []
          },
          "execution_count": 52
        }
      ]
    },
    {
      "cell_type": "code",
      "metadata": {
        "colab": {
          "base_uri": "https://localhost:8080/"
        },
        "id": "j2Cx2QrTyn4H",
        "outputId": "c689661e-7301-4e2d-e64b-fe007fa831b4"
      },
      "source": [
        "evs2.concordance_td()"
      ],
      "execution_count": null,
      "outputs": [
        {
          "output_type": "execute_result",
          "data": {
            "text/plain": [
              "0.5218427323272439"
            ]
          },
          "metadata": {
            "tags": []
          },
          "execution_count": 53
        }
      ]
    },
    {
      "cell_type": "code",
      "metadata": {
        "colab": {
          "base_uri": "https://localhost:8080/",
          "height": 279
        },
        "id": "OTtuDB4IypQn",
        "outputId": "20f93506-45d8-4f18-c144-fb95c120d91d"
      },
      "source": [
        "time_grid = np.linspace(durations_test1.min(), durations_test1.max(), 100)\n",
        "evs1.brier_score(time_grid).plot()\n",
        "plt.ylabel('Brier score')\n",
        "_ = plt.xlabel('Time')"
      ],
      "execution_count": null,
      "outputs": [
        {
          "output_type": "display_data",
          "data": {
            "image/png": "[encoded data removed]",
            "text/plain": [
              "<Figure size 432x288 with 1 Axes>"
            ]
          },
          "metadata": {
            "tags": [],
            "needs_background": "light"
          }
        }
      ]
    },
    {
      "cell_type": "code",
      "metadata": {
        "colab": {
          "base_uri": "https://localhost:8080/",
          "height": 279
        },
        "id": "43FxEZaRyqt_",
        "outputId": "e1a780ec-1a56-47a5-8c11-3eaa0fc5e75b"
      },
      "source": [
        "time_grid = np.linspace(durations_test2.min(), durations_test2.max(), 100)\n",
        "evs2.brier_score(time_grid).plot()\n",
        "plt.ylabel('Brier score')\n",
        "_ = plt.xlabel('Time')"
      ],
      "execution_count": null,
      "outputs": [
        {
          "output_type": "display_data",
          "data": {
            "image/png": "[encoded data removed]",
            "text/plain": [
              "<Figure size 432x288 with 1 Axes>"
            ]
          },
          "metadata": {
            "tags": [],
            "needs_background": "light"
          }
        }
      ]
    },
    {
      "cell_type": "code",
      "metadata": {
        "colab": {
          "base_uri": "https://localhost:8080/",
          "height": 279
        },
        "id": "M3hm1UMGyryk",
        "outputId": "a30f4db9-0d14-43ba-ed3b-ec3ef76c1392"
      },
      "source": [
        "evs1.nbll(time_grid).plot()\n",
        "plt.ylabel('NBLL')\n",
        "_ = plt.xlabel('Time')"
      ],
      "execution_count": null,
      "outputs": [
        {
          "output_type": "display_data",
          "data": {
            "image/png": "[encoded data removed]",
            "text/plain": [
              "<Figure size 432x288 with 1 Axes>"
            ]
          },
          "metadata": {
            "tags": [],
            "needs_background": "light"
          }
        }
      ]
    },
    {
      "cell_type": "code",
      "metadata": {
        "colab": {
          "base_uri": "https://localhost:8080/",
          "height": 279
        },
        "id": "13fLObgayuts",
        "outputId": "16ecc734-080c-4d8c-f59d-6f0f7e8da9fa"
      },
      "source": [
        "evs2.nbll(time_grid).plot()\n",
        "plt.ylabel('NBLL')\n",
        "_ = plt.xlabel('Time')"
      ],
      "execution_count": null,
      "outputs": [
        {
          "output_type": "display_data",
          "data": {
            "image/png": "[encoded data removed]",
            "text/plain": [
              "<Figure size 432x288 with 1 Axes>"
            ]
          },
          "metadata": {
            "tags": [],
            "needs_background": "light"
          }
        }
      ]
    },
    {
      "cell_type": "markdown",
      "metadata": {
        "id": "3RiWzw2Ly3q9"
      },
      "source": [
        ""
      ]
    },
    {
      "cell_type": "code",
      "metadata": {
        "colab": {
          "base_uri": "https://localhost:8080/"
        },
        "id": "CA5Vr4s5ywDo",
        "outputId": "5326e0a5-ac47-45f6-c599-21fd39c3b6f7"
      },
      "source": [
        "evs1.integrated_brier_score(time_grid)"
      ],
      "execution_count": null,
      "outputs": [
        {
          "output_type": "execute_result",
          "data": {
            "text/plain": [
              "0.15382101901917705"
            ]
          },
          "metadata": {
            "tags": []
          },
          "execution_count": 58
        }
      ]
    },
    {
      "cell_type": "code",
      "metadata": {
        "colab": {
          "base_uri": "https://localhost:8080/"
        },
        "id": "FCgsz5D4yxkw",
        "outputId": "1261da23-0dfd-4697-85cc-708a2e50e742"
      },
      "source": [
        "evs1.integrated_nbll(time_grid)"
      ],
      "execution_count": null,
      "outputs": [
        {
          "output_type": "execute_result",
          "data": {
            "text/plain": [
              "0.47299722912958947"
            ]
          },
          "metadata": {
            "tags": []
          },
          "execution_count": 59
        }
      ]
    },
    {
      "cell_type": "code",
      "metadata": {
        "colab": {
          "base_uri": "https://localhost:8080/"
        },
        "id": "P3b7Z34qyyqH",
        "outputId": "b767d550-edef-42ea-d8ce-de6d5d38dee0"
      },
      "source": [
        "evs2.integrated_brier_score(time_grid)"
      ],
      "execution_count": null,
      "outputs": [
        {
          "output_type": "execute_result",
          "data": {
            "text/plain": [
              "0.16821802538472871"
            ]
          },
          "metadata": {
            "tags": []
          },
          "execution_count": 60
        }
      ]
    },
    {
      "cell_type": "code",
      "metadata": {
        "colab": {
          "base_uri": "https://localhost:8080/"
        },
        "id": "uNwyN6I4y0Mv",
        "outputId": "474098a5-5293-44d5-f135-fbbc10ace53c"
      },
      "source": [
        "evs2.integrated_nbll(time_grid)"
      ],
      "execution_count": null,
      "outputs": [
        {
          "output_type": "execute_result",
          "data": {
            "text/plain": [
              "0.5081176736697425"
            ]
          },
          "metadata": {
            "tags": []
          },
          "execution_count": 61
        }
      ]
    },
    {
      "cell_type": "code",
      "metadata": {
        "id": "F2yXqQRAy1Pg"
      },
      "source": [
        ""
      ],
      "execution_count": null,
      "outputs": []
    }
  ]
}