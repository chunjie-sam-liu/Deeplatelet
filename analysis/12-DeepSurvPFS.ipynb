{
  "nbformat": 4,
  "nbformat_minor": 0,
  "metadata": {
    "colab": {
      "name": "12-DeepSurvPFS.ipynb",
      "provenance": [],
      "collapsed_sections": [],
      "authorship_tag": "ABX9TyNBon7VC3t/IBVmJjhpvKk4",
      "include_colab_link": true
    },
    "kernelspec": {
      "name": "python3",
      "display_name": "Python 3"
    }
  },
  "cells": [
    {
      "cell_type": "markdown",
      "metadata": {
        "id": "view-in-github",
        "colab_type": "text"
      },
      "source": [
        "<a href=\"https://colab.research.google.com/github/chunjie-sam-liu/TEP-prognosis/blob/main/12-DeepSurvPFS.ipynb\" target=\"_parent\"><img src=\"https://colab.research.google.com/assets/colab-badge.svg\" alt=\"Open In Colab\"/></a>"
      ]
    },
    {
      "cell_type": "code",
      "metadata": {
        "colab": {
          "base_uri": "https://localhost:8080/"
        },
        "id": "ZiLrfynVsPQA",
        "outputId": "4f05df85-ab80-496e-92a9-ef28bea73efc"
      },
      "source": [
        "! pip install torchtuples\n",
        "! pip install pycox\n",
        "! pip install hiddenlayer"
      ],
      "execution_count": 1,
      "outputs": [
        {
          "output_type": "stream",
          "text": [
            "Collecting torchtuples\n",
            "\u001b[?25l  Downloading https://files.pythonhosted.org/packages/95/70/93eb42c0a46ef94b3885b8e5611a8019d00522a9ab7343d4ca25033afd44/torchtuples-0.2.0-py3-none-any.whl (41kB)\n",
            "\r\u001b[K     |███████▉                        | 10kB 14.3MB/s eta 0:00:01\r\u001b[K     |███████████████▊                | 20kB 16.2MB/s eta 0:00:01\r\u001b[K     |███████████████████████▋        | 30kB 15.0MB/s eta 0:00:01\r\u001b[K     |███████████████████████████████▌| 40kB 17.8MB/s eta 0:00:01\r\u001b[K     |████████████████████████████████| 51kB 4.9MB/s \n",
            "\u001b[?25hRequirement already satisfied: numpy>=1.15.4 in /usr/local/lib/python3.7/dist-packages (from torchtuples) (1.19.5)\n",
            "Requirement already satisfied: pandas>=0.24.2 in /usr/local/lib/python3.7/dist-packages (from torchtuples) (1.1.5)\n",
            "Requirement already satisfied: matplotlib>=3.0.3 in /usr/local/lib/python3.7/dist-packages (from torchtuples) (3.2.2)\n",
            "Requirement already satisfied: python-dateutil>=2.7.3 in /usr/local/lib/python3.7/dist-packages (from pandas>=0.24.2->torchtuples) (2.8.1)\n",
            "Requirement already satisfied: pytz>=2017.2 in /usr/local/lib/python3.7/dist-packages (from pandas>=0.24.2->torchtuples) (2018.9)\n",
            "Requirement already satisfied: cycler>=0.10 in /usr/local/lib/python3.7/dist-packages (from matplotlib>=3.0.3->torchtuples) (0.10.0)\n",
            "Requirement already satisfied: pyparsing!=2.0.4,!=2.1.2,!=2.1.6,>=2.0.1 in /usr/local/lib/python3.7/dist-packages (from matplotlib>=3.0.3->torchtuples) (2.4.7)\n",
            "Requirement already satisfied: kiwisolver>=1.0.1 in /usr/local/lib/python3.7/dist-packages (from matplotlib>=3.0.3->torchtuples) (1.3.1)\n",
            "Requirement already satisfied: six>=1.5 in /usr/local/lib/python3.7/dist-packages (from python-dateutil>=2.7.3->pandas>=0.24.2->torchtuples) (1.15.0)\n",
            "Installing collected packages: torchtuples\n",
            "Successfully installed torchtuples-0.2.0\n",
            "Collecting pycox\n",
            "\u001b[?25l  Downloading https://files.pythonhosted.org/packages/b6/b5/cb5f3b20c9f00843989490595830e24b45506394dc8be07d8d4db3639cf1/pycox-0.2.2-py3-none-any.whl (73kB)\n",
            "\u001b[K     |████████████████████████████████| 81kB 7.8MB/s \n",
            "\u001b[?25hRequirement already satisfied: feather-format>=0.4.0 in /usr/local/lib/python3.7/dist-packages (from pycox) (0.4.1)\n",
            "Requirement already satisfied: requests>=2.22.0 in /usr/local/lib/python3.7/dist-packages (from pycox) (2.23.0)\n",
            "Requirement already satisfied: torchtuples>=0.2.0 in /usr/local/lib/python3.7/dist-packages (from pycox) (0.2.0)\n",
            "Requirement already satisfied: numba>=0.44 in /usr/local/lib/python3.7/dist-packages (from pycox) (0.51.2)\n",
            "Requirement already satisfied: scikit-learn>=0.21.2 in /usr/local/lib/python3.7/dist-packages (from pycox) (0.22.2.post1)\n",
            "Collecting py7zr>=0.11.3\n",
            "\u001b[?25l  Downloading https://files.pythonhosted.org/packages/45/8b/79453b7fb9d03f615d41c24b29f0c687cc32b114f2205d90bb5fb5fa4362/py7zr-0.14.1-py3-none-any.whl (68kB)\n",
            "\u001b[K     |████████████████████████████████| 71kB 5.8MB/s \n",
            "\u001b[?25hRequirement already satisfied: h5py>=2.9.0 in /usr/local/lib/python3.7/dist-packages (from pycox) (2.10.0)\n",
            "Requirement already satisfied: pyarrow>=0.4.0 in /usr/local/lib/python3.7/dist-packages (from feather-format>=0.4.0->pycox) (3.0.0)\n",
            "Requirement already satisfied: chardet<4,>=3.0.2 in /usr/local/lib/python3.7/dist-packages (from requests>=2.22.0->pycox) (3.0.4)\n",
            "Requirement already satisfied: urllib3!=1.25.0,!=1.25.1,<1.26,>=1.21.1 in /usr/local/lib/python3.7/dist-packages (from requests>=2.22.0->pycox) (1.24.3)\n",
            "Requirement already satisfied: idna<3,>=2.5 in /usr/local/lib/python3.7/dist-packages (from requests>=2.22.0->pycox) (2.10)\n",
            "Requirement already satisfied: certifi>=2017.4.17 in /usr/local/lib/python3.7/dist-packages (from requests>=2.22.0->pycox) (2020.12.5)\n",
            "Requirement already satisfied: pandas>=0.24.2 in /usr/local/lib/python3.7/dist-packages (from torchtuples>=0.2.0->pycox) (1.1.5)\n",
            "Requirement already satisfied: numpy>=1.15.4 in /usr/local/lib/python3.7/dist-packages (from torchtuples>=0.2.0->pycox) (1.19.5)\n",
            "Requirement already satisfied: matplotlib>=3.0.3 in /usr/local/lib/python3.7/dist-packages (from torchtuples>=0.2.0->pycox) (3.2.2)\n",
            "Requirement already satisfied: setuptools in /usr/local/lib/python3.7/dist-packages (from numba>=0.44->pycox) (54.2.0)\n",
            "Requirement already satisfied: llvmlite<0.35,>=0.34.0.dev0 in /usr/local/lib/python3.7/dist-packages (from numba>=0.44->pycox) (0.34.0)\n",
            "Requirement already satisfied: scipy>=0.17.0 in /usr/local/lib/python3.7/dist-packages (from scikit-learn>=0.21.2->pycox) (1.4.1)\n",
            "Requirement already satisfied: joblib>=0.11 in /usr/local/lib/python3.7/dist-packages (from scikit-learn>=0.21.2->pycox) (1.0.1)\n",
            "Collecting multivolumefile<0.3.0,>=0.2.0\n",
            "  Downloading https://files.pythonhosted.org/packages/02/2d/c7b951e8624edc8f44e544203cb45e5bad4b493665ecc7e442a6ff6cd943/multivolumefile-0.2.2-py3-none-any.whl\n",
            "Requirement already satisfied: importlib-metadata; python_version < \"3.8\" in /usr/local/lib/python3.7/dist-packages (from py7zr>=0.11.3->pycox) (3.8.1)\n",
            "Collecting texttable\n",
            "  Downloading https://files.pythonhosted.org/packages/06/f5/46201c428aebe0eecfa83df66bf3e6caa29659dbac5a56ddfd83cae0d4a4/texttable-1.6.3-py2.py3-none-any.whl\n",
            "Collecting pyzstd<0.15.0,>=0.14.1; platform_python_implementation == \"CPython\"\n",
            "\u001b[?25l  Downloading https://files.pythonhosted.org/packages/a3/e9/fe897f8bb96163645a5b2d3a60ff8bfa6fcdedff4691a3c6c861b0324ef4/pyzstd-0.14.4-cp37-cp37m-manylinux2014_x86_64.whl (2.2MB)\n",
            "\u001b[K     |████████████████████████████████| 2.2MB 32.1MB/s \n",
            "\u001b[?25hCollecting ppmd-cffi<0.4.0,>=0.3.1\n",
            "\u001b[?25l  Downloading https://files.pythonhosted.org/packages/20/54/780ac526a6c81783c48e5341418f7295dcabfcb28b236eb412e806053e4c/ppmd_cffi-0.3.3-cp37-cp37m-manylinux2014_x86_64.whl (122kB)\n",
            "\u001b[K     |████████████████████████████████| 122kB 42.1MB/s \n",
            "\u001b[?25hCollecting bcj-cffi<0.6.0,>=0.5.0\n",
            "  Downloading https://files.pythonhosted.org/packages/f4/a7/1610527d72957416fa25606062cb4151e7f7e697b8224aa47079d3d14d56/bcj_cffi-0.5.0-cp37-cp37m-manylinux2014_x86_64.whl\n",
            "Collecting pycryptodome\n",
            "\u001b[?25l  Downloading https://files.pythonhosted.org/packages/ad/16/9627ab0493894a11c68e46000dbcc82f578c8ff06bc2980dcd016aea9bd3/pycryptodome-3.10.1-cp35-abi3-manylinux2010_x86_64.whl (1.9MB)\n",
            "\u001b[K     |████████████████████████████████| 1.9MB 41.8MB/s \n",
            "\u001b[?25hRequirement already satisfied: six in /usr/local/lib/python3.7/dist-packages (from h5py>=2.9.0->pycox) (1.15.0)\n",
            "Requirement already satisfied: pytz>=2017.2 in /usr/local/lib/python3.7/dist-packages (from pandas>=0.24.2->torchtuples>=0.2.0->pycox) (2018.9)\n",
            "Requirement already satisfied: python-dateutil>=2.7.3 in /usr/local/lib/python3.7/dist-packages (from pandas>=0.24.2->torchtuples>=0.2.0->pycox) (2.8.1)\n",
            "Requirement already satisfied: pyparsing!=2.0.4,!=2.1.2,!=2.1.6,>=2.0.1 in /usr/local/lib/python3.7/dist-packages (from matplotlib>=3.0.3->torchtuples>=0.2.0->pycox) (2.4.7)\n",
            "Requirement already satisfied: kiwisolver>=1.0.1 in /usr/local/lib/python3.7/dist-packages (from matplotlib>=3.0.3->torchtuples>=0.2.0->pycox) (1.3.1)\n",
            "Requirement already satisfied: cycler>=0.10 in /usr/local/lib/python3.7/dist-packages (from matplotlib>=3.0.3->torchtuples>=0.2.0->pycox) (0.10.0)\n",
            "Requirement already satisfied: typing-extensions>=3.6.4; python_version < \"3.8\" in /usr/local/lib/python3.7/dist-packages (from importlib-metadata; python_version < \"3.8\"->py7zr>=0.11.3->pycox) (3.7.4.3)\n",
            "Requirement already satisfied: zipp>=0.5 in /usr/local/lib/python3.7/dist-packages (from importlib-metadata; python_version < \"3.8\"->py7zr>=0.11.3->pycox) (3.4.1)\n",
            "Requirement already satisfied: cffi>=1.14.0 in /usr/local/lib/python3.7/dist-packages (from ppmd-cffi<0.4.0,>=0.3.1->py7zr>=0.11.3->pycox) (1.14.5)\n",
            "Requirement already satisfied: pycparser in /usr/local/lib/python3.7/dist-packages (from cffi>=1.14.0->ppmd-cffi<0.4.0,>=0.3.1->py7zr>=0.11.3->pycox) (2.20)\n",
            "Installing collected packages: multivolumefile, texttable, pyzstd, ppmd-cffi, bcj-cffi, pycryptodome, py7zr, pycox\n",
            "Successfully installed bcj-cffi-0.5.0 multivolumefile-0.2.2 ppmd-cffi-0.3.3 py7zr-0.14.1 pycox-0.2.2 pycryptodome-3.10.1 pyzstd-0.14.4 texttable-1.6.3\n",
            "Collecting hiddenlayer\n",
            "  Downloading https://files.pythonhosted.org/packages/64/f8/ea51d02695a4dc397f3b2487fae462cd3f2ce707c54250e0fdfaec2ff92e/hiddenlayer-0.3-py3-none-any.whl\n",
            "Installing collected packages: hiddenlayer\n",
            "Successfully installed hiddenlayer-0.3\n"
          ],
          "name": "stdout"
        }
      ]
    },
    {
      "cell_type": "code",
      "metadata": {
        "id": "IQc3SAkcsSx-"
      },
      "source": [
        "import os\n",
        "\n",
        "import numpy as np\n",
        "# Data import\n",
        "import feather\n",
        "import matplotlib.pyplot as plt\n",
        "%matplotlib inline\n",
        "\n",
        "# For preprocessing\n",
        "from sklearn.preprocessing import StandardScaler\n",
        "from sklearn_pandas import DataFrameMapper\n",
        "\n",
        "import torch\n",
        "from torch import nn\n",
        "import torchtuples as tt\n",
        "import torch.nn.functional as F\n",
        "from torch.nn.modules.linear import Linear\n",
        "\n",
        "from pycox.models import LogisticHazard, CoxPH\n",
        "from pycox.models.loss import NLLLogistiHazardLoss\n",
        "from pycox.evaluation import EvalSurv\n"
      ],
      "execution_count": 2,
      "outputs": []
    },
    {
      "cell_type": "code",
      "metadata": {
        "colab": {
          "base_uri": "https://localhost:8080/"
        },
        "id": "IEL-4vMqs4UM",
        "outputId": "5fe3b5bf-5e23-4c9d-98b5-97d469ed835b"
      },
      "source": [
        "np.random.seed(1234)\n",
        "torch.manual_seed(1234)"
      ],
      "execution_count": 3,
      "outputs": [
        {
          "output_type": "execute_result",
          "data": {
            "text/plain": [
              "<torch._C.Generator at 0x7f700f24ba90>"
            ]
          },
          "metadata": {
            "tags": []
          },
          "execution_count": 3
        }
      ]
    },
    {
      "cell_type": "code",
      "metadata": {
        "id": "XnDht0DMs-Wc"
      },
      "source": [
        "# Load data and label transformation\n",
        "def load_data(filepath):\n",
        "    df = feather.read_dataframe(source=filepath)\n",
        "    df_train = df.loc[df.oc == \"OC521\"].drop(columns=[\"barcode\", \"oc\"], axis=1)\n",
        "    df_val = df.loc[df.oc == \"OC44\"].drop(columns=[\"barcode\", \"oc\"], axis=1)\n",
        "    df_test1 = df.loc[df.oc == \"OC79\"].drop(columns=[\"barcode\", \"oc\"], axis=1)\n",
        "    df_test2 = df.loc[df.oc == \"OC172\"].drop(columns=[\"barcode\", \"oc\"], axis=1)\n",
        "    return df_train, df_val, df_test1, df_test2\n",
        "\n",
        "\n",
        "def get_target(df):\n",
        "    dd = np.array([i if i < 60 else 60 for i in df['duration'].values])\n",
        "    return (dd, df[\"event\"].values)\n",
        "\n",
        "\n",
        "def transform_features(df_train, df_val, df_test1, df_test2):\n",
        "    columns = df_train.columns\n",
        "    columns = columns[: len(columns) - 2]\n",
        "    standardize = [([col], StandardScaler()) for col in columns]\n",
        "\n",
        "    x_mapper = DataFrameMapper(standardize)\n",
        "\n",
        "    x_train = x_mapper.fit_transform(df_train).astype(\"float32\")\n",
        "    x_val = x_mapper.transform(df_val).astype(\"float32\")\n",
        "    x_test1 = x_mapper.transform(df_test1).astype(\"float32\")\n",
        "    x_test2 = x_mapper.transform(df_test2).astype(\"float32\")\n",
        "\n",
        "    return x_train, x_val, x_test1, x_test2\n",
        "\n",
        "\n",
        "def transform_labels(df_train, df_val, nd=10):\n",
        "    num_durations = nd\n",
        "    labtrans = LogisticHazard.label_transform(num_durations)\n",
        "    y_train_surv = labtrans.fit_transform(*get_target(df_train))\n",
        "    y_val_surv = labtrans.transform(*get_target(df_val))\n",
        "\n",
        "    return y_train_surv, y_val_surv, labtrans"
      ],
      "execution_count": 4,
      "outputs": []
    },
    {
      "cell_type": "code",
      "metadata": {
        "colab": {
          "base_uri": "https://localhost:8080/"
        },
        "id": "SwzouJuttDdd",
        "outputId": "ef756211-c7e0-462a-a1b8-37d0398eedf2"
      },
      "source": [
        "from google.colab import drive\n",
        "drive.mount('/content/drive')"
      ],
      "execution_count": 5,
      "outputs": [
        {
          "output_type": "stream",
          "text": [
            "Mounted at /content/drive\n"
          ],
          "name": "stdout"
        }
      ]
    },
    {
      "cell_type": "code",
      "metadata": {
        "id": "EFVltuPZtW8V"
      },
      "source": [
        "filepath=\"/content/drive/MyDrive/colab-data/total434.pfs.se.norm.coxph.feather\"\n",
        "# filepath = \"/content/drive/MyDrive/colab-data/total434.pfs.se.norm.coxph.test.feather\""
      ],
      "execution_count": 6,
      "outputs": []
    },
    {
      "cell_type": "code",
      "metadata": {
        "id": "gr1EhPGOtMv0"
      },
      "source": [
        "# load data\n",
        "df_train, df_val, df_test1, df_test2 = load_data(filepath)\n",
        "# transform features\n",
        "x_train, x_val, x_test1, x_test2 = transform_features(df_train, df_val, df_test1, df_test2)\n",
        "# transform labels\n",
        "# y_train_surv, y_val_surv, labtrans = transform_labels(df_train, df_val)"
      ],
      "execution_count": 7,
      "outputs": []
    },
    {
      "cell_type": "code",
      "metadata": {
        "id": "eWl07eIqtTyM"
      },
      "source": [
        "y_train = get_target(df_train)\n",
        "y_val = get_target(df_val)\n",
        "y_test1 = get_target(df_test1)\n",
        "y_test2 = get_target(df_test2)\n",
        "\n",
        "durations_test1, events_test1 = get_target(df_test1)\n",
        "durations_test2, events_test2 = get_target(df_test2)"
      ],
      "execution_count": 8,
      "outputs": []
    },
    {
      "cell_type": "code",
      "metadata": {
        "id": "H5PbWOEBuHjs"
      },
      "source": [
        "in_features = x_train.shape[1]\n",
        "num_nodes = [32, 32]\n",
        "out_features = 1\n",
        "batch_norm = True\n",
        "dropout = 0.1\n",
        "output_bias = False\n",
        "\n",
        "net = tt.practical.MLPVanilla(in_features, num_nodes, out_features, batch_norm, dropout, output_bias=output_bias)"
      ],
      "execution_count": 9,
      "outputs": []
    },
    {
      "cell_type": "code",
      "metadata": {
        "colab": {
          "base_uri": "https://localhost:8080/"
        },
        "id": "URS6OY8z20me",
        "outputId": "37a7078b-f60d-46b5-aed5-7c2ca9bf093c"
      },
      "source": [
        "net"
      ],
      "execution_count": 10,
      "outputs": [
        {
          "output_type": "execute_result",
          "data": {
            "text/plain": [
              "MLPVanilla(\n",
              "  (net): Sequential(\n",
              "    (0): DenseVanillaBlock(\n",
              "      (linear): Linear(in_features=76, out_features=32, bias=True)\n",
              "      (activation): ReLU()\n",
              "      (batch_norm): BatchNorm1d(32, eps=1e-05, momentum=0.1, affine=True, track_running_stats=True)\n",
              "      (dropout): Dropout(p=0.1, inplace=False)\n",
              "    )\n",
              "    (1): DenseVanillaBlock(\n",
              "      (linear): Linear(in_features=32, out_features=32, bias=True)\n",
              "      (activation): ReLU()\n",
              "      (batch_norm): BatchNorm1d(32, eps=1e-05, momentum=0.1, affine=True, track_running_stats=True)\n",
              "      (dropout): Dropout(p=0.1, inplace=False)\n",
              "    )\n",
              "    (2): Linear(in_features=32, out_features=1, bias=False)\n",
              "  )\n",
              ")"
            ]
          },
          "metadata": {
            "tags": []
          },
          "execution_count": 10
        }
      ]
    },
    {
      "cell_type": "code",
      "metadata": {
        "id": "uFfUryEzuIxt"
      },
      "source": [
        "model = CoxPH(net, tt.optim.Adam)"
      ],
      "execution_count": 11,
      "outputs": []
    },
    {
      "cell_type": "code",
      "metadata": {
        "colab": {
          "base_uri": "https://localhost:8080/",
          "height": 284
        },
        "id": "fokHpSiP0Pw5",
        "outputId": "0ff35a1b-d902-4470-c1f7-bc5e6022b16e"
      },
      "source": [
        "batch_size = 256\n",
        "lrfinder = model.lr_finder(x_train, y_train, batch_size, tolerance=10)\n",
        "_ = lrfinder.plot()"
      ],
      "execution_count": 12,
      "outputs": [
        {
          "output_type": "display_data",
          "data": {
            "image/png": "[encoded data removed]",
            "text/plain": [
              "<Figure size 432x288 with 1 Axes>"
            ]
          },
          "metadata": {
            "tags": [],
            "needs_background": "light"
          }
        }
      ]
    },
    {
      "cell_type": "code",
      "metadata": {
        "colab": {
          "base_uri": "https://localhost:8080/"
        },
        "id": "80lxheL0uxWm",
        "outputId": "f1b42d23-6318-458c-fbd6-80d4544c5899"
      },
      "source": [
        "lrfinder.get_best_lr()"
      ],
      "execution_count": 13,
      "outputs": [
        {
          "output_type": "execute_result",
          "data": {
            "text/plain": [
              "0.10722672220103299"
            ]
          },
          "metadata": {
            "tags": []
          },
          "execution_count": 13
        }
      ]
    },
    {
      "cell_type": "code",
      "metadata": {
        "id": "Ca0vTuWCuzg9"
      },
      "source": [
        "model.optimizer.set_lr(lrfinder.get_best_lr())"
      ],
      "execution_count": 14,
      "outputs": []
    },
    {
      "cell_type": "code",
      "metadata": {
        "id": "nlCZKYILu0wd"
      },
      "source": [
        "epochs = 512\n",
        "callbacks = [tt.callbacks.EarlyStopping()]\n",
        "verbose = True"
      ],
      "execution_count": 15,
      "outputs": []
    },
    {
      "cell_type": "code",
      "metadata": {
        "id": "k7LBzC8gu_0J"
      },
      "source": [
        "val = x_val, y_val"
      ],
      "execution_count": 16,
      "outputs": []
    },
    {
      "cell_type": "code",
      "metadata": {
        "id": "K_HayDkU_owK"
      },
      "source": [
        "#model.load_model_weights(path=\"/content/drive/MyDrive/colab-data/pfs.model\")"
      ],
      "execution_count": null,
      "outputs": []
    },
    {
      "cell_type": "code",
      "metadata": {
        "colab": {
          "base_uri": "https://localhost:8080/"
        },
        "id": "MHqaGaW6u2Vt",
        "outputId": "60ee899f-d9ed-4274-9ab2-770f6f6d4d46"
      },
      "source": [
        "%%time\n",
        "log = model.fit(x_train, y_train, batch_size, epochs, callbacks, verbose, val_data=val, val_batch_size=batch_size)"
      ],
      "execution_count": 17,
      "outputs": [
        {
          "output_type": "stream",
          "text": [
            "0:\t[0s / 0s],\t\ttrain_loss: 3.7071,\tval_loss: 3.3684\n",
            "1:\t[0s / 0s],\t\ttrain_loss: 3.2261,\tval_loss: 1.8530\n",
            "2:\t[0s / 0s],\t\ttrain_loss: 3.1201,\tval_loss: 2.2059\n",
            "3:\t[0s / 0s],\t\ttrain_loss: 3.0125,\tval_loss: 2.5313\n",
            "4:\t[0s / 0s],\t\ttrain_loss: 3.1536,\tval_loss: 1.7402\n",
            "5:\t[0s / 0s],\t\ttrain_loss: 2.9533,\tval_loss: 1.5165\n",
            "6:\t[0s / 0s],\t\ttrain_loss: 2.9302,\tval_loss: 1.5237\n",
            "7:\t[0s / 0s],\t\ttrain_loss: 2.8985,\tval_loss: 1.5376\n",
            "8:\t[0s / 0s],\t\ttrain_loss: 2.9326,\tval_loss: 1.5611\n",
            "9:\t[0s / 0s],\t\ttrain_loss: 2.6763,\tval_loss: 1.5712\n",
            "10:\t[0s / 0s],\t\ttrain_loss: 2.7363,\tval_loss: 1.6152\n",
            "11:\t[0s / 0s],\t\ttrain_loss: 2.9470,\tval_loss: 1.6312\n",
            "12:\t[0s / 0s],\t\ttrain_loss: 2.7040,\tval_loss: 1.6438\n",
            "13:\t[0s / 0s],\t\ttrain_loss: 2.7995,\tval_loss: 1.7151\n",
            "14:\t[0s / 0s],\t\ttrain_loss: 2.7787,\tval_loss: 1.7649\n",
            "15:\t[0s / 0s],\t\ttrain_loss: 2.8662,\tval_loss: 1.8314\n",
            "CPU times: user 168 ms, sys: 3.9 ms, total: 172 ms\n",
            "Wall time: 175 ms\n"
          ],
          "name": "stdout"
        }
      ]
    },
    {
      "cell_type": "code",
      "metadata": {
        "colab": {
          "base_uri": "https://localhost:8080/",
          "height": 265
        },
        "id": "YavtY54vvDKl",
        "outputId": "c3385287-7f03-4847-b45b-955df3e6a484"
      },
      "source": [
        "_ = log.plot()"
      ],
      "execution_count": 18,
      "outputs": [
        {
          "output_type": "display_data",
          "data": {
            "image/png": "[encoded data removed]",
            "text/plain": [
              "<Figure size 432x288 with 1 Axes>"
            ]
          },
          "metadata": {
            "tags": [],
            "needs_background": "light"
          }
        }
      ]
    },
    {
      "cell_type": "code",
      "metadata": {
        "colab": {
          "base_uri": "https://localhost:8080/"
        },
        "id": "B-gkpXQhvFSV",
        "outputId": "9ccfe480-dae9-4869-fa3e-cf6239633a9a"
      },
      "source": [
        "model.partial_log_likelihood(*val).mean()"
      ],
      "execution_count": 19,
      "outputs": [
        {
          "output_type": "execute_result",
          "data": {
            "text/plain": [
              "-1.6833723783493042"
            ]
          },
          "metadata": {
            "tags": []
          },
          "execution_count": 19
        }
      ]
    },
    {
      "cell_type": "code",
      "metadata": {
        "id": "8YHGOtDpvIN1"
      },
      "source": [
        "_ = model.compute_baseline_hazards()"
      ],
      "execution_count": 20,
      "outputs": []
    },
    {
      "cell_type": "code",
      "metadata": {
        "colab": {
          "base_uri": "https://localhost:8080/"
        },
        "id": "ilo-JivbvJ50",
        "outputId": "e50eadee-002c-40d6-c807-4aad834e3dbc"
      },
      "source": [
        "model.predict(x_test1[[0]])"
      ],
      "execution_count": 21,
      "outputs": [
        {
          "output_type": "execute_result",
          "data": {
            "text/plain": [
              "array([[-2.079309]], dtype=float32)"
            ]
          },
          "metadata": {
            "tags": []
          },
          "execution_count": 21
        }
      ]
    },
    {
      "cell_type": "code",
      "metadata": {
        "id": "dLc56tuxvPk3"
      },
      "source": [
        "surv = model.predict_surv_df(x_test1)"
      ],
      "execution_count": 22,
      "outputs": []
    },
    {
      "cell_type": "code",
      "metadata": {
        "colab": {
          "base_uri": "https://localhost:8080/",
          "height": 279
        },
        "id": "eMJZd3FgvV8b",
        "outputId": "b8a3c303-3100-498f-83b7-2bd650e0c229"
      },
      "source": [
        "surv.iloc[:, :5].plot()\n",
        "plt.ylabel('S(t | x)')\n",
        "_ = plt.xlabel('Time')"
      ],
      "execution_count": 23,
      "outputs": [
        {
          "output_type": "display_data",
          "data": {
            "image/png": "[encoded data removed]",
            "text/plain": [
              "<Figure size 432x288 with 1 Axes>"
            ]
          },
          "metadata": {
            "tags": [],
            "needs_background": "light"
          }
        }
      ]
    },
    {
      "cell_type": "code",
      "metadata": {
        "colab": {
          "base_uri": "https://localhost:8080/",
          "height": 370
        },
        "id": "EpgRi2sZvjZD",
        "outputId": "277f5069-2e08-4c21-f763-c3a41918c8e1"
      },
      "source": [
        "surv1 = model.predict_surv_df(x_test1)\n",
        "ev1 = EvalSurv(surv1, durations_test1, events_test1, censor_surv='km')\n",
        "print(ev1.concordance_td())\n",
        "print(ev1.concordance_td('adj_antolini'))\n",
        "time_grid = np.linspace(durations_test1.min(), durations_test1.max(), 100)\n",
        "_ = ev1.brier_score(time_grid).plot()\n",
        "print(ev1.integrated_brier_score(time_grid))"
      ],
      "execution_count": 24,
      "outputs": [
        {
          "output_type": "stream",
          "text": [
            "/usr/local/lib/python3.7/dist-packages/numba/np/ufunc/parallel.py:363: NumbaWarning: The TBB threading layer requires TBB version 2019.5 or later i.e., TBB_INTERFACE_VERSION >= 11005. Found TBB_INTERFACE_VERSION = 9107. The TBB threading layer is disabled.\n",
            "  warnings.warn(problem)\n"
          ],
          "name": "stderr"
        },
        {
          "output_type": "stream",
          "text": [
            "0.7835051546391752\n",
            "0.7835051546391752\n",
            "0.16904304214744112\n"
          ],
          "name": "stdout"
        },
        {
          "output_type": "display_data",
          "data": {
            "image/png": "[encoded data removed]",
            "text/plain": [
              "<Figure size 432x288 with 1 Axes>"
            ]
          },
          "metadata": {
            "tags": [],
            "needs_background": "light"
          }
        }
      ]
    },
    {
      "cell_type": "code",
      "metadata": {
        "colab": {
          "base_uri": "https://localhost:8080/",
          "height": 316
        },
        "id": "OSPl31Gzv3-d",
        "outputId": "a3f38433-657d-453d-f1b3-a82ea4e83454"
      },
      "source": [
        "surv2 = model.predict_surv_df(x_test2)\n",
        "ev2 = EvalSurv(surv2, durations_test2, events_test2, censor_surv='km')\n",
        "print(ev2.concordance_td())\n",
        "print(ev2.concordance_td('adj_antolini'))\n",
        "time_grid = np.linspace(durations_test2.min(), durations_test2.max(), 200)\n",
        "_ = ev2.brier_score(time_grid).plot()\n",
        "print(ev2.integrated_brier_score(time_grid))"
      ],
      "execution_count": 25,
      "outputs": [
        {
          "output_type": "stream",
          "text": [
            "0.7243844320889595\n",
            "0.7243844320889595\n",
            "0.11860866811477744\n"
          ],
          "name": "stdout"
        },
        {
          "output_type": "display_data",
          "data": {
            "image/png": "[encoded data removed]",
            "text/plain": [
              "<Figure size 432x288 with 1 Axes>"
            ]
          },
          "metadata": {
            "tags": [],
            "needs_background": "light"
          }
        }
      ]
    },
    {
      "cell_type": "code",
      "metadata": {
        "colab": {
          "base_uri": "https://localhost:8080/",
          "height": 316
        },
        "id": "uFx_wlZKx6C6",
        "outputId": "56e850ae-f5c4-4989-8cef-1d3661d2c0a0"
      },
      "source": [
        "durations_train, events_train = get_target(df_train)\n",
        "surv = model.predict_surv_df(x_train)\n",
        "ev = EvalSurv(surv, durations_train, events_train, censor_surv='km')\n",
        "print(ev.concordance_td())\n",
        "print(ev.concordance_td('adj_antolini'))\n",
        "time_grid = np.linspace(durations_train.min(), durations_train.max(), 200)\n",
        "_ = ev.brier_score(time_grid).plot()\n",
        "print(ev.integrated_brier_score(time_grid))"
      ],
      "execution_count": 26,
      "outputs": [
        {
          "output_type": "stream",
          "text": [
            "0.8154704891501801\n",
            "0.8154704891501801\n",
            "0.08588853515134336\n"
          ],
          "name": "stdout"
        },
        {
          "output_type": "display_data",
          "data": {
            "image/png": "[encoded data removed]",
            "text/plain": [
              "<Figure size 432x288 with 1 Axes>"
            ]
          },
          "metadata": {
            "tags": [],
            "needs_background": "light"
          }
        }
      ]
    },
    {
      "cell_type": "code",
      "metadata": {
        "colab": {
          "base_uri": "https://localhost:8080/",
          "height": 320
        },
        "id": "bN7wTFt6x-WF",
        "outputId": "7811f72c-7a48-4a69-f087-86becc88efe4"
      },
      "source": [
        "durations_val, events_val = get_target(df_val)\n",
        "surv = model.predict_surv_df(x_val)\n",
        "ev = EvalSurv(surv, durations_val, events_val, censor_surv='km')\n",
        "print(ev.concordance_td())\n",
        "print(ev.concordance_td('adj_antolini'))\n",
        "time_grid = np.linspace(durations_val.min(), durations_val.max(), 200)\n",
        "_ = ev.brier_score(time_grid).plot()\n",
        "print(ev.integrated_brier_score(time_grid))"
      ],
      "execution_count": 27,
      "outputs": [
        {
          "output_type": "stream",
          "text": [
            "0.8198757763975155\n",
            "0.8198757763975155\n",
            "0.07834795984532981\n"
          ],
          "name": "stdout"
        },
        {
          "output_type": "display_data",
          "data": {
            "image/png": "[encoded data removed]",
            "text/plain": [
              "<Figure size 432x288 with 1 Axes>"
            ]
          },
          "metadata": {
            "tags": [],
            "needs_background": "light"
          }
        }
      ]
    },
    {
      "cell_type": "code",
      "metadata": {
        "id": "wtlw5QJk7oKr"
      },
      "source": [
        "model.save_model_weights(path=\"/content/drive/MyDrive/colab-data/pfs.model\")"
      ],
      "execution_count": 28,
      "outputs": []
    },
    {
      "cell_type": "code",
      "metadata": {
        "id": "XP7iFCPd-xiz"
      },
      "source": [
        "import pandas as pd\n",
        "def createPd(x, y, model, name):\n",
        "  riskscore = model.predict(x).flatten()\n",
        "  der = pd.DataFrame(y + (riskscore, ), index=[\"durations\", \"event\", \"riskscore\"]).T\n",
        "  dest = f\"/content/drive/MyDrive/colab-data/pfs.{name}.feather\"\n",
        "  feather.write_dataframe(der, dest=dest)"
      ],
      "execution_count": 29,
      "outputs": []
    },
    {
      "cell_type": "code",
      "metadata": {
        "id": "dSfOlIlSg1WS"
      },
      "source": [
        "import pandas as pd\n",
        "def createPd(x, y, model, name):\n",
        "  riskscore = model.predict(x).flatten()\n",
        "  der = pd.DataFrame(y + (riskscore, ), index=[\"durations\", \"event\", \"riskscore\"]).T\n",
        "  dest = f\"/content/drive/MyDrive/colab-data/pfs.{name}.test.feather\"\n",
        "  feather.write_dataframe(der, dest=dest)"
      ],
      "execution_count": 30,
      "outputs": []
    },
    {
      "cell_type": "code",
      "metadata": {
        "id": "IGzQd3xKF5pA"
      },
      "source": [
        "createPd(x_val, y_val, model, name=\"val\")\n",
        "createPd(x_train, y_train, model, name=\"train\")\n",
        "createPd(x_test1, y_test1, model, name=\"test1\")\n",
        "createPd(x_test2, y_test2, model, name=\"test2\")"
      ],
      "execution_count": 31,
      "outputs": []
    },
    {
      "cell_type": "code",
      "metadata": {
        "id": "tWvJtFREjq54"
      },
      "source": [
        ""
      ],
      "execution_count": null,
      "outputs": []
    }
  ]
}