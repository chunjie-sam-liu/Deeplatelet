{
  "nbformat": 4,
  "nbformat_minor": 0,
  "metadata": {
    "colab": {
      "name": "09-AEPFS.ipynb",
      "provenance": [],
      "collapsed_sections": [],
      "authorship_tag": "ABX9TyPAOSNdVl7hQyOMyUDCubl5",
      "include_colab_link": true
    },
    "kernelspec": {
      "name": "python3",
      "display_name": "Python 3"
    }
  },
  "cells": [
    {
      "cell_type": "markdown",
      "metadata": {
        "id": "view-in-github",
        "colab_type": "text"
      },
      "source": [
        "<a href=\"https://colab.research.google.com/github/chunjie-sam-liu/TEP-prognosis/blob/main/analysis/09_AEPFS.ipynb\" target=\"_parent\"><img src=\"https://colab.research.google.com/assets/colab-badge.svg\" alt=\"Open In Colab\"/></a>"
      ]
    },
    {
      "cell_type": "code",
      "metadata": {
        "colab": {
          "base_uri": "https://localhost:8080/"
        },
        "id": "vUmFLv2xG-Cm",
        "outputId": "2c4af424-d750-416d-cbc6-d3c01a20da73"
      },
      "source": [
        "! pip install torchtuples\n",
        "! pip install pycox\n",
        "! pip install hiddenlayer"
      ],
      "execution_count": 1,
      "outputs": [
        {
          "output_type": "stream",
          "text": [
            "Collecting torchtuples\n",
            "\u001b[?25l  Downloading https://files.pythonhosted.org/packages/95/70/93eb42c0a46ef94b3885b8e5611a8019d00522a9ab7343d4ca25033afd44/torchtuples-0.2.0-py3-none-any.whl (41kB)\n",
            "\r\u001b[K     |███████▉                        | 10kB 15.5MB/s eta 0:00:01\r\u001b[K     |███████████████▊                | 20kB 12.2MB/s eta 0:00:01\r\u001b[K     |███████████████████████▋        | 30kB 10.2MB/s eta 0:00:01\r\u001b[K     |███████████████████████████████▌| 40kB 9.0MB/s eta 0:00:01\r\u001b[K     |████████████████████████████████| 51kB 4.5MB/s \n",
            "\u001b[?25hRequirement already satisfied: matplotlib>=3.0.3 in /usr/local/lib/python3.6/dist-packages (from torchtuples) (3.2.2)\n",
            "Requirement already satisfied: numpy>=1.15.4 in /usr/local/lib/python3.6/dist-packages (from torchtuples) (1.19.5)\n",
            "Requirement already satisfied: pandas>=0.24.2 in /usr/local/lib/python3.6/dist-packages (from torchtuples) (1.1.5)\n",
            "Requirement already satisfied: python-dateutil>=2.1 in /usr/local/lib/python3.6/dist-packages (from matplotlib>=3.0.3->torchtuples) (2.8.1)\n",
            "Requirement already satisfied: kiwisolver>=1.0.1 in /usr/local/lib/python3.6/dist-packages (from matplotlib>=3.0.3->torchtuples) (1.3.1)\n",
            "Requirement already satisfied: pyparsing!=2.0.4,!=2.1.2,!=2.1.6,>=2.0.1 in /usr/local/lib/python3.6/dist-packages (from matplotlib>=3.0.3->torchtuples) (2.4.7)\n",
            "Requirement already satisfied: cycler>=0.10 in /usr/local/lib/python3.6/dist-packages (from matplotlib>=3.0.3->torchtuples) (0.10.0)\n",
            "Requirement already satisfied: pytz>=2017.2 in /usr/local/lib/python3.6/dist-packages (from pandas>=0.24.2->torchtuples) (2018.9)\n",
            "Requirement already satisfied: six>=1.5 in /usr/local/lib/python3.6/dist-packages (from python-dateutil>=2.1->matplotlib>=3.0.3->torchtuples) (1.15.0)\n",
            "Installing collected packages: torchtuples\n",
            "Successfully installed torchtuples-0.2.0\n",
            "Collecting pycox\n",
            "\u001b[?25l  Downloading https://files.pythonhosted.org/packages/33/33/8166da2d22ff30305aa0c10e0c6124ef5d3b60b5b0418387bb805bd6b751/pycox-0.2.1-py3-none-any.whl (73kB)\n",
            "\u001b[K     |████████████████████████████████| 81kB 4.1MB/s \n",
            "\u001b[?25hRequirement already satisfied: h5py>=2.9.0 in /usr/local/lib/python3.6/dist-packages (from pycox) (2.10.0)\n",
            "Requirement already satisfied: numba>=0.44 in /usr/local/lib/python3.6/dist-packages (from pycox) (0.48.0)\n",
            "Requirement already satisfied: torchtuples>=0.2.0 in /usr/local/lib/python3.6/dist-packages (from pycox) (0.2.0)\n",
            "Requirement already satisfied: requests>=2.22.0 in /usr/local/lib/python3.6/dist-packages (from pycox) (2.23.0)\n",
            "Requirement already satisfied: scikit-learn>=0.21.2 in /usr/local/lib/python3.6/dist-packages (from pycox) (0.22.2.post1)\n",
            "Requirement already satisfied: feather-format>=0.4.0 in /usr/local/lib/python3.6/dist-packages (from pycox) (0.4.1)\n",
            "Requirement already satisfied: six in /usr/local/lib/python3.6/dist-packages (from h5py>=2.9.0->pycox) (1.15.0)\n",
            "Requirement already satisfied: numpy>=1.7 in /usr/local/lib/python3.6/dist-packages (from h5py>=2.9.0->pycox) (1.19.5)\n",
            "Requirement already satisfied: llvmlite<0.32.0,>=0.31.0dev0 in /usr/local/lib/python3.6/dist-packages (from numba>=0.44->pycox) (0.31.0)\n",
            "Requirement already satisfied: setuptools in /usr/local/lib/python3.6/dist-packages (from numba>=0.44->pycox) (51.3.3)\n",
            "Requirement already satisfied: matplotlib>=3.0.3 in /usr/local/lib/python3.6/dist-packages (from torchtuples>=0.2.0->pycox) (3.2.2)\n",
            "Requirement already satisfied: pandas>=0.24.2 in /usr/local/lib/python3.6/dist-packages (from torchtuples>=0.2.0->pycox) (1.1.5)\n",
            "Requirement already satisfied: idna<3,>=2.5 in /usr/local/lib/python3.6/dist-packages (from requests>=2.22.0->pycox) (2.10)\n",
            "Requirement already satisfied: urllib3!=1.25.0,!=1.25.1,<1.26,>=1.21.1 in /usr/local/lib/python3.6/dist-packages (from requests>=2.22.0->pycox) (1.24.3)\n",
            "Requirement already satisfied: certifi>=2017.4.17 in /usr/local/lib/python3.6/dist-packages (from requests>=2.22.0->pycox) (2020.12.5)\n",
            "Requirement already satisfied: chardet<4,>=3.0.2 in /usr/local/lib/python3.6/dist-packages (from requests>=2.22.0->pycox) (3.0.4)\n",
            "Requirement already satisfied: joblib>=0.11 in /usr/local/lib/python3.6/dist-packages (from scikit-learn>=0.21.2->pycox) (1.0.0)\n",
            "Requirement already satisfied: scipy>=0.17.0 in /usr/local/lib/python3.6/dist-packages (from scikit-learn>=0.21.2->pycox) (1.4.1)\n",
            "Requirement already satisfied: pyarrow>=0.4.0 in /usr/local/lib/python3.6/dist-packages (from feather-format>=0.4.0->pycox) (0.14.1)\n",
            "Requirement already satisfied: kiwisolver>=1.0.1 in /usr/local/lib/python3.6/dist-packages (from matplotlib>=3.0.3->torchtuples>=0.2.0->pycox) (1.3.1)\n",
            "Requirement already satisfied: cycler>=0.10 in /usr/local/lib/python3.6/dist-packages (from matplotlib>=3.0.3->torchtuples>=0.2.0->pycox) (0.10.0)\n",
            "Requirement already satisfied: pyparsing!=2.0.4,!=2.1.2,!=2.1.6,>=2.0.1 in /usr/local/lib/python3.6/dist-packages (from matplotlib>=3.0.3->torchtuples>=0.2.0->pycox) (2.4.7)\n",
            "Requirement already satisfied: python-dateutil>=2.1 in /usr/local/lib/python3.6/dist-packages (from matplotlib>=3.0.3->torchtuples>=0.2.0->pycox) (2.8.1)\n",
            "Requirement already satisfied: pytz>=2017.2 in /usr/local/lib/python3.6/dist-packages (from pandas>=0.24.2->torchtuples>=0.2.0->pycox) (2018.9)\n",
            "Installing collected packages: pycox\n",
            "Successfully installed pycox-0.2.1\n",
            "Collecting hiddenlayer\n",
            "  Downloading https://files.pythonhosted.org/packages/64/f8/ea51d02695a4dc397f3b2487fae462cd3f2ce707c54250e0fdfaec2ff92e/hiddenlayer-0.3-py3-none-any.whl\n",
            "Installing collected packages: hiddenlayer\n",
            "Successfully installed hiddenlayer-0.3\n"
          ],
          "name": "stdout"
        }
      ]
    },
    {
      "cell_type": "code",
      "metadata": {
        "id": "7v8uaB0mHK__"
      },
      "source": [
        "import numpy as np\n",
        "import feather\n",
        "import matplotlib.pyplot as plt\n",
        "\n",
        "# For preprocessing\n",
        "from sklearn.preprocessing import StandardScaler\n",
        "from sklearn_pandas import DataFrameMapper\n",
        "\n",
        "import torch\n",
        "from torch import nn\n",
        "import torch.nn.functional as F\n",
        "from torch.nn.modules.linear import Linear\n",
        "import torchtuples as tt\n",
        "\n",
        "from pycox.models import LogisticHazard\n",
        "from pycox.models.loss import NLLLogistiHazardLoss\n",
        "from pycox.evaluation import EvalSurv\n",
        "\n",
        "import os"
      ],
      "execution_count": 2,
      "outputs": []
    },
    {
      "cell_type": "code",
      "metadata": {
        "id": "uPKHuhrLHMRX"
      },
      "source": [
        "# random\n",
        "np.random.seed(1234)\n",
        "_ = torch.manual_seed(1234)"
      ],
      "execution_count": 3,
      "outputs": []
    },
    {
      "cell_type": "code",
      "metadata": {
        "id": "pRaWhy3iHNZV"
      },
      "source": [
        "class NetAESurv(nn.Module):\n",
        "    def __init__(self, in_features, encoded_features, out_features):\n",
        "        super().__init__()\n",
        "\n",
        "        # Encoder\n",
        "        self.encoder = nn.Sequential(\n",
        "            nn.Linear(in_features, 2048),\n",
        "            nn.ReLU(),\n",
        "            nn.Linear(2048, 1024),\n",
        "            nn.ReLU(),\n",
        "            nn.Linear(1024, 512),\n",
        "            nn.ReLU(),\n",
        "            nn.Linear(512, 256),\n",
        "            nn.ReLU(),\n",
        "            nn.Linear(256, 128),\n",
        "            nn.ReLU(),\n",
        "            nn.Linear(128, encoded_features),\n",
        "        )\n",
        "\n",
        "        # Decoder\n",
        "        self.decoder = nn.Sequential(\n",
        "            nn.Linear(encoded_features, 128),\n",
        "            nn.ReLU(),\n",
        "            nn.Linear(128, 256),\n",
        "            nn.ReLU(),\n",
        "            nn.Linear(256, 512),\n",
        "            nn.ReLU(),\n",
        "            nn.Linear(512, 1024),\n",
        "            nn.ReLU(),\n",
        "            nn.Linear(1024, 2048),\n",
        "            nn.ReLU(),\n",
        "            nn.Linear(2048, in_features),\n",
        "        )\n",
        "\n",
        "        # Full connection\n",
        "        self.survnet = nn.Sequential(\n",
        "            nn.Linear(encoded_features, 64),\n",
        "            nn.ReLU(),\n",
        "            nn.Linear(64, 64),\n",
        "            nn.ReLU(),\n",
        "            nn.Linear(64, 64),\n",
        "            nn.ReLU(),\n",
        "            nn.Linear(64, out_features),\n",
        "        )\n",
        "\n",
        "    def forward(self, input):\n",
        "        encoded = self.encoder(input)\n",
        "        decoded = self.decoder(encoded)\n",
        "        phi = self.survnet(encoded)\n",
        "        return phi, decoded\n",
        "\n",
        "    def predict(self, input):\n",
        "        encoded = self.encoder(input)\n",
        "        return self.survnet(encoded)\n"
      ],
      "execution_count": 4,
      "outputs": []
    },
    {
      "cell_type": "code",
      "metadata": {
        "id": "hWqlSItqHSZ9"
      },
      "source": [
        "class LossAELogHaz(nn.Module):\n",
        "    def __init__(self, alpha):\n",
        "        super().__init__()\n",
        "        assert (alpha >= 0) and (alpha <= 1), \"Need `alpha` in [0, 1].\"\n",
        "        self.alpha = alpha\n",
        "        self.loss_surv = NLLLogistiHazardLoss()\n",
        "        self.loss_ae = nn.MSELoss()\n",
        "\n",
        "    def forward(self, phi, decoded, target_loghaz, target_ae):\n",
        "        idx_durations, events = target_loghaz\n",
        "        loss_surv = self.loss_surv(phi, idx_durations, events)\n",
        "        loss_ae = self.loss_ae(decoded, target_ae)\n",
        "        return self.alpha * loss_surv + (1 - self.alpha) * loss_ae\n"
      ],
      "execution_count": 5,
      "outputs": []
    },
    {
      "cell_type": "code",
      "metadata": {
        "id": "wtvMCMTXHUX9"
      },
      "source": [
        "def load_data(filepath):\n",
        "    df = feather.read_dataframe(source=filepath)\n",
        "    df_train = df.loc[df.oc == \"OC521\"].drop(columns=[\"barcode\", \"oc\"], axis=1)\n",
        "    df_val = df.loc[df.oc == \"OC44\"].drop(columns=[\"barcode\", \"oc\"], axis=1)\n",
        "    df_test1 = df.loc[df.oc == \"OC79\"].drop(columns=[\"barcode\", \"oc\"], axis=1)\n",
        "    df_test2 = df.loc[df.oc == \"OC172\"].drop(columns=[\"barcode\", \"oc\"], axis=1)\n",
        "    return df_train, df_val, df_test1, df_test2\n",
        "\n",
        "\n",
        "def get_target(df):\n",
        "    return (df[\"duration\"].values, df[\"event\"].values)\n",
        "\n",
        "\n",
        "def transform_features(df_train, df_val, df_test1, df_test2):\n",
        "    columns = df_train.columns\n",
        "    columns = columns[: len(columns) - 2]\n",
        "    standardize = [([col], StandardScaler()) for col in columns]\n",
        "\n",
        "    x_mapper = DataFrameMapper(standardize)\n",
        "\n",
        "    x_train = x_mapper.fit_transform(df_train).astype(\"float32\")\n",
        "    x_val = x_mapper.transform(df_val).astype(\"float32\")\n",
        "    x_test1 = x_mapper.transform(df_test1).astype(\"float32\")\n",
        "    x_test2 = x_mapper.transform(df_test2).astype(\"float32\")\n",
        "\n",
        "    return x_train, x_val, x_test1, x_test2\n",
        "\n",
        "\n",
        "def transform_labels(df_train, df_val, nd=10):\n",
        "    num_durations = nd\n",
        "    labtrans = LogisticHazard.label_transform(num_durations)\n",
        "    y_train_surv = labtrans.fit_transform(*get_target(df_train))\n",
        "    y_val_surv = labtrans.transform(*get_target(df_val))\n",
        "\n",
        "    return y_train_surv, y_val_surv, labtrans\n"
      ],
      "execution_count": 6,
      "outputs": []
    },
    {
      "cell_type": "code",
      "metadata": {
        "colab": {
          "base_uri": "https://localhost:8080/"
        },
        "id": "cCdvN7GqHVcl",
        "outputId": "34fd8203-15e9-4316-9768-87a1aad3153b"
      },
      "source": [
        "from google.colab import drive\n",
        "drive.mount('/content/drive')"
      ],
      "execution_count": 7,
      "outputs": [
        {
          "output_type": "stream",
          "text": [
            "Mounted at /content/drive\n"
          ],
          "name": "stdout"
        }
      ]
    },
    {
      "cell_type": "code",
      "metadata": {
        "id": "UiPes9NzHa2W"
      },
      "source": [
        "filepath=\"/content/drive/MyDrive/colab-data/total434.pfs.se.norm.coxph.feather\""
      ],
      "execution_count": 8,
      "outputs": []
    },
    {
      "cell_type": "code",
      "metadata": {
        "id": "dG-Pg1oaHuSm"
      },
      "source": [
        "# load data\n",
        "df_train, df_val, df_test1, df_test2 = load_data(filepath)\n",
        "# transform features\n",
        "x_train, x_val, x_test1, x_test2 = transform_features(df_train, df_val, df_test1, df_test2)\n",
        "# transform labels\n",
        "y_train_surv, y_val_surv, labtrans = transform_labels(df_train, df_val)"
      ],
      "execution_count": 9,
      "outputs": []
    },
    {
      "cell_type": "code",
      "metadata": {
        "id": "2uWaBNc3Hvym"
      },
      "source": [
        "# make train and validation datasets with tuplefy\n",
        "train = tt.tuplefy(x_train, (y_train_surv, x_train))\n",
        "val = tt.tuplefy(x_val, (y_val_surv, x_val))"
      ],
      "execution_count": 10,
      "outputs": []
    },
    {
      "cell_type": "code",
      "metadata": {
        "id": "gqxTY918HyZ2"
      },
      "source": [
        "durations_test1, events_test1 = get_target(df_test1)\n",
        "durations_test2, events_test2 = get_target(df_test2)"
      ],
      "execution_count": 11,
      "outputs": []
    },
    {
      "cell_type": "code",
      "metadata": {
        "id": "XM7kgvfiH0nm"
      },
      "source": [
        "# set arch\n",
        "in_features = x_train.shape[1]\n",
        "encoded_features = 64\n",
        "out_features = labtrans.out_features\n",
        "netaesurv = NetAESurv(in_features, encoded_features, out_features)"
      ],
      "execution_count": 12,
      "outputs": []
    },
    {
      "cell_type": "code",
      "metadata": {
        "colab": {
          "base_uri": "https://localhost:8080/"
        },
        "id": "W62937pLH1Te",
        "outputId": "5d6c152a-5ad8-4d40-bb3d-a89f88bfdd6a"
      },
      "source": [
        "netaesurv"
      ],
      "execution_count": 13,
      "outputs": [
        {
          "output_type": "execute_result",
          "data": {
            "text/plain": [
              "NetAESurv(\n",
              "  (encoder): Sequential(\n",
              "    (0): Linear(in_features=282, out_features=2048, bias=True)\n",
              "    (1): ReLU()\n",
              "    (2): Linear(in_features=2048, out_features=1024, bias=True)\n",
              "    (3): ReLU()\n",
              "    (4): Linear(in_features=1024, out_features=512, bias=True)\n",
              "    (5): ReLU()\n",
              "    (6): Linear(in_features=512, out_features=256, bias=True)\n",
              "    (7): ReLU()\n",
              "    (8): Linear(in_features=256, out_features=128, bias=True)\n",
              "    (9): ReLU()\n",
              "    (10): Linear(in_features=128, out_features=64, bias=True)\n",
              "  )\n",
              "  (decoder): Sequential(\n",
              "    (0): Linear(in_features=64, out_features=128, bias=True)\n",
              "    (1): ReLU()\n",
              "    (2): Linear(in_features=128, out_features=256, bias=True)\n",
              "    (3): ReLU()\n",
              "    (4): Linear(in_features=256, out_features=512, bias=True)\n",
              "    (5): ReLU()\n",
              "    (6): Linear(in_features=512, out_features=1024, bias=True)\n",
              "    (7): ReLU()\n",
              "    (8): Linear(in_features=1024, out_features=2048, bias=True)\n",
              "    (9): ReLU()\n",
              "    (10): Linear(in_features=2048, out_features=282, bias=True)\n",
              "  )\n",
              "  (survnet): Sequential(\n",
              "    (0): Linear(in_features=64, out_features=64, bias=True)\n",
              "    (1): ReLU()\n",
              "    (2): Linear(in_features=64, out_features=64, bias=True)\n",
              "    (3): ReLU()\n",
              "    (4): Linear(in_features=64, out_features=64, bias=True)\n",
              "    (5): ReLU()\n",
              "    (6): Linear(in_features=64, out_features=10, bias=True)\n",
              "  )\n",
              ")"
            ]
          },
          "metadata": {
            "tags": []
          },
          "execution_count": 13
        }
      ]
    },
    {
      "cell_type": "code",
      "metadata": {
        "colab": {
          "base_uri": "https://localhost:8080/"
        },
        "id": "3w1XfjgNH2rq",
        "outputId": "b0c92e7b-3f8c-4550-b6b7-2ac5cd26f28a"
      },
      "source": [
        "from torchsummary import summary\n",
        "summary(model=netaesurv, input_size=(1, in_features))"
      ],
      "execution_count": 14,
      "outputs": [
        {
          "output_type": "stream",
          "text": [
            "----------------------------------------------------------------\n",
            "        Layer (type)               Output Shape         Param #\n",
            "================================================================\n",
            "            Linear-1              [-1, 1, 2048]         579,584\n",
            "              ReLU-2              [-1, 1, 2048]               0\n",
            "            Linear-3              [-1, 1, 1024]       2,098,176\n",
            "              ReLU-4              [-1, 1, 1024]               0\n",
            "            Linear-5               [-1, 1, 512]         524,800\n",
            "              ReLU-6               [-1, 1, 512]               0\n",
            "            Linear-7               [-1, 1, 256]         131,328\n",
            "              ReLU-8               [-1, 1, 256]               0\n",
            "            Linear-9               [-1, 1, 128]          32,896\n",
            "             ReLU-10               [-1, 1, 128]               0\n",
            "           Linear-11                [-1, 1, 64]           8,256\n",
            "           Linear-12               [-1, 1, 128]           8,320\n",
            "             ReLU-13               [-1, 1, 128]               0\n",
            "           Linear-14               [-1, 1, 256]          33,024\n",
            "             ReLU-15               [-1, 1, 256]               0\n",
            "           Linear-16               [-1, 1, 512]         131,584\n",
            "             ReLU-17               [-1, 1, 512]               0\n",
            "           Linear-18              [-1, 1, 1024]         525,312\n",
            "             ReLU-19              [-1, 1, 1024]               0\n",
            "           Linear-20              [-1, 1, 2048]       2,099,200\n",
            "             ReLU-21              [-1, 1, 2048]               0\n",
            "           Linear-22               [-1, 1, 282]         577,818\n",
            "           Linear-23                [-1, 1, 64]           4,160\n",
            "             ReLU-24                [-1, 1, 64]               0\n",
            "           Linear-25                [-1, 1, 64]           4,160\n",
            "             ReLU-26                [-1, 1, 64]               0\n",
            "           Linear-27                [-1, 1, 64]           4,160\n",
            "             ReLU-28                [-1, 1, 64]               0\n",
            "           Linear-29                [-1, 1, 10]             650\n",
            "================================================================\n",
            "Total params: 6,763,428\n",
            "Trainable params: 6,763,428\n",
            "Non-trainable params: 0\n",
            "----------------------------------------------------------------\n",
            "Input size (MB): 0.00\n",
            "Forward/backward pass size (MB): 0.13\n",
            "Params size (MB): 25.80\n",
            "Estimated Total Size (MB): 25.93\n",
            "----------------------------------------------------------------\n"
          ],
          "name": "stdout"
        }
      ]
    },
    {
      "cell_type": "code",
      "metadata": {
        "colab": {
          "base_uri": "https://localhost:8080/",
          "height": 258
        },
        "id": "_9L2maikH3-0",
        "outputId": "03a9fd9d-5a4a-4ed5-87ec-31dad8eaebf9"
      },
      "source": [
        "import hiddenlayer as hl\n",
        "hl.build_graph(netaesurv, torch.zeros([1, in_features]))"
      ],
      "execution_count": 15,
      "outputs": [
        {
          "output_type": "execute_result",
          "data": {
            "text/plain": [
              "<hiddenlayer.graph.Graph at 0x7f4d8d54b7f0>"
            ],
            "image/svg+xml": "<?xml version=\"1.0\" encoding=\"UTF-8\" standalone=\"no\"?>\n<!DOCTYPE svg PUBLIC \"-//W3C//DTD SVG 1.1//EN\"\n \"http://www.w3.org/Graphics/SVG/1.1/DTD/svg11.dtd\">\n<!-- Generated by graphviz version 2.40.1 (20161225.0304)\n -->\n<!-- Title: %3 Pages: 1 -->\n<svg width=\"504pt\" height=\"178pt\"\n viewBox=\"0.00 0.00 504.00 178.00\" xmlns=\"http://www.w3.org/2000/svg\" xmlns:xlink=\"http://www.w3.org/1999/xlink\">\n<g id=\"graph0\" class=\"graph\" transform=\"scale(1 1) rotate(0) translate(72 142)\">\n<title>%3</title>\n<polygon fill=\"#ffffff\" stroke=\"transparent\" points=\"-72,36 -72,-142 432,-142 432,36 -72,36\"/>\n<!-- /outputs/43 -->\n<g id=\"node1\" class=\"node\">\n<title>/outputs/43</title>\n<polygon fill=\"#e8e8e8\" stroke=\"#000000\" points=\"162,-71 108,-71 108,-35 162,-35 162,-71\"/>\n<text text-anchor=\"start\" x=\"122\" y=\"-50\" font-family=\"Times\" font-size=\"10.00\" fill=\"#000000\">Linear</text>\n</g>\n<!-- 1703362666495873405 -->\n<g id=\"node4\" class=\"node\">\n<title>1703362666495873405</title>\n<polygon fill=\"#e8e8e8\" stroke=\"#000000\" points=\"270,-106 198,-106 198,-62 270,-62 270,-106\"/>\n<text text-anchor=\"start\" x=\"206\" y=\"-90\" font-family=\"Times\" font-size=\"10.00\" fill=\"#000000\">Linear &gt; Relu</text>\n<text text-anchor=\"start\" x=\"255\" y=\"-69\" font-family=\"Times\" font-size=\"10.00\" fill=\"#000000\">x3</text>\n</g>\n<!-- /outputs/43&#45;&gt;1703362666495873405 -->\n<g id=\"edge1\" class=\"edge\">\n<title>/outputs/43&#45;&gt;1703362666495873405</title>\n<path fill=\"none\" stroke=\"#000000\" d=\"M162.0522,-61.4709C170.1245,-63.9986 179.2072,-66.8427 188.1316,-69.6372\"/>\n<polygon fill=\"#000000\" stroke=\"#000000\" points=\"187.1092,-72.9845 197.6982,-72.6328 189.201,-66.3044 187.1092,-72.9845\"/>\n</g>\n<!-- 7205188345270759600 -->\n<g id=\"node6\" class=\"node\">\n<title>7205188345270759600</title>\n<polygon fill=\"#e8e8e8\" stroke=\"#000000\" points=\"270,-44 198,-44 198,0 270,0 270,-44\"/>\n<text text-anchor=\"start\" x=\"206\" y=\"-28\" font-family=\"Times\" font-size=\"10.00\" fill=\"#000000\">Linear &gt; Relu</text>\n<text text-anchor=\"start\" x=\"255\" y=\"-7\" font-family=\"Times\" font-size=\"10.00\" fill=\"#000000\">x5</text>\n</g>\n<!-- /outputs/43&#45;&gt;7205188345270759600 -->\n<g id=\"edge4\" class=\"edge\">\n<title>/outputs/43&#45;&gt;7205188345270759600</title>\n<path fill=\"none\" stroke=\"#000000\" d=\"M162.0522,-44.5291C170.1245,-42.0014 179.2072,-39.1573 188.1316,-36.3628\"/>\n<polygon fill=\"#000000\" stroke=\"#000000\" points=\"189.201,-39.6956 197.6982,-33.3672 187.1092,-33.0155 189.201,-39.6956\"/>\n</g>\n<!-- /outputs/54 -->\n<g id=\"node2\" class=\"node\">\n<title>/outputs/54</title>\n<polygon fill=\"#e8e8e8\" stroke=\"#000000\" points=\"360,-40 306,-40 306,-4 360,-4 360,-40\"/>\n<text text-anchor=\"start\" x=\"320\" y=\"-19\" font-family=\"Times\" font-size=\"10.00\" fill=\"#000000\">Linear</text>\n</g>\n<!-- /outputs/61 -->\n<g id=\"node3\" class=\"node\">\n<title>/outputs/61</title>\n<polygon fill=\"#e8e8e8\" stroke=\"#000000\" points=\"360,-102 306,-102 306,-66 360,-66 360,-102\"/>\n<text text-anchor=\"start\" x=\"320\" y=\"-81\" font-family=\"Times\" font-size=\"10.00\" fill=\"#000000\">Linear</text>\n</g>\n<!-- 1703362666495873405&#45;&gt;/outputs/61 -->\n<g id=\"edge2\" class=\"edge\">\n<title>1703362666495873405&#45;&gt;/outputs/61</title>\n<path fill=\"none\" stroke=\"#000000\" d=\"M270.0213,-84C278.3402,-84 287.2088,-84 295.5856,-84\"/>\n<polygon fill=\"#000000\" stroke=\"#000000\" points=\"295.8548,-87.5001 305.8547,-84 295.8547,-80.5001 295.8548,-87.5001\"/>\n</g>\n<!-- 3917270122817316005 -->\n<g id=\"node5\" class=\"node\">\n<title>3917270122817316005</title>\n<polygon fill=\"#e8e8e8\" stroke=\"#000000\" points=\"72,-75 0,-75 0,-31 72,-31 72,-75\"/>\n<text text-anchor=\"start\" x=\"8\" y=\"-59\" font-family=\"Times\" font-size=\"10.00\" fill=\"#000000\">Linear &gt; Relu</text>\n<text text-anchor=\"start\" x=\"57\" y=\"-38\" font-family=\"Times\" font-size=\"10.00\" fill=\"#000000\">x5</text>\n</g>\n<!-- 3917270122817316005&#45;&gt;/outputs/43 -->\n<g id=\"edge3\" class=\"edge\">\n<title>3917270122817316005&#45;&gt;/outputs/43</title>\n<path fill=\"none\" stroke=\"#000000\" d=\"M72.0213,-53C80.3402,-53 89.2088,-53 97.5856,-53\"/>\n<polygon fill=\"#000000\" stroke=\"#000000\" points=\"97.8548,-56.5001 107.8547,-53 97.8547,-49.5001 97.8548,-56.5001\"/>\n</g>\n<!-- 7205188345270759600&#45;&gt;/outputs/54 -->\n<g id=\"edge5\" class=\"edge\">\n<title>7205188345270759600&#45;&gt;/outputs/54</title>\n<path fill=\"none\" stroke=\"#000000\" d=\"M270.0213,-22C278.3402,-22 287.2088,-22 295.5856,-22\"/>\n<polygon fill=\"#000000\" stroke=\"#000000\" points=\"295.8548,-25.5001 305.8547,-22 295.8547,-18.5001 295.8548,-25.5001\"/>\n</g>\n</g>\n</svg>\n"
          },
          "metadata": {
            "tags": []
          },
          "execution_count": 15
        }
      ]
    },
    {
      "cell_type": "code",
      "metadata": {
        "id": "bb_vPXKcH5jV"
      },
      "source": [
        "# loss\n",
        "loss = LossAELogHaz(0.6)"
      ],
      "execution_count": 16,
      "outputs": []
    },
    {
      "cell_type": "code",
      "metadata": {
        "colab": {
          "base_uri": "https://localhost:8080/"
        },
        "id": "X5WP9GsdH7VV",
        "outputId": "62d2b6ff-041e-4d27-fafd-f0cf56c0c0e6"
      },
      "source": [
        "loss"
      ],
      "execution_count": 17,
      "outputs": [
        {
          "output_type": "execute_result",
          "data": {
            "text/plain": [
              "LossAELogHaz(\n",
              "  (loss_surv): NLLLogistiHazardLoss()\n",
              "  (loss_ae): MSELoss()\n",
              ")"
            ]
          },
          "metadata": {
            "tags": []
          },
          "execution_count": 17
        }
      ]
    },
    {
      "cell_type": "code",
      "metadata": {
        "id": "znvancG6H8hC"
      },
      "source": [
        "# model\n",
        "model = LogisticHazard(net=netaesurv, optimizer=tt.optim.Adam(0.01), duration_index=labtrans.cuts, loss=loss)"
      ],
      "execution_count": 18,
      "outputs": []
    },
    {
      "cell_type": "code",
      "metadata": {
        "colab": {
          "base_uri": "https://localhost:8080/"
        },
        "id": "8yAxE8rHH9lW",
        "outputId": "f1f1fa9a-3676-4727-f777-746c20e15509"
      },
      "source": [
        "# metrics\n",
        "metrics = dict(loss_surv=LossAELogHaz(1), loss_ae=LossAELogHaz(0))\n",
        "\n",
        "# callbacks\n",
        "callbacks = [tt.cb.EarlyStopping()]\n",
        "\n",
        "# cycling\n",
        "batch_size = 5\n",
        "epochs = 100\n",
        "\n",
        "# trainning model\n",
        "log = model.fit(\n",
        "    *train, batch_size=batch_size, epochs=epochs,  verbose=True, val_data=val, metrics=metrics\n",
        ")"
      ],
      "execution_count": 19,
      "outputs": [
        {
          "output_type": "stream",
          "text": [
            "0:\t[5s / 5s],\t\ttrain_loss: 12.4639,\ttrain_loss_surv: 1.2863,\ttrain_loss_ae: 29.2303,\tval_loss: 1.1441,\tval_loss_surv: 1.3477,\tval_loss_ae: 0.8387\n",
            "1:\t[5s / 10s],\t\ttrain_loss: 1.2125,\ttrain_loss_surv: 1.1629,\ttrain_loss_ae: 1.2869,\tval_loss: 1.1226,\tval_loss_surv: 1.3124,\tval_loss_ae: 0.8378\n",
            "2:\t[5s / 15s],\t\ttrain_loss: 1.0919,\ttrain_loss_surv: 1.1519,\ttrain_loss_ae: 1.0017,\tval_loss: 1.2046,\tval_loss_surv: 1.4492,\tval_loss_ae: 0.8378\n",
            "3:\t[5s / 21s],\t\ttrain_loss: 1.1072,\ttrain_loss_surv: 1.1767,\ttrain_loss_ae: 1.0031,\tval_loss: 1.2074,\tval_loss_surv: 1.4539,\tval_loss_ae: 0.8376\n",
            "4:\t[5s / 26s],\t\ttrain_loss: 40.9155,\ttrain_loss_surv: 1.1853,\ttrain_loss_ae: 100.5108,\tval_loss: 55.1620,\tval_loss_surv: 1.4821,\tval_loss_ae: 135.6817\n",
            "5:\t[5s / 31s],\t\ttrain_loss: 4.7251,\ttrain_loss_surv: 1.1486,\ttrain_loss_ae: 10.0900,\tval_loss: 1.2091,\tval_loss_surv: 1.4498,\tval_loss_ae: 0.8480\n",
            "6:\t[5s / 36s],\t\ttrain_loss: 1.0866,\ttrain_loss_surv: 1.1413,\ttrain_loss_ae: 1.0047,\tval_loss: 1.2226,\tval_loss_surv: 1.4790,\tval_loss_ae: 0.8381\n",
            "7:\t[5s / 42s],\t\ttrain_loss: 1.0841,\ttrain_loss_surv: 1.1391,\ttrain_loss_ae: 1.0016,\tval_loss: 1.2322,\tval_loss_surv: 1.4949,\tval_loss_ae: 0.8381\n",
            "8:\t[5s / 47s],\t\ttrain_loss: 1.0787,\ttrain_loss_surv: 1.1304,\ttrain_loss_ae: 1.0010,\tval_loss: 1.2232,\tval_loss_surv: 1.4803,\tval_loss_ae: 0.8376\n",
            "9:\t[5s / 52s],\t\ttrain_loss: 1.0893,\ttrain_loss_surv: 1.1476,\ttrain_loss_ae: 1.0018,\tval_loss: 1.2402,\tval_loss_surv: 1.5074,\tval_loss_ae: 0.8394\n",
            "10:\t[5s / 58s],\t\ttrain_loss: 1.0808,\ttrain_loss_surv: 1.1335,\ttrain_loss_ae: 1.0016,\tval_loss: 1.2099,\tval_loss_surv: 1.4581,\tval_loss_ae: 0.8375\n",
            "11:\t[9s / 1m:7s],\t\ttrain_loss: 1.0848,\ttrain_loss_surv: 1.1415,\ttrain_loss_ae: 0.9999,\tval_loss: 1.2422,\tval_loss_surv: 1.5103,\tval_loss_ae: 0.8399\n",
            "12:\t[11s / 1m:19s],\t\ttrain_loss: 1.0819,\ttrain_loss_surv: 1.1331,\ttrain_loss_ae: 1.0052,\tval_loss: 1.2169,\tval_loss_surv: 1.4694,\tval_loss_ae: 0.8381\n",
            "13:\t[12s / 1m:31s],\t\ttrain_loss: 1.0783,\ttrain_loss_surv: 1.1292,\ttrain_loss_ae: 1.0020,\tval_loss: 1.2271,\tval_loss_surv: 1.4866,\tval_loss_ae: 0.8380\n",
            "14:\t[12s / 1m:44s],\t\ttrain_loss: 1.0806,\ttrain_loss_surv: 1.1330,\ttrain_loss_ae: 1.0018,\tval_loss: 1.2344,\tval_loss_surv: 1.4989,\tval_loss_ae: 0.8376\n",
            "15:\t[11s / 1m:56s],\t\ttrain_loss: 1.0794,\ttrain_loss_surv: 1.1321,\ttrain_loss_ae: 1.0004,\tval_loss: 1.2368,\tval_loss_surv: 1.5022,\tval_loss_ae: 0.8387\n",
            "16:\t[10s / 2m:7s],\t\ttrain_loss: 1.0759,\ttrain_loss_surv: 1.1282,\ttrain_loss_ae: 0.9975,\tval_loss: 1.2208,\tval_loss_surv: 1.4763,\tval_loss_ae: 0.8376\n",
            "17:\t[11s / 2m:18s],\t\ttrain_loss: 1.0786,\ttrain_loss_surv: 1.1310,\ttrain_loss_ae: 1.0001,\tval_loss: 1.2259,\tval_loss_surv: 1.4849,\tval_loss_ae: 0.8374\n",
            "18:\t[12s / 2m:30s],\t\ttrain_loss: 1.0768,\ttrain_loss_surv: 1.1260,\ttrain_loss_ae: 1.0028,\tval_loss: 1.2318,\tval_loss_surv: 1.4945,\tval_loss_ae: 0.8377\n",
            "19:\t[12s / 2m:42s],\t\ttrain_loss: 1.0806,\ttrain_loss_surv: 1.1321,\ttrain_loss_ae: 1.0034,\tval_loss: 1.2321,\tval_loss_surv: 1.4952,\tval_loss_ae: 0.8375\n",
            "20:\t[11s / 2m:54s],\t\ttrain_loss: 1.0821,\ttrain_loss_surv: 1.1373,\ttrain_loss_ae: 0.9993,\tval_loss: 1.2459,\tval_loss_surv: 1.5181,\tval_loss_ae: 0.8375\n",
            "21:\t[11s / 3m:5s],\t\ttrain_loss: 1.0849,\ttrain_loss_surv: 1.1408,\ttrain_loss_ae: 1.0012,\tval_loss: 1.2373,\tval_loss_surv: 1.5038,\tval_loss_ae: 0.8374\n",
            "22:\t[11s / 3m:16s],\t\ttrain_loss: 1.0747,\ttrain_loss_surv: 1.1237,\ttrain_loss_ae: 1.0013,\tval_loss: 1.2348,\tval_loss_surv: 1.4997,\tval_loss_ae: 0.8375\n",
            "23:\t[11s / 3m:27s],\t\ttrain_loss: 1.0789,\ttrain_loss_surv: 1.1299,\ttrain_loss_ae: 1.0025,\tval_loss: 1.2440,\tval_loss_surv: 1.5149,\tval_loss_ae: 0.8376\n",
            "24:\t[11s / 3m:38s],\t\ttrain_loss: 1.0763,\ttrain_loss_surv: 1.1254,\ttrain_loss_ae: 1.0026,\tval_loss: 1.2450,\tval_loss_surv: 1.5167,\tval_loss_ae: 0.8375\n",
            "25:\t[11s / 3m:49s],\t\ttrain_loss: 1.0772,\ttrain_loss_surv: 1.1285,\ttrain_loss_ae: 1.0003,\tval_loss: 1.2543,\tval_loss_surv: 1.5319,\tval_loss_ae: 0.8378\n",
            "26:\t[11s / 4m:0s],\t\ttrain_loss: 1.0805,\ttrain_loss_surv: 1.1327,\ttrain_loss_ae: 1.0024,\tval_loss: 1.2494,\tval_loss_surv: 1.5241,\tval_loss_ae: 0.8374\n",
            "27:\t[11s / 4m:11s],\t\ttrain_loss: 1.0755,\ttrain_loss_surv: 1.1263,\ttrain_loss_ae: 0.9994,\tval_loss: 1.2279,\tval_loss_surv: 1.4881,\tval_loss_ae: 0.8375\n",
            "28:\t[11s / 4m:22s],\t\ttrain_loss: 1.0758,\ttrain_loss_surv: 1.1258,\ttrain_loss_ae: 1.0008,\tval_loss: 1.2588,\tval_loss_surv: 1.5398,\tval_loss_ae: 0.8373\n",
            "29:\t[11s / 4m:34s],\t\ttrain_loss: 1.0786,\ttrain_loss_surv: 1.1297,\ttrain_loss_ae: 1.0019,\tval_loss: 1.2558,\tval_loss_surv: 1.5346,\tval_loss_ae: 0.8375\n",
            "30:\t[11s / 4m:45s],\t\ttrain_loss: 1.0730,\ttrain_loss_surv: 1.1216,\ttrain_loss_ae: 1.0002,\tval_loss: 1.2452,\tval_loss_surv: 1.5162,\tval_loss_ae: 0.8388\n",
            "31:\t[11s / 4m:56s],\t\ttrain_loss: 1.0770,\ttrain_loss_surv: 1.1275,\ttrain_loss_ae: 1.0012,\tval_loss: 1.2463,\tval_loss_surv: 1.5189,\tval_loss_ae: 0.8375\n",
            "32:\t[11s / 5m:7s],\t\ttrain_loss: 1.0778,\ttrain_loss_surv: 1.1268,\ttrain_loss_ae: 1.0044,\tval_loss: 1.2626,\tval_loss_surv: 1.5459,\tval_loss_ae: 0.8376\n",
            "33:\t[11s / 5m:18s],\t\ttrain_loss: 1.0773,\ttrain_loss_surv: 1.1285,\ttrain_loss_ae: 1.0006,\tval_loss: 1.2555,\tval_loss_surv: 1.5338,\tval_loss_ae: 0.8380\n",
            "34:\t[11s / 5m:29s],\t\ttrain_loss: 1.0759,\ttrain_loss_surv: 1.1261,\ttrain_loss_ae: 1.0006,\tval_loss: 1.2535,\tval_loss_surv: 1.5307,\tval_loss_ae: 0.8377\n",
            "35:\t[10s / 5m:40s],\t\ttrain_loss: 1.0783,\ttrain_loss_surv: 1.1273,\ttrain_loss_ae: 1.0049,\tval_loss: 1.2454,\tval_loss_surv: 1.5172,\tval_loss_ae: 0.8375\n",
            "36:\t[11s / 5m:51s],\t\ttrain_loss: 1.0769,\ttrain_loss_surv: 1.1250,\ttrain_loss_ae: 1.0046,\tval_loss: 1.2611,\tval_loss_surv: 1.5434,\tval_loss_ae: 0.8376\n",
            "37:\t[11s / 6m:2s],\t\ttrain_loss: 1.0762,\ttrain_loss_surv: 1.1256,\ttrain_loss_ae: 1.0022,\tval_loss: 1.2648,\tval_loss_surv: 1.5496,\tval_loss_ae: 0.8375\n",
            "38:\t[11s / 6m:13s],\t\ttrain_loss: 1.0775,\ttrain_loss_surv: 1.1289,\ttrain_loss_ae: 1.0005,\tval_loss: 1.2343,\tval_loss_surv: 1.4986,\tval_loss_ae: 0.8378\n",
            "39:\t[11s / 6m:24s],\t\ttrain_loss: 1.0775,\ttrain_loss_surv: 1.1254,\ttrain_loss_ae: 1.0057,\tval_loss: 1.2569,\tval_loss_surv: 1.5365,\tval_loss_ae: 0.8375\n",
            "40:\t[11s / 6m:35s],\t\ttrain_loss: 1.0789,\ttrain_loss_surv: 1.1300,\ttrain_loss_ae: 1.0023,\tval_loss: 1.2877,\tval_loss_surv: 1.5879,\tval_loss_ae: 0.8375\n",
            "41:\t[11s / 6m:46s],\t\ttrain_loss: 1.0816,\ttrain_loss_surv: 1.1335,\ttrain_loss_ae: 1.0038,\tval_loss: 1.2464,\tval_loss_surv: 1.5190,\tval_loss_ae: 0.8375\n",
            "42:\t[11s / 6m:57s],\t\ttrain_loss: 1.0781,\ttrain_loss_surv: 1.1279,\ttrain_loss_ae: 1.0034,\tval_loss: 1.2575,\tval_loss_surv: 1.5375,\tval_loss_ae: 0.8375\n",
            "43:\t[11s / 7m:8s],\t\ttrain_loss: 1.0735,\ttrain_loss_surv: 1.1216,\ttrain_loss_ae: 1.0013,\tval_loss: 1.2491,\tval_loss_surv: 1.5236,\tval_loss_ae: 0.8375\n",
            "44:\t[11s / 7m:19s],\t\ttrain_loss: 1.0774,\ttrain_loss_surv: 1.1286,\ttrain_loss_ae: 1.0006,\tval_loss: 1.2562,\tval_loss_surv: 1.5354,\tval_loss_ae: 0.8374\n",
            "45:\t[11s / 7m:30s],\t\ttrain_loss: 1.0764,\ttrain_loss_surv: 1.1275,\ttrain_loss_ae: 0.9998,\tval_loss: 1.2632,\tval_loss_surv: 1.5469,\tval_loss_ae: 0.8376\n",
            "46:\t[11s / 7m:41s],\t\ttrain_loss: 1.0727,\ttrain_loss_surv: 1.1207,\ttrain_loss_ae: 1.0007,\tval_loss: 1.2522,\tval_loss_surv: 1.5288,\tval_loss_ae: 0.8375\n",
            "47:\t[11s / 7m:53s],\t\ttrain_loss: 1.0764,\ttrain_loss_surv: 1.1258,\ttrain_loss_ae: 1.0023,\tval_loss: 1.2592,\tval_loss_surv: 1.5404,\tval_loss_ae: 0.8374\n",
            "48:\t[11s / 8m:4s],\t\ttrain_loss: 1.0773,\ttrain_loss_surv: 1.1250,\ttrain_loss_ae: 1.0059,\tval_loss: 1.2611,\tval_loss_surv: 1.5436,\tval_loss_ae: 0.8374\n",
            "49:\t[11s / 8m:15s],\t\ttrain_loss: 1.0762,\ttrain_loss_surv: 1.1250,\ttrain_loss_ae: 1.0031,\tval_loss: 1.2623,\tval_loss_surv: 1.5455,\tval_loss_ae: 0.8374\n",
            "50:\t[11s / 8m:26s],\t\ttrain_loss: 1.0755,\ttrain_loss_surv: 1.1244,\ttrain_loss_ae: 1.0023,\tval_loss: 1.2611,\tval_loss_surv: 1.5435,\tval_loss_ae: 0.8375\n",
            "51:\t[11s / 8m:37s],\t\ttrain_loss: 1.0771,\ttrain_loss_surv: 1.1260,\ttrain_loss_ae: 1.0038,\tval_loss: 1.2691,\tval_loss_surv: 1.5565,\tval_loss_ae: 0.8379\n",
            "52:\t[11s / 8m:48s],\t\ttrain_loss: 1.0764,\ttrain_loss_surv: 1.1259,\ttrain_loss_ae: 1.0022,\tval_loss: 1.2723,\tval_loss_surv: 1.5621,\tval_loss_ae: 0.8377\n",
            "53:\t[11s / 8m:59s],\t\ttrain_loss: 1.0768,\ttrain_loss_surv: 1.1274,\ttrain_loss_ae: 1.0009,\tval_loss: 1.2717,\tval_loss_surv: 1.5612,\tval_loss_ae: 0.8375\n",
            "54:\t[11s / 9m:10s],\t\ttrain_loss: 1.0759,\ttrain_loss_surv: 1.1253,\ttrain_loss_ae: 1.0018,\tval_loss: 1.2710,\tval_loss_surv: 1.5601,\tval_loss_ae: 0.8374\n",
            "55:\t[11s / 9m:21s],\t\ttrain_loss: 1.0740,\ttrain_loss_surv: 1.1224,\ttrain_loss_ae: 1.0014,\tval_loss: 1.2720,\tval_loss_surv: 1.5617,\tval_loss_ae: 0.8376\n",
            "56:\t[11s / 9m:32s],\t\ttrain_loss: 1.0733,\ttrain_loss_surv: 1.1222,\ttrain_loss_ae: 1.0001,\tval_loss: 1.2624,\tval_loss_surv: 1.5458,\tval_loss_ae: 0.8374\n",
            "57:\t[11s / 9m:43s],\t\ttrain_loss: 1.0760,\ttrain_loss_surv: 1.1273,\ttrain_loss_ae: 0.9991,\tval_loss: 1.2744,\tval_loss_surv: 1.5657,\tval_loss_ae: 0.8374\n",
            "58:\t[11s / 9m:54s],\t\ttrain_loss: 1.0761,\ttrain_loss_surv: 1.1266,\ttrain_loss_ae: 1.0003,\tval_loss: 1.2698,\tval_loss_surv: 1.5582,\tval_loss_ae: 0.8373\n",
            "59:\t[11s / 10m:5s],\t\ttrain_loss: 1.0756,\ttrain_loss_surv: 1.1249,\ttrain_loss_ae: 1.0015,\tval_loss: 1.2650,\tval_loss_surv: 1.5499,\tval_loss_ae: 0.8376\n",
            "60:\t[11s / 10m:16s],\t\ttrain_loss: 1.0776,\ttrain_loss_surv: 1.1273,\ttrain_loss_ae: 1.0030,\tval_loss: 1.2719,\tval_loss_surv: 1.5616,\tval_loss_ae: 0.8374\n",
            "61:\t[11s / 10m:27s],\t\ttrain_loss: 1.0758,\ttrain_loss_surv: 1.1244,\ttrain_loss_ae: 1.0029,\tval_loss: 1.2697,\tval_loss_surv: 1.5578,\tval_loss_ae: 0.8376\n",
            "62:\t[11s / 10m:38s],\t\ttrain_loss: 1.0779,\ttrain_loss_surv: 1.1254,\ttrain_loss_ae: 1.0067,\tval_loss: 1.2739,\tval_loss_surv: 1.5644,\tval_loss_ae: 0.8382\n",
            "63:\t[11s / 10m:49s],\t\ttrain_loss: 1.0765,\ttrain_loss_surv: 1.1244,\ttrain_loss_ae: 1.0046,\tval_loss: 1.2724,\tval_loss_surv: 1.5619,\tval_loss_ae: 0.8382\n",
            "64:\t[11s / 11m:1s],\t\ttrain_loss: 1.0772,\ttrain_loss_surv: 1.1255,\ttrain_loss_ae: 1.0048,\tval_loss: 1.2749,\tval_loss_surv: 1.5666,\tval_loss_ae: 0.8373\n",
            "65:\t[11s / 11m:12s],\t\ttrain_loss: 1.0771,\ttrain_loss_surv: 1.1259,\ttrain_loss_ae: 1.0039,\tval_loss: 1.2729,\tval_loss_surv: 1.5630,\tval_loss_ae: 0.8376\n",
            "66:\t[11s / 11m:23s],\t\ttrain_loss: 1.0770,\ttrain_loss_surv: 1.1256,\ttrain_loss_ae: 1.0041,\tval_loss: 1.2751,\tval_loss_surv: 1.5668,\tval_loss_ae: 0.8374\n",
            "67:\t[11s / 11m:34s],\t\ttrain_loss: 1.0745,\ttrain_loss_surv: 1.1240,\ttrain_loss_ae: 1.0003,\tval_loss: 1.2807,\tval_loss_surv: 1.5760,\tval_loss_ae: 0.8377\n",
            "68:\t[11s / 11m:45s],\t\ttrain_loss: 1.0725,\ttrain_loss_surv: 1.1208,\ttrain_loss_ae: 1.0001,\tval_loss: 1.2815,\tval_loss_surv: 1.5776,\tval_loss_ae: 0.8374\n",
            "69:\t[11s / 11m:56s],\t\ttrain_loss: 1.0755,\ttrain_loss_surv: 1.1263,\ttrain_loss_ae: 0.9993,\tval_loss: 1.2745,\tval_loss_surv: 1.5657,\tval_loss_ae: 0.8376\n",
            "70:\t[11s / 12m:7s],\t\ttrain_loss: 1.0764,\ttrain_loss_surv: 1.1223,\ttrain_loss_ae: 1.0076,\tval_loss: 1.2849,\tval_loss_surv: 1.5830,\tval_loss_ae: 0.8378\n",
            "71:\t[11s / 12m:18s],\t\ttrain_loss: 1.0737,\ttrain_loss_surv: 1.1233,\ttrain_loss_ae: 0.9992,\tval_loss: 1.2845,\tval_loss_surv: 1.5824,\tval_loss_ae: 0.8375\n",
            "72:\t[11s / 12m:29s],\t\ttrain_loss: 1.0744,\ttrain_loss_surv: 1.1218,\ttrain_loss_ae: 1.0033,\tval_loss: 1.2813,\tval_loss_surv: 1.5773,\tval_loss_ae: 0.8374\n",
            "73:\t[11s / 12m:40s],\t\ttrain_loss: 1.0760,\ttrain_loss_surv: 1.1275,\ttrain_loss_ae: 0.9987,\tval_loss: 1.2804,\tval_loss_surv: 1.5755,\tval_loss_ae: 0.8376\n",
            "74:\t[11s / 12m:51s],\t\ttrain_loss: 1.0779,\ttrain_loss_surv: 1.1248,\ttrain_loss_ae: 1.0076,\tval_loss: 1.2830,\tval_loss_surv: 1.5799,\tval_loss_ae: 0.8377\n",
            "75:\t[11s / 13m:2s],\t\ttrain_loss: 1.0743,\ttrain_loss_surv: 1.1220,\ttrain_loss_ae: 1.0026,\tval_loss: 1.2863,\tval_loss_surv: 1.5853,\tval_loss_ae: 0.8378\n",
            "76:\t[11s / 13m:13s],\t\ttrain_loss: 1.0764,\ttrain_loss_surv: 1.1244,\ttrain_loss_ae: 1.0044,\tval_loss: 1.2847,\tval_loss_surv: 1.5827,\tval_loss_ae: 0.8378\n",
            "77:\t[11s / 13m:24s],\t\ttrain_loss: 1.0795,\ttrain_loss_surv: 1.1289,\ttrain_loss_ae: 1.0053,\tval_loss: 1.2796,\tval_loss_surv: 1.5736,\tval_loss_ae: 0.8387\n",
            "78:\t[11s / 13m:35s],\t\ttrain_loss: 1.0760,\ttrain_loss_surv: 1.1246,\ttrain_loss_ae: 1.0031,\tval_loss: 1.2896,\tval_loss_surv: 1.5910,\tval_loss_ae: 0.8376\n",
            "79:\t[11s / 13m:47s],\t\ttrain_loss: 1.0747,\ttrain_loss_surv: 1.1232,\ttrain_loss_ae: 1.0020,\tval_loss: 1.2833,\tval_loss_surv: 1.5806,\tval_loss_ae: 0.8374\n",
            "80:\t[11s / 13m:58s],\t\ttrain_loss: 1.0782,\ttrain_loss_surv: 1.1285,\ttrain_loss_ae: 1.0028,\tval_loss: 1.2852,\tval_loss_surv: 1.5836,\tval_loss_ae: 0.8378\n",
            "81:\t[11s / 14m:9s],\t\ttrain_loss: 1.0752,\ttrain_loss_surv: 1.1238,\ttrain_loss_ae: 1.0024,\tval_loss: 1.2928,\tval_loss_surv: 1.5962,\tval_loss_ae: 0.8376\n",
            "82:\t[11s / 14m:20s],\t\ttrain_loss: 1.0748,\ttrain_loss_surv: 1.1230,\ttrain_loss_ae: 1.0024,\tval_loss: 1.2852,\tval_loss_surv: 1.5836,\tval_loss_ae: 0.8375\n",
            "83:\t[11s / 14m:31s],\t\ttrain_loss: 1.0803,\ttrain_loss_surv: 1.1286,\ttrain_loss_ae: 1.0078,\tval_loss: 1.2855,\tval_loss_surv: 1.5842,\tval_loss_ae: 0.8375\n",
            "84:\t[11s / 14m:42s],\t\ttrain_loss: 1.0746,\ttrain_loss_surv: 1.1231,\ttrain_loss_ae: 1.0020,\tval_loss: 1.2979,\tval_loss_surv: 1.6046,\tval_loss_ae: 0.8380\n",
            "85:\t[11s / 14m:53s],\t\ttrain_loss: 1.0761,\ttrain_loss_surv: 1.1246,\ttrain_loss_ae: 1.0035,\tval_loss: 1.2964,\tval_loss_surv: 1.6024,\tval_loss_ae: 0.8374\n",
            "86:\t[11s / 15m:4s],\t\ttrain_loss: 1.0747,\ttrain_loss_surv: 1.1231,\ttrain_loss_ae: 1.0022,\tval_loss: 1.2899,\tval_loss_surv: 1.5915,\tval_loss_ae: 0.8376\n",
            "87:\t[11s / 15m:15s],\t\ttrain_loss: 1.0767,\ttrain_loss_surv: 1.1230,\ttrain_loss_ae: 1.0073,\tval_loss: 1.2887,\tval_loss_surv: 1.5893,\tval_loss_ae: 0.8377\n",
            "88:\t[11s / 15m:26s],\t\ttrain_loss: 1.0759,\ttrain_loss_surv: 1.1241,\ttrain_loss_ae: 1.0037,\tval_loss: 1.2843,\tval_loss_surv: 1.5821,\tval_loss_ae: 0.8376\n",
            "89:\t[11s / 15m:37s],\t\ttrain_loss: 1.0739,\ttrain_loss_surv: 1.1216,\ttrain_loss_ae: 1.0024,\tval_loss: 1.2897,\tval_loss_surv: 1.5909,\tval_loss_ae: 0.8380\n",
            "90:\t[11s / 15m:48s],\t\ttrain_loss: 1.0765,\ttrain_loss_surv: 1.1246,\ttrain_loss_ae: 1.0043,\tval_loss: 1.2938,\tval_loss_surv: 1.5973,\tval_loss_ae: 0.8386\n",
            "91:\t[11s / 15m:59s],\t\ttrain_loss: 1.0746,\ttrain_loss_surv: 1.1231,\ttrain_loss_ae: 1.0019,\tval_loss: 1.2874,\tval_loss_surv: 1.5873,\tval_loss_ae: 0.8376\n",
            "92:\t[11s / 16m:11s],\t\ttrain_loss: 1.0762,\ttrain_loss_surv: 1.1262,\ttrain_loss_ae: 1.0011,\tval_loss: 1.2974,\tval_loss_surv: 1.6039,\tval_loss_ae: 0.8376\n",
            "93:\t[11s / 16m:22s],\t\ttrain_loss: 1.0737,\ttrain_loss_surv: 1.1202,\ttrain_loss_ae: 1.0039,\tval_loss: 1.2951,\tval_loss_surv: 1.6002,\tval_loss_ae: 0.8376\n",
            "94:\t[11s / 16m:33s],\t\ttrain_loss: 1.0740,\ttrain_loss_surv: 1.1217,\ttrain_loss_ae: 1.0025,\tval_loss: 1.2920,\tval_loss_surv: 1.5951,\tval_loss_ae: 0.8373\n",
            "95:\t[11s / 16m:44s],\t\ttrain_loss: 1.0749,\ttrain_loss_surv: 1.1205,\ttrain_loss_ae: 1.0064,\tval_loss: 1.2947,\tval_loss_surv: 1.5995,\tval_loss_ae: 0.8375\n",
            "96:\t[11s / 16m:55s],\t\ttrain_loss: 1.0766,\ttrain_loss_surv: 1.1257,\ttrain_loss_ae: 1.0031,\tval_loss: 1.2989,\tval_loss_surv: 1.6062,\tval_loss_ae: 0.8380\n",
            "97:\t[11s / 17m:6s],\t\ttrain_loss: 1.0760,\ttrain_loss_surv: 1.1238,\ttrain_loss_ae: 1.0044,\tval_loss: 1.3050,\tval_loss_surv: 1.6164,\tval_loss_ae: 0.8379\n",
            "98:\t[11s / 17m:17s],\t\ttrain_loss: 1.0775,\ttrain_loss_surv: 1.1248,\ttrain_loss_ae: 1.0066,\tval_loss: 1.2961,\tval_loss_surv: 1.6016,\tval_loss_ae: 0.8378\n",
            "99:\t[11s / 17m:28s],\t\ttrain_loss: 1.0768,\ttrain_loss_surv: 1.1237,\ttrain_loss_ae: 1.0065,\tval_loss: 1.3020,\tval_loss_surv: 1.6115,\tval_loss_ae: 0.8378\n"
          ],
          "name": "stdout"
        }
      ]
    },
    {
      "cell_type": "code",
      "metadata": {
        "id": "rW8HAbmiH_P2"
      },
      "source": [
        "res = model.log.to_pandas()"
      ],
      "execution_count": 20,
      "outputs": []
    },
    {
      "cell_type": "code",
      "metadata": {
        "colab": {
          "base_uri": "https://localhost:8080/",
          "height": 669
        },
        "id": "TASZlJ2WsgO-",
        "outputId": "50778f0f-01fe-440d-9da9-260be4de3aa1"
      },
      "source": [
        "res.tail(20)"
      ],
      "execution_count": 21,
      "outputs": [
        {
          "output_type": "execute_result",
          "data": {
            "text/html": [
              "<div>\n",
              "<style scoped>\n",
              "    .dataframe tbody tr th:only-of-type {\n",
              "        vertical-align: middle;\n",
              "    }\n",
              "\n",
              "    .dataframe tbody tr th {\n",
              "        vertical-align: top;\n",
              "    }\n",
              "\n",
              "    .dataframe thead th {\n",
              "        text-align: right;\n",
              "    }\n",
              "</style>\n",
              "<table border=\"1\" class=\"dataframe\">\n",
              "  <thead>\n",
              "    <tr style=\"text-align: right;\">\n",
              "      <th></th>\n",
              "      <th>train_loss</th>\n",
              "      <th>train_loss_surv</th>\n",
              "      <th>train_loss_ae</th>\n",
              "      <th>val_loss</th>\n",
              "      <th>val_loss_surv</th>\n",
              "      <th>val_loss_ae</th>\n",
              "    </tr>\n",
              "  </thead>\n",
              "  <tbody>\n",
              "    <tr>\n",
              "      <th>80</th>\n",
              "      <td>1.078203</td>\n",
              "      <td>1.128501</td>\n",
              "      <td>1.002756</td>\n",
              "      <td>1.285246</td>\n",
              "      <td>1.583569</td>\n",
              "      <td>0.837761</td>\n",
              "    </tr>\n",
              "    <tr>\n",
              "      <th>81</th>\n",
              "      <td>1.075249</td>\n",
              "      <td>1.123805</td>\n",
              "      <td>1.002416</td>\n",
              "      <td>1.292763</td>\n",
              "      <td>1.596176</td>\n",
              "      <td>0.837644</td>\n",
              "    </tr>\n",
              "    <tr>\n",
              "      <th>82</th>\n",
              "      <td>1.074760</td>\n",
              "      <td>1.122981</td>\n",
              "      <td>1.002427</td>\n",
              "      <td>1.285184</td>\n",
              "      <td>1.583627</td>\n",
              "      <td>0.837519</td>\n",
              "    </tr>\n",
              "    <tr>\n",
              "      <th>83</th>\n",
              "      <td>1.080302</td>\n",
              "      <td>1.128633</td>\n",
              "      <td>1.007804</td>\n",
              "      <td>1.285543</td>\n",
              "      <td>1.584218</td>\n",
              "      <td>0.837530</td>\n",
              "    </tr>\n",
              "    <tr>\n",
              "      <th>84</th>\n",
              "      <td>1.074633</td>\n",
              "      <td>1.123070</td>\n",
              "      <td>1.001977</td>\n",
              "      <td>1.297943</td>\n",
              "      <td>1.604604</td>\n",
              "      <td>0.837951</td>\n",
              "    </tr>\n",
              "    <tr>\n",
              "      <th>85</th>\n",
              "      <td>1.076140</td>\n",
              "      <td>1.124582</td>\n",
              "      <td>1.003477</td>\n",
              "      <td>1.296386</td>\n",
              "      <td>1.602355</td>\n",
              "      <td>0.837434</td>\n",
              "    </tr>\n",
              "    <tr>\n",
              "      <th>86</th>\n",
              "      <td>1.074734</td>\n",
              "      <td>1.123078</td>\n",
              "      <td>1.002217</td>\n",
              "      <td>1.289913</td>\n",
              "      <td>1.591483</td>\n",
              "      <td>0.837559</td>\n",
              "    </tr>\n",
              "    <tr>\n",
              "      <th>87</th>\n",
              "      <td>1.076739</td>\n",
              "      <td>1.123007</td>\n",
              "      <td>1.007337</td>\n",
              "      <td>1.288655</td>\n",
              "      <td>1.589324</td>\n",
              "      <td>0.837653</td>\n",
              "    </tr>\n",
              "    <tr>\n",
              "      <th>88</th>\n",
              "      <td>1.075915</td>\n",
              "      <td>1.124084</td>\n",
              "      <td>1.003662</td>\n",
              "      <td>1.284290</td>\n",
              "      <td>1.582062</td>\n",
              "      <td>0.837631</td>\n",
              "    </tr>\n",
              "    <tr>\n",
              "      <th>89</th>\n",
              "      <td>1.073922</td>\n",
              "      <td>1.121605</td>\n",
              "      <td>1.002397</td>\n",
              "      <td>1.289741</td>\n",
              "      <td>1.590897</td>\n",
              "      <td>0.838008</td>\n",
              "    </tr>\n",
              "    <tr>\n",
              "      <th>90</th>\n",
              "      <td>1.076509</td>\n",
              "      <td>1.124637</td>\n",
              "      <td>1.004316</td>\n",
              "      <td>1.293810</td>\n",
              "      <td>1.597262</td>\n",
              "      <td>0.838630</td>\n",
              "    </tr>\n",
              "    <tr>\n",
              "      <th>91</th>\n",
              "      <td>1.074620</td>\n",
              "      <td>1.123069</td>\n",
              "      <td>1.001947</td>\n",
              "      <td>1.287404</td>\n",
              "      <td>1.587297</td>\n",
              "      <td>0.837564</td>\n",
              "    </tr>\n",
              "    <tr>\n",
              "      <th>92</th>\n",
              "      <td>1.076195</td>\n",
              "      <td>1.126243</td>\n",
              "      <td>1.001123</td>\n",
              "      <td>1.297353</td>\n",
              "      <td>1.603877</td>\n",
              "      <td>0.837567</td>\n",
              "    </tr>\n",
              "    <tr>\n",
              "      <th>93</th>\n",
              "      <td>1.073677</td>\n",
              "      <td>1.120210</td>\n",
              "      <td>1.003879</td>\n",
              "      <td>1.295123</td>\n",
              "      <td>1.600170</td>\n",
              "      <td>0.837553</td>\n",
              "    </tr>\n",
              "    <tr>\n",
              "      <th>94</th>\n",
              "      <td>1.074006</td>\n",
              "      <td>1.121697</td>\n",
              "      <td>1.002471</td>\n",
              "      <td>1.292013</td>\n",
              "      <td>1.595139</td>\n",
              "      <td>0.837323</td>\n",
              "    </tr>\n",
              "    <tr>\n",
              "      <th>95</th>\n",
              "      <td>1.074855</td>\n",
              "      <td>1.120487</td>\n",
              "      <td>1.006407</td>\n",
              "      <td>1.294682</td>\n",
              "      <td>1.599487</td>\n",
              "      <td>0.837475</td>\n",
              "    </tr>\n",
              "    <tr>\n",
              "      <th>96</th>\n",
              "      <td>1.076625</td>\n",
              "      <td>1.125661</td>\n",
              "      <td>1.003070</td>\n",
              "      <td>1.298910</td>\n",
              "      <td>1.606180</td>\n",
              "      <td>0.838006</td>\n",
              "    </tr>\n",
              "    <tr>\n",
              "      <th>97</th>\n",
              "      <td>1.076045</td>\n",
              "      <td>1.123814</td>\n",
              "      <td>1.004393</td>\n",
              "      <td>1.305029</td>\n",
              "      <td>1.616434</td>\n",
              "      <td>0.837923</td>\n",
              "    </tr>\n",
              "    <tr>\n",
              "      <th>98</th>\n",
              "      <td>1.077508</td>\n",
              "      <td>1.124796</td>\n",
              "      <td>1.006576</td>\n",
              "      <td>1.296105</td>\n",
              "      <td>1.601623</td>\n",
              "      <td>0.837828</td>\n",
              "    </tr>\n",
              "    <tr>\n",
              "      <th>99</th>\n",
              "      <td>1.076836</td>\n",
              "      <td>1.123710</td>\n",
              "      <td>1.006525</td>\n",
              "      <td>1.302025</td>\n",
              "      <td>1.611499</td>\n",
              "      <td>0.837815</td>\n",
              "    </tr>\n",
              "  </tbody>\n",
              "</table>\n",
              "</div>"
            ],
            "text/plain": [
              "    train_loss  train_loss_surv  ...  val_loss_surv  val_loss_ae\n",
              "80    1.078203         1.128501  ...       1.583569     0.837761\n",
              "81    1.075249         1.123805  ...       1.596176     0.837644\n",
              "82    1.074760         1.122981  ...       1.583627     0.837519\n",
              "83    1.080302         1.128633  ...       1.584218     0.837530\n",
              "84    1.074633         1.123070  ...       1.604604     0.837951\n",
              "85    1.076140         1.124582  ...       1.602355     0.837434\n",
              "86    1.074734         1.123078  ...       1.591483     0.837559\n",
              "87    1.076739         1.123007  ...       1.589324     0.837653\n",
              "88    1.075915         1.124084  ...       1.582062     0.837631\n",
              "89    1.073922         1.121605  ...       1.590897     0.838008\n",
              "90    1.076509         1.124637  ...       1.597262     0.838630\n",
              "91    1.074620         1.123069  ...       1.587297     0.837564\n",
              "92    1.076195         1.126243  ...       1.603877     0.837567\n",
              "93    1.073677         1.120210  ...       1.600170     0.837553\n",
              "94    1.074006         1.121697  ...       1.595139     0.837323\n",
              "95    1.074855         1.120487  ...       1.599487     0.837475\n",
              "96    1.076625         1.125661  ...       1.606180     0.838006\n",
              "97    1.076045         1.123814  ...       1.616434     0.837923\n",
              "98    1.077508         1.124796  ...       1.601623     0.837828\n",
              "99    1.076836         1.123710  ...       1.611499     0.837815\n",
              "\n",
              "[20 rows x 6 columns]"
            ]
          },
          "metadata": {
            "tags": []
          },
          "execution_count": 21
        }
      ]
    },
    {
      "cell_type": "code",
      "metadata": {
        "colab": {
          "base_uri": "https://localhost:8080/",
          "height": 265
        },
        "id": "CbhkG9_LyOeI",
        "outputId": "00369b40-bbb1-418b-d026-303979dbbb1c"
      },
      "source": [
        "_ = res[['train_loss', 'val_loss']].plot()"
      ],
      "execution_count": 22,
      "outputs": [
        {
          "output_type": "display_data",
          "data": {
            "image/png": "[encoded data removed]",
            "text/plain": [
              "<Figure size 432x288 with 1 Axes>"
            ]
          },
          "metadata": {
            "tags": [],
            "needs_background": "light"
          }
        }
      ]
    },
    {
      "cell_type": "code",
      "metadata": {
        "colab": {
          "base_uri": "https://localhost:8080/",
          "height": 265
        },
        "id": "ePVAlSz3yRB_",
        "outputId": "82df9645-f6b9-4e85-8628-8bfc468fbe68"
      },
      "source": [
        "_ = res[['train_loss_surv', 'val_loss_surv']].plot()"
      ],
      "execution_count": 23,
      "outputs": [
        {
          "output_type": "display_data",
          "data": {
            "image/png": "[encoded data removed]",
            "text/plain": [
              "<Figure size 432x288 with 1 Axes>"
            ]
          },
          "metadata": {
            "tags": [],
            "needs_background": "light"
          }
        }
      ]
    },
    {
      "cell_type": "code",
      "metadata": {
        "colab": {
          "base_uri": "https://localhost:8080/",
          "height": 266
        },
        "id": "IHQnnn9MyTGv",
        "outputId": "87492380-9333-47ee-8de8-9e2dba16d2bd"
      },
      "source": [
        "_ = res[['train_loss_ae', 'val_loss_ae']].plot()"
      ],
      "execution_count": 24,
      "outputs": [
        {
          "output_type": "display_data",
          "data": {
            "image/png": "[encoded data removed]",
            "text/plain": [
              "<Figure size 432x288 with 1 Axes>"
            ]
          },
          "metadata": {
            "tags": [],
            "needs_background": "light"
          }
        }
      ]
    },
    {
      "cell_type": "code",
      "metadata": {
        "id": "93kduPP9yWl3"
      },
      "source": [
        "surv1 = model.interpolate(10).predict_surv_df(x_test1)\n",
        "surv2 = model.interpolate(10).predict_surv_df(x_test2)"
      ],
      "execution_count": 25,
      "outputs": []
    },
    {
      "cell_type": "code",
      "metadata": {
        "colab": {
          "base_uri": "https://localhost:8080/",
          "height": 419
        },
        "id": "z9k3niH4yYXH",
        "outputId": "6eb9ef07-dfa3-4801-fd2d-88ac082da1ff"
      },
      "source": [
        "surv1.iloc[:, :5]"
      ],
      "execution_count": 26,
      "outputs": [
        {
          "output_type": "execute_result",
          "data": {
            "text/html": [
              "<div>\n",
              "<style scoped>\n",
              "    .dataframe tbody tr th:only-of-type {\n",
              "        vertical-align: middle;\n",
              "    }\n",
              "\n",
              "    .dataframe tbody tr th {\n",
              "        vertical-align: top;\n",
              "    }\n",
              "\n",
              "    .dataframe thead th {\n",
              "        text-align: right;\n",
              "    }\n",
              "</style>\n",
              "<table border=\"1\" class=\"dataframe\">\n",
              "  <thead>\n",
              "    <tr style=\"text-align: right;\">\n",
              "      <th></th>\n",
              "      <th>0</th>\n",
              "      <th>1</th>\n",
              "      <th>2</th>\n",
              "      <th>3</th>\n",
              "      <th>4</th>\n",
              "    </tr>\n",
              "  </thead>\n",
              "  <tbody>\n",
              "    <tr>\n",
              "      <th>0.000000</th>\n",
              "      <td>0.999962</td>\n",
              "      <td>0.999962</td>\n",
              "      <td>0.999962</td>\n",
              "      <td>0.999962</td>\n",
              "      <td>0.999962</td>\n",
              "    </tr>\n",
              "    <tr>\n",
              "      <th>1.455556</th>\n",
              "      <td>0.970704</td>\n",
              "      <td>0.970704</td>\n",
              "      <td>0.970704</td>\n",
              "      <td>0.970704</td>\n",
              "      <td>0.970704</td>\n",
              "    </tr>\n",
              "    <tr>\n",
              "      <th>2.911111</th>\n",
              "      <td>0.941445</td>\n",
              "      <td>0.941445</td>\n",
              "      <td>0.941445</td>\n",
              "      <td>0.941445</td>\n",
              "      <td>0.941445</td>\n",
              "    </tr>\n",
              "    <tr>\n",
              "      <th>4.366667</th>\n",
              "      <td>0.912187</td>\n",
              "      <td>0.912187</td>\n",
              "      <td>0.912187</td>\n",
              "      <td>0.912187</td>\n",
              "      <td>0.912187</td>\n",
              "    </tr>\n",
              "    <tr>\n",
              "      <th>5.822222</th>\n",
              "      <td>0.882928</td>\n",
              "      <td>0.882928</td>\n",
              "      <td>0.882928</td>\n",
              "      <td>0.882928</td>\n",
              "      <td>0.882928</td>\n",
              "    </tr>\n",
              "    <tr>\n",
              "      <th>...</th>\n",
              "      <td>...</td>\n",
              "      <td>...</td>\n",
              "      <td>...</td>\n",
              "      <td>...</td>\n",
              "      <td>...</td>\n",
              "    </tr>\n",
              "    <tr>\n",
              "      <th>125.177778</th>\n",
              "      <td>0.008685</td>\n",
              "      <td>0.008685</td>\n",
              "      <td>0.008685</td>\n",
              "      <td>0.008685</td>\n",
              "      <td>0.008685</td>\n",
              "    </tr>\n",
              "    <tr>\n",
              "      <th>126.633333</th>\n",
              "      <td>0.006526</td>\n",
              "      <td>0.006526</td>\n",
              "      <td>0.006526</td>\n",
              "      <td>0.006526</td>\n",
              "      <td>0.006526</td>\n",
              "    </tr>\n",
              "    <tr>\n",
              "      <th>128.088889</th>\n",
              "      <td>0.004367</td>\n",
              "      <td>0.004367</td>\n",
              "      <td>0.004367</td>\n",
              "      <td>0.004367</td>\n",
              "      <td>0.004367</td>\n",
              "    </tr>\n",
              "    <tr>\n",
              "      <th>129.544444</th>\n",
              "      <td>0.002208</td>\n",
              "      <td>0.002208</td>\n",
              "      <td>0.002208</td>\n",
              "      <td>0.002208</td>\n",
              "      <td>0.002208</td>\n",
              "    </tr>\n",
              "    <tr>\n",
              "      <th>131.000000</th>\n",
              "      <td>0.000049</td>\n",
              "      <td>0.000049</td>\n",
              "      <td>0.000049</td>\n",
              "      <td>0.000049</td>\n",
              "      <td>0.000049</td>\n",
              "    </tr>\n",
              "  </tbody>\n",
              "</table>\n",
              "<p>91 rows × 5 columns</p>\n",
              "</div>"
            ],
            "text/plain": [
              "                   0         1         2         3         4\n",
              "0.000000    0.999962  0.999962  0.999962  0.999962  0.999962\n",
              "1.455556    0.970704  0.970704  0.970704  0.970704  0.970704\n",
              "2.911111    0.941445  0.941445  0.941445  0.941445  0.941445\n",
              "4.366667    0.912187  0.912187  0.912187  0.912187  0.912187\n",
              "5.822222    0.882928  0.882928  0.882928  0.882928  0.882928\n",
              "...              ...       ...       ...       ...       ...\n",
              "125.177778  0.008685  0.008685  0.008685  0.008685  0.008685\n",
              "126.633333  0.006526  0.006526  0.006526  0.006526  0.006526\n",
              "128.088889  0.004367  0.004367  0.004367  0.004367  0.004367\n",
              "129.544444  0.002208  0.002208  0.002208  0.002208  0.002208\n",
              "131.000000  0.000049  0.000049  0.000049  0.000049  0.000049\n",
              "\n",
              "[91 rows x 5 columns]"
            ]
          },
          "metadata": {
            "tags": []
          },
          "execution_count": 26
        }
      ]
    },
    {
      "cell_type": "code",
      "metadata": {
        "colab": {
          "base_uri": "https://localhost:8080/",
          "height": 419
        },
        "id": "4SGj47IxyZrh",
        "outputId": "ba8a5d3c-5331-4314-b676-fcb2f33a6715"
      },
      "source": [
        "surv2.iloc[:, :10]"
      ],
      "execution_count": 27,
      "outputs": [
        {
          "output_type": "execute_result",
          "data": {
            "text/html": [
              "<div>\n",
              "<style scoped>\n",
              "    .dataframe tbody tr th:only-of-type {\n",
              "        vertical-align: middle;\n",
              "    }\n",
              "\n",
              "    .dataframe tbody tr th {\n",
              "        vertical-align: top;\n",
              "    }\n",
              "\n",
              "    .dataframe thead th {\n",
              "        text-align: right;\n",
              "    }\n",
              "</style>\n",
              "<table border=\"1\" class=\"dataframe\">\n",
              "  <thead>\n",
              "    <tr style=\"text-align: right;\">\n",
              "      <th></th>\n",
              "      <th>0</th>\n",
              "      <th>1</th>\n",
              "      <th>2</th>\n",
              "      <th>3</th>\n",
              "      <th>4</th>\n",
              "      <th>5</th>\n",
              "      <th>6</th>\n",
              "      <th>7</th>\n",
              "      <th>8</th>\n",
              "      <th>9</th>\n",
              "    </tr>\n",
              "  </thead>\n",
              "  <tbody>\n",
              "    <tr>\n",
              "      <th>0.000000</th>\n",
              "      <td>0.999962</td>\n",
              "      <td>0.999962</td>\n",
              "      <td>0.999962</td>\n",
              "      <td>0.999962</td>\n",
              "      <td>0.999962</td>\n",
              "      <td>0.999962</td>\n",
              "      <td>0.999962</td>\n",
              "      <td>0.999962</td>\n",
              "      <td>0.999962</td>\n",
              "      <td>0.999962</td>\n",
              "    </tr>\n",
              "    <tr>\n",
              "      <th>1.455556</th>\n",
              "      <td>0.970704</td>\n",
              "      <td>0.970704</td>\n",
              "      <td>0.970704</td>\n",
              "      <td>0.970704</td>\n",
              "      <td>0.970704</td>\n",
              "      <td>0.970704</td>\n",
              "      <td>0.970704</td>\n",
              "      <td>0.970704</td>\n",
              "      <td>0.970704</td>\n",
              "      <td>0.970704</td>\n",
              "    </tr>\n",
              "    <tr>\n",
              "      <th>2.911111</th>\n",
              "      <td>0.941445</td>\n",
              "      <td>0.941445</td>\n",
              "      <td>0.941445</td>\n",
              "      <td>0.941445</td>\n",
              "      <td>0.941445</td>\n",
              "      <td>0.941445</td>\n",
              "      <td>0.941445</td>\n",
              "      <td>0.941445</td>\n",
              "      <td>0.941445</td>\n",
              "      <td>0.941445</td>\n",
              "    </tr>\n",
              "    <tr>\n",
              "      <th>4.366667</th>\n",
              "      <td>0.912187</td>\n",
              "      <td>0.912187</td>\n",
              "      <td>0.912187</td>\n",
              "      <td>0.912187</td>\n",
              "      <td>0.912187</td>\n",
              "      <td>0.912187</td>\n",
              "      <td>0.912187</td>\n",
              "      <td>0.912187</td>\n",
              "      <td>0.912187</td>\n",
              "      <td>0.912187</td>\n",
              "    </tr>\n",
              "    <tr>\n",
              "      <th>5.822222</th>\n",
              "      <td>0.882928</td>\n",
              "      <td>0.882928</td>\n",
              "      <td>0.882928</td>\n",
              "      <td>0.882928</td>\n",
              "      <td>0.882928</td>\n",
              "      <td>0.882928</td>\n",
              "      <td>0.882928</td>\n",
              "      <td>0.882928</td>\n",
              "      <td>0.882928</td>\n",
              "      <td>0.882928</td>\n",
              "    </tr>\n",
              "    <tr>\n",
              "      <th>...</th>\n",
              "      <td>...</td>\n",
              "      <td>...</td>\n",
              "      <td>...</td>\n",
              "      <td>...</td>\n",
              "      <td>...</td>\n",
              "      <td>...</td>\n",
              "      <td>...</td>\n",
              "      <td>...</td>\n",
              "      <td>...</td>\n",
              "      <td>...</td>\n",
              "    </tr>\n",
              "    <tr>\n",
              "      <th>125.177778</th>\n",
              "      <td>0.008685</td>\n",
              "      <td>0.008685</td>\n",
              "      <td>0.008685</td>\n",
              "      <td>0.008685</td>\n",
              "      <td>0.008685</td>\n",
              "      <td>0.008685</td>\n",
              "      <td>0.008685</td>\n",
              "      <td>0.008685</td>\n",
              "      <td>0.008685</td>\n",
              "      <td>0.008685</td>\n",
              "    </tr>\n",
              "    <tr>\n",
              "      <th>126.633333</th>\n",
              "      <td>0.006526</td>\n",
              "      <td>0.006526</td>\n",
              "      <td>0.006526</td>\n",
              "      <td>0.006526</td>\n",
              "      <td>0.006526</td>\n",
              "      <td>0.006526</td>\n",
              "      <td>0.006526</td>\n",
              "      <td>0.006526</td>\n",
              "      <td>0.006526</td>\n",
              "      <td>0.006526</td>\n",
              "    </tr>\n",
              "    <tr>\n",
              "      <th>128.088889</th>\n",
              "      <td>0.004367</td>\n",
              "      <td>0.004367</td>\n",
              "      <td>0.004367</td>\n",
              "      <td>0.004367</td>\n",
              "      <td>0.004367</td>\n",
              "      <td>0.004367</td>\n",
              "      <td>0.004367</td>\n",
              "      <td>0.004367</td>\n",
              "      <td>0.004367</td>\n",
              "      <td>0.004367</td>\n",
              "    </tr>\n",
              "    <tr>\n",
              "      <th>129.544444</th>\n",
              "      <td>0.002208</td>\n",
              "      <td>0.002208</td>\n",
              "      <td>0.002208</td>\n",
              "      <td>0.002208</td>\n",
              "      <td>0.002208</td>\n",
              "      <td>0.002208</td>\n",
              "      <td>0.002208</td>\n",
              "      <td>0.002208</td>\n",
              "      <td>0.002208</td>\n",
              "      <td>0.002208</td>\n",
              "    </tr>\n",
              "    <tr>\n",
              "      <th>131.000000</th>\n",
              "      <td>0.000049</td>\n",
              "      <td>0.000049</td>\n",
              "      <td>0.000049</td>\n",
              "      <td>0.000049</td>\n",
              "      <td>0.000049</td>\n",
              "      <td>0.000049</td>\n",
              "      <td>0.000049</td>\n",
              "      <td>0.000049</td>\n",
              "      <td>0.000049</td>\n",
              "      <td>0.000049</td>\n",
              "    </tr>\n",
              "  </tbody>\n",
              "</table>\n",
              "<p>91 rows × 10 columns</p>\n",
              "</div>"
            ],
            "text/plain": [
              "                   0         1         2  ...         7         8         9\n",
              "0.000000    0.999962  0.999962  0.999962  ...  0.999962  0.999962  0.999962\n",
              "1.455556    0.970704  0.970704  0.970704  ...  0.970704  0.970704  0.970704\n",
              "2.911111    0.941445  0.941445  0.941445  ...  0.941445  0.941445  0.941445\n",
              "4.366667    0.912187  0.912187  0.912187  ...  0.912187  0.912187  0.912187\n",
              "5.822222    0.882928  0.882928  0.882928  ...  0.882928  0.882928  0.882928\n",
              "...              ...       ...       ...  ...       ...       ...       ...\n",
              "125.177778  0.008685  0.008685  0.008685  ...  0.008685  0.008685  0.008685\n",
              "126.633333  0.006526  0.006526  0.006526  ...  0.006526  0.006526  0.006526\n",
              "128.088889  0.004367  0.004367  0.004367  ...  0.004367  0.004367  0.004367\n",
              "129.544444  0.002208  0.002208  0.002208  ...  0.002208  0.002208  0.002208\n",
              "131.000000  0.000049  0.000049  0.000049  ...  0.000049  0.000049  0.000049\n",
              "\n",
              "[91 rows x 10 columns]"
            ]
          },
          "metadata": {
            "tags": []
          },
          "execution_count": 27
        }
      ]
    },
    {
      "cell_type": "code",
      "metadata": {
        "colab": {
          "base_uri": "https://localhost:8080/",
          "height": 279
        },
        "id": "NpbfmaV_ybrX",
        "outputId": "a674c9a8-ba48-41a9-9bed-322f965f8f47"
      },
      "source": [
        "surv1.iloc[:, :1].plot(drawstyle='steps-post')\n",
        "plt.ylabel('S(t | x)')\n",
        "_ = plt.xlabel('Time')"
      ],
      "execution_count": 28,
      "outputs": [
        {
          "output_type": "display_data",
          "data": {
            "image/png": "[encoded data removed]",
            "text/plain": [
              "<Figure size 432x288 with 1 Axes>"
            ]
          },
          "metadata": {
            "tags": [],
            "needs_background": "light"
          }
        }
      ]
    },
    {
      "cell_type": "code",
      "metadata": {
        "colab": {
          "base_uri": "https://localhost:8080/",
          "height": 279
        },
        "id": "Mdg0qqQUydZT",
        "outputId": "ff79bab3-d2da-48f5-ac33-0288c29d9b0a"
      },
      "source": [
        "surv2.iloc[:, :1].plot(drawstyle='steps-post')\n",
        "plt.ylabel('S(t | x)')\n",
        "_ = plt.xlabel('Time')"
      ],
      "execution_count": 29,
      "outputs": [
        {
          "output_type": "display_data",
          "data": {
            "image/png": "[encoded data removed]",
            "text/plain": [
              "<Figure size 432x288 with 1 Axes>"
            ]
          },
          "metadata": {
            "tags": [],
            "needs_background": "light"
          }
        }
      ]
    },
    {
      "cell_type": "code",
      "metadata": {
        "colab": {
          "base_uri": "https://localhost:8080/"
        },
        "id": "HHVxooMxyfW3",
        "outputId": "6c73a68a-181d-4f24-cb3e-84f70a1b5829"
      },
      "source": [
        "model.predict(x_test1[:2])"
      ],
      "execution_count": 30,
      "outputs": [
        {
          "output_type": "execute_result",
          "data": {
            "text/plain": [
              "array([[-10.175867  ,  -0.8828138 ,  -0.44154158,   0.28778872,\n",
              "         -0.5892128 ,   0.9418571 ,  -0.63351005,  -6.032008  ,\n",
              "         -5.9761834 ,   6.0924816 ],\n",
              "       [-10.175867  ,  -0.8828138 ,  -0.44154158,   0.28778872,\n",
              "         -0.5892128 ,   0.9418571 ,  -0.63351005,  -6.032008  ,\n",
              "         -5.9761834 ,   6.0924816 ]], dtype=float32)"
            ]
          },
          "metadata": {
            "tags": []
          },
          "execution_count": 30
        }
      ]
    },
    {
      "cell_type": "code",
      "metadata": {
        "colab": {
          "base_uri": "https://localhost:8080/"
        },
        "id": "fU2RXHy0ygz3",
        "outputId": "026c6fa5-a358-44bf-b984-c298c2b0d745"
      },
      "source": [
        "model.predict_net(x_test1[:1])"
      ],
      "execution_count": 31,
      "outputs": [
        {
          "output_type": "execute_result",
          "data": {
            "text/plain": [
              "(array([[-10.175867  ,  -0.8828138 ,  -0.44154158,   0.28778872,\n",
              "          -0.5892128 ,   0.9418571 ,  -0.63351005,  -6.032008  ,\n",
              "          -5.9761834 ,   6.0924816 ]], dtype=float32),\n",
              " array([[ 2.66951323e-02, -4.53658402e-03, -1.62105039e-02,\n",
              "          1.33511275e-02, -3.80264148e-02,  1.88754722e-02,\n",
              "          1.88810304e-02, -3.71809378e-02,  2.87455097e-02,\n",
              "         -3.01441029e-02,  6.80613518e-03,  1.97692253e-02,\n",
              "         -2.13478729e-02, -2.91912258e-03, -1.14150420e-02,\n",
              "          4.21605781e-02, -2.16495479e-04, -2.57489085e-03,\n",
              "          7.66225159e-03, -2.09792852e-02,  8.55784118e-03,\n",
              "          3.64948213e-02, -3.34385782e-03, -4.13700938e-03,\n",
              "          1.75807104e-02, -1.47229359e-02, -4.54403460e-04,\n",
              "          1.29649863e-02,  3.33056003e-02,  4.39622030e-02,\n",
              "         -1.85454413e-02, -7.88386166e-03,  1.45849586e-02,\n",
              "         -3.04673687e-02, -2.08087116e-02,  4.80891764e-03,\n",
              "         -2.39737332e-04,  4.15417179e-03, -3.32412571e-02,\n",
              "          4.24045324e-03, -2.61031613e-02,  2.31692567e-02,\n",
              "         -7.28358515e-03,  6.83675706e-03, -2.90688276e-02,\n",
              "          2.06846595e-02,  2.08738353e-02,  4.54432517e-03,\n",
              "          1.38175488e-02, -7.76514411e-04,  1.18430592e-02,\n",
              "         -2.07838789e-02,  1.02641732e-02, -1.45538002e-02,\n",
              "          1.66010633e-02, -5.11296093e-05, -1.12543628e-02,\n",
              "          3.44713777e-03,  4.02282625e-02, -2.59776972e-03,\n",
              "         -1.83432698e-02, -2.02611461e-03,  3.12645826e-03,\n",
              "          2.37370431e-02,  3.54680717e-02, -1.74969360e-02,\n",
              "          3.01199779e-02,  4.56185639e-03,  1.72124207e-02,\n",
              "          1.21407434e-02, -2.33433917e-02,  2.53860354e-02,\n",
              "          1.11810640e-02,  1.60337761e-02, -2.26652473e-02,\n",
              "         -3.26893013e-03,  3.87478843e-02,  1.89922079e-02,\n",
              "          1.06577352e-02,  2.19800472e-02, -1.08613148e-02,\n",
              "          3.08174081e-03,  1.04793832e-02, -1.51612684e-02,\n",
              "         -2.18338296e-02, -3.60676646e-03,  2.67207380e-02,\n",
              "          1.82514414e-02, -1.95430517e-02,  3.29078641e-03,\n",
              "         -1.06346672e-02,  4.20202985e-02, -2.96878666e-02,\n",
              "         -6.81616366e-04,  2.40218788e-02, -3.06399465e-02,\n",
              "          3.95426787e-02,  1.30851567e-02,  1.47859529e-02,\n",
              "         -2.48389915e-02,  2.95229852e-02, -1.00047663e-02,\n",
              "          1.02162603e-02, -1.07554123e-02, -1.02431700e-02,\n",
              "         -2.06504539e-02, -8.74012243e-03, -2.00212300e-02,\n",
              "          5.44023840e-03,  9.17220861e-03, -3.36481631e-03,\n",
              "          1.77498311e-02, -1.02034211e-03, -1.23381838e-02,\n",
              "          3.89466025e-02, -2.87920162e-02,  2.19242424e-02,\n",
              "          2.13317350e-02, -1.91102847e-02,  4.80923802e-03,\n",
              "          2.44595110e-04,  2.60256976e-02, -7.26236776e-03,\n",
              "         -9.31099802e-03,  5.04174829e-03, -2.49123201e-02,\n",
              "         -1.48194246e-02,  8.69616866e-04,  1.49887875e-02,\n",
              "         -4.90212021e-03,  2.25739703e-02, -1.51198730e-02,\n",
              "          1.26424674e-02,  3.14521268e-02, -1.02251172e-02,\n",
              "          2.64286809e-03,  2.90458575e-02, -3.96815613e-02,\n",
              "         -4.99658659e-03,  1.87050998e-02,  1.15417242e-02,\n",
              "         -2.96253413e-02,  1.54453516e-03, -6.51553273e-04,\n",
              "         -1.99161470e-02,  2.47744452e-02, -2.43034139e-02,\n",
              "          1.37227327e-02, -1.71629339e-02,  2.98071578e-02,\n",
              "          2.51859091e-02,  7.34896958e-03, -1.31435916e-02,\n",
              "         -2.49216706e-02, -2.63757110e-02, -4.35516685e-02,\n",
              "          1.04086474e-02,  3.23406011e-02,  1.20972395e-02,\n",
              "          9.90358740e-03, -9.40507650e-03,  3.18661891e-03,\n",
              "          1.45523325e-02, -1.10487118e-02, -3.70296836e-03,\n",
              "          9.97538120e-03, -1.42712742e-02,  1.72166079e-02,\n",
              "         -5.16468287e-03,  5.50470315e-04, -2.15619355e-02,\n",
              "         -9.96947289e-04,  3.38623822e-02,  1.76535826e-02,\n",
              "         -1.01754889e-02,  4.49353456e-03, -3.41156498e-02,\n",
              "          2.24378463e-02, -3.41978222e-02, -4.43630144e-02,\n",
              "         -1.78380646e-02,  2.81793550e-02,  1.91617310e-02,\n",
              "         -1.59902200e-02,  8.62532854e-03, -1.15756169e-02,\n",
              "          1.09711140e-02, -1.33529156e-02,  1.36593655e-02,\n",
              "          1.96414143e-02, -3.70749086e-03,  3.59927267e-02,\n",
              "          2.59152055e-03, -1.10371783e-02,  3.13112848e-02,\n",
              "          3.62462550e-02,  3.87879908e-02,  9.47790779e-03,\n",
              "          5.31885028e-03, -1.59368888e-02, -2.37308294e-02,\n",
              "         -1.48632750e-02, -1.29433880e-02,  2.41275579e-02,\n",
              "          1.29735656e-02,  3.08327824e-02,  1.47655830e-02,\n",
              "          2.84409449e-02, -2.35979632e-02, -3.57861668e-02,\n",
              "         -1.83164254e-02,  1.68983117e-02, -5.97239286e-03,\n",
              "          1.08295232e-02, -1.37043148e-02,  2.37105861e-02,\n",
              "         -1.07069910e-02, -5.08655421e-03,  8.15235078e-03,\n",
              "         -2.40099356e-02,  7.78704882e-04, -1.76209472e-02,\n",
              "          9.18181986e-03,  3.12705711e-02,  1.97782218e-02,\n",
              "          1.14126932e-02,  3.17321569e-02,  3.01903486e-03,\n",
              "          2.34827809e-02, -1.64781995e-02,  5.58573976e-02,\n",
              "          3.19627114e-03, -3.06992382e-02, -2.00872719e-02,\n",
              "          3.13711911e-02,  5.26642427e-03,  4.62903529e-02,\n",
              "         -6.73353672e-03, -5.31882606e-03,  2.69087479e-02,\n",
              "          4.54281271e-03,  2.82059684e-02,  4.08313423e-03,\n",
              "          2.12960169e-02, -7.47029111e-03, -6.07368350e-03,\n",
              "          2.65573189e-02, -1.30862594e-02,  2.84465030e-02,\n",
              "          6.98450208e-03, -8.72716308e-04, -1.63652971e-02,\n",
              "          1.93580985e-02, -1.39063485e-02, -5.38712740e-03,\n",
              "         -4.96182032e-03, -6.65329397e-04, -4.59738076e-03,\n",
              "          1.30816847e-02, -5.42891957e-03,  3.68022546e-03,\n",
              "          3.77766863e-02,  2.13149395e-02, -1.60445571e-02,\n",
              "         -3.12184114e-02, -2.58220285e-02,  7.50822946e-05,\n",
              "          3.29596251e-02, -1.10926758e-02,  6.22567721e-03,\n",
              "          2.69646943e-03,  2.35581845e-02,  3.93353030e-02,\n",
              "          1.40517950e-05,  4.68744338e-03, -1.17135569e-02,\n",
              "          2.21059173e-02,  2.12726220e-02,  2.01499313e-02,\n",
              "         -2.44291797e-02,  1.30961696e-02,  7.77180679e-03]], dtype=float32))"
            ]
          },
          "metadata": {
            "tags": []
          },
          "execution_count": 31
        }
      ]
    },
    {
      "cell_type": "code",
      "metadata": {
        "id": "dA-EcaH-yiig"
      },
      "source": [
        "evs1 = EvalSurv(surv1, durations_test1, events_test1, censor_surv='km')\n",
        "evs2 = EvalSurv(surv2, durations_test2, events_test2, censor_surv='km')"
      ],
      "execution_count": 32,
      "outputs": []
    },
    {
      "cell_type": "code",
      "metadata": {
        "colab": {
          "base_uri": "https://localhost:8080/"
        },
        "id": "pTI_T8fnymZo",
        "outputId": "2a53adc6-f69c-4be9-8634-4c53fda1c3ab"
      },
      "source": [
        "evs1.concordance_td()"
      ],
      "execution_count": 33,
      "outputs": [
        {
          "output_type": "execute_result",
          "data": {
            "text/plain": [
              "0.522680412371134"
            ]
          },
          "metadata": {
            "tags": []
          },
          "execution_count": 33
        }
      ]
    },
    {
      "cell_type": "code",
      "metadata": {
        "colab": {
          "base_uri": "https://localhost:8080/"
        },
        "id": "j2Cx2QrTyn4H",
        "outputId": "6d51948c-3791-4f65-c918-8ed9b7eee8ee"
      },
      "source": [
        "evs2.concordance_td()"
      ],
      "execution_count": 34,
      "outputs": [
        {
          "output_type": "execute_result",
          "data": {
            "text/plain": [
              "0.5210651828298887"
            ]
          },
          "metadata": {
            "tags": []
          },
          "execution_count": 34
        }
      ]
    },
    {
      "cell_type": "code",
      "metadata": {
        "colab": {
          "base_uri": "https://localhost:8080/",
          "height": 279
        },
        "id": "OTtuDB4IypQn",
        "outputId": "bd7ca7ad-c624-481c-935b-9d792e6e094d"
      },
      "source": [
        "time_grid = np.linspace(durations_test1.min(), durations_test1.max(), 100)\n",
        "evs1.brier_score(time_grid).plot()\n",
        "plt.ylabel('Brier score')\n",
        "_ = plt.xlabel('Time')"
      ],
      "execution_count": 35,
      "outputs": [
        {
          "output_type": "display_data",
          "data": {
            "image/png": "[encoded data removed]",
            "text/plain": [
              "<Figure size 432x288 with 1 Axes>"
            ]
          },
          "metadata": {
            "tags": [],
            "needs_background": "light"
          }
        }
      ]
    },
    {
      "cell_type": "code",
      "metadata": {
        "colab": {
          "base_uri": "https://localhost:8080/",
          "height": 279
        },
        "id": "43FxEZaRyqt_",
        "outputId": "486cb304-0deb-474c-862b-1606f3610818"
      },
      "source": [
        "time_grid = np.linspace(durations_test2.min(), durations_test2.max(), 100)\n",
        "evs2.brier_score(time_grid).plot()\n",
        "plt.ylabel('Brier score')\n",
        "_ = plt.xlabel('Time')"
      ],
      "execution_count": 36,
      "outputs": [
        {
          "output_type": "display_data",
          "data": {
            "image/png": "[encoded data removed]",
            "text/plain": [
              "<Figure size 432x288 with 1 Axes>"
            ]
          },
          "metadata": {
            "tags": [],
            "needs_background": "light"
          }
        }
      ]
    },
    {
      "cell_type": "code",
      "metadata": {
        "colab": {
          "base_uri": "https://localhost:8080/",
          "height": 279
        },
        "id": "M3hm1UMGyryk",
        "outputId": "8a7194f8-2ac0-460e-b3e3-962d8f8d541d"
      },
      "source": [
        "evs1.nbll(time_grid).plot()\n",
        "plt.ylabel('NBLL')\n",
        "_ = plt.xlabel('Time')"
      ],
      "execution_count": 37,
      "outputs": [
        {
          "output_type": "display_data",
          "data": {
            "image/png": "[encoded data removed]",
            "text/plain": [
              "<Figure size 432x288 with 1 Axes>"
            ]
          },
          "metadata": {
            "tags": [],
            "needs_background": "light"
          }
        }
      ]
    },
    {
      "cell_type": "code",
      "metadata": {
        "colab": {
          "base_uri": "https://localhost:8080/",
          "height": 282
        },
        "id": "13fLObgayuts",
        "outputId": "65610325-9a29-4db0-cf5e-3302c8bf7400"
      },
      "source": [
        "evs2.nbll(time_grid).plot()\n",
        "plt.ylabel('NBLL')\n",
        "_ = plt.xlabel('Time')"
      ],
      "execution_count": 38,
      "outputs": [
        {
          "output_type": "display_data",
          "data": {
            "image/png": "[encoded data removed]",
            "text/plain": [
              "<Figure size 432x288 with 1 Axes>"
            ]
          },
          "metadata": {
            "tags": [],
            "needs_background": "light"
          }
        }
      ]
    },
    {
      "cell_type": "markdown",
      "metadata": {
        "id": "3RiWzw2Ly3q9"
      },
      "source": [
        ""
      ]
    },
    {
      "cell_type": "code",
      "metadata": {
        "colab": {
          "base_uri": "https://localhost:8080/"
        },
        "id": "CA5Vr4s5ywDo",
        "outputId": "7557ecd7-02d2-4e54-afc2-037f7a3a12ce"
      },
      "source": [
        "evs1.integrated_brier_score(time_grid)"
      ],
      "execution_count": 39,
      "outputs": [
        {
          "output_type": "execute_result",
          "data": {
            "text/plain": [
              "0.12195008008024491"
            ]
          },
          "metadata": {
            "tags": []
          },
          "execution_count": 39
        }
      ]
    },
    {
      "cell_type": "code",
      "metadata": {
        "colab": {
          "base_uri": "https://localhost:8080/"
        },
        "id": "FCgsz5D4yxkw",
        "outputId": "2757048b-c5c1-4bb8-9bfb-4334a760d369"
      },
      "source": [
        "evs1.integrated_nbll(time_grid)"
      ],
      "execution_count": 40,
      "outputs": [
        {
          "output_type": "execute_result",
          "data": {
            "text/plain": [
              "0.40703304937345736"
            ]
          },
          "metadata": {
            "tags": []
          },
          "execution_count": 40
        }
      ]
    },
    {
      "cell_type": "code",
      "metadata": {
        "colab": {
          "base_uri": "https://localhost:8080/"
        },
        "id": "P3b7Z34qyyqH",
        "outputId": "a17f0d40-d8ac-41ca-e6f5-97357b1cd534"
      },
      "source": [
        "evs2.integrated_brier_score(time_grid)"
      ],
      "execution_count": 41,
      "outputs": [
        {
          "output_type": "execute_result",
          "data": {
            "text/plain": [
              "0.11490891377608493"
            ]
          },
          "metadata": {
            "tags": []
          },
          "execution_count": 41
        }
      ]
    },
    {
      "cell_type": "code",
      "metadata": {
        "colab": {
          "base_uri": "https://localhost:8080/"
        },
        "id": "uNwyN6I4y0Mv",
        "outputId": "473f7f3f-9bdd-4e83-8b0b-308891b4427b"
      },
      "source": [
        "evs2.integrated_nbll(time_grid)"
      ],
      "execution_count": 42,
      "outputs": [
        {
          "output_type": "execute_result",
          "data": {
            "text/plain": [
              "0.3684613064291107"
            ]
          },
          "metadata": {
            "tags": []
          },
          "execution_count": 42
        }
      ]
    },
    {
      "cell_type": "code",
      "metadata": {
        "id": "F2yXqQRAy1Pg"
      },
      "source": [
        ""
      ],
      "execution_count": null,
      "outputs": []
    }
  ]
}