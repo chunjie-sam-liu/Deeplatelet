{
  "nbformat": 4,
  "nbformat_minor": 0,
  "metadata": {
    "colab": {
      "name": "08-AESurv.ipynb",
      "provenance": [],
      "collapsed_sections": [],
      "authorship_tag": "ABX9TyMB5bAkiSHdclolZ566cXYh",
      "include_colab_link": true
    },
    "kernelspec": {
      "name": "python3",
      "display_name": "Python 3"
    }
  },
  "cells": [
    {
      "cell_type": "markdown",
      "metadata": {
        "id": "view-in-github",
        "colab_type": "text"
      },
      "source": [
        "<a href=\"https://colab.research.google.com/github/chunjie-sam-liu/TEP-prognosis/blob/main/analysis/08_AESurv.ipynb\" target=\"_parent\"><img src=\"https://colab.research.google.com/assets/colab-badge.svg\" alt=\"Open In Colab\"/></a>"
      ]
    },
    {
      "cell_type": "code",
      "metadata": {
        "colab": {
          "base_uri": "https://localhost:8080/"
        },
        "id": "3eHaHjGj_8aw",
        "outputId": "685d9ab3-2af5-4a7a-d097-b53023eb7c07"
      },
      "source": [
        "! pip install torchtuples\n",
        "! pip install pycox\n",
        "! pip install hiddenlayer"
      ],
      "execution_count": 1,
      "outputs": [
        {
          "output_type": "stream",
          "text": [
            "Collecting torchtuples\n",
            "\u001b[?25l  Downloading https://files.pythonhosted.org/packages/95/70/93eb42c0a46ef94b3885b8e5611a8019d00522a9ab7343d4ca25033afd44/torchtuples-0.2.0-py3-none-any.whl (41kB)\n",
            "\r\u001b[K     |███████▉                        | 10kB 10.7MB/s eta 0:00:01\r\u001b[K     |███████████████▊                | 20kB 14.7MB/s eta 0:00:01\r\u001b[K     |███████████████████████▋        | 30kB 11.8MB/s eta 0:00:01\r\u001b[K     |███████████████████████████████▌| 40kB 10.3MB/s eta 0:00:01\r\u001b[K     |████████████████████████████████| 51kB 4.6MB/s \n",
            "\u001b[?25hRequirement already satisfied: numpy>=1.15.4 in /usr/local/lib/python3.6/dist-packages (from torchtuples) (1.19.5)\n",
            "Requirement already satisfied: pandas>=0.24.2 in /usr/local/lib/python3.6/dist-packages (from torchtuples) (1.1.5)\n",
            "Requirement already satisfied: matplotlib>=3.0.3 in /usr/local/lib/python3.6/dist-packages (from torchtuples) (3.2.2)\n",
            "Requirement already satisfied: pytz>=2017.2 in /usr/local/lib/python3.6/dist-packages (from pandas>=0.24.2->torchtuples) (2018.9)\n",
            "Requirement already satisfied: python-dateutil>=2.7.3 in /usr/local/lib/python3.6/dist-packages (from pandas>=0.24.2->torchtuples) (2.8.1)\n",
            "Requirement already satisfied: cycler>=0.10 in /usr/local/lib/python3.6/dist-packages (from matplotlib>=3.0.3->torchtuples) (0.10.0)\n",
            "Requirement already satisfied: pyparsing!=2.0.4,!=2.1.2,!=2.1.6,>=2.0.1 in /usr/local/lib/python3.6/dist-packages (from matplotlib>=3.0.3->torchtuples) (2.4.7)\n",
            "Requirement already satisfied: kiwisolver>=1.0.1 in /usr/local/lib/python3.6/dist-packages (from matplotlib>=3.0.3->torchtuples) (1.3.1)\n",
            "Requirement already satisfied: six>=1.5 in /usr/local/lib/python3.6/dist-packages (from python-dateutil>=2.7.3->pandas>=0.24.2->torchtuples) (1.15.0)\n",
            "Installing collected packages: torchtuples\n",
            "Successfully installed torchtuples-0.2.0\n",
            "Collecting pycox\n",
            "\u001b[?25l  Downloading https://files.pythonhosted.org/packages/33/33/8166da2d22ff30305aa0c10e0c6124ef5d3b60b5b0418387bb805bd6b751/pycox-0.2.1-py3-none-any.whl (73kB)\n",
            "\u001b[K     |████████████████████████████████| 81kB 3.7MB/s \n",
            "\u001b[?25hRequirement already satisfied: numba>=0.44 in /usr/local/lib/python3.6/dist-packages (from pycox) (0.48.0)\n",
            "Requirement already satisfied: requests>=2.22.0 in /usr/local/lib/python3.6/dist-packages (from pycox) (2.23.0)\n",
            "Requirement already satisfied: feather-format>=0.4.0 in /usr/local/lib/python3.6/dist-packages (from pycox) (0.4.1)\n",
            "Requirement already satisfied: scikit-learn>=0.21.2 in /usr/local/lib/python3.6/dist-packages (from pycox) (0.22.2.post1)\n",
            "Requirement already satisfied: torchtuples>=0.2.0 in /usr/local/lib/python3.6/dist-packages (from pycox) (0.2.0)\n",
            "Requirement already satisfied: h5py>=2.9.0 in /usr/local/lib/python3.6/dist-packages (from pycox) (2.10.0)\n",
            "Requirement already satisfied: setuptools in /usr/local/lib/python3.6/dist-packages (from numba>=0.44->pycox) (51.3.3)\n",
            "Requirement already satisfied: llvmlite<0.32.0,>=0.31.0dev0 in /usr/local/lib/python3.6/dist-packages (from numba>=0.44->pycox) (0.31.0)\n",
            "Requirement already satisfied: numpy>=1.15 in /usr/local/lib/python3.6/dist-packages (from numba>=0.44->pycox) (1.19.5)\n",
            "Requirement already satisfied: chardet<4,>=3.0.2 in /usr/local/lib/python3.6/dist-packages (from requests>=2.22.0->pycox) (3.0.4)\n",
            "Requirement already satisfied: idna<3,>=2.5 in /usr/local/lib/python3.6/dist-packages (from requests>=2.22.0->pycox) (2.10)\n",
            "Requirement already satisfied: certifi>=2017.4.17 in /usr/local/lib/python3.6/dist-packages (from requests>=2.22.0->pycox) (2020.12.5)\n",
            "Requirement already satisfied: urllib3!=1.25.0,!=1.25.1,<1.26,>=1.21.1 in /usr/local/lib/python3.6/dist-packages (from requests>=2.22.0->pycox) (1.24.3)\n",
            "Requirement already satisfied: pyarrow>=0.4.0 in /usr/local/lib/python3.6/dist-packages (from feather-format>=0.4.0->pycox) (0.14.1)\n",
            "Requirement already satisfied: joblib>=0.11 in /usr/local/lib/python3.6/dist-packages (from scikit-learn>=0.21.2->pycox) (1.0.0)\n",
            "Requirement already satisfied: scipy>=0.17.0 in /usr/local/lib/python3.6/dist-packages (from scikit-learn>=0.21.2->pycox) (1.4.1)\n",
            "Requirement already satisfied: pandas>=0.24.2 in /usr/local/lib/python3.6/dist-packages (from torchtuples>=0.2.0->pycox) (1.1.5)\n",
            "Requirement already satisfied: matplotlib>=3.0.3 in /usr/local/lib/python3.6/dist-packages (from torchtuples>=0.2.0->pycox) (3.2.2)\n",
            "Requirement already satisfied: six in /usr/local/lib/python3.6/dist-packages (from h5py>=2.9.0->pycox) (1.15.0)\n",
            "Requirement already satisfied: python-dateutil>=2.7.3 in /usr/local/lib/python3.6/dist-packages (from pandas>=0.24.2->torchtuples>=0.2.0->pycox) (2.8.1)\n",
            "Requirement already satisfied: pytz>=2017.2 in /usr/local/lib/python3.6/dist-packages (from pandas>=0.24.2->torchtuples>=0.2.0->pycox) (2018.9)\n",
            "Requirement already satisfied: pyparsing!=2.0.4,!=2.1.2,!=2.1.6,>=2.0.1 in /usr/local/lib/python3.6/dist-packages (from matplotlib>=3.0.3->torchtuples>=0.2.0->pycox) (2.4.7)\n",
            "Requirement already satisfied: cycler>=0.10 in /usr/local/lib/python3.6/dist-packages (from matplotlib>=3.0.3->torchtuples>=0.2.0->pycox) (0.10.0)\n",
            "Requirement already satisfied: kiwisolver>=1.0.1 in /usr/local/lib/python3.6/dist-packages (from matplotlib>=3.0.3->torchtuples>=0.2.0->pycox) (1.3.1)\n",
            "Installing collected packages: pycox\n",
            "Successfully installed pycox-0.2.1\n",
            "Collecting hiddenlayer\n",
            "  Downloading https://files.pythonhosted.org/packages/64/f8/ea51d02695a4dc397f3b2487fae462cd3f2ce707c54250e0fdfaec2ff92e/hiddenlayer-0.3-py3-none-any.whl\n",
            "Installing collected packages: hiddenlayer\n",
            "Successfully installed hiddenlayer-0.3\n"
          ],
          "name": "stdout"
        }
      ]
    },
    {
      "cell_type": "code",
      "metadata": {
        "id": "K8kS4rko_4zK"
      },
      "source": [
        "import numpy as np\n",
        "import feather\n",
        "import matplotlib.pyplot as plt\n",
        "\n",
        "# For preprocessing\n",
        "from sklearn.preprocessing import StandardScaler\n",
        "from sklearn_pandas import DataFrameMapper\n",
        "\n",
        "import torch\n",
        "from torch import nn\n",
        "import torch.nn.functional as F\n",
        "from torch.nn.modules.linear import Linear\n",
        "import torchtuples as tt\n",
        "\n",
        "from pycox.models import LogisticHazard\n",
        "from pycox.models.loss import NLLLogistiHazardLoss\n",
        "from pycox.evaluation import EvalSurv\n",
        "\n",
        "import os"
      ],
      "execution_count": 2,
      "outputs": []
    },
    {
      "cell_type": "code",
      "metadata": {
        "id": "FFyXnx_tAID4"
      },
      "source": [
        "# random\n",
        "np.random.seed(1234)\n",
        "_ = torch.manual_seed(1234)"
      ],
      "execution_count": 3,
      "outputs": []
    },
    {
      "cell_type": "code",
      "metadata": {
        "id": "8qFqbfHMAVkR"
      },
      "source": [
        "class NetAESurv(nn.Module):\n",
        "    def __init__(self, in_features, encoded_features, out_features):\n",
        "        super().__init__()\n",
        "\n",
        "        # Encoder\n",
        "        self.encoder = nn.Sequential(\n",
        "            nn.Linear(in_features, 2048),\n",
        "            nn.ReLU(),\n",
        "            nn.Linear(2048, 1024),\n",
        "            nn.ReLU(),\n",
        "            nn.Linear(1024, 512),\n",
        "            nn.ReLU(),\n",
        "            nn.Linear(512, 256),\n",
        "            nn.ReLU(),\n",
        "            nn.Linear(256, 128),\n",
        "            nn.ReLU(),\n",
        "            nn.Linear(128, encoded_features),\n",
        "        )\n",
        "\n",
        "        # Decoder\n",
        "        self.decoder = nn.Sequential(\n",
        "            nn.Linear(encoded_features, 128),\n",
        "            nn.ReLU(),\n",
        "            nn.Linear(128, 256),\n",
        "            nn.ReLU(),\n",
        "            nn.Linear(256, 512),\n",
        "            nn.ReLU(),\n",
        "            nn.Linear(512, 1024),\n",
        "            nn.ReLU(),\n",
        "            nn.Linear(1024, 2048),\n",
        "            nn.ReLU(),\n",
        "            nn.Linear(2048, in_features),\n",
        "        )\n",
        "\n",
        "        # Full connection\n",
        "        self.survnet = nn.Sequential(\n",
        "            nn.Linear(encoded_features, 64),\n",
        "            nn.ReLU(),\n",
        "            nn.Linear(64, 64),\n",
        "            nn.ReLU(),\n",
        "            nn.Linear(64, 64),\n",
        "            nn.ReLU(),\n",
        "            nn.Linear(64, out_features),\n",
        "        )\n",
        "\n",
        "    def forward(self, input):\n",
        "        encoded = self.encoder(input)\n",
        "        decoded = self.decoder(encoded)\n",
        "        phi = self.survnet(encoded)\n",
        "        return phi, decoded\n",
        "\n",
        "    def predict(self, input):\n",
        "        encoded = self.encoder(input)\n",
        "        return self.survnet(encoded)\n"
      ],
      "execution_count": 4,
      "outputs": []
    },
    {
      "cell_type": "code",
      "metadata": {
        "id": "jAYpU9O-AZta"
      },
      "source": [
        "class LossAELogHaz(nn.Module):\n",
        "    def __init__(self, alpha):\n",
        "        super().__init__()\n",
        "        assert (alpha >= 0) and (alpha <= 1), \"Need `alpha` in [0, 1].\"\n",
        "        self.alpha = alpha\n",
        "        self.loss_surv = NLLLogistiHazardLoss()\n",
        "        self.loss_ae = nn.MSELoss()\n",
        "\n",
        "    def forward(self, phi, decoded, target_loghaz, target_ae):\n",
        "        idx_durations, events = target_loghaz\n",
        "        loss_surv = self.loss_surv(phi, idx_durations, events)\n",
        "        loss_ae = self.loss_ae(decoded, target_ae)\n",
        "        return self.alpha * loss_surv + (1 - self.alpha) * loss_ae\n"
      ],
      "execution_count": 5,
      "outputs": []
    },
    {
      "cell_type": "code",
      "metadata": {
        "id": "GSwuwhfpAa-x"
      },
      "source": [
        "def load_data(filepath):\n",
        "    df = feather.read_dataframe(source=filepath)\n",
        "    df_train = df.loc[df.oc == \"OC521\"].drop(columns=[\"barcode\", \"oc\"], axis=1)\n",
        "    df_val = df.loc[df.oc == \"OC44\"].drop(columns=[\"barcode\", \"oc\"], axis=1)\n",
        "    df_test1 = df.loc[df.oc == \"OC79\"].drop(columns=[\"barcode\", \"oc\"], axis=1)\n",
        "    df_test2 = df.loc[df.oc == \"OC172\"].drop(columns=[\"barcode\", \"oc\"], axis=1)\n",
        "    return df_train, df_val, df_test1, df_test2\n",
        "\n",
        "\n",
        "def get_target(df):\n",
        "    return (df[\"duration\"].values, df[\"event\"].values)\n",
        "\n",
        "\n",
        "def transform_features(df_train, df_val, df_test1, df_test2):\n",
        "    columns = df_train.columns\n",
        "    columns = columns[: len(columns) - 2]\n",
        "    standardize = [([col], StandardScaler()) for col in columns]\n",
        "\n",
        "    x_mapper = DataFrameMapper(standardize)\n",
        "\n",
        "    x_train = x_mapper.fit_transform(df_train).astype(\"float32\")\n",
        "    x_val = x_mapper.transform(df_val).astype(\"float32\")\n",
        "    x_test1 = x_mapper.transform(df_test1).astype(\"float32\")\n",
        "    x_test2 = x_mapper.transform(df_test2).astype(\"float32\")\n",
        "\n",
        "    return x_train, x_val, x_test1, x_test2\n",
        "\n",
        "\n",
        "def transform_labels(df_train, df_val, nd=10):\n",
        "    num_durations = nd\n",
        "    labtrans = LogisticHazard.label_transform(num_durations)\n",
        "    y_train_surv = labtrans.fit_transform(*get_target(df_train))\n",
        "    y_val_surv = labtrans.transform(*get_target(df_val))\n",
        "\n",
        "    return y_train_surv, y_val_surv, labtrans\n"
      ],
      "execution_count": 6,
      "outputs": []
    },
    {
      "cell_type": "code",
      "metadata": {
        "colab": {
          "base_uri": "https://localhost:8080/"
        },
        "id": "CQROz4CWCBzz",
        "outputId": "5e51b9d8-9cc9-4922-9601-0e74e7086b42"
      },
      "source": [
        "from google.colab import drive\n",
        "drive.mount('/content/drive')"
      ],
      "execution_count": 7,
      "outputs": [
        {
          "output_type": "stream",
          "text": [
            "Mounted at /content/drive\n"
          ],
          "name": "stdout"
        }
      ]
    },
    {
      "cell_type": "code",
      "metadata": {
        "id": "Rme6b6nFApwI"
      },
      "source": [
        "filepath=\"/content/drive/MyDrive/colab-data/total416.os.se.norm.coxph.feather\""
      ],
      "execution_count": 8,
      "outputs": []
    },
    {
      "cell_type": "code",
      "metadata": {
        "id": "ckeNJX8eAdiO"
      },
      "source": [
        "# load data\n",
        "df_train, df_val, df_test1, df_test2 = load_data(filepath)\n",
        "# transform features\n",
        "x_train, x_val, x_test1, x_test2 = transform_features(df_train, df_val, df_test1, df_test2)\n",
        "# transform labels\n",
        "y_train_surv, y_val_surv, labtrans = transform_labels(df_train, df_val)"
      ],
      "execution_count": 9,
      "outputs": []
    },
    {
      "cell_type": "code",
      "metadata": {
        "colab": {
          "base_uri": "https://localhost:8080/",
          "height": 253
        },
        "id": "iDkICVyg4pjK",
        "outputId": "4170927a-0024-4693-8a3e-2957691bccb7"
      },
      "source": [
        "df_train.head()"
      ],
      "execution_count": 60,
      "outputs": [
        {
          "output_type": "execute_result",
          "data": {
            "text/html": [
              "<div>\n",
              "<style scoped>\n",
              "    .dataframe tbody tr th:only-of-type {\n",
              "        vertical-align: middle;\n",
              "    }\n",
              "\n",
              "    .dataframe tbody tr th {\n",
              "        vertical-align: top;\n",
              "    }\n",
              "\n",
              "    .dataframe thead th {\n",
              "        text-align: right;\n",
              "    }\n",
              "</style>\n",
              "<table border=\"1\" class=\"dataframe\">\n",
              "  <thead>\n",
              "    <tr style=\"text-align: right;\">\n",
              "      <th></th>\n",
              "      <th>ENSG00000084093</th>\n",
              "      <th>ENSG00000101888</th>\n",
              "      <th>ENSG00000110090</th>\n",
              "      <th>ENSG00000137815</th>\n",
              "      <th>ENSG00000166783</th>\n",
              "      <th>ENSG00000180233</th>\n",
              "      <th>ENSG00000187735</th>\n",
              "      <th>ENSG00000259758</th>\n",
              "      <th>ENSG00000065882</th>\n",
              "      <th>ENSG00000074416</th>\n",
              "      <th>ENSG00000084112</th>\n",
              "      <th>ENSG00000090316</th>\n",
              "      <th>ENSG00000102897</th>\n",
              "      <th>ENSG00000103363</th>\n",
              "      <th>ENSG00000105939</th>\n",
              "      <th>ENSG00000116030</th>\n",
              "      <th>ENSG00000132471</th>\n",
              "      <th>ENSG00000132963</th>\n",
              "      <th>ENSG00000137817</th>\n",
              "      <th>ENSG00000138185</th>\n",
              "      <th>ENSG00000140564</th>\n",
              "      <th>ENSG00000163634</th>\n",
              "      <th>ENSG00000176390</th>\n",
              "      <th>ENSG00000185088</th>\n",
              "      <th>ENSG00000186787</th>\n",
              "      <th>ENSG00000213619</th>\n",
              "      <th>ENSG00000237424</th>\n",
              "      <th>ENSG00000032219</th>\n",
              "      <th>ENSG00000064652</th>\n",
              "      <th>ENSG00000079785</th>\n",
              "      <th>ENSG00000114779</th>\n",
              "      <th>ENSG00000121766</th>\n",
              "      <th>ENSG00000134594</th>\n",
              "      <th>ENSG00000136709</th>\n",
              "      <th>ENSG00000139613</th>\n",
              "      <th>ENSG00000162999</th>\n",
              "      <th>ENSG00000173210</th>\n",
              "      <th>ENSG00000185115</th>\n",
              "      <th>ENSG00000241468</th>\n",
              "      <th>ENSG00000269378</th>\n",
              "      <th>...</th>\n",
              "      <th>ENSG00000165168</th>\n",
              "      <th>ENSG00000168653</th>\n",
              "      <th>ENSG00000173113</th>\n",
              "      <th>ENSG00000176209</th>\n",
              "      <th>ENSG00000243701</th>\n",
              "      <th>ENSG00000127314</th>\n",
              "      <th>ENSG00000132432</th>\n",
              "      <th>ENSG00000155629</th>\n",
              "      <th>ENSG00000164253</th>\n",
              "      <th>ENSG00000166747</th>\n",
              "      <th>ENSG00000174579</th>\n",
              "      <th>ENSG00000176261</th>\n",
              "      <th>ENSG00000183155</th>\n",
              "      <th>ENSG00000250535</th>\n",
              "      <th>ENSG00000030582</th>\n",
              "      <th>ENSG00000068831</th>\n",
              "      <th>ENSG00000075945</th>\n",
              "      <th>ENSG00000101343</th>\n",
              "      <th>ENSG00000105443</th>\n",
              "      <th>ENSG00000124795</th>\n",
              "      <th>ENSG00000149089</th>\n",
              "      <th>ENSG00000160221</th>\n",
              "      <th>ENSG00000168288</th>\n",
              "      <th>ENSG00000185024</th>\n",
              "      <th>ENSG00000188536</th>\n",
              "      <th>ENSG00000196735</th>\n",
              "      <th>ENSG00000060688</th>\n",
              "      <th>ENSG00000068878</th>\n",
              "      <th>ENSG00000124831</th>\n",
              "      <th>ENSG00000127328</th>\n",
              "      <th>ENSG00000140553</th>\n",
              "      <th>ENSG00000156482</th>\n",
              "      <th>ENSG00000159593</th>\n",
              "      <th>ENSG00000164031</th>\n",
              "      <th>ENSG00000177889</th>\n",
              "      <th>ENSG00000185043</th>\n",
              "      <th>ENSG00000186063</th>\n",
              "      <th>ENSG00000189283</th>\n",
              "      <th>event</th>\n",
              "      <th>duration</th>\n",
              "    </tr>\n",
              "  </thead>\n",
              "  <tbody>\n",
              "    <tr>\n",
              "      <th>0</th>\n",
              "      <td>6.879163</td>\n",
              "      <td>8.141162</td>\n",
              "      <td>8.477021</td>\n",
              "      <td>6.787020</td>\n",
              "      <td>8.480397</td>\n",
              "      <td>6.265971</td>\n",
              "      <td>9.547309</td>\n",
              "      <td>7.123836</td>\n",
              "      <td>9.604599</td>\n",
              "      <td>13.051872</td>\n",
              "      <td>9.335593</td>\n",
              "      <td>6.246735</td>\n",
              "      <td>8.677107</td>\n",
              "      <td>9.448203</td>\n",
              "      <td>8.798896</td>\n",
              "      <td>8.202959</td>\n",
              "      <td>13.021636</td>\n",
              "      <td>8.625243</td>\n",
              "      <td>7.484048</td>\n",
              "      <td>5.164845</td>\n",
              "      <td>11.002820</td>\n",
              "      <td>8.000871</td>\n",
              "      <td>7.505020</td>\n",
              "      <td>8.455133</td>\n",
              "      <td>5.165770</td>\n",
              "      <td>5.758410</td>\n",
              "      <td>6.432485</td>\n",
              "      <td>7.289723</td>\n",
              "      <td>8.747903</td>\n",
              "      <td>6.002126</td>\n",
              "      <td>8.094652</td>\n",
              "      <td>11.022220</td>\n",
              "      <td>6.092989</td>\n",
              "      <td>6.873707</td>\n",
              "      <td>6.910517</td>\n",
              "      <td>5.233127</td>\n",
              "      <td>12.927014</td>\n",
              "      <td>6.139538</td>\n",
              "      <td>5.364324</td>\n",
              "      <td>6.066389</td>\n",
              "      <td>...</td>\n",
              "      <td>8.137853</td>\n",
              "      <td>10.280557</td>\n",
              "      <td>7.444926</td>\n",
              "      <td>5.176699</td>\n",
              "      <td>7.940952</td>\n",
              "      <td>14.290243</td>\n",
              "      <td>6.280456</td>\n",
              "      <td>7.368526</td>\n",
              "      <td>7.586565</td>\n",
              "      <td>6.752893</td>\n",
              "      <td>5.682306</td>\n",
              "      <td>7.082949</td>\n",
              "      <td>6.868205</td>\n",
              "      <td>4.811384</td>\n",
              "      <td>9.377625</td>\n",
              "      <td>11.744162</td>\n",
              "      <td>9.544671</td>\n",
              "      <td>6.002639</td>\n",
              "      <td>7.884563</td>\n",
              "      <td>10.026639</td>\n",
              "      <td>5.086551</td>\n",
              "      <td>7.459635</td>\n",
              "      <td>6.571465</td>\n",
              "      <td>6.594871</td>\n",
              "      <td>13.350180</td>\n",
              "      <td>6.342651</td>\n",
              "      <td>6.087714</td>\n",
              "      <td>8.278672</td>\n",
              "      <td>10.843906</td>\n",
              "      <td>6.024265</td>\n",
              "      <td>9.558918</td>\n",
              "      <td>6.314396</td>\n",
              "      <td>8.634257</td>\n",
              "      <td>6.667389</td>\n",
              "      <td>7.480493</td>\n",
              "      <td>8.329327</td>\n",
              "      <td>8.479035</td>\n",
              "      <td>5.194342</td>\n",
              "      <td>1.0</td>\n",
              "      <td>7.0</td>\n",
              "    </tr>\n",
              "    <tr>\n",
              "      <th>1</th>\n",
              "      <td>6.977793</td>\n",
              "      <td>7.902081</td>\n",
              "      <td>8.715474</td>\n",
              "      <td>6.743573</td>\n",
              "      <td>8.162742</td>\n",
              "      <td>6.112250</td>\n",
              "      <td>9.102048</td>\n",
              "      <td>6.765435</td>\n",
              "      <td>8.719096</td>\n",
              "      <td>13.330583</td>\n",
              "      <td>9.317770</td>\n",
              "      <td>7.044638</td>\n",
              "      <td>8.551956</td>\n",
              "      <td>9.257583</td>\n",
              "      <td>8.548779</td>\n",
              "      <td>8.580725</td>\n",
              "      <td>13.168527</td>\n",
              "      <td>8.767634</td>\n",
              "      <td>7.675797</td>\n",
              "      <td>6.082655</td>\n",
              "      <td>10.947460</td>\n",
              "      <td>7.809455</td>\n",
              "      <td>7.050788</td>\n",
              "      <td>8.445626</td>\n",
              "      <td>6.882165</td>\n",
              "      <td>6.195619</td>\n",
              "      <td>6.033884</td>\n",
              "      <td>6.889670</td>\n",
              "      <td>8.258045</td>\n",
              "      <td>6.552910</td>\n",
              "      <td>7.538172</td>\n",
              "      <td>10.789682</td>\n",
              "      <td>5.394398</td>\n",
              "      <td>7.483043</td>\n",
              "      <td>7.745004</td>\n",
              "      <td>6.668020</td>\n",
              "      <td>12.586269</td>\n",
              "      <td>6.196532</td>\n",
              "      <td>4.906514</td>\n",
              "      <td>5.776578</td>\n",
              "      <td>...</td>\n",
              "      <td>7.972364</td>\n",
              "      <td>9.639700</td>\n",
              "      <td>6.764270</td>\n",
              "      <td>4.896351</td>\n",
              "      <td>7.254220</td>\n",
              "      <td>14.340771</td>\n",
              "      <td>6.922768</td>\n",
              "      <td>6.791393</td>\n",
              "      <td>7.601620</td>\n",
              "      <td>7.552919</td>\n",
              "      <td>5.680000</td>\n",
              "      <td>6.511664</td>\n",
              "      <td>7.006410</td>\n",
              "      <td>5.325509</td>\n",
              "      <td>9.172492</td>\n",
              "      <td>11.443309</td>\n",
              "      <td>9.175647</td>\n",
              "      <td>6.586455</td>\n",
              "      <td>8.168128</td>\n",
              "      <td>10.100302</td>\n",
              "      <td>4.334828</td>\n",
              "      <td>7.943505</td>\n",
              "      <td>7.021050</td>\n",
              "      <td>6.377434</td>\n",
              "      <td>14.779288</td>\n",
              "      <td>4.825608</td>\n",
              "      <td>5.828844</td>\n",
              "      <td>7.684153</td>\n",
              "      <td>10.879903</td>\n",
              "      <td>6.240109</td>\n",
              "      <td>9.569152</td>\n",
              "      <td>5.968971</td>\n",
              "      <td>8.153609</td>\n",
              "      <td>6.865429</td>\n",
              "      <td>7.480698</td>\n",
              "      <td>8.107356</td>\n",
              "      <td>8.643915</td>\n",
              "      <td>4.692948</td>\n",
              "      <td>0.0</td>\n",
              "      <td>37.0</td>\n",
              "    </tr>\n",
              "    <tr>\n",
              "      <th>2</th>\n",
              "      <td>7.302059</td>\n",
              "      <td>8.616968</td>\n",
              "      <td>9.352266</td>\n",
              "      <td>6.392108</td>\n",
              "      <td>8.037981</td>\n",
              "      <td>7.055009</td>\n",
              "      <td>9.520262</td>\n",
              "      <td>6.944611</td>\n",
              "      <td>9.142980</td>\n",
              "      <td>13.139612</td>\n",
              "      <td>9.578727</td>\n",
              "      <td>6.919642</td>\n",
              "      <td>8.801744</td>\n",
              "      <td>9.533999</td>\n",
              "      <td>8.659556</td>\n",
              "      <td>8.534459</td>\n",
              "      <td>13.045249</td>\n",
              "      <td>8.657274</td>\n",
              "      <td>7.704329</td>\n",
              "      <td>5.588486</td>\n",
              "      <td>11.181260</td>\n",
              "      <td>7.718604</td>\n",
              "      <td>7.411965</td>\n",
              "      <td>8.105211</td>\n",
              "      <td>6.718998</td>\n",
              "      <td>5.779480</td>\n",
              "      <td>5.736362</td>\n",
              "      <td>6.984891</td>\n",
              "      <td>8.374948</td>\n",
              "      <td>6.204661</td>\n",
              "      <td>8.324745</td>\n",
              "      <td>10.719845</td>\n",
              "      <td>5.083282</td>\n",
              "      <td>6.776237</td>\n",
              "      <td>7.538655</td>\n",
              "      <td>5.085788</td>\n",
              "      <td>12.617247</td>\n",
              "      <td>6.878108</td>\n",
              "      <td>5.362135</td>\n",
              "      <td>5.579546</td>\n",
              "      <td>...</td>\n",
              "      <td>8.444733</td>\n",
              "      <td>9.983959</td>\n",
              "      <td>7.232755</td>\n",
              "      <td>4.591684</td>\n",
              "      <td>7.328775</td>\n",
              "      <td>14.210042</td>\n",
              "      <td>6.741690</td>\n",
              "      <td>6.985221</td>\n",
              "      <td>7.928022</td>\n",
              "      <td>6.855413</td>\n",
              "      <td>5.908228</td>\n",
              "      <td>7.110849</td>\n",
              "      <td>6.878817</td>\n",
              "      <td>6.166522</td>\n",
              "      <td>9.768114</td>\n",
              "      <td>12.017450</td>\n",
              "      <td>9.791649</td>\n",
              "      <td>6.141962</td>\n",
              "      <td>7.811974</td>\n",
              "      <td>10.247671</td>\n",
              "      <td>5.798624</td>\n",
              "      <td>7.896732</td>\n",
              "      <td>6.349485</td>\n",
              "      <td>6.330070</td>\n",
              "      <td>14.059286</td>\n",
              "      <td>5.067543</td>\n",
              "      <td>6.380170</td>\n",
              "      <td>8.255132</td>\n",
              "      <td>11.184711</td>\n",
              "      <td>6.363590</td>\n",
              "      <td>9.665798</td>\n",
              "      <td>5.791671</td>\n",
              "      <td>8.845572</td>\n",
              "      <td>6.720221</td>\n",
              "      <td>7.235174</td>\n",
              "      <td>8.398678</td>\n",
              "      <td>8.435638</td>\n",
              "      <td>5.041280</td>\n",
              "      <td>1.0</td>\n",
              "      <td>7.0</td>\n",
              "    </tr>\n",
              "    <tr>\n",
              "      <th>3</th>\n",
              "      <td>6.949325</td>\n",
              "      <td>8.409461</td>\n",
              "      <td>9.977516</td>\n",
              "      <td>6.640818</td>\n",
              "      <td>7.992677</td>\n",
              "      <td>6.596019</td>\n",
              "      <td>9.624240</td>\n",
              "      <td>6.957447</td>\n",
              "      <td>8.102428</td>\n",
              "      <td>12.949341</td>\n",
              "      <td>9.247298</td>\n",
              "      <td>7.058743</td>\n",
              "      <td>8.479040</td>\n",
              "      <td>9.099103</td>\n",
              "      <td>8.258099</td>\n",
              "      <td>8.639560</td>\n",
              "      <td>12.912027</td>\n",
              "      <td>8.086847</td>\n",
              "      <td>7.107358</td>\n",
              "      <td>5.058931</td>\n",
              "      <td>10.862778</td>\n",
              "      <td>8.195744</td>\n",
              "      <td>7.636247</td>\n",
              "      <td>7.503327</td>\n",
              "      <td>6.933338</td>\n",
              "      <td>5.246677</td>\n",
              "      <td>5.000149</td>\n",
              "      <td>7.309625</td>\n",
              "      <td>8.020357</td>\n",
              "      <td>6.548565</td>\n",
              "      <td>7.791251</td>\n",
              "      <td>10.472914</td>\n",
              "      <td>5.719341</td>\n",
              "      <td>7.012203</td>\n",
              "      <td>7.111208</td>\n",
              "      <td>5.583521</td>\n",
              "      <td>12.188938</td>\n",
              "      <td>7.048070</td>\n",
              "      <td>4.762265</td>\n",
              "      <td>5.686288</td>\n",
              "      <td>...</td>\n",
              "      <td>7.684024</td>\n",
              "      <td>9.735598</td>\n",
              "      <td>6.955052</td>\n",
              "      <td>5.406893</td>\n",
              "      <td>7.463724</td>\n",
              "      <td>14.640375</td>\n",
              "      <td>6.203687</td>\n",
              "      <td>7.251882</td>\n",
              "      <td>7.828876</td>\n",
              "      <td>7.222994</td>\n",
              "      <td>6.268804</td>\n",
              "      <td>7.039744</td>\n",
              "      <td>6.979758</td>\n",
              "      <td>5.298923</td>\n",
              "      <td>9.682718</td>\n",
              "      <td>11.919643</td>\n",
              "      <td>10.183914</td>\n",
              "      <td>6.057375</td>\n",
              "      <td>8.110293</td>\n",
              "      <td>9.981766</td>\n",
              "      <td>5.696216</td>\n",
              "      <td>7.715624</td>\n",
              "      <td>6.893469</td>\n",
              "      <td>5.715322</td>\n",
              "      <td>13.525395</td>\n",
              "      <td>6.555420</td>\n",
              "      <td>6.108534</td>\n",
              "      <td>8.565328</td>\n",
              "      <td>10.947736</td>\n",
              "      <td>6.649221</td>\n",
              "      <td>9.640437</td>\n",
              "      <td>6.819025</td>\n",
              "      <td>8.820318</td>\n",
              "      <td>6.920463</td>\n",
              "      <td>7.503663</td>\n",
              "      <td>7.813065</td>\n",
              "      <td>8.765457</td>\n",
              "      <td>5.287704</td>\n",
              "      <td>0.0</td>\n",
              "      <td>39.0</td>\n",
              "    </tr>\n",
              "    <tr>\n",
              "      <th>4</th>\n",
              "      <td>7.848832</td>\n",
              "      <td>8.015500</td>\n",
              "      <td>8.406022</td>\n",
              "      <td>6.973040</td>\n",
              "      <td>7.787572</td>\n",
              "      <td>6.844775</td>\n",
              "      <td>9.529316</td>\n",
              "      <td>6.554456</td>\n",
              "      <td>9.394439</td>\n",
              "      <td>12.786150</td>\n",
              "      <td>9.105765</td>\n",
              "      <td>6.373006</td>\n",
              "      <td>8.433966</td>\n",
              "      <td>9.110649</td>\n",
              "      <td>8.990404</td>\n",
              "      <td>8.644265</td>\n",
              "      <td>13.150572</td>\n",
              "      <td>8.358210</td>\n",
              "      <td>7.498803</td>\n",
              "      <td>5.905497</td>\n",
              "      <td>10.825207</td>\n",
              "      <td>7.884981</td>\n",
              "      <td>6.957168</td>\n",
              "      <td>8.734764</td>\n",
              "      <td>5.780614</td>\n",
              "      <td>4.978750</td>\n",
              "      <td>5.505744</td>\n",
              "      <td>7.268590</td>\n",
              "      <td>8.435176</td>\n",
              "      <td>7.029769</td>\n",
              "      <td>7.664386</td>\n",
              "      <td>10.107036</td>\n",
              "      <td>6.856972</td>\n",
              "      <td>7.318463</td>\n",
              "      <td>7.420812</td>\n",
              "      <td>6.005520</td>\n",
              "      <td>12.611925</td>\n",
              "      <td>6.609051</td>\n",
              "      <td>5.563536</td>\n",
              "      <td>6.178889</td>\n",
              "      <td>...</td>\n",
              "      <td>8.393659</td>\n",
              "      <td>9.797966</td>\n",
              "      <td>7.171472</td>\n",
              "      <td>5.734839</td>\n",
              "      <td>6.292787</td>\n",
              "      <td>14.311081</td>\n",
              "      <td>6.632871</td>\n",
              "      <td>7.064704</td>\n",
              "      <td>6.613392</td>\n",
              "      <td>7.542943</td>\n",
              "      <td>6.470700</td>\n",
              "      <td>6.758417</td>\n",
              "      <td>7.505171</td>\n",
              "      <td>4.215965</td>\n",
              "      <td>9.644123</td>\n",
              "      <td>11.686363</td>\n",
              "      <td>9.486790</td>\n",
              "      <td>5.310360</td>\n",
              "      <td>7.754092</td>\n",
              "      <td>10.439304</td>\n",
              "      <td>5.103063</td>\n",
              "      <td>7.348151</td>\n",
              "      <td>6.283681</td>\n",
              "      <td>6.133882</td>\n",
              "      <td>11.619737</td>\n",
              "      <td>4.676024</td>\n",
              "      <td>6.570265</td>\n",
              "      <td>7.946026</td>\n",
              "      <td>11.479249</td>\n",
              "      <td>6.531874</td>\n",
              "      <td>9.621992</td>\n",
              "      <td>6.945183</td>\n",
              "      <td>8.548072</td>\n",
              "      <td>6.590233</td>\n",
              "      <td>7.391781</td>\n",
              "      <td>7.833007</td>\n",
              "      <td>8.194518</td>\n",
              "      <td>5.702069</td>\n",
              "      <td>0.0</td>\n",
              "      <td>39.0</td>\n",
              "    </tr>\n",
              "  </tbody>\n",
              "</table>\n",
              "<p>5 rows × 411 columns</p>\n",
              "</div>"
            ],
            "text/plain": [
              "   ENSG00000084093  ENSG00000101888  ...  event  duration\n",
              "0         6.879163         8.141162  ...    1.0       7.0\n",
              "1         6.977793         7.902081  ...    0.0      37.0\n",
              "2         7.302059         8.616968  ...    1.0       7.0\n",
              "3         6.949325         8.409461  ...    0.0      39.0\n",
              "4         7.848832         8.015500  ...    0.0      39.0\n",
              "\n",
              "[5 rows x 411 columns]"
            ]
          },
          "metadata": {
            "tags": []
          },
          "execution_count": 60
        }
      ]
    },
    {
      "cell_type": "code",
      "metadata": {
        "colab": {
          "base_uri": "https://localhost:8080/",
          "height": 316
        },
        "id": "Mnc1gfYA4tDh",
        "outputId": "cc6b6326-e991-4df4-e103-5ae4f7b0d122"
      },
      "source": [
        "plt.hist(y_train_surv[0])"
      ],
      "execution_count": 61,
      "outputs": [
        {
          "output_type": "execute_result",
          "data": {
            "text/plain": [
              "(array([  2., 117.,  93.,  32.,  17.,   9.,   3.,   2.,   1.,   1.]),\n",
              " array([0. , 0.9, 1.8, 2.7, 3.6, 4.5, 5.4, 6.3, 7.2, 8.1, 9. ]),\n",
              " <a list of 10 Patch objects>)"
            ]
          },
          "metadata": {
            "tags": []
          },
          "execution_count": 61
        },
        {
          "output_type": "display_data",
          "data": {
            "image/png": "[encoded data removed]",
            "text/plain": [
              "<Figure size 432x288 with 1 Axes>"
            ]
          },
          "metadata": {
            "tags": [],
            "needs_background": "light"
          }
        }
      ]
    },
    {
      "cell_type": "code",
      "metadata": {
        "id": "gS2tDcGuAtXh"
      },
      "source": [
        "# make train and validation datasets with tuplefy\n",
        "train = tt.tuplefy(x_train, (y_train_surv, x_train))\n",
        "val = tt.tuplefy(x_val, (y_val_surv, x_val))"
      ],
      "execution_count": 10,
      "outputs": []
    },
    {
      "cell_type": "code",
      "metadata": {
        "id": "IHVKWaDUJuQ0"
      },
      "source": [
        "durations_test1, events_test1 = get_target(df_test1)\n",
        "durations_test2, events_test2 = get_target(df_test2)"
      ],
      "execution_count": 11,
      "outputs": []
    },
    {
      "cell_type": "code",
      "metadata": {
        "id": "_85i-DMuFQeN"
      },
      "source": [
        "# set arch\n",
        "in_features = x_train.shape[1]\n",
        "encoded_features = 64\n",
        "out_features = labtrans.out_features\n",
        "netaesurv = NetAESurv(in_features, encoded_features, out_features)"
      ],
      "execution_count": 12,
      "outputs": []
    },
    {
      "cell_type": "code",
      "metadata": {
        "colab": {
          "base_uri": "https://localhost:8080/"
        },
        "id": "0lBjpxthFVne",
        "outputId": "0a46b993-d755-4bdf-cd53-c12d3bdfad05"
      },
      "source": [
        "netaesurv"
      ],
      "execution_count": 13,
      "outputs": [
        {
          "output_type": "execute_result",
          "data": {
            "text/plain": [
              "NetAESurv(\n",
              "  (encoder): Sequential(\n",
              "    (0): Linear(in_features=409, out_features=2048, bias=True)\n",
              "    (1): ReLU()\n",
              "    (2): Linear(in_features=2048, out_features=1024, bias=True)\n",
              "    (3): ReLU()\n",
              "    (4): Linear(in_features=1024, out_features=512, bias=True)\n",
              "    (5): ReLU()\n",
              "    (6): Linear(in_features=512, out_features=256, bias=True)\n",
              "    (7): ReLU()\n",
              "    (8): Linear(in_features=256, out_features=128, bias=True)\n",
              "    (9): ReLU()\n",
              "    (10): Linear(in_features=128, out_features=64, bias=True)\n",
              "  )\n",
              "  (decoder): Sequential(\n",
              "    (0): Linear(in_features=64, out_features=128, bias=True)\n",
              "    (1): ReLU()\n",
              "    (2): Linear(in_features=128, out_features=256, bias=True)\n",
              "    (3): ReLU()\n",
              "    (4): Linear(in_features=256, out_features=512, bias=True)\n",
              "    (5): ReLU()\n",
              "    (6): Linear(in_features=512, out_features=1024, bias=True)\n",
              "    (7): ReLU()\n",
              "    (8): Linear(in_features=1024, out_features=2048, bias=True)\n",
              "    (9): ReLU()\n",
              "    (10): Linear(in_features=2048, out_features=409, bias=True)\n",
              "  )\n",
              "  (survnet): Sequential(\n",
              "    (0): Linear(in_features=64, out_features=64, bias=True)\n",
              "    (1): ReLU()\n",
              "    (2): Linear(in_features=64, out_features=64, bias=True)\n",
              "    (3): ReLU()\n",
              "    (4): Linear(in_features=64, out_features=64, bias=True)\n",
              "    (5): ReLU()\n",
              "    (6): Linear(in_features=64, out_features=10, bias=True)\n",
              "  )\n",
              ")"
            ]
          },
          "metadata": {
            "tags": []
          },
          "execution_count": 13
        }
      ]
    },
    {
      "cell_type": "code",
      "metadata": {
        "colab": {
          "base_uri": "https://localhost:8080/"
        },
        "id": "uSVHR4xC6kPa",
        "outputId": "202e54e5-4b63-4c01-f9c4-fddc178a24a2"
      },
      "source": [
        "from torchsummary import summary\n",
        "summary(model=netaesurv, input_size=(1, in_features))"
      ],
      "execution_count": 14,
      "outputs": [
        {
          "output_type": "stream",
          "text": [
            "----------------------------------------------------------------\n",
            "        Layer (type)               Output Shape         Param #\n",
            "================================================================\n",
            "            Linear-1              [-1, 1, 2048]         839,680\n",
            "              ReLU-2              [-1, 1, 2048]               0\n",
            "            Linear-3              [-1, 1, 1024]       2,098,176\n",
            "              ReLU-4              [-1, 1, 1024]               0\n",
            "            Linear-5               [-1, 1, 512]         524,800\n",
            "              ReLU-6               [-1, 1, 512]               0\n",
            "            Linear-7               [-1, 1, 256]         131,328\n",
            "              ReLU-8               [-1, 1, 256]               0\n",
            "            Linear-9               [-1, 1, 128]          32,896\n",
            "             ReLU-10               [-1, 1, 128]               0\n",
            "           Linear-11                [-1, 1, 64]           8,256\n",
            "           Linear-12               [-1, 1, 128]           8,320\n",
            "             ReLU-13               [-1, 1, 128]               0\n",
            "           Linear-14               [-1, 1, 256]          33,024\n",
            "             ReLU-15               [-1, 1, 256]               0\n",
            "           Linear-16               [-1, 1, 512]         131,584\n",
            "             ReLU-17               [-1, 1, 512]               0\n",
            "           Linear-18              [-1, 1, 1024]         525,312\n",
            "             ReLU-19              [-1, 1, 1024]               0\n",
            "           Linear-20              [-1, 1, 2048]       2,099,200\n",
            "             ReLU-21              [-1, 1, 2048]               0\n",
            "           Linear-22               [-1, 1, 409]         838,041\n",
            "           Linear-23                [-1, 1, 64]           4,160\n",
            "             ReLU-24                [-1, 1, 64]               0\n",
            "           Linear-25                [-1, 1, 64]           4,160\n",
            "             ReLU-26                [-1, 1, 64]               0\n",
            "           Linear-27                [-1, 1, 64]           4,160\n",
            "             ReLU-28                [-1, 1, 64]               0\n",
            "           Linear-29                [-1, 1, 10]             650\n",
            "================================================================\n",
            "Total params: 7,283,747\n",
            "Trainable params: 7,283,747\n",
            "Non-trainable params: 0\n",
            "----------------------------------------------------------------\n",
            "Input size (MB): 0.00\n",
            "Forward/backward pass size (MB): 0.13\n",
            "Params size (MB): 27.79\n",
            "Estimated Total Size (MB): 27.91\n",
            "----------------------------------------------------------------\n"
          ],
          "name": "stdout"
        }
      ]
    },
    {
      "cell_type": "code",
      "metadata": {
        "colab": {
          "base_uri": "https://localhost:8080/",
          "height": 258
        },
        "id": "_5AwTlBi6w8U",
        "outputId": "17577e92-e406-475e-cfc7-d2637c839fa1"
      },
      "source": [
        "import hiddenlayer as hl\n",
        "hl.build_graph(netaesurv, torch.zeros([1, in_features]))"
      ],
      "execution_count": 15,
      "outputs": [
        {
          "output_type": "execute_result",
          "data": {
            "text/plain": [
              "<hiddenlayer.graph.Graph at 0x7f2b979ea710>"
            ],
            "image/svg+xml": "<?xml version=\"1.0\" encoding=\"UTF-8\" standalone=\"no\"?>\n<!DOCTYPE svg PUBLIC \"-//W3C//DTD SVG 1.1//EN\"\n \"http://www.w3.org/Graphics/SVG/1.1/DTD/svg11.dtd\">\n<!-- Generated by graphviz version 2.40.1 (20161225.0304)\n -->\n<!-- Title: %3 Pages: 1 -->\n<svg width=\"504pt\" height=\"178pt\"\n viewBox=\"0.00 0.00 504.00 178.00\" xmlns=\"http://www.w3.org/2000/svg\" xmlns:xlink=\"http://www.w3.org/1999/xlink\">\n<g id=\"graph0\" class=\"graph\" transform=\"scale(1 1) rotate(0) translate(72 142)\">\n<title>%3</title>\n<polygon fill=\"#ffffff\" stroke=\"transparent\" points=\"-72,36 -72,-142 432,-142 432,36 -72,36\"/>\n<!-- /outputs/43 -->\n<g id=\"node1\" class=\"node\">\n<title>/outputs/43</title>\n<polygon fill=\"#e8e8e8\" stroke=\"#000000\" points=\"162,-71 108,-71 108,-35 162,-35 162,-71\"/>\n<text text-anchor=\"start\" x=\"122\" y=\"-50\" font-family=\"Times\" font-size=\"10.00\" fill=\"#000000\">Linear</text>\n</g>\n<!-- 3658012471876211487 -->\n<g id=\"node4\" class=\"node\">\n<title>3658012471876211487</title>\n<polygon fill=\"#e8e8e8\" stroke=\"#000000\" points=\"270,-106 198,-106 198,-62 270,-62 270,-106\"/>\n<text text-anchor=\"start\" x=\"206\" y=\"-90\" font-family=\"Times\" font-size=\"10.00\" fill=\"#000000\">Linear &gt; Relu</text>\n<text text-anchor=\"start\" x=\"255\" y=\"-69\" font-family=\"Times\" font-size=\"10.00\" fill=\"#000000\">x3</text>\n</g>\n<!-- /outputs/43&#45;&gt;3658012471876211487 -->\n<g id=\"edge1\" class=\"edge\">\n<title>/outputs/43&#45;&gt;3658012471876211487</title>\n<path fill=\"none\" stroke=\"#000000\" d=\"M162.0522,-61.4709C170.1245,-63.9986 179.2072,-66.8427 188.1316,-69.6372\"/>\n<polygon fill=\"#000000\" stroke=\"#000000\" points=\"187.1092,-72.9845 197.6982,-72.6328 189.201,-66.3044 187.1092,-72.9845\"/>\n</g>\n<!-- 15662508147398959652 -->\n<g id=\"node6\" class=\"node\">\n<title>15662508147398959652</title>\n<polygon fill=\"#e8e8e8\" stroke=\"#000000\" points=\"270,-44 198,-44 198,0 270,0 270,-44\"/>\n<text text-anchor=\"start\" x=\"206\" y=\"-28\" font-family=\"Times\" font-size=\"10.00\" fill=\"#000000\">Linear &gt; Relu</text>\n<text text-anchor=\"start\" x=\"255\" y=\"-7\" font-family=\"Times\" font-size=\"10.00\" fill=\"#000000\">x5</text>\n</g>\n<!-- /outputs/43&#45;&gt;15662508147398959652 -->\n<g id=\"edge4\" class=\"edge\">\n<title>/outputs/43&#45;&gt;15662508147398959652</title>\n<path fill=\"none\" stroke=\"#000000\" d=\"M162.0522,-44.5291C170.1245,-42.0014 179.2072,-39.1573 188.1316,-36.3628\"/>\n<polygon fill=\"#000000\" stroke=\"#000000\" points=\"189.201,-39.6956 197.6982,-33.3672 187.1092,-33.0155 189.201,-39.6956\"/>\n</g>\n<!-- /outputs/54 -->\n<g id=\"node2\" class=\"node\">\n<title>/outputs/54</title>\n<polygon fill=\"#e8e8e8\" stroke=\"#000000\" points=\"360,-40 306,-40 306,-4 360,-4 360,-40\"/>\n<text text-anchor=\"start\" x=\"320\" y=\"-19\" font-family=\"Times\" font-size=\"10.00\" fill=\"#000000\">Linear</text>\n</g>\n<!-- /outputs/61 -->\n<g id=\"node3\" class=\"node\">\n<title>/outputs/61</title>\n<polygon fill=\"#e8e8e8\" stroke=\"#000000\" points=\"360,-102 306,-102 306,-66 360,-66 360,-102\"/>\n<text text-anchor=\"start\" x=\"320\" y=\"-81\" font-family=\"Times\" font-size=\"10.00\" fill=\"#000000\">Linear</text>\n</g>\n<!-- 3658012471876211487&#45;&gt;/outputs/61 -->\n<g id=\"edge2\" class=\"edge\">\n<title>3658012471876211487&#45;&gt;/outputs/61</title>\n<path fill=\"none\" stroke=\"#000000\" d=\"M270.0213,-84C278.3402,-84 287.2088,-84 295.5856,-84\"/>\n<polygon fill=\"#000000\" stroke=\"#000000\" points=\"295.8548,-87.5001 305.8547,-84 295.8547,-80.5001 295.8548,-87.5001\"/>\n</g>\n<!-- 7794433029484415528 -->\n<g id=\"node5\" class=\"node\">\n<title>7794433029484415528</title>\n<polygon fill=\"#e8e8e8\" stroke=\"#000000\" points=\"72,-75 0,-75 0,-31 72,-31 72,-75\"/>\n<text text-anchor=\"start\" x=\"8\" y=\"-59\" font-family=\"Times\" font-size=\"10.00\" fill=\"#000000\">Linear &gt; Relu</text>\n<text text-anchor=\"start\" x=\"57\" y=\"-38\" font-family=\"Times\" font-size=\"10.00\" fill=\"#000000\">x5</text>\n</g>\n<!-- 7794433029484415528&#45;&gt;/outputs/43 -->\n<g id=\"edge3\" class=\"edge\">\n<title>7794433029484415528&#45;&gt;/outputs/43</title>\n<path fill=\"none\" stroke=\"#000000\" d=\"M72.0213,-53C80.3402,-53 89.2088,-53 97.5856,-53\"/>\n<polygon fill=\"#000000\" stroke=\"#000000\" points=\"97.8548,-56.5001 107.8547,-53 97.8547,-49.5001 97.8548,-56.5001\"/>\n</g>\n<!-- 15662508147398959652&#45;&gt;/outputs/54 -->\n<g id=\"edge5\" class=\"edge\">\n<title>15662508147398959652&#45;&gt;/outputs/54</title>\n<path fill=\"none\" stroke=\"#000000\" d=\"M270.0213,-22C278.3402,-22 287.2088,-22 295.5856,-22\"/>\n<polygon fill=\"#000000\" stroke=\"#000000\" points=\"295.8548,-25.5001 305.8547,-22 295.8547,-18.5001 295.8548,-25.5001\"/>\n</g>\n</g>\n</svg>\n"
          },
          "metadata": {
            "tags": []
          },
          "execution_count": 15
        }
      ]
    },
    {
      "cell_type": "code",
      "metadata": {
        "id": "xmW0eWTUFW_l"
      },
      "source": [
        "# loss\n",
        "loss = LossAELogHaz(0.6)"
      ],
      "execution_count": 16,
      "outputs": []
    },
    {
      "cell_type": "code",
      "metadata": {
        "colab": {
          "base_uri": "https://localhost:8080/"
        },
        "id": "GztAp5qfFkqG",
        "outputId": "19eba1ab-1a4e-460c-d9c0-7651b4da49a0"
      },
      "source": [
        "loss"
      ],
      "execution_count": 17,
      "outputs": [
        {
          "output_type": "execute_result",
          "data": {
            "text/plain": [
              "LossAELogHaz(\n",
              "  (loss_surv): NLLLogistiHazardLoss()\n",
              "  (loss_ae): MSELoss()\n",
              ")"
            ]
          },
          "metadata": {
            "tags": []
          },
          "execution_count": 17
        }
      ]
    },
    {
      "cell_type": "code",
      "metadata": {
        "colab": {
          "base_uri": "https://localhost:8080/"
        },
        "id": "NzzXo-S19HXp",
        "outputId": "c7b0185b-2824-4833-d478-d44e358ab4ed"
      },
      "source": [
        "print(labtrans.cuts)"
      ],
      "execution_count": 64,
      "outputs": [
        {
          "output_type": "stream",
          "text": [
            "[  0.          19.44444444  38.88888889  58.33333333  77.77777778\n",
            "  97.22222222 116.66666667 136.11111111 155.55555556 175.        ]\n"
          ],
          "name": "stdout"
        }
      ]
    },
    {
      "cell_type": "code",
      "metadata": {
        "id": "FKVSa6u-Flut"
      },
      "source": [
        "# model\n",
        "model = LogisticHazard(net=netaesurv, optimizer=tt.optim.Adam(0.01), duration_index=labtrans.cuts, loss=loss)"
      ],
      "execution_count": 65,
      "outputs": []
    },
    {
      "cell_type": "code",
      "metadata": {
        "id": "6WrLtMTY9Wam"
      },
      "source": [
        "dl = model.make_dataloader(train, batch_size=5, shuffle=False)\n",
        "batch = next(iter(dl))"
      ],
      "execution_count": 66,
      "outputs": []
    },
    {
      "cell_type": "code",
      "metadata": {
        "colab": {
          "base_uri": "https://localhost:8080/"
        },
        "id": "hcYPAKE89-ma",
        "outputId": "0e27be9d-1367-4c87-8340-5a902a15071a"
      },
      "source": [
        "batch.shapes()"
      ],
      "execution_count": 67,
      "outputs": [
        {
          "output_type": "execute_result",
          "data": {
            "text/plain": [
              "(torch.Size([5, 409]),\n",
              " ((torch.Size([5]), torch.Size([5])), torch.Size([5, 409])))"
            ]
          },
          "metadata": {
            "tags": []
          },
          "execution_count": 67
        }
      ]
    },
    {
      "cell_type": "code",
      "metadata": {
        "colab": {
          "base_uri": "https://localhost:8080/"
        },
        "id": "HUp8yHHG-MIe",
        "outputId": "af76508b-a213-485f-878d-759129c99659"
      },
      "source": [
        "model.compute_metrics(batch)"
      ],
      "execution_count": 69,
      "outputs": [
        {
          "output_type": "execute_result",
          "data": {
            "text/plain": [
              "{'loss': tensor(0.8454, grad_fn=<AddBackward0>)}"
            ]
          },
          "metadata": {
            "tags": []
          },
          "execution_count": 69
        }
      ]
    },
    {
      "cell_type": "code",
      "metadata": {
        "colab": {
          "base_uri": "https://localhost:8080/"
        },
        "id": "QSX3tey6-Wi4",
        "outputId": "bd9f0a48-5fa5-488a-a11c-7984d6b73e04"
      },
      "source": [
        "model.score_in_batches(*train)"
      ],
      "execution_count": 70,
      "outputs": [
        {
          "output_type": "execute_result",
          "data": {
            "text/plain": [
              "{'loss': 1.0132696628570557}"
            ]
          },
          "metadata": {
            "tags": []
          },
          "execution_count": 70
        }
      ]
    },
    {
      "cell_type": "code",
      "metadata": {
        "colab": {
          "base_uri": "https://localhost:8080/"
        },
        "id": "CHTHX5wNFocW",
        "outputId": "b44ef6ac-7c6d-43a6-d29c-9851e343525f"
      },
      "source": [
        "# metrics\n",
        "metrics = dict(loss_surv=LossAELogHaz(1), loss_ae=LossAELogHaz(0))\n",
        "\n",
        "# callbacks\n",
        "callbacks = [tt.cb.EarlyStopping()]\n",
        "\n",
        "# cycling\n",
        "batch_size = 5\n",
        "epochs = 100\n",
        "\n",
        "# trainning model\n",
        "log = model.fit(\n",
        "    *train, batch_size=batch_size, epochs=epochs,  verbose=True, val_data=val, metrics=metrics\n",
        ")"
      ],
      "execution_count": 71,
      "outputs": [
        {
          "output_type": "stream",
          "text": [
            "0:\t[6s / 6s],\t\ttrain_loss: 1.0176,\ttrain_loss_surv: 1.0274,\ttrain_loss_ae: 1.0029,\tval_loss: 1.0719,\tval_loss_surv: 1.2405,\tval_loss_ae: 0.8191\n",
            "1:\t[6s / 12s],\t\ttrain_loss: 1.0116,\ttrain_loss_surv: 1.0196,\ttrain_loss_ae: 0.9996,\tval_loss: 1.0730,\tval_loss_surv: 1.2423,\tval_loss_ae: 0.8192\n",
            "2:\t[6s / 18s],\t\ttrain_loss: 1.0228,\ttrain_loss_surv: 1.0376,\ttrain_loss_ae: 1.0007,\tval_loss: 1.0741,\tval_loss_surv: 1.2442,\tval_loss_ae: 0.8191\n",
            "3:\t[6s / 24s],\t\ttrain_loss: 1.0193,\ttrain_loss_surv: 1.0301,\ttrain_loss_ae: 1.0032,\tval_loss: 1.0891,\tval_loss_surv: 1.2691,\tval_loss_ae: 0.8192\n",
            "4:\t[6s / 31s],\t\ttrain_loss: 1.0204,\ttrain_loss_surv: 1.0292,\ttrain_loss_ae: 1.0071,\tval_loss: 1.0860,\tval_loss_surv: 1.2638,\tval_loss_ae: 0.8192\n",
            "5:\t[6s / 37s],\t\ttrain_loss: 1.0255,\ttrain_loss_surv: 1.0358,\ttrain_loss_ae: 1.0101,\tval_loss: 1.0862,\tval_loss_surv: 1.2641,\tval_loss_ae: 0.8193\n",
            "6:\t[6s / 43s],\t\ttrain_loss: 1.0170,\ttrain_loss_surv: 1.0286,\ttrain_loss_ae: 0.9996,\tval_loss: 1.0770,\tval_loss_surv: 1.2487,\tval_loss_ae: 0.8193\n",
            "7:\t[6s / 49s],\t\ttrain_loss: 1.0237,\ttrain_loss_surv: 1.0356,\ttrain_loss_ae: 1.0058,\tval_loss: 1.0867,\tval_loss_surv: 1.2651,\tval_loss_ae: 0.8191\n",
            "8:\t[6s / 56s],\t\ttrain_loss: 1.0113,\ttrain_loss_surv: 1.0199,\ttrain_loss_ae: 0.9983,\tval_loss: 1.0745,\tval_loss_surv: 1.2446,\tval_loss_ae: 0.8192\n",
            "9:\t[6s / 1m:2s],\t\ttrain_loss: 1.0237,\ttrain_loss_surv: 1.0370,\ttrain_loss_ae: 1.0037,\tval_loss: 1.0769,\tval_loss_surv: 1.2487,\tval_loss_ae: 0.8191\n",
            "10:\t[6s / 1m:8s],\t\ttrain_loss: 1.0137,\ttrain_loss_surv: 1.0237,\ttrain_loss_ae: 0.9988,\tval_loss: 1.0811,\tval_loss_surv: 1.2557,\tval_loss_ae: 0.8192\n",
            "11:\t[6s / 1m:14s],\t\ttrain_loss: 1.0209,\ttrain_loss_surv: 1.0310,\ttrain_loss_ae: 1.0059,\tval_loss: 1.0781,\tval_loss_surv: 1.2507,\tval_loss_ae: 0.8193\n",
            "12:\t[6s / 1m:21s],\t\ttrain_loss: 1.0116,\ttrain_loss_surv: 1.0186,\ttrain_loss_ae: 1.0010,\tval_loss: 1.0794,\tval_loss_surv: 1.2529,\tval_loss_ae: 0.8192\n",
            "13:\t[6s / 1m:27s],\t\ttrain_loss: 1.0227,\ttrain_loss_surv: 1.0359,\ttrain_loss_ae: 1.0029,\tval_loss: 1.0834,\tval_loss_surv: 1.2597,\tval_loss_ae: 0.8189\n",
            "14:\t[6s / 1m:33s],\t\ttrain_loss: 1.0241,\ttrain_loss_surv: 1.0336,\ttrain_loss_ae: 1.0099,\tval_loss: 1.0760,\tval_loss_surv: 1.2470,\tval_loss_ae: 0.8194\n",
            "15:\t[6s / 1m:39s],\t\ttrain_loss: 1.0161,\ttrain_loss_surv: 1.0255,\ttrain_loss_ae: 1.0021,\tval_loss: 1.0794,\tval_loss_surv: 1.2530,\tval_loss_ae: 0.8191\n",
            "16:\t[6s / 1m:46s],\t\ttrain_loss: 1.0190,\ttrain_loss_surv: 1.0279,\ttrain_loss_ae: 1.0056,\tval_loss: 1.0862,\tval_loss_surv: 1.2644,\tval_loss_ae: 0.8189\n",
            "17:\t[6s / 1m:52s],\t\ttrain_loss: 1.0126,\ttrain_loss_surv: 1.0214,\ttrain_loss_ae: 0.9995,\tval_loss: 1.0792,\tval_loss_surv: 1.2527,\tval_loss_ae: 0.8191\n",
            "18:\t[6s / 1m:58s],\t\ttrain_loss: 1.0200,\ttrain_loss_surv: 1.0311,\ttrain_loss_ae: 1.0033,\tval_loss: 1.0796,\tval_loss_surv: 1.2533,\tval_loss_ae: 0.8191\n",
            "19:\t[6s / 2m:4s],\t\ttrain_loss: 1.0184,\ttrain_loss_surv: 1.0267,\ttrain_loss_ae: 1.0060,\tval_loss: 1.0817,\tval_loss_surv: 1.2566,\tval_loss_ae: 0.8194\n",
            "20:\t[6s / 2m:11s],\t\ttrain_loss: 1.0225,\ttrain_loss_surv: 1.0287,\ttrain_loss_ae: 1.0132,\tval_loss: 1.0727,\tval_loss_surv: 1.2417,\tval_loss_ae: 0.8192\n",
            "21:\t[6s / 2m:17s],\t\ttrain_loss: 1.0167,\ttrain_loss_surv: 1.0285,\ttrain_loss_ae: 0.9990,\tval_loss: 1.0880,\tval_loss_surv: 1.2674,\tval_loss_ae: 0.8190\n",
            "22:\t[6s / 2m:23s],\t\ttrain_loss: 1.0115,\ttrain_loss_surv: 1.0186,\ttrain_loss_ae: 1.0010,\tval_loss: 1.0725,\tval_loss_surv: 1.2414,\tval_loss_ae: 0.8191\n",
            "23:\t[6s / 2m:29s],\t\ttrain_loss: 1.0294,\ttrain_loss_surv: 1.0505,\ttrain_loss_ae: 0.9977,\tval_loss: 1.0812,\tval_loss_surv: 1.2559,\tval_loss_ae: 0.8192\n",
            "24:\t[6s / 2m:36s],\t\ttrain_loss: 1.0164,\ttrain_loss_surv: 1.0278,\ttrain_loss_ae: 0.9994,\tval_loss: 1.0773,\tval_loss_surv: 1.2493,\tval_loss_ae: 0.8192\n",
            "25:\t[6s / 2m:42s],\t\ttrain_loss: 1.0201,\ttrain_loss_surv: 1.0364,\ttrain_loss_ae: 0.9956,\tval_loss: 1.0829,\tval_loss_surv: 1.2588,\tval_loss_ae: 0.8191\n",
            "26:\t[6s / 2m:48s],\t\ttrain_loss: 1.0214,\ttrain_loss_surv: 1.0355,\ttrain_loss_ae: 1.0004,\tval_loss: 1.0801,\tval_loss_surv: 1.2542,\tval_loss_ae: 0.8190\n",
            "27:\t[6s / 2m:54s],\t\ttrain_loss: 1.0138,\ttrain_loss_surv: 1.0204,\ttrain_loss_ae: 1.0038,\tval_loss: 1.0840,\tval_loss_surv: 1.2608,\tval_loss_ae: 0.8190\n",
            "28:\t[6s / 3m:0s],\t\ttrain_loss: 1.0114,\ttrain_loss_surv: 1.0198,\ttrain_loss_ae: 0.9988,\tval_loss: 1.0844,\tval_loss_surv: 1.2613,\tval_loss_ae: 0.8190\n",
            "29:\t[6s / 3m:6s],\t\ttrain_loss: 1.0212,\ttrain_loss_surv: 1.0329,\ttrain_loss_ae: 1.0036,\tval_loss: 1.0739,\tval_loss_surv: 1.2437,\tval_loss_ae: 0.8192\n",
            "30:\t[6s / 3m:13s],\t\ttrain_loss: 1.0191,\ttrain_loss_surv: 1.0278,\ttrain_loss_ae: 1.0061,\tval_loss: 1.0805,\tval_loss_surv: 1.2546,\tval_loss_ae: 0.8193\n",
            "31:\t[6s / 3m:19s],\t\ttrain_loss: 1.0168,\ttrain_loss_surv: 1.0273,\ttrain_loss_ae: 1.0012,\tval_loss: 1.0792,\tval_loss_surv: 1.2526,\tval_loss_ae: 0.8191\n",
            "32:\t[6s / 3m:25s],\t\ttrain_loss: 1.0244,\ttrain_loss_surv: 1.0359,\ttrain_loss_ae: 1.0071,\tval_loss: 1.0829,\tval_loss_surv: 1.2586,\tval_loss_ae: 0.8194\n",
            "33:\t[6s / 3m:31s],\t\ttrain_loss: 1.0187,\ttrain_loss_surv: 1.0321,\ttrain_loss_ae: 0.9987,\tval_loss: 1.0686,\tval_loss_surv: 1.2349,\tval_loss_ae: 0.8192\n",
            "34:\t[6s / 3m:38s],\t\ttrain_loss: 1.0200,\ttrain_loss_surv: 1.0346,\ttrain_loss_ae: 0.9982,\tval_loss: 1.0748,\tval_loss_surv: 1.2451,\tval_loss_ae: 0.8193\n",
            "35:\t[6s / 3m:44s],\t\ttrain_loss: 1.0210,\ttrain_loss_surv: 1.0292,\ttrain_loss_ae: 1.0088,\tval_loss: 1.0784,\tval_loss_surv: 1.2512,\tval_loss_ae: 0.8192\n",
            "36:\t[6s / 3m:50s],\t\ttrain_loss: 1.0163,\ttrain_loss_surv: 1.0250,\ttrain_loss_ae: 1.0033,\tval_loss: 1.0809,\tval_loss_surv: 1.2555,\tval_loss_ae: 0.8190\n",
            "37:\t[6s / 3m:56s],\t\ttrain_loss: 1.0159,\ttrain_loss_surv: 1.0207,\ttrain_loss_ae: 1.0087,\tval_loss: 1.0823,\tval_loss_surv: 1.2578,\tval_loss_ae: 0.8191\n",
            "38:\t[6s / 4m:2s],\t\ttrain_loss: 1.0183,\ttrain_loss_surv: 1.0257,\ttrain_loss_ae: 1.0072,\tval_loss: 1.0856,\tval_loss_surv: 1.2632,\tval_loss_ae: 0.8192\n",
            "39:\t[6s / 4m:9s],\t\ttrain_loss: 1.0188,\ttrain_loss_surv: 1.0270,\ttrain_loss_ae: 1.0065,\tval_loss: 1.0867,\tval_loss_surv: 1.2650,\tval_loss_ae: 0.8192\n",
            "40:\t[6s / 4m:15s],\t\ttrain_loss: 1.0186,\ttrain_loss_surv: 1.0256,\ttrain_loss_ae: 1.0080,\tval_loss: 1.0833,\tval_loss_surv: 1.2596,\tval_loss_ae: 0.8190\n",
            "41:\t[6s / 4m:21s],\t\ttrain_loss: 1.0139,\ttrain_loss_surv: 1.0259,\ttrain_loss_ae: 0.9961,\tval_loss: 1.0818,\tval_loss_surv: 1.2568,\tval_loss_ae: 0.8192\n",
            "42:\t[6s / 4m:27s],\t\ttrain_loss: 1.0152,\ttrain_loss_surv: 1.0255,\ttrain_loss_ae: 0.9998,\tval_loss: 1.0831,\tval_loss_surv: 1.2591,\tval_loss_ae: 0.8192\n",
            "43:\t[6s / 4m:34s],\t\ttrain_loss: 1.0258,\ttrain_loss_surv: 1.0347,\ttrain_loss_ae: 1.0125,\tval_loss: 1.0905,\tval_loss_surv: 1.2715,\tval_loss_ae: 0.8190\n",
            "44:\t[6s / 4m:40s],\t\ttrain_loss: 1.0160,\ttrain_loss_surv: 1.0267,\ttrain_loss_ae: 0.9999,\tval_loss: 1.0761,\tval_loss_surv: 1.2475,\tval_loss_ae: 0.8191\n",
            "45:\t[6s / 4m:46s],\t\ttrain_loss: 1.0189,\ttrain_loss_surv: 1.0300,\ttrain_loss_ae: 1.0022,\tval_loss: 1.0773,\tval_loss_surv: 1.2494,\tval_loss_ae: 0.8190\n",
            "46:\t[6s / 4m:52s],\t\ttrain_loss: 1.0181,\ttrain_loss_surv: 1.0257,\ttrain_loss_ae: 1.0068,\tval_loss: 1.0822,\tval_loss_surv: 1.2575,\tval_loss_ae: 0.8193\n",
            "47:\t[6s / 4m:58s],\t\ttrain_loss: 1.0169,\ttrain_loss_surv: 1.0290,\ttrain_loss_ae: 0.9987,\tval_loss: 1.0760,\tval_loss_surv: 1.2472,\tval_loss_ae: 0.8191\n",
            "48:\t[6s / 5m:5s],\t\ttrain_loss: 1.0220,\ttrain_loss_surv: 1.0376,\ttrain_loss_ae: 0.9986,\tval_loss: 1.0756,\tval_loss_surv: 1.2465,\tval_loss_ae: 0.8191\n",
            "49:\t[6s / 5m:11s],\t\ttrain_loss: 1.0210,\ttrain_loss_surv: 1.0314,\ttrain_loss_ae: 1.0055,\tval_loss: 1.0800,\tval_loss_surv: 1.2540,\tval_loss_ae: 0.8191\n",
            "50:\t[6s / 5m:17s],\t\ttrain_loss: 1.0183,\ttrain_loss_surv: 1.0308,\ttrain_loss_ae: 0.9996,\tval_loss: 1.0784,\tval_loss_surv: 1.2512,\tval_loss_ae: 0.8192\n",
            "51:\t[6s / 5m:23s],\t\ttrain_loss: 1.0174,\ttrain_loss_surv: 1.0285,\ttrain_loss_ae: 1.0006,\tval_loss: 1.0828,\tval_loss_surv: 1.2586,\tval_loss_ae: 0.8191\n",
            "52:\t[6s / 5m:30s],\t\ttrain_loss: 1.0126,\ttrain_loss_surv: 1.0186,\ttrain_loss_ae: 1.0037,\tval_loss: 1.0798,\tval_loss_surv: 1.2535,\tval_loss_ae: 0.8191\n",
            "53:\t[6s / 5m:36s],\t\ttrain_loss: 1.0202,\ttrain_loss_surv: 1.0264,\ttrain_loss_ae: 1.0108,\tval_loss: 1.0875,\tval_loss_surv: 1.2665,\tval_loss_ae: 0.8191\n",
            "54:\t[6s / 5m:42s],\t\ttrain_loss: 1.0216,\ttrain_loss_surv: 1.0353,\ttrain_loss_ae: 1.0011,\tval_loss: 1.0792,\tval_loss_surv: 1.2527,\tval_loss_ae: 0.8190\n",
            "55:\t[6s / 5m:48s],\t\ttrain_loss: 1.0179,\ttrain_loss_surv: 1.0266,\ttrain_loss_ae: 1.0050,\tval_loss: 1.0808,\tval_loss_surv: 1.2552,\tval_loss_ae: 0.8192\n",
            "56:\t[6s / 5m:54s],\t\ttrain_loss: 1.0166,\ttrain_loss_surv: 1.0283,\ttrain_loss_ae: 0.9991,\tval_loss: 1.0852,\tval_loss_surv: 1.2625,\tval_loss_ae: 0.8192\n",
            "57:\t[6s / 6m:1s],\t\ttrain_loss: 1.0219,\ttrain_loss_surv: 1.0344,\ttrain_loss_ae: 1.0031,\tval_loss: 1.0785,\tval_loss_surv: 1.2516,\tval_loss_ae: 0.8189\n",
            "58:\t[6s / 6m:7s],\t\ttrain_loss: 1.0224,\ttrain_loss_surv: 1.0354,\ttrain_loss_ae: 1.0030,\tval_loss: 1.0782,\tval_loss_surv: 1.2510,\tval_loss_ae: 0.8190\n",
            "59:\t[6s / 6m:13s],\t\ttrain_loss: 1.0122,\ttrain_loss_surv: 1.0216,\ttrain_loss_ae: 0.9982,\tval_loss: 1.0855,\tval_loss_surv: 1.2631,\tval_loss_ae: 0.8191\n",
            "60:\t[6s / 6m:19s],\t\ttrain_loss: 1.0176,\ttrain_loss_surv: 1.0269,\ttrain_loss_ae: 1.0036,\tval_loss: 1.0815,\tval_loss_surv: 1.2565,\tval_loss_ae: 0.8191\n",
            "61:\t[6s / 6m:25s],\t\ttrain_loss: 1.0205,\ttrain_loss_surv: 1.0277,\ttrain_loss_ae: 1.0096,\tval_loss: 1.0860,\tval_loss_surv: 1.2638,\tval_loss_ae: 0.8194\n",
            "62:\t[6s / 6m:32s],\t\ttrain_loss: 1.0249,\ttrain_loss_surv: 1.0362,\ttrain_loss_ae: 1.0080,\tval_loss: 1.0822,\tval_loss_surv: 1.2575,\tval_loss_ae: 0.8192\n",
            "63:\t[6s / 6m:38s],\t\ttrain_loss: 1.0194,\ttrain_loss_surv: 1.0265,\ttrain_loss_ae: 1.0087,\tval_loss: 1.0811,\tval_loss_surv: 1.2559,\tval_loss_ae: 0.8190\n",
            "64:\t[6s / 6m:44s],\t\ttrain_loss: 1.0181,\ttrain_loss_surv: 1.0271,\ttrain_loss_ae: 1.0047,\tval_loss: 1.0836,\tval_loss_surv: 1.2599,\tval_loss_ae: 0.8192\n",
            "65:\t[6s / 6m:50s],\t\ttrain_loss: 1.0146,\ttrain_loss_surv: 1.0205,\ttrain_loss_ae: 1.0058,\tval_loss: 1.0807,\tval_loss_surv: 1.2551,\tval_loss_ae: 0.8191\n",
            "66:\t[6s / 6m:57s],\t\ttrain_loss: 1.0133,\ttrain_loss_surv: 1.0237,\ttrain_loss_ae: 0.9977,\tval_loss: 1.0767,\tval_loss_surv: 1.2484,\tval_loss_ae: 0.8192\n",
            "67:\t[6s / 7m:3s],\t\ttrain_loss: 1.0193,\ttrain_loss_surv: 1.0281,\ttrain_loss_ae: 1.0061,\tval_loss: 1.0834,\tval_loss_surv: 1.2597,\tval_loss_ae: 0.8190\n",
            "68:\t[6s / 7m:9s],\t\ttrain_loss: 1.0163,\ttrain_loss_surv: 1.0277,\ttrain_loss_ae: 0.9993,\tval_loss: 1.0707,\tval_loss_surv: 1.2384,\tval_loss_ae: 0.8192\n",
            "69:\t[6s / 7m:15s],\t\ttrain_loss: 1.0163,\ttrain_loss_surv: 1.0267,\ttrain_loss_ae: 1.0007,\tval_loss: 1.0793,\tval_loss_surv: 1.2528,\tval_loss_ae: 0.8191\n",
            "70:\t[6s / 7m:21s],\t\ttrain_loss: 1.0142,\ttrain_loss_surv: 1.0210,\ttrain_loss_ae: 1.0041,\tval_loss: 1.0737,\tval_loss_surv: 1.2434,\tval_loss_ae: 0.8192\n",
            "71:\t[6s / 7m:28s],\t\ttrain_loss: 1.0222,\ttrain_loss_surv: 1.0341,\ttrain_loss_ae: 1.0043,\tval_loss: 1.0802,\tval_loss_surv: 1.2544,\tval_loss_ae: 0.8191\n",
            "72:\t[6s / 7m:34s],\t\ttrain_loss: 1.0168,\ttrain_loss_surv: 1.0246,\ttrain_loss_ae: 1.0051,\tval_loss: 1.0813,\tval_loss_surv: 1.2560,\tval_loss_ae: 0.8193\n",
            "73:\t[6s / 7m:40s],\t\ttrain_loss: 1.0201,\ttrain_loss_surv: 1.0316,\ttrain_loss_ae: 1.0027,\tval_loss: 1.0832,\tval_loss_surv: 1.2593,\tval_loss_ae: 0.8190\n",
            "74:\t[6s / 7m:46s],\t\ttrain_loss: 1.0134,\ttrain_loss_surv: 1.0193,\ttrain_loss_ae: 1.0046,\tval_loss: 1.0846,\tval_loss_surv: 1.2614,\tval_loss_ae: 0.8194\n",
            "75:\t[6s / 7m:53s],\t\ttrain_loss: 1.0199,\ttrain_loss_surv: 1.0244,\ttrain_loss_ae: 1.0131,\tval_loss: 1.0865,\tval_loss_surv: 1.2650,\tval_loss_ae: 0.8189\n",
            "76:\t[6s / 7m:59s],\t\ttrain_loss: 1.0203,\ttrain_loss_surv: 1.0344,\ttrain_loss_ae: 0.9991,\tval_loss: 1.0812,\tval_loss_surv: 1.2559,\tval_loss_ae: 0.8193\n",
            "77:\t[6s / 8m:5s],\t\ttrain_loss: 1.0099,\ttrain_loss_surv: 1.0193,\ttrain_loss_ae: 0.9958,\tval_loss: 1.0792,\tval_loss_surv: 1.2525,\tval_loss_ae: 0.8191\n",
            "78:\t[6s / 8m:11s],\t\ttrain_loss: 1.0160,\ttrain_loss_surv: 1.0254,\ttrain_loss_ae: 1.0020,\tval_loss: 1.0773,\tval_loss_surv: 1.2495,\tval_loss_ae: 0.8191\n",
            "79:\t[6s / 8m:18s],\t\ttrain_loss: 1.0146,\ttrain_loss_surv: 1.0251,\ttrain_loss_ae: 0.9989,\tval_loss: 1.0832,\tval_loss_surv: 1.2591,\tval_loss_ae: 0.8194\n",
            "80:\t[6s / 8m:24s],\t\ttrain_loss: 1.0175,\ttrain_loss_surv: 1.0277,\ttrain_loss_ae: 1.0021,\tval_loss: 1.0847,\tval_loss_surv: 1.2618,\tval_loss_ae: 0.8190\n",
            "81:\t[6s / 8m:30s],\t\ttrain_loss: 1.0196,\ttrain_loss_surv: 1.0325,\ttrain_loss_ae: 1.0002,\tval_loss: 1.0865,\tval_loss_surv: 1.2647,\tval_loss_ae: 0.8192\n",
            "82:\t[6s / 8m:36s],\t\ttrain_loss: 1.0145,\ttrain_loss_surv: 1.0191,\ttrain_loss_ae: 1.0077,\tval_loss: 1.0847,\tval_loss_surv: 1.2616,\tval_loss_ae: 0.8192\n",
            "83:\t[6s / 8m:43s],\t\ttrain_loss: 1.0184,\ttrain_loss_surv: 1.0279,\ttrain_loss_ae: 1.0043,\tval_loss: 1.0779,\tval_loss_surv: 1.2505,\tval_loss_ae: 0.8191\n",
            "84:\t[6s / 8m:49s],\t\ttrain_loss: 1.0155,\ttrain_loss_surv: 1.0251,\ttrain_loss_ae: 1.0010,\tval_loss: 1.0796,\tval_loss_surv: 1.2533,\tval_loss_ae: 0.8192\n",
            "85:\t[6s / 8m:55s],\t\ttrain_loss: 1.0224,\ttrain_loss_surv: 1.0370,\ttrain_loss_ae: 1.0005,\tval_loss: 1.0792,\tval_loss_surv: 1.2526,\tval_loss_ae: 0.8191\n",
            "86:\t[6s / 9m:1s],\t\ttrain_loss: 1.0161,\ttrain_loss_surv: 1.0251,\ttrain_loss_ae: 1.0027,\tval_loss: 1.0784,\tval_loss_surv: 1.2513,\tval_loss_ae: 0.8191\n",
            "87:\t[6s / 9m:7s],\t\ttrain_loss: 1.0148,\ttrain_loss_surv: 1.0243,\ttrain_loss_ae: 1.0005,\tval_loss: 1.0773,\tval_loss_surv: 1.2494,\tval_loss_ae: 0.8191\n",
            "88:\t[6s / 9m:14s],\t\ttrain_loss: 1.0112,\ttrain_loss_surv: 1.0171,\ttrain_loss_ae: 1.0023,\tval_loss: 1.0799,\tval_loss_surv: 1.2539,\tval_loss_ae: 0.8189\n",
            "89:\t[6s / 9m:20s],\t\ttrain_loss: 1.0184,\ttrain_loss_surv: 1.0260,\ttrain_loss_ae: 1.0070,\tval_loss: 1.0833,\tval_loss_surv: 1.2594,\tval_loss_ae: 0.8192\n",
            "90:\t[6s / 9m:26s],\t\ttrain_loss: 1.0164,\ttrain_loss_surv: 1.0262,\ttrain_loss_ae: 1.0017,\tval_loss: 1.0788,\tval_loss_surv: 1.2519,\tval_loss_ae: 0.8191\n",
            "91:\t[6s / 9m:32s],\t\ttrain_loss: 1.0124,\ttrain_loss_surv: 1.0218,\ttrain_loss_ae: 0.9983,\tval_loss: 1.0737,\tval_loss_surv: 1.2434,\tval_loss_ae: 0.8193\n",
            "92:\t[6s / 9m:39s],\t\ttrain_loss: 1.0188,\ttrain_loss_surv: 1.0277,\ttrain_loss_ae: 1.0056,\tval_loss: 1.0781,\tval_loss_surv: 1.2507,\tval_loss_ae: 0.8192\n",
            "93:\t[6s / 9m:45s],\t\ttrain_loss: 1.0120,\ttrain_loss_surv: 1.0181,\ttrain_loss_ae: 1.0029,\tval_loss: 1.0768,\tval_loss_surv: 1.2486,\tval_loss_ae: 0.8191\n",
            "94:\t[6s / 9m:51s],\t\ttrain_loss: 1.0152,\ttrain_loss_surv: 1.0261,\ttrain_loss_ae: 0.9990,\tval_loss: 1.0838,\tval_loss_surv: 1.2601,\tval_loss_ae: 0.8192\n",
            "95:\t[6s / 9m:57s],\t\ttrain_loss: 1.0245,\ttrain_loss_surv: 1.0397,\ttrain_loss_ae: 1.0019,\tval_loss: 1.0786,\tval_loss_surv: 1.2517,\tval_loss_ae: 0.8191\n",
            "96:\t[6s / 10m:4s],\t\ttrain_loss: 1.0137,\ttrain_loss_surv: 1.0234,\ttrain_loss_ae: 0.9993,\tval_loss: 1.0806,\tval_loss_surv: 1.2549,\tval_loss_ae: 0.8192\n",
            "97:\t[6s / 10m:10s],\t\ttrain_loss: 1.0194,\ttrain_loss_surv: 1.0247,\ttrain_loss_ae: 1.0115,\tval_loss: 1.0817,\tval_loss_surv: 1.2567,\tval_loss_ae: 0.8192\n",
            "98:\t[6s / 10m:16s],\t\ttrain_loss: 1.0149,\ttrain_loss_surv: 1.0199,\ttrain_loss_ae: 1.0075,\tval_loss: 1.0818,\tval_loss_surv: 1.2569,\tval_loss_ae: 0.8192\n",
            "99:\t[6s / 10m:22s],\t\ttrain_loss: 1.0211,\ttrain_loss_surv: 1.0352,\ttrain_loss_ae: 0.9998,\tval_loss: 1.0798,\tval_loss_surv: 1.2537,\tval_loss_ae: 0.8190\n"
          ],
          "name": "stdout"
        }
      ]
    },
    {
      "cell_type": "code",
      "metadata": {
        "id": "iIIxAInIFtpt"
      },
      "source": [
        "res = model.log.to_pandas()"
      ],
      "execution_count": 20,
      "outputs": []
    },
    {
      "cell_type": "code",
      "metadata": {
        "colab": {
          "base_uri": "https://localhost:8080/",
          "height": 669
        },
        "id": "gRvwPPDSIU06",
        "outputId": "f76936ec-f139-4169-8295-76f5a1fc2e0a"
      },
      "source": [
        "res.tail(20)"
      ],
      "execution_count": 21,
      "outputs": [
        {
          "output_type": "execute_result",
          "data": {
            "text/html": [
              "<div>\n",
              "<style scoped>\n",
              "    .dataframe tbody tr th:only-of-type {\n",
              "        vertical-align: middle;\n",
              "    }\n",
              "\n",
              "    .dataframe tbody tr th {\n",
              "        vertical-align: top;\n",
              "    }\n",
              "\n",
              "    .dataframe thead th {\n",
              "        text-align: right;\n",
              "    }\n",
              "</style>\n",
              "<table border=\"1\" class=\"dataframe\">\n",
              "  <thead>\n",
              "    <tr style=\"text-align: right;\">\n",
              "      <th></th>\n",
              "      <th>train_loss</th>\n",
              "      <th>train_loss_surv</th>\n",
              "      <th>train_loss_ae</th>\n",
              "      <th>val_loss</th>\n",
              "      <th>val_loss_surv</th>\n",
              "      <th>val_loss_ae</th>\n",
              "    </tr>\n",
              "  </thead>\n",
              "  <tbody>\n",
              "    <tr>\n",
              "      <th>80</th>\n",
              "      <td>1.019682</td>\n",
              "      <td>1.030987</td>\n",
              "      <td>1.002724</td>\n",
              "      <td>1.077247</td>\n",
              "      <td>1.249350</td>\n",
              "      <td>0.819092</td>\n",
              "    </tr>\n",
              "    <tr>\n",
              "      <th>81</th>\n",
              "      <td>1.011911</td>\n",
              "      <td>1.020015</td>\n",
              "      <td>0.999754</td>\n",
              "      <td>1.081338</td>\n",
              "      <td>1.256185</td>\n",
              "      <td>0.819067</td>\n",
              "    </tr>\n",
              "    <tr>\n",
              "      <th>82</th>\n",
              "      <td>1.021155</td>\n",
              "      <td>1.029666</td>\n",
              "      <td>1.008388</td>\n",
              "      <td>1.071684</td>\n",
              "      <td>1.240053</td>\n",
              "      <td>0.819130</td>\n",
              "    </tr>\n",
              "    <tr>\n",
              "      <th>83</th>\n",
              "      <td>1.023669</td>\n",
              "      <td>1.039323</td>\n",
              "      <td>1.000188</td>\n",
              "      <td>1.072538</td>\n",
              "      <td>1.241522</td>\n",
              "      <td>0.819062</td>\n",
              "    </tr>\n",
              "    <tr>\n",
              "      <th>84</th>\n",
              "      <td>1.021813</td>\n",
              "      <td>1.037345</td>\n",
              "      <td>0.998514</td>\n",
              "      <td>1.084047</td>\n",
              "      <td>1.260556</td>\n",
              "      <td>0.819283</td>\n",
              "    </tr>\n",
              "    <tr>\n",
              "      <th>85</th>\n",
              "      <td>1.028702</td>\n",
              "      <td>1.042594</td>\n",
              "      <td>1.007863</td>\n",
              "      <td>1.088822</td>\n",
              "      <td>1.268682</td>\n",
              "      <td>0.819030</td>\n",
              "    </tr>\n",
              "    <tr>\n",
              "      <th>86</th>\n",
              "      <td>1.022554</td>\n",
              "      <td>1.034734</td>\n",
              "      <td>1.004283</td>\n",
              "      <td>1.077639</td>\n",
              "      <td>1.250061</td>\n",
              "      <td>0.819006</td>\n",
              "    </tr>\n",
              "    <tr>\n",
              "      <th>87</th>\n",
              "      <td>1.013611</td>\n",
              "      <td>1.023559</td>\n",
              "      <td>0.998689</td>\n",
              "      <td>1.083238</td>\n",
              "      <td>1.259463</td>\n",
              "      <td>0.818901</td>\n",
              "    </tr>\n",
              "    <tr>\n",
              "      <th>88</th>\n",
              "      <td>1.020894</td>\n",
              "      <td>1.030691</td>\n",
              "      <td>1.006197</td>\n",
              "      <td>1.098972</td>\n",
              "      <td>1.285596</td>\n",
              "      <td>0.819036</td>\n",
              "    </tr>\n",
              "    <tr>\n",
              "      <th>89</th>\n",
              "      <td>1.021801</td>\n",
              "      <td>1.031634</td>\n",
              "      <td>1.007051</td>\n",
              "      <td>1.085551</td>\n",
              "      <td>1.263018</td>\n",
              "      <td>0.819350</td>\n",
              "    </tr>\n",
              "    <tr>\n",
              "      <th>90</th>\n",
              "      <td>1.020886</td>\n",
              "      <td>1.031935</td>\n",
              "      <td>1.004312</td>\n",
              "      <td>1.080436</td>\n",
              "      <td>1.254604</td>\n",
              "      <td>0.819184</td>\n",
              "    </tr>\n",
              "    <tr>\n",
              "      <th>91</th>\n",
              "      <td>1.019363</td>\n",
              "      <td>1.030638</td>\n",
              "      <td>1.002452</td>\n",
              "      <td>1.083297</td>\n",
              "      <td>1.259409</td>\n",
              "      <td>0.819128</td>\n",
              "    </tr>\n",
              "    <tr>\n",
              "      <th>92</th>\n",
              "      <td>1.019692</td>\n",
              "      <td>1.030313</td>\n",
              "      <td>1.003761</td>\n",
              "      <td>1.073083</td>\n",
              "      <td>1.242452</td>\n",
              "      <td>0.819030</td>\n",
              "    </tr>\n",
              "    <tr>\n",
              "      <th>93</th>\n",
              "      <td>1.013820</td>\n",
              "      <td>1.020750</td>\n",
              "      <td>1.003427</td>\n",
              "      <td>1.074513</td>\n",
              "      <td>1.244644</td>\n",
              "      <td>0.819317</td>\n",
              "    </tr>\n",
              "    <tr>\n",
              "      <th>94</th>\n",
              "      <td>1.014570</td>\n",
              "      <td>1.021643</td>\n",
              "      <td>1.003960</td>\n",
              "      <td>1.074793</td>\n",
              "      <td>1.245223</td>\n",
              "      <td>0.819147</td>\n",
              "    </tr>\n",
              "    <tr>\n",
              "      <th>95</th>\n",
              "      <td>1.019408</td>\n",
              "      <td>1.028843</td>\n",
              "      <td>1.005257</td>\n",
              "      <td>1.071405</td>\n",
              "      <td>1.239597</td>\n",
              "      <td>0.819118</td>\n",
              "    </tr>\n",
              "    <tr>\n",
              "      <th>96</th>\n",
              "      <td>1.017961</td>\n",
              "      <td>1.029698</td>\n",
              "      <td>1.000355</td>\n",
              "      <td>1.079485</td>\n",
              "      <td>1.253087</td>\n",
              "      <td>0.819083</td>\n",
              "    </tr>\n",
              "    <tr>\n",
              "      <th>97</th>\n",
              "      <td>1.022128</td>\n",
              "      <td>1.038258</td>\n",
              "      <td>0.997933</td>\n",
              "      <td>1.076761</td>\n",
              "      <td>1.248542</td>\n",
              "      <td>0.819090</td>\n",
              "    </tr>\n",
              "    <tr>\n",
              "      <th>98</th>\n",
              "      <td>1.017844</td>\n",
              "      <td>1.028174</td>\n",
              "      <td>1.002348</td>\n",
              "      <td>1.080219</td>\n",
              "      <td>1.254226</td>\n",
              "      <td>0.819207</td>\n",
              "    </tr>\n",
              "    <tr>\n",
              "      <th>99</th>\n",
              "      <td>1.019741</td>\n",
              "      <td>1.028105</td>\n",
              "      <td>1.007194</td>\n",
              "      <td>1.070914</td>\n",
              "      <td>1.238627</td>\n",
              "      <td>0.819344</td>\n",
              "    </tr>\n",
              "  </tbody>\n",
              "</table>\n",
              "</div>"
            ],
            "text/plain": [
              "    train_loss  train_loss_surv  ...  val_loss_surv  val_loss_ae\n",
              "80    1.019682         1.030987  ...       1.249350     0.819092\n",
              "81    1.011911         1.020015  ...       1.256185     0.819067\n",
              "82    1.021155         1.029666  ...       1.240053     0.819130\n",
              "83    1.023669         1.039323  ...       1.241522     0.819062\n",
              "84    1.021813         1.037345  ...       1.260556     0.819283\n",
              "85    1.028702         1.042594  ...       1.268682     0.819030\n",
              "86    1.022554         1.034734  ...       1.250061     0.819006\n",
              "87    1.013611         1.023559  ...       1.259463     0.818901\n",
              "88    1.020894         1.030691  ...       1.285596     0.819036\n",
              "89    1.021801         1.031634  ...       1.263018     0.819350\n",
              "90    1.020886         1.031935  ...       1.254604     0.819184\n",
              "91    1.019363         1.030638  ...       1.259409     0.819128\n",
              "92    1.019692         1.030313  ...       1.242452     0.819030\n",
              "93    1.013820         1.020750  ...       1.244644     0.819317\n",
              "94    1.014570         1.021643  ...       1.245223     0.819147\n",
              "95    1.019408         1.028843  ...       1.239597     0.819118\n",
              "96    1.017961         1.029698  ...       1.253087     0.819083\n",
              "97    1.022128         1.038258  ...       1.248542     0.819090\n",
              "98    1.017844         1.028174  ...       1.254226     0.819207\n",
              "99    1.019741         1.028105  ...       1.238627     0.819344\n",
              "\n",
              "[20 rows x 6 columns]"
            ]
          },
          "metadata": {
            "tags": []
          },
          "execution_count": 21
        }
      ]
    },
    {
      "cell_type": "code",
      "metadata": {
        "colab": {
          "base_uri": "https://localhost:8080/",
          "height": 265
        },
        "id": "CKvCPgYEIXC_",
        "outputId": "d172eb0b-7a09-47f9-c0e9-51e96b27615c"
      },
      "source": [
        "_ = res[['train_loss', 'val_loss']].plot()"
      ],
      "execution_count": 22,
      "outputs": [
        {
          "output_type": "display_data",
          "data": {
            "image/png": "[encoded data removed]",
            "text/plain": [
              "<Figure size 432x288 with 1 Axes>"
            ]
          },
          "metadata": {
            "tags": [],
            "needs_background": "light"
          }
        }
      ]
    },
    {
      "cell_type": "code",
      "metadata": {
        "colab": {
          "base_uri": "https://localhost:8080/",
          "height": 265
        },
        "id": "130SYCKaIehY",
        "outputId": "1b5ad2c0-4758-4f3d-821a-3a2263309422"
      },
      "source": [
        "_ = res[['train_loss_surv', 'val_loss_surv']].plot()"
      ],
      "execution_count": 23,
      "outputs": [
        {
          "output_type": "display_data",
          "data": {
            "image/png": "[encoded data removed]",
            "text/plain": [
              "<Figure size 432x288 with 1 Axes>"
            ]
          },
          "metadata": {
            "tags": [],
            "needs_background": "light"
          }
        }
      ]
    },
    {
      "cell_type": "code",
      "metadata": {
        "colab": {
          "base_uri": "https://localhost:8080/",
          "height": 265
        },
        "id": "8aekIbaOIiV0",
        "outputId": "12ae947f-e440-48ed-d708-9cc21ecaa3a1"
      },
      "source": [
        "_ = res[['train_loss_ae', 'val_loss_ae']].plot()"
      ],
      "execution_count": 24,
      "outputs": [
        {
          "output_type": "display_data",
          "data": {
            "image/png": "[encoded data removed]",
            "text/plain": [
              "<Figure size 432x288 with 1 Axes>"
            ]
          },
          "metadata": {
            "tags": [],
            "needs_background": "light"
          }
        }
      ]
    },
    {
      "cell_type": "code",
      "metadata": {
        "id": "Y8HUs_Z0In8u"
      },
      "source": [
        "surv1 = model.interpolate(10).predict_surv_df(x_test1)\n",
        "surv2 = model.interpolate(10).predict_surv_df(x_test2)"
      ],
      "execution_count": 25,
      "outputs": []
    },
    {
      "cell_type": "code",
      "metadata": {
        "colab": {
          "base_uri": "https://localhost:8080/",
          "height": 419
        },
        "id": "9FBtT1smO_kX",
        "outputId": "543dea89-841b-4bba-c056-1edb5d51cb43"
      },
      "source": [
        "surv1.iloc[:, :5]"
      ],
      "execution_count": 26,
      "outputs": [
        {
          "output_type": "execute_result",
          "data": {
            "text/html": [
              "<div>\n",
              "<style scoped>\n",
              "    .dataframe tbody tr th:only-of-type {\n",
              "        vertical-align: middle;\n",
              "    }\n",
              "\n",
              "    .dataframe tbody tr th {\n",
              "        vertical-align: top;\n",
              "    }\n",
              "\n",
              "    .dataframe thead th {\n",
              "        text-align: right;\n",
              "    }\n",
              "</style>\n",
              "<table border=\"1\" class=\"dataframe\">\n",
              "  <thead>\n",
              "    <tr style=\"text-align: right;\">\n",
              "      <th></th>\n",
              "      <th>0</th>\n",
              "      <th>1</th>\n",
              "      <th>2</th>\n",
              "      <th>3</th>\n",
              "      <th>4</th>\n",
              "    </tr>\n",
              "  </thead>\n",
              "  <tbody>\n",
              "    <tr>\n",
              "      <th>0.000000</th>\n",
              "      <td>0.996464</td>\n",
              "      <td>0.996464</td>\n",
              "      <td>0.996464</td>\n",
              "      <td>0.996464</td>\n",
              "      <td>0.996464</td>\n",
              "    </tr>\n",
              "    <tr>\n",
              "      <th>1.944444</th>\n",
              "      <td>0.978766</td>\n",
              "      <td>0.978766</td>\n",
              "      <td>0.978766</td>\n",
              "      <td>0.978766</td>\n",
              "      <td>0.978766</td>\n",
              "    </tr>\n",
              "    <tr>\n",
              "      <th>3.888889</th>\n",
              "      <td>0.961068</td>\n",
              "      <td>0.961068</td>\n",
              "      <td>0.961068</td>\n",
              "      <td>0.961068</td>\n",
              "      <td>0.961068</td>\n",
              "    </tr>\n",
              "    <tr>\n",
              "      <th>5.833333</th>\n",
              "      <td>0.943371</td>\n",
              "      <td>0.943371</td>\n",
              "      <td>0.943371</td>\n",
              "      <td>0.943371</td>\n",
              "      <td>0.943371</td>\n",
              "    </tr>\n",
              "    <tr>\n",
              "      <th>7.777778</th>\n",
              "      <td>0.925673</td>\n",
              "      <td>0.925673</td>\n",
              "      <td>0.925673</td>\n",
              "      <td>0.925673</td>\n",
              "      <td>0.925673</td>\n",
              "    </tr>\n",
              "    <tr>\n",
              "      <th>...</th>\n",
              "      <td>...</td>\n",
              "      <td>...</td>\n",
              "      <td>...</td>\n",
              "      <td>...</td>\n",
              "      <td>...</td>\n",
              "    </tr>\n",
              "    <tr>\n",
              "      <th>167.222222</th>\n",
              "      <td>0.119449</td>\n",
              "      <td>0.119449</td>\n",
              "      <td>0.119449</td>\n",
              "      <td>0.119449</td>\n",
              "      <td>0.119449</td>\n",
              "    </tr>\n",
              "    <tr>\n",
              "      <th>169.166667</th>\n",
              "      <td>0.119408</td>\n",
              "      <td>0.119408</td>\n",
              "      <td>0.119408</td>\n",
              "      <td>0.119408</td>\n",
              "      <td>0.119408</td>\n",
              "    </tr>\n",
              "    <tr>\n",
              "      <th>171.111111</th>\n",
              "      <td>0.119367</td>\n",
              "      <td>0.119367</td>\n",
              "      <td>0.119367</td>\n",
              "      <td>0.119367</td>\n",
              "      <td>0.119367</td>\n",
              "    </tr>\n",
              "    <tr>\n",
              "      <th>173.055556</th>\n",
              "      <td>0.119327</td>\n",
              "      <td>0.119327</td>\n",
              "      <td>0.119327</td>\n",
              "      <td>0.119327</td>\n",
              "      <td>0.119327</td>\n",
              "    </tr>\n",
              "    <tr>\n",
              "      <th>175.000000</th>\n",
              "      <td>0.119286</td>\n",
              "      <td>0.119286</td>\n",
              "      <td>0.119286</td>\n",
              "      <td>0.119286</td>\n",
              "      <td>0.119286</td>\n",
              "    </tr>\n",
              "  </tbody>\n",
              "</table>\n",
              "<p>91 rows × 5 columns</p>\n",
              "</div>"
            ],
            "text/plain": [
              "                   0         1         2         3         4\n",
              "0.000000    0.996464  0.996464  0.996464  0.996464  0.996464\n",
              "1.944444    0.978766  0.978766  0.978766  0.978766  0.978766\n",
              "3.888889    0.961068  0.961068  0.961068  0.961068  0.961068\n",
              "5.833333    0.943371  0.943371  0.943371  0.943371  0.943371\n",
              "7.777778    0.925673  0.925673  0.925673  0.925673  0.925673\n",
              "...              ...       ...       ...       ...       ...\n",
              "167.222222  0.119449  0.119449  0.119449  0.119449  0.119449\n",
              "169.166667  0.119408  0.119408  0.119408  0.119408  0.119408\n",
              "171.111111  0.119367  0.119367  0.119367  0.119367  0.119367\n",
              "173.055556  0.119327  0.119327  0.119327  0.119327  0.119327\n",
              "175.000000  0.119286  0.119286  0.119286  0.119286  0.119286\n",
              "\n",
              "[91 rows x 5 columns]"
            ]
          },
          "metadata": {
            "tags": []
          },
          "execution_count": 26
        }
      ]
    },
    {
      "cell_type": "code",
      "metadata": {
        "colab": {
          "base_uri": "https://localhost:8080/",
          "height": 419
        },
        "id": "J0XrMBjvGWbE",
        "outputId": "fc1b0619-9092-4443-c156-6b177ffb5789"
      },
      "source": [
        "surv2.iloc[:, :10]"
      ],
      "execution_count": 43,
      "outputs": [
        {
          "output_type": "execute_result",
          "data": {
            "text/html": [
              "<div>\n",
              "<style scoped>\n",
              "    .dataframe tbody tr th:only-of-type {\n",
              "        vertical-align: middle;\n",
              "    }\n",
              "\n",
              "    .dataframe tbody tr th {\n",
              "        vertical-align: top;\n",
              "    }\n",
              "\n",
              "    .dataframe thead th {\n",
              "        text-align: right;\n",
              "    }\n",
              "</style>\n",
              "<table border=\"1\" class=\"dataframe\">\n",
              "  <thead>\n",
              "    <tr style=\"text-align: right;\">\n",
              "      <th></th>\n",
              "      <th>0</th>\n",
              "      <th>1</th>\n",
              "      <th>2</th>\n",
              "      <th>3</th>\n",
              "      <th>4</th>\n",
              "      <th>5</th>\n",
              "      <th>6</th>\n",
              "      <th>7</th>\n",
              "      <th>8</th>\n",
              "      <th>9</th>\n",
              "    </tr>\n",
              "  </thead>\n",
              "  <tbody>\n",
              "    <tr>\n",
              "      <th>0.000000</th>\n",
              "      <td>0.996464</td>\n",
              "      <td>0.996464</td>\n",
              "      <td>0.996464</td>\n",
              "      <td>0.996464</td>\n",
              "      <td>0.996464</td>\n",
              "      <td>0.996464</td>\n",
              "      <td>0.996464</td>\n",
              "      <td>0.996464</td>\n",
              "      <td>0.996464</td>\n",
              "      <td>0.996464</td>\n",
              "    </tr>\n",
              "    <tr>\n",
              "      <th>1.944444</th>\n",
              "      <td>0.978766</td>\n",
              "      <td>0.978766</td>\n",
              "      <td>0.978766</td>\n",
              "      <td>0.978766</td>\n",
              "      <td>0.978766</td>\n",
              "      <td>0.978766</td>\n",
              "      <td>0.978766</td>\n",
              "      <td>0.978766</td>\n",
              "      <td>0.978766</td>\n",
              "      <td>0.978766</td>\n",
              "    </tr>\n",
              "    <tr>\n",
              "      <th>3.888889</th>\n",
              "      <td>0.961068</td>\n",
              "      <td>0.961068</td>\n",
              "      <td>0.961068</td>\n",
              "      <td>0.961068</td>\n",
              "      <td>0.961068</td>\n",
              "      <td>0.961068</td>\n",
              "      <td>0.961068</td>\n",
              "      <td>0.961068</td>\n",
              "      <td>0.961068</td>\n",
              "      <td>0.961068</td>\n",
              "    </tr>\n",
              "    <tr>\n",
              "      <th>5.833333</th>\n",
              "      <td>0.943371</td>\n",
              "      <td>0.943371</td>\n",
              "      <td>0.943371</td>\n",
              "      <td>0.943371</td>\n",
              "      <td>0.943371</td>\n",
              "      <td>0.943371</td>\n",
              "      <td>0.943371</td>\n",
              "      <td>0.943371</td>\n",
              "      <td>0.943371</td>\n",
              "      <td>0.943371</td>\n",
              "    </tr>\n",
              "    <tr>\n",
              "      <th>7.777778</th>\n",
              "      <td>0.925673</td>\n",
              "      <td>0.925673</td>\n",
              "      <td>0.925673</td>\n",
              "      <td>0.925673</td>\n",
              "      <td>0.925673</td>\n",
              "      <td>0.925673</td>\n",
              "      <td>0.925673</td>\n",
              "      <td>0.925673</td>\n",
              "      <td>0.925673</td>\n",
              "      <td>0.925673</td>\n",
              "    </tr>\n",
              "    <tr>\n",
              "      <th>...</th>\n",
              "      <td>...</td>\n",
              "      <td>...</td>\n",
              "      <td>...</td>\n",
              "      <td>...</td>\n",
              "      <td>...</td>\n",
              "      <td>...</td>\n",
              "      <td>...</td>\n",
              "      <td>...</td>\n",
              "      <td>...</td>\n",
              "      <td>...</td>\n",
              "    </tr>\n",
              "    <tr>\n",
              "      <th>167.222222</th>\n",
              "      <td>0.119449</td>\n",
              "      <td>0.119449</td>\n",
              "      <td>0.119449</td>\n",
              "      <td>0.119449</td>\n",
              "      <td>0.119449</td>\n",
              "      <td>0.119449</td>\n",
              "      <td>0.119449</td>\n",
              "      <td>0.119449</td>\n",
              "      <td>0.119449</td>\n",
              "      <td>0.119449</td>\n",
              "    </tr>\n",
              "    <tr>\n",
              "      <th>169.166667</th>\n",
              "      <td>0.119408</td>\n",
              "      <td>0.119408</td>\n",
              "      <td>0.119408</td>\n",
              "      <td>0.119408</td>\n",
              "      <td>0.119408</td>\n",
              "      <td>0.119408</td>\n",
              "      <td>0.119408</td>\n",
              "      <td>0.119408</td>\n",
              "      <td>0.119408</td>\n",
              "      <td>0.119408</td>\n",
              "    </tr>\n",
              "    <tr>\n",
              "      <th>171.111111</th>\n",
              "      <td>0.119367</td>\n",
              "      <td>0.119367</td>\n",
              "      <td>0.119367</td>\n",
              "      <td>0.119367</td>\n",
              "      <td>0.119367</td>\n",
              "      <td>0.119367</td>\n",
              "      <td>0.119367</td>\n",
              "      <td>0.119367</td>\n",
              "      <td>0.119367</td>\n",
              "      <td>0.119367</td>\n",
              "    </tr>\n",
              "    <tr>\n",
              "      <th>173.055556</th>\n",
              "      <td>0.119327</td>\n",
              "      <td>0.119327</td>\n",
              "      <td>0.119327</td>\n",
              "      <td>0.119327</td>\n",
              "      <td>0.119327</td>\n",
              "      <td>0.119327</td>\n",
              "      <td>0.119327</td>\n",
              "      <td>0.119327</td>\n",
              "      <td>0.119327</td>\n",
              "      <td>0.119327</td>\n",
              "    </tr>\n",
              "    <tr>\n",
              "      <th>175.000000</th>\n",
              "      <td>0.119286</td>\n",
              "      <td>0.119286</td>\n",
              "      <td>0.119286</td>\n",
              "      <td>0.119286</td>\n",
              "      <td>0.119286</td>\n",
              "      <td>0.119286</td>\n",
              "      <td>0.119286</td>\n",
              "      <td>0.119286</td>\n",
              "      <td>0.119286</td>\n",
              "      <td>0.119286</td>\n",
              "    </tr>\n",
              "  </tbody>\n",
              "</table>\n",
              "<p>91 rows × 10 columns</p>\n",
              "</div>"
            ],
            "text/plain": [
              "                   0         1         2  ...         7         8         9\n",
              "0.000000    0.996464  0.996464  0.996464  ...  0.996464  0.996464  0.996464\n",
              "1.944444    0.978766  0.978766  0.978766  ...  0.978766  0.978766  0.978766\n",
              "3.888889    0.961068  0.961068  0.961068  ...  0.961068  0.961068  0.961068\n",
              "5.833333    0.943371  0.943371  0.943371  ...  0.943371  0.943371  0.943371\n",
              "7.777778    0.925673  0.925673  0.925673  ...  0.925673  0.925673  0.925673\n",
              "...              ...       ...       ...  ...       ...       ...       ...\n",
              "167.222222  0.119449  0.119449  0.119449  ...  0.119449  0.119449  0.119449\n",
              "169.166667  0.119408  0.119408  0.119408  ...  0.119408  0.119408  0.119408\n",
              "171.111111  0.119367  0.119367  0.119367  ...  0.119367  0.119367  0.119367\n",
              "173.055556  0.119327  0.119327  0.119327  ...  0.119327  0.119327  0.119327\n",
              "175.000000  0.119286  0.119286  0.119286  ...  0.119286  0.119286  0.119286\n",
              "\n",
              "[91 rows x 10 columns]"
            ]
          },
          "metadata": {
            "tags": []
          },
          "execution_count": 43
        }
      ]
    },
    {
      "cell_type": "code",
      "metadata": {
        "id": "FnL7BEy6xTrU"
      },
      "source": [
        ""
      ],
      "execution_count": null,
      "outputs": []
    },
    {
      "cell_type": "code",
      "metadata": {
        "colab": {
          "base_uri": "https://localhost:8080/",
          "height": 279
        },
        "id": "8Cw_wKLyGfyV",
        "outputId": "aca0375e-5b0f-4343-a609-fc123f8f6a61"
      },
      "source": [
        "surv1.iloc[:, :1].plot(drawstyle='steps-post')\n",
        "plt.ylabel('S(t | x)')\n",
        "_ = plt.xlabel('Time')"
      ],
      "execution_count": 28,
      "outputs": [
        {
          "output_type": "display_data",
          "data": {
            "image/png": "[encoded data removed]",
            "text/plain": [
              "<Figure size 432x288 with 1 Axes>"
            ]
          },
          "metadata": {
            "tags": [],
            "needs_background": "light"
          }
        }
      ]
    },
    {
      "cell_type": "code",
      "metadata": {
        "colab": {
          "base_uri": "https://localhost:8080/",
          "height": 279
        },
        "id": "Vx0vJg6jI00m",
        "outputId": "5415139c-3ca4-4581-897a-b068a925a45b"
      },
      "source": [
        "surv2.iloc[:, :1].plot(drawstyle='steps-post')\n",
        "plt.ylabel('S(t | x)')\n",
        "_ = plt.xlabel('Time')"
      ],
      "execution_count": 29,
      "outputs": [
        {
          "output_type": "display_data",
          "data": {
            "image/png": "[encoded data removed]",
            "text/plain": [
              "<Figure size 432x288 with 1 Axes>"
            ]
          },
          "metadata": {
            "tags": [],
            "needs_background": "light"
          }
        }
      ]
    },
    {
      "cell_type": "code",
      "metadata": {
        "colab": {
          "base_uri": "https://localhost:8080/"
        },
        "id": "hHQqTbu6I40v",
        "outputId": "7400660f-98e5-4a71-f6fe-904caeb1b05c"
      },
      "source": [
        "model.predict(x_test1[:2])"
      ],
      "execution_count": 30,
      "outputs": [
        {
          "output_type": "execute_result",
          "data": {
            "text/plain": [
              "array([[-5.64119   , -1.532651  , -1.5031195 , -1.0528468 , -0.39590964,\n",
              "        -0.8904455 , -0.28077158, -7.0450974 , -6.4705734 , -5.681347  ],\n",
              "       [-5.64119   , -1.532651  , -1.5031195 , -1.0528468 , -0.39590964,\n",
              "        -0.8904455 , -0.28077158, -7.0450974 , -6.4705734 , -5.681347  ]],\n",
              "      dtype=float32)"
            ]
          },
          "metadata": {
            "tags": []
          },
          "execution_count": 30
        }
      ]
    },
    {
      "cell_type": "code",
      "metadata": {
        "colab": {
          "base_uri": "https://localhost:8080/"
        },
        "id": "d6xdUTTJJRBf",
        "outputId": "eb47033f-8e5d-4cf7-987a-60fa40c29da3"
      },
      "source": [
        "model.predict_net(x_test1[:1])"
      ],
      "execution_count": 45,
      "outputs": [
        {
          "output_type": "execute_result",
          "data": {
            "text/plain": [
              "(array([[-5.6411896 , -1.532651  , -1.5031195 , -1.0528468 , -0.39590967,\n",
              "         -0.8904455 , -0.28077158, -7.045097  , -6.4705734 , -5.681347  ]],\n",
              "       dtype=float32),\n",
              " array([[ 7.51444604e-04,  1.16283717e-02, -1.55509943e-02,\n",
              "          1.18611082e-02,  8.74233712e-03,  7.37010129e-03,\n",
              "         -1.68504789e-02,  4.83422447e-03, -1.09395920e-03,\n",
              "          1.00522032e-02, -3.12661566e-02,  7.28492904e-03,\n",
              "          1.74768120e-02, -1.57339573e-02, -8.38837307e-03,\n",
              "          2.63357200e-02,  2.17192387e-03,  1.33196227e-02,\n",
              "         -8.57301801e-03,  3.19602378e-02, -1.16889216e-02,\n",
              "          3.59406881e-03, -1.62226371e-02, -9.36655793e-03,\n",
              "         -1.45846643e-02,  1.26127992e-02,  1.30299740e-02,\n",
              "         -2.23490316e-03,  3.87337198e-03, -1.67614059e-03,\n",
              "         -8.70321691e-03,  3.98859335e-03, -2.00624987e-02,\n",
              "         -8.32182914e-03,  4.51640645e-03, -3.14249331e-03,\n",
              "         -1.32361539e-02, -4.00260463e-03,  6.19061012e-03,\n",
              "         -1.25289597e-02, -8.94838013e-05,  1.90200731e-02,\n",
              "         -5.45030367e-03, -1.20436363e-02, -1.75585598e-02,\n",
              "         -1.17944775e-03,  1.78892841e-03, -1.34241243e-04,\n",
              "          1.04441810e-02, -1.79145839e-02, -3.53981042e-04,\n",
              "         -1.61156170e-02,  9.26591828e-03, -1.11510162e-03,\n",
              "         -8.57157446e-03,  5.94889699e-03,  1.08469101e-02,\n",
              "         -5.03702369e-03, -4.74070664e-03, -1.64345074e-02,\n",
              "          1.10130273e-02,  1.57041308e-02,  1.69598069e-02,\n",
              "          8.89874436e-03, -1.57830939e-02, -1.32076191e-02,\n",
              "          3.90004925e-02,  7.02261925e-03, -8.92324373e-03,\n",
              "         -2.71048723e-03,  5.56858629e-03, -2.12969054e-02,\n",
              "         -3.30152884e-02, -2.09406973e-03,  7.31124450e-03,\n",
              "         -2.05680244e-02,  1.84939429e-02,  5.16887009e-03,\n",
              "         -6.73055532e-04, -8.01200792e-03,  2.49364339e-02,\n",
              "          7.16276653e-03, -1.59570680e-03, -2.74070830e-04,\n",
              "          1.01226829e-02, -3.40672163e-03, -9.53772292e-03,\n",
              "         -2.27129906e-02,  1.67922005e-02,  1.11639770e-02,\n",
              "         -7.72670936e-03, -8.10379907e-03,  6.34993892e-03,\n",
              "         -1.68335754e-02,  8.78538098e-03,  1.32093411e-02,\n",
              "          1.67923458e-02, -1.09483264e-02, -4.54621948e-03,\n",
              "          8.78523663e-03, -2.39538942e-02, -1.31683750e-03,\n",
              "          6.92577520e-03, -1.38850883e-02, -1.18527599e-02,\n",
              "          2.82478402e-03, -3.24617699e-02, -1.25850905e-02,\n",
              "          1.71921775e-02, -4.21972573e-03,  6.10811729e-03,\n",
              "          1.84405688e-02,  1.04056252e-02,  9.10722930e-03,\n",
              "         -6.01013657e-03,  3.46588576e-03, -8.79001245e-03,\n",
              "         -1.43949836e-02,  1.22173671e-02,  1.61028770e-03,\n",
              "          1.86043605e-03, -2.36383583e-02, -8.74928292e-03,\n",
              "          7.81928003e-03, -2.66099256e-02, -3.13729804e-04,\n",
              "         -7.41185481e-03,  1.39903883e-03, -1.68967880e-02,\n",
              "         -1.04820002e-02, -3.72424349e-03, -1.15324659e-02,\n",
              "          7.19817774e-03, -1.31972022e-02,  1.51659409e-02,\n",
              "         -1.44255999e-02, -7.62833469e-03, -3.80116631e-03,\n",
              "         -1.42650902e-02, -2.66293548e-02,  1.22137954e-02,\n",
              "          1.41793368e-02,  7.89146591e-03,  1.32687585e-02,\n",
              "          5.21173840e-03, -1.09881340e-02, -1.86565146e-02,\n",
              "         -1.07020757e-03, -1.63210928e-02, -1.52412513e-02,\n",
              "         -7.82550313e-03,  3.17243673e-03,  6.11320790e-03,\n",
              "          1.57441739e-02, -1.19718499e-02,  7.64779048e-03,\n",
              "         -3.74020822e-03, -3.27634253e-02,  1.37315774e-02,\n",
              "         -2.21104641e-02,  6.73015835e-03,  2.79805288e-02,\n",
              "          1.91598348e-02,  1.25812087e-02, -1.09976539e-02,\n",
              "          2.64959084e-03,  4.45414241e-03, -1.40852407e-02,\n",
              "         -9.63081140e-03, -6.04456896e-03,  2.13592569e-03,\n",
              "          1.52855255e-02, -2.38469299e-02,  1.20153856e-02,\n",
              "          2.21395995e-02,  7.51891360e-03, -2.31946185e-02,\n",
              "         -3.24611366e-02, -1.92268621e-02,  8.60032812e-03,\n",
              "         -5.33938827e-03, -5.76050906e-03,  3.54055129e-03,\n",
              "          3.77637590e-03,  2.56583132e-02,  3.49158794e-03,\n",
              "         -1.50062721e-02, -3.16631608e-03,  3.58461635e-03,\n",
              "          4.96816309e-03, -1.76816946e-04, -3.91812623e-03,\n",
              "         -1.54317645e-02,  1.80710275e-02,  9.25770029e-03,\n",
              "         -2.53433995e-02,  1.38410889e-02, -1.22674992e-02,\n",
              "         -2.89465790e-03, -1.23987813e-03,  2.22994592e-02,\n",
              "          1.30053405e-02, -8.21779948e-03,  4.50652838e-03,\n",
              "          6.92179007e-03, -1.75918248e-02,  3.56699573e-03,\n",
              "         -2.33918298e-02,  3.18711810e-03, -1.89502386e-03,\n",
              "         -7.83615652e-03, -3.23755434e-04,  7.27345096e-03,\n",
              "         -1.29030254e-02,  3.58189922e-03,  1.20170480e-02,\n",
              "          1.17982272e-02,  1.78012494e-02,  9.76747251e-04,\n",
              "         -4.30470146e-03, -9.83517338e-03, -1.05998907e-02,\n",
              "          9.89196636e-03,  2.60405689e-02, -5.70341945e-03,\n",
              "          1.10476557e-03, -2.13911813e-02, -7.12401420e-03,\n",
              "         -1.27078854e-02,  2.66975374e-03,  3.64063913e-03,\n",
              "          7.19312252e-03,  5.46525279e-03, -2.38017971e-03,\n",
              "          1.41369132e-02, -3.15702260e-02, -1.06368251e-02,\n",
              "          1.11436825e-02, -1.25508867e-02, -1.89317390e-02,\n",
              "         -6.11391105e-03, -1.21094771e-02,  1.79615170e-02,\n",
              "          2.14400701e-02,  3.61146964e-03,  6.20016642e-03,\n",
              "          9.96538252e-03, -2.28523239e-02, -1.33991987e-03,\n",
              "         -9.58693400e-03, -1.66068971e-02,  4.89807548e-03,\n",
              "          3.56383296e-03, -9.16212215e-04,  1.77384645e-03,\n",
              "         -2.92559271e-03, -5.62832458e-03,  1.26872864e-02,\n",
              "          2.02280516e-03, -1.52857825e-02, -9.51408409e-03,\n",
              "         -2.26270910e-02,  1.59633439e-03,  2.96369893e-03,\n",
              "         -1.89723223e-02, -2.22799946e-02, -3.50746652e-03,\n",
              "          3.12227057e-03,  1.44091225e-03,  3.14864218e-02,\n",
              "         -2.58736406e-03, -1.65200271e-02, -5.59607614e-03,\n",
              "         -5.51355677e-03,  8.03159643e-03, -1.10748187e-02,\n",
              "         -3.90045810e-04, -7.55926035e-03, -5.83472941e-03,\n",
              "         -1.18518807e-02,  6.30395534e-03, -5.00908587e-03,\n",
              "          1.85892116e-02, -1.97114274e-02, -1.71679966e-02,\n",
              "         -1.64094139e-02,  2.06982903e-02, -6.17498439e-03,\n",
              "         -2.82450556e-03, -1.86780971e-02,  1.99228972e-02,\n",
              "          1.06961252e-02,  9.91085172e-03, -2.73809116e-02,\n",
              "          1.81482621e-02,  4.24872432e-03, -1.71729699e-02,\n",
              "         -5.39244851e-03, -2.06269277e-03,  1.01463376e-02,\n",
              "         -1.73944002e-03,  1.33709759e-02, -5.94047480e-04,\n",
              "         -5.74754085e-03, -1.01597630e-03, -1.18228961e-02,\n",
              "          1.04124118e-02,  8.06608144e-03,  9.14210081e-03,\n",
              "         -1.81691255e-02, -1.58707853e-02, -3.82477324e-03,\n",
              "         -3.77532607e-03,  2.25121155e-03,  1.00104529e-02,\n",
              "         -8.41929205e-03,  1.20245712e-02,  1.39498916e-02,\n",
              "          2.06380035e-04, -1.60537176e-02, -5.70323551e-04,\n",
              "         -1.50204273e-02,  1.96436048e-02,  1.02276728e-03,\n",
              "          7.99164735e-03,  5.41656418e-03,  1.37762129e-02,\n",
              "         -1.02896960e-02,  5.00041060e-03, -2.54806224e-03,\n",
              "          9.96572897e-03, -1.71711426e-02, -4.92485613e-03,\n",
              "         -1.24356328e-02, -5.37506305e-03, -7.35649141e-04,\n",
              "         -8.15961568e-04, -8.82010162e-03,  1.75014511e-02,\n",
              "         -2.48588827e-02, -1.26340576e-02,  8.91661737e-04,\n",
              "         -1.99448764e-02,  3.33915139e-03,  1.81681123e-02,\n",
              "         -2.61125620e-03, -1.51728494e-02, -1.48093225e-02,\n",
              "         -1.30957570e-02,  2.12801993e-02, -6.69306982e-03,\n",
              "         -2.44187526e-02, -2.29037311e-02, -1.53001612e-02,\n",
              "          9.76046734e-03, -7.24856835e-03, -1.64185502e-02,\n",
              "          1.49650667e-02,  4.28373553e-03,  1.65576115e-02,\n",
              "          1.89888058e-03,  1.26586715e-03, -1.14289764e-02,\n",
              "         -8.51799734e-03, -4.33667516e-03, -4.96496260e-03,\n",
              "          5.73760923e-03, -6.71410374e-03, -1.57650020e-02,\n",
              "         -8.90985318e-03,  1.98712815e-02, -6.80967513e-03,\n",
              "          1.39400968e-02, -1.48377363e-02, -1.15295860e-03,\n",
              "          1.42633822e-02, -2.79436028e-03, -6.56651892e-03,\n",
              "          1.62512902e-02,  1.68275218e-02,  3.14882211e-03,\n",
              "         -1.47333415e-03,  8.06182902e-03, -6.96839578e-03,\n",
              "         -1.66587420e-02, -1.36495987e-03,  5.52226976e-03,\n",
              "          1.29729481e-02, -9.64019820e-03,  4.91653383e-03,\n",
              "          4.11322434e-03, -1.14070298e-02,  1.34821897e-02,\n",
              "         -3.54012358e-04,  1.41886715e-02,  2.03312933e-02,\n",
              "         -5.23742475e-03, -3.35478294e-03, -1.36646349e-02,\n",
              "         -1.20097389e-02, -2.54732482e-02,  5.35995094e-03,\n",
              "          8.57640803e-03, -2.46401839e-02, -1.19815851e-02,\n",
              "          1.60861332e-02,  8.34290520e-04,  3.69212567e-03,\n",
              "         -4.68946621e-03]], dtype=float32))"
            ]
          },
          "metadata": {
            "tags": []
          },
          "execution_count": 45
        }
      ]
    },
    {
      "cell_type": "code",
      "metadata": {
        "id": "7qyv1y06JT9A"
      },
      "source": [
        "evs1 = EvalSurv(surv1, durations_test1, events_test1, censor_surv='km')\n",
        "evs2 = EvalSurv(surv2, durations_test2, events_test2, censor_surv='km')"
      ],
      "execution_count": 46,
      "outputs": []
    },
    {
      "cell_type": "code",
      "metadata": {
        "colab": {
          "base_uri": "https://localhost:8080/"
        },
        "id": "0ir3-cHkKNkw",
        "outputId": "7089a02e-7fea-4489-f6e5-b9dca40c3e52"
      },
      "source": [
        "evs1.concordance_td()"
      ],
      "execution_count": 47,
      "outputs": [
        {
          "output_type": "execute_result",
          "data": {
            "text/plain": [
              "0.5"
            ]
          },
          "metadata": {
            "tags": []
          },
          "execution_count": 47
        }
      ]
    },
    {
      "cell_type": "code",
      "metadata": {
        "colab": {
          "base_uri": "https://localhost:8080/"
        },
        "id": "unihuW8uKZAy",
        "outputId": "05824b90-a883-4f12-fae5-c08187c3790b"
      },
      "source": [
        "evs2.concordance_td()"
      ],
      "execution_count": 48,
      "outputs": [
        {
          "output_type": "execute_result",
          "data": {
            "text/plain": [
              "0.508686210640608"
            ]
          },
          "metadata": {
            "tags": []
          },
          "execution_count": 48
        }
      ]
    },
    {
      "cell_type": "code",
      "metadata": {
        "colab": {
          "base_uri": "https://localhost:8080/",
          "height": 280
        },
        "id": "Bq4rWjmxKcPY",
        "outputId": "86321e70-bae8-44b5-b091-8a0271fa579d"
      },
      "source": [
        "time_grid = np.linspace(durations_test1.min(), durations_test1.max(), 100)\n",
        "evs1.brier_score(time_grid).plot()\n",
        "plt.ylabel('Brier score')\n",
        "_ = plt.xlabel('Time')"
      ],
      "execution_count": 49,
      "outputs": [
        {
          "output_type": "display_data",
          "data": {
            "image/png": "[encoded data removed]",
            "text/plain": [
              "<Figure size 432x288 with 1 Axes>"
            ]
          },
          "metadata": {
            "tags": [],
            "needs_background": "light"
          }
        }
      ]
    },
    {
      "cell_type": "code",
      "metadata": {
        "colab": {
          "base_uri": "https://localhost:8080/",
          "height": 279
        },
        "id": "gss2XVJwKhUg",
        "outputId": "c0d2c533-6c70-4087-e782-c335959ca234"
      },
      "source": [
        "time_grid = np.linspace(durations_test2.min(), durations_test2.max(), 100)\n",
        "evs2.brier_score(time_grid).plot()\n",
        "plt.ylabel('Brier score')\n",
        "_ = plt.xlabel('Time')"
      ],
      "execution_count": 50,
      "outputs": [
        {
          "output_type": "display_data",
          "data": {
            "image/png": "[encoded data removed]",
            "text/plain": [
              "<Figure size 432x288 with 1 Axes>"
            ]
          },
          "metadata": {
            "tags": [],
            "needs_background": "light"
          }
        }
      ]
    },
    {
      "cell_type": "code",
      "metadata": {
        "colab": {
          "base_uri": "https://localhost:8080/",
          "height": 279
        },
        "id": "simS0Kq0KnCI",
        "outputId": "cd21a55d-1ff1-4199-d49c-071aacb3481d"
      },
      "source": [
        "evs1.nbll(time_grid).plot()\n",
        "plt.ylabel('NBLL')\n",
        "_ = plt.xlabel('Time')"
      ],
      "execution_count": 51,
      "outputs": [
        {
          "output_type": "display_data",
          "data": {
            "image/png": "[encoded data removed]",
            "text/plain": [
              "<Figure size 432x288 with 1 Axes>"
            ]
          },
          "metadata": {
            "tags": [],
            "needs_background": "light"
          }
        }
      ]
    },
    {
      "cell_type": "code",
      "metadata": {
        "colab": {
          "base_uri": "https://localhost:8080/",
          "height": 279
        },
        "id": "hRxpMNujKrjR",
        "outputId": "4154a4b9-e948-45a9-814a-d65f6dd592ee"
      },
      "source": [
        "evs2.nbll(time_grid).plot()\n",
        "plt.ylabel('NBLL')\n",
        "_ = plt.xlabel('Time')"
      ],
      "execution_count": 52,
      "outputs": [
        {
          "output_type": "display_data",
          "data": {
            "image/png": "[encoded data removed]",
            "text/plain": [
              "<Figure size 432x288 with 1 Axes>"
            ]
          },
          "metadata": {
            "tags": [],
            "needs_background": "light"
          }
        }
      ]
    },
    {
      "cell_type": "code",
      "metadata": {
        "colab": {
          "base_uri": "https://localhost:8080/"
        },
        "id": "bTCz2jvUKtcu",
        "outputId": "b0fabb4a-c979-4036-8997-6b0cac59b194"
      },
      "source": [
        "evs1.integrated_brier_score(time_grid)"
      ],
      "execution_count": 53,
      "outputs": [
        {
          "output_type": "execute_result",
          "data": {
            "text/plain": [
              "0.23266189374059273"
            ]
          },
          "metadata": {
            "tags": []
          },
          "execution_count": 53
        }
      ]
    },
    {
      "cell_type": "code",
      "metadata": {
        "colab": {
          "base_uri": "https://localhost:8080/"
        },
        "id": "7O5MtBC8KwRI",
        "outputId": "4b7cbc55-9a8e-43fe-ee56-19a07c0657b0"
      },
      "source": [
        "evs1.integrated_nbll(time_grid)"
      ],
      "execution_count": 54,
      "outputs": [
        {
          "output_type": "execute_result",
          "data": {
            "text/plain": [
              "0.6736338200650821"
            ]
          },
          "metadata": {
            "tags": []
          },
          "execution_count": 54
        }
      ]
    },
    {
      "cell_type": "code",
      "metadata": {
        "colab": {
          "base_uri": "https://localhost:8080/"
        },
        "id": "21vHBAWQKy69",
        "outputId": "a9bc1aa4-c908-46a2-b09b-a89c1ca37aa5"
      },
      "source": [
        "evs2.integrated_brier_score(time_grid)"
      ],
      "execution_count": 55,
      "outputs": [
        {
          "output_type": "execute_result",
          "data": {
            "text/plain": [
              "0.19932280323897467"
            ]
          },
          "metadata": {
            "tags": []
          },
          "execution_count": 55
        }
      ]
    },
    {
      "cell_type": "code",
      "metadata": {
        "colab": {
          "base_uri": "https://localhost:8080/"
        },
        "id": "TsbUNvU0K1eh",
        "outputId": "7d07f7fa-13ac-4af1-b581-ccc4b907e058"
      },
      "source": [
        "evs2.integrated_nbll(time_grid)"
      ],
      "execution_count": 56,
      "outputs": [
        {
          "output_type": "execute_result",
          "data": {
            "text/plain": [
              "0.5894982134535622"
            ]
          },
          "metadata": {
            "tags": []
          },
          "execution_count": 56
        }
      ]
    },
    {
      "cell_type": "code",
      "metadata": {
        "id": "oJCs7oRSp1k6"
      },
      "source": [
        ""
      ],
      "execution_count": 56,
      "outputs": []
    }
  ]
}