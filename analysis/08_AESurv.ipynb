{
  "nbformat": 4,
  "nbformat_minor": 0,
  "metadata": {
    "colab": {
      "name": "08-AESurv.ipynb",
      "provenance": [],
      "collapsed_sections": [],
      "authorship_tag": "ABX9TyO1Ki47YHEl+7FyW96pPetm",
      "include_colab_link": true
    },
    "kernelspec": {
      "name": "python3",
      "display_name": "Python 3"
    }
  },
  "cells": [
    {
      "cell_type": "markdown",
      "metadata": {
        "id": "view-in-github",
        "colab_type": "text"
      },
      "source": [
        "<a href=\"https://colab.research.google.com/github/chunjie-sam-liu/TEP-prognosis/blob/main/analysis/08_AESurv.ipynb\" target=\"_parent\"><img src=\"https://colab.research.google.com/assets/colab-badge.svg\" alt=\"Open In Colab\"/></a>"
      ]
    },
    {
      "cell_type": "code",
      "metadata": {
        "colab": {
          "base_uri": "https://localhost:8080/"
        },
        "id": "3eHaHjGj_8aw",
        "outputId": "02489dd1-d475-4625-a211-2bf37a3f04c9"
      },
      "source": [
        "! pip install torchtuples"
      ],
      "execution_count": 2,
      "outputs": [
        {
          "output_type": "stream",
          "text": [
            "Collecting torchtuples\n",
            "\u001b[?25l  Downloading https://files.pythonhosted.org/packages/95/70/93eb42c0a46ef94b3885b8e5611a8019d00522a9ab7343d4ca25033afd44/torchtuples-0.2.0-py3-none-any.whl (41kB)\n",
            "\u001b[K     |████████████████████████████████| 51kB 3.6MB/s \n",
            "\u001b[?25hRequirement already satisfied: pandas>=0.24.2 in /usr/local/lib/python3.6/dist-packages (from torchtuples) (1.1.5)\n",
            "Requirement already satisfied: numpy>=1.15.4 in /usr/local/lib/python3.6/dist-packages (from torchtuples) (1.19.5)\n",
            "Requirement already satisfied: matplotlib>=3.0.3 in /usr/local/lib/python3.6/dist-packages (from torchtuples) (3.2.2)\n",
            "Requirement already satisfied: pytz>=2017.2 in /usr/local/lib/python3.6/dist-packages (from pandas>=0.24.2->torchtuples) (2018.9)\n",
            "Requirement already satisfied: python-dateutil>=2.7.3 in /usr/local/lib/python3.6/dist-packages (from pandas>=0.24.2->torchtuples) (2.8.1)\n",
            "Requirement already satisfied: cycler>=0.10 in /usr/local/lib/python3.6/dist-packages (from matplotlib>=3.0.3->torchtuples) (0.10.0)\n",
            "Requirement already satisfied: kiwisolver>=1.0.1 in /usr/local/lib/python3.6/dist-packages (from matplotlib>=3.0.3->torchtuples) (1.3.1)\n",
            "Requirement already satisfied: pyparsing!=2.0.4,!=2.1.2,!=2.1.6,>=2.0.1 in /usr/local/lib/python3.6/dist-packages (from matplotlib>=3.0.3->torchtuples) (2.4.7)\n",
            "Requirement already satisfied: six>=1.5 in /usr/local/lib/python3.6/dist-packages (from python-dateutil>=2.7.3->pandas>=0.24.2->torchtuples) (1.15.0)\n",
            "Installing collected packages: torchtuples\n",
            "Successfully installed torchtuples-0.2.0\n"
          ],
          "name": "stdout"
        }
      ]
    },
    {
      "cell_type": "code",
      "metadata": {
        "colab": {
          "base_uri": "https://localhost:8080/"
        },
        "id": "WqR92inbAO_i",
        "outputId": "5d27794b-a4dd-4bd1-f0b4-6ed743e39da4"
      },
      "source": [
        "! pip install pycox"
      ],
      "execution_count": 4,
      "outputs": [
        {
          "output_type": "stream",
          "text": [
            "Collecting pycox\n",
            "\u001b[?25l  Downloading https://files.pythonhosted.org/packages/33/33/8166da2d22ff30305aa0c10e0c6124ef5d3b60b5b0418387bb805bd6b751/pycox-0.2.1-py3-none-any.whl (73kB)\n",
            "\r\u001b[K     |████▌                           | 10kB 11.4MB/s eta 0:00:01\r\u001b[K     |█████████                       | 20kB 17.3MB/s eta 0:00:01\r\u001b[K     |█████████████▍                  | 30kB 19.4MB/s eta 0:00:01\r\u001b[K     |█████████████████▉              | 40kB 16.7MB/s eta 0:00:01\r\u001b[K     |██████████████████████▎         | 51kB 15.1MB/s eta 0:00:01\r\u001b[K     |██████████████████████████▊     | 61kB 14.7MB/s eta 0:00:01\r\u001b[K     |███████████████████████████████▏| 71kB 8.7MB/s eta 0:00:01\r\u001b[K     |████████████████████████████████| 81kB 3.9MB/s \n",
            "\u001b[?25hRequirement already satisfied: numba>=0.44 in /usr/local/lib/python3.6/dist-packages (from pycox) (0.48.0)\n",
            "Requirement already satisfied: h5py>=2.9.0 in /usr/local/lib/python3.6/dist-packages (from pycox) (2.10.0)\n",
            "Requirement already satisfied: torchtuples>=0.2.0 in /usr/local/lib/python3.6/dist-packages (from pycox) (0.2.0)\n",
            "Requirement already satisfied: requests>=2.22.0 in /usr/local/lib/python3.6/dist-packages (from pycox) (2.23.0)\n",
            "Requirement already satisfied: scikit-learn>=0.21.2 in /usr/local/lib/python3.6/dist-packages (from pycox) (0.22.2.post1)\n",
            "Requirement already satisfied: feather-format>=0.4.0 in /usr/local/lib/python3.6/dist-packages (from pycox) (0.4.1)\n",
            "Requirement already satisfied: numpy>=1.15 in /usr/local/lib/python3.6/dist-packages (from numba>=0.44->pycox) (1.19.5)\n",
            "Requirement already satisfied: llvmlite<0.32.0,>=0.31.0dev0 in /usr/local/lib/python3.6/dist-packages (from numba>=0.44->pycox) (0.31.0)\n",
            "Requirement already satisfied: setuptools in /usr/local/lib/python3.6/dist-packages (from numba>=0.44->pycox) (51.1.1)\n",
            "Requirement already satisfied: six in /usr/local/lib/python3.6/dist-packages (from h5py>=2.9.0->pycox) (1.15.0)\n",
            "Requirement already satisfied: matplotlib>=3.0.3 in /usr/local/lib/python3.6/dist-packages (from torchtuples>=0.2.0->pycox) (3.2.2)\n",
            "Requirement already satisfied: pandas>=0.24.2 in /usr/local/lib/python3.6/dist-packages (from torchtuples>=0.2.0->pycox) (1.1.5)\n",
            "Requirement already satisfied: idna<3,>=2.5 in /usr/local/lib/python3.6/dist-packages (from requests>=2.22.0->pycox) (2.10)\n",
            "Requirement already satisfied: chardet<4,>=3.0.2 in /usr/local/lib/python3.6/dist-packages (from requests>=2.22.0->pycox) (3.0.4)\n",
            "Requirement already satisfied: certifi>=2017.4.17 in /usr/local/lib/python3.6/dist-packages (from requests>=2.22.0->pycox) (2020.12.5)\n",
            "Requirement already satisfied: urllib3!=1.25.0,!=1.25.1,<1.26,>=1.21.1 in /usr/local/lib/python3.6/dist-packages (from requests>=2.22.0->pycox) (1.24.3)\n",
            "Requirement already satisfied: scipy>=0.17.0 in /usr/local/lib/python3.6/dist-packages (from scikit-learn>=0.21.2->pycox) (1.4.1)\n",
            "Requirement already satisfied: joblib>=0.11 in /usr/local/lib/python3.6/dist-packages (from scikit-learn>=0.21.2->pycox) (1.0.0)\n",
            "Requirement already satisfied: pyarrow>=0.4.0 in /usr/local/lib/python3.6/dist-packages (from feather-format>=0.4.0->pycox) (0.14.1)\n",
            "Requirement already satisfied: cycler>=0.10 in /usr/local/lib/python3.6/dist-packages (from matplotlib>=3.0.3->torchtuples>=0.2.0->pycox) (0.10.0)\n",
            "Requirement already satisfied: python-dateutil>=2.1 in /usr/local/lib/python3.6/dist-packages (from matplotlib>=3.0.3->torchtuples>=0.2.0->pycox) (2.8.1)\n",
            "Requirement already satisfied: pyparsing!=2.0.4,!=2.1.2,!=2.1.6,>=2.0.1 in /usr/local/lib/python3.6/dist-packages (from matplotlib>=3.0.3->torchtuples>=0.2.0->pycox) (2.4.7)\n",
            "Requirement already satisfied: kiwisolver>=1.0.1 in /usr/local/lib/python3.6/dist-packages (from matplotlib>=3.0.3->torchtuples>=0.2.0->pycox) (1.3.1)\n",
            "Requirement already satisfied: pytz>=2017.2 in /usr/local/lib/python3.6/dist-packages (from pandas>=0.24.2->torchtuples>=0.2.0->pycox) (2018.9)\n",
            "Installing collected packages: pycox\n",
            "Successfully installed pycox-0.2.1\n"
          ],
          "name": "stdout"
        }
      ]
    },
    {
      "cell_type": "code",
      "metadata": {
        "id": "K8kS4rko_4zK"
      },
      "source": [
        "import numpy as np\n",
        "import feather\n",
        "import matplotlib.pyplot as plt\n",
        "\n",
        "# For preprocessing\n",
        "from sklearn.preprocessing import StandardScaler\n",
        "from sklearn_pandas import DataFrameMapper\n",
        "\n",
        "import torch\n",
        "from torch import nn\n",
        "import torch.nn.functional as F\n",
        "from torch.nn.modules.linear import Linear\n",
        "import torchtuples as tt\n",
        "\n",
        "from pycox.models import LogisticHazard\n",
        "from pycox.models.loss import NLLLogistiHazardLoss\n",
        "from pycox.evaluation import EvalSurv\n",
        "\n",
        "import os"
      ],
      "execution_count": 140,
      "outputs": []
    },
    {
      "cell_type": "code",
      "metadata": {
        "id": "FFyXnx_tAID4"
      },
      "source": [
        "# random\n",
        "np.random.seed(1234)\n",
        "_ = torch.manual_seed(1234)"
      ],
      "execution_count": 141,
      "outputs": []
    },
    {
      "cell_type": "code",
      "metadata": {
        "id": "8qFqbfHMAVkR"
      },
      "source": [
        "class NetAESurv(nn.Module):\n",
        "    def __init__(self, in_features, encoded_features, out_features):\n",
        "        super().__init__()\n",
        "\n",
        "        # Encoder\n",
        "        self.encoder = nn.Sequential(\n",
        "            nn.Linear(in_features, 2048),\n",
        "            nn.ReLU(),\n",
        "            nn.Linear(2048, 1024),\n",
        "            nn.ReLU(),\n",
        "            nn.Linear(1024, 512),\n",
        "            nn.ReLU(),\n",
        "            nn.Linear(512, 256),\n",
        "            nn.ReLU(),\n",
        "            nn.Linear(256, 128),\n",
        "            nn.ReLU(),\n",
        "            nn.Linear(128, encoded_features),\n",
        "        )\n",
        "\n",
        "        # Decoder\n",
        "        self.decoder = nn.Sequential(\n",
        "            nn.Linear(encoded_features, 128),\n",
        "            nn.ReLU(),\n",
        "            nn.Linear(128, 256),\n",
        "            nn.ReLU(),\n",
        "            nn.Linear(256, 512),\n",
        "            nn.ReLU(),\n",
        "            nn.Linear(512, 1024),\n",
        "            nn.ReLU(),\n",
        "            nn.Linear(1024, 2048),\n",
        "            nn.ReLU(),\n",
        "            nn.Linear(2048, in_features),\n",
        "        )\n",
        "\n",
        "        # Full connection\n",
        "        self.survnet = nn.Sequential(\n",
        "            nn.Linear(encoded_features, 64),\n",
        "            nn.ReLU(),\n",
        "            nn.Linear(64, 64),\n",
        "            nn.ReLU(),\n",
        "            nn.Linear(64, 64),\n",
        "            nn.ReLU(),\n",
        "            nn.Linear(64, out_features),\n",
        "        )\n",
        "\n",
        "    def forward(self, input):\n",
        "        encoded = self.encoder(input)\n",
        "        decoded = self.decoder(encoded)\n",
        "        phi = self.survnet(encoded)\n",
        "        return phi, decoded\n",
        "\n",
        "    def predict(self, input):\n",
        "        encoded = self.encoder(input)\n",
        "        return self.survnet(encoded)\n"
      ],
      "execution_count": 177,
      "outputs": []
    },
    {
      "cell_type": "code",
      "metadata": {
        "id": "jAYpU9O-AZta"
      },
      "source": [
        "class LossAELogHaz(nn.Module):\n",
        "    def __init__(self, alpha):\n",
        "        super().__init__()\n",
        "        assert (alpha >= 0) and (alpha <= 1), \"Need `alpha` in [0, 1].\"\n",
        "        self.alpha = alpha\n",
        "        self.loss_surv = NLLLogistiHazardLoss()\n",
        "        self.loss_ae = nn.MSELoss()\n",
        "\n",
        "    def forward(self, phi, decoded, target_loghaz, target_ae):\n",
        "        idx_durations, events = target_loghaz\n",
        "        loss_surv = self.loss_surv(phi, idx_durations, events)\n",
        "        loss_ae = self.loss_ae(decoded, target_ae)\n",
        "        return self.alpha * loss_surv + (1 - self.alpha) * loss_ae\n"
      ],
      "execution_count": 178,
      "outputs": []
    },
    {
      "cell_type": "code",
      "metadata": {
        "id": "GSwuwhfpAa-x"
      },
      "source": [
        "def load_data(filepath):\n",
        "    df = feather.read_dataframe(source=filepath)\n",
        "    df_train = df.loc[df.oc == \"OC521\"].drop(columns=[\"barcode\", \"oc\"], axis=1)\n",
        "    df_val = df.loc[df.oc == \"OC44\"].drop(columns=[\"barcode\", \"oc\"], axis=1)\n",
        "    df_test1 = df.loc[df.oc == \"OC79\"].drop(columns=[\"barcode\", \"oc\"], axis=1)\n",
        "    df_test2 = df.loc[df.oc == \"OC172\"].drop(columns=[\"barcode\", \"oc\"], axis=1)\n",
        "    return df_train, df_val, df_test1, df_test2\n",
        "\n",
        "\n",
        "def get_target(df):\n",
        "    return (df[\"duration\"].values, df[\"event\"].values)\n",
        "\n",
        "\n",
        "def transform_features(df_train, df_val, df_test1, df_test2):\n",
        "    columns = df_train.columns\n",
        "    columns = columns[: len(columns) - 2]\n",
        "    standardize = [([col], StandardScaler()) for col in columns]\n",
        "\n",
        "    x_mapper = DataFrameMapper(standardize)\n",
        "\n",
        "    x_train = x_mapper.fit_transform(df_train).astype(\"float32\")\n",
        "    x_val = x_mapper.transform(df_val).astype(\"float32\")\n",
        "    x_test1 = x_mapper.transform(df_test1).astype(\"float32\")\n",
        "    x_test2 = x_mapper.transform(df_test2).astype(\"float32\")\n",
        "\n",
        "    return x_train, x_val, x_test1, x_test2\n",
        "\n",
        "\n",
        "def transform_labels(df_train, df_val, nd=10):\n",
        "    num_durations = nd\n",
        "    labtrans = LogisticHazard.label_transform(num_durations)\n",
        "    y_train_surv = labtrans.fit_transform(*get_target(df_train))\n",
        "    y_val_surv = labtrans.transform(*get_target(df_val))\n",
        "\n",
        "    return y_train_surv, y_val_surv, labtrans\n"
      ],
      "execution_count": 179,
      "outputs": []
    },
    {
      "cell_type": "code",
      "metadata": {
        "colab": {
          "base_uri": "https://localhost:8080/"
        },
        "id": "CQROz4CWCBzz",
        "outputId": "49026aa8-5ac4-4e45-9eb0-819470b91d6d"
      },
      "source": [
        "from google.colab import drive\n",
        "drive.mount('/content/drive')"
      ],
      "execution_count": 180,
      "outputs": [
        {
          "output_type": "stream",
          "text": [
            "Drive already mounted at /content/drive; to attempt to forcibly remount, call drive.mount(\"/content/drive\", force_remount=True).\n"
          ],
          "name": "stdout"
        }
      ]
    },
    {
      "cell_type": "code",
      "metadata": {
        "id": "Rme6b6nFApwI"
      },
      "source": [
        "filepath=\"/content/drive/MyDrive/colab-data/total416.os.se.norm.feather\""
      ],
      "execution_count": 181,
      "outputs": []
    },
    {
      "cell_type": "code",
      "metadata": {
        "id": "ckeNJX8eAdiO"
      },
      "source": [
        "# load data\n",
        "df_train, df_val, df_test1, df_test2 = load_data(filepath)\n",
        "# transform features\n",
        "x_train, x_val, x_test1, x_test2 = transform_features(df_train, df_val, df_test1, df_test2)\n",
        "# transform labels\n",
        "y_train_surv, y_val_surv, labtrans = transform_labels(df_train, df_val)"
      ],
      "execution_count": 182,
      "outputs": []
    },
    {
      "cell_type": "code",
      "metadata": {
        "id": "gS2tDcGuAtXh"
      },
      "source": [
        "# make train and validation datasets with tuplefy\n",
        "train = tt.tuplefy(x_train, (y_train_surv, x_train))\n",
        "val = tt.tuplefy(x_val, (y_val_surv, x_val))"
      ],
      "execution_count": 148,
      "outputs": []
    },
    {
      "cell_type": "code",
      "metadata": {
        "id": "IHVKWaDUJuQ0"
      },
      "source": [
        "durations_test1, events_test1 = get_target(df_test1)\n",
        "durations_test2, events_test2 = get_target(df_test2)"
      ],
      "execution_count": 183,
      "outputs": []
    },
    {
      "cell_type": "code",
      "metadata": {
        "id": "_85i-DMuFQeN"
      },
      "source": [
        "# set arch\n",
        "in_features = x_train.shape[1]\n",
        "encoded_features = 64\n",
        "out_features = labtrans.out_features\n",
        "netaesurv = NetAESurv(in_features, encoded_features, out_features)"
      ],
      "execution_count": 150,
      "outputs": []
    },
    {
      "cell_type": "code",
      "metadata": {
        "colab": {
          "base_uri": "https://localhost:8080/"
        },
        "id": "0lBjpxthFVne",
        "outputId": "61cea7c5-bd09-4561-9f18-c358e38dde13"
      },
      "source": [
        "netaesurv"
      ],
      "execution_count": 151,
      "outputs": [
        {
          "output_type": "execute_result",
          "data": {
            "text/plain": [
              "NetAESurv(\n",
              "  (encoder): Sequential(\n",
              "    (0): Linear(in_features=6636, out_features=2048, bias=True)\n",
              "    (1): ReLU()\n",
              "    (2): Linear(in_features=2048, out_features=1024, bias=True)\n",
              "    (3): ReLU()\n",
              "    (4): Linear(in_features=1024, out_features=512, bias=True)\n",
              "    (5): ReLU()\n",
              "    (6): Linear(in_features=512, out_features=256, bias=True)\n",
              "    (7): ReLU()\n",
              "    (8): Linear(in_features=256, out_features=128, bias=True)\n",
              "    (9): ReLU()\n",
              "    (10): Linear(in_features=128, out_features=64, bias=True)\n",
              "  )\n",
              "  (decoder): Sequential(\n",
              "    (0): Linear(in_features=64, out_features=128, bias=True)\n",
              "    (1): ReLU()\n",
              "    (2): Linear(in_features=128, out_features=256, bias=True)\n",
              "    (3): ReLU()\n",
              "    (4): Linear(in_features=256, out_features=512, bias=True)\n",
              "    (5): ReLU()\n",
              "    (6): Linear(in_features=512, out_features=1024, bias=True)\n",
              "    (7): ReLU()\n",
              "    (8): Linear(in_features=1024, out_features=2048, bias=True)\n",
              "    (9): ReLU()\n",
              "    (10): Linear(in_features=2048, out_features=6636, bias=True)\n",
              "  )\n",
              "  (survnet): Sequential(\n",
              "    (0): Linear(in_features=64, out_features=32, bias=True)\n",
              "    (1): ReLU()\n",
              "    (2): Linear(in_features=32, out_features=32, bias=True)\n",
              "    (3): ReLU()\n",
              "    (4): Linear(in_features=32, out_features=32, bias=True)\n",
              "    (5): ReLU()\n",
              "    (6): Linear(in_features=32, out_features=10, bias=True)\n",
              "  )\n",
              ")"
            ]
          },
          "metadata": {
            "tags": []
          },
          "execution_count": 151
        }
      ]
    },
    {
      "cell_type": "code",
      "metadata": {
        "id": "xmW0eWTUFW_l"
      },
      "source": [
        "# loss\n",
        "loss = LossAELogHaz(0.6)"
      ],
      "execution_count": 152,
      "outputs": []
    },
    {
      "cell_type": "code",
      "metadata": {
        "colab": {
          "base_uri": "https://localhost:8080/"
        },
        "id": "GztAp5qfFkqG",
        "outputId": "6863e523-39ce-4f05-cc5c-b3914bd973e2"
      },
      "source": [
        "loss"
      ],
      "execution_count": 153,
      "outputs": [
        {
          "output_type": "execute_result",
          "data": {
            "text/plain": [
              "LossAELogHaz(\n",
              "  (loss_surv): NLLLogistiHazardLoss()\n",
              "  (loss_ae): MSELoss()\n",
              ")"
            ]
          },
          "metadata": {
            "tags": []
          },
          "execution_count": 153
        }
      ]
    },
    {
      "cell_type": "code",
      "metadata": {
        "id": "FKVSa6u-Flut"
      },
      "source": [
        "# model\n",
        "model = LogisticHazard(net=netaesurv, optimizer=tt.optim.Adam(0.01), duration_index=labtrans.cuts, loss=loss)"
      ],
      "execution_count": 154,
      "outputs": []
    },
    {
      "cell_type": "code",
      "metadata": {
        "colab": {
          "base_uri": "https://localhost:8080/"
        },
        "id": "CHTHX5wNFocW",
        "outputId": "2ec3b955-8202-479c-cdfc-fa133c6e8366"
      },
      "source": [
        "# metrics\n",
        "metrics = dict(loss_surv=LossAELogHaz(1), loss_ae=LossAELogHaz(0))\n",
        "\n",
        "# callbacks\n",
        "callbacks = [tt.cb.EarlyStopping()]\n",
        "\n",
        "# cycling\n",
        "batch_size = 5\n",
        "epochs = 100\n",
        "\n",
        "# trainning model\n",
        "log = model.fit(\n",
        "    *train, batch_size=batch_size, epochs=epochs,  verbose=True, val_data=val, metrics=metrics\n",
        ")"
      ],
      "execution_count": 155,
      "outputs": [
        {
          "output_type": "stream",
          "text": [
            "0:\t[16s / 16s],\t\ttrain_loss: 573.2497,\ttrain_loss_surv: 1.8015,\ttrain_loss_ae: 1430.4218,\tval_loss: 7.1463,\tval_loss_surv: 1.3452,\tval_loss_ae: 15.8479\n",
            "1:\t[16s / 32s],\t\ttrain_loss: 2642.8179,\ttrain_loss_surv: 1.6270,\ttrain_loss_ae: 6604.6042,\tval_loss: 6.2521,\tval_loss_surv: 1.5007,\tval_loss_ae: 13.3791\n",
            "2:\t[15s / 48s],\t\ttrain_loss: 641.7760,\ttrain_loss_surv: 1.2357,\ttrain_loss_ae: 1602.5864,\tval_loss: 1.0608,\tval_loss_surv: 1.1732,\tval_loss_ae: 0.8920\n",
            "3:\t[16s / 1m:4s],\t\ttrain_loss: 1.0375,\ttrain_loss_surv: 1.0464,\ttrain_loss_ae: 1.0241,\tval_loss: 1.0830,\tval_loss_surv: 1.2350,\tval_loss_ae: 0.8550\n",
            "4:\t[16s / 1m:20s],\t\ttrain_loss: 1.0343,\ttrain_loss_surv: 1.0504,\ttrain_loss_ae: 1.0101,\tval_loss: 1.0883,\tval_loss_surv: 1.2476,\tval_loss_ae: 0.8493\n",
            "5:\t[16s / 1m:36s],\t\ttrain_loss: 1.0293,\ttrain_loss_surv: 1.0496,\ttrain_loss_ae: 0.9987,\tval_loss: 1.0784,\tval_loss_surv: 1.2331,\tval_loss_ae: 0.8464\n",
            "6:\t[16s / 1m:53s],\t\ttrain_loss: 1.0273,\ttrain_loss_surv: 1.0467,\ttrain_loss_ae: 0.9981,\tval_loss: 1.1034,\tval_loss_surv: 1.2750,\tval_loss_ae: 0.8461\n",
            "7:\t[16s / 2m:9s],\t\ttrain_loss: 1.0249,\ttrain_loss_surv: 1.0453,\ttrain_loss_ae: 0.9941,\tval_loss: 1.0940,\tval_loss_surv: 1.2594,\tval_loss_ae: 0.8458\n",
            "8:\t[16s / 2m:26s],\t\ttrain_loss: 1.0250,\ttrain_loss_surv: 1.0427,\ttrain_loss_ae: 0.9983,\tval_loss: 1.0869,\tval_loss_surv: 1.2479,\tval_loss_ae: 0.8455\n",
            "9:\t[16s / 2m:42s],\t\ttrain_loss: 1.0240,\ttrain_loss_surv: 1.0421,\ttrain_loss_ae: 0.9968,\tval_loss: 1.0896,\tval_loss_surv: 1.2524,\tval_loss_ae: 0.8454\n",
            "10:\t[16s / 2m:59s],\t\ttrain_loss: 1.0197,\ttrain_loss_surv: 1.0302,\ttrain_loss_ae: 1.0039,\tval_loss: 1.0910,\tval_loss_surv: 1.2549,\tval_loss_ae: 0.8451\n",
            "11:\t[16s / 3m:15s],\t\ttrain_loss: 1.0201,\ttrain_loss_surv: 1.0267,\ttrain_loss_ae: 1.0101,\tval_loss: 1.0951,\tval_loss_surv: 1.2616,\tval_loss_ae: 0.8452\n",
            "12:\t[16s / 3m:31s],\t\ttrain_loss: 1.0242,\ttrain_loss_surv: 1.0372,\ttrain_loss_ae: 1.0047,\tval_loss: 1.0953,\tval_loss_surv: 1.2622,\tval_loss_ae: 0.8449\n",
            "13:\t[16s / 3m:47s],\t\ttrain_loss: 1.0281,\ttrain_loss_surv: 1.0472,\ttrain_loss_ae: 0.9994,\tval_loss: 1.0792,\tval_loss_surv: 1.2355,\tval_loss_ae: 0.8448\n",
            "14:\t[16s / 4m:3s],\t\ttrain_loss: 1.0220,\ttrain_loss_surv: 1.0393,\ttrain_loss_ae: 0.9961,\tval_loss: 1.0882,\tval_loss_surv: 1.2505,\tval_loss_ae: 0.8447\n",
            "15:\t[16s / 4m:20s],\t\ttrain_loss: 1.0136,\ttrain_loss_surv: 1.0239,\ttrain_loss_ae: 0.9980,\tval_loss: 1.0996,\tval_loss_surv: 1.2696,\tval_loss_ae: 0.8447\n",
            "16:\t[16s / 4m:36s],\t\ttrain_loss: 1.0289,\ttrain_loss_surv: 1.0486,\ttrain_loss_ae: 0.9992,\tval_loss: 1.0869,\tval_loss_surv: 1.2483,\tval_loss_ae: 0.8447\n",
            "17:\t[16s / 4m:52s],\t\ttrain_loss: 1.0242,\ttrain_loss_surv: 1.0414,\ttrain_loss_ae: 0.9985,\tval_loss: 1.0913,\tval_loss_surv: 1.2558,\tval_loss_ae: 0.8445\n",
            "18:\t[16s / 5m:8s],\t\ttrain_loss: 1.0241,\ttrain_loss_surv: 1.0366,\ttrain_loss_ae: 1.0054,\tval_loss: 1.0864,\tval_loss_surv: 1.2476,\tval_loss_ae: 0.8446\n",
            "19:\t[16s / 5m:25s],\t\ttrain_loss: 1.0157,\ttrain_loss_surv: 1.0251,\ttrain_loss_ae: 1.0016,\tval_loss: 1.0794,\tval_loss_surv: 1.2360,\tval_loss_ae: 0.8445\n",
            "20:\t[16s / 5m:41s],\t\ttrain_loss: 1.0234,\ttrain_loss_surv: 1.0402,\ttrain_loss_ae: 0.9980,\tval_loss: 1.0782,\tval_loss_surv: 1.2341,\tval_loss_ae: 0.8445\n",
            "21:\t[16s / 5m:57s],\t\ttrain_loss: 1.0195,\ttrain_loss_surv: 1.0340,\ttrain_loss_ae: 0.9979,\tval_loss: 1.1034,\tval_loss_surv: 1.2761,\tval_loss_ae: 0.8444\n",
            "22:\t[15s / 6m:13s],\t\ttrain_loss: 1.0219,\ttrain_loss_surv: 1.0359,\ttrain_loss_ae: 1.0008,\tval_loss: 1.0936,\tval_loss_surv: 1.2596,\tval_loss_ae: 0.8444\n",
            "23:\t[15s / 6m:29s],\t\ttrain_loss: 1.0235,\ttrain_loss_surv: 1.0426,\ttrain_loss_ae: 0.9949,\tval_loss: 1.1032,\tval_loss_surv: 1.2758,\tval_loss_ae: 0.8444\n",
            "24:\t[15s / 6m:45s],\t\ttrain_loss: 1.0206,\ttrain_loss_surv: 1.0362,\ttrain_loss_ae: 0.9973,\tval_loss: 1.0898,\tval_loss_surv: 1.2535,\tval_loss_ae: 0.8444\n",
            "25:\t[16s / 7m:1s],\t\ttrain_loss: 1.0302,\ttrain_loss_surv: 1.0461,\ttrain_loss_ae: 1.0062,\tval_loss: 1.0940,\tval_loss_surv: 1.2603,\tval_loss_ae: 0.8445\n",
            "26:\t[16s / 7m:17s],\t\ttrain_loss: 1.0244,\ttrain_loss_surv: 1.0426,\ttrain_loss_ae: 0.9971,\tval_loss: 1.0940,\tval_loss_surv: 1.2604,\tval_loss_ae: 0.8445\n",
            "27:\t[16s / 7m:33s],\t\ttrain_loss: 1.0119,\ttrain_loss_surv: 1.0225,\ttrain_loss_ae: 0.9962,\tval_loss: 1.0932,\tval_loss_surv: 1.2590,\tval_loss_ae: 0.8444\n",
            "28:\t[16s / 7m:49s],\t\ttrain_loss: 1.0236,\ttrain_loss_surv: 1.0376,\ttrain_loss_ae: 1.0026,\tval_loss: 1.0868,\tval_loss_surv: 1.2484,\tval_loss_ae: 0.8445\n",
            "29:\t[16s / 8m:5s],\t\ttrain_loss: 1.0258,\ttrain_loss_surv: 1.0383,\ttrain_loss_ae: 1.0069,\tval_loss: 1.0951,\tval_loss_surv: 1.2622,\tval_loss_ae: 0.8444\n",
            "30:\t[16s / 8m:22s],\t\ttrain_loss: 1.0176,\ttrain_loss_surv: 1.0266,\ttrain_loss_ae: 1.0041,\tval_loss: 1.0937,\tval_loss_surv: 1.2599,\tval_loss_ae: 0.8444\n",
            "31:\t[16s / 8m:38s],\t\ttrain_loss: 1.0243,\ttrain_loss_surv: 1.0392,\ttrain_loss_ae: 1.0019,\tval_loss: 1.0936,\tval_loss_surv: 1.2597,\tval_loss_ae: 0.8444\n",
            "32:\t[16s / 8m:54s],\t\ttrain_loss: 1.0211,\ttrain_loss_surv: 1.0351,\ttrain_loss_ae: 1.0002,\tval_loss: 1.0781,\tval_loss_surv: 1.2339,\tval_loss_ae: 0.8444\n",
            "33:\t[16s / 9m:10s],\t\ttrain_loss: 1.0168,\ttrain_loss_surv: 1.0276,\ttrain_loss_ae: 1.0007,\tval_loss: 1.0955,\tval_loss_surv: 1.2628,\tval_loss_ae: 0.8444\n",
            "34:\t[16s / 9m:26s],\t\ttrain_loss: 1.0248,\ttrain_loss_surv: 1.0440,\ttrain_loss_ae: 0.9959,\tval_loss: 1.0918,\tval_loss_surv: 1.2566,\tval_loss_ae: 0.8446\n",
            "35:\t[16s / 9m:42s],\t\ttrain_loss: 1.0199,\ttrain_loss_surv: 1.0290,\ttrain_loss_ae: 1.0062,\tval_loss: 1.0804,\tval_loss_surv: 1.2377,\tval_loss_ae: 0.8445\n",
            "36:\t[16s / 9m:58s],\t\ttrain_loss: 1.0210,\ttrain_loss_surv: 1.0338,\ttrain_loss_ae: 1.0018,\tval_loss: 1.0883,\tval_loss_surv: 1.2510,\tval_loss_ae: 0.8443\n",
            "37:\t[16s / 10m:14s],\t\ttrain_loss: 1.0144,\ttrain_loss_surv: 1.0231,\ttrain_loss_ae: 1.0014,\tval_loss: 1.0842,\tval_loss_surv: 1.2441,\tval_loss_ae: 0.8445\n",
            "38:\t[16s / 10m:31s],\t\ttrain_loss: 1.0159,\ttrain_loss_surv: 1.0304,\ttrain_loss_ae: 0.9942,\tval_loss: 1.0903,\tval_loss_surv: 1.2542,\tval_loss_ae: 0.8445\n",
            "39:\t[16s / 10m:47s],\t\ttrain_loss: 1.0165,\ttrain_loss_surv: 1.0232,\ttrain_loss_ae: 1.0065,\tval_loss: 1.0897,\tval_loss_surv: 1.2532,\tval_loss_ae: 0.8445\n",
            "40:\t[16s / 11m:3s],\t\ttrain_loss: 1.0208,\ttrain_loss_surv: 1.0329,\ttrain_loss_ae: 1.0026,\tval_loss: 1.0801,\tval_loss_surv: 1.2372,\tval_loss_ae: 0.8443\n",
            "41:\t[16s / 11m:19s],\t\ttrain_loss: 1.0224,\ttrain_loss_surv: 1.0346,\ttrain_loss_ae: 1.0041,\tval_loss: 1.0972,\tval_loss_surv: 1.2658,\tval_loss_ae: 0.8443\n",
            "42:\t[16s / 11m:35s],\t\ttrain_loss: 1.0197,\ttrain_loss_surv: 1.0330,\ttrain_loss_ae: 0.9997,\tval_loss: 1.0932,\tval_loss_surv: 1.2592,\tval_loss_ae: 0.8443\n",
            "43:\t[16s / 11m:51s],\t\ttrain_loss: 1.0175,\ttrain_loss_surv: 1.0279,\ttrain_loss_ae: 1.0020,\tval_loss: 1.0819,\tval_loss_surv: 1.2402,\tval_loss_ae: 0.8444\n",
            "44:\t[16s / 12m:7s],\t\ttrain_loss: 1.0224,\ttrain_loss_surv: 1.0384,\ttrain_loss_ae: 0.9985,\tval_loss: 1.0934,\tval_loss_surv: 1.2591,\tval_loss_ae: 0.8447\n",
            "45:\t[16s / 12m:23s],\t\ttrain_loss: 1.0213,\ttrain_loss_surv: 1.0381,\ttrain_loss_ae: 0.9961,\tval_loss: 1.0857,\tval_loss_surv: 1.2466,\tval_loss_ae: 0.8443\n",
            "46:\t[16s / 12m:39s],\t\ttrain_loss: 1.0205,\ttrain_loss_surv: 1.0315,\ttrain_loss_ae: 1.0041,\tval_loss: 1.0917,\tval_loss_surv: 1.2566,\tval_loss_ae: 0.8444\n",
            "47:\t[16s / 12m:55s],\t\ttrain_loss: 1.0115,\ttrain_loss_surv: 1.0204,\ttrain_loss_ae: 0.9982,\tval_loss: 1.0957,\tval_loss_surv: 1.2632,\tval_loss_ae: 0.8443\n",
            "48:\t[16s / 13m:12s],\t\ttrain_loss: 1.0141,\ttrain_loss_surv: 1.0251,\ttrain_loss_ae: 0.9975,\tval_loss: 1.0942,\tval_loss_surv: 1.2606,\tval_loss_ae: 0.8445\n",
            "49:\t[16s / 13m:28s],\t\ttrain_loss: 1.0165,\ttrain_loss_surv: 1.0226,\ttrain_loss_ae: 1.0074,\tval_loss: 1.0898,\tval_loss_surv: 1.2535,\tval_loss_ae: 0.8443\n",
            "50:\t[16s / 13m:44s],\t\ttrain_loss: 1.0248,\ttrain_loss_surv: 1.0395,\ttrain_loss_ae: 1.0027,\tval_loss: 1.0907,\tval_loss_surv: 1.2548,\tval_loss_ae: 0.8446\n",
            "51:\t[16s / 14m:0s],\t\ttrain_loss: 1.0173,\ttrain_loss_surv: 1.0280,\ttrain_loss_ae: 1.0012,\tval_loss: 1.0946,\tval_loss_surv: 1.2614,\tval_loss_ae: 0.8444\n",
            "52:\t[16s / 14m:17s],\t\ttrain_loss: 1.0247,\ttrain_loss_surv: 1.0360,\ttrain_loss_ae: 1.0077,\tval_loss: 1.0907,\tval_loss_surv: 1.2549,\tval_loss_ae: 0.8443\n",
            "53:\t[16s / 14m:33s],\t\ttrain_loss: 1.0154,\ttrain_loss_surv: 1.0247,\ttrain_loss_ae: 1.0015,\tval_loss: 1.0859,\tval_loss_surv: 1.2469,\tval_loss_ae: 0.8444\n",
            "54:\t[16s / 14m:49s],\t\ttrain_loss: 1.0172,\ttrain_loss_surv: 1.0258,\ttrain_loss_ae: 1.0044,\tval_loss: 1.0868,\tval_loss_surv: 1.2485,\tval_loss_ae: 0.8443\n",
            "55:\t[15s / 15m:4s],\t\ttrain_loss: 1.0212,\ttrain_loss_surv: 1.0369,\ttrain_loss_ae: 0.9976,\tval_loss: 1.0945,\tval_loss_surv: 1.2612,\tval_loss_ae: 0.8443\n",
            "56:\t[15s / 15m:20s],\t\ttrain_loss: 1.0167,\ttrain_loss_surv: 1.0289,\ttrain_loss_ae: 0.9986,\tval_loss: 1.0938,\tval_loss_surv: 1.2599,\tval_loss_ae: 0.8446\n",
            "57:\t[15s / 15m:36s],\t\ttrain_loss: 1.0186,\ttrain_loss_surv: 1.0320,\ttrain_loss_ae: 0.9986,\tval_loss: 1.0888,\tval_loss_surv: 1.2517,\tval_loss_ae: 0.8444\n",
            "58:\t[15s / 15m:52s],\t\ttrain_loss: 1.0336,\ttrain_loss_surv: 1.0585,\ttrain_loss_ae: 0.9962,\tval_loss: 1.0954,\tval_loss_surv: 1.2627,\tval_loss_ae: 0.8443\n",
            "59:\t[15s / 16m:8s],\t\ttrain_loss: 1.0208,\ttrain_loss_surv: 1.0308,\ttrain_loss_ae: 1.0058,\tval_loss: 1.0937,\tval_loss_surv: 1.2599,\tval_loss_ae: 0.8444\n",
            "60:\t[15s / 16m:23s],\t\ttrain_loss: 1.0176,\ttrain_loss_surv: 1.0300,\ttrain_loss_ae: 0.9989,\tval_loss: 1.0887,\tval_loss_surv: 1.2516,\tval_loss_ae: 0.8443\n",
            "61:\t[16s / 16m:40s],\t\ttrain_loss: 1.0192,\ttrain_loss_surv: 1.0332,\ttrain_loss_ae: 0.9982,\tval_loss: 1.0891,\tval_loss_surv: 1.2522,\tval_loss_ae: 0.8443\n",
            "62:\t[16s / 16m:56s],\t\ttrain_loss: 1.0274,\ttrain_loss_surv: 1.0436,\ttrain_loss_ae: 1.0030,\tval_loss: 1.0885,\tval_loss_surv: 1.2509,\tval_loss_ae: 0.8448\n",
            "63:\t[15s / 17m:12s],\t\ttrain_loss: 1.0162,\ttrain_loss_surv: 1.0227,\ttrain_loss_ae: 1.0064,\tval_loss: 1.0938,\tval_loss_surv: 1.2601,\tval_loss_ae: 0.8443\n",
            "64:\t[16s / 17m:28s],\t\ttrain_loss: 1.0131,\ttrain_loss_surv: 1.0218,\ttrain_loss_ae: 1.0000,\tval_loss: 1.0927,\tval_loss_surv: 1.2580,\tval_loss_ae: 0.8447\n",
            "65:\t[16s / 17m:44s],\t\ttrain_loss: 1.0211,\ttrain_loss_surv: 1.0298,\ttrain_loss_ae: 1.0081,\tval_loss: 1.0927,\tval_loss_surv: 1.2582,\tval_loss_ae: 0.8445\n",
            "66:\t[16s / 18m:0s],\t\ttrain_loss: 1.0194,\ttrain_loss_surv: 1.0303,\ttrain_loss_ae: 1.0030,\tval_loss: 1.0858,\tval_loss_surv: 1.2467,\tval_loss_ae: 0.8444\n",
            "67:\t[16s / 18m:16s],\t\ttrain_loss: 1.0198,\ttrain_loss_surv: 1.0285,\ttrain_loss_ae: 1.0068,\tval_loss: 1.0928,\tval_loss_surv: 1.2585,\tval_loss_ae: 0.8443\n",
            "68:\t[16s / 18m:32s],\t\ttrain_loss: 1.0142,\ttrain_loss_surv: 1.0234,\ttrain_loss_ae: 1.0005,\tval_loss: 1.0879,\tval_loss_surv: 1.2502,\tval_loss_ae: 0.8444\n",
            "69:\t[16s / 18m:48s],\t\ttrain_loss: 1.0135,\ttrain_loss_surv: 1.0245,\ttrain_loss_ae: 0.9971,\tval_loss: 1.0878,\tval_loss_surv: 1.2501,\tval_loss_ae: 0.8443\n",
            "70:\t[16s / 19m:4s],\t\ttrain_loss: 1.0200,\ttrain_loss_surv: 1.0282,\ttrain_loss_ae: 1.0076,\tval_loss: 1.0895,\tval_loss_surv: 1.2529,\tval_loss_ae: 0.8444\n",
            "71:\t[16s / 19m:20s],\t\ttrain_loss: 1.0195,\ttrain_loss_surv: 1.0330,\ttrain_loss_ae: 0.9993,\tval_loss: 1.0963,\tval_loss_surv: 1.2643,\tval_loss_ae: 0.8444\n",
            "72:\t[16s / 19m:37s],\t\ttrain_loss: 1.0216,\ttrain_loss_surv: 1.0292,\ttrain_loss_ae: 1.0101,\tval_loss: 1.0895,\tval_loss_surv: 1.2527,\tval_loss_ae: 0.8447\n",
            "73:\t[16s / 19m:53s],\t\ttrain_loss: 1.0248,\ttrain_loss_surv: 1.0412,\ttrain_loss_ae: 1.0002,\tval_loss: 1.0909,\tval_loss_surv: 1.2551,\tval_loss_ae: 0.8445\n",
            "74:\t[15s / 20m:9s],\t\ttrain_loss: 1.0171,\ttrain_loss_surv: 1.0289,\ttrain_loss_ae: 0.9995,\tval_loss: 1.0918,\tval_loss_surv: 1.2567,\tval_loss_ae: 0.8444\n",
            "75:\t[15s / 20m:24s],\t\ttrain_loss: 1.0192,\ttrain_loss_surv: 1.0336,\ttrain_loss_ae: 0.9976,\tval_loss: 1.0914,\tval_loss_surv: 1.2562,\tval_loss_ae: 0.8443\n",
            "76:\t[16s / 20m:41s],\t\ttrain_loss: 1.0220,\ttrain_loss_surv: 1.0379,\ttrain_loss_ae: 0.9980,\tval_loss: 1.0899,\tval_loss_surv: 1.2535,\tval_loss_ae: 0.8445\n",
            "77:\t[16s / 20m:57s],\t\ttrain_loss: 1.0122,\ttrain_loss_surv: 1.0222,\ttrain_loss_ae: 0.9973,\tval_loss: 1.0850,\tval_loss_surv: 1.2454,\tval_loss_ae: 0.8445\n",
            "78:\t[16s / 21m:13s],\t\ttrain_loss: 1.0146,\ttrain_loss_surv: 1.0226,\ttrain_loss_ae: 1.0028,\tval_loss: 1.0894,\tval_loss_surv: 1.2528,\tval_loss_ae: 0.8444\n",
            "79:\t[16s / 21m:29s],\t\ttrain_loss: 1.0207,\ttrain_loss_surv: 1.0388,\ttrain_loss_ae: 0.9935,\tval_loss: 1.0931,\tval_loss_surv: 1.2588,\tval_loss_ae: 0.8446\n",
            "80:\t[15s / 21m:44s],\t\ttrain_loss: 1.0188,\ttrain_loss_surv: 1.0302,\ttrain_loss_ae: 1.0016,\tval_loss: 1.0872,\tval_loss_surv: 1.2491,\tval_loss_ae: 0.8443\n",
            "81:\t[16s / 22m:1s],\t\ttrain_loss: 1.0155,\ttrain_loss_surv: 1.0215,\ttrain_loss_ae: 1.0066,\tval_loss: 1.0969,\tval_loss_surv: 1.2652,\tval_loss_ae: 0.8445\n",
            "82:\t[15s / 22m:16s],\t\ttrain_loss: 1.0174,\ttrain_loss_surv: 1.0306,\ttrain_loss_ae: 0.9976,\tval_loss: 1.0895,\tval_loss_surv: 1.2529,\tval_loss_ae: 0.8444\n",
            "83:\t[16s / 22m:32s],\t\ttrain_loss: 1.0197,\ttrain_loss_surv: 1.0311,\ttrain_loss_ae: 1.0025,\tval_loss: 1.0913,\tval_loss_surv: 1.2559,\tval_loss_ae: 0.8444\n",
            "84:\t[15s / 22m:48s],\t\ttrain_loss: 1.0180,\ttrain_loss_surv: 1.0302,\ttrain_loss_ae: 0.9997,\tval_loss: 1.0847,\tval_loss_surv: 1.2450,\tval_loss_ae: 0.8443\n",
            "85:\t[15s / 23m:4s],\t\ttrain_loss: 1.0199,\ttrain_loss_surv: 1.0315,\ttrain_loss_ae: 1.0024,\tval_loss: 1.0899,\tval_loss_surv: 1.2535,\tval_loss_ae: 0.8445\n",
            "86:\t[16s / 23m:21s],\t\ttrain_loss: 1.0170,\ttrain_loss_surv: 1.0254,\ttrain_loss_ae: 1.0042,\tval_loss: 1.0948,\tval_loss_surv: 1.2617,\tval_loss_ae: 0.8444\n",
            "87:\t[16s / 23m:37s],\t\ttrain_loss: 1.0152,\ttrain_loss_surv: 1.0237,\ttrain_loss_ae: 1.0023,\tval_loss: 1.0901,\tval_loss_surv: 1.2538,\tval_loss_ae: 0.8445\n",
            "88:\t[16s / 23m:54s],\t\ttrain_loss: 1.0231,\ttrain_loss_surv: 1.0378,\ttrain_loss_ae: 1.0009,\tval_loss: 1.1020,\tval_loss_surv: 1.2736,\tval_loss_ae: 0.8446\n",
            "89:\t[16s / 24m:10s],\t\ttrain_loss: 1.0179,\ttrain_loss_surv: 1.0307,\ttrain_loss_ae: 0.9987,\tval_loss: 1.0904,\tval_loss_surv: 1.2545,\tval_loss_ae: 0.8443\n",
            "90:\t[16s / 24m:27s],\t\ttrain_loss: 1.0128,\ttrain_loss_surv: 1.0198,\ttrain_loss_ae: 1.0023,\tval_loss: 1.0927,\tval_loss_surv: 1.2582,\tval_loss_ae: 0.8445\n",
            "91:\t[16s / 24m:44s],\t\ttrain_loss: 1.0188,\ttrain_loss_surv: 1.0285,\ttrain_loss_ae: 1.0042,\tval_loss: 1.0905,\tval_loss_surv: 1.2545,\tval_loss_ae: 0.8444\n",
            "92:\t[16s / 25m:0s],\t\ttrain_loss: 1.0179,\ttrain_loss_surv: 1.0280,\ttrain_loss_ae: 1.0027,\tval_loss: 1.0975,\tval_loss_surv: 1.2663,\tval_loss_ae: 0.8444\n",
            "93:\t[16s / 25m:16s],\t\ttrain_loss: 1.0163,\ttrain_loss_surv: 1.0242,\ttrain_loss_ae: 1.0045,\tval_loss: 1.0910,\tval_loss_surv: 1.2554,\tval_loss_ae: 0.8443\n",
            "94:\t[16s / 25m:33s],\t\ttrain_loss: 1.0149,\ttrain_loss_surv: 1.0285,\ttrain_loss_ae: 0.9946,\tval_loss: 1.0869,\tval_loss_surv: 1.2485,\tval_loss_ae: 0.8444\n",
            "95:\t[16s / 25m:49s],\t\ttrain_loss: 1.0263,\ttrain_loss_surv: 1.0430,\ttrain_loss_ae: 1.0012,\tval_loss: 1.0840,\tval_loss_surv: 1.2438,\tval_loss_ae: 0.8443\n",
            "96:\t[16s / 26m:5s],\t\ttrain_loss: 1.0152,\ttrain_loss_surv: 1.0272,\ttrain_loss_ae: 0.9973,\tval_loss: 1.0906,\tval_loss_surv: 1.2543,\tval_loss_ae: 0.8449\n",
            "97:\t[16s / 26m:22s],\t\ttrain_loss: 1.0217,\ttrain_loss_surv: 1.0373,\ttrain_loss_ae: 0.9983,\tval_loss: 1.0904,\tval_loss_surv: 1.2545,\tval_loss_ae: 0.8443\n",
            "98:\t[16s / 26m:38s],\t\ttrain_loss: 1.0180,\ttrain_loss_surv: 1.0261,\ttrain_loss_ae: 1.0058,\tval_loss: 1.0999,\tval_loss_surv: 1.2701,\tval_loss_ae: 0.8446\n",
            "99:\t[16s / 26m:54s],\t\ttrain_loss: 1.0217,\ttrain_loss_surv: 1.0355,\ttrain_loss_ae: 1.0011,\tval_loss: 1.0877,\tval_loss_surv: 1.2499,\tval_loss_ae: 0.8443\n"
          ],
          "name": "stdout"
        }
      ]
    },
    {
      "cell_type": "code",
      "metadata": {
        "id": "iIIxAInIFtpt"
      },
      "source": [
        "res = model.log.to_pandas()"
      ],
      "execution_count": 156,
      "outputs": []
    },
    {
      "cell_type": "code",
      "metadata": {
        "colab": {
          "base_uri": "https://localhost:8080/",
          "height": 669
        },
        "id": "gRvwPPDSIU06",
        "outputId": "28735f69-ab7b-4338-e71a-a42e2ece7c7e"
      },
      "source": [
        "res.tail(20)"
      ],
      "execution_count": 157,
      "outputs": [
        {
          "output_type": "execute_result",
          "data": {
            "text/html": [
              "<div>\n",
              "<style scoped>\n",
              "    .dataframe tbody tr th:only-of-type {\n",
              "        vertical-align: middle;\n",
              "    }\n",
              "\n",
              "    .dataframe tbody tr th {\n",
              "        vertical-align: top;\n",
              "    }\n",
              "\n",
              "    .dataframe thead th {\n",
              "        text-align: right;\n",
              "    }\n",
              "</style>\n",
              "<table border=\"1\" class=\"dataframe\">\n",
              "  <thead>\n",
              "    <tr style=\"text-align: right;\">\n",
              "      <th></th>\n",
              "      <th>train_loss</th>\n",
              "      <th>train_loss_surv</th>\n",
              "      <th>train_loss_ae</th>\n",
              "      <th>val_loss</th>\n",
              "      <th>val_loss_surv</th>\n",
              "      <th>val_loss_ae</th>\n",
              "    </tr>\n",
              "  </thead>\n",
              "  <tbody>\n",
              "    <tr>\n",
              "      <th>80</th>\n",
              "      <td>1.018762</td>\n",
              "      <td>1.030186</td>\n",
              "      <td>1.001627</td>\n",
              "      <td>1.087206</td>\n",
              "      <td>1.249118</td>\n",
              "      <td>0.844338</td>\n",
              "    </tr>\n",
              "    <tr>\n",
              "      <th>81</th>\n",
              "      <td>1.015526</td>\n",
              "      <td>1.021468</td>\n",
              "      <td>1.006613</td>\n",
              "      <td>1.096911</td>\n",
              "      <td>1.265211</td>\n",
              "      <td>0.844459</td>\n",
              "    </tr>\n",
              "    <tr>\n",
              "      <th>82</th>\n",
              "      <td>1.017409</td>\n",
              "      <td>1.030644</td>\n",
              "      <td>0.997556</td>\n",
              "      <td>1.089468</td>\n",
              "      <td>1.252855</td>\n",
              "      <td>0.844389</td>\n",
              "    </tr>\n",
              "    <tr>\n",
              "      <th>83</th>\n",
              "      <td>1.019692</td>\n",
              "      <td>1.031136</td>\n",
              "      <td>1.002526</td>\n",
              "      <td>1.091283</td>\n",
              "      <td>1.255902</td>\n",
              "      <td>0.844354</td>\n",
              "    </tr>\n",
              "    <tr>\n",
              "      <th>84</th>\n",
              "      <td>1.017967</td>\n",
              "      <td>1.030169</td>\n",
              "      <td>0.999664</td>\n",
              "      <td>1.084723</td>\n",
              "      <td>1.245006</td>\n",
              "      <td>0.844298</td>\n",
              "    </tr>\n",
              "    <tr>\n",
              "      <th>85</th>\n",
              "      <td>1.019879</td>\n",
              "      <td>1.031505</td>\n",
              "      <td>1.002441</td>\n",
              "      <td>1.089880</td>\n",
              "      <td>1.253450</td>\n",
              "      <td>0.844525</td>\n",
              "    </tr>\n",
              "    <tr>\n",
              "      <th>86</th>\n",
              "      <td>1.016951</td>\n",
              "      <td>1.025436</td>\n",
              "      <td>1.004225</td>\n",
              "      <td>1.094783</td>\n",
              "      <td>1.261681</td>\n",
              "      <td>0.844436</td>\n",
              "    </tr>\n",
              "    <tr>\n",
              "      <th>87</th>\n",
              "      <td>1.015158</td>\n",
              "      <td>1.023721</td>\n",
              "      <td>1.002312</td>\n",
              "      <td>1.090109</td>\n",
              "      <td>1.253832</td>\n",
              "      <td>0.844523</td>\n",
              "    </tr>\n",
              "    <tr>\n",
              "      <th>88</th>\n",
              "      <td>1.023070</td>\n",
              "      <td>1.037819</td>\n",
              "      <td>1.000945</td>\n",
              "      <td>1.102024</td>\n",
              "      <td>1.273614</td>\n",
              "      <td>0.844639</td>\n",
              "    </tr>\n",
              "    <tr>\n",
              "      <th>89</th>\n",
              "      <td>1.017893</td>\n",
              "      <td>1.030661</td>\n",
              "      <td>0.998741</td>\n",
              "      <td>1.090444</td>\n",
              "      <td>1.254512</td>\n",
              "      <td>0.844342</td>\n",
              "    </tr>\n",
              "    <tr>\n",
              "      <th>90</th>\n",
              "      <td>1.012780</td>\n",
              "      <td>1.019799</td>\n",
              "      <td>1.002252</td>\n",
              "      <td>1.092711</td>\n",
              "      <td>1.258178</td>\n",
              "      <td>0.844511</td>\n",
              "    </tr>\n",
              "    <tr>\n",
              "      <th>91</th>\n",
              "      <td>1.018798</td>\n",
              "      <td>1.028544</td>\n",
              "      <td>1.004178</td>\n",
              "      <td>1.090467</td>\n",
              "      <td>1.254488</td>\n",
              "      <td>0.844435</td>\n",
              "    </tr>\n",
              "    <tr>\n",
              "      <th>92</th>\n",
              "      <td>1.017870</td>\n",
              "      <td>1.027967</td>\n",
              "      <td>1.002723</td>\n",
              "      <td>1.097514</td>\n",
              "      <td>1.266256</td>\n",
              "      <td>0.844400</td>\n",
              "    </tr>\n",
              "    <tr>\n",
              "      <th>93</th>\n",
              "      <td>1.016310</td>\n",
              "      <td>1.024202</td>\n",
              "      <td>1.004472</td>\n",
              "      <td>1.090975</td>\n",
              "      <td>1.255412</td>\n",
              "      <td>0.844318</td>\n",
              "    </tr>\n",
              "    <tr>\n",
              "      <th>94</th>\n",
              "      <td>1.014943</td>\n",
              "      <td>1.028530</td>\n",
              "      <td>0.994561</td>\n",
              "      <td>1.086854</td>\n",
              "      <td>1.248506</td>\n",
              "      <td>0.844375</td>\n",
              "    </tr>\n",
              "    <tr>\n",
              "      <th>95</th>\n",
              "      <td>1.026270</td>\n",
              "      <td>1.042990</td>\n",
              "      <td>1.001190</td>\n",
              "      <td>1.084044</td>\n",
              "      <td>1.243848</td>\n",
              "      <td>0.844338</td>\n",
              "    </tr>\n",
              "    <tr>\n",
              "      <th>96</th>\n",
              "      <td>1.015244</td>\n",
              "      <td>1.027230</td>\n",
              "      <td>0.997266</td>\n",
              "      <td>1.090551</td>\n",
              "      <td>1.254323</td>\n",
              "      <td>0.844892</td>\n",
              "    </tr>\n",
              "    <tr>\n",
              "      <th>97</th>\n",
              "      <td>1.021678</td>\n",
              "      <td>1.037256</td>\n",
              "      <td>0.998312</td>\n",
              "      <td>1.090437</td>\n",
              "      <td>1.254495</td>\n",
              "      <td>0.844350</td>\n",
              "    </tr>\n",
              "    <tr>\n",
              "      <th>98</th>\n",
              "      <td>1.018003</td>\n",
              "      <td>1.026109</td>\n",
              "      <td>1.005845</td>\n",
              "      <td>1.099905</td>\n",
              "      <td>1.270094</td>\n",
              "      <td>0.844620</td>\n",
              "    </tr>\n",
              "    <tr>\n",
              "      <th>99</th>\n",
              "      <td>1.021742</td>\n",
              "      <td>1.035525</td>\n",
              "      <td>1.001068</td>\n",
              "      <td>1.087691</td>\n",
              "      <td>1.249943</td>\n",
              "      <td>0.844314</td>\n",
              "    </tr>\n",
              "  </tbody>\n",
              "</table>\n",
              "</div>"
            ],
            "text/plain": [
              "    train_loss  train_loss_surv  ...  val_loss_surv  val_loss_ae\n",
              "80    1.018762         1.030186  ...       1.249118     0.844338\n",
              "81    1.015526         1.021468  ...       1.265211     0.844459\n",
              "82    1.017409         1.030644  ...       1.252855     0.844389\n",
              "83    1.019692         1.031136  ...       1.255902     0.844354\n",
              "84    1.017967         1.030169  ...       1.245006     0.844298\n",
              "85    1.019879         1.031505  ...       1.253450     0.844525\n",
              "86    1.016951         1.025436  ...       1.261681     0.844436\n",
              "87    1.015158         1.023721  ...       1.253832     0.844523\n",
              "88    1.023070         1.037819  ...       1.273614     0.844639\n",
              "89    1.017893         1.030661  ...       1.254512     0.844342\n",
              "90    1.012780         1.019799  ...       1.258178     0.844511\n",
              "91    1.018798         1.028544  ...       1.254488     0.844435\n",
              "92    1.017870         1.027967  ...       1.266256     0.844400\n",
              "93    1.016310         1.024202  ...       1.255412     0.844318\n",
              "94    1.014943         1.028530  ...       1.248506     0.844375\n",
              "95    1.026270         1.042990  ...       1.243848     0.844338\n",
              "96    1.015244         1.027230  ...       1.254323     0.844892\n",
              "97    1.021678         1.037256  ...       1.254495     0.844350\n",
              "98    1.018003         1.026109  ...       1.270094     0.844620\n",
              "99    1.021742         1.035525  ...       1.249943     0.844314\n",
              "\n",
              "[20 rows x 6 columns]"
            ]
          },
          "metadata": {
            "tags": []
          },
          "execution_count": 157
        }
      ]
    },
    {
      "cell_type": "code",
      "metadata": {
        "colab": {
          "base_uri": "https://localhost:8080/",
          "height": 265
        },
        "id": "CKvCPgYEIXC_",
        "outputId": "8c2b0cfd-0682-4c66-928a-10441c9d3433"
      },
      "source": [
        "_ = res[['train_loss', 'val_loss']].plot()"
      ],
      "execution_count": 158,
      "outputs": [
        {
          "output_type": "display_data",
          "data": {
            "image/png": "[encoded data removed]",
            "text/plain": [
              "<Figure size 432x288 with 1 Axes>"
            ]
          },
          "metadata": {
            "tags": [],
            "needs_background": "light"
          }
        }
      ]
    },
    {
      "cell_type": "code",
      "metadata": {
        "colab": {
          "base_uri": "https://localhost:8080/",
          "height": 265
        },
        "id": "130SYCKaIehY",
        "outputId": "964de93f-7b38-4d06-b049-bad1351bfd02"
      },
      "source": [
        "_ = res[['train_loss_surv', 'val_loss_surv']].plot()"
      ],
      "execution_count": 159,
      "outputs": [
        {
          "output_type": "display_data",
          "data": {
            "image/png": "[encoded data removed]",
            "text/plain": [
              "<Figure size 432x288 with 1 Axes>"
            ]
          },
          "metadata": {
            "tags": [],
            "needs_background": "light"
          }
        }
      ]
    },
    {
      "cell_type": "code",
      "metadata": {
        "colab": {
          "base_uri": "https://localhost:8080/",
          "height": 265
        },
        "id": "8aekIbaOIiV0",
        "outputId": "c21a5a14-5356-425f-9bc0-5e2920e5c40d"
      },
      "source": [
        "_ = res[['train_loss_ae', 'val_loss_ae']].plot()"
      ],
      "execution_count": 160,
      "outputs": [
        {
          "output_type": "display_data",
          "data": {
            "image/png": "[encoded data removed]",
            "text/plain": [
              "<Figure size 432x288 with 1 Axes>"
            ]
          },
          "metadata": {
            "tags": [],
            "needs_background": "light"
          }
        }
      ]
    },
    {
      "cell_type": "code",
      "metadata": {
        "id": "Y8HUs_Z0In8u"
      },
      "source": [
        "surv1 = model.interpolate(10).predict_surv_df(x_test1)\n",
        "surv2 = model.interpolate(10).predict_surv_df(x_test2)"
      ],
      "execution_count": 161,
      "outputs": []
    },
    {
      "cell_type": "code",
      "metadata": {
        "colab": {
          "base_uri": "https://localhost:8080/",
          "height": 419
        },
        "id": "9FBtT1smO_kX",
        "outputId": "d4eb0303-202d-48fd-9f9b-bf3de60fdec1"
      },
      "source": [
        "surv1.iloc[:, :5]"
      ],
      "execution_count": 162,
      "outputs": [
        {
          "output_type": "execute_result",
          "data": {
            "text/html": [
              "<div>\n",
              "<style scoped>\n",
              "    .dataframe tbody tr th:only-of-type {\n",
              "        vertical-align: middle;\n",
              "    }\n",
              "\n",
              "    .dataframe tbody tr th {\n",
              "        vertical-align: top;\n",
              "    }\n",
              "\n",
              "    .dataframe thead th {\n",
              "        text-align: right;\n",
              "    }\n",
              "</style>\n",
              "<table border=\"1\" class=\"dataframe\">\n",
              "  <thead>\n",
              "    <tr style=\"text-align: right;\">\n",
              "      <th></th>\n",
              "      <th>0</th>\n",
              "      <th>1</th>\n",
              "      <th>2</th>\n",
              "      <th>3</th>\n",
              "      <th>4</th>\n",
              "    </tr>\n",
              "  </thead>\n",
              "  <tbody>\n",
              "    <tr>\n",
              "      <th>0.000000</th>\n",
              "      <td>0.996450</td>\n",
              "      <td>0.996450</td>\n",
              "      <td>0.996450</td>\n",
              "      <td>0.996450</td>\n",
              "      <td>0.996450</td>\n",
              "    </tr>\n",
              "    <tr>\n",
              "      <th>1.944444</th>\n",
              "      <td>0.979695</td>\n",
              "      <td>0.979695</td>\n",
              "      <td>0.979695</td>\n",
              "      <td>0.979695</td>\n",
              "      <td>0.979695</td>\n",
              "    </tr>\n",
              "    <tr>\n",
              "      <th>3.888889</th>\n",
              "      <td>0.962939</td>\n",
              "      <td>0.962939</td>\n",
              "      <td>0.962939</td>\n",
              "      <td>0.962939</td>\n",
              "      <td>0.962939</td>\n",
              "    </tr>\n",
              "    <tr>\n",
              "      <th>5.833333</th>\n",
              "      <td>0.946184</td>\n",
              "      <td>0.946184</td>\n",
              "      <td>0.946184</td>\n",
              "      <td>0.946184</td>\n",
              "      <td>0.946184</td>\n",
              "    </tr>\n",
              "    <tr>\n",
              "      <th>7.777778</th>\n",
              "      <td>0.929428</td>\n",
              "      <td>0.929428</td>\n",
              "      <td>0.929428</td>\n",
              "      <td>0.929428</td>\n",
              "      <td>0.929428</td>\n",
              "    </tr>\n",
              "    <tr>\n",
              "      <th>...</th>\n",
              "      <td>...</td>\n",
              "      <td>...</td>\n",
              "      <td>...</td>\n",
              "      <td>...</td>\n",
              "      <td>...</td>\n",
              "    </tr>\n",
              "    <tr>\n",
              "      <th>167.222222</th>\n",
              "      <td>0.122138</td>\n",
              "      <td>0.122138</td>\n",
              "      <td>0.122138</td>\n",
              "      <td>0.122138</td>\n",
              "      <td>0.122138</td>\n",
              "    </tr>\n",
              "    <tr>\n",
              "      <th>169.166667</th>\n",
              "      <td>0.122105</td>\n",
              "      <td>0.122105</td>\n",
              "      <td>0.122105</td>\n",
              "      <td>0.122105</td>\n",
              "      <td>0.122105</td>\n",
              "    </tr>\n",
              "    <tr>\n",
              "      <th>171.111111</th>\n",
              "      <td>0.122072</td>\n",
              "      <td>0.122072</td>\n",
              "      <td>0.122072</td>\n",
              "      <td>0.122072</td>\n",
              "      <td>0.122072</td>\n",
              "    </tr>\n",
              "    <tr>\n",
              "      <th>173.055556</th>\n",
              "      <td>0.122039</td>\n",
              "      <td>0.122039</td>\n",
              "      <td>0.122039</td>\n",
              "      <td>0.122039</td>\n",
              "      <td>0.122039</td>\n",
              "    </tr>\n",
              "    <tr>\n",
              "      <th>175.000000</th>\n",
              "      <td>0.122006</td>\n",
              "      <td>0.122006</td>\n",
              "      <td>0.122006</td>\n",
              "      <td>0.122006</td>\n",
              "      <td>0.122006</td>\n",
              "    </tr>\n",
              "  </tbody>\n",
              "</table>\n",
              "<p>91 rows × 5 columns</p>\n",
              "</div>"
            ],
            "text/plain": [
              "                   0         1         2         3         4\n",
              "0.000000    0.996450  0.996450  0.996450  0.996450  0.996450\n",
              "1.944444    0.979695  0.979695  0.979695  0.979695  0.979695\n",
              "3.888889    0.962939  0.962939  0.962939  0.962939  0.962939\n",
              "5.833333    0.946184  0.946184  0.946184  0.946184  0.946184\n",
              "7.777778    0.929428  0.929428  0.929428  0.929428  0.929428\n",
              "...              ...       ...       ...       ...       ...\n",
              "167.222222  0.122138  0.122138  0.122138  0.122138  0.122138\n",
              "169.166667  0.122105  0.122105  0.122105  0.122105  0.122105\n",
              "171.111111  0.122072  0.122072  0.122072  0.122072  0.122072\n",
              "173.055556  0.122039  0.122039  0.122039  0.122039  0.122039\n",
              "175.000000  0.122006  0.122006  0.122006  0.122006  0.122006\n",
              "\n",
              "[91 rows x 5 columns]"
            ]
          },
          "metadata": {
            "tags": []
          },
          "execution_count": 162
        }
      ]
    },
    {
      "cell_type": "code",
      "metadata": {
        "colab": {
          "base_uri": "https://localhost:8080/",
          "height": 279
        },
        "id": "Vx0vJg6jI00m",
        "outputId": "af4bfebf-7c18-4d62-c882-05b407a3ffc8"
      },
      "source": [
        "surv2.iloc[:, :5].plot(drawstyle='steps-post')\n",
        "plt.ylabel('S(t | x)')\n",
        "_ = plt.xlabel('Time')"
      ],
      "execution_count": 163,
      "outputs": [
        {
          "output_type": "display_data",
          "data": {
            "image/png": "[encoded data removed]",
            "text/plain": [
              "<Figure size 432x288 with 1 Axes>"
            ]
          },
          "metadata": {
            "tags": [],
            "needs_background": "light"
          }
        }
      ]
    },
    {
      "cell_type": "code",
      "metadata": {
        "colab": {
          "base_uri": "https://localhost:8080/"
        },
        "id": "hHQqTbu6I40v",
        "outputId": "7ebaf274-320f-41f0-cdfb-68a22099d27a"
      },
      "source": [
        "model.predict(x_test1[:2])"
      ],
      "execution_count": 164,
      "outputs": [
        {
          "output_type": "execute_result",
          "data": {
            "text/plain": [
              "array([[-5.637291  , -1.5987787 , -1.5405307 , -0.91019064, -0.45780593,\n",
              "        -0.75093687, -0.4325103 , -6.823105  , -5.809291  , -5.912126  ],\n",
              "       [-5.637291  , -1.5987787 , -1.5405307 , -0.91019064, -0.45780593,\n",
              "        -0.75093687, -0.4325103 , -6.823105  , -5.809291  , -5.912126  ]],\n",
              "      dtype=float32)"
            ]
          },
          "metadata": {
            "tags": []
          },
          "execution_count": 164
        }
      ]
    },
    {
      "cell_type": "code",
      "metadata": {
        "colab": {
          "base_uri": "https://localhost:8080/"
        },
        "id": "d6xdUTTJJRBf",
        "outputId": "7c19e379-32d6-4d80-b003-6c22a42a9fc4"
      },
      "source": [
        "model.predict_net(x_test1[:2])"
      ],
      "execution_count": 165,
      "outputs": [
        {
          "output_type": "execute_result",
          "data": {
            "text/plain": [
              "(array([[-5.637291  , -1.5987787 , -1.5405307 , -0.91019064, -0.45780593,\n",
              "         -0.75093687, -0.4325103 , -6.823105  , -5.809291  , -5.912126  ],\n",
              "        [-5.637291  , -1.5987787 , -1.5405307 , -0.91019064, -0.45780593,\n",
              "         -0.75093687, -0.4325103 , -6.823105  , -5.809291  , -5.912126  ]],\n",
              "       dtype=float32),\n",
              " array([[-0.00351591,  0.01537065,  0.00248735, ...,  0.01468152,\n",
              "          0.01230382,  0.00889245],\n",
              "        [-0.00351591,  0.01537065,  0.00248735, ...,  0.01468152,\n",
              "          0.01230382,  0.00889245]], dtype=float32))"
            ]
          },
          "metadata": {
            "tags": []
          },
          "execution_count": 165
        }
      ]
    },
    {
      "cell_type": "code",
      "metadata": {
        "id": "7qyv1y06JT9A"
      },
      "source": [
        "evs1 = EvalSurv(surv1, durations_test1, events_test1, censor_surv='km')\n",
        "evs2 = EvalSurv(surv2, durations_test2, events_test2, censor_surv='km')"
      ],
      "execution_count": 166,
      "outputs": []
    },
    {
      "cell_type": "code",
      "metadata": {
        "colab": {
          "base_uri": "https://localhost:8080/"
        },
        "id": "0ir3-cHkKNkw",
        "outputId": "4ba719b1-8058-425e-f0e8-91417dc6f4fa"
      },
      "source": [
        "evs1.concordance_td()"
      ],
      "execution_count": 167,
      "outputs": [
        {
          "output_type": "execute_result",
          "data": {
            "text/plain": [
              "0.5"
            ]
          },
          "metadata": {
            "tags": []
          },
          "execution_count": 167
        }
      ]
    },
    {
      "cell_type": "code",
      "metadata": {
        "colab": {
          "base_uri": "https://localhost:8080/"
        },
        "id": "unihuW8uKZAy",
        "outputId": "c6cfab0b-0327-458f-d4c0-68cb4cc8606e"
      },
      "source": [
        "evs2.concordance_td('antolini')"
      ],
      "execution_count": 168,
      "outputs": [
        {
          "output_type": "execute_result",
          "data": {
            "text/plain": [
              "0.0"
            ]
          },
          "metadata": {
            "tags": []
          },
          "execution_count": 168
        }
      ]
    },
    {
      "cell_type": "code",
      "metadata": {
        "colab": {
          "base_uri": "https://localhost:8080/",
          "height": 281
        },
        "id": "Bq4rWjmxKcPY",
        "outputId": "b4c85bdc-e0c1-4007-93da-91e8a7eb8b97"
      },
      "source": [
        "time_grid = np.linspace(durations_test1.min(), durations_test1.max(), 100)\n",
        "evs1.brier_score(time_grid).plot()\n",
        "plt.ylabel('Brier score')\n",
        "_ = plt.xlabel('Time')"
      ],
      "execution_count": 169,
      "outputs": [
        {
          "output_type": "display_data",
          "data": {
            "image/png": "[encoded data removed]",
            "text/plain": [
              "<Figure size 432x288 with 1 Axes>"
            ]
          },
          "metadata": {
            "tags": [],
            "needs_background": "light"
          }
        }
      ]
    },
    {
      "cell_type": "code",
      "metadata": {
        "colab": {
          "base_uri": "https://localhost:8080/",
          "height": 279
        },
        "id": "gss2XVJwKhUg",
        "outputId": "6b3d7313-5b1a-4cf0-afc9-b5e44c808fba"
      },
      "source": [
        "time_grid = np.linspace(durations_test2.min(), durations_test2.max(), 100)\n",
        "evs2.brier_score(time_grid).plot()\n",
        "plt.ylabel('Brier score')\n",
        "_ = plt.xlabel('Time')"
      ],
      "execution_count": 170,
      "outputs": [
        {
          "output_type": "display_data",
          "data": {
            "image/png": "[encoded data removed]",
            "text/plain": [
              "<Figure size 432x288 with 1 Axes>"
            ]
          },
          "metadata": {
            "tags": [],
            "needs_background": "light"
          }
        }
      ]
    },
    {
      "cell_type": "code",
      "metadata": {
        "colab": {
          "base_uri": "https://localhost:8080/",
          "height": 279
        },
        "id": "simS0Kq0KnCI",
        "outputId": "686b81f3-7ee4-4c42-b538-20c1a9b06588"
      },
      "source": [
        "evs1.nbll(time_grid).plot()\n",
        "plt.ylabel('NBLL')\n",
        "_ = plt.xlabel('Time')"
      ],
      "execution_count": 171,
      "outputs": [
        {
          "output_type": "display_data",
          "data": {
            "image/png": "[encoded data removed]",
            "text/plain": [
              "<Figure size 432x288 with 1 Axes>"
            ]
          },
          "metadata": {
            "tags": [],
            "needs_background": "light"
          }
        }
      ]
    },
    {
      "cell_type": "code",
      "metadata": {
        "colab": {
          "base_uri": "https://localhost:8080/",
          "height": 279
        },
        "id": "hRxpMNujKrjR",
        "outputId": "4d41f74b-4ff0-46c3-e83b-a422aba2d25f"
      },
      "source": [
        "evs2.nbll(time_grid).plot()\n",
        "plt.ylabel('NBLL')\n",
        "_ = plt.xlabel('Time')"
      ],
      "execution_count": 172,
      "outputs": [
        {
          "output_type": "display_data",
          "data": {
            "image/png": "[encoded data removed]",
            "text/plain": [
              "<Figure size 432x288 with 1 Axes>"
            ]
          },
          "metadata": {
            "tags": [],
            "needs_background": "light"
          }
        }
      ]
    },
    {
      "cell_type": "code",
      "metadata": {
        "colab": {
          "base_uri": "https://localhost:8080/"
        },
        "id": "bTCz2jvUKtcu",
        "outputId": "be5602f2-da3f-474e-eaaa-6f8b0e774411"
      },
      "source": [
        "evs1.integrated_brier_score(time_grid)"
      ],
      "execution_count": 173,
      "outputs": [
        {
          "output_type": "execute_result",
          "data": {
            "text/plain": [
              "0.23276655079011632"
            ]
          },
          "metadata": {
            "tags": []
          },
          "execution_count": 173
        }
      ]
    },
    {
      "cell_type": "code",
      "metadata": {
        "colab": {
          "base_uri": "https://localhost:8080/"
        },
        "id": "7O5MtBC8KwRI",
        "outputId": "cb4ccc4e-076e-4d69-ec21-15cdf950a059"
      },
      "source": [
        "evs1.integrated_nbll(time_grid)"
      ],
      "execution_count": 174,
      "outputs": [
        {
          "output_type": "execute_result",
          "data": {
            "text/plain": [
              "0.67328746243737"
            ]
          },
          "metadata": {
            "tags": []
          },
          "execution_count": 174
        }
      ]
    },
    {
      "cell_type": "code",
      "metadata": {
        "colab": {
          "base_uri": "https://localhost:8080/"
        },
        "id": "21vHBAWQKy69",
        "outputId": "42d3d0d6-940f-4337-8afe-13bbbe127722"
      },
      "source": [
        "evs2.integrated_brier_score(time_grid)"
      ],
      "execution_count": 175,
      "outputs": [
        {
          "output_type": "execute_result",
          "data": {
            "text/plain": [
              "0.19939536218433945"
            ]
          },
          "metadata": {
            "tags": []
          },
          "execution_count": 175
        }
      ]
    },
    {
      "cell_type": "code",
      "metadata": {
        "colab": {
          "base_uri": "https://localhost:8080/"
        },
        "id": "TsbUNvU0K1eh",
        "outputId": "0da2083f-a12c-4b33-e9fa-a469ff330076"
      },
      "source": [
        "evs2.integrated_nbll(time_grid)"
      ],
      "execution_count": 176,
      "outputs": [
        {
          "output_type": "execute_result",
          "data": {
            "text/plain": [
              "0.5894585270334244"
            ]
          },
          "metadata": {
            "tags": []
          },
          "execution_count": 176
        }
      ]
    },
    {
      "cell_type": "code",
      "metadata": {
        "id": "3NprPXRNK3QI"
      },
      "source": [
        ""
      ],
      "execution_count": 176,
      "outputs": []
    }
  ]
}