{
  "nbformat": 4,
  "nbformat_minor": 0,
  "metadata": {
    "colab": {
      "name": "08-AESurv.ipynb",
      "provenance": [],
      "collapsed_sections": [],
      "authorship_tag": "ABX9TyNClMjfhnFA8VobdQWMCBAO",
      "include_colab_link": true
    },
    "kernelspec": {
      "name": "python3",
      "display_name": "Python 3"
    }
  },
  "cells": [
    {
      "cell_type": "markdown",
      "metadata": {
        "id": "view-in-github",
        "colab_type": "text"
      },
      "source": [
        "<a href=\"https://colab.research.google.com/github/chunjie-sam-liu/TEP-prognosis/blob/main/analysis/08_AESurv.ipynb\" target=\"_parent\"><img src=\"https://colab.research.google.com/assets/colab-badge.svg\" alt=\"Open In Colab\"/></a>"
      ]
    },
    {
      "cell_type": "code",
      "metadata": {
        "colab": {
          "base_uri": "https://localhost:8080/"
        },
        "id": "3eHaHjGj_8aw",
        "outputId": "bd29d229-cbbd-412c-d525-cd23574c6f12"
      },
      "source": [
        "! pip install torchtuples\n",
        "! pip install pycox\n",
        "! pip install hiddenlayer"
      ],
      "execution_count": 1,
      "outputs": [
        {
          "output_type": "stream",
          "text": [
            "Collecting torchtuples\n",
            "\u001b[?25l  Downloading https://files.pythonhosted.org/packages/95/70/93eb42c0a46ef94b3885b8e5611a8019d00522a9ab7343d4ca25033afd44/torchtuples-0.2.0-py3-none-any.whl (41kB)\n",
            "\r\u001b[K     |███████▉                        | 10kB 17.5MB/s eta 0:00:01\r\u001b[K     |███████████████▊                | 20kB 22.1MB/s eta 0:00:01\r\u001b[K     |███████████████████████▋        | 30kB 13.0MB/s eta 0:00:01\r\u001b[K     |███████████████████████████████▌| 40kB 10.5MB/s eta 0:00:01\r\u001b[K     |████████████████████████████████| 51kB 4.9MB/s \n",
            "\u001b[?25hRequirement already satisfied: pandas>=0.24.2 in /usr/local/lib/python3.6/dist-packages (from torchtuples) (1.1.5)\n",
            "Requirement already satisfied: numpy>=1.15.4 in /usr/local/lib/python3.6/dist-packages (from torchtuples) (1.19.5)\n",
            "Requirement already satisfied: matplotlib>=3.0.3 in /usr/local/lib/python3.6/dist-packages (from torchtuples) (3.2.2)\n",
            "Requirement already satisfied: python-dateutil>=2.7.3 in /usr/local/lib/python3.6/dist-packages (from pandas>=0.24.2->torchtuples) (2.8.1)\n",
            "Requirement already satisfied: pytz>=2017.2 in /usr/local/lib/python3.6/dist-packages (from pandas>=0.24.2->torchtuples) (2018.9)\n",
            "Requirement already satisfied: pyparsing!=2.0.4,!=2.1.2,!=2.1.6,>=2.0.1 in /usr/local/lib/python3.6/dist-packages (from matplotlib>=3.0.3->torchtuples) (2.4.7)\n",
            "Requirement already satisfied: cycler>=0.10 in /usr/local/lib/python3.6/dist-packages (from matplotlib>=3.0.3->torchtuples) (0.10.0)\n",
            "Requirement already satisfied: kiwisolver>=1.0.1 in /usr/local/lib/python3.6/dist-packages (from matplotlib>=3.0.3->torchtuples) (1.3.1)\n",
            "Requirement already satisfied: six>=1.5 in /usr/local/lib/python3.6/dist-packages (from python-dateutil>=2.7.3->pandas>=0.24.2->torchtuples) (1.15.0)\n",
            "Installing collected packages: torchtuples\n",
            "Successfully installed torchtuples-0.2.0\n",
            "Collecting pycox\n",
            "\u001b[?25l  Downloading https://files.pythonhosted.org/packages/33/33/8166da2d22ff30305aa0c10e0c6124ef5d3b60b5b0418387bb805bd6b751/pycox-0.2.1-py3-none-any.whl (73kB)\n",
            "\u001b[K     |████████████████████████████████| 81kB 5.9MB/s \n",
            "\u001b[?25hRequirement already satisfied: requests>=2.22.0 in /usr/local/lib/python3.6/dist-packages (from pycox) (2.23.0)\n",
            "Requirement already satisfied: feather-format>=0.4.0 in /usr/local/lib/python3.6/dist-packages (from pycox) (0.4.1)\n",
            "Requirement already satisfied: h5py>=2.9.0 in /usr/local/lib/python3.6/dist-packages (from pycox) (2.10.0)\n",
            "Requirement already satisfied: torchtuples>=0.2.0 in /usr/local/lib/python3.6/dist-packages (from pycox) (0.2.0)\n",
            "Requirement already satisfied: scikit-learn>=0.21.2 in /usr/local/lib/python3.6/dist-packages (from pycox) (0.22.2.post1)\n",
            "Requirement already satisfied: numba>=0.44 in /usr/local/lib/python3.6/dist-packages (from pycox) (0.48.0)\n",
            "Requirement already satisfied: idna<3,>=2.5 in /usr/local/lib/python3.6/dist-packages (from requests>=2.22.0->pycox) (2.10)\n",
            "Requirement already satisfied: urllib3!=1.25.0,!=1.25.1,<1.26,>=1.21.1 in /usr/local/lib/python3.6/dist-packages (from requests>=2.22.0->pycox) (1.24.3)\n",
            "Requirement already satisfied: chardet<4,>=3.0.2 in /usr/local/lib/python3.6/dist-packages (from requests>=2.22.0->pycox) (3.0.4)\n",
            "Requirement already satisfied: certifi>=2017.4.17 in /usr/local/lib/python3.6/dist-packages (from requests>=2.22.0->pycox) (2020.12.5)\n",
            "Requirement already satisfied: pyarrow>=0.4.0 in /usr/local/lib/python3.6/dist-packages (from feather-format>=0.4.0->pycox) (0.14.1)\n",
            "Requirement already satisfied: numpy>=1.7 in /usr/local/lib/python3.6/dist-packages (from h5py>=2.9.0->pycox) (1.19.5)\n",
            "Requirement already satisfied: six in /usr/local/lib/python3.6/dist-packages (from h5py>=2.9.0->pycox) (1.15.0)\n",
            "Requirement already satisfied: matplotlib>=3.0.3 in /usr/local/lib/python3.6/dist-packages (from torchtuples>=0.2.0->pycox) (3.2.2)\n",
            "Requirement already satisfied: pandas>=0.24.2 in /usr/local/lib/python3.6/dist-packages (from torchtuples>=0.2.0->pycox) (1.1.5)\n",
            "Requirement already satisfied: joblib>=0.11 in /usr/local/lib/python3.6/dist-packages (from scikit-learn>=0.21.2->pycox) (1.0.0)\n",
            "Requirement already satisfied: scipy>=0.17.0 in /usr/local/lib/python3.6/dist-packages (from scikit-learn>=0.21.2->pycox) (1.4.1)\n",
            "Requirement already satisfied: llvmlite<0.32.0,>=0.31.0dev0 in /usr/local/lib/python3.6/dist-packages (from numba>=0.44->pycox) (0.31.0)\n",
            "Requirement already satisfied: setuptools in /usr/local/lib/python3.6/dist-packages (from numba>=0.44->pycox) (51.1.2)\n",
            "Requirement already satisfied: cycler>=0.10 in /usr/local/lib/python3.6/dist-packages (from matplotlib>=3.0.3->torchtuples>=0.2.0->pycox) (0.10.0)\n",
            "Requirement already satisfied: pyparsing!=2.0.4,!=2.1.2,!=2.1.6,>=2.0.1 in /usr/local/lib/python3.6/dist-packages (from matplotlib>=3.0.3->torchtuples>=0.2.0->pycox) (2.4.7)\n",
            "Requirement already satisfied: python-dateutil>=2.1 in /usr/local/lib/python3.6/dist-packages (from matplotlib>=3.0.3->torchtuples>=0.2.0->pycox) (2.8.1)\n",
            "Requirement already satisfied: kiwisolver>=1.0.1 in /usr/local/lib/python3.6/dist-packages (from matplotlib>=3.0.3->torchtuples>=0.2.0->pycox) (1.3.1)\n",
            "Requirement already satisfied: pytz>=2017.2 in /usr/local/lib/python3.6/dist-packages (from pandas>=0.24.2->torchtuples>=0.2.0->pycox) (2018.9)\n",
            "Installing collected packages: pycox\n",
            "Successfully installed pycox-0.2.1\n",
            "Collecting hiddenlayer\n",
            "  Downloading https://files.pythonhosted.org/packages/64/f8/ea51d02695a4dc397f3b2487fae462cd3f2ce707c54250e0fdfaec2ff92e/hiddenlayer-0.3-py3-none-any.whl\n",
            "Installing collected packages: hiddenlayer\n",
            "Successfully installed hiddenlayer-0.3\n"
          ],
          "name": "stdout"
        }
      ]
    },
    {
      "cell_type": "code",
      "metadata": {
        "id": "K8kS4rko_4zK"
      },
      "source": [
        "import numpy as np\n",
        "import feather\n",
        "import matplotlib.pyplot as plt\n",
        "\n",
        "# For preprocessing\n",
        "from sklearn.preprocessing import StandardScaler\n",
        "from sklearn_pandas import DataFrameMapper\n",
        "\n",
        "import torch\n",
        "from torch import nn\n",
        "import torch.nn.functional as F\n",
        "from torch.nn.modules.linear import Linear\n",
        "import torchtuples as tt\n",
        "\n",
        "from pycox.models import LogisticHazard\n",
        "from pycox.models.loss import NLLLogistiHazardLoss\n",
        "from pycox.evaluation import EvalSurv\n",
        "\n",
        "import os"
      ],
      "execution_count": 2,
      "outputs": []
    },
    {
      "cell_type": "code",
      "metadata": {
        "id": "FFyXnx_tAID4"
      },
      "source": [
        "# random\n",
        "np.random.seed(1234)\n",
        "_ = torch.manual_seed(1234)"
      ],
      "execution_count": 3,
      "outputs": []
    },
    {
      "cell_type": "code",
      "metadata": {
        "id": "8qFqbfHMAVkR"
      },
      "source": [
        "class NetAESurv(nn.Module):\n",
        "    def __init__(self, in_features, encoded_features, out_features):\n",
        "        super().__init__()\n",
        "\n",
        "        # Encoder\n",
        "        self.encoder = nn.Sequential(\n",
        "            nn.Linear(in_features, 2048),\n",
        "            nn.ReLU(),\n",
        "            nn.Linear(2048, 1024),\n",
        "            nn.ReLU(),\n",
        "            nn.Linear(1024, 512),\n",
        "            nn.ReLU(),\n",
        "            nn.Linear(512, 256),\n",
        "            nn.ReLU(),\n",
        "            nn.Linear(256, 128),\n",
        "            nn.ReLU(),\n",
        "            nn.Linear(128, encoded_features),\n",
        "        )\n",
        "\n",
        "        # Decoder\n",
        "        self.decoder = nn.Sequential(\n",
        "            nn.Linear(encoded_features, 128),\n",
        "            nn.ReLU(),\n",
        "            nn.Linear(128, 256),\n",
        "            nn.ReLU(),\n",
        "            nn.Linear(256, 512),\n",
        "            nn.ReLU(),\n",
        "            nn.Linear(512, 1024),\n",
        "            nn.ReLU(),\n",
        "            nn.Linear(1024, 2048),\n",
        "            nn.ReLU(),\n",
        "            nn.Linear(2048, in_features),\n",
        "        )\n",
        "\n",
        "        # Full connection\n",
        "        self.survnet = nn.Sequential(\n",
        "            nn.Linear(encoded_features, 64),\n",
        "            nn.ReLU(),\n",
        "            nn.Linear(64, 64),\n",
        "            nn.ReLU(),\n",
        "            nn.Linear(64, 64),\n",
        "            nn.ReLU(),\n",
        "            nn.Linear(64, out_features),\n",
        "        )\n",
        "\n",
        "    def forward(self, input):\n",
        "        encoded = self.encoder(input)\n",
        "        decoded = self.decoder(encoded)\n",
        "        phi = self.survnet(encoded)\n",
        "        return phi, decoded\n",
        "\n",
        "    def predict(self, input):\n",
        "        encoded = self.encoder(input)\n",
        "        return self.survnet(encoded)\n"
      ],
      "execution_count": 4,
      "outputs": []
    },
    {
      "cell_type": "code",
      "metadata": {
        "id": "jAYpU9O-AZta"
      },
      "source": [
        "class LossAELogHaz(nn.Module):\n",
        "    def __init__(self, alpha):\n",
        "        super().__init__()\n",
        "        assert (alpha >= 0) and (alpha <= 1), \"Need `alpha` in [0, 1].\"\n",
        "        self.alpha = alpha\n",
        "        self.loss_surv = NLLLogistiHazardLoss()\n",
        "        self.loss_ae = nn.MSELoss()\n",
        "\n",
        "    def forward(self, phi, decoded, target_loghaz, target_ae):\n",
        "        idx_durations, events = target_loghaz\n",
        "        loss_surv = self.loss_surv(phi, idx_durations, events)\n",
        "        loss_ae = self.loss_ae(decoded, target_ae)\n",
        "        return self.alpha * loss_surv + (1 - self.alpha) * loss_ae\n"
      ],
      "execution_count": 5,
      "outputs": []
    },
    {
      "cell_type": "code",
      "metadata": {
        "id": "GSwuwhfpAa-x"
      },
      "source": [
        "def load_data(filepath):\n",
        "    df = feather.read_dataframe(source=filepath)\n",
        "    df_train = df.loc[df.oc == \"OC521\"].drop(columns=[\"barcode\", \"oc\"], axis=1)\n",
        "    df_val = df.loc[df.oc == \"OC44\"].drop(columns=[\"barcode\", \"oc\"], axis=1)\n",
        "    df_test1 = df.loc[df.oc == \"OC79\"].drop(columns=[\"barcode\", \"oc\"], axis=1)\n",
        "    df_test2 = df.loc[df.oc == \"OC172\"].drop(columns=[\"barcode\", \"oc\"], axis=1)\n",
        "    return df_train, df_val, df_test1, df_test2\n",
        "\n",
        "\n",
        "def get_target(df):\n",
        "    return (df[\"duration\"].values, df[\"event\"].values)\n",
        "\n",
        "\n",
        "def transform_features(df_train, df_val, df_test1, df_test2):\n",
        "    columns = df_train.columns\n",
        "    columns = columns[: len(columns) - 2]\n",
        "    standardize = [([col], StandardScaler()) for col in columns]\n",
        "\n",
        "    x_mapper = DataFrameMapper(standardize)\n",
        "\n",
        "    x_train = x_mapper.fit_transform(df_train).astype(\"float32\")\n",
        "    x_val = x_mapper.transform(df_val).astype(\"float32\")\n",
        "    x_test1 = x_mapper.transform(df_test1).astype(\"float32\")\n",
        "    x_test2 = x_mapper.transform(df_test2).astype(\"float32\")\n",
        "\n",
        "    return x_train, x_val, x_test1, x_test2\n",
        "\n",
        "\n",
        "def transform_labels(df_train, df_val, nd=10):\n",
        "    num_durations = nd\n",
        "    labtrans = LogisticHazard.label_transform(num_durations)\n",
        "    y_train_surv = labtrans.fit_transform(*get_target(df_train))\n",
        "    y_val_surv = labtrans.transform(*get_target(df_val))\n",
        "\n",
        "    return y_train_surv, y_val_surv, labtrans\n"
      ],
      "execution_count": 6,
      "outputs": []
    },
    {
      "cell_type": "code",
      "metadata": {
        "colab": {
          "base_uri": "https://localhost:8080/"
        },
        "id": "CQROz4CWCBzz",
        "outputId": "9e416722-1814-4710-d112-4b11cdf4cfeb"
      },
      "source": [
        "from google.colab import drive\n",
        "drive.mount('/content/drive')"
      ],
      "execution_count": 7,
      "outputs": [
        {
          "output_type": "stream",
          "text": [
            "Mounted at /content/drive\n"
          ],
          "name": "stdout"
        }
      ]
    },
    {
      "cell_type": "code",
      "metadata": {
        "id": "Rme6b6nFApwI"
      },
      "source": [
        "filepath=\"/content/drive/MyDrive/colab-data/total416.os.se.norm.feather\""
      ],
      "execution_count": 8,
      "outputs": []
    },
    {
      "cell_type": "code",
      "metadata": {
        "id": "ckeNJX8eAdiO"
      },
      "source": [
        "# load data\n",
        "df_train, df_val, df_test1, df_test2 = load_data(filepath)\n",
        "# transform features\n",
        "x_train, x_val, x_test1, x_test2 = transform_features(df_train, df_val, df_test1, df_test2)\n",
        "# transform labels\n",
        "y_train_surv, y_val_surv, labtrans = transform_labels(df_train, df_val)"
      ],
      "execution_count": 9,
      "outputs": []
    },
    {
      "cell_type": "code",
      "metadata": {
        "id": "gS2tDcGuAtXh"
      },
      "source": [
        "# make train and validation datasets with tuplefy\n",
        "train = tt.tuplefy(x_train, (y_train_surv, x_train))\n",
        "val = tt.tuplefy(x_val, (y_val_surv, x_val))"
      ],
      "execution_count": 10,
      "outputs": []
    },
    {
      "cell_type": "code",
      "metadata": {
        "id": "IHVKWaDUJuQ0"
      },
      "source": [
        "durations_test1, events_test1 = get_target(df_test1)\n",
        "durations_test2, events_test2 = get_target(df_test2)"
      ],
      "execution_count": 11,
      "outputs": []
    },
    {
      "cell_type": "code",
      "metadata": {
        "id": "_85i-DMuFQeN"
      },
      "source": [
        "# set arch\n",
        "in_features = x_train.shape[1]\n",
        "encoded_features = 64\n",
        "out_features = labtrans.out_features\n",
        "netaesurv = NetAESurv(in_features, encoded_features, out_features)"
      ],
      "execution_count": 12,
      "outputs": []
    },
    {
      "cell_type": "code",
      "metadata": {
        "colab": {
          "base_uri": "https://localhost:8080/"
        },
        "id": "0lBjpxthFVne",
        "outputId": "3a4c2d30-fcf7-44b3-f20d-0c2bad5270df"
      },
      "source": [
        "netaesurv"
      ],
      "execution_count": 13,
      "outputs": [
        {
          "output_type": "execute_result",
          "data": {
            "text/plain": [
              "NetAESurv(\n",
              "  (encoder): Sequential(\n",
              "    (0): Linear(in_features=6636, out_features=2048, bias=True)\n",
              "    (1): ReLU()\n",
              "    (2): Linear(in_features=2048, out_features=1024, bias=True)\n",
              "    (3): ReLU()\n",
              "    (4): Linear(in_features=1024, out_features=512, bias=True)\n",
              "    (5): ReLU()\n",
              "    (6): Linear(in_features=512, out_features=256, bias=True)\n",
              "    (7): ReLU()\n",
              "    (8): Linear(in_features=256, out_features=128, bias=True)\n",
              "    (9): ReLU()\n",
              "    (10): Linear(in_features=128, out_features=64, bias=True)\n",
              "  )\n",
              "  (decoder): Sequential(\n",
              "    (0): Linear(in_features=64, out_features=128, bias=True)\n",
              "    (1): ReLU()\n",
              "    (2): Linear(in_features=128, out_features=256, bias=True)\n",
              "    (3): ReLU()\n",
              "    (4): Linear(in_features=256, out_features=512, bias=True)\n",
              "    (5): ReLU()\n",
              "    (6): Linear(in_features=512, out_features=1024, bias=True)\n",
              "    (7): ReLU()\n",
              "    (8): Linear(in_features=1024, out_features=2048, bias=True)\n",
              "    (9): ReLU()\n",
              "    (10): Linear(in_features=2048, out_features=6636, bias=True)\n",
              "  )\n",
              "  (survnet): Sequential(\n",
              "    (0): Linear(in_features=64, out_features=64, bias=True)\n",
              "    (1): ReLU()\n",
              "    (2): Linear(in_features=64, out_features=64, bias=True)\n",
              "    (3): ReLU()\n",
              "    (4): Linear(in_features=64, out_features=64, bias=True)\n",
              "    (5): ReLU()\n",
              "    (6): Linear(in_features=64, out_features=10, bias=True)\n",
              "  )\n",
              ")"
            ]
          },
          "metadata": {
            "tags": []
          },
          "execution_count": 13
        }
      ]
    },
    {
      "cell_type": "code",
      "metadata": {
        "colab": {
          "base_uri": "https://localhost:8080/"
        },
        "id": "uSVHR4xC6kPa",
        "outputId": "2018db37-b86f-4324-957a-ce38449c7a48"
      },
      "source": [
        "from torchsummary import summary\n",
        "summary(model=netaesurv, input_size=(1, in_features))"
      ],
      "execution_count": 14,
      "outputs": [
        {
          "output_type": "stream",
          "text": [
            "----------------------------------------------------------------\n",
            "        Layer (type)               Output Shape         Param #\n",
            "================================================================\n",
            "            Linear-1              [-1, 1, 2048]      13,592,576\n",
            "              ReLU-2              [-1, 1, 2048]               0\n",
            "            Linear-3              [-1, 1, 1024]       2,098,176\n",
            "              ReLU-4              [-1, 1, 1024]               0\n",
            "            Linear-5               [-1, 1, 512]         524,800\n",
            "              ReLU-6               [-1, 1, 512]               0\n",
            "            Linear-7               [-1, 1, 256]         131,328\n",
            "              ReLU-8               [-1, 1, 256]               0\n",
            "            Linear-9               [-1, 1, 128]          32,896\n",
            "             ReLU-10               [-1, 1, 128]               0\n",
            "           Linear-11                [-1, 1, 64]           8,256\n",
            "           Linear-12               [-1, 1, 128]           8,320\n",
            "             ReLU-13               [-1, 1, 128]               0\n",
            "           Linear-14               [-1, 1, 256]          33,024\n",
            "             ReLU-15               [-1, 1, 256]               0\n",
            "           Linear-16               [-1, 1, 512]         131,584\n",
            "             ReLU-17               [-1, 1, 512]               0\n",
            "           Linear-18              [-1, 1, 1024]         525,312\n",
            "             ReLU-19              [-1, 1, 1024]               0\n",
            "           Linear-20              [-1, 1, 2048]       2,099,200\n",
            "             ReLU-21              [-1, 1, 2048]               0\n",
            "           Linear-22              [-1, 1, 6636]      13,597,164\n",
            "           Linear-23                [-1, 1, 64]           4,160\n",
            "             ReLU-24                [-1, 1, 64]               0\n",
            "           Linear-25                [-1, 1, 64]           4,160\n",
            "             ReLU-26                [-1, 1, 64]               0\n",
            "           Linear-27                [-1, 1, 64]           4,160\n",
            "             ReLU-28                [-1, 1, 64]               0\n",
            "           Linear-29                [-1, 1, 10]             650\n",
            "================================================================\n",
            "Total params: 32,795,766\n",
            "Trainable params: 32,795,766\n",
            "Non-trainable params: 0\n",
            "----------------------------------------------------------------\n",
            "Input size (MB): 0.03\n",
            "Forward/backward pass size (MB): 0.18\n",
            "Params size (MB): 125.11\n",
            "Estimated Total Size (MB): 125.31\n",
            "----------------------------------------------------------------\n"
          ],
          "name": "stdout"
        }
      ]
    },
    {
      "cell_type": "code",
      "metadata": {
        "colab": {
          "base_uri": "https://localhost:8080/",
          "height": 258
        },
        "id": "_5AwTlBi6w8U",
        "outputId": "5d0d0571-03b8-4303-963d-307a0f3db89e"
      },
      "source": [
        "import hiddenlayer as hl\n",
        "hl.build_graph(netaesurv, torch.zeros([1, in_features]))"
      ],
      "execution_count": 15,
      "outputs": [
        {
          "output_type": "execute_result",
          "data": {
            "text/plain": [
              "<hiddenlayer.graph.Graph at 0x7fc465549160>"
            ],
            "image/svg+xml": "<?xml version=\"1.0\" encoding=\"UTF-8\" standalone=\"no\"?>\n<!DOCTYPE svg PUBLIC \"-//W3C//DTD SVG 1.1//EN\"\n \"http://www.w3.org/Graphics/SVG/1.1/DTD/svg11.dtd\">\n<!-- Generated by graphviz version 2.40.1 (20161225.0304)\n -->\n<!-- Title: %3 Pages: 1 -->\n<svg width=\"504pt\" height=\"178pt\"\n viewBox=\"0.00 0.00 504.00 178.00\" xmlns=\"http://www.w3.org/2000/svg\" xmlns:xlink=\"http://www.w3.org/1999/xlink\">\n<g id=\"graph0\" class=\"graph\" transform=\"scale(1 1) rotate(0) translate(72 142)\">\n<title>%3</title>\n<polygon fill=\"#ffffff\" stroke=\"transparent\" points=\"-72,36 -72,-142 432,-142 432,36 -72,36\"/>\n<!-- /outputs/43 -->\n<g id=\"node1\" class=\"node\">\n<title>/outputs/43</title>\n<polygon fill=\"#e8e8e8\" stroke=\"#000000\" points=\"162,-71 108,-71 108,-35 162,-35 162,-71\"/>\n<text text-anchor=\"start\" x=\"122\" y=\"-50\" font-family=\"Times\" font-size=\"10.00\" fill=\"#000000\">Linear</text>\n</g>\n<!-- 10782140007425011739 -->\n<g id=\"node4\" class=\"node\">\n<title>10782140007425011739</title>\n<polygon fill=\"#e8e8e8\" stroke=\"#000000\" points=\"270,-106 198,-106 198,-62 270,-62 270,-106\"/>\n<text text-anchor=\"start\" x=\"206\" y=\"-90\" font-family=\"Times\" font-size=\"10.00\" fill=\"#000000\">Linear &gt; Relu</text>\n<text text-anchor=\"start\" x=\"255\" y=\"-69\" font-family=\"Times\" font-size=\"10.00\" fill=\"#000000\">x3</text>\n</g>\n<!-- /outputs/43&#45;&gt;10782140007425011739 -->\n<g id=\"edge1\" class=\"edge\">\n<title>/outputs/43&#45;&gt;10782140007425011739</title>\n<path fill=\"none\" stroke=\"#000000\" d=\"M162.0522,-61.4709C170.1245,-63.9986 179.2072,-66.8427 188.1316,-69.6372\"/>\n<polygon fill=\"#000000\" stroke=\"#000000\" points=\"187.1092,-72.9845 197.6982,-72.6328 189.201,-66.3044 187.1092,-72.9845\"/>\n</g>\n<!-- 12186608885171480607 -->\n<g id=\"node6\" class=\"node\">\n<title>12186608885171480607</title>\n<polygon fill=\"#e8e8e8\" stroke=\"#000000\" points=\"270,-44 198,-44 198,0 270,0 270,-44\"/>\n<text text-anchor=\"start\" x=\"206\" y=\"-28\" font-family=\"Times\" font-size=\"10.00\" fill=\"#000000\">Linear &gt; Relu</text>\n<text text-anchor=\"start\" x=\"255\" y=\"-7\" font-family=\"Times\" font-size=\"10.00\" fill=\"#000000\">x5</text>\n</g>\n<!-- /outputs/43&#45;&gt;12186608885171480607 -->\n<g id=\"edge4\" class=\"edge\">\n<title>/outputs/43&#45;&gt;12186608885171480607</title>\n<path fill=\"none\" stroke=\"#000000\" d=\"M162.0522,-44.5291C170.1245,-42.0014 179.2072,-39.1573 188.1316,-36.3628\"/>\n<polygon fill=\"#000000\" stroke=\"#000000\" points=\"189.201,-39.6956 197.6982,-33.3672 187.1092,-33.0155 189.201,-39.6956\"/>\n</g>\n<!-- /outputs/54 -->\n<g id=\"node2\" class=\"node\">\n<title>/outputs/54</title>\n<polygon fill=\"#e8e8e8\" stroke=\"#000000\" points=\"360,-40 306,-40 306,-4 360,-4 360,-40\"/>\n<text text-anchor=\"start\" x=\"320\" y=\"-19\" font-family=\"Times\" font-size=\"10.00\" fill=\"#000000\">Linear</text>\n</g>\n<!-- /outputs/61 -->\n<g id=\"node3\" class=\"node\">\n<title>/outputs/61</title>\n<polygon fill=\"#e8e8e8\" stroke=\"#000000\" points=\"360,-102 306,-102 306,-66 360,-66 360,-102\"/>\n<text text-anchor=\"start\" x=\"320\" y=\"-81\" font-family=\"Times\" font-size=\"10.00\" fill=\"#000000\">Linear</text>\n</g>\n<!-- 10782140007425011739&#45;&gt;/outputs/61 -->\n<g id=\"edge2\" class=\"edge\">\n<title>10782140007425011739&#45;&gt;/outputs/61</title>\n<path fill=\"none\" stroke=\"#000000\" d=\"M270.0213,-84C278.3402,-84 287.2088,-84 295.5856,-84\"/>\n<polygon fill=\"#000000\" stroke=\"#000000\" points=\"295.8548,-87.5001 305.8547,-84 295.8547,-80.5001 295.8548,-87.5001\"/>\n</g>\n<!-- 4778020718748450950 -->\n<g id=\"node5\" class=\"node\">\n<title>4778020718748450950</title>\n<polygon fill=\"#e8e8e8\" stroke=\"#000000\" points=\"72,-75 0,-75 0,-31 72,-31 72,-75\"/>\n<text text-anchor=\"start\" x=\"8\" y=\"-59\" font-family=\"Times\" font-size=\"10.00\" fill=\"#000000\">Linear &gt; Relu</text>\n<text text-anchor=\"start\" x=\"57\" y=\"-38\" font-family=\"Times\" font-size=\"10.00\" fill=\"#000000\">x5</text>\n</g>\n<!-- 4778020718748450950&#45;&gt;/outputs/43 -->\n<g id=\"edge3\" class=\"edge\">\n<title>4778020718748450950&#45;&gt;/outputs/43</title>\n<path fill=\"none\" stroke=\"#000000\" d=\"M72.0213,-53C80.3402,-53 89.2088,-53 97.5856,-53\"/>\n<polygon fill=\"#000000\" stroke=\"#000000\" points=\"97.8548,-56.5001 107.8547,-53 97.8547,-49.5001 97.8548,-56.5001\"/>\n</g>\n<!-- 12186608885171480607&#45;&gt;/outputs/54 -->\n<g id=\"edge5\" class=\"edge\">\n<title>12186608885171480607&#45;&gt;/outputs/54</title>\n<path fill=\"none\" stroke=\"#000000\" d=\"M270.0213,-22C278.3402,-22 287.2088,-22 295.5856,-22\"/>\n<polygon fill=\"#000000\" stroke=\"#000000\" points=\"295.8548,-25.5001 305.8547,-22 295.8547,-18.5001 295.8548,-25.5001\"/>\n</g>\n</g>\n</svg>\n"
          },
          "metadata": {
            "tags": []
          },
          "execution_count": 15
        }
      ]
    },
    {
      "cell_type": "code",
      "metadata": {
        "id": "xmW0eWTUFW_l"
      },
      "source": [
        "# loss\n",
        "loss = LossAELogHaz(0.6)"
      ],
      "execution_count": 16,
      "outputs": []
    },
    {
      "cell_type": "code",
      "metadata": {
        "colab": {
          "base_uri": "https://localhost:8080/"
        },
        "id": "GztAp5qfFkqG",
        "outputId": "209d6071-f365-4c3c-91f6-15b304c7b189"
      },
      "source": [
        "loss"
      ],
      "execution_count": 17,
      "outputs": [
        {
          "output_type": "execute_result",
          "data": {
            "text/plain": [
              "LossAELogHaz(\n",
              "  (loss_surv): NLLLogistiHazardLoss()\n",
              "  (loss_ae): MSELoss()\n",
              ")"
            ]
          },
          "metadata": {
            "tags": []
          },
          "execution_count": 17
        }
      ]
    },
    {
      "cell_type": "code",
      "metadata": {
        "id": "FKVSa6u-Flut"
      },
      "source": [
        "# model\n",
        "model = LogisticHazard(net=netaesurv, optimizer=tt.optim.Adam(0.01), duration_index=labtrans.cuts, loss=loss)"
      ],
      "execution_count": 18,
      "outputs": []
    },
    {
      "cell_type": "code",
      "metadata": {
        "colab": {
          "base_uri": "https://localhost:8080/"
        },
        "id": "CHTHX5wNFocW",
        "outputId": "03ad1f06-a771-477f-954f-ac16211a778d"
      },
      "source": [
        "# metrics\n",
        "metrics = dict(loss_surv=LossAELogHaz(1), loss_ae=LossAELogHaz(0))\n",
        "\n",
        "# callbacks\n",
        "callbacks = [tt.cb.EarlyStopping()]\n",
        "\n",
        "# cycling\n",
        "batch_size = 5\n",
        "epochs = 100\n",
        "\n",
        "# trainning model\n",
        "log = model.fit(\n",
        "    *train, batch_size=batch_size, epochs=epochs,  verbose=True, val_data=val, metrics=metrics\n",
        ")"
      ],
      "execution_count": 19,
      "outputs": [
        {
          "output_type": "stream",
          "text": [
            "0:\t[19s / 19s],\t\ttrain_loss: 78.5236,\ttrain_loss_surv: 1.6166,\ttrain_loss_ae: 193.8842,\tval_loss: 1.2073,\tval_loss_surv: 1.2210,\tval_loss_ae: 1.1867\n",
            "1:\t[18s / 37s],\t\ttrain_loss: 3.1899,\ttrain_loss_surv: 1.0980,\ttrain_loss_ae: 6.3276,\tval_loss: 1.4693,\tval_loss_surv: 1.2289,\tval_loss_ae: 1.8298\n",
            "2:\t[18s / 56s],\t\ttrain_loss: 1608.3686,\ttrain_loss_surv: 1.0817,\ttrain_loss_ae: 4019.2991,\tval_loss: 42.6363,\tval_loss_surv: 1.2184,\tval_loss_ae: 104.7632\n",
            "3:\t[18s / 1m:14s],\t\ttrain_loss: 71.2216,\ttrain_loss_surv: 1.0962,\ttrain_loss_ae: 176.4098,\tval_loss: 2949.0327,\tval_loss_surv: 1.3234,\tval_loss_ae: 7370.5967\n",
            "4:\t[18s / 1m:33s],\t\ttrain_loss: 482.0427,\ttrain_loss_surv: 1.0524,\ttrain_loss_ae: 1203.5281,\tval_loss: 1.1082,\tval_loss_surv: 1.2688,\tval_loss_ae: 0.8672\n",
            "5:\t[18s / 1m:51s],\t\ttrain_loss: 1.0319,\ttrain_loss_surv: 1.0463,\ttrain_loss_ae: 1.0103,\tval_loss: 1.1066,\tval_loss_surv: 1.2791,\tval_loss_ae: 0.8478\n",
            "6:\t[18s / 2m:10s],\t\ttrain_loss: 1.0281,\ttrain_loss_surv: 1.0458,\ttrain_loss_ae: 1.0016,\tval_loss: 1.0833,\tval_loss_surv: 1.2406,\tval_loss_ae: 0.8472\n",
            "7:\t[18s / 2m:29s],\t\ttrain_loss: 1.0343,\ttrain_loss_surv: 1.0551,\ttrain_loss_ae: 1.0030,\tval_loss: 1.1125,\tval_loss_surv: 1.2896,\tval_loss_ae: 0.8468\n",
            "8:\t[18s / 2m:47s],\t\ttrain_loss: 1.0228,\ttrain_loss_surv: 1.0375,\ttrain_loss_ae: 1.0009,\tval_loss: 1.0827,\tval_loss_surv: 1.2399,\tval_loss_ae: 0.8470\n",
            "9:\t[18s / 3m:6s],\t\ttrain_loss: 1.0210,\ttrain_loss_surv: 1.0326,\ttrain_loss_ae: 1.0036,\tval_loss: 1.0906,\tval_loss_surv: 1.2536,\tval_loss_ae: 0.8460\n",
            "10:\t[18s / 3m:25s],\t\ttrain_loss: 1.0237,\ttrain_loss_surv: 1.0373,\ttrain_loss_ae: 1.0032,\tval_loss: 1.0866,\tval_loss_surv: 1.2476,\tval_loss_ae: 0.8450\n",
            "11:\t[23s / 3m:48s],\t\ttrain_loss: 1.0228,\ttrain_loss_surv: 1.0397,\ttrain_loss_ae: 0.9974,\tval_loss: 1.0643,\tval_loss_surv: 1.2106,\tval_loss_ae: 0.8448\n",
            "12:\t[33s / 4m:22s],\t\ttrain_loss: 1.0198,\ttrain_loss_surv: 1.0334,\ttrain_loss_ae: 0.9994,\tval_loss: 1.0918,\tval_loss_surv: 1.2563,\tval_loss_ae: 0.8451\n",
            "13:\t[41s / 5m:3s],\t\ttrain_loss: 1.0261,\ttrain_loss_surv: 1.0423,\ttrain_loss_ae: 1.0018,\tval_loss: 1.0702,\tval_loss_surv: 1.2204,\tval_loss_ae: 0.8449\n",
            "14:\t[43s / 5m:47s],\t\ttrain_loss: 1.0230,\ttrain_loss_surv: 1.0400,\ttrain_loss_ae: 0.9974,\tval_loss: 1.0686,\tval_loss_surv: 1.2179,\tval_loss_ae: 0.8447\n",
            "15:\t[43s / 6m:31s],\t\ttrain_loss: 1.0176,\ttrain_loss_surv: 1.0292,\ttrain_loss_ae: 1.0003,\tval_loss: 1.0777,\tval_loss_surv: 1.2329,\tval_loss_ae: 0.8449\n",
            "16:\t[43s / 7m:15s],\t\ttrain_loss: 1.0185,\ttrain_loss_surv: 1.0295,\ttrain_loss_ae: 1.0021,\tval_loss: 1.0892,\tval_loss_surv: 1.2521,\tval_loss_ae: 0.8448\n",
            "17:\t[47s / 8m:2s],\t\ttrain_loss: 1.0197,\ttrain_loss_surv: 1.0292,\ttrain_loss_ae: 1.0055,\tval_loss: 1.1056,\tval_loss_surv: 1.2792,\tval_loss_ae: 0.8452\n",
            "18:\t[56s / 8m:59s],\t\ttrain_loss: 1.0347,\ttrain_loss_surv: 1.0521,\ttrain_loss_ae: 1.0085,\tval_loss: 1.0645,\tval_loss_surv: 1.2111,\tval_loss_ae: 0.8447\n",
            "19:\t[55s / 9m:54s],\t\ttrain_loss: 1.0216,\ttrain_loss_surv: 1.0370,\ttrain_loss_ae: 0.9985,\tval_loss: 1.0808,\tval_loss_surv: 1.2382,\tval_loss_ae: 0.8448\n",
            "20:\t[52s / 10m:46s],\t\ttrain_loss: 1.0219,\ttrain_loss_surv: 1.0360,\ttrain_loss_ae: 1.0006,\tval_loss: 1.1025,\tval_loss_surv: 1.2742,\tval_loss_ae: 0.8450\n",
            "21:\t[46s / 11m:33s],\t\ttrain_loss: 1.0221,\ttrain_loss_surv: 1.0306,\ttrain_loss_ae: 1.0092,\tval_loss: 1.0826,\tval_loss_surv: 1.2414,\tval_loss_ae: 0.8444\n",
            "22:\t[45s / 12m:19s],\t\ttrain_loss: 1.0204,\ttrain_loss_surv: 1.0334,\ttrain_loss_ae: 1.0009,\tval_loss: 1.1163,\tval_loss_surv: 1.2974,\tval_loss_ae: 0.8445\n",
            "23:\t[45s / 13m:4s],\t\ttrain_loss: 1.0206,\ttrain_loss_surv: 1.0334,\ttrain_loss_ae: 1.0015,\tval_loss: 1.0933,\tval_loss_surv: 1.2588,\tval_loss_ae: 0.8450\n",
            "24:\t[45s / 13m:50s],\t\ttrain_loss: 1.0224,\ttrain_loss_surv: 1.0338,\ttrain_loss_ae: 1.0052,\tval_loss: 1.0966,\tval_loss_surv: 1.2646,\tval_loss_ae: 0.8445\n",
            "25:\t[45s / 14m:36s],\t\ttrain_loss: 1.0321,\ttrain_loss_surv: 1.0459,\ttrain_loss_ae: 1.0114,\tval_loss: 1.0897,\tval_loss_surv: 1.2523,\tval_loss_ae: 0.8459\n",
            "27:\t[45s / 16m:8s],\t\ttrain_loss: 1.0154,\ttrain_loss_surv: 1.0267,\ttrain_loss_ae: 0.9984,\tval_loss: 1.0956,\tval_loss_surv: 1.2626,\tval_loss_ae: 0.8451\n",
            "28:\t[46s / 16m:54s],\t\ttrain_loss: 1.0236,\ttrain_loss_surv: 1.0343,\ttrain_loss_ae: 1.0075,\tval_loss: 1.0877,\tval_loss_surv: 1.2497,\tval_loss_ae: 0.8449\n",
            "29:\t[45s / 17m:40s],\t\ttrain_loss: 1.0222,\ttrain_loss_surv: 1.0408,\ttrain_loss_ae: 0.9943,\tval_loss: 1.0928,\tval_loss_surv: 1.2582,\tval_loss_ae: 0.8447\n",
            "30:\t[45s / 18m:26s],\t\ttrain_loss: 1.0237,\ttrain_loss_surv: 1.0376,\ttrain_loss_ae: 1.0028,\tval_loss: 1.0895,\tval_loss_surv: 1.2528,\tval_loss_ae: 0.8445\n",
            "31:\t[45s / 19m:11s],\t\ttrain_loss: 1.0149,\ttrain_loss_surv: 1.0262,\ttrain_loss_ae: 0.9980,\tval_loss: 1.0984,\tval_loss_surv: 1.2675,\tval_loss_ae: 0.8447\n",
            "32:\t[45s / 19m:57s],\t\ttrain_loss: 1.0185,\ttrain_loss_surv: 1.0303,\ttrain_loss_ae: 1.0010,\tval_loss: 1.1067,\tval_loss_surv: 1.2814,\tval_loss_ae: 0.8447\n",
            "33:\t[45s / 20m:43s],\t\ttrain_loss: 1.0190,\ttrain_loss_surv: 1.0338,\ttrain_loss_ae: 0.9968,\tval_loss: 1.1119,\tval_loss_surv: 1.2900,\tval_loss_ae: 0.8447\n",
            "34:\t[45s / 21m:29s],\t\ttrain_loss: 1.0159,\ttrain_loss_surv: 1.0230,\ttrain_loss_ae: 1.0052,\tval_loss: 1.0849,\tval_loss_surv: 1.2451,\tval_loss_ae: 0.8446\n",
            "35:\t[45s / 22m:15s],\t\ttrain_loss: 1.0185,\ttrain_loss_surv: 1.0250,\ttrain_loss_ae: 1.0086,\tval_loss: 1.0825,\tval_loss_surv: 1.2409,\tval_loss_ae: 0.8449\n",
            "36:\t[45s / 23m:1s],\t\ttrain_loss: 1.0168,\ttrain_loss_surv: 1.0265,\ttrain_loss_ae: 1.0023,\tval_loss: 1.1029,\tval_loss_surv: 1.2752,\tval_loss_ae: 0.8444\n",
            "37:\t[46s / 23m:47s],\t\ttrain_loss: 1.0173,\ttrain_loss_surv: 1.0309,\ttrain_loss_ae: 0.9968,\tval_loss: 1.0927,\tval_loss_surv: 1.2581,\tval_loss_ae: 0.8446\n",
            "38:\t[46s / 24m:33s],\t\ttrain_loss: 1.0237,\ttrain_loss_surv: 1.0394,\ttrain_loss_ae: 1.0003,\tval_loss: 1.0780,\tval_loss_surv: 1.2337,\tval_loss_ae: 0.8445\n",
            "39:\t[46s / 25m:19s],\t\ttrain_loss: 1.0221,\ttrain_loss_surv: 1.0359,\ttrain_loss_ae: 1.0015,\tval_loss: 1.0927,\tval_loss_surv: 1.2580,\tval_loss_ae: 0.8447\n",
            "40:\t[45s / 26m:5s],\t\ttrain_loss: 1.0234,\ttrain_loss_surv: 1.0396,\ttrain_loss_ae: 0.9991,\tval_loss: 1.0902,\tval_loss_surv: 1.2537,\tval_loss_ae: 0.8448\n",
            "41:\t[46s / 26m:51s],\t\ttrain_loss: 1.0139,\ttrain_loss_surv: 1.0255,\ttrain_loss_ae: 0.9965,\tval_loss: 1.0952,\tval_loss_surv: 1.2620,\tval_loss_ae: 0.8450\n",
            "42:\t[45s / 27m:37s],\t\ttrain_loss: 1.0222,\ttrain_loss_surv: 1.0364,\ttrain_loss_ae: 1.0009,\tval_loss: 1.0910,\tval_loss_surv: 1.2552,\tval_loss_ae: 0.8446\n",
            "43:\t[45s / 28m:22s],\t\ttrain_loss: 1.0208,\ttrain_loss_surv: 1.0372,\ttrain_loss_ae: 0.9962,\tval_loss: 1.0782,\tval_loss_surv: 1.2337,\tval_loss_ae: 0.8448\n",
            "44:\t[45s / 29m:8s],\t\ttrain_loss: 1.0188,\ttrain_loss_surv: 1.0310,\ttrain_loss_ae: 1.0006,\tval_loss: 1.0859,\tval_loss_surv: 1.2469,\tval_loss_ae: 0.8445\n",
            "45:\t[45s / 29m:53s],\t\ttrain_loss: 1.0154,\ttrain_loss_surv: 1.0276,\ttrain_loss_ae: 0.9971,\tval_loss: 1.0802,\tval_loss_surv: 1.2372,\tval_loss_ae: 0.8447\n",
            "46:\t[45s / 30m:39s],\t\ttrain_loss: 1.0222,\ttrain_loss_surv: 1.0391,\ttrain_loss_ae: 0.9969,\tval_loss: 1.0997,\tval_loss_surv: 1.2698,\tval_loss_ae: 0.8444\n",
            "47:\t[45s / 31m:25s],\t\ttrain_loss: 1.0229,\ttrain_loss_surv: 1.0349,\ttrain_loss_ae: 1.0049,\tval_loss: 1.1008,\tval_loss_surv: 1.2717,\tval_loss_ae: 0.8446\n",
            "48:\t[46s / 32m:11s],\t\ttrain_loss: 1.0207,\ttrain_loss_surv: 1.0393,\ttrain_loss_ae: 0.9929,\tval_loss: 1.1106,\tval_loss_surv: 1.2881,\tval_loss_ae: 0.8444\n",
            "49:\t[45s / 32m:57s],\t\ttrain_loss: 1.0209,\ttrain_loss_surv: 1.0346,\ttrain_loss_ae: 1.0002,\tval_loss: 1.0911,\tval_loss_surv: 1.2548,\tval_loss_ae: 0.8456\n",
            "50:\t[45s / 33m:43s],\t\ttrain_loss: 1.0210,\ttrain_loss_surv: 1.0298,\ttrain_loss_ae: 1.0077,\tval_loss: 1.0952,\tval_loss_surv: 1.2618,\tval_loss_ae: 0.8453\n",
            "51:\t[45s / 34m:28s],\t\ttrain_loss: 1.0212,\ttrain_loss_surv: 1.0367,\ttrain_loss_ae: 0.9980,\tval_loss: 1.0895,\tval_loss_surv: 1.2530,\tval_loss_ae: 0.8443\n",
            "52:\t[45s / 35m:14s],\t\ttrain_loss: 1.0142,\ttrain_loss_surv: 1.0269,\ttrain_loss_ae: 0.9951,\tval_loss: 1.0788,\tval_loss_surv: 1.2350,\tval_loss_ae: 0.8444\n",
            "53:\t[45s / 36m:0s],\t\ttrain_loss: 1.0215,\ttrain_loss_surv: 1.0360,\ttrain_loss_ae: 0.9998,\tval_loss: 1.0931,\tval_loss_surv: 1.2589,\tval_loss_ae: 0.8444\n",
            "54:\t[45s / 36m:45s],\t\ttrain_loss: 1.0156,\ttrain_loss_surv: 1.0281,\ttrain_loss_ae: 0.9969,\tval_loss: 1.1067,\tval_loss_surv: 1.2815,\tval_loss_ae: 0.8445\n",
            "55:\t[45s / 37m:31s],\t\ttrain_loss: 1.0155,\ttrain_loss_surv: 1.0253,\ttrain_loss_ae: 1.0007,\tval_loss: 1.0916,\tval_loss_surv: 1.2562,\tval_loss_ae: 0.8447\n",
            "56:\t[45s / 38m:16s],\t\ttrain_loss: 1.0199,\ttrain_loss_surv: 1.0316,\ttrain_loss_ae: 1.0024,\tval_loss: 1.0881,\tval_loss_surv: 1.2497,\tval_loss_ae: 0.8457\n",
            "57:\t[45s / 39m:2s],\t\ttrain_loss: 1.0253,\ttrain_loss_surv: 1.0418,\ttrain_loss_ae: 1.0006,\tval_loss: 1.1066,\tval_loss_surv: 1.2803,\tval_loss_ae: 0.8460\n",
            "58:\t[45s / 39m:48s],\t\ttrain_loss: 1.0199,\ttrain_loss_surv: 1.0322,\ttrain_loss_ae: 1.0013,\tval_loss: 1.1021,\tval_loss_surv: 1.2736,\tval_loss_ae: 0.8449\n",
            "59:\t[45s / 40m:33s],\t\ttrain_loss: 1.0258,\ttrain_loss_surv: 1.0446,\ttrain_loss_ae: 0.9975,\tval_loss: 1.1040,\tval_loss_surv: 1.2771,\tval_loss_ae: 0.8444\n",
            "60:\t[45s / 41m:19s],\t\ttrain_loss: 1.0244,\ttrain_loss_surv: 1.0409,\ttrain_loss_ae: 0.9997,\tval_loss: 1.0976,\tval_loss_surv: 1.2664,\tval_loss_ae: 0.8444\n",
            "61:\t[45s / 42m:5s],\t\ttrain_loss: 1.0126,\ttrain_loss_surv: 1.0195,\ttrain_loss_ae: 1.0022,\tval_loss: 1.0916,\tval_loss_surv: 1.2564,\tval_loss_ae: 0.8443\n",
            "62:\t[45s / 42m:51s],\t\ttrain_loss: 1.0177,\ttrain_loss_surv: 1.0291,\ttrain_loss_ae: 1.0006,\tval_loss: 1.0895,\tval_loss_surv: 1.2528,\tval_loss_ae: 0.8445\n",
            "63:\t[45s / 43m:36s],\t\ttrain_loss: 1.0204,\ttrain_loss_surv: 1.0297,\ttrain_loss_ae: 1.0064,\tval_loss: 1.0854,\tval_loss_surv: 1.2461,\tval_loss_ae: 0.8444\n",
            "64:\t[45s / 44m:22s],\t\ttrain_loss: 1.0124,\ttrain_loss_surv: 1.0238,\ttrain_loss_ae: 0.9953,\tval_loss: 1.0883,\tval_loss_surv: 1.2505,\tval_loss_ae: 0.8449\n",
            "65:\t[45s / 45m:8s],\t\ttrain_loss: 1.0142,\ttrain_loss_surv: 1.0264,\ttrain_loss_ae: 0.9960,\tval_loss: 1.0894,\tval_loss_surv: 1.2526,\tval_loss_ae: 0.8446\n",
            "66:\t[45s / 45m:54s],\t\ttrain_loss: 1.0151,\ttrain_loss_surv: 1.0234,\ttrain_loss_ae: 1.0026,\tval_loss: 1.0870,\tval_loss_surv: 1.2484,\tval_loss_ae: 0.8448\n",
            "67:\t[45s / 46m:40s],\t\ttrain_loss: 1.0268,\ttrain_loss_surv: 1.0345,\ttrain_loss_ae: 1.0151,\tval_loss: 1.0856,\tval_loss_surv: 1.2463,\tval_loss_ae: 0.8446\n",
            "68:\t[46s / 47m:27s],\t\ttrain_loss: 1.0188,\ttrain_loss_surv: 1.0298,\ttrain_loss_ae: 1.0023,\tval_loss: 1.0706,\tval_loss_surv: 1.2213,\tval_loss_ae: 0.8445\n",
            "69:\t[46s / 48m:14s],\t\ttrain_loss: 1.0186,\ttrain_loss_surv: 1.0317,\ttrain_loss_ae: 0.9991,\tval_loss: 1.0777,\tval_loss_surv: 1.2332,\tval_loss_ae: 0.8444\n",
            "70:\t[46s / 49m:0s],\t\ttrain_loss: 1.0198,\ttrain_loss_surv: 1.0303,\ttrain_loss_ae: 1.0041,\tval_loss: 1.0851,\tval_loss_surv: 1.2456,\tval_loss_ae: 0.8444\n",
            "71:\t[46s / 49m:46s],\t\ttrain_loss: 1.0196,\ttrain_loss_surv: 1.0316,\ttrain_loss_ae: 1.0017,\tval_loss: 1.0824,\tval_loss_surv: 1.2402,\tval_loss_ae: 0.8458\n",
            "72:\t[45s / 50m:32s],\t\ttrain_loss: 1.0161,\ttrain_loss_surv: 1.0295,\ttrain_loss_ae: 0.9960,\tval_loss: 1.0883,\tval_loss_surv: 1.2507,\tval_loss_ae: 0.8447\n",
            "73:\t[45s / 51m:18s],\t\ttrain_loss: 1.0180,\ttrain_loss_surv: 1.0297,\ttrain_loss_ae: 1.0005,\tval_loss: 1.0803,\tval_loss_surv: 1.2373,\tval_loss_ae: 0.8448\n",
            "74:\t[45s / 52m:3s],\t\ttrain_loss: 1.0230,\ttrain_loss_surv: 1.0363,\ttrain_loss_ae: 1.0031,\tval_loss: 1.0904,\tval_loss_surv: 1.2544,\tval_loss_ae: 0.8444\n",
            "75:\t[45s / 52m:49s],\t\ttrain_loss: 1.0136,\ttrain_loss_surv: 1.0252,\ttrain_loss_ae: 0.9962,\tval_loss: 1.0882,\tval_loss_surv: 1.2503,\tval_loss_ae: 0.8451\n",
            "76:\t[45s / 53m:35s],\t\ttrain_loss: 1.0223,\ttrain_loss_surv: 1.0315,\ttrain_loss_ae: 1.0085,\tval_loss: 1.0838,\tval_loss_surv: 1.2433,\tval_loss_ae: 0.8445\n",
            "77:\t[45s / 54m:21s],\t\ttrain_loss: 1.0221,\ttrain_loss_surv: 1.0339,\ttrain_loss_ae: 1.0042,\tval_loss: 1.0907,\tval_loss_surv: 1.2549,\tval_loss_ae: 0.8444\n",
            "78:\t[45s / 55m:7s],\t\ttrain_loss: 1.0195,\ttrain_loss_surv: 1.0304,\ttrain_loss_ae: 1.0031,\tval_loss: 1.1024,\tval_loss_surv: 1.2746,\tval_loss_ae: 0.8442\n",
            "79:\t[45s / 55m:52s],\t\ttrain_loss: 1.0141,\ttrain_loss_surv: 1.0240,\ttrain_loss_ae: 0.9992,\tval_loss: 1.0911,\tval_loss_surv: 1.2555,\tval_loss_ae: 0.8444\n",
            "80:\t[45s / 56m:38s],\t\ttrain_loss: 1.0151,\ttrain_loss_surv: 1.0239,\ttrain_loss_ae: 1.0018,\tval_loss: 1.0905,\tval_loss_surv: 1.2545,\tval_loss_ae: 0.8444\n",
            "81:\t[45s / 57m:24s],\t\ttrain_loss: 1.0221,\ttrain_loss_surv: 1.0381,\ttrain_loss_ae: 0.9982,\tval_loss: 1.0814,\tval_loss_surv: 1.2394,\tval_loss_ae: 0.8444\n",
            "82:\t[45s / 58m:9s],\t\ttrain_loss: 1.0211,\ttrain_loss_surv: 1.0313,\ttrain_loss_ae: 1.0058,\tval_loss: 1.0887,\tval_loss_surv: 1.2515,\tval_loss_ae: 0.8445\n",
            "83:\t[45s / 58m:55s],\t\ttrain_loss: 1.0206,\ttrain_loss_surv: 1.0332,\ttrain_loss_ae: 1.0017,\tval_loss: 1.0836,\tval_loss_surv: 1.2430,\tval_loss_ae: 0.8444\n",
            "84:\t[46s / 59m:42s],\t\ttrain_loss: 1.0242,\ttrain_loss_surv: 1.0374,\ttrain_loss_ae: 1.0046,\tval_loss: 1.0829,\tval_loss_surv: 1.2419,\tval_loss_ae: 0.8444\n",
            "85:\t[46s / 1h:0m:28s],\t\ttrain_loss: 1.0177,\ttrain_loss_surv: 1.0301,\ttrain_loss_ae: 0.9992,\tval_loss: 1.0891,\tval_loss_surv: 1.2522,\tval_loss_ae: 0.8445\n",
            "86:\t[45s / 1h:1m:13s],\t\ttrain_loss: 1.0246,\ttrain_loss_surv: 1.0363,\ttrain_loss_ae: 1.0069,\tval_loss: 1.0912,\tval_loss_surv: 1.2557,\tval_loss_ae: 0.8444\n",
            "87:\t[46s / 1h:2m:0s],\t\ttrain_loss: 1.0198,\ttrain_loss_surv: 1.0350,\ttrain_loss_ae: 0.9969,\tval_loss: 1.0753,\tval_loss_surv: 1.2293,\tval_loss_ae: 0.8444\n",
            "88:\t[47s / 1h:2m:47s],\t\ttrain_loss: 1.0232,\ttrain_loss_surv: 1.0378,\ttrain_loss_ae: 1.0013,\tval_loss: 1.0875,\tval_loss_surv: 1.2494,\tval_loss_ae: 0.8445\n",
            "89:\t[47s / 1h:3m:34s],\t\ttrain_loss: 1.0241,\ttrain_loss_surv: 1.0395,\ttrain_loss_ae: 1.0009,\tval_loss: 1.0900,\tval_loss_surv: 1.2537,\tval_loss_ae: 0.8444\n",
            "90:\t[45s / 1h:4m:20s],\t\ttrain_loss: 1.0227,\ttrain_loss_surv: 1.0386,\ttrain_loss_ae: 0.9988,\tval_loss: 1.0887,\tval_loss_surv: 1.2516,\tval_loss_ae: 0.8444\n",
            "91:\t[45s / 1h:5m:6s],\t\ttrain_loss: 1.0125,\ttrain_loss_surv: 1.0217,\ttrain_loss_ae: 0.9986,\tval_loss: 1.0845,\tval_loss_surv: 1.2446,\tval_loss_ae: 0.8444\n",
            "92:\t[45s / 1h:5m:51s],\t\ttrain_loss: 1.0178,\ttrain_loss_surv: 1.0314,\ttrain_loss_ae: 0.9973,\tval_loss: 1.0906,\tval_loss_surv: 1.2540,\tval_loss_ae: 0.8454\n",
            "93:\t[45s / 1h:6m:37s],\t\ttrain_loss: 1.0234,\ttrain_loss_surv: 1.0390,\ttrain_loss_ae: 0.9998,\tval_loss: 1.0849,\tval_loss_surv: 1.2450,\tval_loss_ae: 0.8447\n",
            "94:\t[45s / 1h:7m:22s],\t\ttrain_loss: 1.0173,\ttrain_loss_surv: 1.0269,\ttrain_loss_ae: 1.0029,\tval_loss: 1.0856,\tval_loss_surv: 1.2464,\tval_loss_ae: 0.8445\n",
            "95:\t[45s / 1h:8m:8s],\t\ttrain_loss: 1.0139,\ttrain_loss_surv: 1.0209,\ttrain_loss_ae: 1.0034,\tval_loss: 1.0822,\tval_loss_surv: 1.2408,\tval_loss_ae: 0.8444\n",
            "96:\t[45s / 1h:8m:53s],\t\ttrain_loss: 1.0195,\ttrain_loss_surv: 1.0292,\ttrain_loss_ae: 1.0049,\tval_loss: 1.0861,\tval_loss_surv: 1.2473,\tval_loss_ae: 0.8444\n",
            "97:\t[45s / 1h:9m:38s],\t\ttrain_loss: 1.0249,\ttrain_loss_surv: 1.0330,\ttrain_loss_ae: 1.0127,\tval_loss: 1.0916,\tval_loss_surv: 1.2563,\tval_loss_ae: 0.8445\n",
            "98:\t[45s / 1h:10m:24s],\t\ttrain_loss: 1.0127,\ttrain_loss_surv: 1.0229,\ttrain_loss_ae: 0.9974,\tval_loss: 1.0872,\tval_loss_surv: 1.2491,\tval_loss_ae: 0.8443\n",
            "99:\t[45s / 1h:11m:9s],\t\ttrain_loss: 1.0151,\ttrain_loss_surv: 1.0277,\ttrain_loss_ae: 0.9964,\tval_loss: 1.0886,\tval_loss_surv: 1.2514,\tval_loss_ae: 0.8445\n"
          ],
          "name": "stdout"
        }
      ]
    },
    {
      "cell_type": "code",
      "metadata": {
        "id": "iIIxAInIFtpt"
      },
      "source": [
        "res = model.log.to_pandas()"
      ],
      "execution_count": 21,
      "outputs": []
    },
    {
      "cell_type": "code",
      "metadata": {
        "colab": {
          "base_uri": "https://localhost:8080/",
          "height": 669
        },
        "id": "gRvwPPDSIU06",
        "outputId": "86f4add1-91cb-445f-98ed-8dc57b151cd4"
      },
      "source": [
        "res.tail(20)"
      ],
      "execution_count": 22,
      "outputs": [
        {
          "output_type": "execute_result",
          "data": {
            "text/html": [
              "<div>\n",
              "<style scoped>\n",
              "    .dataframe tbody tr th:only-of-type {\n",
              "        vertical-align: middle;\n",
              "    }\n",
              "\n",
              "    .dataframe tbody tr th {\n",
              "        vertical-align: top;\n",
              "    }\n",
              "\n",
              "    .dataframe thead th {\n",
              "        text-align: right;\n",
              "    }\n",
              "</style>\n",
              "<table border=\"1\" class=\"dataframe\">\n",
              "  <thead>\n",
              "    <tr style=\"text-align: right;\">\n",
              "      <th></th>\n",
              "      <th>train_loss</th>\n",
              "      <th>train_loss_surv</th>\n",
              "      <th>train_loss_ae</th>\n",
              "      <th>val_loss</th>\n",
              "      <th>val_loss_surv</th>\n",
              "      <th>val_loss_ae</th>\n",
              "    </tr>\n",
              "  </thead>\n",
              "  <tbody>\n",
              "    <tr>\n",
              "      <th>80</th>\n",
              "      <td>1.015072</td>\n",
              "      <td>1.023920</td>\n",
              "      <td>1.001800</td>\n",
              "      <td>1.090456</td>\n",
              "      <td>1.254525</td>\n",
              "      <td>0.844352</td>\n",
              "    </tr>\n",
              "    <tr>\n",
              "      <th>81</th>\n",
              "      <td>1.022124</td>\n",
              "      <td>1.038106</td>\n",
              "      <td>0.998152</td>\n",
              "      <td>1.081399</td>\n",
              "      <td>1.239399</td>\n",
              "      <td>0.844399</td>\n",
              "    </tr>\n",
              "    <tr>\n",
              "      <th>82</th>\n",
              "      <td>1.021126</td>\n",
              "      <td>1.031343</td>\n",
              "      <td>1.005800</td>\n",
              "      <td>1.088705</td>\n",
              "      <td>1.251523</td>\n",
              "      <td>0.844478</td>\n",
              "    </tr>\n",
              "    <tr>\n",
              "      <th>83</th>\n",
              "      <td>1.020624</td>\n",
              "      <td>1.033220</td>\n",
              "      <td>1.001729</td>\n",
              "      <td>1.083593</td>\n",
              "      <td>1.243040</td>\n",
              "      <td>0.844423</td>\n",
              "    </tr>\n",
              "    <tr>\n",
              "      <th>84</th>\n",
              "      <td>1.024249</td>\n",
              "      <td>1.037351</td>\n",
              "      <td>1.004596</td>\n",
              "      <td>1.082906</td>\n",
              "      <td>1.241915</td>\n",
              "      <td>0.844392</td>\n",
              "    </tr>\n",
              "    <tr>\n",
              "      <th>85</th>\n",
              "      <td>1.017702</td>\n",
              "      <td>1.030050</td>\n",
              "      <td>0.999180</td>\n",
              "      <td>1.089134</td>\n",
              "      <td>1.252246</td>\n",
              "      <td>0.844465</td>\n",
              "    </tr>\n",
              "    <tr>\n",
              "      <th>86</th>\n",
              "      <td>1.024551</td>\n",
              "      <td>1.036342</td>\n",
              "      <td>1.006864</td>\n",
              "      <td>1.091206</td>\n",
              "      <td>1.255717</td>\n",
              "      <td>0.844438</td>\n",
              "    </tr>\n",
              "    <tr>\n",
              "      <th>87</th>\n",
              "      <td>1.019772</td>\n",
              "      <td>1.034995</td>\n",
              "      <td>0.996938</td>\n",
              "      <td>1.075321</td>\n",
              "      <td>1.229271</td>\n",
              "      <td>0.844397</td>\n",
              "    </tr>\n",
              "    <tr>\n",
              "      <th>88</th>\n",
              "      <td>1.023215</td>\n",
              "      <td>1.037814</td>\n",
              "      <td>1.001317</td>\n",
              "      <td>1.087453</td>\n",
              "      <td>1.249407</td>\n",
              "      <td>0.844522</td>\n",
              "    </tr>\n",
              "    <tr>\n",
              "      <th>89</th>\n",
              "      <td>1.024054</td>\n",
              "      <td>1.039507</td>\n",
              "      <td>1.000874</td>\n",
              "      <td>1.090004</td>\n",
              "      <td>1.253749</td>\n",
              "      <td>0.844387</td>\n",
              "    </tr>\n",
              "    <tr>\n",
              "      <th>90</th>\n",
              "      <td>1.022704</td>\n",
              "      <td>1.038608</td>\n",
              "      <td>0.998847</td>\n",
              "      <td>1.088711</td>\n",
              "      <td>1.251558</td>\n",
              "      <td>0.844440</td>\n",
              "    </tr>\n",
              "    <tr>\n",
              "      <th>91</th>\n",
              "      <td>1.012475</td>\n",
              "      <td>1.021724</td>\n",
              "      <td>0.998600</td>\n",
              "      <td>1.084510</td>\n",
              "      <td>1.244576</td>\n",
              "      <td>0.844411</td>\n",
              "    </tr>\n",
              "    <tr>\n",
              "      <th>92</th>\n",
              "      <td>1.017759</td>\n",
              "      <td>1.031413</td>\n",
              "      <td>0.997278</td>\n",
              "      <td>1.090597</td>\n",
              "      <td>1.254033</td>\n",
              "      <td>0.845444</td>\n",
              "    </tr>\n",
              "    <tr>\n",
              "      <th>93</th>\n",
              "      <td>1.023353</td>\n",
              "      <td>1.039040</td>\n",
              "      <td>0.999822</td>\n",
              "      <td>1.084926</td>\n",
              "      <td>1.245048</td>\n",
              "      <td>0.844742</td>\n",
              "    </tr>\n",
              "    <tr>\n",
              "      <th>94</th>\n",
              "      <td>1.017310</td>\n",
              "      <td>1.026923</td>\n",
              "      <td>1.002890</td>\n",
              "      <td>1.085633</td>\n",
              "      <td>1.246419</td>\n",
              "      <td>0.844455</td>\n",
              "    </tr>\n",
              "    <tr>\n",
              "      <th>95</th>\n",
              "      <td>1.013866</td>\n",
              "      <td>1.020868</td>\n",
              "      <td>1.003364</td>\n",
              "      <td>1.082245</td>\n",
              "      <td>1.240823</td>\n",
              "      <td>0.844379</td>\n",
              "    </tr>\n",
              "    <tr>\n",
              "      <th>96</th>\n",
              "      <td>1.019475</td>\n",
              "      <td>1.029220</td>\n",
              "      <td>1.004858</td>\n",
              "      <td>1.086132</td>\n",
              "      <td>1.247291</td>\n",
              "      <td>0.844392</td>\n",
              "    </tr>\n",
              "    <tr>\n",
              "      <th>97</th>\n",
              "      <td>1.024886</td>\n",
              "      <td>1.033019</td>\n",
              "      <td>1.012686</td>\n",
              "      <td>1.091579</td>\n",
              "      <td>1.256299</td>\n",
              "      <td>0.844501</td>\n",
              "    </tr>\n",
              "    <tr>\n",
              "      <th>98</th>\n",
              "      <td>1.012721</td>\n",
              "      <td>1.022923</td>\n",
              "      <td>0.997418</td>\n",
              "      <td>1.087198</td>\n",
              "      <td>1.249103</td>\n",
              "      <td>0.844341</td>\n",
              "    </tr>\n",
              "    <tr>\n",
              "      <th>99</th>\n",
              "      <td>1.015143</td>\n",
              "      <td>1.027667</td>\n",
              "      <td>0.996358</td>\n",
              "      <td>1.088618</td>\n",
              "      <td>1.251361</td>\n",
              "      <td>0.844502</td>\n",
              "    </tr>\n",
              "  </tbody>\n",
              "</table>\n",
              "</div>"
            ],
            "text/plain": [
              "    train_loss  train_loss_surv  ...  val_loss_surv  val_loss_ae\n",
              "80    1.015072         1.023920  ...       1.254525     0.844352\n",
              "81    1.022124         1.038106  ...       1.239399     0.844399\n",
              "82    1.021126         1.031343  ...       1.251523     0.844478\n",
              "83    1.020624         1.033220  ...       1.243040     0.844423\n",
              "84    1.024249         1.037351  ...       1.241915     0.844392\n",
              "85    1.017702         1.030050  ...       1.252246     0.844465\n",
              "86    1.024551         1.036342  ...       1.255717     0.844438\n",
              "87    1.019772         1.034995  ...       1.229271     0.844397\n",
              "88    1.023215         1.037814  ...       1.249407     0.844522\n",
              "89    1.024054         1.039507  ...       1.253749     0.844387\n",
              "90    1.022704         1.038608  ...       1.251558     0.844440\n",
              "91    1.012475         1.021724  ...       1.244576     0.844411\n",
              "92    1.017759         1.031413  ...       1.254033     0.845444\n",
              "93    1.023353         1.039040  ...       1.245048     0.844742\n",
              "94    1.017310         1.026923  ...       1.246419     0.844455\n",
              "95    1.013866         1.020868  ...       1.240823     0.844379\n",
              "96    1.019475         1.029220  ...       1.247291     0.844392\n",
              "97    1.024886         1.033019  ...       1.256299     0.844501\n",
              "98    1.012721         1.022923  ...       1.249103     0.844341\n",
              "99    1.015143         1.027667  ...       1.251361     0.844502\n",
              "\n",
              "[20 rows x 6 columns]"
            ]
          },
          "metadata": {
            "tags": []
          },
          "execution_count": 22
        }
      ]
    },
    {
      "cell_type": "code",
      "metadata": {
        "colab": {
          "base_uri": "https://localhost:8080/",
          "height": 265
        },
        "id": "CKvCPgYEIXC_",
        "outputId": "fab79501-14e8-401d-bf72-a1f2e0cf5936"
      },
      "source": [
        "_ = res[['train_loss', 'val_loss']].plot()"
      ],
      "execution_count": 23,
      "outputs": [
        {
          "output_type": "display_data",
          "data": {
            "image/png": "[encoded data removed]",
            "text/plain": [
              "<Figure size 432x288 with 1 Axes>"
            ]
          },
          "metadata": {
            "tags": [],
            "needs_background": "light"
          }
        }
      ]
    },
    {
      "cell_type": "code",
      "metadata": {
        "colab": {
          "base_uri": "https://localhost:8080/",
          "height": 265
        },
        "id": "130SYCKaIehY",
        "outputId": "f3ae49ad-a722-4ac5-d3cc-cce8143d17c4"
      },
      "source": [
        "_ = res[['train_loss_surv', 'val_loss_surv']].plot()"
      ],
      "execution_count": 24,
      "outputs": [
        {
          "output_type": "display_data",
          "data": {
            "image/png": "[encoded data removed]",
            "text/plain": [
              "<Figure size 432x288 with 1 Axes>"
            ]
          },
          "metadata": {
            "tags": [],
            "needs_background": "light"
          }
        }
      ]
    },
    {
      "cell_type": "code",
      "metadata": {
        "colab": {
          "base_uri": "https://localhost:8080/",
          "height": 265
        },
        "id": "8aekIbaOIiV0",
        "outputId": "b18935d9-ec86-4f70-a6cf-d9207dbb4ab4"
      },
      "source": [
        "_ = res[['train_loss_ae', 'val_loss_ae']].plot()"
      ],
      "execution_count": 25,
      "outputs": [
        {
          "output_type": "display_data",
          "data": {
            "image/png": "[encoded data removed]",
            "text/plain": [
              "<Figure size 432x288 with 1 Axes>"
            ]
          },
          "metadata": {
            "tags": [],
            "needs_background": "light"
          }
        }
      ]
    },
    {
      "cell_type": "code",
      "metadata": {
        "id": "Y8HUs_Z0In8u"
      },
      "source": [
        "surv1 = model.interpolate(10).predict_surv_df(x_test1)\n",
        "surv2 = model.interpolate(10).predict_surv_df(x_test2)"
      ],
      "execution_count": 26,
      "outputs": []
    },
    {
      "cell_type": "code",
      "metadata": {
        "colab": {
          "base_uri": "https://localhost:8080/",
          "height": 419
        },
        "id": "9FBtT1smO_kX",
        "outputId": "77741fe8-e965-4e3a-fc50-3c3e58099fb8"
      },
      "source": [
        "surv1.iloc[:, :5]"
      ],
      "execution_count": 27,
      "outputs": [
        {
          "output_type": "execute_result",
          "data": {
            "text/html": [
              "<div>\n",
              "<style scoped>\n",
              "    .dataframe tbody tr th:only-of-type {\n",
              "        vertical-align: middle;\n",
              "    }\n",
              "\n",
              "    .dataframe tbody tr th {\n",
              "        vertical-align: top;\n",
              "    }\n",
              "\n",
              "    .dataframe thead th {\n",
              "        text-align: right;\n",
              "    }\n",
              "</style>\n",
              "<table border=\"1\" class=\"dataframe\">\n",
              "  <thead>\n",
              "    <tr style=\"text-align: right;\">\n",
              "      <th></th>\n",
              "      <th>0</th>\n",
              "      <th>1</th>\n",
              "      <th>2</th>\n",
              "      <th>3</th>\n",
              "      <th>4</th>\n",
              "    </tr>\n",
              "  </thead>\n",
              "  <tbody>\n",
              "    <tr>\n",
              "      <th>0.000000</th>\n",
              "      <td>0.996647</td>\n",
              "      <td>0.996647</td>\n",
              "      <td>0.996647</td>\n",
              "      <td>0.996647</td>\n",
              "      <td>0.996647</td>\n",
              "    </tr>\n",
              "    <tr>\n",
              "      <th>1.944444</th>\n",
              "      <td>0.979766</td>\n",
              "      <td>0.979766</td>\n",
              "      <td>0.979766</td>\n",
              "      <td>0.979766</td>\n",
              "      <td>0.979766</td>\n",
              "    </tr>\n",
              "    <tr>\n",
              "      <th>3.888889</th>\n",
              "      <td>0.962886</td>\n",
              "      <td>0.962886</td>\n",
              "      <td>0.962886</td>\n",
              "      <td>0.962886</td>\n",
              "      <td>0.962886</td>\n",
              "    </tr>\n",
              "    <tr>\n",
              "      <th>5.833333</th>\n",
              "      <td>0.946005</td>\n",
              "      <td>0.946005</td>\n",
              "      <td>0.946005</td>\n",
              "      <td>0.946005</td>\n",
              "      <td>0.946005</td>\n",
              "    </tr>\n",
              "    <tr>\n",
              "      <th>7.777778</th>\n",
              "      <td>0.929125</td>\n",
              "      <td>0.929125</td>\n",
              "      <td>0.929125</td>\n",
              "      <td>0.929125</td>\n",
              "      <td>0.929125</td>\n",
              "    </tr>\n",
              "    <tr>\n",
              "      <th>...</th>\n",
              "      <td>...</td>\n",
              "      <td>...</td>\n",
              "      <td>...</td>\n",
              "      <td>...</td>\n",
              "      <td>...</td>\n",
              "    </tr>\n",
              "    <tr>\n",
              "      <th>167.222222</th>\n",
              "      <td>0.110303</td>\n",
              "      <td>0.110303</td>\n",
              "      <td>0.110303</td>\n",
              "      <td>0.110303</td>\n",
              "      <td>0.110303</td>\n",
              "    </tr>\n",
              "    <tr>\n",
              "      <th>169.166667</th>\n",
              "      <td>0.110250</td>\n",
              "      <td>0.110250</td>\n",
              "      <td>0.110250</td>\n",
              "      <td>0.110250</td>\n",
              "      <td>0.110250</td>\n",
              "    </tr>\n",
              "    <tr>\n",
              "      <th>171.111111</th>\n",
              "      <td>0.110197</td>\n",
              "      <td>0.110197</td>\n",
              "      <td>0.110197</td>\n",
              "      <td>0.110197</td>\n",
              "      <td>0.110197</td>\n",
              "    </tr>\n",
              "    <tr>\n",
              "      <th>173.055556</th>\n",
              "      <td>0.110144</td>\n",
              "      <td>0.110144</td>\n",
              "      <td>0.110144</td>\n",
              "      <td>0.110144</td>\n",
              "      <td>0.110144</td>\n",
              "    </tr>\n",
              "    <tr>\n",
              "      <th>175.000000</th>\n",
              "      <td>0.110090</td>\n",
              "      <td>0.110090</td>\n",
              "      <td>0.110090</td>\n",
              "      <td>0.110090</td>\n",
              "      <td>0.110090</td>\n",
              "    </tr>\n",
              "  </tbody>\n",
              "</table>\n",
              "<p>91 rows × 5 columns</p>\n",
              "</div>"
            ],
            "text/plain": [
              "                   0         1         2         3         4\n",
              "0.000000    0.996647  0.996647  0.996647  0.996647  0.996647\n",
              "1.944444    0.979766  0.979766  0.979766  0.979766  0.979766\n",
              "3.888889    0.962886  0.962886  0.962886  0.962886  0.962886\n",
              "5.833333    0.946005  0.946005  0.946005  0.946005  0.946005\n",
              "7.777778    0.929125  0.929125  0.929125  0.929125  0.929125\n",
              "...              ...       ...       ...       ...       ...\n",
              "167.222222  0.110303  0.110303  0.110303  0.110303  0.110303\n",
              "169.166667  0.110250  0.110250  0.110250  0.110250  0.110250\n",
              "171.111111  0.110197  0.110197  0.110197  0.110197  0.110197\n",
              "173.055556  0.110144  0.110144  0.110144  0.110144  0.110144\n",
              "175.000000  0.110090  0.110090  0.110090  0.110090  0.110090\n",
              "\n",
              "[91 rows x 5 columns]"
            ]
          },
          "metadata": {
            "tags": []
          },
          "execution_count": 27
        }
      ]
    },
    {
      "cell_type": "code",
      "metadata": {
        "colab": {
          "base_uri": "https://localhost:8080/",
          "height": 419
        },
        "id": "J0XrMBjvGWbE",
        "outputId": "1d98c8be-d290-4539-973e-5b8da4016bd3"
      },
      "source": [
        "surv2.iloc[:, :5]"
      ],
      "execution_count": 28,
      "outputs": [
        {
          "output_type": "execute_result",
          "data": {
            "text/html": [
              "<div>\n",
              "<style scoped>\n",
              "    .dataframe tbody tr th:only-of-type {\n",
              "        vertical-align: middle;\n",
              "    }\n",
              "\n",
              "    .dataframe tbody tr th {\n",
              "        vertical-align: top;\n",
              "    }\n",
              "\n",
              "    .dataframe thead th {\n",
              "        text-align: right;\n",
              "    }\n",
              "</style>\n",
              "<table border=\"1\" class=\"dataframe\">\n",
              "  <thead>\n",
              "    <tr style=\"text-align: right;\">\n",
              "      <th></th>\n",
              "      <th>0</th>\n",
              "      <th>1</th>\n",
              "      <th>2</th>\n",
              "      <th>3</th>\n",
              "      <th>4</th>\n",
              "    </tr>\n",
              "  </thead>\n",
              "  <tbody>\n",
              "    <tr>\n",
              "      <th>0.000000</th>\n",
              "      <td>0.996647</td>\n",
              "      <td>0.996647</td>\n",
              "      <td>0.996647</td>\n",
              "      <td>0.996647</td>\n",
              "      <td>0.996647</td>\n",
              "    </tr>\n",
              "    <tr>\n",
              "      <th>1.944444</th>\n",
              "      <td>0.979766</td>\n",
              "      <td>0.979766</td>\n",
              "      <td>0.979766</td>\n",
              "      <td>0.979766</td>\n",
              "      <td>0.979766</td>\n",
              "    </tr>\n",
              "    <tr>\n",
              "      <th>3.888889</th>\n",
              "      <td>0.962886</td>\n",
              "      <td>0.962886</td>\n",
              "      <td>0.962886</td>\n",
              "      <td>0.962886</td>\n",
              "      <td>0.962886</td>\n",
              "    </tr>\n",
              "    <tr>\n",
              "      <th>5.833333</th>\n",
              "      <td>0.946005</td>\n",
              "      <td>0.946005</td>\n",
              "      <td>0.946005</td>\n",
              "      <td>0.946005</td>\n",
              "      <td>0.946005</td>\n",
              "    </tr>\n",
              "    <tr>\n",
              "      <th>7.777778</th>\n",
              "      <td>0.929125</td>\n",
              "      <td>0.929125</td>\n",
              "      <td>0.929125</td>\n",
              "      <td>0.929125</td>\n",
              "      <td>0.929125</td>\n",
              "    </tr>\n",
              "    <tr>\n",
              "      <th>...</th>\n",
              "      <td>...</td>\n",
              "      <td>...</td>\n",
              "      <td>...</td>\n",
              "      <td>...</td>\n",
              "      <td>...</td>\n",
              "    </tr>\n",
              "    <tr>\n",
              "      <th>167.222222</th>\n",
              "      <td>0.110303</td>\n",
              "      <td>0.110303</td>\n",
              "      <td>0.110303</td>\n",
              "      <td>0.110303</td>\n",
              "      <td>0.110303</td>\n",
              "    </tr>\n",
              "    <tr>\n",
              "      <th>169.166667</th>\n",
              "      <td>0.110250</td>\n",
              "      <td>0.110250</td>\n",
              "      <td>0.110250</td>\n",
              "      <td>0.110250</td>\n",
              "      <td>0.110250</td>\n",
              "    </tr>\n",
              "    <tr>\n",
              "      <th>171.111111</th>\n",
              "      <td>0.110197</td>\n",
              "      <td>0.110197</td>\n",
              "      <td>0.110197</td>\n",
              "      <td>0.110197</td>\n",
              "      <td>0.110197</td>\n",
              "    </tr>\n",
              "    <tr>\n",
              "      <th>173.055556</th>\n",
              "      <td>0.110144</td>\n",
              "      <td>0.110144</td>\n",
              "      <td>0.110144</td>\n",
              "      <td>0.110144</td>\n",
              "      <td>0.110144</td>\n",
              "    </tr>\n",
              "    <tr>\n",
              "      <th>175.000000</th>\n",
              "      <td>0.110090</td>\n",
              "      <td>0.110090</td>\n",
              "      <td>0.110090</td>\n",
              "      <td>0.110090</td>\n",
              "      <td>0.110090</td>\n",
              "    </tr>\n",
              "  </tbody>\n",
              "</table>\n",
              "<p>91 rows × 5 columns</p>\n",
              "</div>"
            ],
            "text/plain": [
              "                   0         1         2         3         4\n",
              "0.000000    0.996647  0.996647  0.996647  0.996647  0.996647\n",
              "1.944444    0.979766  0.979766  0.979766  0.979766  0.979766\n",
              "3.888889    0.962886  0.962886  0.962886  0.962886  0.962886\n",
              "5.833333    0.946005  0.946005  0.946005  0.946005  0.946005\n",
              "7.777778    0.929125  0.929125  0.929125  0.929125  0.929125\n",
              "...              ...       ...       ...       ...       ...\n",
              "167.222222  0.110303  0.110303  0.110303  0.110303  0.110303\n",
              "169.166667  0.110250  0.110250  0.110250  0.110250  0.110250\n",
              "171.111111  0.110197  0.110197  0.110197  0.110197  0.110197\n",
              "173.055556  0.110144  0.110144  0.110144  0.110144  0.110144\n",
              "175.000000  0.110090  0.110090  0.110090  0.110090  0.110090\n",
              "\n",
              "[91 rows x 5 columns]"
            ]
          },
          "metadata": {
            "tags": []
          },
          "execution_count": 28
        }
      ]
    },
    {
      "cell_type": "code",
      "metadata": {
        "colab": {
          "base_uri": "https://localhost:8080/",
          "height": 279
        },
        "id": "8Cw_wKLyGfyV",
        "outputId": "67ab845c-3ba0-448a-c9b6-75cd545e4034"
      },
      "source": [
        "surv1.iloc[:, :1].plot(drawstyle='steps-post')\n",
        "plt.ylabel('S(t | x)')\n",
        "_ = plt.xlabel('Time')"
      ],
      "execution_count": 29,
      "outputs": [
        {
          "output_type": "display_data",
          "data": {
            "image/png": "[encoded data removed]",
            "text/plain": [
              "<Figure size 432x288 with 1 Axes>"
            ]
          },
          "metadata": {
            "tags": [],
            "needs_background": "light"
          }
        }
      ]
    },
    {
      "cell_type": "code",
      "metadata": {
        "colab": {
          "base_uri": "https://localhost:8080/",
          "height": 279
        },
        "id": "Vx0vJg6jI00m",
        "outputId": "49338949-25f6-42da-c662-543f133168cc"
      },
      "source": [
        "surv2.iloc[:, :1].plot(drawstyle='steps-post')\n",
        "plt.ylabel('S(t | x)')\n",
        "_ = plt.xlabel('Time')"
      ],
      "execution_count": 30,
      "outputs": [
        {
          "output_type": "display_data",
          "data": {
            "image/png": "[encoded data removed]",
            "text/plain": [
              "<Figure size 432x288 with 1 Axes>"
            ]
          },
          "metadata": {
            "tags": [],
            "needs_background": "light"
          }
        }
      ]
    },
    {
      "cell_type": "code",
      "metadata": {
        "colab": {
          "base_uri": "https://localhost:8080/"
        },
        "id": "hHQqTbu6I40v",
        "outputId": "9dd4cfc9-5611-4172-b6f1-8bcf95287e41"
      },
      "source": [
        "model.predict(x_test1[:2])"
      ],
      "execution_count": 31,
      "outputs": [
        {
          "output_type": "execute_result",
          "data": {
            "text/plain": [
              "array([[-5.694374  , -1.5900757 , -1.5913259 , -0.93442655, -0.36597943,\n",
              "        -0.79988575, -0.20613745, -6.9760876 , -6.335179  , -5.33589   ],\n",
              "       [-5.694374  , -1.5900757 , -1.5913259 , -0.93442655, -0.36597943,\n",
              "        -0.79988575, -0.20613745, -6.9760876 , -6.335179  , -5.33589   ]],\n",
              "      dtype=float32)"
            ]
          },
          "metadata": {
            "tags": []
          },
          "execution_count": 31
        }
      ]
    },
    {
      "cell_type": "code",
      "metadata": {
        "colab": {
          "base_uri": "https://localhost:8080/"
        },
        "id": "d6xdUTTJJRBf",
        "outputId": "44654497-8dce-4082-a2b4-d72f322ba562"
      },
      "source": [
        "model.predict_net(x_test1[:2])"
      ],
      "execution_count": 32,
      "outputs": [
        {
          "output_type": "execute_result",
          "data": {
            "text/plain": [
              "(array([[-5.694374  , -1.5900757 , -1.5913259 , -0.93442655, -0.36597943,\n",
              "         -0.79988575, -0.20613745, -6.9760876 , -6.335179  , -5.33589   ],\n",
              "        [-5.694374  , -1.5900757 , -1.5913259 , -0.93442655, -0.36597943,\n",
              "         -0.79988575, -0.20613745, -6.9760876 , -6.335179  , -5.33589   ]],\n",
              "       dtype=float32),\n",
              " array([[-0.00707362,  0.00024423, -0.00950024, ..., -0.00254421,\n",
              "          0.01054826, -0.0072751 ],\n",
              "        [-0.00707362,  0.00024423, -0.00950024, ..., -0.00254421,\n",
              "          0.01054826, -0.0072751 ]], dtype=float32))"
            ]
          },
          "metadata": {
            "tags": []
          },
          "execution_count": 32
        }
      ]
    },
    {
      "cell_type": "code",
      "metadata": {
        "id": "7qyv1y06JT9A"
      },
      "source": [
        "evs1 = EvalSurv(surv1, durations_test1, events_test1, censor_surv='km')\n",
        "evs2 = EvalSurv(surv2, durations_test2, events_test2, censor_surv='km')"
      ],
      "execution_count": 33,
      "outputs": []
    },
    {
      "cell_type": "code",
      "metadata": {
        "colab": {
          "base_uri": "https://localhost:8080/"
        },
        "id": "0ir3-cHkKNkw",
        "outputId": "4c716ae9-43eb-4f02-81eb-a1473654f2e3"
      },
      "source": [
        "evs1.concordance_td()"
      ],
      "execution_count": 34,
      "outputs": [
        {
          "output_type": "execute_result",
          "data": {
            "text/plain": [
              "0.5"
            ]
          },
          "metadata": {
            "tags": []
          },
          "execution_count": 34
        }
      ]
    },
    {
      "cell_type": "code",
      "metadata": {
        "colab": {
          "base_uri": "https://localhost:8080/"
        },
        "id": "unihuW8uKZAy",
        "outputId": "645b001a-0a9d-4c7b-bade-12cd8b7c5c83"
      },
      "source": [
        "evs2.concordance_td()"
      ],
      "execution_count": 35,
      "outputs": [
        {
          "output_type": "execute_result",
          "data": {
            "text/plain": [
              "0.508686210640608"
            ]
          },
          "metadata": {
            "tags": []
          },
          "execution_count": 35
        }
      ]
    },
    {
      "cell_type": "code",
      "metadata": {
        "colab": {
          "base_uri": "https://localhost:8080/",
          "height": 279
        },
        "id": "Bq4rWjmxKcPY",
        "outputId": "c415804d-2d60-4b4f-be10-6941f70cec32"
      },
      "source": [
        "time_grid = np.linspace(durations_test1.min(), durations_test1.max(), 100)\n",
        "evs1.brier_score(time_grid).plot()\n",
        "plt.ylabel('Brier score')\n",
        "_ = plt.xlabel('Time')"
      ],
      "execution_count": 36,
      "outputs": [
        {
          "output_type": "display_data",
          "data": {
            "image/png": "[encoded data removed]",
            "text/plain": [
              "<Figure size 432x288 with 1 Axes>"
            ]
          },
          "metadata": {
            "tags": [],
            "needs_background": "light"
          }
        }
      ]
    },
    {
      "cell_type": "code",
      "metadata": {
        "colab": {
          "base_uri": "https://localhost:8080/",
          "height": 279
        },
        "id": "gss2XVJwKhUg",
        "outputId": "b790a909-1bac-45be-d0dc-29d7e6ee6467"
      },
      "source": [
        "time_grid = np.linspace(durations_test2.min(), durations_test2.max(), 100)\n",
        "evs2.brier_score(time_grid).plot()\n",
        "plt.ylabel('Brier score')\n",
        "_ = plt.xlabel('Time')"
      ],
      "execution_count": 37,
      "outputs": [
        {
          "output_type": "display_data",
          "data": {
            "image/png": "[encoded data removed]",
            "text/plain": [
              "<Figure size 432x288 with 1 Axes>"
            ]
          },
          "metadata": {
            "tags": [],
            "needs_background": "light"
          }
        }
      ]
    },
    {
      "cell_type": "code",
      "metadata": {
        "colab": {
          "base_uri": "https://localhost:8080/",
          "height": 279
        },
        "id": "simS0Kq0KnCI",
        "outputId": "cab332d9-094e-461d-982e-ea760995292b"
      },
      "source": [
        "evs1.nbll(time_grid).plot()\n",
        "plt.ylabel('NBLL')\n",
        "_ = plt.xlabel('Time')"
      ],
      "execution_count": 38,
      "outputs": [
        {
          "output_type": "display_data",
          "data": {
            "image/png": "[encoded data removed]",
            "text/plain": [
              "<Figure size 432x288 with 1 Axes>"
            ]
          },
          "metadata": {
            "tags": [],
            "needs_background": "light"
          }
        }
      ]
    },
    {
      "cell_type": "code",
      "metadata": {
        "colab": {
          "base_uri": "https://localhost:8080/",
          "height": 279
        },
        "id": "hRxpMNujKrjR",
        "outputId": "c93d90fd-07fa-4724-f6dc-7ae9dcd6c9e5"
      },
      "source": [
        "evs2.nbll(time_grid).plot()\n",
        "plt.ylabel('NBLL')\n",
        "_ = plt.xlabel('Time')"
      ],
      "execution_count": 39,
      "outputs": [
        {
          "output_type": "display_data",
          "data": {
            "image/png": "[encoded data removed]",
            "text/plain": [
              "<Figure size 432x288 with 1 Axes>"
            ]
          },
          "metadata": {
            "tags": [],
            "needs_background": "light"
          }
        }
      ]
    },
    {
      "cell_type": "code",
      "metadata": {
        "colab": {
          "base_uri": "https://localhost:8080/"
        },
        "id": "bTCz2jvUKtcu",
        "outputId": "9e0d2a5d-6297-4946-b9f8-fb1c79150979"
      },
      "source": [
        "evs1.integrated_brier_score(time_grid)"
      ],
      "execution_count": 40,
      "outputs": [
        {
          "output_type": "execute_result",
          "data": {
            "text/plain": [
              "0.23473019380688756"
            ]
          },
          "metadata": {
            "tags": []
          },
          "execution_count": 40
        }
      ]
    },
    {
      "cell_type": "code",
      "metadata": {
        "colab": {
          "base_uri": "https://localhost:8080/"
        },
        "id": "7O5MtBC8KwRI",
        "outputId": "d3d54c86-d85e-4bd9-a85d-f4e43e99581a"
      },
      "source": [
        "evs1.integrated_nbll(time_grid)"
      ],
      "execution_count": 41,
      "outputs": [
        {
          "output_type": "execute_result",
          "data": {
            "text/plain": [
              "0.6821513526376256"
            ]
          },
          "metadata": {
            "tags": []
          },
          "execution_count": 41
        }
      ]
    },
    {
      "cell_type": "code",
      "metadata": {
        "colab": {
          "base_uri": "https://localhost:8080/"
        },
        "id": "21vHBAWQKy69",
        "outputId": "d528427b-1c6c-4d51-ac61-10630410f780"
      },
      "source": [
        "evs2.integrated_brier_score(time_grid)"
      ],
      "execution_count": 42,
      "outputs": [
        {
          "output_type": "execute_result",
          "data": {
            "text/plain": [
              "0.20064117904397497"
            ]
          },
          "metadata": {
            "tags": []
          },
          "execution_count": 42
        }
      ]
    },
    {
      "cell_type": "code",
      "metadata": {
        "colab": {
          "base_uri": "https://localhost:8080/"
        },
        "id": "TsbUNvU0K1eh",
        "outputId": "d67ef1ea-c6c4-4fc1-e8b4-c7ed65991d93"
      },
      "source": [
        "evs2.integrated_nbll(time_grid)"
      ],
      "execution_count": 43,
      "outputs": [
        {
          "output_type": "execute_result",
          "data": {
            "text/plain": [
              "0.5945015352255995"
            ]
          },
          "metadata": {
            "tags": []
          },
          "execution_count": 43
        }
      ]
    },
    {
      "cell_type": "code",
      "metadata": {
        "id": "oJCs7oRSp1k6"
      },
      "source": [
        ""
      ],
      "execution_count": null,
      "outputs": []
    }
  ]
}