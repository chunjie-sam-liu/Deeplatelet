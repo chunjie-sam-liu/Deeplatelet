{
  "nbformat": 4,
  "nbformat_minor": 0,
  "metadata": {
    "colab": {
      "name": "11-DeepSurvOS.ipynb",
      "provenance": [],
      "collapsed_sections": [],
      "authorship_tag": "ABX9TyM5n0pbw6CZ0RirokJDCulr",
      "include_colab_link": true
    },
    "kernelspec": {
      "name": "python3",
      "display_name": "Python 3"
    }
  },
  "cells": [
    {
      "cell_type": "markdown",
      "metadata": {
        "id": "view-in-github",
        "colab_type": "text"
      },
      "source": [
        "<a href=\"https://colab.research.google.com/github/chunjie-sam-liu/TEP-prognosis/blob/main/analysis/11-DeepSurvOS.ipynb\" target=\"_parent\"><img src=\"https://colab.research.google.com/assets/colab-badge.svg\" alt=\"Open In Colab\"/></a>"
      ]
    },
    {
      "cell_type": "code",
      "metadata": {
        "colab": {
          "base_uri": "https://localhost:8080/"
        },
        "id": "ZiLrfynVsPQA",
        "outputId": "73e36ee2-a523-4165-9468-70e975e30526"
      },
      "source": [
        "! pip install torchtuples\n",
        "! pip install pycox\n",
        "! pip install hiddenlayer"
      ],
      "execution_count": 1,
      "outputs": [
        {
          "output_type": "stream",
          "text": [
            "Collecting torchtuples\n",
            "\u001b[?25l  Downloading https://files.pythonhosted.org/packages/95/70/93eb42c0a46ef94b3885b8e5611a8019d00522a9ab7343d4ca25033afd44/torchtuples-0.2.0-py3-none-any.whl (41kB)\n",
            "\r\u001b[K     |███████▉                        | 10kB 18.0MB/s eta 0:00:01\r\u001b[K     |███████████████▊                | 20kB 24.0MB/s eta 0:00:01\r\u001b[K     |███████████████████████▋        | 30kB 29.1MB/s eta 0:00:01\r\u001b[K     |███████████████████████████████▌| 40kB 33.3MB/s eta 0:00:01\r\u001b[K     |████████████████████████████████| 51kB 3.5MB/s \n",
            "\u001b[?25hRequirement already satisfied: numpy>=1.15.4 in /usr/local/lib/python3.7/dist-packages (from torchtuples) (1.19.5)\n",
            "Requirement already satisfied: pandas>=0.24.2 in /usr/local/lib/python3.7/dist-packages (from torchtuples) (1.1.5)\n",
            "Requirement already satisfied: matplotlib>=3.0.3 in /usr/local/lib/python3.7/dist-packages (from torchtuples) (3.2.2)\n",
            "Requirement already satisfied: pytz>=2017.2 in /usr/local/lib/python3.7/dist-packages (from pandas>=0.24.2->torchtuples) (2018.9)\n",
            "Requirement already satisfied: python-dateutil>=2.7.3 in /usr/local/lib/python3.7/dist-packages (from pandas>=0.24.2->torchtuples) (2.8.1)\n",
            "Requirement already satisfied: pyparsing!=2.0.4,!=2.1.2,!=2.1.6,>=2.0.1 in /usr/local/lib/python3.7/dist-packages (from matplotlib>=3.0.3->torchtuples) (2.4.7)\n",
            "Requirement already satisfied: kiwisolver>=1.0.1 in /usr/local/lib/python3.7/dist-packages (from matplotlib>=3.0.3->torchtuples) (1.3.1)\n",
            "Requirement already satisfied: cycler>=0.10 in /usr/local/lib/python3.7/dist-packages (from matplotlib>=3.0.3->torchtuples) (0.10.0)\n",
            "Requirement already satisfied: six>=1.5 in /usr/local/lib/python3.7/dist-packages (from python-dateutil>=2.7.3->pandas>=0.24.2->torchtuples) (1.15.0)\n",
            "Installing collected packages: torchtuples\n",
            "Successfully installed torchtuples-0.2.0\n",
            "Collecting pycox\n",
            "\u001b[?25l  Downloading https://files.pythonhosted.org/packages/b6/b5/cb5f3b20c9f00843989490595830e24b45506394dc8be07d8d4db3639cf1/pycox-0.2.2-py3-none-any.whl (73kB)\n",
            "\u001b[K     |████████████████████████████████| 81kB 3.3MB/s \n",
            "\u001b[?25hRequirement already satisfied: scikit-learn>=0.21.2 in /usr/local/lib/python3.7/dist-packages (from pycox) (0.22.2.post1)\n",
            "Requirement already satisfied: feather-format>=0.4.0 in /usr/local/lib/python3.7/dist-packages (from pycox) (0.4.1)\n",
            "Requirement already satisfied: requests>=2.22.0 in /usr/local/lib/python3.7/dist-packages (from pycox) (2.23.0)\n",
            "Collecting py7zr>=0.11.3\n",
            "\u001b[?25l  Downloading https://files.pythonhosted.org/packages/45/8b/79453b7fb9d03f615d41c24b29f0c687cc32b114f2205d90bb5fb5fa4362/py7zr-0.14.1-py3-none-any.whl (68kB)\n",
            "\u001b[K     |████████████████████████████████| 71kB 4.0MB/s \n",
            "\u001b[?25hRequirement already satisfied: numba>=0.44 in /usr/local/lib/python3.7/dist-packages (from pycox) (0.51.2)\n",
            "Requirement already satisfied: h5py>=2.9.0 in /usr/local/lib/python3.7/dist-packages (from pycox) (2.10.0)\n",
            "Requirement already satisfied: torchtuples>=0.2.0 in /usr/local/lib/python3.7/dist-packages (from pycox) (0.2.0)\n",
            "Requirement already satisfied: numpy>=1.11.0 in /usr/local/lib/python3.7/dist-packages (from scikit-learn>=0.21.2->pycox) (1.19.5)\n",
            "Requirement already satisfied: joblib>=0.11 in /usr/local/lib/python3.7/dist-packages (from scikit-learn>=0.21.2->pycox) (1.0.1)\n",
            "Requirement already satisfied: scipy>=0.17.0 in /usr/local/lib/python3.7/dist-packages (from scikit-learn>=0.21.2->pycox) (1.4.1)\n",
            "Requirement already satisfied: pyarrow>=0.4.0 in /usr/local/lib/python3.7/dist-packages (from feather-format>=0.4.0->pycox) (3.0.0)\n",
            "Requirement already satisfied: urllib3!=1.25.0,!=1.25.1,<1.26,>=1.21.1 in /usr/local/lib/python3.7/dist-packages (from requests>=2.22.0->pycox) (1.24.3)\n",
            "Requirement already satisfied: chardet<4,>=3.0.2 in /usr/local/lib/python3.7/dist-packages (from requests>=2.22.0->pycox) (3.0.4)\n",
            "Requirement already satisfied: certifi>=2017.4.17 in /usr/local/lib/python3.7/dist-packages (from requests>=2.22.0->pycox) (2020.12.5)\n",
            "Requirement already satisfied: idna<3,>=2.5 in /usr/local/lib/python3.7/dist-packages (from requests>=2.22.0->pycox) (2.10)\n",
            "Collecting pycryptodome\n",
            "\u001b[?25l  Downloading https://files.pythonhosted.org/packages/ad/16/9627ab0493894a11c68e46000dbcc82f578c8ff06bc2980dcd016aea9bd3/pycryptodome-3.10.1-cp35-abi3-manylinux2010_x86_64.whl (1.9MB)\n",
            "\u001b[K     |████████████████████████████████| 1.9MB 5.8MB/s \n",
            "\u001b[?25hCollecting multivolumefile<0.3.0,>=0.2.0\n",
            "  Downloading https://files.pythonhosted.org/packages/02/2d/c7b951e8624edc8f44e544203cb45e5bad4b493665ecc7e442a6ff6cd943/multivolumefile-0.2.2-py3-none-any.whl\n",
            "Collecting texttable\n",
            "  Downloading https://files.pythonhosted.org/packages/06/f5/46201c428aebe0eecfa83df66bf3e6caa29659dbac5a56ddfd83cae0d4a4/texttable-1.6.3-py2.py3-none-any.whl\n",
            "Collecting bcj-cffi<0.6.0,>=0.5.0\n",
            "  Downloading https://files.pythonhosted.org/packages/f4/a7/1610527d72957416fa25606062cb4151e7f7e697b8224aa47079d3d14d56/bcj_cffi-0.5.0-cp37-cp37m-manylinux2014_x86_64.whl\n",
            "Requirement already satisfied: importlib-metadata; python_version < \"3.8\" in /usr/local/lib/python3.7/dist-packages (from py7zr>=0.11.3->pycox) (3.8.1)\n",
            "Collecting ppmd-cffi<0.4.0,>=0.3.1\n",
            "\u001b[?25l  Downloading https://files.pythonhosted.org/packages/20/54/780ac526a6c81783c48e5341418f7295dcabfcb28b236eb412e806053e4c/ppmd_cffi-0.3.3-cp37-cp37m-manylinux2014_x86_64.whl (122kB)\n",
            "\u001b[K     |████████████████████████████████| 122kB 21.8MB/s \n",
            "\u001b[?25hCollecting pyzstd<0.15.0,>=0.14.1; platform_python_implementation == \"CPython\"\n",
            "\u001b[?25l  Downloading https://files.pythonhosted.org/packages/a3/e9/fe897f8bb96163645a5b2d3a60ff8bfa6fcdedff4691a3c6c861b0324ef4/pyzstd-0.14.4-cp37-cp37m-manylinux2014_x86_64.whl (2.2MB)\n",
            "\u001b[K     |████████████████████████████████| 2.2MB 18.1MB/s \n",
            "\u001b[?25hRequirement already satisfied: setuptools in /usr/local/lib/python3.7/dist-packages (from numba>=0.44->pycox) (54.2.0)\n",
            "Requirement already satisfied: llvmlite<0.35,>=0.34.0.dev0 in /usr/local/lib/python3.7/dist-packages (from numba>=0.44->pycox) (0.34.0)\n",
            "Requirement already satisfied: six in /usr/local/lib/python3.7/dist-packages (from h5py>=2.9.0->pycox) (1.15.0)\n",
            "Requirement already satisfied: matplotlib>=3.0.3 in /usr/local/lib/python3.7/dist-packages (from torchtuples>=0.2.0->pycox) (3.2.2)\n",
            "Requirement already satisfied: pandas>=0.24.2 in /usr/local/lib/python3.7/dist-packages (from torchtuples>=0.2.0->pycox) (1.1.5)\n",
            "Requirement already satisfied: cffi>=1.14.0 in /usr/local/lib/python3.7/dist-packages (from bcj-cffi<0.6.0,>=0.5.0->py7zr>=0.11.3->pycox) (1.14.5)\n",
            "Requirement already satisfied: typing-extensions>=3.6.4; python_version < \"3.8\" in /usr/local/lib/python3.7/dist-packages (from importlib-metadata; python_version < \"3.8\"->py7zr>=0.11.3->pycox) (3.7.4.3)\n",
            "Requirement already satisfied: zipp>=0.5 in /usr/local/lib/python3.7/dist-packages (from importlib-metadata; python_version < \"3.8\"->py7zr>=0.11.3->pycox) (3.4.1)\n",
            "Requirement already satisfied: python-dateutil>=2.1 in /usr/local/lib/python3.7/dist-packages (from matplotlib>=3.0.3->torchtuples>=0.2.0->pycox) (2.8.1)\n",
            "Requirement already satisfied: kiwisolver>=1.0.1 in /usr/local/lib/python3.7/dist-packages (from matplotlib>=3.0.3->torchtuples>=0.2.0->pycox) (1.3.1)\n",
            "Requirement already satisfied: pyparsing!=2.0.4,!=2.1.2,!=2.1.6,>=2.0.1 in /usr/local/lib/python3.7/dist-packages (from matplotlib>=3.0.3->torchtuples>=0.2.0->pycox) (2.4.7)\n",
            "Requirement already satisfied: cycler>=0.10 in /usr/local/lib/python3.7/dist-packages (from matplotlib>=3.0.3->torchtuples>=0.2.0->pycox) (0.10.0)\n",
            "Requirement already satisfied: pytz>=2017.2 in /usr/local/lib/python3.7/dist-packages (from pandas>=0.24.2->torchtuples>=0.2.0->pycox) (2018.9)\n",
            "Requirement already satisfied: pycparser in /usr/local/lib/python3.7/dist-packages (from cffi>=1.14.0->bcj-cffi<0.6.0,>=0.5.0->py7zr>=0.11.3->pycox) (2.20)\n",
            "Installing collected packages: pycryptodome, multivolumefile, texttable, bcj-cffi, ppmd-cffi, pyzstd, py7zr, pycox\n",
            "Successfully installed bcj-cffi-0.5.0 multivolumefile-0.2.2 ppmd-cffi-0.3.3 py7zr-0.14.1 pycox-0.2.2 pycryptodome-3.10.1 pyzstd-0.14.4 texttable-1.6.3\n",
            "Collecting hiddenlayer\n",
            "  Downloading https://files.pythonhosted.org/packages/64/f8/ea51d02695a4dc397f3b2487fae462cd3f2ce707c54250e0fdfaec2ff92e/hiddenlayer-0.3-py3-none-any.whl\n",
            "Installing collected packages: hiddenlayer\n",
            "Successfully installed hiddenlayer-0.3\n"
          ],
          "name": "stdout"
        }
      ]
    },
    {
      "cell_type": "code",
      "metadata": {
        "id": "IQc3SAkcsSx-"
      },
      "source": [
        "import os\n",
        "\n",
        "import numpy as np\n",
        "# Data import\n",
        "import feather\n",
        "import matplotlib.pyplot as plt\n",
        "%matplotlib inline\n",
        "\n",
        "# For preprocessing\n",
        "from sklearn.preprocessing import StandardScaler\n",
        "from sklearn_pandas import DataFrameMapper\n",
        "\n",
        "import torch\n",
        "from torch import nn\n",
        "import torchtuples as tt\n",
        "import torch.nn.functional as F\n",
        "from torch.nn.modules.linear import Linear\n",
        "\n",
        "from pycox.models import LogisticHazard, CoxPH\n",
        "from pycox.models.loss import NLLLogistiHazardLoss\n",
        "from pycox.evaluation import EvalSurv\n"
      ],
      "execution_count": 2,
      "outputs": []
    },
    {
      "cell_type": "code",
      "metadata": {
        "colab": {
          "base_uri": "https://localhost:8080/"
        },
        "id": "IEL-4vMqs4UM",
        "outputId": "0533d18b-7fc0-4c9a-8099-1a0b683f1974"
      },
      "source": [
        "np.random.seed(1234)\n",
        "torch.manual_seed(1234)"
      ],
      "execution_count": 3,
      "outputs": [
        {
          "output_type": "execute_result",
          "data": {
            "text/plain": [
              "<torch._C.Generator at 0x7f333eb09c50>"
            ]
          },
          "metadata": {
            "tags": []
          },
          "execution_count": 3
        }
      ]
    },
    {
      "cell_type": "code",
      "metadata": {
        "id": "XnDht0DMs-Wc"
      },
      "source": [
        "# Load data and label transformation\n",
        "def load_data(filepath):\n",
        "    df = feather.read_dataframe(source=filepath)\n",
        "    df_train = df.loc[df.oc == \"OC521\"].drop(columns=[\"barcode\", \"oc\"], axis=1)\n",
        "    df_val = df.loc[df.oc == \"OC44\"].drop(columns=[\"barcode\", \"oc\"], axis=1)\n",
        "    df_test1 = df.loc[df.oc == \"OC79\"].drop(columns=[\"barcode\", \"oc\"], axis=1)\n",
        "    df_test2 = df.loc[df.oc == \"OC172\"].drop(columns=[\"barcode\", \"oc\"], axis=1)\n",
        "    return df_train, df_val, df_test1, df_test2\n",
        "\n",
        "\n",
        "def get_target(df):\n",
        "    dd = np.array([i if i < 100 else 100 for i in df['duration'].values])\n",
        "    print(dd.max())\n",
        "    return (dd, df[\"event\"].values)\n",
        "\n",
        "\n",
        "def transform_features(df_train, df_val, df_test1, df_test2):\n",
        "    columns = df_train.columns\n",
        "    columns = columns[: len(columns) - 2]\n",
        "    standardize = [([col], StandardScaler()) for col in columns]\n",
        "\n",
        "    x_mapper = DataFrameMapper(standardize)\n",
        "\n",
        "    x_train = x_mapper.fit_transform(df_train).astype(\"float32\")\n",
        "    x_val = x_mapper.transform(df_val).astype(\"float32\")\n",
        "    x_test1 = x_mapper.transform(df_test1).astype(\"float32\")\n",
        "    x_test2 = x_mapper.transform(df_test2).astype(\"float32\")\n",
        "\n",
        "    return x_train, x_val, x_test1, x_test2\n",
        "\n",
        "\n",
        "def transform_labels(df_train, df_val, nd=10):\n",
        "    num_durations = nd\n",
        "    labtrans = LogisticHazard.label_transform(num_durations)\n",
        "    y_train_surv = labtrans.fit_transform(*get_target(df_train))\n",
        "    y_val_surv = labtrans.transform(*get_target(df_val))\n",
        "\n",
        "    return y_train_surv, y_val_surv, labtrans"
      ],
      "execution_count": 4,
      "outputs": []
    },
    {
      "cell_type": "code",
      "metadata": {
        "colab": {
          "base_uri": "https://localhost:8080/"
        },
        "id": "SwzouJuttDdd",
        "outputId": "b148db1f-a4d7-4387-a901-7cf067094e27"
      },
      "source": [
        "from google.colab import drive\n",
        "drive.mount('/content/drive')"
      ],
      "execution_count": 5,
      "outputs": [
        {
          "output_type": "stream",
          "text": [
            "Mounted at /content/drive\n"
          ],
          "name": "stdout"
        }
      ]
    },
    {
      "cell_type": "code",
      "metadata": {
        "id": "EFVltuPZtW8V"
      },
      "source": [
        "filepath=\"/content/drive/MyDrive/colab-data/total416.os.se.norm.coxph.feather\""
      ],
      "execution_count": 9,
      "outputs": []
    },
    {
      "cell_type": "code",
      "metadata": {
        "id": "gr1EhPGOtMv0"
      },
      "source": [
        "# load data\n",
        "df_train, df_val, df_test1, df_test2 = load_data(filepath)\n",
        "# transform features\n",
        "x_train, x_val, x_test1, x_test2 = transform_features(df_train, df_val, df_test1, df_test2)\n",
        "# transform labels\n",
        "# y_train_surv, y_val_surv, labtrans = transform_labels(df_train, df_val)"
      ],
      "execution_count": 10,
      "outputs": []
    },
    {
      "cell_type": "code",
      "metadata": {
        "colab": {
          "base_uri": "https://localhost:8080/"
        },
        "id": "eWl07eIqtTyM",
        "outputId": "373ca5a7-a8aa-4a95-a2c9-8af1ccdadecc"
      },
      "source": [
        "y_train = get_target(df_train)\n",
        "y_val = get_target(df_val)\n",
        "y_test1 = get_target(df_test1)\n",
        "y_test2 = get_target(df_test2)\n",
        "\n",
        "durations_test1, events_test1 = get_target(df_test1)\n",
        "durations_test2, events_test2 = get_target(df_test2)"
      ],
      "execution_count": 11,
      "outputs": [
        {
          "output_type": "stream",
          "text": [
            "100.0\n",
            "100.0\n",
            "100.0\n",
            "100.0\n",
            "100.0\n",
            "100.0\n"
          ],
          "name": "stdout"
        }
      ]
    },
    {
      "cell_type": "code",
      "metadata": {
        "id": "H5PbWOEBuHjs"
      },
      "source": [
        "in_features = x_train.shape[1]\n",
        "num_nodes = [32, 32]\n",
        "out_features = 1\n",
        "batch_norm = True\n",
        "dropout = 0.1\n",
        "output_bias = False\n",
        "\n",
        "net = tt.practical.MLPVanilla(in_features, num_nodes, out_features, batch_norm, dropout, output_bias=output_bias)"
      ],
      "execution_count": 12,
      "outputs": []
    },
    {
      "cell_type": "code",
      "metadata": {
        "colab": {
          "base_uri": "https://localhost:8080/"
        },
        "id": "1eV9zIIw332W",
        "outputId": "b67e05f4-663a-4eb0-b6cb-17ac61a94f6c"
      },
      "source": [
        "net"
      ],
      "execution_count": 13,
      "outputs": [
        {
          "output_type": "execute_result",
          "data": {
            "text/plain": [
              "MLPVanilla(\n",
              "  (net): Sequential(\n",
              "    (0): DenseVanillaBlock(\n",
              "      (linear): Linear(in_features=44, out_features=32, bias=True)\n",
              "      (activation): ReLU()\n",
              "      (batch_norm): BatchNorm1d(32, eps=1e-05, momentum=0.1, affine=True, track_running_stats=True)\n",
              "      (dropout): Dropout(p=0.1, inplace=False)\n",
              "    )\n",
              "    (1): DenseVanillaBlock(\n",
              "      (linear): Linear(in_features=32, out_features=32, bias=True)\n",
              "      (activation): ReLU()\n",
              "      (batch_norm): BatchNorm1d(32, eps=1e-05, momentum=0.1, affine=True, track_running_stats=True)\n",
              "      (dropout): Dropout(p=0.1, inplace=False)\n",
              "    )\n",
              "    (2): Linear(in_features=32, out_features=1, bias=False)\n",
              "  )\n",
              ")"
            ]
          },
          "metadata": {
            "tags": []
          },
          "execution_count": 13
        }
      ]
    },
    {
      "cell_type": "code",
      "metadata": {
        "id": "uFfUryEzuIxt"
      },
      "source": [
        "model = CoxPH(net, tt.optim.Adam)"
      ],
      "execution_count": 14,
      "outputs": []
    },
    {
      "cell_type": "code",
      "metadata": {
        "id": "WmKqPe1v_CzN"
      },
      "source": [
        "#model.load_model_weights(path=\"/content/drive/MyDrive/colab-data/os.model\")"
      ],
      "execution_count": 15,
      "outputs": []
    },
    {
      "cell_type": "code",
      "metadata": {
        "colab": {
          "base_uri": "https://localhost:8080/",
          "height": 283
        },
        "id": "-4PoJ22IuvWV",
        "outputId": "ab024b48-b0fb-4752-8718-80c2eeca7337"
      },
      "source": [
        "batch_size = 256\n",
        "lrfinder = model.lr_finder(x_train, y_train, batch_size, tolerance=10)\n",
        "_ = lrfinder.plot()"
      ],
      "execution_count": 16,
      "outputs": [
        {
          "output_type": "display_data",
          "data": {
            "image/png": "[encoded data removed]",
            "text/plain": [
              "<Figure size 432x288 with 1 Axes>"
            ]
          },
          "metadata": {
            "tags": [],
            "needs_background": "light"
          }
        }
      ]
    },
    {
      "cell_type": "code",
      "metadata": {
        "colab": {
          "base_uri": "https://localhost:8080/"
        },
        "id": "80lxheL0uxWm",
        "outputId": "8dad8e6c-a688-43ee-ffc3-8aadb4d8ae11"
      },
      "source": [
        "lrfinder.get_best_lr()"
      ],
      "execution_count": 17,
      "outputs": [
        {
          "output_type": "execute_result",
          "data": {
            "text/plain": [
              "0.10722672220103299"
            ]
          },
          "metadata": {
            "tags": []
          },
          "execution_count": 17
        }
      ]
    },
    {
      "cell_type": "code",
      "metadata": {
        "id": "Ca0vTuWCuzg9"
      },
      "source": [
        "model.optimizer.set_lr(lrfinder.get_best_lr())"
      ],
      "execution_count": 18,
      "outputs": []
    },
    {
      "cell_type": "code",
      "metadata": {
        "id": "nlCZKYILu0wd"
      },
      "source": [
        "epochs = 512\n",
        "callbacks = [tt.callbacks.EarlyStopping()]\n",
        "verbose = True"
      ],
      "execution_count": 19,
      "outputs": []
    },
    {
      "cell_type": "code",
      "metadata": {
        "id": "k7LBzC8gu_0J"
      },
      "source": [
        "val = x_val, y_val"
      ],
      "execution_count": 20,
      "outputs": []
    },
    {
      "cell_type": "code",
      "metadata": {
        "colab": {
          "base_uri": "https://localhost:8080/"
        },
        "id": "MHqaGaW6u2Vt",
        "outputId": "75a7c505-5ef8-4c86-9164-dacaf8d3c24b"
      },
      "source": [
        "%%time\n",
        "log = model.fit(x_train, y_train, batch_size, epochs, callbacks, verbose, val_data=val, val_batch_size=batch_size)"
      ],
      "execution_count": 21,
      "outputs": [
        {
          "output_type": "stream",
          "text": [
            "0:\t[0s / 0s],\t\ttrain_loss: 3.0581,\tval_loss: 2.6525\n",
            "1:\t[0s / 0s],\t\ttrain_loss: 3.7682,\tval_loss: 2.5190\n",
            "2:\t[0s / 0s],\t\ttrain_loss: 3.1537,\tval_loss: 2.4161\n",
            "3:\t[0s / 0s],\t\ttrain_loss: 2.7948,\tval_loss: 2.0092\n",
            "4:\t[0s / 0s],\t\ttrain_loss: 2.8481,\tval_loss: 2.0638\n",
            "5:\t[0s / 0s],\t\ttrain_loss: 2.7913,\tval_loss: 2.0258\n",
            "6:\t[0s / 0s],\t\ttrain_loss: 2.7144,\tval_loss: 2.0371\n",
            "7:\t[0s / 0s],\t\ttrain_loss: 2.6567,\tval_loss: 2.2106\n",
            "8:\t[0s / 0s],\t\ttrain_loss: 2.6933,\tval_loss: 2.2779\n",
            "9:\t[0s / 0s],\t\ttrain_loss: 2.4551,\tval_loss: 2.3676\n",
            "10:\t[0s / 0s],\t\ttrain_loss: 2.5680,\tval_loss: 2.3928\n",
            "11:\t[0s / 0s],\t\ttrain_loss: 2.6327,\tval_loss: 2.4107\n",
            "12:\t[0s / 0s],\t\ttrain_loss: 2.7587,\tval_loss: 2.3206\n",
            "13:\t[0s / 0s],\t\ttrain_loss: 2.5013,\tval_loss: 2.2622\n",
            "CPU times: user 148 ms, sys: 2.25 ms, total: 151 ms\n",
            "Wall time: 160 ms\n"
          ],
          "name": "stdout"
        }
      ]
    },
    {
      "cell_type": "code",
      "metadata": {
        "colab": {
          "base_uri": "https://localhost:8080/",
          "height": 265
        },
        "id": "YavtY54vvDKl",
        "outputId": "829aa4e5-5cf0-4784-807f-eca3cc3cd7b6"
      },
      "source": [
        "_ = log.plot()"
      ],
      "execution_count": 22,
      "outputs": [
        {
          "output_type": "display_data",
          "data": {
            "image/png": "[encoded data removed]",
            "text/plain": [
              "<Figure size 432x288 with 1 Axes>"
            ]
          },
          "metadata": {
            "tags": [],
            "needs_background": "light"
          }
        }
      ]
    },
    {
      "cell_type": "code",
      "metadata": {
        "colab": {
          "base_uri": "https://localhost:8080/"
        },
        "id": "B-gkpXQhvFSV",
        "outputId": "379a3048-81b5-491c-d01d-4bd8a06670b8"
      },
      "source": [
        "model.partial_log_likelihood(*val).mean()"
      ],
      "execution_count": 23,
      "outputs": [
        {
          "output_type": "execute_result",
          "data": {
            "text/plain": [
              "-2.009230375289917"
            ]
          },
          "metadata": {
            "tags": []
          },
          "execution_count": 23
        }
      ]
    },
    {
      "cell_type": "code",
      "metadata": {
        "id": "8YHGOtDpvIN1"
      },
      "source": [
        "_ = model.compute_baseline_hazards()"
      ],
      "execution_count": 24,
      "outputs": []
    },
    {
      "cell_type": "code",
      "metadata": {
        "colab": {
          "base_uri": "https://localhost:8080/"
        },
        "id": "ilo-JivbvJ50",
        "outputId": "a0f193f7-d9f1-41c5-eccb-3481f0e926b0"
      },
      "source": [
        "model.predict(x_test1[[0]])"
      ],
      "execution_count": 25,
      "outputs": [
        {
          "output_type": "execute_result",
          "data": {
            "text/plain": [
              "array([[1.9746106]], dtype=float32)"
            ]
          },
          "metadata": {
            "tags": []
          },
          "execution_count": 25
        }
      ]
    },
    {
      "cell_type": "code",
      "metadata": {
        "id": "dLc56tuxvPk3"
      },
      "source": [
        "surv = model.predict_surv_df(x_test1)"
      ],
      "execution_count": 26,
      "outputs": []
    },
    {
      "cell_type": "code",
      "metadata": {
        "colab": {
          "base_uri": "https://localhost:8080/",
          "height": 279
        },
        "id": "eMJZd3FgvV8b",
        "outputId": "cd9088b8-d8d2-434c-c107-44d282c4235c"
      },
      "source": [
        "surv.iloc[:, :5].plot()\n",
        "plt.ylabel('S(t | x)')\n",
        "_ = plt.xlabel('Time')"
      ],
      "execution_count": 27,
      "outputs": [
        {
          "output_type": "display_data",
          "data": {
            "image/png": "[encoded data removed]",
            "text/plain": [
              "<Figure size 432x288 with 1 Axes>"
            ]
          },
          "metadata": {
            "tags": [],
            "needs_background": "light"
          }
        }
      ]
    },
    {
      "cell_type": "code",
      "metadata": {
        "colab": {
          "base_uri": "https://localhost:8080/",
          "height": 370
        },
        "id": "EpgRi2sZvjZD",
        "outputId": "66dc2683-9b33-4ace-a26a-2619fbf450b7"
      },
      "source": [
        "surv1 = model.predict_surv_df(x_test1)\n",
        "ev1 = EvalSurv(surv1, durations_test1, events_test1, censor_surv='km')\n",
        "print(ev1.concordance_td())\n",
        "print(ev1.concordance_td('adj_antolini'))\n",
        "time_grid = np.linspace(durations_test1.min(), durations_test1.max(), 100)\n",
        "_ = ev1.brier_score(time_grid).plot()\n",
        "print(ev1.integrated_brier_score(time_grid))"
      ],
      "execution_count": 28,
      "outputs": [
        {
          "output_type": "stream",
          "text": [
            "/usr/local/lib/python3.7/dist-packages/numba/np/ufunc/parallel.py:363: NumbaWarning: The TBB threading layer requires TBB version 2019.5 or later i.e., TBB_INTERFACE_VERSION >= 11005. Found TBB_INTERFACE_VERSION = 9107. The TBB threading layer is disabled.\n",
            "  warnings.warn(problem)\n"
          ],
          "name": "stderr"
        },
        {
          "output_type": "stream",
          "text": [
            "0.8664850136239782\n",
            "0.8664850136239782\n",
            "0.1432597035525945\n"
          ],
          "name": "stdout"
        },
        {
          "output_type": "display_data",
          "data": {
            "image/png": "[encoded data removed]",
            "text/plain": [
              "<Figure size 432x288 with 1 Axes>"
            ]
          },
          "metadata": {
            "tags": [],
            "needs_background": "light"
          }
        }
      ]
    },
    {
      "cell_type": "code",
      "metadata": {
        "colab": {
          "base_uri": "https://localhost:8080/",
          "height": 316
        },
        "id": "OSPl31Gzv3-d",
        "outputId": "96fb5619-f7d3-4645-f311-141696970960"
      },
      "source": [
        "surv2 = model.predict_surv_df(x_test2)\n",
        "ev2 = EvalSurv(surv2, durations_test2, events_test2, censor_surv='km')\n",
        "print(ev2.concordance_td())\n",
        "print(ev2.concordance_td('adj_antolini'))\n",
        "time_grid = np.linspace(durations_test2.min(), durations_test2.max(), 200)\n",
        "_ = ev2.brier_score(time_grid).plot()\n",
        "print(ev2.integrated_brier_score(time_grid))"
      ],
      "execution_count": 29,
      "outputs": [
        {
          "output_type": "stream",
          "text": [
            "0.8470238095238095\n",
            "0.8470238095238095\n",
            "0.14488092474484687\n"
          ],
          "name": "stdout"
        },
        {
          "output_type": "display_data",
          "data": {
            "image/png": "[encoded data removed]",
            "text/plain": [
              "<Figure size 432x288 with 1 Axes>"
            ]
          },
          "metadata": {
            "tags": [],
            "needs_background": "light"
          }
        }
      ]
    },
    {
      "cell_type": "code",
      "metadata": {
        "colab": {
          "base_uri": "https://localhost:8080/",
          "height": 333
        },
        "id": "uFx_wlZKx6C6",
        "outputId": "b0c63c22-c41f-4f7b-b757-e8947c8c6652"
      },
      "source": [
        "durations_train, events_train = get_target(df_train)\n",
        "surv = model.predict_surv_df(x_train)\n",
        "ev = EvalSurv(surv, durations_train, events_train, censor_surv='km')\n",
        "print(ev.concordance_td())\n",
        "print(ev.concordance_td('adj_antolini'))\n",
        "time_grid = np.linspace(durations_train.min(), durations_train.max(), 200)\n",
        "_ = ev.brier_score(time_grid).plot()\n",
        "print(ev.integrated_brier_score(time_grid))"
      ],
      "execution_count": 30,
      "outputs": [
        {
          "output_type": "stream",
          "text": [
            "100.0\n",
            "0.8440093098563044\n",
            "0.8440093098563044\n",
            "0.14154808767227234\n"
          ],
          "name": "stdout"
        },
        {
          "output_type": "display_data",
          "data": {
            "image/png": "[encoded data removed]",
            "text/plain": [
              "<Figure size 432x288 with 1 Axes>"
            ]
          },
          "metadata": {
            "tags": [],
            "needs_background": "light"
          }
        }
      ]
    },
    {
      "cell_type": "code",
      "metadata": {
        "colab": {
          "base_uri": "https://localhost:8080/",
          "height": 333
        },
        "id": "bN7wTFt6x-WF",
        "outputId": "322ab78a-ab72-4176-cfb9-c8e490c8ba98"
      },
      "source": [
        "durations_val, events_val = get_target(df_val)\n",
        "surv = model.predict_surv_df(x_val)\n",
        "ev = EvalSurv(surv, durations_val, events_val, censor_surv='km')\n",
        "print(ev.concordance_td())\n",
        "print(ev.concordance_td('adj_antolini'))\n",
        "time_grid = np.linspace(durations_val.min(), durations_val.max(), 200)\n",
        "_ = ev.brier_score(time_grid).plot()\n",
        "print(ev.integrated_brier_score(time_grid))"
      ],
      "execution_count": 31,
      "outputs": [
        {
          "output_type": "stream",
          "text": [
            "100.0\n",
            "0.8028169014084507\n",
            "0.8028169014084507\n",
            "0.2095239852800863\n"
          ],
          "name": "stdout"
        },
        {
          "output_type": "display_data",
          "data": {
            "image/png": "[encoded data removed]",
            "text/plain": [
              "<Figure size 432x288 with 1 Axes>"
            ]
          },
          "metadata": {
            "tags": [],
            "needs_background": "light"
          }
        }
      ]
    },
    {
      "cell_type": "code",
      "metadata": {
        "id": "CF4P_cCn-Ff6"
      },
      "source": [
        "model.save_model_weights(path=\"/content/drive/MyDrive/colab-data/os.model\")"
      ],
      "execution_count": 32,
      "outputs": []
    },
    {
      "cell_type": "code",
      "metadata": {
        "colab": {
          "base_uri": "https://localhost:8080/"
        },
        "id": "kf6cnwUi-brr",
        "outputId": "3869590c-6c63-43fc-ca16-e229d7b8f2b4"
      },
      "source": [
        "model.predict(x_val)"
      ],
      "execution_count": 33,
      "outputs": [
        {
          "output_type": "execute_result",
          "data": {
            "text/plain": [
              "array([[ 2.547777  ],\n",
              "       [ 2.3581944 ],\n",
              "       [ 2.289029  ],\n",
              "       [ 1.9496971 ],\n",
              "       [ 2.3776584 ],\n",
              "       [ 2.1595874 ],\n",
              "       [ 1.7175797 ],\n",
              "       [ 1.8956211 ],\n",
              "       [ 0.28940582],\n",
              "       [ 2.3897274 ],\n",
              "       [ 1.9039162 ],\n",
              "       [ 1.9429307 ],\n",
              "       [ 4.296397  ],\n",
              "       [ 2.7954478 ],\n",
              "       [ 3.6635196 ],\n",
              "       [ 0.13966995],\n",
              "       [-6.036791  ],\n",
              "       [-2.942523  ],\n",
              "       [-1.3151475 ],\n",
              "       [ 1.0287468 ]], dtype=float32)"
            ]
          },
          "metadata": {
            "tags": []
          },
          "execution_count": 33
        }
      ]
    },
    {
      "cell_type": "code",
      "metadata": {
        "id": "hBUUJyuRCiRc"
      },
      "source": [
        "import pandas as pd\n",
        "def createPd(x, y, model, name):\n",
        "  riskscore = model.predict(x).flatten()\n",
        "  der = pd.DataFrame(y + (riskscore, ), index=[\"durations\", \"event\", \"riskscore\"]).T\n",
        "  dest = f\"/content/drive/MyDrive/colab-data/os.{name}.test.tsv\"\n",
        "  der.to_csv(dest, sep=\"\\t\", index=False)\n",
        "  dest = f\"/content/drive/MyDrive/colab-data/os.{name}.test.feather\"\n",
        "  feather.write_dataframe(der, dest=dest, version=1)\n",
        "  "
      ],
      "execution_count": 54,
      "outputs": []
    },
    {
      "cell_type": "code",
      "metadata": {
        "id": "PvVaNlp5DMUj"
      },
      "source": [
        "createPd(x_val, y_val, model, name=\"val\")\n",
        "createPd(x_train, y_train, model, name=\"train\")\n",
        "createPd(x_test1, y_test1, model, name=\"test1\")\n",
        "createPd(x_test2, y_test2, model, name=\"test2\")"
      ],
      "execution_count": 55,
      "outputs": []
    },
    {
      "cell_type": "code",
      "metadata": {
        "colab": {
          "base_uri": "https://localhost:8080/",
          "height": 35
        },
        "id": "OfHhAHg9m-bX",
        "outputId": "ecabb15b-e644-4508-8730-1f621539a7e8"
      },
      "source": [
        ""
      ],
      "execution_count": 42,
      "outputs": [
        {
          "output_type": "execute_result",
          "data": {
            "application/vnd.google.colaboratory.intrinsic+json": {
              "type": "string"
            },
            "text/plain": [
              "'0.4.1'"
            ]
          },
          "metadata": {
            "tags": []
          },
          "execution_count": 42
        }
      ]
    },
    {
      "cell_type": "code",
      "metadata": {
        "id": "3g3_A4Unnw1J"
      },
      "source": [
        ""
      ],
      "execution_count": null,
      "outputs": []
    }
  ]
}