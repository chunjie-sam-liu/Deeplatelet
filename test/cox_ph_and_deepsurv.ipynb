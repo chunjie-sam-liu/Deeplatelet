{
  "nbformat": 4,
  "nbformat_minor": 0,
  "metadata": {
    "colab": {
      "name": "cox-ph-and-deepsurv.ipynb",
      "provenance": [],
      "collapsed_sections": [],
      "authorship_tag": "ABX9TyN4D7y/HuwJQW4vNHxNcprT",
      "include_colab_link": true
    },
    "kernelspec": {
      "name": "python3",
      "display_name": "Python 3"
    }
  },
  "cells": [
    {
      "cell_type": "markdown",
      "metadata": {
        "id": "view-in-github",
        "colab_type": "text"
      },
      "source": [
        "<a href=\"https://colab.research.google.com/github/chunjie-sam-liu/TEP-prognosis/blob/main/test/cox_ph_and_deepsurv.ipynb\" target=\"_parent\"><img src=\"https://colab.research.google.com/assets/colab-badge.svg\" alt=\"Open In Colab\"/></a>"
      ]
    },
    {
      "cell_type": "code",
      "metadata": {
        "colab": {
          "base_uri": "https://localhost:8080/"
        },
        "id": "RE95CceMZIKt",
        "outputId": "f52d8dfb-782b-4a0c-f9c1-5c3cec9780a5"
      },
      "source": [
        "!pip install torchtuples\n",
        "!pip install pycox"
      ],
      "execution_count": 3,
      "outputs": [
        {
          "output_type": "stream",
          "text": [
            "Requirement already satisfied: torchtuples in /usr/local/lib/python3.6/dist-packages (0.2.0)\n",
            "Requirement already satisfied: pandas>=0.24.2 in /usr/local/lib/python3.6/dist-packages (from torchtuples) (1.1.5)\n",
            "Requirement already satisfied: numpy>=1.15.4 in /usr/local/lib/python3.6/dist-packages (from torchtuples) (1.19.5)\n",
            "Requirement already satisfied: matplotlib>=3.0.3 in /usr/local/lib/python3.6/dist-packages (from torchtuples) (3.2.2)\n",
            "Requirement already satisfied: python-dateutil>=2.7.3 in /usr/local/lib/python3.6/dist-packages (from pandas>=0.24.2->torchtuples) (2.8.1)\n",
            "Requirement already satisfied: pytz>=2017.2 in /usr/local/lib/python3.6/dist-packages (from pandas>=0.24.2->torchtuples) (2018.9)\n",
            "Requirement already satisfied: kiwisolver>=1.0.1 in /usr/local/lib/python3.6/dist-packages (from matplotlib>=3.0.3->torchtuples) (1.3.1)\n",
            "Requirement already satisfied: pyparsing!=2.0.4,!=2.1.2,!=2.1.6,>=2.0.1 in /usr/local/lib/python3.6/dist-packages (from matplotlib>=3.0.3->torchtuples) (2.4.7)\n",
            "Requirement already satisfied: cycler>=0.10 in /usr/local/lib/python3.6/dist-packages (from matplotlib>=3.0.3->torchtuples) (0.10.0)\n",
            "Requirement already satisfied: six>=1.5 in /usr/local/lib/python3.6/dist-packages (from python-dateutil>=2.7.3->pandas>=0.24.2->torchtuples) (1.15.0)\n",
            "Collecting pycox\n",
            "\u001b[?25l  Downloading https://files.pythonhosted.org/packages/33/33/8166da2d22ff30305aa0c10e0c6124ef5d3b60b5b0418387bb805bd6b751/pycox-0.2.1-py3-none-any.whl (73kB)\n",
            "\u001b[K     |████████████████████████████████| 81kB 4.0MB/s \n",
            "\u001b[?25hRequirement already satisfied: feather-format>=0.4.0 in /usr/local/lib/python3.6/dist-packages (from pycox) (0.4.1)\n",
            "Requirement already satisfied: numba>=0.44 in /usr/local/lib/python3.6/dist-packages (from pycox) (0.48.0)\n",
            "Requirement already satisfied: scikit-learn>=0.21.2 in /usr/local/lib/python3.6/dist-packages (from pycox) (0.22.2.post1)\n",
            "Requirement already satisfied: h5py>=2.9.0 in /usr/local/lib/python3.6/dist-packages (from pycox) (2.10.0)\n",
            "Requirement already satisfied: requests>=2.22.0 in /usr/local/lib/python3.6/dist-packages (from pycox) (2.23.0)\n",
            "Requirement already satisfied: torchtuples>=0.2.0 in /usr/local/lib/python3.6/dist-packages (from pycox) (0.2.0)\n",
            "Requirement already satisfied: pyarrow>=0.4.0 in /usr/local/lib/python3.6/dist-packages (from feather-format>=0.4.0->pycox) (0.14.1)\n",
            "Requirement already satisfied: llvmlite<0.32.0,>=0.31.0dev0 in /usr/local/lib/python3.6/dist-packages (from numba>=0.44->pycox) (0.31.0)\n",
            "Requirement already satisfied: numpy>=1.15 in /usr/local/lib/python3.6/dist-packages (from numba>=0.44->pycox) (1.19.5)\n",
            "Requirement already satisfied: setuptools in /usr/local/lib/python3.6/dist-packages (from numba>=0.44->pycox) (51.3.3)\n",
            "Requirement already satisfied: scipy>=0.17.0 in /usr/local/lib/python3.6/dist-packages (from scikit-learn>=0.21.2->pycox) (1.4.1)\n",
            "Requirement already satisfied: joblib>=0.11 in /usr/local/lib/python3.6/dist-packages (from scikit-learn>=0.21.2->pycox) (1.0.0)\n",
            "Requirement already satisfied: six in /usr/local/lib/python3.6/dist-packages (from h5py>=2.9.0->pycox) (1.15.0)\n",
            "Requirement already satisfied: idna<3,>=2.5 in /usr/local/lib/python3.6/dist-packages (from requests>=2.22.0->pycox) (2.10)\n",
            "Requirement already satisfied: certifi>=2017.4.17 in /usr/local/lib/python3.6/dist-packages (from requests>=2.22.0->pycox) (2020.12.5)\n",
            "Requirement already satisfied: chardet<4,>=3.0.2 in /usr/local/lib/python3.6/dist-packages (from requests>=2.22.0->pycox) (3.0.4)\n",
            "Requirement already satisfied: urllib3!=1.25.0,!=1.25.1,<1.26,>=1.21.1 in /usr/local/lib/python3.6/dist-packages (from requests>=2.22.0->pycox) (1.24.3)\n",
            "Requirement already satisfied: matplotlib>=3.0.3 in /usr/local/lib/python3.6/dist-packages (from torchtuples>=0.2.0->pycox) (3.2.2)\n",
            "Requirement already satisfied: pandas>=0.24.2 in /usr/local/lib/python3.6/dist-packages (from torchtuples>=0.2.0->pycox) (1.1.5)\n",
            "Requirement already satisfied: pyparsing!=2.0.4,!=2.1.2,!=2.1.6,>=2.0.1 in /usr/local/lib/python3.6/dist-packages (from matplotlib>=3.0.3->torchtuples>=0.2.0->pycox) (2.4.7)\n",
            "Requirement already satisfied: python-dateutil>=2.1 in /usr/local/lib/python3.6/dist-packages (from matplotlib>=3.0.3->torchtuples>=0.2.0->pycox) (2.8.1)\n",
            "Requirement already satisfied: cycler>=0.10 in /usr/local/lib/python3.6/dist-packages (from matplotlib>=3.0.3->torchtuples>=0.2.0->pycox) (0.10.0)\n",
            "Requirement already satisfied: kiwisolver>=1.0.1 in /usr/local/lib/python3.6/dist-packages (from matplotlib>=3.0.3->torchtuples>=0.2.0->pycox) (1.3.1)\n",
            "Requirement already satisfied: pytz>=2017.2 in /usr/local/lib/python3.6/dist-packages (from pandas>=0.24.2->torchtuples>=0.2.0->pycox) (2018.9)\n",
            "Installing collected packages: pycox\n",
            "Successfully installed pycox-0.2.1\n"
          ],
          "name": "stdout"
        }
      ]
    },
    {
      "cell_type": "code",
      "metadata": {
        "id": "70fVlXGpZNwp"
      },
      "source": [
        "import numpy as np\n",
        "import matplotlib.pyplot as plt\n",
        "from sklearn.preprocessing import StandardScaler\n",
        "from sklearn_pandas import DataFrameMapper\n",
        "\n",
        "import torch\n",
        "import torchtuples as tt\n",
        "\n",
        "from pycox.datasets import metabric\n",
        "from pycox.models import CoxPH\n",
        "from pycox.evaluation import EvalSurv"
      ],
      "execution_count": 6,
      "outputs": []
    },
    {
      "cell_type": "code",
      "metadata": {
        "id": "Q365JkswZOGd"
      },
      "source": [
        "np.random.seed(1234)\n",
        "_ = torch.manual_seed(123)"
      ],
      "execution_count": 7,
      "outputs": []
    },
    {
      "cell_type": "code",
      "metadata": {
        "colab": {
          "base_uri": "https://localhost:8080/"
        },
        "id": "4nzGonmJZebM",
        "outputId": "c7b15f03-9571-458d-990f-7b9fda66842b"
      },
      "source": [
        "df_train = metabric.read_df()\n",
        "df_test = df_train.sample(frac=0.2)\n",
        "df_train = df_train.drop(df_test.index)\n",
        "df_val = df_train.sample(frac=0.2)\n",
        "df_train = df_train.drop(df_val.index)"
      ],
      "execution_count": 8,
      "outputs": [
        {
          "output_type": "stream",
          "text": [
            "Dataset 'metabric' not locally available. Downloading...\n"
          ],
          "name": "stdout"
        },
        {
          "output_type": "stream",
          "text": [
            "/usr/local/lib/python3.6/dist-packages/pycox/datasets/from_deepsurv.py:26: H5pyDeprecationWarning: The default file mode will change to 'r' (read-only) in h5py 3.0. To suppress this warning, pass the mode you need to h5py.File(), or set the global default h5.get_config().default_file_mode, or set the environment variable H5PY_DEFAULT_READONLY=1. Available modes are: 'r', 'r+', 'w', 'w-'/'x', 'a'. See the docs for details.\n",
            "  with h5py.File(path) as f:\n"
          ],
          "name": "stderr"
        },
        {
          "output_type": "stream",
          "text": [
            "Done\n"
          ],
          "name": "stdout"
        }
      ]
    },
    {
      "cell_type": "code",
      "metadata": {
        "colab": {
          "base_uri": "https://localhost:8080/",
          "height": 204
        },
        "id": "n033r0gTZjh0",
        "outputId": "825c2ede-a0ff-424e-eda2-c1e453d22702"
      },
      "source": [
        "df_train.head()"
      ],
      "execution_count": 9,
      "outputs": [
        {
          "output_type": "execute_result",
          "data": {
            "text/html": [
              "<div>\n",
              "<style scoped>\n",
              "    .dataframe tbody tr th:only-of-type {\n",
              "        vertical-align: middle;\n",
              "    }\n",
              "\n",
              "    .dataframe tbody tr th {\n",
              "        vertical-align: top;\n",
              "    }\n",
              "\n",
              "    .dataframe thead th {\n",
              "        text-align: right;\n",
              "    }\n",
              "</style>\n",
              "<table border=\"1\" class=\"dataframe\">\n",
              "  <thead>\n",
              "    <tr style=\"text-align: right;\">\n",
              "      <th></th>\n",
              "      <th>x0</th>\n",
              "      <th>x1</th>\n",
              "      <th>x2</th>\n",
              "      <th>x3</th>\n",
              "      <th>x4</th>\n",
              "      <th>x5</th>\n",
              "      <th>x6</th>\n",
              "      <th>x7</th>\n",
              "      <th>x8</th>\n",
              "      <th>duration</th>\n",
              "      <th>event</th>\n",
              "    </tr>\n",
              "  </thead>\n",
              "  <tbody>\n",
              "    <tr>\n",
              "      <th>0</th>\n",
              "      <td>5.603834</td>\n",
              "      <td>7.811392</td>\n",
              "      <td>10.797988</td>\n",
              "      <td>5.967607</td>\n",
              "      <td>1.0</td>\n",
              "      <td>1.0</td>\n",
              "      <td>0.0</td>\n",
              "      <td>1.0</td>\n",
              "      <td>56.840000</td>\n",
              "      <td>99.333336</td>\n",
              "      <td>0</td>\n",
              "    </tr>\n",
              "    <tr>\n",
              "      <th>1</th>\n",
              "      <td>5.284882</td>\n",
              "      <td>9.581043</td>\n",
              "      <td>10.204620</td>\n",
              "      <td>5.664970</td>\n",
              "      <td>1.0</td>\n",
              "      <td>0.0</td>\n",
              "      <td>0.0</td>\n",
              "      <td>1.0</td>\n",
              "      <td>85.940002</td>\n",
              "      <td>95.733330</td>\n",
              "      <td>1</td>\n",
              "    </tr>\n",
              "    <tr>\n",
              "      <th>3</th>\n",
              "      <td>6.654017</td>\n",
              "      <td>5.341846</td>\n",
              "      <td>8.646379</td>\n",
              "      <td>5.655888</td>\n",
              "      <td>0.0</td>\n",
              "      <td>0.0</td>\n",
              "      <td>0.0</td>\n",
              "      <td>0.0</td>\n",
              "      <td>66.910004</td>\n",
              "      <td>239.300003</td>\n",
              "      <td>0</td>\n",
              "    </tr>\n",
              "    <tr>\n",
              "      <th>4</th>\n",
              "      <td>5.456747</td>\n",
              "      <td>5.339741</td>\n",
              "      <td>10.555724</td>\n",
              "      <td>6.008429</td>\n",
              "      <td>1.0</td>\n",
              "      <td>0.0</td>\n",
              "      <td>0.0</td>\n",
              "      <td>1.0</td>\n",
              "      <td>67.849998</td>\n",
              "      <td>56.933334</td>\n",
              "      <td>1</td>\n",
              "    </tr>\n",
              "    <tr>\n",
              "      <th>5</th>\n",
              "      <td>5.425826</td>\n",
              "      <td>6.331182</td>\n",
              "      <td>10.455145</td>\n",
              "      <td>5.749053</td>\n",
              "      <td>1.0</td>\n",
              "      <td>1.0</td>\n",
              "      <td>0.0</td>\n",
              "      <td>1.0</td>\n",
              "      <td>70.519997</td>\n",
              "      <td>123.533333</td>\n",
              "      <td>0</td>\n",
              "    </tr>\n",
              "  </tbody>\n",
              "</table>\n",
              "</div>"
            ],
            "text/plain": [
              "         x0        x1         x2        x3  ...   x7         x8    duration  event\n",
              "0  5.603834  7.811392  10.797988  5.967607  ...  1.0  56.840000   99.333336      0\n",
              "1  5.284882  9.581043  10.204620  5.664970  ...  1.0  85.940002   95.733330      1\n",
              "3  6.654017  5.341846   8.646379  5.655888  ...  0.0  66.910004  239.300003      0\n",
              "4  5.456747  5.339741  10.555724  6.008429  ...  1.0  67.849998   56.933334      1\n",
              "5  5.425826  6.331182  10.455145  5.749053  ...  1.0  70.519997  123.533333      0\n",
              "\n",
              "[5 rows x 11 columns]"
            ]
          },
          "metadata": {
            "tags": []
          },
          "execution_count": 9
        }
      ]
    },
    {
      "cell_type": "code",
      "metadata": {
        "id": "-Oa-q5pNZmtc"
      },
      "source": [
        "cols_standardize = ['x0', 'x1', 'x2', 'x3', 'x8']\n",
        "cols_leave = ['x4', 'x5', 'x6', 'x7']\n",
        "\n",
        "standardize = [([col], StandardScaler()) for col in cols_standardize]\n",
        "leave = [(col, None) for col in cols_leave]\n",
        "\n",
        "x_mapper = DataFrameMapper(standardize + leave)"
      ],
      "execution_count": 10,
      "outputs": []
    },
    {
      "cell_type": "code",
      "metadata": {
        "id": "MR0baYCKZowU"
      },
      "source": [
        "x_train = x_mapper.fit_transform(df_train).astype('float32')\n",
        "x_val = x_mapper.transform(df_val).astype('float32')\n",
        "x_test = x_mapper.transform(df_test).astype('float32')"
      ],
      "execution_count": 11,
      "outputs": []
    },
    {
      "cell_type": "code",
      "metadata": {
        "id": "JplAk4RwZqb9"
      },
      "source": [
        "get_target = lambda df: (df['duration'].values, df['event'].values)\n",
        "y_train = get_target(df_train)\n",
        "y_val = get_target(df_val)\n",
        "durations_test, events_test = get_target(df_test)\n",
        "val = x_val, y_val"
      ],
      "execution_count": 12,
      "outputs": []
    },
    {
      "cell_type": "code",
      "metadata": {
        "id": "Td5lgbMDZsXV"
      },
      "source": [
        "in_features = x_train.shape[1]\n",
        "num_nodes = [32, 32]\n",
        "out_features = 1\n",
        "batch_norm = True\n",
        "dropout = 0.1\n",
        "output_bias = False\n",
        "\n",
        "net = tt.practical.MLPVanilla(in_features, num_nodes, out_features, batch_norm,\n",
        "                              dropout, output_bias=output_bias)"
      ],
      "execution_count": 13,
      "outputs": []
    },
    {
      "cell_type": "code",
      "metadata": {
        "id": "tpUTxV9KZu_V"
      },
      "source": [
        "model = CoxPH(net, tt.optim.Adam)"
      ],
      "execution_count": 14,
      "outputs": []
    },
    {
      "cell_type": "code",
      "metadata": {
        "colab": {
          "base_uri": "https://localhost:8080/",
          "height": 283
        },
        "id": "VbMTE72MZxj8",
        "outputId": "7432dddd-f8e5-41f2-de08-7933eb5562fd"
      },
      "source": [
        "\n",
        "batch_size = 256\n",
        "lrfinder = model.lr_finder(x_train, y_train, batch_size, tolerance=10)\n",
        "_ = lrfinder.plot()"
      ],
      "execution_count": 15,
      "outputs": [
        {
          "output_type": "display_data",
          "data": {
            "image/png": "[encoded data removed]",
            "text/plain": [
              "<Figure size 432x288 with 1 Axes>"
            ]
          },
          "metadata": {
            "tags": [],
            "needs_background": "light"
          }
        }
      ]
    },
    {
      "cell_type": "code",
      "metadata": {
        "colab": {
          "base_uri": "https://localhost:8080/"
        },
        "id": "GYhMnyigZzoS",
        "outputId": "3a4726f6-0c61-4d7c-cc43-6fe918a1a597"
      },
      "source": [
        "lrfinder.get_best_lr()"
      ],
      "execution_count": 16,
      "outputs": [
        {
          "output_type": "execute_result",
          "data": {
            "text/plain": [
              "0.0613590727341321"
            ]
          },
          "metadata": {
            "tags": []
          },
          "execution_count": 16
        }
      ]
    },
    {
      "cell_type": "code",
      "metadata": {
        "id": "JuFCSgjuZ1xN"
      },
      "source": [
        "epochs = 512\n",
        "callbacks = [tt.callbacks.EarlyStopping()]\n",
        "verbose = True"
      ],
      "execution_count": 17,
      "outputs": []
    },
    {
      "cell_type": "code",
      "metadata": {
        "colab": {
          "base_uri": "https://localhost:8080/"
        },
        "id": "MTbOpL8vZ3_V",
        "outputId": "c67d4481-b7b9-44d0-ed46-6ef7c2fa96c0"
      },
      "source": [
        "%%time\n",
        "log = model.fit(x_train, y_train, batch_size, epochs, callbacks, verbose,\n",
        "                val_data=val, val_batch_size=batch_size)"
      ],
      "execution_count": 18,
      "outputs": [
        {
          "output_type": "stream",
          "text": [
            "0:\t[0s / 0s],\t\ttrain_loss: 4.7805,\tval_loss: 3.9704\n",
            "1:\t[0s / 0s],\t\ttrain_loss: 4.6663,\tval_loss: 4.0426\n",
            "2:\t[0s / 0s],\t\ttrain_loss: 4.6195,\tval_loss: 3.9074\n",
            "3:\t[0s / 0s],\t\ttrain_loss: 4.5979,\tval_loss: 3.9429\n",
            "4:\t[0s / 0s],\t\ttrain_loss: 4.5847,\tval_loss: 3.9162\n",
            "5:\t[0s / 0s],\t\ttrain_loss: 4.5572,\tval_loss: 3.9225\n",
            "6:\t[0s / 0s],\t\ttrain_loss: 4.5611,\tval_loss: 3.9255\n",
            "7:\t[0s / 0s],\t\ttrain_loss: 4.5508,\tval_loss: 3.9290\n",
            "8:\t[0s / 0s],\t\ttrain_loss: 4.5577,\tval_loss: 3.9557\n",
            "9:\t[0s / 0s],\t\ttrain_loss: 4.5578,\tval_loss: 3.8967\n",
            "10:\t[0s / 0s],\t\ttrain_loss: 4.5475,\tval_loss: 3.9598\n",
            "11:\t[0s / 0s],\t\ttrain_loss: 4.5447,\tval_loss: 3.9310\n",
            "12:\t[0s / 0s],\t\ttrain_loss: 4.5320,\tval_loss: 3.9501\n",
            "13:\t[0s / 0s],\t\ttrain_loss: 4.5621,\tval_loss: 3.9553\n",
            "14:\t[0s / 0s],\t\ttrain_loss: 4.5479,\tval_loss: 3.9061\n",
            "15:\t[0s / 0s],\t\ttrain_loss: 4.5371,\tval_loss: 3.9465\n",
            "16:\t[0s / 0s],\t\ttrain_loss: 4.5041,\tval_loss: 3.9648\n",
            "17:\t[0s / 0s],\t\ttrain_loss: 4.5735,\tval_loss: 3.9840\n",
            "18:\t[0s / 0s],\t\ttrain_loss: 4.5601,\tval_loss: 3.9561\n",
            "19:\t[0s / 0s],\t\ttrain_loss: 4.5640,\tval_loss: 3.9555\n",
            "CPU times: user 435 ms, sys: 0 ns, total: 435 ms\n",
            "Wall time: 445 ms\n"
          ],
          "name": "stdout"
        }
      ]
    },
    {
      "cell_type": "code",
      "metadata": {
        "colab": {
          "base_uri": "https://localhost:8080/",
          "height": 265
        },
        "id": "Pf-LrU4LZ5e5",
        "outputId": "18003cbf-edc9-4075-f712-13ce961757b0"
      },
      "source": [
        "_ = log.plot()"
      ],
      "execution_count": 19,
      "outputs": [
        {
          "output_type": "display_data",
          "data": {
            "image/png": "[encoded data removed]",
            "text/plain": [
              "<Figure size 432x288 with 1 Axes>"
            ]
          },
          "metadata": {
            "tags": [],
            "needs_background": "light"
          }
        }
      ]
    },
    {
      "cell_type": "code",
      "metadata": {
        "colab": {
          "base_uri": "https://localhost:8080/"
        },
        "id": "HKiKHMpNZ7Q6",
        "outputId": "46b9e37a-096b-496c-a1c8-ef0d2752c6a1"
      },
      "source": [
        "model.partial_log_likelihood(*val).mean()"
      ],
      "execution_count": 20,
      "outputs": [
        {
          "output_type": "execute_result",
          "data": {
            "text/plain": [
              "-4.982344627380371"
            ]
          },
          "metadata": {
            "tags": []
          },
          "execution_count": 20
        }
      ]
    },
    {
      "cell_type": "code",
      "metadata": {
        "id": "lZkAxeH2Z9Zz"
      },
      "source": [
        "_ = model.compute_baseline_hazards()"
      ],
      "execution_count": 21,
      "outputs": []
    },
    {
      "cell_type": "code",
      "metadata": {
        "colab": {
          "base_uri": "https://localhost:8080/"
        },
        "id": "H7ZXb_1Ra_RG",
        "outputId": "f1c326ec-8e1f-45bb-fbe1-d800d63dc87b"
      },
      "source": [
        "x_test[[0]]"
      ],
      "execution_count": 38,
      "outputs": [
        {
          "output_type": "execute_result",
          "data": {
            "text/plain": [
              "array([[-0.7876059 ,  2.3557053 ,  0.05270737,  2.2646382 ,  1.4492289 ,\n",
              "         0.        ,  0.        ,  0.        ,  1.        ]],\n",
              "      dtype=float32)"
            ]
          },
          "metadata": {
            "tags": []
          },
          "execution_count": 38
        }
      ]
    },
    {
      "cell_type": "code",
      "metadata": {
        "id": "mXV7KeWPZ_Uz"
      },
      "source": [
        "surv = model.predict_surv_df(x_test[[0]])"
      ],
      "execution_count": 39,
      "outputs": []
    },
    {
      "cell_type": "code",
      "metadata": {
        "colab": {
          "base_uri": "https://localhost:8080/"
        },
        "id": "0vyzTJRGbGUS",
        "outputId": "a91fb03e-b9a8-4df4-c394-3ecb7bbe9348"
      },
      "source": [
        "surv.shape"
      ],
      "execution_count": 41,
      "outputs": [
        {
          "output_type": "execute_result",
          "data": {
            "text/plain": [
              "(1128, 1)"
            ]
          },
          "metadata": {
            "tags": []
          },
          "execution_count": 41
        }
      ]
    },
    {
      "cell_type": "code",
      "metadata": {
        "colab": {
          "base_uri": "https://localhost:8080/",
          "height": 640
        },
        "id": "BjifFAAaakHM",
        "outputId": "2cc4e1e8-9fcf-4c1b-b31f-c136fa40cb11"
      },
      "source": [
        "surv"
      ],
      "execution_count": 33,
      "outputs": [
        {
          "output_type": "execute_result",
          "data": {
            "text/html": [
              "<div>\n",
              "<style scoped>\n",
              "    .dataframe tbody tr th:only-of-type {\n",
              "        vertical-align: middle;\n",
              "    }\n",
              "\n",
              "    .dataframe tbody tr th {\n",
              "        vertical-align: top;\n",
              "    }\n",
              "\n",
              "    .dataframe thead th {\n",
              "        text-align: right;\n",
              "    }\n",
              "</style>\n",
              "<table border=\"1\" class=\"dataframe\">\n",
              "  <thead>\n",
              "    <tr style=\"text-align: right;\">\n",
              "      <th></th>\n",
              "      <th>0</th>\n",
              "      <th>1</th>\n",
              "      <th>2</th>\n",
              "      <th>3</th>\n",
              "      <th>4</th>\n",
              "      <th>5</th>\n",
              "      <th>6</th>\n",
              "      <th>7</th>\n",
              "      <th>8</th>\n",
              "      <th>9</th>\n",
              "      <th>10</th>\n",
              "      <th>11</th>\n",
              "      <th>12</th>\n",
              "      <th>13</th>\n",
              "      <th>14</th>\n",
              "      <th>15</th>\n",
              "      <th>16</th>\n",
              "      <th>17</th>\n",
              "      <th>18</th>\n",
              "      <th>19</th>\n",
              "      <th>20</th>\n",
              "      <th>21</th>\n",
              "      <th>22</th>\n",
              "      <th>23</th>\n",
              "      <th>24</th>\n",
              "      <th>25</th>\n",
              "      <th>26</th>\n",
              "      <th>27</th>\n",
              "      <th>28</th>\n",
              "      <th>29</th>\n",
              "      <th>30</th>\n",
              "      <th>31</th>\n",
              "      <th>32</th>\n",
              "      <th>33</th>\n",
              "      <th>34</th>\n",
              "      <th>35</th>\n",
              "      <th>36</th>\n",
              "      <th>37</th>\n",
              "      <th>38</th>\n",
              "      <th>39</th>\n",
              "      <th>...</th>\n",
              "      <th>341</th>\n",
              "      <th>342</th>\n",
              "      <th>343</th>\n",
              "      <th>344</th>\n",
              "      <th>345</th>\n",
              "      <th>346</th>\n",
              "      <th>347</th>\n",
              "      <th>348</th>\n",
              "      <th>349</th>\n",
              "      <th>350</th>\n",
              "      <th>351</th>\n",
              "      <th>352</th>\n",
              "      <th>353</th>\n",
              "      <th>354</th>\n",
              "      <th>355</th>\n",
              "      <th>356</th>\n",
              "      <th>357</th>\n",
              "      <th>358</th>\n",
              "      <th>359</th>\n",
              "      <th>360</th>\n",
              "      <th>361</th>\n",
              "      <th>362</th>\n",
              "      <th>363</th>\n",
              "      <th>364</th>\n",
              "      <th>365</th>\n",
              "      <th>366</th>\n",
              "      <th>367</th>\n",
              "      <th>368</th>\n",
              "      <th>369</th>\n",
              "      <th>370</th>\n",
              "      <th>371</th>\n",
              "      <th>372</th>\n",
              "      <th>373</th>\n",
              "      <th>374</th>\n",
              "      <th>375</th>\n",
              "      <th>376</th>\n",
              "      <th>377</th>\n",
              "      <th>378</th>\n",
              "      <th>379</th>\n",
              "      <th>380</th>\n",
              "    </tr>\n",
              "    <tr>\n",
              "      <th>duration</th>\n",
              "      <th></th>\n",
              "      <th></th>\n",
              "      <th></th>\n",
              "      <th></th>\n",
              "      <th></th>\n",
              "      <th></th>\n",
              "      <th></th>\n",
              "      <th></th>\n",
              "      <th></th>\n",
              "      <th></th>\n",
              "      <th></th>\n",
              "      <th></th>\n",
              "      <th></th>\n",
              "      <th></th>\n",
              "      <th></th>\n",
              "      <th></th>\n",
              "      <th></th>\n",
              "      <th></th>\n",
              "      <th></th>\n",
              "      <th></th>\n",
              "      <th></th>\n",
              "      <th></th>\n",
              "      <th></th>\n",
              "      <th></th>\n",
              "      <th></th>\n",
              "      <th></th>\n",
              "      <th></th>\n",
              "      <th></th>\n",
              "      <th></th>\n",
              "      <th></th>\n",
              "      <th></th>\n",
              "      <th></th>\n",
              "      <th></th>\n",
              "      <th></th>\n",
              "      <th></th>\n",
              "      <th></th>\n",
              "      <th></th>\n",
              "      <th></th>\n",
              "      <th></th>\n",
              "      <th></th>\n",
              "      <th></th>\n",
              "      <th></th>\n",
              "      <th></th>\n",
              "      <th></th>\n",
              "      <th></th>\n",
              "      <th></th>\n",
              "      <th></th>\n",
              "      <th></th>\n",
              "      <th></th>\n",
              "      <th></th>\n",
              "      <th></th>\n",
              "      <th></th>\n",
              "      <th></th>\n",
              "      <th></th>\n",
              "      <th></th>\n",
              "      <th></th>\n",
              "      <th></th>\n",
              "      <th></th>\n",
              "      <th></th>\n",
              "      <th></th>\n",
              "      <th></th>\n",
              "      <th></th>\n",
              "      <th></th>\n",
              "      <th></th>\n",
              "      <th></th>\n",
              "      <th></th>\n",
              "      <th></th>\n",
              "      <th></th>\n",
              "      <th></th>\n",
              "      <th></th>\n",
              "      <th></th>\n",
              "      <th></th>\n",
              "      <th></th>\n",
              "      <th></th>\n",
              "      <th></th>\n",
              "      <th></th>\n",
              "      <th></th>\n",
              "      <th></th>\n",
              "      <th></th>\n",
              "      <th></th>\n",
              "      <th></th>\n",
              "    </tr>\n",
              "  </thead>\n",
              "  <tbody>\n",
              "    <tr>\n",
              "      <th>0.100000</th>\n",
              "      <td>0.999125</td>\n",
              "      <td>0.999710</td>\n",
              "      <td>0.999452</td>\n",
              "      <td>0.999341</td>\n",
              "      <td>0.998469</td>\n",
              "      <td>0.999662</td>\n",
              "      <td>0.999745</td>\n",
              "      <td>0.999845</td>\n",
              "      <td>0.998300</td>\n",
              "      <td>9.980245e-01</td>\n",
              "      <td>0.999574</td>\n",
              "      <td>0.998917</td>\n",
              "      <td>0.998556</td>\n",
              "      <td>0.999491</td>\n",
              "      <td>0.999337</td>\n",
              "      <td>0.998444</td>\n",
              "      <td>0.999392</td>\n",
              "      <td>0.998586</td>\n",
              "      <td>0.998734</td>\n",
              "      <td>0.999703</td>\n",
              "      <td>0.999795</td>\n",
              "      <td>9.981591e-01</td>\n",
              "      <td>0.999788</td>\n",
              "      <td>0.999080</td>\n",
              "      <td>9.960631e-01</td>\n",
              "      <td>0.998409</td>\n",
              "      <td>0.999382</td>\n",
              "      <td>0.998723</td>\n",
              "      <td>0.999737</td>\n",
              "      <td>0.999474</td>\n",
              "      <td>0.999592</td>\n",
              "      <td>0.999544</td>\n",
              "      <td>0.999329</td>\n",
              "      <td>0.998605</td>\n",
              "      <td>0.999255</td>\n",
              "      <td>0.999546</td>\n",
              "      <td>0.999546</td>\n",
              "      <td>0.999748</td>\n",
              "      <td>0.999415</td>\n",
              "      <td>0.999447</td>\n",
              "      <td>...</td>\n",
              "      <td>0.999328</td>\n",
              "      <td>0.999731</td>\n",
              "      <td>0.999728</td>\n",
              "      <td>0.999811</td>\n",
              "      <td>0.999074</td>\n",
              "      <td>0.999888</td>\n",
              "      <td>0.999362</td>\n",
              "      <td>0.998947</td>\n",
              "      <td>0.998948</td>\n",
              "      <td>9.973809e-01</td>\n",
              "      <td>0.999605</td>\n",
              "      <td>0.998592</td>\n",
              "      <td>9.972476e-01</td>\n",
              "      <td>0.999407</td>\n",
              "      <td>0.999815</td>\n",
              "      <td>0.999201</td>\n",
              "      <td>0.998328</td>\n",
              "      <td>0.999516</td>\n",
              "      <td>0.999211</td>\n",
              "      <td>0.999400</td>\n",
              "      <td>0.999283</td>\n",
              "      <td>0.999490</td>\n",
              "      <td>0.999293</td>\n",
              "      <td>0.999671</td>\n",
              "      <td>0.999444</td>\n",
              "      <td>0.999515</td>\n",
              "      <td>0.999842</td>\n",
              "      <td>0.999448</td>\n",
              "      <td>0.999195</td>\n",
              "      <td>0.999274</td>\n",
              "      <td>0.999441</td>\n",
              "      <td>9.980302e-01</td>\n",
              "      <td>0.999255</td>\n",
              "      <td>0.999842</td>\n",
              "      <td>0.999368</td>\n",
              "      <td>0.999301</td>\n",
              "      <td>0.998792</td>\n",
              "      <td>0.998454</td>\n",
              "      <td>0.999680</td>\n",
              "      <td>9.981791e-01</td>\n",
              "    </tr>\n",
              "    <tr>\n",
              "      <th>0.766667</th>\n",
              "      <td>0.999125</td>\n",
              "      <td>0.999710</td>\n",
              "      <td>0.999452</td>\n",
              "      <td>0.999341</td>\n",
              "      <td>0.998469</td>\n",
              "      <td>0.999662</td>\n",
              "      <td>0.999745</td>\n",
              "      <td>0.999845</td>\n",
              "      <td>0.998300</td>\n",
              "      <td>9.980245e-01</td>\n",
              "      <td>0.999574</td>\n",
              "      <td>0.998917</td>\n",
              "      <td>0.998556</td>\n",
              "      <td>0.999491</td>\n",
              "      <td>0.999337</td>\n",
              "      <td>0.998444</td>\n",
              "      <td>0.999392</td>\n",
              "      <td>0.998586</td>\n",
              "      <td>0.998734</td>\n",
              "      <td>0.999703</td>\n",
              "      <td>0.999795</td>\n",
              "      <td>9.981591e-01</td>\n",
              "      <td>0.999788</td>\n",
              "      <td>0.999080</td>\n",
              "      <td>9.960631e-01</td>\n",
              "      <td>0.998409</td>\n",
              "      <td>0.999382</td>\n",
              "      <td>0.998723</td>\n",
              "      <td>0.999737</td>\n",
              "      <td>0.999474</td>\n",
              "      <td>0.999592</td>\n",
              "      <td>0.999544</td>\n",
              "      <td>0.999329</td>\n",
              "      <td>0.998605</td>\n",
              "      <td>0.999255</td>\n",
              "      <td>0.999546</td>\n",
              "      <td>0.999546</td>\n",
              "      <td>0.999748</td>\n",
              "      <td>0.999415</td>\n",
              "      <td>0.999447</td>\n",
              "      <td>...</td>\n",
              "      <td>0.999328</td>\n",
              "      <td>0.999731</td>\n",
              "      <td>0.999728</td>\n",
              "      <td>0.999811</td>\n",
              "      <td>0.999074</td>\n",
              "      <td>0.999888</td>\n",
              "      <td>0.999362</td>\n",
              "      <td>0.998947</td>\n",
              "      <td>0.998948</td>\n",
              "      <td>9.973809e-01</td>\n",
              "      <td>0.999605</td>\n",
              "      <td>0.998592</td>\n",
              "      <td>9.972476e-01</td>\n",
              "      <td>0.999407</td>\n",
              "      <td>0.999815</td>\n",
              "      <td>0.999201</td>\n",
              "      <td>0.998328</td>\n",
              "      <td>0.999516</td>\n",
              "      <td>0.999211</td>\n",
              "      <td>0.999400</td>\n",
              "      <td>0.999283</td>\n",
              "      <td>0.999490</td>\n",
              "      <td>0.999293</td>\n",
              "      <td>0.999671</td>\n",
              "      <td>0.999444</td>\n",
              "      <td>0.999515</td>\n",
              "      <td>0.999842</td>\n",
              "      <td>0.999448</td>\n",
              "      <td>0.999195</td>\n",
              "      <td>0.999274</td>\n",
              "      <td>0.999441</td>\n",
              "      <td>9.980302e-01</td>\n",
              "      <td>0.999255</td>\n",
              "      <td>0.999842</td>\n",
              "      <td>0.999368</td>\n",
              "      <td>0.999301</td>\n",
              "      <td>0.998792</td>\n",
              "      <td>0.998454</td>\n",
              "      <td>0.999680</td>\n",
              "      <td>9.981791e-01</td>\n",
              "    </tr>\n",
              "    <tr>\n",
              "      <th>1.233333</th>\n",
              "      <td>0.999125</td>\n",
              "      <td>0.999710</td>\n",
              "      <td>0.999452</td>\n",
              "      <td>0.999341</td>\n",
              "      <td>0.998469</td>\n",
              "      <td>0.999662</td>\n",
              "      <td>0.999745</td>\n",
              "      <td>0.999845</td>\n",
              "      <td>0.998300</td>\n",
              "      <td>9.980245e-01</td>\n",
              "      <td>0.999574</td>\n",
              "      <td>0.998917</td>\n",
              "      <td>0.998556</td>\n",
              "      <td>0.999491</td>\n",
              "      <td>0.999337</td>\n",
              "      <td>0.998444</td>\n",
              "      <td>0.999392</td>\n",
              "      <td>0.998586</td>\n",
              "      <td>0.998734</td>\n",
              "      <td>0.999703</td>\n",
              "      <td>0.999795</td>\n",
              "      <td>9.981591e-01</td>\n",
              "      <td>0.999788</td>\n",
              "      <td>0.999080</td>\n",
              "      <td>9.960631e-01</td>\n",
              "      <td>0.998409</td>\n",
              "      <td>0.999382</td>\n",
              "      <td>0.998723</td>\n",
              "      <td>0.999737</td>\n",
              "      <td>0.999474</td>\n",
              "      <td>0.999592</td>\n",
              "      <td>0.999544</td>\n",
              "      <td>0.999329</td>\n",
              "      <td>0.998605</td>\n",
              "      <td>0.999255</td>\n",
              "      <td>0.999546</td>\n",
              "      <td>0.999546</td>\n",
              "      <td>0.999748</td>\n",
              "      <td>0.999415</td>\n",
              "      <td>0.999447</td>\n",
              "      <td>...</td>\n",
              "      <td>0.999328</td>\n",
              "      <td>0.999731</td>\n",
              "      <td>0.999728</td>\n",
              "      <td>0.999811</td>\n",
              "      <td>0.999074</td>\n",
              "      <td>0.999888</td>\n",
              "      <td>0.999362</td>\n",
              "      <td>0.998947</td>\n",
              "      <td>0.998948</td>\n",
              "      <td>9.973809e-01</td>\n",
              "      <td>0.999605</td>\n",
              "      <td>0.998592</td>\n",
              "      <td>9.972476e-01</td>\n",
              "      <td>0.999407</td>\n",
              "      <td>0.999815</td>\n",
              "      <td>0.999201</td>\n",
              "      <td>0.998328</td>\n",
              "      <td>0.999516</td>\n",
              "      <td>0.999211</td>\n",
              "      <td>0.999400</td>\n",
              "      <td>0.999283</td>\n",
              "      <td>0.999490</td>\n",
              "      <td>0.999293</td>\n",
              "      <td>0.999671</td>\n",
              "      <td>0.999444</td>\n",
              "      <td>0.999515</td>\n",
              "      <td>0.999842</td>\n",
              "      <td>0.999448</td>\n",
              "      <td>0.999195</td>\n",
              "      <td>0.999274</td>\n",
              "      <td>0.999441</td>\n",
              "      <td>9.980302e-01</td>\n",
              "      <td>0.999255</td>\n",
              "      <td>0.999842</td>\n",
              "      <td>0.999368</td>\n",
              "      <td>0.999301</td>\n",
              "      <td>0.998792</td>\n",
              "      <td>0.998454</td>\n",
              "      <td>0.999680</td>\n",
              "      <td>9.981791e-01</td>\n",
              "    </tr>\n",
              "    <tr>\n",
              "      <th>1.266667</th>\n",
              "      <td>0.999125</td>\n",
              "      <td>0.999710</td>\n",
              "      <td>0.999452</td>\n",
              "      <td>0.999341</td>\n",
              "      <td>0.998469</td>\n",
              "      <td>0.999662</td>\n",
              "      <td>0.999745</td>\n",
              "      <td>0.999845</td>\n",
              "      <td>0.998300</td>\n",
              "      <td>9.980245e-01</td>\n",
              "      <td>0.999574</td>\n",
              "      <td>0.998917</td>\n",
              "      <td>0.998556</td>\n",
              "      <td>0.999491</td>\n",
              "      <td>0.999337</td>\n",
              "      <td>0.998444</td>\n",
              "      <td>0.999392</td>\n",
              "      <td>0.998586</td>\n",
              "      <td>0.998734</td>\n",
              "      <td>0.999703</td>\n",
              "      <td>0.999795</td>\n",
              "      <td>9.981591e-01</td>\n",
              "      <td>0.999788</td>\n",
              "      <td>0.999080</td>\n",
              "      <td>9.960631e-01</td>\n",
              "      <td>0.998409</td>\n",
              "      <td>0.999382</td>\n",
              "      <td>0.998723</td>\n",
              "      <td>0.999737</td>\n",
              "      <td>0.999474</td>\n",
              "      <td>0.999592</td>\n",
              "      <td>0.999544</td>\n",
              "      <td>0.999329</td>\n",
              "      <td>0.998605</td>\n",
              "      <td>0.999255</td>\n",
              "      <td>0.999546</td>\n",
              "      <td>0.999546</td>\n",
              "      <td>0.999748</td>\n",
              "      <td>0.999415</td>\n",
              "      <td>0.999447</td>\n",
              "      <td>...</td>\n",
              "      <td>0.999328</td>\n",
              "      <td>0.999731</td>\n",
              "      <td>0.999728</td>\n",
              "      <td>0.999811</td>\n",
              "      <td>0.999074</td>\n",
              "      <td>0.999888</td>\n",
              "      <td>0.999362</td>\n",
              "      <td>0.998947</td>\n",
              "      <td>0.998948</td>\n",
              "      <td>9.973809e-01</td>\n",
              "      <td>0.999605</td>\n",
              "      <td>0.998592</td>\n",
              "      <td>9.972476e-01</td>\n",
              "      <td>0.999407</td>\n",
              "      <td>0.999815</td>\n",
              "      <td>0.999201</td>\n",
              "      <td>0.998328</td>\n",
              "      <td>0.999516</td>\n",
              "      <td>0.999211</td>\n",
              "      <td>0.999400</td>\n",
              "      <td>0.999283</td>\n",
              "      <td>0.999490</td>\n",
              "      <td>0.999293</td>\n",
              "      <td>0.999671</td>\n",
              "      <td>0.999444</td>\n",
              "      <td>0.999515</td>\n",
              "      <td>0.999842</td>\n",
              "      <td>0.999448</td>\n",
              "      <td>0.999195</td>\n",
              "      <td>0.999274</td>\n",
              "      <td>0.999441</td>\n",
              "      <td>9.980302e-01</td>\n",
              "      <td>0.999255</td>\n",
              "      <td>0.999842</td>\n",
              "      <td>0.999368</td>\n",
              "      <td>0.999301</td>\n",
              "      <td>0.998792</td>\n",
              "      <td>0.998454</td>\n",
              "      <td>0.999680</td>\n",
              "      <td>9.981791e-01</td>\n",
              "    </tr>\n",
              "    <tr>\n",
              "      <th>1.433333</th>\n",
              "      <td>0.999125</td>\n",
              "      <td>0.999710</td>\n",
              "      <td>0.999452</td>\n",
              "      <td>0.999341</td>\n",
              "      <td>0.998469</td>\n",
              "      <td>0.999662</td>\n",
              "      <td>0.999745</td>\n",
              "      <td>0.999845</td>\n",
              "      <td>0.998300</td>\n",
              "      <td>9.980245e-01</td>\n",
              "      <td>0.999574</td>\n",
              "      <td>0.998917</td>\n",
              "      <td>0.998556</td>\n",
              "      <td>0.999491</td>\n",
              "      <td>0.999337</td>\n",
              "      <td>0.998444</td>\n",
              "      <td>0.999392</td>\n",
              "      <td>0.998586</td>\n",
              "      <td>0.998734</td>\n",
              "      <td>0.999703</td>\n",
              "      <td>0.999795</td>\n",
              "      <td>9.981591e-01</td>\n",
              "      <td>0.999788</td>\n",
              "      <td>0.999080</td>\n",
              "      <td>9.960631e-01</td>\n",
              "      <td>0.998409</td>\n",
              "      <td>0.999382</td>\n",
              "      <td>0.998723</td>\n",
              "      <td>0.999737</td>\n",
              "      <td>0.999474</td>\n",
              "      <td>0.999592</td>\n",
              "      <td>0.999544</td>\n",
              "      <td>0.999329</td>\n",
              "      <td>0.998605</td>\n",
              "      <td>0.999255</td>\n",
              "      <td>0.999546</td>\n",
              "      <td>0.999546</td>\n",
              "      <td>0.999748</td>\n",
              "      <td>0.999415</td>\n",
              "      <td>0.999447</td>\n",
              "      <td>...</td>\n",
              "      <td>0.999328</td>\n",
              "      <td>0.999731</td>\n",
              "      <td>0.999728</td>\n",
              "      <td>0.999811</td>\n",
              "      <td>0.999074</td>\n",
              "      <td>0.999888</td>\n",
              "      <td>0.999362</td>\n",
              "      <td>0.998947</td>\n",
              "      <td>0.998948</td>\n",
              "      <td>9.973809e-01</td>\n",
              "      <td>0.999605</td>\n",
              "      <td>0.998592</td>\n",
              "      <td>9.972476e-01</td>\n",
              "      <td>0.999407</td>\n",
              "      <td>0.999815</td>\n",
              "      <td>0.999201</td>\n",
              "      <td>0.998328</td>\n",
              "      <td>0.999516</td>\n",
              "      <td>0.999211</td>\n",
              "      <td>0.999400</td>\n",
              "      <td>0.999283</td>\n",
              "      <td>0.999490</td>\n",
              "      <td>0.999293</td>\n",
              "      <td>0.999671</td>\n",
              "      <td>0.999444</td>\n",
              "      <td>0.999515</td>\n",
              "      <td>0.999842</td>\n",
              "      <td>0.999448</td>\n",
              "      <td>0.999195</td>\n",
              "      <td>0.999274</td>\n",
              "      <td>0.999441</td>\n",
              "      <td>9.980302e-01</td>\n",
              "      <td>0.999255</td>\n",
              "      <td>0.999842</td>\n",
              "      <td>0.999368</td>\n",
              "      <td>0.999301</td>\n",
              "      <td>0.998792</td>\n",
              "      <td>0.998454</td>\n",
              "      <td>0.999680</td>\n",
              "      <td>9.981791e-01</td>\n",
              "    </tr>\n",
              "    <tr>\n",
              "      <th>...</th>\n",
              "      <td>...</td>\n",
              "      <td>...</td>\n",
              "      <td>...</td>\n",
              "      <td>...</td>\n",
              "      <td>...</td>\n",
              "      <td>...</td>\n",
              "      <td>...</td>\n",
              "      <td>...</td>\n",
              "      <td>...</td>\n",
              "      <td>...</td>\n",
              "      <td>...</td>\n",
              "      <td>...</td>\n",
              "      <td>...</td>\n",
              "      <td>...</td>\n",
              "      <td>...</td>\n",
              "      <td>...</td>\n",
              "      <td>...</td>\n",
              "      <td>...</td>\n",
              "      <td>...</td>\n",
              "      <td>...</td>\n",
              "      <td>...</td>\n",
              "      <td>...</td>\n",
              "      <td>...</td>\n",
              "      <td>...</td>\n",
              "      <td>...</td>\n",
              "      <td>...</td>\n",
              "      <td>...</td>\n",
              "      <td>...</td>\n",
              "      <td>...</td>\n",
              "      <td>...</td>\n",
              "      <td>...</td>\n",
              "      <td>...</td>\n",
              "      <td>...</td>\n",
              "      <td>...</td>\n",
              "      <td>...</td>\n",
              "      <td>...</td>\n",
              "      <td>...</td>\n",
              "      <td>...</td>\n",
              "      <td>...</td>\n",
              "      <td>...</td>\n",
              "      <td>...</td>\n",
              "      <td>...</td>\n",
              "      <td>...</td>\n",
              "      <td>...</td>\n",
              "      <td>...</td>\n",
              "      <td>...</td>\n",
              "      <td>...</td>\n",
              "      <td>...</td>\n",
              "      <td>...</td>\n",
              "      <td>...</td>\n",
              "      <td>...</td>\n",
              "      <td>...</td>\n",
              "      <td>...</td>\n",
              "      <td>...</td>\n",
              "      <td>...</td>\n",
              "      <td>...</td>\n",
              "      <td>...</td>\n",
              "      <td>...</td>\n",
              "      <td>...</td>\n",
              "      <td>...</td>\n",
              "      <td>...</td>\n",
              "      <td>...</td>\n",
              "      <td>...</td>\n",
              "      <td>...</td>\n",
              "      <td>...</td>\n",
              "      <td>...</td>\n",
              "      <td>...</td>\n",
              "      <td>...</td>\n",
              "      <td>...</td>\n",
              "      <td>...</td>\n",
              "      <td>...</td>\n",
              "      <td>...</td>\n",
              "      <td>...</td>\n",
              "      <td>...</td>\n",
              "      <td>...</td>\n",
              "      <td>...</td>\n",
              "      <td>...</td>\n",
              "      <td>...</td>\n",
              "      <td>...</td>\n",
              "      <td>...</td>\n",
              "      <td>...</td>\n",
              "    </tr>\n",
              "    <tr>\n",
              "      <th>335.600006</th>\n",
              "      <td>0.016071</td>\n",
              "      <td>0.253978</td>\n",
              "      <td>0.075349</td>\n",
              "      <td>0.044548</td>\n",
              "      <td>0.000724</td>\n",
              "      <td>0.202743</td>\n",
              "      <td>0.300339</td>\n",
              "      <td>0.482200</td>\n",
              "      <td>0.000325</td>\n",
              "      <td>8.855791e-05</td>\n",
              "      <td>0.133947</td>\n",
              "      <td>0.006001</td>\n",
              "      <td>0.001091</td>\n",
              "      <td>0.090434</td>\n",
              "      <td>0.043755</td>\n",
              "      <td>0.000642</td>\n",
              "      <td>0.056653</td>\n",
              "      <td>0.001260</td>\n",
              "      <td>0.002537</td>\n",
              "      <td>0.246288</td>\n",
              "      <td>0.380023</td>\n",
              "      <td>1.673175e-04</td>\n",
              "      <td>0.368102</td>\n",
              "      <td>0.013015</td>\n",
              "      <td>8.227844e-09</td>\n",
              "      <td>0.000545</td>\n",
              "      <td>0.054096</td>\n",
              "      <td>0.002401</td>\n",
              "      <td>0.288361</td>\n",
              "      <td>0.083486</td>\n",
              "      <td>0.145560</td>\n",
              "      <td>0.116219</td>\n",
              "      <td>0.042170</td>\n",
              "      <td>0.001374</td>\n",
              "      <td>0.029636</td>\n",
              "      <td>0.117285</td>\n",
              "      <td>0.117481</td>\n",
              "      <td>0.304346</td>\n",
              "      <td>0.063255</td>\n",
              "      <td>0.073483</td>\n",
              "      <td>...</td>\n",
              "      <td>0.041989</td>\n",
              "      <td>0.281484</td>\n",
              "      <td>0.277627</td>\n",
              "      <td>0.410139</td>\n",
              "      <td>0.012636</td>\n",
              "      <td>0.590366</td>\n",
              "      <td>0.049221</td>\n",
              "      <td>0.006923</td>\n",
              "      <td>0.006963</td>\n",
              "      <td>4.216511e-06</td>\n",
              "      <td>0.155148</td>\n",
              "      <td>0.001292</td>\n",
              "      <td>2.243920e-06</td>\n",
              "      <td>0.060905</td>\n",
              "      <td>0.417907</td>\n",
              "      <td>0.023023</td>\n",
              "      <td>0.000371</td>\n",
              "      <td>0.101923</td>\n",
              "      <td>0.024099</td>\n",
              "      <td>0.058796</td>\n",
              "      <td>0.033817</td>\n",
              "      <td>0.090079</td>\n",
              "      <td>0.035516</td>\n",
              "      <td>0.212088</td>\n",
              "      <td>0.072344</td>\n",
              "      <td>0.101231</td>\n",
              "      <td>0.475361</td>\n",
              "      <td>0.073801</td>\n",
              "      <td>0.022388</td>\n",
              "      <td>0.032524</td>\n",
              "      <td>0.071497</td>\n",
              "      <td>9.096808e-05</td>\n",
              "      <td>0.029739</td>\n",
              "      <td>0.474318</td>\n",
              "      <td>0.050551</td>\n",
              "      <td>0.036943</td>\n",
              "      <td>0.003328</td>\n",
              "      <td>0.000675</td>\n",
              "      <td>0.220934</td>\n",
              "      <td>1.839177e-04</td>\n",
              "    </tr>\n",
              "    <tr>\n",
              "      <th>335.733337</th>\n",
              "      <td>0.010459</td>\n",
              "      <td>0.220242</td>\n",
              "      <td>0.057584</td>\n",
              "      <td>0.032234</td>\n",
              "      <td>0.000341</td>\n",
              "      <td>0.171741</td>\n",
              "      <td>0.265025</td>\n",
              "      <td>0.446978</td>\n",
              "      <td>0.000141</td>\n",
              "      <td>3.355619e-05</td>\n",
              "      <td>0.108678</td>\n",
              "      <td>0.003525</td>\n",
              "      <td>0.000537</td>\n",
              "      <td>0.070436</td>\n",
              "      <td>0.031601</td>\n",
              "      <td>0.000299</td>\n",
              "      <td>0.042031</td>\n",
              "      <td>0.000629</td>\n",
              "      <td>0.001363</td>\n",
              "      <td>0.212892</td>\n",
              "      <td>0.343647</td>\n",
              "      <td>6.773620e-05</td>\n",
              "      <td>0.331767</td>\n",
              "      <td>0.008287</td>\n",
              "      <td>1.187252e-09</td>\n",
              "      <td>0.000249</td>\n",
              "      <td>0.039941</td>\n",
              "      <td>0.001282</td>\n",
              "      <td>0.253381</td>\n",
              "      <td>0.064486</td>\n",
              "      <td>0.119126</td>\n",
              "      <td>0.092912</td>\n",
              "      <td>0.030340</td>\n",
              "      <td>0.000692</td>\n",
              "      <td>0.020554</td>\n",
              "      <td>0.093853</td>\n",
              "      <td>0.094027</td>\n",
              "      <td>0.268932</td>\n",
              "      <td>0.047470</td>\n",
              "      <td>0.056012</td>\n",
              "      <td>...</td>\n",
              "      <td>0.030196</td>\n",
              "      <td>0.246718</td>\n",
              "      <td>0.242989</td>\n",
              "      <td>0.373835</td>\n",
              "      <td>0.008020</td>\n",
              "      <td>0.558881</td>\n",
              "      <td>0.035987</td>\n",
              "      <td>0.004128</td>\n",
              "      <td>0.004154</td>\n",
              "      <td>1.164107e-06</td>\n",
              "      <td>0.127818</td>\n",
              "      <td>0.000647</td>\n",
              "      <td>5.801751e-07</td>\n",
              "      <td>0.045527</td>\n",
              "      <td>0.381659</td>\n",
              "      <td>0.015554</td>\n",
              "      <td>0.000163</td>\n",
              "      <td>0.080379</td>\n",
              "      <td>0.016358</td>\n",
              "      <td>0.043790</td>\n",
              "      <td>0.023778</td>\n",
              "      <td>0.070132</td>\n",
              "      <td>0.025100</td>\n",
              "      <td>0.180501</td>\n",
              "      <td>0.055054</td>\n",
              "      <td>0.079777</td>\n",
              "      <td>0.439983</td>\n",
              "      <td>0.056280</td>\n",
              "      <td>0.015081</td>\n",
              "      <td>0.022777</td>\n",
              "      <td>0.054343</td>\n",
              "      <td>3.456583e-05</td>\n",
              "      <td>0.020633</td>\n",
              "      <td>0.438918</td>\n",
              "      <td>0.037062</td>\n",
              "      <td>0.026216</td>\n",
              "      <td>0.001839</td>\n",
              "      <td>0.000316</td>\n",
              "      <td>0.188830</td>\n",
              "      <td>7.519263e-05</td>\n",
              "    </tr>\n",
              "    <tr>\n",
              "      <th>337.033325</th>\n",
              "      <td>0.010459</td>\n",
              "      <td>0.220242</td>\n",
              "      <td>0.057584</td>\n",
              "      <td>0.032234</td>\n",
              "      <td>0.000341</td>\n",
              "      <td>0.171741</td>\n",
              "      <td>0.265025</td>\n",
              "      <td>0.446978</td>\n",
              "      <td>0.000141</td>\n",
              "      <td>3.355619e-05</td>\n",
              "      <td>0.108678</td>\n",
              "      <td>0.003525</td>\n",
              "      <td>0.000537</td>\n",
              "      <td>0.070436</td>\n",
              "      <td>0.031601</td>\n",
              "      <td>0.000299</td>\n",
              "      <td>0.042031</td>\n",
              "      <td>0.000629</td>\n",
              "      <td>0.001363</td>\n",
              "      <td>0.212892</td>\n",
              "      <td>0.343647</td>\n",
              "      <td>6.773620e-05</td>\n",
              "      <td>0.331767</td>\n",
              "      <td>0.008287</td>\n",
              "      <td>1.187252e-09</td>\n",
              "      <td>0.000249</td>\n",
              "      <td>0.039941</td>\n",
              "      <td>0.001282</td>\n",
              "      <td>0.253381</td>\n",
              "      <td>0.064486</td>\n",
              "      <td>0.119126</td>\n",
              "      <td>0.092912</td>\n",
              "      <td>0.030340</td>\n",
              "      <td>0.000692</td>\n",
              "      <td>0.020554</td>\n",
              "      <td>0.093853</td>\n",
              "      <td>0.094027</td>\n",
              "      <td>0.268932</td>\n",
              "      <td>0.047470</td>\n",
              "      <td>0.056012</td>\n",
              "      <td>...</td>\n",
              "      <td>0.030196</td>\n",
              "      <td>0.246718</td>\n",
              "      <td>0.242989</td>\n",
              "      <td>0.373835</td>\n",
              "      <td>0.008020</td>\n",
              "      <td>0.558881</td>\n",
              "      <td>0.035987</td>\n",
              "      <td>0.004128</td>\n",
              "      <td>0.004154</td>\n",
              "      <td>1.164107e-06</td>\n",
              "      <td>0.127818</td>\n",
              "      <td>0.000647</td>\n",
              "      <td>5.801751e-07</td>\n",
              "      <td>0.045527</td>\n",
              "      <td>0.381659</td>\n",
              "      <td>0.015554</td>\n",
              "      <td>0.000163</td>\n",
              "      <td>0.080379</td>\n",
              "      <td>0.016358</td>\n",
              "      <td>0.043790</td>\n",
              "      <td>0.023778</td>\n",
              "      <td>0.070132</td>\n",
              "      <td>0.025100</td>\n",
              "      <td>0.180501</td>\n",
              "      <td>0.055054</td>\n",
              "      <td>0.079777</td>\n",
              "      <td>0.439983</td>\n",
              "      <td>0.056280</td>\n",
              "      <td>0.015081</td>\n",
              "      <td>0.022777</td>\n",
              "      <td>0.054343</td>\n",
              "      <td>3.456583e-05</td>\n",
              "      <td>0.020633</td>\n",
              "      <td>0.438918</td>\n",
              "      <td>0.037062</td>\n",
              "      <td>0.026216</td>\n",
              "      <td>0.001839</td>\n",
              "      <td>0.000316</td>\n",
              "      <td>0.188830</td>\n",
              "      <td>7.519263e-05</td>\n",
              "    </tr>\n",
              "    <tr>\n",
              "      <th>351.000000</th>\n",
              "      <td>0.004459</td>\n",
              "      <td>0.165983</td>\n",
              "      <td>0.033772</td>\n",
              "      <td>0.016962</td>\n",
              "      <td>0.000077</td>\n",
              "      <td>0.123550</td>\n",
              "      <td>0.206766</td>\n",
              "      <td>0.384513</td>\n",
              "      <td>0.000027</td>\n",
              "      <td>4.890741e-06</td>\n",
              "      <td>0.071773</td>\n",
              "      <td>0.001227</td>\n",
              "      <td>0.000131</td>\n",
              "      <td>0.042895</td>\n",
              "      <td>0.016567</td>\n",
              "      <td>0.000066</td>\n",
              "      <td>0.023241</td>\n",
              "      <td>0.000159</td>\n",
              "      <td>0.000397</td>\n",
              "      <td>0.159429</td>\n",
              "      <td>0.281446</td>\n",
              "      <td>1.125765e-05</td>\n",
              "      <td>0.269935</td>\n",
              "      <td>0.003383</td>\n",
              "      <td>2.547100e-11</td>\n",
              "      <td>0.000053</td>\n",
              "      <td>0.021876</td>\n",
              "      <td>0.000369</td>\n",
              "      <td>0.196028</td>\n",
              "      <td>0.038629</td>\n",
              "      <td>0.080035</td>\n",
              "      <td>0.059589</td>\n",
              "      <td>0.015785</td>\n",
              "      <td>0.000178</td>\n",
              "      <td>0.009943</td>\n",
              "      <td>0.060306</td>\n",
              "      <td>0.060439</td>\n",
              "      <td>0.210388</td>\n",
              "      <td>0.026853</td>\n",
              "      <td>0.032680</td>\n",
              "      <td>...</td>\n",
              "      <td>0.015696</td>\n",
              "      <td>0.189925</td>\n",
              "      <td>0.186522</td>\n",
              "      <td>0.311027</td>\n",
              "      <td>0.003254</td>\n",
              "      <td>0.501285</td>\n",
              "      <td>0.019330</td>\n",
              "      <td>0.001479</td>\n",
              "      <td>0.001490</td>\n",
              "      <td>9.051247e-08</td>\n",
              "      <td>0.087012</td>\n",
              "      <td>0.000164</td>\n",
              "      <td>3.960395e-08</td>\n",
              "      <td>0.025553</td>\n",
              "      <td>0.318768</td>\n",
              "      <td>0.007142</td>\n",
              "      <td>0.000032</td>\n",
              "      <td>0.050173</td>\n",
              "      <td>0.007583</td>\n",
              "      <td>0.024400</td>\n",
              "      <td>0.011820</td>\n",
              "      <td>0.042675</td>\n",
              "      <td>0.012604</td>\n",
              "      <td>0.131066</td>\n",
              "      <td>0.032018</td>\n",
              "      <td>0.049727</td>\n",
              "      <td>0.377382</td>\n",
              "      <td>0.032866</td>\n",
              "      <td>0.006885</td>\n",
              "      <td>0.011232</td>\n",
              "      <td>0.031528</td>\n",
              "      <td>5.065890e-06</td>\n",
              "      <td>0.009988</td>\n",
              "      <td>0.376298</td>\n",
              "      <td>0.020017</td>\n",
              "      <td>0.013272</td>\n",
              "      <td>0.000567</td>\n",
              "      <td>0.000070</td>\n",
              "      <td>0.138274</td>\n",
              "      <td>1.274326e-05</td>\n",
              "    </tr>\n",
              "    <tr>\n",
              "      <th>355.200012</th>\n",
              "      <td>0.001090</td>\n",
              "      <td>0.104004</td>\n",
              "      <td>0.013981</td>\n",
              "      <td>0.005870</td>\n",
              "      <td>0.000007</td>\n",
              "      <td>0.071690</td>\n",
              "      <td>0.137184</td>\n",
              "      <td>0.299824</td>\n",
              "      <td>0.000002</td>\n",
              "      <td>2.027936e-07</td>\n",
              "      <td>0.036156</td>\n",
              "      <td>0.000214</td>\n",
              "      <td>0.000013</td>\n",
              "      <td>0.018899</td>\n",
              "      <td>0.005698</td>\n",
              "      <td>0.000005</td>\n",
              "      <td>0.008730</td>\n",
              "      <td>0.000016</td>\n",
              "      <td>0.000052</td>\n",
              "      <td>0.098855</td>\n",
              "      <td>0.202338</td>\n",
              "      <td>5.799257e-07</td>\n",
              "      <td>0.191964</td>\n",
              "      <td>0.000769</td>\n",
              "      <td>4.451538e-14</td>\n",
              "      <td>0.000004</td>\n",
              "      <td>0.008089</td>\n",
              "      <td>0.000047</td>\n",
              "      <td>0.128266</td>\n",
              "      <td>0.016561</td>\n",
              "      <td>0.041477</td>\n",
              "      <td>0.028599</td>\n",
              "      <td>0.005361</td>\n",
              "      <td>0.000019</td>\n",
              "      <td>0.002994</td>\n",
              "      <td>0.029034</td>\n",
              "      <td>0.029114</td>\n",
              "      <td>0.140219</td>\n",
              "      <td>0.010473</td>\n",
              "      <td>0.013414</td>\n",
              "      <td>...</td>\n",
              "      <td>0.005323</td>\n",
              "      <td>0.123254</td>\n",
              "      <td>0.120477</td>\n",
              "      <td>0.229497</td>\n",
              "      <td>0.000733</td>\n",
              "      <td>0.418811</td>\n",
              "      <td>0.006921</td>\n",
              "      <td>0.000271</td>\n",
              "      <td>0.000274</td>\n",
              "      <td>1.328576e-09</td>\n",
              "      <td>0.046085</td>\n",
              "      <td>0.000017</td>\n",
              "      <td>4.687906e-10</td>\n",
              "      <td>0.009838</td>\n",
              "      <td>0.236719</td>\n",
              "      <td>0.001973</td>\n",
              "      <td>0.000002</td>\n",
              "      <td>0.023026</td>\n",
              "      <td>0.002128</td>\n",
              "      <td>0.009282</td>\n",
              "      <td>0.003723</td>\n",
              "      <td>0.018777</td>\n",
              "      <td>0.004037</td>\n",
              "      <td>0.077228</td>\n",
              "      <td>0.013072</td>\n",
              "      <td>0.022768</td>\n",
              "      <td>0.292833</td>\n",
              "      <td>0.013510</td>\n",
              "      <td>0.001884</td>\n",
              "      <td>0.003491</td>\n",
              "      <td>0.012821</td>\n",
              "      <td>2.119887e-07</td>\n",
              "      <td>0.003011</td>\n",
              "      <td>0.291773</td>\n",
              "      <td>0.007232</td>\n",
              "      <td>0.004309</td>\n",
              "      <td>0.000081</td>\n",
              "      <td>0.000006</td>\n",
              "      <td>0.082619</td>\n",
              "      <td>6.779809e-07</td>\n",
              "    </tr>\n",
              "  </tbody>\n",
              "</table>\n",
              "<p>1128 rows × 381 columns</p>\n",
              "</div>"
            ],
            "text/plain": [
              "                 0         1         2    ...       378       379           380\n",
              "duration                                  ...                                  \n",
              "0.100000    0.999125  0.999710  0.999452  ...  0.998454  0.999680  9.981791e-01\n",
              "0.766667    0.999125  0.999710  0.999452  ...  0.998454  0.999680  9.981791e-01\n",
              "1.233333    0.999125  0.999710  0.999452  ...  0.998454  0.999680  9.981791e-01\n",
              "1.266667    0.999125  0.999710  0.999452  ...  0.998454  0.999680  9.981791e-01\n",
              "1.433333    0.999125  0.999710  0.999452  ...  0.998454  0.999680  9.981791e-01\n",
              "...              ...       ...       ...  ...       ...       ...           ...\n",
              "335.600006  0.016071  0.253978  0.075349  ...  0.000675  0.220934  1.839177e-04\n",
              "335.733337  0.010459  0.220242  0.057584  ...  0.000316  0.188830  7.519263e-05\n",
              "337.033325  0.010459  0.220242  0.057584  ...  0.000316  0.188830  7.519263e-05\n",
              "351.000000  0.004459  0.165983  0.033772  ...  0.000070  0.138274  1.274326e-05\n",
              "355.200012  0.001090  0.104004  0.013981  ...  0.000006  0.082619  6.779809e-07\n",
              "\n",
              "[1128 rows x 381 columns]"
            ]
          },
          "metadata": {
            "tags": []
          },
          "execution_count": 33
        }
      ]
    },
    {
      "cell_type": "code",
      "metadata": {
        "id": "b87p0vIcbO9j"
      },
      "source": [
        "surv = model.predict_surv_df(x_test)"
      ],
      "execution_count": 42,
      "outputs": []
    },
    {
      "cell_type": "code",
      "metadata": {
        "colab": {
          "base_uri": "https://localhost:8080/",
          "height": 279
        },
        "id": "ft1m0hluaBAd",
        "outputId": "8bd0a1bc-fac7-42c8-af44-3eae60ce0a68"
      },
      "source": [
        "surv.iloc[:, :5].plot()\n",
        "plt.ylabel('S(t | x)')\n",
        "_ = plt.xlabel('Time')"
      ],
      "execution_count": 43,
      "outputs": [
        {
          "output_type": "display_data",
          "data": {
            "image/png": "[encoded data removed]",
            "text/plain": [
              "<Figure size 432x288 with 1 Axes>"
            ]
          },
          "metadata": {
            "tags": [],
            "needs_background": "light"
          }
        }
      ]
    },
    {
      "cell_type": "code",
      "metadata": {
        "colab": {
          "base_uri": "https://localhost:8080/"
        },
        "id": "BXYhF1nTbjha",
        "outputId": "4477914c-6423-4ae5-9af1-3501bc433bf1"
      },
      "source": [
        "durations_test[:3]"
      ],
      "execution_count": 55,
      "outputs": [
        {
          "output_type": "execute_result",
          "data": {
            "text/plain": [
              "array([ 69.1     ,  35.633335, 252.96666 ], dtype=float32)"
            ]
          },
          "metadata": {
            "tags": []
          },
          "execution_count": 55
        }
      ]
    },
    {
      "cell_type": "code",
      "metadata": {
        "colab": {
          "base_uri": "https://localhost:8080/"
        },
        "id": "whZJ1MSrbnSc",
        "outputId": "a008410e-1aac-4c73-ceb1-d1b35b266bba"
      },
      "source": [
        "events_test[:3]"
      ],
      "execution_count": 56,
      "outputs": [
        {
          "output_type": "execute_result",
          "data": {
            "text/plain": [
              "array([1, 1, 0], dtype=int32)"
            ]
          },
          "metadata": {
            "tags": []
          },
          "execution_count": 56
        }
      ]
    },
    {
      "cell_type": "code",
      "metadata": {
        "colab": {
          "base_uri": "https://localhost:8080/"
        },
        "id": "QgOGdw2-c4TA",
        "outputId": "06de78fd-8322-48f9-b0dc-b653ca8a2244"
      },
      "source": [
        "np.array(surv.values, order='C')"
      ],
      "execution_count": 62,
      "outputs": [
        {
          "output_type": "execute_result",
          "data": {
            "text/plain": [
              "array([[9.99125083e-01, 9.99709634e-01, 9.99452261e-01, ...,\n",
              "        9.98454263e-01, 9.99680107e-01, 9.98179117e-01],\n",
              "       [9.99125083e-01, 9.99709634e-01, 9.99452261e-01, ...,\n",
              "        9.98454263e-01, 9.99680107e-01, 9.98179117e-01],\n",
              "       [9.99125083e-01, 9.99709634e-01, 9.99452261e-01, ...,\n",
              "        9.98454263e-01, 9.99680107e-01, 9.98179117e-01],\n",
              "       ...,\n",
              "       [1.04587636e-02, 2.20241972e-01, 5.75842657e-02, ...,\n",
              "        3.16075487e-04, 1.88829772e-01, 7.51926313e-05],\n",
              "       [4.45911059e-03, 1.65983110e-01, 3.37721677e-02, ...,\n",
              "        7.00604199e-05, 1.38274266e-01, 1.27432581e-05],\n",
              "       [1.08984107e-03, 1.04004399e-01, 1.39814624e-02, ...,\n",
              "        5.80867228e-06, 8.26194016e-02, 6.77980948e-07]])"
            ]
          },
          "metadata": {
            "tags": []
          },
          "execution_count": 62
        }
      ]
    },
    {
      "cell_type": "code",
      "metadata": {
        "colab": {
          "base_uri": "https://localhost:8080/",
          "height": 450
        },
        "id": "lzH3-zocb9oq",
        "outputId": "afbff45b-b4a4-4337-e987-5c8ffaf6c548"
      },
      "source": [
        "surv.iloc[:, :3]"
      ],
      "execution_count": 57,
      "outputs": [
        {
          "output_type": "execute_result",
          "data": {
            "text/html": [
              "<div>\n",
              "<style scoped>\n",
              "    .dataframe tbody tr th:only-of-type {\n",
              "        vertical-align: middle;\n",
              "    }\n",
              "\n",
              "    .dataframe tbody tr th {\n",
              "        vertical-align: top;\n",
              "    }\n",
              "\n",
              "    .dataframe thead th {\n",
              "        text-align: right;\n",
              "    }\n",
              "</style>\n",
              "<table border=\"1\" class=\"dataframe\">\n",
              "  <thead>\n",
              "    <tr style=\"text-align: right;\">\n",
              "      <th></th>\n",
              "      <th>0</th>\n",
              "      <th>1</th>\n",
              "      <th>2</th>\n",
              "    </tr>\n",
              "    <tr>\n",
              "      <th>duration</th>\n",
              "      <th></th>\n",
              "      <th></th>\n",
              "      <th></th>\n",
              "    </tr>\n",
              "  </thead>\n",
              "  <tbody>\n",
              "    <tr>\n",
              "      <th>0.100000</th>\n",
              "      <td>0.999125</td>\n",
              "      <td>0.999710</td>\n",
              "      <td>0.999452</td>\n",
              "    </tr>\n",
              "    <tr>\n",
              "      <th>0.766667</th>\n",
              "      <td>0.999125</td>\n",
              "      <td>0.999710</td>\n",
              "      <td>0.999452</td>\n",
              "    </tr>\n",
              "    <tr>\n",
              "      <th>1.233333</th>\n",
              "      <td>0.999125</td>\n",
              "      <td>0.999710</td>\n",
              "      <td>0.999452</td>\n",
              "    </tr>\n",
              "    <tr>\n",
              "      <th>1.266667</th>\n",
              "      <td>0.999125</td>\n",
              "      <td>0.999710</td>\n",
              "      <td>0.999452</td>\n",
              "    </tr>\n",
              "    <tr>\n",
              "      <th>1.433333</th>\n",
              "      <td>0.999125</td>\n",
              "      <td>0.999710</td>\n",
              "      <td>0.999452</td>\n",
              "    </tr>\n",
              "    <tr>\n",
              "      <th>...</th>\n",
              "      <td>...</td>\n",
              "      <td>...</td>\n",
              "      <td>...</td>\n",
              "    </tr>\n",
              "    <tr>\n",
              "      <th>335.600006</th>\n",
              "      <td>0.016071</td>\n",
              "      <td>0.253978</td>\n",
              "      <td>0.075349</td>\n",
              "    </tr>\n",
              "    <tr>\n",
              "      <th>335.733337</th>\n",
              "      <td>0.010459</td>\n",
              "      <td>0.220242</td>\n",
              "      <td>0.057584</td>\n",
              "    </tr>\n",
              "    <tr>\n",
              "      <th>337.033325</th>\n",
              "      <td>0.010459</td>\n",
              "      <td>0.220242</td>\n",
              "      <td>0.057584</td>\n",
              "    </tr>\n",
              "    <tr>\n",
              "      <th>351.000000</th>\n",
              "      <td>0.004459</td>\n",
              "      <td>0.165983</td>\n",
              "      <td>0.033772</td>\n",
              "    </tr>\n",
              "    <tr>\n",
              "      <th>355.200012</th>\n",
              "      <td>0.001090</td>\n",
              "      <td>0.104004</td>\n",
              "      <td>0.013981</td>\n",
              "    </tr>\n",
              "  </tbody>\n",
              "</table>\n",
              "<p>1128 rows × 3 columns</p>\n",
              "</div>"
            ],
            "text/plain": [
              "                   0         1         2\n",
              "duration                                \n",
              "0.100000    0.999125  0.999710  0.999452\n",
              "0.766667    0.999125  0.999710  0.999452\n",
              "1.233333    0.999125  0.999710  0.999452\n",
              "1.266667    0.999125  0.999710  0.999452\n",
              "1.433333    0.999125  0.999710  0.999452\n",
              "...              ...       ...       ...\n",
              "335.600006  0.016071  0.253978  0.075349\n",
              "335.733337  0.010459  0.220242  0.057584\n",
              "337.033325  0.010459  0.220242  0.057584\n",
              "351.000000  0.004459  0.165983  0.033772\n",
              "355.200012  0.001090  0.104004  0.013981\n",
              "\n",
              "[1128 rows x 3 columns]"
            ]
          },
          "metadata": {
            "tags": []
          },
          "execution_count": 57
        }
      ]
    },
    {
      "cell_type": "code",
      "metadata": {
        "colab": {
          "base_uri": "https://localhost:8080/",
          "height": 419
        },
        "id": "RN9ed9S9bUoj",
        "outputId": "d0ff5395-e3d7-491d-dbc6-2571241733b3"
      },
      "source": [
        "import pandas as pd\n",
        "pd.DataFrame(durations_test, events_test)"
      ],
      "execution_count": 48,
      "outputs": [
        {
          "output_type": "execute_result",
          "data": {
            "text/html": [
              "<div>\n",
              "<style scoped>\n",
              "    .dataframe tbody tr th:only-of-type {\n",
              "        vertical-align: middle;\n",
              "    }\n",
              "\n",
              "    .dataframe tbody tr th {\n",
              "        vertical-align: top;\n",
              "    }\n",
              "\n",
              "    .dataframe thead th {\n",
              "        text-align: right;\n",
              "    }\n",
              "</style>\n",
              "<table border=\"1\" class=\"dataframe\">\n",
              "  <thead>\n",
              "    <tr style=\"text-align: right;\">\n",
              "      <th></th>\n",
              "      <th>0</th>\n",
              "    </tr>\n",
              "  </thead>\n",
              "  <tbody>\n",
              "    <tr>\n",
              "      <th>1</th>\n",
              "      <td>69.099998</td>\n",
              "    </tr>\n",
              "    <tr>\n",
              "      <th>1</th>\n",
              "      <td>35.633335</td>\n",
              "    </tr>\n",
              "    <tr>\n",
              "      <th>0</th>\n",
              "      <td>252.966660</td>\n",
              "    </tr>\n",
              "    <tr>\n",
              "      <th>0</th>\n",
              "      <td>222.199997</td>\n",
              "    </tr>\n",
              "    <tr>\n",
              "      <th>1</th>\n",
              "      <td>107.766670</td>\n",
              "    </tr>\n",
              "    <tr>\n",
              "      <th>...</th>\n",
              "      <td>...</td>\n",
              "    </tr>\n",
              "    <tr>\n",
              "      <th>1</th>\n",
              "      <td>73.833336</td>\n",
              "    </tr>\n",
              "    <tr>\n",
              "      <th>1</th>\n",
              "      <td>15.200000</td>\n",
              "    </tr>\n",
              "    <tr>\n",
              "      <th>1</th>\n",
              "      <td>46.666668</td>\n",
              "    </tr>\n",
              "    <tr>\n",
              "      <th>1</th>\n",
              "      <td>98.699997</td>\n",
              "    </tr>\n",
              "    <tr>\n",
              "      <th>1</th>\n",
              "      <td>143.533340</td>\n",
              "    </tr>\n",
              "  </tbody>\n",
              "</table>\n",
              "<p>381 rows × 1 columns</p>\n",
              "</div>"
            ],
            "text/plain": [
              "             0\n",
              "1    69.099998\n",
              "1    35.633335\n",
              "0   252.966660\n",
              "0   222.199997\n",
              "1   107.766670\n",
              "..         ...\n",
              "1    73.833336\n",
              "1    15.200000\n",
              "1    46.666668\n",
              "1    98.699997\n",
              "1   143.533340\n",
              "\n",
              "[381 rows x 1 columns]"
            ]
          },
          "metadata": {
            "tags": []
          },
          "execution_count": 48
        }
      ]
    },
    {
      "cell_type": "code",
      "metadata": {
        "id": "isVGof9oaCxV"
      },
      "source": [
        "ev = EvalSurv(surv, durations_test, events_test, censor_surv='km')"
      ],
      "execution_count": 24,
      "outputs": []
    },
    {
      "cell_type": "code",
      "metadata": {
        "colab": {
          "base_uri": "https://localhost:8080/"
        },
        "id": "8JvozlIfcttr",
        "outputId": "7f9d620d-b83c-463a-852c-ad94ba0ba07d"
      },
      "source": [
        "ev"
      ],
      "execution_count": 60,
      "outputs": [
        {
          "output_type": "execute_result",
          "data": {
            "text/plain": [
              "<pycox.evaluation.eval_surv.EvalSurv at 0x7fed74cba668>"
            ]
          },
          "metadata": {
            "tags": []
          },
          "execution_count": 60
        }
      ]
    },
    {
      "cell_type": "code",
      "metadata": {
        "colab": {
          "base_uri": "https://localhost:8080/"
        },
        "id": "M5aaCZyxcsQr",
        "outputId": "e18dcd9e-03a8-4668-9b24-40bf1d58090e"
      },
      "source": [
        "ev.concordance_td()"
      ],
      "execution_count": 59,
      "outputs": [
        {
          "output_type": "execute_result",
          "data": {
            "text/plain": [
              "0.6607052042719105"
            ]
          },
          "metadata": {
            "tags": []
          },
          "execution_count": 59
        }
      ]
    },
    {
      "cell_type": "code",
      "metadata": {
        "colab": {
          "base_uri": "https://localhost:8080/"
        },
        "id": "QYwh9dYxaFBU",
        "outputId": "ca4671a1-3882-4e67-dd41-6c29f6b198c1"
      },
      "source": [
        "ev.concordance_td('adj_antolini')"
      ],
      "execution_count": 58,
      "outputs": [
        {
          "output_type": "execute_result",
          "data": {
            "text/plain": [
              "0.6607052042719105"
            ]
          },
          "metadata": {
            "tags": []
          },
          "execution_count": 58
        }
      ]
    },
    {
      "cell_type": "code",
      "metadata": {
        "colab": {
          "base_uri": "https://localhost:8080/",
          "height": 265
        },
        "id": "FA-nbVnEaGHc",
        "outputId": "68ad9f35-977a-4c47-fa1f-b63b1550dae2"
      },
      "source": [
        "time_grid = np.linspace(durations_test.min(), durations_test.max(), 100)\n",
        "_ = ev.brier_score(time_grid).plot()"
      ],
      "execution_count": 26,
      "outputs": [
        {
          "output_type": "display_data",
          "data": {
            "image/png": "[encoded data removed]",
            "text/plain": [
              "<Figure size 432x288 with 1 Axes>"
            ]
          },
          "metadata": {
            "tags": [],
            "needs_background": "light"
          }
        }
      ]
    },
    {
      "cell_type": "code",
      "metadata": {
        "colab": {
          "base_uri": "https://localhost:8080/"
        },
        "id": "f7Xg_8ZbaHfL",
        "outputId": "91954c34-0daf-4230-a66a-3e37a7d4d120"
      },
      "source": [
        "ev.integrated_brier_score(time_grid)"
      ],
      "execution_count": 27,
      "outputs": [
        {
          "output_type": "execute_result",
          "data": {
            "text/plain": [
              "0.16223513515140095"
            ]
          },
          "metadata": {
            "tags": []
          },
          "execution_count": 27
        }
      ]
    },
    {
      "cell_type": "code",
      "metadata": {
        "colab": {
          "base_uri": "https://localhost:8080/"
        },
        "id": "pP8JZ9xtaIuq",
        "outputId": "1f77960b-a6bf-4585-898a-caace5ce4032"
      },
      "source": [
        "ev.integrated_nbll(time_grid)"
      ],
      "execution_count": 28,
      "outputs": [
        {
          "output_type": "execute_result",
          "data": {
            "text/plain": [
              "0.4821016544943982"
            ]
          },
          "metadata": {
            "tags": []
          },
          "execution_count": 28
        }
      ]
    },
    {
      "cell_type": "code",
      "metadata": {
        "id": "nFUM6ED8aJ4i"
      },
      "source": [
        ""
      ],
      "execution_count": null,
      "outputs": []
    }
  ]
}