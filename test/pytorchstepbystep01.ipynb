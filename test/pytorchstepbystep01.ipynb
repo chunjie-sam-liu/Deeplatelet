{
  "nbformat": 4,
  "nbformat_minor": 0,
  "metadata": {
    "colab": {
      "name": "pytorchstepbystep01.ipynb",
      "provenance": [],
      "collapsed_sections": [],
      "authorship_tag": "ABX9TyNhInk7RHTv32sBxkiFceq0",
      "include_colab_link": true
    },
    "kernelspec": {
      "name": "python3",
      "display_name": "Python 3"
    },
    "accelerator": "GPU"
  },
  "cells": [
    {
      "cell_type": "markdown",
      "metadata": {
        "id": "view-in-github",
        "colab_type": "text"
      },
      "source": [
        "<a href=\"https://colab.research.google.com/github/chunjie-sam-liu/TEP-prognosis/blob/main/test/pytorchstepbystep01.ipynb\" target=\"_parent\"><img src=\"https://colab.research.google.com/assets/colab-badge.svg\" alt=\"Open In Colab\"/></a>"
      ]
    },
    {
      "cell_type": "markdown",
      "metadata": {
        "id": "bTjjIJNLiS8b"
      },
      "source": [
        "# Deep Learning with PyTorch Step-by-Step: A Beginner's Guide"
      ]
    },
    {
      "cell_type": "code",
      "metadata": {
        "id": "NtZmnV56huPG"
      },
      "source": [
        "try:\n",
        "    import google.colab\n",
        "    import requests\n",
        "    url = 'https://raw.githubusercontent.com/dvgodoy/PyTorchStepByStep/master/config.py'\n",
        "    r = requests.get(url, allow_redirects=True)\n",
        "    open('config.py', 'wb').write(r.content)    \n",
        "except ModuleNotFoundError:\n",
        "    pass"
      ],
      "execution_count": 2,
      "outputs": []
    },
    {
      "cell_type": "code",
      "metadata": {
        "colab": {
          "base_uri": "https://localhost:8080/"
        },
        "id": "SIAIXrXeiX4e",
        "outputId": "cd9e6139-6091-4559-c3f3-1a716282d9a9"
      },
      "source": [
        "from config import *\n",
        "config_chapter1()\n",
        "# This is needed to render the plots in this chapter\n",
        "from plots.chapter1 import *"
      ],
      "execution_count": 3,
      "outputs": [
        {
          "output_type": "stream",
          "text": [
            "Installing torchviz...\n",
            "Downloading files from GitHub repo to Colab...\n",
            "Creating folders...\n",
            "Finished!\n"
          ],
          "name": "stdout"
        }
      ]
    },
    {
      "cell_type": "code",
      "metadata": {
        "id": "C-9pvnkNicIR"
      },
      "source": [
        "import numpy as np\n",
        "from sklearn.linear_model import LinearRegression\n",
        "\n",
        "import torch\n",
        "import torch.optim as optim\n",
        "import torch.nn as nn\n",
        "from torchviz import make_dot"
      ],
      "execution_count": 4,
      "outputs": []
    },
    {
      "cell_type": "markdown",
      "metadata": {
        "id": "bCoeiKPOio1Y"
      },
      "source": [
        "# A simple Regression Problem\n",
        "## Data generation\n",
        "### Synthetic data generation"
      ]
    },
    {
      "cell_type": "code",
      "metadata": {
        "id": "lrHRalk0ilMX"
      },
      "source": [
        "true_b = 1\n",
        "true_w = 2\n",
        "N = 100\n",
        "\n",
        "# Data Generation\n",
        "np.random.seed(42)\n",
        "x = np.random.rand(N, 1)\n",
        "epsilon = (.1 * np.random.randn(N, 1))\n",
        "y = true_b + true_w * x + epsilon"
      ],
      "execution_count": 5,
      "outputs": []
    },
    {
      "cell_type": "code",
      "metadata": {
        "id": "FVrRnq40ixJv"
      },
      "source": [
        "# Shuffles the indices\n",
        "idx = np.arange(N)\n",
        "np.random.shuffle(idx)\n",
        "\n",
        "# Uses first 80 random indices for train\n",
        "train_idx = idx[:int(N*.8)]\n",
        "# Uses the remaining indices for validation\n",
        "val_idx = idx[int(N*.8):]\n",
        "\n",
        "# Generates train and validation sets\n",
        "x_train, y_train = x[train_idx], y[train_idx]\n",
        "x_val, y_val = x[val_idx], y[val_idx]"
      ],
      "execution_count": 6,
      "outputs": []
    },
    {
      "cell_type": "code",
      "metadata": {
        "colab": {
          "base_uri": "https://localhost:8080/",
          "height": 501
        },
        "id": "9sb71yV4i00J",
        "outputId": "543c4ceb-2faa-4415-9fa9-a0d2913ee02a"
      },
      "source": [
        "figure1(x_train, y_train, x_val, y_val)"
      ],
      "execution_count": 7,
      "outputs": [
        {
          "output_type": "execute_result",
          "data": {
            "text/plain": [
              "(<Figure size 864x432 with 2 Axes>,\n",
              " array([<matplotlib.axes._subplots.AxesSubplot object at 0x7fc4de6154a8>,\n",
              "        <matplotlib.axes._subplots.AxesSubplot object at 0x7fc4de5e69e8>],\n",
              "       dtype=object))"
            ]
          },
          "metadata": {
            "tags": []
          },
          "execution_count": 7
        },
        {
          "output_type": "display_data",
          "data": {
            "image/png": "[encoded data removed]",
            "text/plain": [
              "<Figure size 864x432 with 2 Axes>"
            ]
          },
          "metadata": {
            "tags": []
          }
        }
      ]
    },
    {
      "cell_type": "markdown",
      "metadata": {
        "id": "n7B8_sxSi7yE"
      },
      "source": [
        "# Gradient Descent\n",
        "\n",
        "## Step0: Random Initialization"
      ]
    },
    {
      "cell_type": "code",
      "metadata": {
        "colab": {
          "base_uri": "https://localhost:8080/"
        },
        "id": "XzF08FjAi47Z",
        "outputId": "8ebebf4d-889e-4c35-cfd5-558e4c6f45b4"
      },
      "source": [
        "np.random.seed(42)\n",
        "b = np.random.randn(1)\n",
        "w = np.random.randn(1)\n",
        "\n",
        "print(b, w)"
      ],
      "execution_count": 8,
      "outputs": [
        {
          "output_type": "stream",
          "text": [
            "[0.49671415] [-0.1382643]\n"
          ],
          "name": "stdout"
        }
      ]
    },
    {
      "cell_type": "markdown",
      "metadata": {
        "id": "d7I08ezpjDE5"
      },
      "source": [
        "# Step 1: Compute Model's Predictions"
      ]
    },
    {
      "cell_type": "code",
      "metadata": {
        "id": "XjI7lPnWjBkg"
      },
      "source": [
        "yhat = b + w * x_train"
      ],
      "execution_count": 9,
      "outputs": []
    },
    {
      "cell_type": "markdown",
      "metadata": {
        "id": "h7nwdCeojKSo"
      },
      "source": [
        "# Step 2: Compute the Loss"
      ]
    },
    {
      "cell_type": "code",
      "metadata": {
        "colab": {
          "base_uri": "https://localhost:8080/"
        },
        "id": "0p2am0b_jIn_",
        "outputId": "73b77862-6f62-4023-bf9c-40d8c444a9d1"
      },
      "source": [
        "error = (yhat - y_train) \n",
        "loss = (error ** 2).mean()\n",
        "print(loss)"
      ],
      "execution_count": 10,
      "outputs": [
        {
          "output_type": "stream",
          "text": [
            "2.7421577700550976\n"
          ],
          "name": "stdout"
        }
      ]
    },
    {
      "cell_type": "markdown",
      "metadata": {
        "id": "ZPtoR_70jZ5L"
      },
      "source": [
        "# Step 3: Compute the Gradients\n",
        "\n"
      ]
    },
    {
      "cell_type": "code",
      "metadata": {
        "colab": {
          "base_uri": "https://localhost:8080/"
        },
        "id": "mr0E5h7WjUBV",
        "outputId": "08530b48-cf1a-488c-b6d3-34cad6cbfd1c"
      },
      "source": [
        "b_grad = 2 * error.mean()\n",
        "w_grad = 2 * (x_train * error).mean()\n",
        "print(f'b_grad={b_grad}, w_grad={w_grad}')"
      ],
      "execution_count": 11,
      "outputs": [
        {
          "output_type": "stream",
          "text": [
            "b_grad=-3.044811379650508, w_grad=-1.8337537171510832\n"
          ],
          "name": "stdout"
        }
      ]
    },
    {
      "cell_type": "markdown",
      "metadata": {
        "id": "N-iHxietkY6D"
      },
      "source": [
        "# Step 4: Update the Parameters"
      ]
    },
    {
      "cell_type": "code",
      "metadata": {
        "colab": {
          "base_uri": "https://localhost:8080/"
        },
        "id": "vLqYRQ2fkWwZ",
        "outputId": "5530b1a2-d9e1-4e77-a9c4-f9d3c57af94a"
      },
      "source": [
        "lr = 0.1\n",
        "print(b, w)\n",
        "\n",
        "b = b - lr * b_grad\n",
        "w = w - lr * w_grad\n",
        "\n",
        "print(b, w)"
      ],
      "execution_count": 12,
      "outputs": [
        {
          "output_type": "stream",
          "text": [
            "[0.49671415] [-0.1382643]\n",
            "[0.80119529] [0.04511107]\n"
          ],
          "name": "stdout"
        }
      ]
    },
    {
      "cell_type": "markdown",
      "metadata": {
        "id": "EzuPjxx9knh0"
      },
      "source": [
        "# Linear Regression in Numpy"
      ]
    },
    {
      "cell_type": "code",
      "metadata": {
        "id": "Z3Da2ynQmWWT"
      },
      "source": [
        "true_b = 1\n",
        "true_w = 2\n",
        "N = 100\n",
        "# Data Generation\n",
        "np.random.seed(42)\n",
        "x = np.random.rand(N, 1)\n",
        "epsilon = (.1 * np.random.randn(N, 1))\n",
        "y = true_b + true_w * x + epsilon"
      ],
      "execution_count": 13,
      "outputs": []
    },
    {
      "cell_type": "code",
      "metadata": {
        "id": "Ttl7slswmaJq"
      },
      "source": [
        "# Shuffles the indices\n",
        "idx = np.arange(N)\n",
        "np.random.shuffle(idx)\n",
        "\n",
        "# Uses first 80 random indices for train\n",
        "train_idx = idx[:int(N*.8)]\n",
        "# Uses the remaining indices for validation\n",
        "val_idx = idx[int(N*.8):]\n",
        "\n",
        "# Generates train and validation sets\n",
        "x_train, y_train = x[train_idx], y[train_idx]\n",
        "x_val, y_val = x[val_idx], y[val_idx]"
      ],
      "execution_count": 14,
      "outputs": []
    },
    {
      "cell_type": "code",
      "metadata": {
        "colab": {
          "base_uri": "https://localhost:8080/",
          "height": 501
        },
        "id": "C0Z2UnMbmoMI",
        "outputId": "efbae52c-78df-4472-a52f-9ee9ed1dbf58"
      },
      "source": [
        "figure1(x_train, y_train, x_val, y_val)"
      ],
      "execution_count": 15,
      "outputs": [
        {
          "output_type": "execute_result",
          "data": {
            "text/plain": [
              "(<Figure size 864x432 with 2 Axes>,\n",
              " array([<matplotlib.axes._subplots.AxesSubplot object at 0x7fc4d6528da0>,\n",
              "        <matplotlib.axes._subplots.AxesSubplot object at 0x7fc4d60a6ef0>],\n",
              "       dtype=object))"
            ]
          },
          "metadata": {
            "tags": []
          },
          "execution_count": 15
        },
        {
          "output_type": "display_data",
          "data": {
            "image/png": "[encoded data removed]",
            "text/plain": [
              "<Figure size 864x432 with 2 Axes>"
            ]
          },
          "metadata": {
            "tags": []
          }
        }
      ]
    },
    {
      "cell_type": "code",
      "metadata": {
        "colab": {
          "base_uri": "https://localhost:8080/"
        },
        "id": "rGyTbMlgkjzZ",
        "outputId": "eb1ba943-6ab0-4b8d-eeb8-eb65be5e41f4"
      },
      "source": [
        "np.random.seed(42)\n",
        "w = np.random.randn(1)\n",
        "b = np.random.randn(1)\n",
        "\n",
        "print(w, b)"
      ],
      "execution_count": 16,
      "outputs": [
        {
          "output_type": "stream",
          "text": [
            "[0.49671415] [-0.1382643]\n"
          ],
          "name": "stdout"
        }
      ]
    },
    {
      "cell_type": "code",
      "metadata": {
        "colab": {
          "base_uri": "https://localhost:8080/"
        },
        "id": "lVwyqx2fkvjS",
        "outputId": "f5be2c39-8c69-483f-d8a3-9775561336eb"
      },
      "source": [
        "lr = 0.01\n",
        "n_epochs = 10000\n",
        "for epoch in range(n_epochs):\n",
        "\n",
        "  # Step 1 - Compute model's prediction output - forward pass\n",
        "  yhat = b + w * x_train\n",
        "  \n",
        "  # Step 2 - Compute the loss\n",
        "  # We use all data points, so is this Batch Gradient descent.\n",
        "  error = (y_train - yhat) # must y_train - yhat?\n",
        "  # Linear regression - MSE\n",
        "  loss = (error ** 2).mean()\n",
        "  \n",
        "  # Step 3 - Compute gradients for both 'b' and 'w' parameters\n",
        "  b_grad = -2 * error.mean()\n",
        "  w_grad = -2 * (x_train * error).mean()\n",
        "\n",
        "  # Step 4 - Update parameters using gradients and the learning rate\n",
        "  b = b - lr * b_grad\n",
        "  w = w - lr * w_grad\n",
        "\n",
        "print(b, w)\n"
      ],
      "execution_count": 17,
      "outputs": [
        {
          "output_type": "stream",
          "text": [
            "[1.02354085] [1.96896428]\n"
          ],
          "name": "stdout"
        }
      ]
    },
    {
      "cell_type": "code",
      "metadata": {
        "colab": {
          "base_uri": "https://localhost:8080/",
          "height": 433
        },
        "id": "Q7bHubVxl3ci",
        "outputId": "933840bc-f526-4a67-ba7a-1b38a45ee740"
      },
      "source": [
        "fig = figure3(x_train, y_train)"
      ],
      "execution_count": 18,
      "outputs": [
        {
          "output_type": "display_data",
          "data": {
            "image/png": "[encoded data removed]",
            "text/plain": [
              "<Figure size 432x432 with 1 Axes>"
            ]
          },
          "metadata": {
            "tags": []
          }
        }
      ]
    },
    {
      "cell_type": "markdown",
      "metadata": {
        "id": "dKUlGsOWnNQA"
      },
      "source": [
        "# PyTorch\n",
        "## Tensor"
      ]
    },
    {
      "cell_type": "code",
      "metadata": {
        "colab": {
          "base_uri": "https://localhost:8080/"
        },
        "id": "9rktm-YNm3jy",
        "outputId": "608f26c8-efda-4bd5-c1a0-b4f09a18a8d8"
      },
      "source": [
        "scalar = torch.tensor(3.14159)\n",
        "vector = torch.tensor([1,2,3])\n",
        "matrix = torch.ones((2,3), dtype=torch.float)\n",
        "tensor = torch.randn((2,3,4), dtype=torch.float)\n",
        "\n",
        "print(scalar, vector, matrix, tensor, sep='\\n')"
      ],
      "execution_count": 19,
      "outputs": [
        {
          "output_type": "stream",
          "text": [
            "tensor(3.1416)\n",
            "tensor([1, 2, 3])\n",
            "tensor([[1., 1., 1.],\n",
            "        [1., 1., 1.]])\n",
            "tensor([[[ 0.3999, -0.3713,  0.1601, -0.3111],\n",
            "         [-0.8394, -0.3537, -0.9551,  0.1567],\n",
            "         [-0.0076,  0.0129, -0.6549, -0.3276]],\n",
            "\n",
            "        [[-0.9917, -0.3956,  1.4940,  0.6351],\n",
            "         [ 2.4050, -1.1833,  0.6329, -0.0095],\n",
            "         [-0.5159, -0.3921,  1.7448,  0.0623]]])\n"
          ],
          "name": "stdout"
        }
      ]
    },
    {
      "cell_type": "code",
      "metadata": {
        "colab": {
          "base_uri": "https://localhost:8080/"
        },
        "id": "ixUTUV1dniuX",
        "outputId": "45309dd7-21fa-492c-8bb4-0bf27e24caff"
      },
      "source": [
        "print(tensor.size(), tensor.shape)\n",
        "print(scalar.size(), scalar.shape)"
      ],
      "execution_count": 20,
      "outputs": [
        {
          "output_type": "stream",
          "text": [
            "torch.Size([2, 3, 4]) torch.Size([2, 3, 4])\n",
            "torch.Size([]) torch.Size([])\n"
          ],
          "name": "stdout"
        }
      ]
    },
    {
      "cell_type": "code",
      "metadata": {
        "colab": {
          "base_uri": "https://localhost:8080/"
        },
        "id": "IueeEPXnnzdC",
        "outputId": "4f32b89f-cc09-4d13-fbf7-94561760d0c0"
      },
      "source": [
        "same_matrix = matrix.view(1, 6)\n",
        "same_matrix[0, 1] = 2.\n",
        "\n",
        "print(matrix)\n",
        "print(same_matrix)"
      ],
      "execution_count": 21,
      "outputs": [
        {
          "output_type": "stream",
          "text": [
            "tensor([[1., 2., 1.],\n",
            "        [1., 1., 1.]])\n",
            "tensor([[1., 2., 1., 1., 1., 1.]])\n"
          ],
          "name": "stdout"
        }
      ]
    },
    {
      "cell_type": "code",
      "metadata": {
        "colab": {
          "base_uri": "https://localhost:8080/"
        },
        "id": "1r-bQCHroBfi",
        "outputId": "2d854761-7203-4c1f-beaf-cb962f9d3d3d"
      },
      "source": [
        "another_matrix = matrix.view(1, 6).clone().detach()\n",
        "another_matrix[0, 1] = 4.0\n",
        "\n",
        "\n",
        "print(matrix)\n",
        "print(another_matrix)"
      ],
      "execution_count": 22,
      "outputs": [
        {
          "output_type": "stream",
          "text": [
            "tensor([[1., 2., 1.],\n",
            "        [1., 1., 1.]])\n",
            "tensor([[1., 4., 1., 1., 1., 1.]])\n"
          ],
          "name": "stdout"
        }
      ]
    },
    {
      "cell_type": "code",
      "metadata": {
        "id": "6SRyC1CNojAK"
      },
      "source": [
        "x_train_tensor = torch.as_tensor(x_train)"
      ],
      "execution_count": 23,
      "outputs": []
    },
    {
      "cell_type": "code",
      "metadata": {
        "colab": {
          "base_uri": "https://localhost:8080/"
        },
        "id": "Z-k2xzeBosvb",
        "outputId": "adccce71-3aaf-4150-c163-03c93b2ca0d4"
      },
      "source": [
        "x_train.dtype, x_train_tensor.dtype"
      ],
      "execution_count": 24,
      "outputs": [
        {
          "output_type": "execute_result",
          "data": {
            "text/plain": [
              "(dtype('float64'), torch.float64)"
            ]
          },
          "metadata": {
            "tags": []
          },
          "execution_count": 24
        }
      ]
    },
    {
      "cell_type": "code",
      "metadata": {
        "id": "uShRZzhHowED"
      },
      "source": [
        "device = 'cuda' if torch.cuda.is_available() else 'cpu'"
      ],
      "execution_count": 25,
      "outputs": []
    },
    {
      "cell_type": "code",
      "metadata": {
        "colab": {
          "base_uri": "https://localhost:8080/"
        },
        "id": "dI6YszD-pGx8",
        "outputId": "eb210128-8100-4365-a659-87396b14fa79"
      },
      "source": [
        "n_cudas = torch.cuda.device_count()\n",
        "for i in range(n_cudas):\n",
        "  print(torch.cuda.get_device_name(i))"
      ],
      "execution_count": 28,
      "outputs": [
        {
          "output_type": "stream",
          "text": [
            "Tesla P100-PCIE-16GB\n"
          ],
          "name": "stdout"
        }
      ]
    },
    {
      "cell_type": "code",
      "metadata": {
        "colab": {
          "base_uri": "https://localhost:8080/"
        },
        "id": "MOM-3rOupIGQ",
        "outputId": "d22aa4e7-21d3-4da4-bcf1-841d4c195513"
      },
      "source": [
        "gpu_tensor = torch.as_tensor(x_train).to(device)\n",
        "gpu_tensor[0]"
      ],
      "execution_count": 30,
      "outputs": [
        {
          "output_type": "execute_result",
          "data": {
            "text/plain": [
              "tensor([0.7713], device='cuda:0', dtype=torch.float64)"
            ]
          },
          "metadata": {
            "tags": []
          },
          "execution_count": 30
        }
      ]
    },
    {
      "cell_type": "code",
      "metadata": {
        "id": "4dWHBQFPqFok"
      },
      "source": [
        "device = 'cuda' if torch.cuda.is_available() else 'cpu'\n",
        "\n",
        "x_train_tensor = torch.as_tensor(x_train).float().to(device)\n",
        "y_train_tensor = torch.as_tensor(y_train).float().to(device)"
      ],
      "execution_count": 44,
      "outputs": []
    },
    {
      "cell_type": "code",
      "metadata": {
        "colab": {
          "base_uri": "https://localhost:8080/"
        },
        "id": "L3BszAuAqq88",
        "outputId": "940da650-eafa-4475-ccb8-8829bb176d1b"
      },
      "source": [
        "print(type(x_train), type(x_train_tensor), x_train_tensor.type())"
      ],
      "execution_count": 32,
      "outputs": [
        {
          "output_type": "stream",
          "text": [
            "<class 'numpy.ndarray'> <class 'torch.Tensor'> torch.cuda.FloatTensor\n"
          ],
          "name": "stdout"
        }
      ]
    },
    {
      "cell_type": "code",
      "metadata": {
        "colab": {
          "base_uri": "https://localhost:8080/",
          "height": 164
        },
        "id": "QydhrsQOqxRn",
        "outputId": "196b0241-4f4f-4d18-dcc4-3b7c8d79c1ff"
      },
      "source": [
        "back_to_numpy = x_train_tensor.numpy()"
      ],
      "execution_count": 33,
      "outputs": [
        {
          "output_type": "error",
          "ename": "TypeError",
          "evalue": "ignored",
          "traceback": [
            "\u001b[0;31m---------------------------------------------------------------------------\u001b[0m",
            "\u001b[0;31mTypeError\u001b[0m                                 Traceback (most recent call last)",
            "\u001b[0;32m<ipython-input-33-bbb26eb4f53c>\u001b[0m in \u001b[0;36m<module>\u001b[0;34m()\u001b[0m\n\u001b[0;32m----> 1\u001b[0;31m \u001b[0mback_to_numpy\u001b[0m \u001b[0;34m=\u001b[0m \u001b[0mx_train_tensor\u001b[0m\u001b[0;34m.\u001b[0m\u001b[0mnumpy\u001b[0m\u001b[0;34m(\u001b[0m\u001b[0;34m)\u001b[0m\u001b[0;34m\u001b[0m\u001b[0;34m\u001b[0m\u001b[0m\n\u001b[0m",
            "\u001b[0;31mTypeError\u001b[0m: can't convert cuda:0 device type tensor to numpy. Use Tensor.cpu() to copy the tensor to host memory first."
          ]
        }
      ]
    },
    {
      "cell_type": "code",
      "metadata": {
        "id": "DZIkIJuLq4D0"
      },
      "source": [
        "back_to_numpy = x_train_tensor.cpu().numpy()"
      ],
      "execution_count": 34,
      "outputs": []
    },
    {
      "cell_type": "markdown",
      "metadata": {
        "id": "p5_mX07brAEZ"
      },
      "source": [
        "# Creating Parameters"
      ]
    },
    {
      "cell_type": "code",
      "metadata": {
        "colab": {
          "base_uri": "https://localhost:8080/"
        },
        "id": "B65_NPfnq92s",
        "outputId": "79067411-ce96-4fab-e6a1-440af4e085a3"
      },
      "source": [
        "torch.manual_seed(42)\n",
        "\n",
        "b = torch.randn(1, requires_grad=True, dtype=torch.float).to(device)\n",
        "w = torch.randn(1, requires_grad=True, dtype=torch.float).to(device)\n",
        "print(b, w, sep='\\n')"
      ],
      "execution_count": 45,
      "outputs": [
        {
          "output_type": "stream",
          "text": [
            "tensor([0.3367], device='cuda:0', grad_fn=<CopyBackwards>)\n",
            "tensor([0.1288], device='cuda:0', grad_fn=<CopyBackwards>)\n"
          ],
          "name": "stdout"
        }
      ]
    },
    {
      "cell_type": "code",
      "metadata": {
        "colab": {
          "base_uri": "https://localhost:8080/"
        },
        "id": "M9BB0BdJrQ4t",
        "outputId": "0ecfb369-c057-4715-d608-4c745a5edb34"
      },
      "source": [
        "torch.manual_seed(42)\n",
        "b = torch.randn(1, requires_grad=True, dtype=torch.float, device=device)\n",
        "w = torch.randn(1, requires_grad=True, dtype=torch.float, device=device)\n",
        "\n",
        "print(b, w, sep='\\n')"
      ],
      "execution_count": 46,
      "outputs": [
        {
          "output_type": "stream",
          "text": [
            "tensor([0.1940], device='cuda:0', requires_grad=True)\n",
            "tensor([0.1391], device='cuda:0', requires_grad=True)\n"
          ],
          "name": "stdout"
        }
      ]
    },
    {
      "cell_type": "markdown",
      "metadata": {
        "id": "XkIa7_9-r7AU"
      },
      "source": [
        "# Autograd"
      ]
    },
    {
      "cell_type": "code",
      "metadata": {
        "id": "Brtg0ABfr2Ez"
      },
      "source": [
        "# 1. Model forward\n",
        "yhat = b + w * x_train_tensor\n",
        "\n",
        "# 2. Loss\n",
        "error = (y_train_tensor - yhat)\n",
        "loss = (error ** 2).mean()\n",
        "\n",
        "# 3. Gradient\n",
        "loss.backward()"
      ],
      "execution_count": 52,
      "outputs": []
    },
    {
      "cell_type": "code",
      "metadata": {
        "colab": {
          "base_uri": "https://localhost:8080/"
        },
        "id": "inQxwogksQyc",
        "outputId": "b003a978-48c7-4e24-e4bf-6f19fe837998"
      },
      "source": [
        "print(error.requires_grad, yhat.requires_grad, b.requires_grad, w.requires_grad)"
      ],
      "execution_count": 53,
      "outputs": [
        {
          "output_type": "stream",
          "text": [
            "True True True True\n"
          ],
          "name": "stdout"
        }
      ]
    },
    {
      "cell_type": "code",
      "metadata": {
        "colab": {
          "base_uri": "https://localhost:8080/"
        },
        "id": "sr_atzjesXR6",
        "outputId": "97adf295-397e-4d7e-8777-78a575e09e80"
      },
      "source": [
        "print(y_train_tensor.requires_grad, x_train_tensor.requires_grad)"
      ],
      "execution_count": 54,
      "outputs": [
        {
          "output_type": "stream",
          "text": [
            "False False\n"
          ],
          "name": "stdout"
        }
      ]
    },
    {
      "cell_type": "markdown",
      "metadata": {
        "id": "UcfCUZrPsqea"
      },
      "source": [
        "## grad"
      ]
    },
    {
      "cell_type": "code",
      "metadata": {
        "colab": {
          "base_uri": "https://localhost:8080/"
        },
        "id": "Cu7p1MJqsemr",
        "outputId": "be8cb048-be2c-42e0-c790-0a06de35419e"
      },
      "source": [
        "print(b.grad, w.grad, sep='\\n')"
      ],
      "execution_count": 55,
      "outputs": [
        {
          "output_type": "stream",
          "text": [
            "tensor([-6.7762], device='cuda:0')\n",
            "tensor([-3.8878], device='cuda:0')\n"
          ],
          "name": "stdout"
        }
      ]
    },
    {
      "cell_type": "code",
      "metadata": {
        "colab": {
          "base_uri": "https://localhost:8080/"
        },
        "id": "RMnkBnzPsuUy",
        "outputId": "9566782c-0fe0-4706-8a70-dc35b84c7424"
      },
      "source": [
        "b.grad.zero_(), w.grad.zero_()"
      ],
      "execution_count": 56,
      "outputs": [
        {
          "output_type": "execute_result",
          "data": {
            "text/plain": [
              "(tensor([0.], device='cuda:0'), tensor([0.], device='cuda:0'))"
            ]
          },
          "metadata": {
            "tags": []
          },
          "execution_count": 56
        }
      ]
    },
    {
      "cell_type": "markdown",
      "metadata": {
        "id": "QYxcA5xJs_Mh"
      },
      "source": [
        "# Update parameters"
      ]
    },
    {
      "cell_type": "code",
      "metadata": {
        "id": "vnypkpP4s8f7"
      },
      "source": [
        "lr = 0.1\n",
        "torch.manual_seed(42)\n",
        "b = torch.randn(1, requires_grad=True, dtype=torch.float, device=device)\n",
        "w = torch.randn(1, requires_grad=True, dtype=torch.float, device=device)"
      ],
      "execution_count": 63,
      "outputs": []
    },
    {
      "cell_type": "code",
      "metadata": {
        "id": "hL5dXkmQtOPE"
      },
      "source": [
        "n_epochs = 10000"
      ],
      "execution_count": 64,
      "outputs": []
    },
    {
      "cell_type": "code",
      "metadata": {
        "colab": {
          "base_uri": "https://localhost:8080/"
        },
        "id": "81_lTvJFtULs",
        "outputId": "b1f6ec5b-169b-47b1-cfa6-e2b2c1f14a95"
      },
      "source": [
        "for epoch in range(n_epochs):\n",
        "  # Step 1 - Compute model's predicted output - forward\n",
        "  yhat = b + w * x_train_tensor\n",
        "\n",
        "  # Step 2 - Compute the loss\n",
        "  # use all data points, so is Batch Gradient Descent\n",
        "  error = (y_train_tensor - yhat)\n",
        "  loss = (error ** 2).mean()\n",
        "\n",
        "  # Step 3 - Compute Gradient\n",
        "  loss.backward()\n",
        "\n",
        "  # Step 4 - Update Parameters\n",
        "  # No_grad to keep the update out of the gradient computation.\n",
        "\n",
        "  with torch.no_grad():\n",
        "    b -= lr * b.grad\n",
        "    w -= lr * w.grad\n",
        "  \n",
        "  b.grad.zero_()\n",
        "  w.grad.zero_()\n",
        "\n",
        "\n",
        "print(b, w)"
      ],
      "execution_count": 65,
      "outputs": [
        {
          "output_type": "stream",
          "text": [
            "tensor([1.0235], device='cuda:0', requires_grad=True) tensor([1.9690], device='cuda:0', requires_grad=True)\n"
          ],
          "name": "stdout"
        }
      ]
    },
    {
      "cell_type": "markdown",
      "metadata": {
        "id": "fo8vhN47udPY"
      },
      "source": [
        "# Dynamic Computation Graph"
      ]
    },
    {
      "cell_type": "code",
      "metadata": {
        "id": "hPr7WvHsuWDc"
      },
      "source": [
        "lr = 0.1\n",
        "torch.manual_seed(42)\n",
        "b = torch.randn(1, requires_grad=True, dtype=torch.float, device=device)\n",
        "w = torch.randn(1, requires_grad=True, dtype=torch.float, device=device)"
      ],
      "execution_count": 66,
      "outputs": []
    },
    {
      "cell_type": "code",
      "metadata": {
        "colab": {
          "base_uri": "https://localhost:8080/",
          "height": 249
        },
        "id": "35ycZUxyuleF",
        "outputId": "c509b396-eb76-4738-f8e6-f28ad5d9f90c"
      },
      "source": [
        "yhat = b + w * x_train_tensor\n",
        "error = y_train_tensor - yhat\n",
        "loss = (error ** 2).mean()\n",
        "\n",
        "make_dot(yhat)"
      ],
      "execution_count": 67,
      "outputs": [
        {
          "output_type": "execute_result",
          "data": {
            "text/plain": [
              "<graphviz.dot.Digraph at 0x7fc481c484a8>"
            ],
            "image/svg+xml": "<?xml version=\"1.0\" encoding=\"UTF-8\" standalone=\"no\"?>\n<!DOCTYPE svg PUBLIC \"-//W3C//DTD SVG 1.1//EN\"\n \"http://www.w3.org/Graphics/SVG/1.1/DTD/svg11.dtd\">\n<!-- Generated by graphviz version 2.40.1 (20161225.0304)\n -->\n<!-- Title: %3 Pages: 1 -->\n<svg width=\"172pt\" height=\"171pt\"\n viewBox=\"0.00 0.00 171.50 171.00\" xmlns=\"http://www.w3.org/2000/svg\" xmlns:xlink=\"http://www.w3.org/1999/xlink\">\n<g id=\"graph0\" class=\"graph\" transform=\"scale(1 1) rotate(0) translate(4 167)\">\n<title>%3</title>\n<polygon fill=\"#ffffff\" stroke=\"transparent\" points=\"-4,4 -4,-167 167.5,-167 167.5,4 -4,4\"/>\n<!-- 140481967460024 -->\n<g id=\"node1\" class=\"node\">\n<title>140481967460024</title>\n<polygon fill=\"#caff70\" stroke=\"#000000\" points=\"118,-21 26,-21 26,0 118,0 118,-21\"/>\n<text text-anchor=\"middle\" x=\"72\" y=\"-7.4\" font-family=\"Times,serif\" font-size=\"12.00\" fill=\"#000000\">AddBackward0</text>\n</g>\n<!-- 140481967458400 -->\n<g id=\"node2\" class=\"node\">\n<title>140481967458400</title>\n<polygon fill=\"#add8e6\" stroke=\"#000000\" points=\"54,-92 0,-92 0,-57 54,-57 54,-92\"/>\n<text text-anchor=\"middle\" x=\"27\" y=\"-64.4\" font-family=\"Times,serif\" font-size=\"12.00\" fill=\"#000000\"> (1)</text>\n</g>\n<!-- 140481967458400&#45;&gt;140481967460024 -->\n<g id=\"edge1\" class=\"edge\">\n<title>140481967458400&#45;&gt;140481967460024</title>\n<path fill=\"none\" stroke=\"#000000\" d=\"M39.535,-56.6724C45.4798,-48.2176 52.5878,-38.1085 58.6352,-29.5078\"/>\n<polygon fill=\"#000000\" stroke=\"#000000\" points=\"61.5714,-31.4169 64.4601,-21.2234 55.8452,-27.3906 61.5714,-31.4169\"/>\n</g>\n<!-- 140481967457952 -->\n<g id=\"node3\" class=\"node\">\n<title>140481967457952</title>\n<polygon fill=\"#d3d3d3\" stroke=\"#000000\" points=\"163.5,-85 72.5,-85 72.5,-64 163.5,-64 163.5,-85\"/>\n<text text-anchor=\"middle\" x=\"118\" y=\"-71.4\" font-family=\"Times,serif\" font-size=\"12.00\" fill=\"#000000\">MulBackward0</text>\n</g>\n<!-- 140481967457952&#45;&gt;140481967460024 -->\n<g id=\"edge2\" class=\"edge\">\n<title>140481967457952&#45;&gt;140481967460024</title>\n<path fill=\"none\" stroke=\"#000000\" d=\"M110.404,-63.9317C103.7191,-54.6309 93.821,-40.8597 85.7479,-29.6276\"/>\n<polygon fill=\"#000000\" stroke=\"#000000\" points=\"88.4395,-27.3753 79.761,-21.2979 82.7553,-31.4608 88.4395,-27.3753\"/>\n</g>\n<!-- 140481967459632 -->\n<g id=\"node4\" class=\"node\">\n<title>140481967459632</title>\n<polygon fill=\"#add8e6\" stroke=\"#000000\" points=\"145,-163 91,-163 91,-128 145,-128 145,-163\"/>\n<text text-anchor=\"middle\" x=\"118\" y=\"-135.4\" font-family=\"Times,serif\" font-size=\"12.00\" fill=\"#000000\"> (1)</text>\n</g>\n<!-- 140481967459632&#45;&gt;140481967457952 -->\n<g id=\"edge3\" class=\"edge\">\n<title>140481967459632&#45;&gt;140481967457952</title>\n<path fill=\"none\" stroke=\"#000000\" d=\"M118,-127.9494C118,-118.058 118,-105.6435 118,-95.2693\"/>\n<polygon fill=\"#000000\" stroke=\"#000000\" points=\"121.5001,-95.0288 118,-85.0288 114.5001,-95.0289 121.5001,-95.0288\"/>\n</g>\n</g>\n</svg>\n"
          },
          "metadata": {
            "tags": []
          },
          "execution_count": 67
        }
      ]
    },
    {
      "cell_type": "markdown",
      "metadata": {
        "id": "2qoFUuK4u3u9"
      },
      "source": [
        "# Optimizer"
      ]
    },
    {
      "cell_type": "code",
      "metadata": {
        "id": "3d9pSpDfu3fw"
      },
      "source": [
        "# Defines a SGD optimizer to update the parameters\n",
        "optimizer = optim.SGD([b, w], lr = lr)"
      ],
      "execution_count": 68,
      "outputs": []
    },
    {
      "cell_type": "code",
      "metadata": {
        "colab": {
          "base_uri": "https://localhost:8080/"
        },
        "id": "zN8eCGAeuwbV",
        "outputId": "24e2bcde-0355-43f1-f3fb-fa45ebd8dc8a"
      },
      "source": [
        "# Sets learning rate - this is \"eta\" ~ the \"n\"-like Greek letter\n",
        "lr = 0.1\n",
        "\n",
        "# Step 0 - Initializes parameters \"b\" and \"w\" randomly\n",
        "torch.manual_seed(42)\n",
        "b = torch.randn(1, requires_grad=True, dtype=torch.float, device=device)\n",
        "w = torch.randn(1, requires_grad=True, dtype=torch.float, device=device)\n",
        "\n",
        "# Defines a SGD optimizer to update the parameters\n",
        "optimizer = optim.SGD([b, w], lr=lr)\n",
        "\n",
        "# Defines number of epochs\n",
        "n_epochs = 1000\n",
        "\n",
        "for epoch in range(n_epochs):\n",
        "    # Step 1 - Computes model's predicted output - forward pass\n",
        "    yhat = b + w * x_train_tensor\n",
        "    \n",
        "    # Step 2 - Computes the loss\n",
        "    # We are using ALL data points, so this is BATCH gradient \n",
        "    # descent. How wrong is our model? That's the error! \n",
        "    error = y_train_tensor - yhat\n",
        "    # It is a regression, so it computes mean squared error (MSE)\n",
        "    loss = (error ** 2).mean()\n",
        "\n",
        "    # Step 3 - Computes gradients for both \"b\" and \"w\" parameters\n",
        "    loss.backward()\n",
        "    \n",
        "    # Step 4 - Updates parameters using gradients and \n",
        "    # the learning rate. No more manual update!\n",
        "    # with torch.no_grad():\n",
        "    #     b -= lr * b.grad\n",
        "    #     w -= lr * w.grad\n",
        "    optimizer.step()\n",
        "    \n",
        "    # No more telling Pytorch to let gradients go!\n",
        "    # b.grad.zero_()\n",
        "    # w.grad.zero_()\n",
        "    optimizer.zero_grad()\n",
        "    \n",
        "print(b, w)"
      ],
      "execution_count": 69,
      "outputs": [
        {
          "output_type": "stream",
          "text": [
            "tensor([1.0235], device='cuda:0', requires_grad=True) tensor([1.9690], device='cuda:0', requires_grad=True)\n"
          ],
          "name": "stdout"
        }
      ]
    },
    {
      "cell_type": "markdown",
      "metadata": {
        "id": "EGVUARUxvMdb"
      },
      "source": [
        "# Loss"
      ]
    },
    {
      "cell_type": "code",
      "metadata": {
        "colab": {
          "base_uri": "https://localhost:8080/"
        },
        "id": "uob0gA6jvK5l",
        "outputId": "d55f6fd4-a944-4f1b-9ef8-f27c52c08684"
      },
      "source": [
        "# Defines a MSE loss function\n",
        "loss_fn = nn.MSELoss(reduction='mean')\n",
        "loss_fn"
      ],
      "execution_count": 70,
      "outputs": [
        {
          "output_type": "execute_result",
          "data": {
            "text/plain": [
              "MSELoss()"
            ]
          },
          "metadata": {
            "tags": []
          },
          "execution_count": 70
        }
      ]
    },
    {
      "cell_type": "code",
      "metadata": {
        "colab": {
          "base_uri": "https://localhost:8080/"
        },
        "id": "1PByYUMovRl0",
        "outputId": "71ea6851-a88c-4a27-ebe2-a05e9f894f93"
      },
      "source": [
        "# This is a random example to illustrate the loss function\n",
        "predictions = torch.tensor([0.5, 1.0])\n",
        "labels = torch.tensor([2.0, 1.3])\n",
        "loss_fn(predictions, labels)"
      ],
      "execution_count": 71,
      "outputs": [
        {
          "output_type": "execute_result",
          "data": {
            "text/plain": [
              "tensor(1.1700)"
            ]
          },
          "metadata": {
            "tags": []
          },
          "execution_count": 71
        }
      ]
    },
    {
      "cell_type": "code",
      "metadata": {
        "colab": {
          "base_uri": "https://localhost:8080/"
        },
        "id": "t3BbtCd7vVaV",
        "outputId": "e296ab6c-8e0c-433e-c030-1f34185a77a2"
      },
      "source": [
        "# Sets learning rate - this is \"eta\" ~ the \"n\"-like\n",
        "# Greek letter\n",
        "lr = 0.1\n",
        "\n",
        "# Step 0 - Initializes parameters \"b\" and \"w\" randomly\n",
        "torch.manual_seed(42)\n",
        "b = torch.randn(1, requires_grad=True, dtype=torch.float, device=device)\n",
        "w = torch.randn(1, requires_grad=True, dtype=torch.float, device=device)\n",
        "\n",
        "# Defines a SGD optimizer to update the parameters\n",
        "optimizer = optim.SGD([b, w], lr=lr)\n",
        "\n",
        "# Defines a MSE loss function\n",
        "loss_fn = nn.MSELoss(reduction='mean')\n",
        "\n",
        "# Defines number of epochs\n",
        "n_epochs = 1000\n",
        "\n",
        "for epoch in range(n_epochs):\n",
        "    # Step 1 - Computes model's predicted output - forward pass\n",
        "    yhat = b + w * x_train_tensor\n",
        "    \n",
        "    # Step 2 - Computes the loss\n",
        "    # No more manual loss!\n",
        "    # error = y_train_tensor - yhat\n",
        "    # loss = (error ** 2).mean()\n",
        "    loss = loss_fn(y_train_tensor, yhat)\n",
        "\n",
        "    # Step 3 - Computes gradients for both \"b\" and \"w\" parameters\n",
        "    loss.backward()\n",
        "    \n",
        "    # Step 4 - Updates parameters using gradients and\n",
        "    # the learning rate\n",
        "    optimizer.step()\n",
        "    optimizer.zero_grad()\n",
        "    \n",
        "print(b, w)"
      ],
      "execution_count": 73,
      "outputs": [
        {
          "output_type": "stream",
          "text": [
            "tensor([1.0235], device='cuda:0', requires_grad=True) tensor([1.9690], device='cuda:0', requires_grad=True)\n"
          ],
          "name": "stdout"
        }
      ]
    },
    {
      "cell_type": "code",
      "metadata": {
        "colab": {
          "base_uri": "https://localhost:8080/"
        },
        "id": "CnkI6i5Qvi6t",
        "outputId": "252f600c-f183-4753-bb06-be9d085031b4"
      },
      "source": [
        "loss"
      ],
      "execution_count": 74,
      "outputs": [
        {
          "output_type": "execute_result",
          "data": {
            "text/plain": [
              "tensor(0.0080, device='cuda:0', grad_fn=<MseLossBackward>)"
            ]
          },
          "metadata": {
            "tags": []
          },
          "execution_count": 74
        }
      ]
    },
    {
      "cell_type": "code",
      "metadata": {
        "colab": {
          "base_uri": "https://localhost:8080/",
          "height": 164
        },
        "id": "nfSgAAqovoou",
        "outputId": "f0d88047-1b10-424a-de09-b3ca67d6ee97"
      },
      "source": [
        "loss.cpu().numpy()"
      ],
      "execution_count": 75,
      "outputs": [
        {
          "output_type": "error",
          "ename": "RuntimeError",
          "evalue": "ignored",
          "traceback": [
            "\u001b[0;31m---------------------------------------------------------------------------\u001b[0m",
            "\u001b[0;31mRuntimeError\u001b[0m                              Traceback (most recent call last)",
            "\u001b[0;32m<ipython-input-75-58c76a7bac74>\u001b[0m in \u001b[0;36m<module>\u001b[0;34m()\u001b[0m\n\u001b[0;32m----> 1\u001b[0;31m \u001b[0mloss\u001b[0m\u001b[0;34m.\u001b[0m\u001b[0mcpu\u001b[0m\u001b[0;34m(\u001b[0m\u001b[0;34m)\u001b[0m\u001b[0;34m.\u001b[0m\u001b[0mnumpy\u001b[0m\u001b[0;34m(\u001b[0m\u001b[0;34m)\u001b[0m\u001b[0;34m\u001b[0m\u001b[0;34m\u001b[0m\u001b[0m\n\u001b[0m",
            "\u001b[0;31mRuntimeError\u001b[0m: Can't call numpy() on Tensor that requires grad. Use tensor.detach().numpy() instead."
          ]
        }
      ]
    },
    {
      "cell_type": "code",
      "metadata": {
        "colab": {
          "base_uri": "https://localhost:8080/"
        },
        "id": "GF3bow20vsOO",
        "outputId": "547e928e-6bf1-41bb-adc6-37946256b054"
      },
      "source": [
        "loss.detach().cpu().numpy()"
      ],
      "execution_count": 76,
      "outputs": [
        {
          "output_type": "execute_result",
          "data": {
            "text/plain": [
              "array(0.00804466, dtype=float32)"
            ]
          },
          "metadata": {
            "tags": []
          },
          "execution_count": 76
        }
      ]
    },
    {
      "cell_type": "code",
      "metadata": {
        "colab": {
          "base_uri": "https://localhost:8080/"
        },
        "id": "wgUSZgGIvwo9",
        "outputId": "3fca7584-068c-4f3e-d8ab-1155f9ccef73"
      },
      "source": [
        "print(loss.item(), loss.tolist())"
      ],
      "execution_count": 77,
      "outputs": [
        {
          "output_type": "stream",
          "text": [
            "0.008044655434787273 0.008044655434787273\n"
          ],
          "name": "stdout"
        }
      ]
    },
    {
      "cell_type": "markdown",
      "metadata": {
        "id": "vadrWDBHv2y7"
      },
      "source": [
        "# Model"
      ]
    },
    {
      "cell_type": "code",
      "metadata": {
        "id": "DF7VeO-Ov0PO"
      },
      "source": [
        "class ManualLinearRegression(nn.Module):\n",
        "    def __init__(self):\n",
        "        super().__init__()\n",
        "        # To make \"b\" and \"w\" real parameters of the model,\n",
        "        # we need to wrap them with nn.Parameter\n",
        "        self.b = nn.Parameter(torch.randn(1,\n",
        "                                          requires_grad=True, \n",
        "                                          dtype=torch.float))\n",
        "        self.w = nn.Parameter(torch.randn(1, \n",
        "                                          requires_grad=True,\n",
        "                                          dtype=torch.float))\n",
        "        \n",
        "    def forward(self, x):\n",
        "        # Computes the outputs / predictions\n",
        "        return self.b + self.w * x"
      ],
      "execution_count": 138,
      "outputs": []
    },
    {
      "cell_type": "markdown",
      "metadata": {
        "id": "GgDZjWP-wUDt"
      },
      "source": [
        "# Parameters"
      ]
    },
    {
      "cell_type": "code",
      "metadata": {
        "colab": {
          "base_uri": "https://localhost:8080/"
        },
        "id": "2aDb3TvFwLsq",
        "outputId": "447b7e08-a2f0-419a-840d-4795a2b7a505"
      },
      "source": [
        "torch.manual_seed(42)\n",
        "# Creates a \"dummy\" instance of our ManualLinearRegression model\n",
        "dummy = ManualLinearRegression()\n",
        "list(dummy.parameters())"
      ],
      "execution_count": 139,
      "outputs": [
        {
          "output_type": "execute_result",
          "data": {
            "text/plain": [
              "[Parameter containing:\n",
              " tensor([0.3367], requires_grad=True), Parameter containing:\n",
              " tensor([0.1288], requires_grad=True)]"
            ]
          },
          "metadata": {
            "tags": []
          },
          "execution_count": 139
        }
      ]
    },
    {
      "cell_type": "code",
      "metadata": {
        "colab": {
          "base_uri": "https://localhost:8080/"
        },
        "id": "mY3Jam5awYCC",
        "outputId": "bc3b765e-3c73-4e5d-a025-cecd95712ace"
      },
      "source": [
        "dummy.state_dict()"
      ],
      "execution_count": 140,
      "outputs": [
        {
          "output_type": "execute_result",
          "data": {
            "text/plain": [
              "OrderedDict([('b', tensor([0.3367])), ('w', tensor([0.1288]))])"
            ]
          },
          "metadata": {
            "tags": []
          },
          "execution_count": 140
        }
      ]
    },
    {
      "cell_type": "code",
      "metadata": {
        "colab": {
          "base_uri": "https://localhost:8080/"
        },
        "id": "72t0hAIEwd6K",
        "outputId": "12fe130a-0309-4439-bf5e-a620811a23b5"
      },
      "source": [
        "optimizer.state_dict()"
      ],
      "execution_count": 141,
      "outputs": [
        {
          "output_type": "execute_result",
          "data": {
            "text/plain": [
              "{'param_groups': [{'dampening': 0,\n",
              "   'lr': 0.1,\n",
              "   'momentum': 0,\n",
              "   'nesterov': False,\n",
              "   'params': [0, 1],\n",
              "   'weight_decay': 0}],\n",
              " 'state': {}}"
            ]
          },
          "metadata": {
            "tags": []
          },
          "execution_count": 141
        }
      ]
    },
    {
      "cell_type": "markdown",
      "metadata": {
        "id": "z952V8xzwktM"
      },
      "source": [
        "# device"
      ]
    },
    {
      "cell_type": "code",
      "metadata": {
        "id": "dU1K15DYwhNq"
      },
      "source": [
        "torch.manual_seed(42)\n",
        "# Creates a \"dummy\" instance of our ManualLinearRegression model\n",
        "# and sends it to the device\n",
        "dummy = ManualLinearRegression().to(device)"
      ],
      "execution_count": 142,
      "outputs": []
    },
    {
      "cell_type": "code",
      "metadata": {
        "id": "glaKy_s_wm-q"
      },
      "source": [
        "# Sets learning rate - this is \"eta\" ~ the \"n\"-like\n",
        "# Greek letter\n",
        "lr = 0.1\n",
        "\n",
        "# Step 0 - Initializes parameters \"b\" and \"w\" randomly\n",
        "torch.manual_seed(42)\n",
        "# Now we can create a model and send it at once to the device\n",
        "model = ManualLinearRegression().to(device)\n",
        "\n",
        "# Defines a SGD optimizer to update the parameters \n",
        "# (now retrieved directly from the model)\n",
        "optimizer = optim.SGD(model.parameters(), lr=lr)\n",
        "\n",
        "# Defines a MSE loss function\n",
        "loss_fn = nn.MSELoss(reduction='mean')\n",
        "\n",
        "# Defines number of epochs\n",
        "n_epochs = 1000\n"
      ],
      "execution_count": 143,
      "outputs": []
    },
    {
      "cell_type": "code",
      "metadata": {
        "colab": {
          "base_uri": "https://localhost:8080/"
        },
        "id": "8ct2i223y6ML",
        "outputId": "643178a1-3a09-47e3-ebb2-9358a238bae7"
      },
      "source": [
        "list(model.parameters())"
      ],
      "execution_count": 144,
      "outputs": [
        {
          "output_type": "execute_result",
          "data": {
            "text/plain": [
              "[Parameter containing:\n",
              " tensor([0.3367], device='cuda:0', requires_grad=True), Parameter containing:\n",
              " tensor([0.1288], device='cuda:0', requires_grad=True)]"
            ]
          },
          "metadata": {
            "tags": []
          },
          "execution_count": 144
        }
      ]
    },
    {
      "cell_type": "code",
      "metadata": {
        "colab": {
          "base_uri": "https://localhost:8080/"
        },
        "id": "u1xrOIEYxd8L",
        "outputId": "08711cda-a056-4117-d890-e19e18c0fcec"
      },
      "source": [
        "model.state_dict()"
      ],
      "execution_count": 145,
      "outputs": [
        {
          "output_type": "execute_result",
          "data": {
            "text/plain": [
              "OrderedDict([('b', tensor([0.3367], device='cuda:0')),\n",
              "             ('w', tensor([0.1288], device='cuda:0'))])"
            ]
          },
          "metadata": {
            "tags": []
          },
          "execution_count": 145
        }
      ]
    },
    {
      "cell_type": "code",
      "metadata": {
        "colab": {
          "base_uri": "https://localhost:8080/"
        },
        "id": "OvSxeIJex2ss",
        "outputId": "3901ca89-179a-497b-cd4c-69a33090e67c"
      },
      "source": [
        "x_train_tensor.shape, y_train_tensor.shape"
      ],
      "execution_count": 146,
      "outputs": [
        {
          "output_type": "execute_result",
          "data": {
            "text/plain": [
              "(torch.Size([80, 1]), torch.Size([80, 1]))"
            ]
          },
          "metadata": {
            "tags": []
          },
          "execution_count": 146
        }
      ]
    },
    {
      "cell_type": "code",
      "metadata": {
        "colab": {
          "base_uri": "https://localhost:8080/"
        },
        "id": "smj21-iSwxyi",
        "outputId": "24a7943a-e6be-4fec-8a5e-ee38f15f3473"
      },
      "source": [
        "for epoch in range(n_epochs):\n",
        "  model.train() # What is this?!? training loop!\n",
        "\n",
        "  # Step 1 - Computes model's predicted output - forward pass\n",
        "  # No more manual prediction!\n",
        "  yhat = model(x_train_tensor)\n",
        "  \n",
        "  # Step 2 - Computes the loss\n",
        "  loss = loss_fn(yhat, y_train_tensor)\n",
        "\n",
        "  # Step 3 - Computes gradients for both \"b\" and \"w\" parameters\n",
        "  loss.backward()\n",
        "  \n",
        "  # Step 4 - Updates parameters using gradients and\n",
        "  # the learning rate\n",
        "  optimizer.step()\n",
        "  optimizer.zero_grad()\n",
        "  \n",
        "# We can also inspect its parameters using its state_dict\n",
        "print(model.state_dict())"
      ],
      "execution_count": 148,
      "outputs": [
        {
          "output_type": "stream",
          "text": [
            "OrderedDict([('b', tensor([1.0235], device='cuda:0')), ('w', tensor([1.9690], device='cuda:0'))])\n"
          ],
          "name": "stdout"
        }
      ]
    },
    {
      "cell_type": "markdown",
      "metadata": {
        "id": "ZSF0UPYD1Vd6"
      },
      "source": [
        "# Nested Models"
      ]
    },
    {
      "cell_type": "code",
      "metadata": {
        "colab": {
          "base_uri": "https://localhost:8080/"
        },
        "id": "dgkayid_xs9y",
        "outputId": "c1591e6b-867f-4eab-d7e5-26fbca5b1da4"
      },
      "source": [
        "linear = nn.Linear(1, 1)\n",
        "linear"
      ],
      "execution_count": 149,
      "outputs": [
        {
          "output_type": "execute_result",
          "data": {
            "text/plain": [
              "Linear(in_features=1, out_features=1, bias=True)"
            ]
          },
          "metadata": {
            "tags": []
          },
          "execution_count": 149
        }
      ]
    },
    {
      "cell_type": "code",
      "metadata": {
        "colab": {
          "base_uri": "https://localhost:8080/"
        },
        "id": "3af7shXu1f4z",
        "outputId": "3322ffb0-3998-4a5d-ff15-6e7dc666832a"
      },
      "source": [
        "linear.state_dict()"
      ],
      "execution_count": 150,
      "outputs": [
        {
          "output_type": "execute_result",
          "data": {
            "text/plain": [
              "OrderedDict([('weight', tensor([[-0.2191]])), ('bias', tensor([0.2018]))])"
            ]
          },
          "metadata": {
            "tags": []
          },
          "execution_count": 150
        }
      ]
    },
    {
      "cell_type": "code",
      "metadata": {
        "id": "2DZOnQty1idF"
      },
      "source": [
        "class MyLinearRegression(nn.Module):\n",
        "  def __init__(self):\n",
        "    super().__init__()\n",
        "    self.linear = nn.Linear(1, 1)\n",
        "  \n",
        "  def forward(self, x):\n",
        "    return self.linear(x)"
      ],
      "execution_count": 154,
      "outputs": []
    },
    {
      "cell_type": "code",
      "metadata": {
        "id": "7XUvCn451waS"
      },
      "source": [
        "torch.manual_seed(42)\n",
        "model = MyLinearRegression().to(device)"
      ],
      "execution_count": 155,
      "outputs": []
    },
    {
      "cell_type": "code",
      "metadata": {
        "colab": {
          "base_uri": "https://localhost:8080/"
        },
        "id": "KHWjGkrv13J7",
        "outputId": "d31dee4f-706d-4949-845f-e2716a40e7ca"
      },
      "source": [
        "model(x_train_tensor)"
      ],
      "execution_count": 156,
      "outputs": [
        {
          "output_type": "execute_result",
          "data": {
            "text/plain": [
              "tensor([[1.4197],\n",
              "        [0.8786],\n",
              "        [1.4899],\n",
              "        [0.8494],\n",
              "        [1.3896],\n",
              "        [0.8866],\n",
              "        [0.9819],\n",
              "        [1.0678],\n",
              "        [1.1910],\n",
              "        [1.5713],\n",
              "        [0.9233],\n",
              "        [1.4226],\n",
              "        [1.4433],\n",
              "        [1.3878],\n",
              "        [0.9047],\n",
              "        [0.9713],\n",
              "        [0.9493],\n",
              "        [0.8457],\n",
              "        [1.5845],\n",
              "        [1.3065],\n",
              "        [1.3714],\n",
              "        [1.2871],\n",
              "        [1.5348],\n",
              "        [1.3174],\n",
              "        [1.0448],\n",
              "        [1.0279],\n",
              "        [0.9214],\n",
              "        [1.3874],\n",
              "        [1.5555],\n",
              "        [1.2945],\n",
              "        [1.2591],\n",
              "        [1.2075],\n",
              "        [0.9690],\n",
              "        [1.0375],\n",
              "        [1.5715],\n",
              "        [0.9923],\n",
              "        [0.9702],\n",
              "        [1.4922],\n",
              "        [1.1164],\n",
              "        [1.0527],\n",
              "        [1.4481],\n",
              "        [0.8744],\n",
              "        [1.4664],\n",
              "        [1.2449],\n",
              "        [1.4204],\n",
              "        [1.5083],\n",
              "        [0.8977],\n",
              "        [0.8646],\n",
              "        [1.2829],\n",
              "        [1.3531],\n",
              "        [1.3753],\n",
              "        [0.8563],\n",
              "        [1.2896],\n",
              "        [1.4535],\n",
              "        [1.1665],\n",
              "        [1.0786],\n",
              "        [1.4303],\n",
              "        [1.4117],\n",
              "        [1.2086],\n",
              "        [0.9827],\n",
              "        [1.5569],\n",
              "        [1.0534],\n",
              "        [0.9367],\n",
              "        [1.0683],\n",
              "        [1.3704],\n",
              "        [0.9186],\n",
              "        [1.1041],\n",
              "        [0.8342],\n",
              "        [0.9798],\n",
              "        [1.5141],\n",
              "        [1.1787],\n",
              "        [1.2312],\n",
              "        [0.9377],\n",
              "        [0.8797],\n",
              "        [0.9604],\n",
              "        [1.4636],\n",
              "        [1.0787],\n",
              "        [1.5483],\n",
              "        [1.0830],\n",
              "        [1.1101]], device='cuda:0', grad_fn=<AddmmBackward>)"
            ]
          },
          "metadata": {
            "tags": []
          },
          "execution_count": 156
        }
      ]
    },
    {
      "cell_type": "code",
      "metadata": {
        "colab": {
          "base_uri": "https://localhost:8080/"
        },
        "id": "hLljl8UX14X7",
        "outputId": "ff5b9d8e-dc69-466b-a531-5431587e7477"
      },
      "source": [
        "list(model.parameters())"
      ],
      "execution_count": 157,
      "outputs": [
        {
          "output_type": "execute_result",
          "data": {
            "text/plain": [
              "[Parameter containing:\n",
              " tensor([[0.7645]], device='cuda:0', requires_grad=True), Parameter containing:\n",
              " tensor([0.8300], device='cuda:0', requires_grad=True)]"
            ]
          },
          "metadata": {
            "tags": []
          },
          "execution_count": 157
        }
      ]
    },
    {
      "cell_type": "code",
      "metadata": {
        "colab": {
          "base_uri": "https://localhost:8080/"
        },
        "id": "RbStxJeW2AWr",
        "outputId": "b1cd56a9-2c44-4b69-9cfe-6e8e1e236075"
      },
      "source": [
        "model.state_dict()"
      ],
      "execution_count": 159,
      "outputs": [
        {
          "output_type": "execute_result",
          "data": {
            "text/plain": [
              "OrderedDict([('linear.weight', tensor([[0.7645]], device='cuda:0')),\n",
              "             ('linear.bias', tensor([0.8300], device='cuda:0'))])"
            ]
          },
          "metadata": {
            "tags": []
          },
          "execution_count": 159
        }
      ]
    },
    {
      "cell_type": "code",
      "metadata": {
        "colab": {
          "base_uri": "https://localhost:8080/"
        },
        "id": "ApXrhtre2CFS",
        "outputId": "f562b132-e6e7-4477-8e72-3353898a4eb1"
      },
      "source": [
        "model = nn.Sequential(nn.Linear(1, 1)).to(device)\n",
        "model.state_dict()"
      ],
      "execution_count": 160,
      "outputs": [
        {
          "output_type": "execute_result",
          "data": {
            "text/plain": [
              "OrderedDict([('0.weight', tensor([[-0.2343]], device='cuda:0')),\n",
              "             ('0.bias', tensor([0.9186], device='cuda:0'))])"
            ]
          },
          "metadata": {
            "tags": []
          },
          "execution_count": 160
        }
      ]
    },
    {
      "cell_type": "code",
      "metadata": {
        "colab": {
          "base_uri": "https://localhost:8080/"
        },
        "id": "xZ90d8JJ2NFK",
        "outputId": "797a09bc-da39-4e07-d4bd-81fcc313da08"
      },
      "source": [
        "model(x_train_tensor)"
      ],
      "execution_count": 161,
      "outputs": [
        {
          "output_type": "execute_result",
          "data": {
            "text/plain": [
              "tensor([[0.7379],\n",
              "        [0.9037],\n",
              "        [0.7164],\n",
              "        [0.9127],\n",
              "        [0.7471],\n",
              "        [0.9013],\n",
              "        [0.8721],\n",
              "        [0.8458],\n",
              "        [0.8080],\n",
              "        [0.6915],\n",
              "        [0.8900],\n",
              "        [0.7370],\n",
              "        [0.7307],\n",
              "        [0.7477],\n",
              "        [0.8957],\n",
              "        [0.8753],\n",
              "        [0.8821],\n",
              "        [0.9138],\n",
              "        [0.6874],\n",
              "        [0.7726],\n",
              "        [0.7527],\n",
              "        [0.7785],\n",
              "        [0.7026],\n",
              "        [0.7692],\n",
              "        [0.8528],\n",
              "        [0.8580],\n",
              "        [0.8906],\n",
              "        [0.7478],\n",
              "        [0.6963],\n",
              "        [0.7763],\n",
              "        [0.7871],\n",
              "        [0.8029],\n",
              "        [0.8760],\n",
              "        [0.8550],\n",
              "        [0.6914],\n",
              "        [0.8689],\n",
              "        [0.8756],\n",
              "        [0.7157],\n",
              "        [0.8309],\n",
              "        [0.8504],\n",
              "        [0.7292],\n",
              "        [0.9050],\n",
              "        [0.7236],\n",
              "        [0.7915],\n",
              "        [0.7377],\n",
              "        [0.7108],\n",
              "        [0.8979],\n",
              "        [0.9080],\n",
              "        [0.7798],\n",
              "        [0.7583],\n",
              "        [0.7515],\n",
              "        [0.9106],\n",
              "        [0.7778],\n",
              "        [0.7276],\n",
              "        [0.8155],\n",
              "        [0.8424],\n",
              "        [0.7347],\n",
              "        [0.7404],\n",
              "        [0.8026],\n",
              "        [0.8718],\n",
              "        [0.6959],\n",
              "        [0.8502],\n",
              "        [0.8859],\n",
              "        [0.8456],\n",
              "        [0.7530],\n",
              "        [0.8915],\n",
              "        [0.8346],\n",
              "        [0.9173],\n",
              "        [0.8727],\n",
              "        [0.7090],\n",
              "        [0.8118],\n",
              "        [0.7957],\n",
              "        [0.8856],\n",
              "        [0.9034],\n",
              "        [0.8787],\n",
              "        [0.7245],\n",
              "        [0.8424],\n",
              "        [0.6985],\n",
              "        [0.8411],\n",
              "        [0.8328]], device='cuda:0', grad_fn=<AddmmBackward>)"
            ]
          },
          "metadata": {
            "tags": []
          },
          "execution_count": 161
        }
      ]
    },
    {
      "cell_type": "markdown",
      "metadata": {
        "id": "dnk5J4jO2TN8"
      },
      "source": [
        "# Layers"
      ]
    },
    {
      "cell_type": "code",
      "metadata": {
        "colab": {
          "base_uri": "https://localhost:8080/"
        },
        "id": "mqadUDE12P_6",
        "outputId": "934736b1-1302-43c2-9fc9-ed644e6cd883"
      },
      "source": [
        "model = nn.Sequential(nn.Linear(3, 5), nn.Linear(5, 1)).to(device)\n",
        "model.state_dict()"
      ],
      "execution_count": 162,
      "outputs": [
        {
          "output_type": "execute_result",
          "data": {
            "text/plain": [
              "OrderedDict([('0.weight', tensor([[-0.1265,  0.1165, -0.2811],\n",
              "                      [ 0.3391,  0.5090, -0.4236],\n",
              "                      [ 0.5018,  0.1081,  0.4266],\n",
              "                      [ 0.0782,  0.2784, -0.0815],\n",
              "                      [ 0.4451,  0.0853, -0.2695]], device='cuda:0')),\n",
              "             ('0.bias',\n",
              "              tensor([ 0.1472, -0.2660, -0.0677, -0.2345,  0.3830], device='cuda:0')),\n",
              "             ('1.weight',\n",
              "              tensor([[-0.3530, -0.2062, -0.1263, -0.2689,  0.0422]], device='cuda:0')),\n",
              "             ('1.bias', tensor([-0.4417], device='cuda:0'))])"
            ]
          },
          "metadata": {
            "tags": []
          },
          "execution_count": 162
        }
      ]
    },
    {
      "cell_type": "code",
      "metadata": {
        "colab": {
          "base_uri": "https://localhost:8080/"
        },
        "id": "YmB1j4Dl2egD",
        "outputId": "fbb2c4e9-6275-4bbb-dfc8-98ba9e04c82e"
      },
      "source": [
        "list(model.parameters())"
      ],
      "execution_count": 163,
      "outputs": [
        {
          "output_type": "execute_result",
          "data": {
            "text/plain": [
              "[Parameter containing:\n",
              " tensor([[-0.1265,  0.1165, -0.2811],\n",
              "         [ 0.3391,  0.5090, -0.4236],\n",
              "         [ 0.5018,  0.1081,  0.4266],\n",
              "         [ 0.0782,  0.2784, -0.0815],\n",
              "         [ 0.4451,  0.0853, -0.2695]], device='cuda:0', requires_grad=True),\n",
              " Parameter containing:\n",
              " tensor([ 0.1472, -0.2660, -0.0677, -0.2345,  0.3830], device='cuda:0',\n",
              "        requires_grad=True),\n",
              " Parameter containing:\n",
              " tensor([[-0.3530, -0.2062, -0.1263, -0.2689,  0.0422]], device='cuda:0',\n",
              "        requires_grad=True),\n",
              " Parameter containing:\n",
              " tensor([-0.4417], device='cuda:0', requires_grad=True)]"
            ]
          },
          "metadata": {
            "tags": []
          },
          "execution_count": 163
        }
      ]
    },
    {
      "cell_type": "code",
      "metadata": {
        "colab": {
          "base_uri": "https://localhost:8080/"
        },
        "id": "6L5SnaOh2jmS",
        "outputId": "992051b4-148e-481e-b292-6047548bbbd2"
      },
      "source": [
        "model = nn.Sequential()\n",
        "model.add_module('layer1', nn.Linear(3, 5))\n",
        "model.add_module('layer2', nn.Linear(5, 1))\n",
        "model.to(device)"
      ],
      "execution_count": 164,
      "outputs": [
        {
          "output_type": "execute_result",
          "data": {
            "text/plain": [
              "Sequential(\n",
              "  (layer1): Linear(in_features=3, out_features=5, bias=True)\n",
              "  (layer2): Linear(in_features=5, out_features=1, bias=True)\n",
              ")"
            ]
          },
          "metadata": {
            "tags": []
          },
          "execution_count": 164
        }
      ]
    },
    {
      "cell_type": "markdown",
      "metadata": {
        "id": "E_FK9V8v2zOi"
      },
      "source": [
        "# Putting it all together\n",
        "\n",
        "## Data preparation\n",
        "\n",
        "### data preparation v0"
      ]
    },
    {
      "cell_type": "code",
      "metadata": {
        "colab": {
          "base_uri": "https://localhost:8080/"
        },
        "id": "3FcQ-oVM2wMj",
        "outputId": "5da47e5f-c337-4976-8c61-ae5fbee96b42"
      },
      "source": [
        "%%writefile data_preparation/v0.py\n",
        "\n",
        "device = 'cuda' if torch.cuda.is_available() else 'cpu'\n",
        "\n",
        "# Our data was in Numpy arrays, but we need to transform them\n",
        "# into PyTorch's Tensors and then we send them to the \n",
        "# chosen device\n",
        "x_train_tensor = torch.as_tensor(x_train).float().to(device)\n",
        "y_train_tensor = torch.as_tensor(y_train).float().to(device)"
      ],
      "execution_count": 165,
      "outputs": [
        {
          "output_type": "stream",
          "text": [
            "Writing data_preparation/v0.py\n"
          ],
          "name": "stdout"
        }
      ]
    },
    {
      "cell_type": "code",
      "metadata": {
        "colab": {
          "base_uri": "https://localhost:8080/",
          "height": 34
        },
        "id": "6IMakvTO27nc",
        "outputId": "827823e6-2d93-4afd-b1f7-e376b4d16d6c"
      },
      "source": [
        "%run -i data_preparation/v0.py"
      ],
      "execution_count": 166,
      "outputs": [
        {
          "output_type": "display_data",
          "data": {
            "text/plain": [
              "<Figure size 432x288 with 0 Axes>"
            ]
          },
          "metadata": {
            "tags": []
          }
        }
      ]
    },
    {
      "cell_type": "markdown",
      "metadata": {
        "id": "H83qxY9Z3GOA"
      },
      "source": [
        "# Model Configuration"
      ]
    },
    {
      "cell_type": "code",
      "metadata": {
        "colab": {
          "base_uri": "https://localhost:8080/"
        },
        "id": "kzxjM0Hr3CS7",
        "outputId": "f8b902d2-8049-4fe4-8533-bb9087cab00c"
      },
      "source": [
        "%%writefile model_configuration/v0.py\n",
        "\n",
        "# This is redundant now, but it won't be when we introduce\n",
        "# Datasets...\n",
        "device = 'cuda' if torch.cuda.is_available() else 'cpu'\n",
        "\n",
        "# Sets learning rate - this is \"eta\" ~ the \"n\"-like Greek letter\n",
        "lr = 0.1\n",
        "\n",
        "torch.manual_seed(42)\n",
        "# Now we can create a model and send it at once to the device\n",
        "model = nn.Sequential(nn.Linear(1, 1)).to(device)\n",
        "\n",
        "# Defines a SGD optimizer to update the parameters \n",
        "# (now retrieved directly from the model)\n",
        "optimizer = optim.SGD(model.parameters(), lr=lr)\n",
        "\n",
        "# Defines a MSE loss function\n",
        "loss_fn = nn.MSELoss(reduction='mean')"
      ],
      "execution_count": 167,
      "outputs": [
        {
          "output_type": "stream",
          "text": [
            "Writing model_configuration/v0.py\n"
          ],
          "name": "stdout"
        }
      ]
    },
    {
      "cell_type": "code",
      "metadata": {
        "id": "Sa5ZF-b_3Mpj"
      },
      "source": [
        "%run -i model_configuration/v0.py"
      ],
      "execution_count": 168,
      "outputs": []
    },
    {
      "cell_type": "code",
      "metadata": {
        "colab": {
          "base_uri": "https://localhost:8080/"
        },
        "id": "6aW-N-gM3OID",
        "outputId": "069655c0-74bf-4c4b-e2a2-5746a745581e"
      },
      "source": [
        "%%writefile model_training/v0.py\n",
        "\n",
        "# Defines number of epochs\n",
        "n_epochs = 1000\n",
        "\n",
        "for epoch in range(n_epochs):\n",
        "    # Sets model to TRAIN mode\n",
        "    model.train()\n",
        "\n",
        "    # Step 1 - Computes model's predicted output - forward pass\n",
        "    yhat = model(x_train_tensor)\n",
        "    \n",
        "    # Step 2 - Computes the loss\n",
        "    loss = loss_fn(yhat, y_train_tensor)\n",
        "\n",
        "    # Step 3 - Computes gradients for both \"b\" and \"w\" parameters\n",
        "    loss.backward()\n",
        "    \n",
        "    # Step 4 - Updates parameters using gradients and \n",
        "    # the learning rate\n",
        "    optimizer.step()\n",
        "    optimizer.zero_grad()"
      ],
      "execution_count": 169,
      "outputs": [
        {
          "output_type": "stream",
          "text": [
            "Writing model_training/v0.py\n"
          ],
          "name": "stdout"
        }
      ]
    },
    {
      "cell_type": "code",
      "metadata": {
        "id": "WmLVqrZp3QWj"
      },
      "source": [
        "%run -i model_training/v0.py"
      ],
      "execution_count": 170,
      "outputs": []
    },
    {
      "cell_type": "code",
      "metadata": {
        "colab": {
          "base_uri": "https://localhost:8080/"
        },
        "id": "TepsgV5y3V_r",
        "outputId": "5e951d60-add7-4421-caec-7cfbe70a80d4"
      },
      "source": [
        "print(model.state_dict())"
      ],
      "execution_count": 171,
      "outputs": [
        {
          "output_type": "stream",
          "text": [
            "OrderedDict([('0.weight', tensor([[1.9690]], device='cuda:0')), ('0.bias', tensor([1.0235], device='cuda:0'))])\n"
          ],
          "name": "stdout"
        }
      ]
    },
    {
      "cell_type": "code",
      "metadata": {
        "id": "baxp9_dh3XLz"
      },
      "source": [
        ""
      ],
      "execution_count": null,
      "outputs": []
    }
  ]
}