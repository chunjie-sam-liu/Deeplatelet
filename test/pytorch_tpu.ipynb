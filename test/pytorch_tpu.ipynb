{
  "nbformat": 4,
  "nbformat_minor": 0,
  "metadata": {
    "colab": {
      "name": "pytorch-tpu.ipynb",
      "provenance": [],
      "collapsed_sections": [],
      "authorship_tag": "ABX9TyOlimeefgk7oDUMNVFOUgXc",
      "include_colab_link": true
    },
    "kernelspec": {
      "name": "python3",
      "display_name": "Python 3"
    },
    "accelerator": "TPU"
  },
  "cells": [
    {
      "cell_type": "markdown",
      "metadata": {
        "id": "view-in-github",
        "colab_type": "text"
      },
      "source": [
        "<a href=\"https://colab.research.google.com/github/chunjie-sam-liu/TEP-prognosis/blob/main/test/pytorch_tpu.ipynb\" target=\"_parent\"><img src=\"https://colab.research.google.com/assets/colab-badge.svg\" alt=\"Open In Colab\"/></a>"
      ]
    },
    {
      "cell_type": "code",
      "metadata": {
        "colab": {
          "base_uri": "https://localhost:8080/"
        },
        "id": "ndizea6RKore",
        "outputId": "2da328f8-f95a-4065-9ca9-f9dc0483735b"
      },
      "source": [
        "VERSION = \"nightly\" #@param [\"20200220\",\"nightly\", \"xrt==1.15.0\"]\n",
        "!curl https://raw.githubusercontent.com/pytorch/xla/master/contrib/scripts/env-setup.py -o pytorch-xla-env-setup.py\n",
        "!python pytorch-xla-env-setup.py --version $VERSION"
      ],
      "execution_count": 3,
      "outputs": [
        {
          "output_type": "stream",
          "text": [
            "  % Total    % Received % Xferd  Average Speed   Time    Time     Time  Current\n",
            "                                 Dload  Upload   Total   Spent    Left  Speed\n",
            "\r  0     0    0     0    0     0      0      0 --:--:-- --:--:-- --:--:--     0\r100  5116  100  5116    0     0  50156      0 --:--:-- --:--:-- --:--:-- 50156\n",
            "Updating... This may take around 2 minutes.\n",
            "Updating TPU runtime to pytorch-nightly ...\n",
            "Collecting cloud-tpu-client\n",
            "  Downloading https://files.pythonhosted.org/packages/56/9f/7b1958c2886db06feb5de5b2c191096f9e619914b6c31fdf93999fdbbd8b/cloud_tpu_client-0.10-py3-none-any.whl\n",
            "Requirement already satisfied: oauth2client in /usr/local/lib/python3.6/dist-packages (from cloud-tpu-client) (4.1.3)\n",
            "Collecting google-api-python-client==1.8.0\n",
            "\u001b[?25l  Downloading https://files.pythonhosted.org/packages/9a/b4/a955f393b838bc47cbb6ae4643b9d0f90333d3b4db4dc1e819f36aad18cc/google_api_python_client-1.8.0-py3-none-any.whl (57kB)\n",
            "\u001b[K     |████████████████████████████████| 61kB 3.0MB/s \n",
            "\u001b[?25hRequirement already satisfied: six>=1.6.1 in /usr/local/lib/python3.6/dist-packages (from oauth2client->cloud-tpu-client) (1.15.0)\n",
            "Requirement already satisfied: pyasn1-modules>=0.0.5 in /usr/local/lib/python3.6/dist-packages (from oauth2client->cloud-tpu-client) (0.2.8)\n",
            "Requirement already satisfied: rsa>=3.1.4 in /usr/local/lib/python3.6/dist-packages (from oauth2client->cloud-tpu-client) (4.6)\n",
            "Requirement already satisfied: pyasn1>=0.1.7 in /usr/local/lib/python3.6/dist-packages (from oauth2client->cloud-tpu-client) (0.4.8)\n",
            "Requirement already satisfied: httplib2>=0.9.1 in /usr/local/lib/python3.6/dist-packages (from oauth2client->cloud-tpu-client) (0.17.4)\n",
            "Requirement already satisfied: google-auth-httplib2>=0.0.3 in /usr/local/lib/python3.6/dist-packages (from google-api-python-client==1.8.0->cloud-tpu-client) (0.0.4)\n",
            "Requirement already satisfied: uritemplate<4dev,>=3.0.0 in /usr/local/lib/python3.6/dist-packages (from google-api-python-client==1.8.0->cloud-tpu-client) (3.0.1)\n",
            "Requirement already satisfied: google-api-core<2dev,>=1.13.0 in /usr/local/lib/python3.6/dist-packages (from google-api-python-client==1.8.0->cloud-tpu-client) (1.16.0)\n",
            "Requirement already satisfied: google-auth>=1.4.1 in /usr/local/lib/python3.6/dist-packages (from google-api-python-client==1.8.0->cloud-tpu-client) (1.17.2)\n",
            "Requirement already satisfied: pytz in /usr/local/lib/python3.6/dist-packages (from google-api-core<2dev,>=1.13.0->google-api-python-client==1.8.0->cloud-tpu-client) (2018.9)\n",
            "Uninstalling torch-1.7.0+cu101:\n",
            "Requirement already satisfied: setuptools>=34.0.0 in /usr/local/lib/python3.6/dist-packages (from google-api-core<2dev,>=1.13.0->google-api-python-client==1.8.0->cloud-tpu-client) (51.1.1)\n",
            "Requirement already satisfied: googleapis-common-protos<2.0dev,>=1.6.0 in /usr/local/lib/python3.6/dist-packages (from google-api-core<2dev,>=1.13.0->google-api-python-client==1.8.0->cloud-tpu-client) (1.52.0)\n",
            "Requirement already satisfied: protobuf>=3.4.0 in /usr/local/lib/python3.6/dist-packages (from google-api-core<2dev,>=1.13.0->google-api-python-client==1.8.0->cloud-tpu-client) (3.12.4)\n",
            "Requirement already satisfied: requests<3.0.0dev,>=2.18.0 in /usr/local/lib/python3.6/dist-packages (from google-api-core<2dev,>=1.13.0->google-api-python-client==1.8.0->cloud-tpu-client) (2.23.0)\n",
            "Requirement already satisfied: cachetools<5.0,>=2.0.0 in /usr/local/lib/python3.6/dist-packages (from google-auth>=1.4.1->google-api-python-client==1.8.0->cloud-tpu-client) (4.2.0)\n",
            "Requirement already satisfied: urllib3!=1.25.0,!=1.25.1,<1.26,>=1.21.1 in /usr/local/lib/python3.6/dist-packages (from requests<3.0.0dev,>=2.18.0->google-api-core<2dev,>=1.13.0->google-api-python-client==1.8.0->cloud-tpu-client) (1.24.3)\n",
            "Requirement already satisfied: idna<3,>=2.5 in /usr/local/lib/python3.6/dist-packages (from requests<3.0.0dev,>=2.18.0->google-api-core<2dev,>=1.13.0->google-api-python-client==1.8.0->cloud-tpu-client) (2.10)\n",
            "Requirement already satisfied: chardet<4,>=3.0.2 in /usr/local/lib/python3.6/dist-packages (from requests<3.0.0dev,>=2.18.0->google-api-core<2dev,>=1.13.0->google-api-python-client==1.8.0->cloud-tpu-client) (3.0.4)\n",
            "Requirement already satisfied: certifi>=2017.4.17 in /usr/local/lib/python3.6/dist-packages (from requests<3.0.0dev,>=2.18.0->google-api-core<2dev,>=1.13.0->google-api-python-client==1.8.0->cloud-tpu-client) (2020.12.5)\n",
            "Installing collected packages: google-api-python-client, cloud-tpu-client\n",
            "  Found existing installation: google-api-python-client 1.7.12\n",
            "    Uninstalling google-api-python-client-1.7.12:\n",
            "      Successfully uninstalled google-api-python-client-1.7.12\n",
            "Successfully installed cloud-tpu-client-0.10 google-api-python-client-1.8.0\n",
            "  Successfully uninstalled torch-1.7.0+cu101\n",
            "Uninstalling torchvision-0.8.1+cu101:\n",
            "Done updating TPU runtime\n",
            "  Successfully uninstalled torchvision-0.8.1+cu101\n",
            "Copying gs://tpu-pytorch/wheels/torch-nightly-cp36-cp36m-linux_x86_64.whl...\n",
            "\\ [1 files][ 94.3 MiB/ 94.3 MiB]                                                \n",
            "Operation completed over 1 objects/94.3 MiB.                                     \n",
            "Copying gs://tpu-pytorch/wheels/torch_xla-nightly-cp36-cp36m-linux_x86_64.whl...\n",
            "/ [1 files][131.0 MiB/131.0 MiB]                                                \n",
            "Operation completed over 1 objects/131.0 MiB.                                    \n",
            "Copying gs://tpu-pytorch/wheels/torchvision-nightly-cp36-cp36m-linux_x86_64.whl...\n",
            "/ [1 files][  4.8 MiB/  4.8 MiB]                                                \n",
            "Operation completed over 1 objects/4.8 MiB.                                      \n",
            "Processing ./torch-nightly-cp36-cp36m-linux_x86_64.whl\n",
            "Requirement already satisfied: dataclasses; python_version < \"3.7\" in /usr/local/lib/python3.6/dist-packages (from torch==nightly) (0.8)\n",
            "Requirement already satisfied: typing-extensions in /usr/local/lib/python3.6/dist-packages (from torch==nightly) (3.7.4.3)\n",
            "Requirement already satisfied: numpy in /usr/local/lib/python3.6/dist-packages (from torch==nightly) (1.19.5)\n",
            "\u001b[31mERROR: fastai 1.0.61 requires torchvision, which is not installed.\u001b[0m\n",
            "Installing collected packages: torch\n",
            "Successfully installed torch-1.8.0a0\n",
            "Processing ./torch_xla-nightly-cp36-cp36m-linux_x86_64.whl\n",
            "Installing collected packages: torch-xla\n",
            "Successfully installed torch-xla-1.6+ee12b88\n",
            "Processing ./torchvision-nightly-cp36-cp36m-linux_x86_64.whl\n",
            "Requirement already satisfied: torch in /usr/local/lib/python3.6/dist-packages (from torchvision==nightly) (1.8.0a0)\n",
            "Requirement already satisfied: numpy in /usr/local/lib/python3.6/dist-packages (from torchvision==nightly) (1.19.5)\n",
            "Requirement already satisfied: pillow>=4.1.1 in /usr/local/lib/python3.6/dist-packages (from torchvision==nightly) (7.0.0)\n",
            "Requirement already satisfied: dataclasses; python_version < \"3.7\" in /usr/local/lib/python3.6/dist-packages (from torch->torchvision==nightly) (0.8)\n",
            "Requirement already satisfied: typing-extensions in /usr/local/lib/python3.6/dist-packages (from torch->torchvision==nightly) (3.7.4.3)\n",
            "Installing collected packages: torchvision\n",
            "Successfully installed torchvision-0.9.0a0+8ebfd2f\n",
            "Reading package lists... Done\n",
            "Building dependency tree       \n",
            "Reading state information... Done\n",
            "The following NEW packages will be installed:\n",
            "  libomp5\n",
            "0 upgraded, 1 newly installed, 0 to remove and 16 not upgraded.\n",
            "Need to get 234 kB of archives.\n",
            "After this operation, 774 kB of additional disk space will be used.\n",
            "Get:1 http://archive.ubuntu.com/ubuntu bionic/universe amd64 libomp5 amd64 5.0.1-1 [234 kB]\n",
            "Fetched 234 kB in 1s (332 kB/s)\n",
            "Selecting previously unselected package libomp5:amd64.\n",
            "(Reading database ... 145483 files and directories currently installed.)\n",
            "Preparing to unpack .../libomp5_5.0.1-1_amd64.deb ...\n",
            "Unpacking libomp5:amd64 (5.0.1-1) ...\n",
            "Setting up libomp5:amd64 (5.0.1-1) ...\n",
            "Processing triggers for libc-bin (2.27-3ubuntu1.2) ...\n",
            "/sbin/ldconfig.real: /usr/local/lib/python3.6/dist-packages/ideep4py/lib/libmkldnn.so.0 is not a symbolic link\n",
            "\n"
          ],
          "name": "stdout"
        }
      ]
    },
    {
      "cell_type": "code",
      "metadata": {
        "colab": {
          "base_uri": "https://localhost:8080/"
        },
        "id": "ds-eIHHQMuxt",
        "outputId": "22f4eca6-121e-45de-f09d-363ee3470932"
      },
      "source": [
        "!pip install cloud-tpu-client==0.10 https://storage.googleapis.com/tpu-pytorch/wheels/torch_xla-1.7-cp36-cp36m-linux_x86_64.whl"
      ],
      "execution_count": 6,
      "outputs": [
        {
          "output_type": "stream",
          "text": [
            "Requirement already satisfied: cloud-tpu-client==0.10 in /usr/local/lib/python3.6/dist-packages (0.10)\n",
            "Collecting torch-xla==1.7\n",
            "\u001b[?25l  Downloading https://storage.googleapis.com/tpu-pytorch/wheels/torch_xla-1.7-cp36-cp36m-linux_x86_64.whl (133.6MB)\n",
            "\u001b[K     |████████████████████████████████| 133.6MB 77kB/s \n",
            "\u001b[?25hRequirement already satisfied: google-api-python-client==1.8.0 in /usr/local/lib/python3.6/dist-packages (from cloud-tpu-client==0.10) (1.8.0)\n",
            "Requirement already satisfied: oauth2client in /usr/local/lib/python3.6/dist-packages (from cloud-tpu-client==0.10) (4.1.3)\n",
            "Requirement already satisfied: httplib2<1dev,>=0.9.2 in /usr/local/lib/python3.6/dist-packages (from google-api-python-client==1.8.0->cloud-tpu-client==0.10) (0.17.4)\n",
            "Requirement already satisfied: google-api-core<2dev,>=1.13.0 in /usr/local/lib/python3.6/dist-packages (from google-api-python-client==1.8.0->cloud-tpu-client==0.10) (1.16.0)\n",
            "Requirement already satisfied: uritemplate<4dev,>=3.0.0 in /usr/local/lib/python3.6/dist-packages (from google-api-python-client==1.8.0->cloud-tpu-client==0.10) (3.0.1)\n",
            "Requirement already satisfied: google-auth-httplib2>=0.0.3 in /usr/local/lib/python3.6/dist-packages (from google-api-python-client==1.8.0->cloud-tpu-client==0.10) (0.0.4)\n",
            "Requirement already satisfied: six<2dev,>=1.6.1 in /usr/local/lib/python3.6/dist-packages (from google-api-python-client==1.8.0->cloud-tpu-client==0.10) (1.15.0)\n",
            "Requirement already satisfied: google-auth>=1.4.1 in /usr/local/lib/python3.6/dist-packages (from google-api-python-client==1.8.0->cloud-tpu-client==0.10) (1.17.2)\n",
            "Requirement already satisfied: pyasn1>=0.1.7 in /usr/local/lib/python3.6/dist-packages (from oauth2client->cloud-tpu-client==0.10) (0.4.8)\n",
            "Requirement already satisfied: pyasn1-modules>=0.0.5 in /usr/local/lib/python3.6/dist-packages (from oauth2client->cloud-tpu-client==0.10) (0.2.8)\n",
            "Requirement already satisfied: rsa>=3.1.4 in /usr/local/lib/python3.6/dist-packages (from oauth2client->cloud-tpu-client==0.10) (4.6)\n",
            "Requirement already satisfied: setuptools>=34.0.0 in /usr/local/lib/python3.6/dist-packages (from google-api-core<2dev,>=1.13.0->google-api-python-client==1.8.0->cloud-tpu-client==0.10) (51.1.1)\n",
            "Requirement already satisfied: protobuf>=3.4.0 in /usr/local/lib/python3.6/dist-packages (from google-api-core<2dev,>=1.13.0->google-api-python-client==1.8.0->cloud-tpu-client==0.10) (3.12.4)\n",
            "Requirement already satisfied: requests<3.0.0dev,>=2.18.0 in /usr/local/lib/python3.6/dist-packages (from google-api-core<2dev,>=1.13.0->google-api-python-client==1.8.0->cloud-tpu-client==0.10) (2.23.0)\n",
            "Requirement already satisfied: googleapis-common-protos<2.0dev,>=1.6.0 in /usr/local/lib/python3.6/dist-packages (from google-api-core<2dev,>=1.13.0->google-api-python-client==1.8.0->cloud-tpu-client==0.10) (1.52.0)\n",
            "Requirement already satisfied: pytz in /usr/local/lib/python3.6/dist-packages (from google-api-core<2dev,>=1.13.0->google-api-python-client==1.8.0->cloud-tpu-client==0.10) (2018.9)\n",
            "Requirement already satisfied: cachetools<5.0,>=2.0.0 in /usr/local/lib/python3.6/dist-packages (from google-auth>=1.4.1->google-api-python-client==1.8.0->cloud-tpu-client==0.10) (4.2.0)\n",
            "Requirement already satisfied: urllib3!=1.25.0,!=1.25.1,<1.26,>=1.21.1 in /usr/local/lib/python3.6/dist-packages (from requests<3.0.0dev,>=2.18.0->google-api-core<2dev,>=1.13.0->google-api-python-client==1.8.0->cloud-tpu-client==0.10) (1.24.3)\n",
            "Requirement already satisfied: idna<3,>=2.5 in /usr/local/lib/python3.6/dist-packages (from requests<3.0.0dev,>=2.18.0->google-api-core<2dev,>=1.13.0->google-api-python-client==1.8.0->cloud-tpu-client==0.10) (2.10)\n",
            "Requirement already satisfied: chardet<4,>=3.0.2 in /usr/local/lib/python3.6/dist-packages (from requests<3.0.0dev,>=2.18.0->google-api-core<2dev,>=1.13.0->google-api-python-client==1.8.0->cloud-tpu-client==0.10) (3.0.4)\n",
            "Requirement already satisfied: certifi>=2017.4.17 in /usr/local/lib/python3.6/dist-packages (from requests<3.0.0dev,>=2.18.0->google-api-core<2dev,>=1.13.0->google-api-python-client==1.8.0->cloud-tpu-client==0.10) (2020.12.5)\n",
            "Installing collected packages: torch-xla\n",
            "  Found existing installation: torch-xla 1.6+ee12b88\n",
            "    Uninstalling torch-xla-1.6+ee12b88:\n",
            "      Successfully uninstalled torch-xla-1.6+ee12b88\n",
            "Successfully installed torch-xla-1.7\n"
          ],
          "name": "stdout"
        }
      ]
    },
    {
      "cell_type": "code",
      "metadata": {
        "colab": {
          "base_uri": "https://localhost:8080/"
        },
        "id": "G3pLyJlvKuPV",
        "outputId": "858bc132-f057-4efd-bcef-62ac076e34d1"
      },
      "source": [
        "import torch\n",
        "import torch_xla\n",
        "import torch_xla.core.xla_model as xm"
      ],
      "execution_count": 7,
      "outputs": [
        {
          "output_type": "stream",
          "text": [
            "WARNING:root:Waiting for TPU to be start up with version pytorch-1.6+ee12b88...\n",
            "WARNING:root:Waiting for TPU to be start up with version pytorch-1.6+ee12b88...\n",
            "WARNING:root:Waiting for TPU to be start up with version pytorch-1.6+ee12b88...\n",
            "WARNING:root:TPU has started up successfully with version pytorch-1.6+ee12b88\n"
          ],
          "name": "stderr"
        }
      ]
    },
    {
      "cell_type": "code",
      "metadata": {
        "colab": {
          "base_uri": "https://localhost:8080/"
        },
        "id": "MMR8qQ0xLIrr",
        "outputId": "ea5773db-55b0-4b4f-9d69-b1d00a1e1f87"
      },
      "source": [
        "# Create a random tensor on xla:1 \n",
        "dev = xm.xla_device()\n",
        "t1 = torch.ones(3, 3, device=dev)\n",
        "print(t1)"
      ],
      "execution_count": 8,
      "outputs": [
        {
          "output_type": "stream",
          "text": [
            "tensor([[1., 1., 1.],\n",
            "        [1., 1., 1.],\n",
            "        [1., 1., 1.]], device='xla:1')\n"
          ],
          "name": "stdout"
        }
      ]
    },
    {
      "cell_type": "code",
      "metadata": {
        "colab": {
          "base_uri": "https://localhost:8080/"
        },
        "id": "PRQ4VgQCLThb",
        "outputId": "2e0e8dc6-19e1-4e05-939e-8518b558ef14"
      },
      "source": [
        "second_dev = xm.xla_device(n = 2, devkind='TPU')\n",
        "t2 = torch.zeros(3, 3, device=second_dev)\n",
        "print(t2)"
      ],
      "execution_count": 9,
      "outputs": [
        {
          "output_type": "stream",
          "text": [
            "tensor([[0., 0., 0.],\n",
            "        [0., 0., 0.],\n",
            "        [0., 0., 0.]], device='xla:2')\n"
          ],
          "name": "stdout"
        }
      ]
    },
    {
      "cell_type": "code",
      "metadata": {
        "colab": {
          "base_uri": "https://localhost:8080/"
        },
        "id": "_X3i1uDBNarK",
        "outputId": "cc7c4650-b71d-406c-823e-e71039f825ef"
      },
      "source": [
        "a = torch.randn(2, 2, device=dev)\n",
        "b = torch.randn(2, 2, device=dev)\n",
        "print(a + b)\n",
        "print(b * 2)\n",
        "print(torch.matmul(a, b))"
      ],
      "execution_count": 10,
      "outputs": [
        {
          "output_type": "stream",
          "text": [
            "tensor([[-0.3088,  0.6661],\n",
            "        [ 1.3402, -0.4989]], device='xla:1')\n",
            "tensor([[-1.2814,  3.1716],\n",
            "        [ 2.1050, -2.6671]], device='xla:1')\n",
            "tensor([[-1.1809,  1.7529],\n",
            "        [ 0.6977, -0.6614]], device='xla:1')\n"
          ],
          "name": "stdout"
        }
      ]
    },
    {
      "cell_type": "code",
      "metadata": {
        "colab": {
          "base_uri": "https://localhost:8080/"
        },
        "id": "158ZTM2nNpll",
        "outputId": "83a96b73-146d-40f5-82c7-203d86d44fe8"
      },
      "source": [
        "filters = torch.randn(33, 16, 3, device=dev)\n",
        "inputs = torch.randn(20, 16, 50, device=dev)\n",
        "torch.nn.functional.conv1d(inputs, filters)"
      ],
      "execution_count": 12,
      "outputs": [
        {
          "output_type": "execute_result",
          "data": {
            "text/plain": [
              "tensor([[[ 4.6650e+00,  2.4131e+00,  8.4184e+00,  ..., -3.4691e+00,\n",
              "           1.3903e+00, -1.0927e+00],\n",
              "         [ 3.4179e+00,  8.0244e+00, -9.9459e+00,  ..., -8.1479e+00,\n",
              "          -3.1750e+00,  4.1194e+00],\n",
              "         [ 1.3079e+01,  4.3412e-01,  4.8352e+00,  ..., -5.5864e+00,\n",
              "          -5.9210e+00,  3.0204e+00],\n",
              "         ...,\n",
              "         [-9.0025e-01,  1.0062e+00, -7.9940e+00,  ..., -3.3179e-01,\n",
              "           1.4145e+00, -1.6179e+00],\n",
              "         [ 6.8360e+00, -7.3494e+00, -5.3362e+00,  ..., -2.9572e+00,\n",
              "          -2.2959e-02,  3.9403e+00],\n",
              "         [ 5.0153e+00,  8.0487e+00,  1.1326e+01,  ..., -1.4361e+00,\n",
              "          -3.4222e+00, -1.2024e+01]],\n",
              "\n",
              "        [[ 7.2372e+00,  4.9307e+00, -3.2422e-02,  ..., -1.2313e+00,\n",
              "          -7.7229e+00, -2.7538e-01],\n",
              "         [ 1.3342e+00, -3.3721e+00, -3.7326e+00,  ...,  1.9647e+00,\n",
              "           2.9404e+00, -2.5306e+00],\n",
              "         [-1.4254e+00, -1.2025e+01, -8.0462e+00,  ..., -9.1502e+00,\n",
              "          -4.7130e+00, -8.2591e+00],\n",
              "         ...,\n",
              "         [ 1.4655e-01,  2.5141e+00, -7.3199e+00,  ...,  1.4466e+00,\n",
              "           2.2178e+00, -3.8114e+00],\n",
              "         [ 3.7458e-03,  6.8704e+00, -1.3839e+01,  ..., -2.2898e+00,\n",
              "          -8.1921e+00, -8.7277e+00],\n",
              "         [ 4.7435e+00, -1.5033e+01,  3.1681e+00,  ..., -4.4003e+00,\n",
              "          -1.0665e+01,  1.1110e+00]],\n",
              "\n",
              "        [[-3.5043e+00,  2.8066e+00, -6.1085e+00,  ..., -4.4275e+00,\n",
              "           3.6302e+00,  1.1821e+00],\n",
              "         [-8.2691e+00,  3.7238e-01,  7.2745e+00,  ..., -1.7588e+00,\n",
              "           6.3638e+00, -3.6559e-01],\n",
              "         [ 2.7032e-01, -2.5759e+00, -3.1927e+00,  ...,  8.4598e+00,\n",
              "           1.3132e+00, -3.3473e+00],\n",
              "         ...,\n",
              "         [-5.5490e+00, -7.2575e-01,  1.3502e+00,  ..., -1.8283e-01,\n",
              "          -3.4637e+00, -6.0446e+00],\n",
              "         [ 4.3602e+00,  4.6406e+00, -3.5517e+00,  ...,  7.9270e+00,\n",
              "           1.7566e+00, -1.4553e+01],\n",
              "         [-9.3492e+00,  1.3737e+00,  5.7003e+00,  ...,  2.1305e+00,\n",
              "           4.3656e+00,  3.0046e+00]],\n",
              "\n",
              "        ...,\n",
              "\n",
              "        [[ 1.1080e+01, -3.9389e+00, -5.2548e+00,  ...,  8.2101e+00,\n",
              "          -7.9672e+00, -8.9024e+00],\n",
              "         [ 1.5413e+00, -3.5958e+00, -6.1157e+00,  ..., -3.7576e+00,\n",
              "           3.9608e+00, -5.6852e+00],\n",
              "         [-3.0463e+00, -4.4396e+00, -1.1957e+01,  ...,  2.3989e+00,\n",
              "           3.3539e+00,  7.8329e-01],\n",
              "         ...,\n",
              "         [-5.9561e-01,  2.8596e+00,  6.5266e+00,  ..., -4.4846e+00,\n",
              "           8.5571e+00, -5.3521e-01],\n",
              "         [-1.6707e+01,  3.1983e-01,  7.2152e-02,  ...,  2.4063e-01,\n",
              "          -3.0637e+00,  3.1889e+00],\n",
              "         [ 8.0232e+00,  2.7624e+00, -7.9152e+00,  ...,  1.3670e+01,\n",
              "          -7.5753e+00, -9.3185e+00]],\n",
              "\n",
              "        [[ 5.0997e+00, -5.0909e+00, -6.1577e+00,  ...,  1.4599e+01,\n",
              "           7.9659e+00,  8.4881e+00],\n",
              "         [ 8.3327e+00, -9.0717e+00, -9.9733e-01,  ..., -6.6648e-02,\n",
              "          -7.6925e+00, -1.1900e+00],\n",
              "         [-1.0069e+01, -1.0186e+01,  2.6805e+00,  ...,  3.0037e+00,\n",
              "          -6.6001e+00,  1.4394e+01],\n",
              "         ...,\n",
              "         [ 3.2893e+00, -2.1851e+00,  1.8217e+00,  ...,  3.1576e+00,\n",
              "          -2.3926e+00, -7.2878e-01],\n",
              "         [-1.0046e+01, -8.0010e+00, -3.4788e+00,  ...,  1.0995e+00,\n",
              "          -2.6140e+00,  3.2687e+00],\n",
              "         [ 1.2398e+01, -4.6997e+00, -6.8262e+00,  ...,  3.7703e+00,\n",
              "           7.3308e+00,  9.4431e+00]],\n",
              "\n",
              "        [[ 7.2592e+00,  3.2988e+00,  5.8443e+00,  ...,  1.1305e+01,\n",
              "          -3.8611e+00,  5.0856e+00],\n",
              "         [-5.1464e+00,  5.9260e-01, -2.0413e-01,  ..., -4.1986e+00,\n",
              "          -3.4386e+00,  5.5735e+00],\n",
              "         [-2.8847e+00, -1.4953e+00, -6.3338e-01,  ...,  3.5979e+00,\n",
              "           4.1185e+00,  5.1189e+00],\n",
              "         ...,\n",
              "         [-4.0611e-01, -8.9535e+00,  5.5380e+00,  ...,  1.5341e+00,\n",
              "           5.9711e+00,  4.5657e+00],\n",
              "         [ 6.8745e+00,  7.5186e-01, -6.3092e+00,  ...,  5.0450e+00,\n",
              "           6.5563e+00,  1.1478e+01],\n",
              "         [ 9.3007e-01,  4.8270e+00,  7.4270e+00,  ...,  1.4235e+01,\n",
              "           5.8128e-01,  8.6167e-01]]], device='xla:1')"
            ]
          },
          "metadata": {
            "tags": []
          },
          "execution_count": 12
        }
      ]
    },
    {
      "cell_type": "code",
      "metadata": {
        "colab": {
          "base_uri": "https://localhost:8080/"
        },
        "id": "J-GA0bj5N241",
        "outputId": "6431a2f1-2191-4e4d-a50e-1ae8ee3ca433"
      },
      "source": [
        "t_cpu = torch.rand(2, 2, device='cpu')\n",
        "print(t_cpu)\n",
        "t_tpu = t_cpu.to(dev)\n",
        "print(t_tpu)\n",
        "t_cpu_again = t_tpu.to('cpu')\n",
        "print(t_cpu_again)"
      ],
      "execution_count": 13,
      "outputs": [
        {
          "output_type": "stream",
          "text": [
            "tensor([[0.7431, 0.7050],\n",
            "        [0.8456, 0.2437]])\n",
            "tensor([[0.7431, 0.7050],\n",
            "        [0.8456, 0.2437]], device='xla:1')\n",
            "tensor([[0.7431, 0.7050],\n",
            "        [0.8456, 0.2437]])\n"
          ],
          "name": "stdout"
        }
      ]
    },
    {
      "cell_type": "code",
      "metadata": {
        "colab": {
          "base_uri": "https://localhost:8080/"
        },
        "id": "p4dm179yOQcm",
        "outputId": "0d96dc1f-b172-4cd9-8355-ae164c19059e"
      },
      "source": [
        "fc = torch.nn.Linear(5, 2, bias=True)\n",
        "fc = fc.to(dev)\n",
        "features = torch.rand(3, 5, device=dev, requires_grad=True)\n",
        "output = fc(features)\n",
        "print(output)"
      ],
      "execution_count": 14,
      "outputs": [
        {
          "output_type": "stream",
          "text": [
            "tensor([[-0.1844,  0.2907],\n",
            "        [-0.3993,  0.2969],\n",
            "        [-0.0952,  0.4496]], device='xla:1', grad_fn=<AddmmBackward>)\n"
          ],
          "name": "stdout"
        }
      ]
    },
    {
      "cell_type": "code",
      "metadata": {
        "colab": {
          "base_uri": "https://localhost:8080/"
        },
        "id": "q5hRgtkZOh-l",
        "outputId": "a2aa2723-3624-49b6-ceee-521c95d6453c"
      },
      "source": [
        "output.backward(torch.ones_like(output))\n",
        "print(fc.weight.grad)"
      ],
      "execution_count": 15,
      "outputs": [
        {
          "output_type": "stream",
          "text": [
            "tensor([[0.7920, 1.6270, 1.3105, 1.3555, 0.8315],\n",
            "        [0.7920, 1.6270, 1.3105, 1.3555, 0.8315]], device='xla:1')\n"
          ],
          "name": "stdout"
        }
      ]
    },
    {
      "cell_type": "code",
      "metadata": {
        "colab": {
          "base_uri": "https://localhost:8080/"
        },
        "id": "n6YIfjE2OpNT",
        "outputId": "c9848fc3-d47a-4d64-8a09-48595957ce94"
      },
      "source": [
        "import torch.nn as nn\n",
        "import torch.nn.functional as F\n",
        "\n",
        "# Simple example network from \n",
        "# https://pytorch.org/tutorials/beginner/blitz/neural_networks_tutorial.html#sphx-glr-beginner-blitz-neural-networks-tutorial-py\n",
        "class Net(nn.Module):\n",
        "\n",
        "    def __init__(self):\n",
        "        super(Net, self).__init__()\n",
        "        # 1 input image channel, 6 output channels, 3x3 square convolution\n",
        "        # kernel\n",
        "        self.conv1 = nn.Conv2d(1, 6, 3)\n",
        "        self.conv2 = nn.Conv2d(6, 16, 3)\n",
        "        # an affine operation: y = Wx + b\n",
        "        self.fc1 = nn.Linear(16 * 6 * 6, 120)  # 6*6 from image dimension\n",
        "        self.fc2 = nn.Linear(120, 84)\n",
        "        self.fc3 = nn.Linear(84, 10)\n",
        "\n",
        "    def forward(self, x):\n",
        "        # Max pooling over a (2, 2) window\n",
        "        x = F.max_pool2d(F.relu(self.conv1(x)), (2, 2))\n",
        "        # If the size is a square you can only specify a single number\n",
        "        x = F.max_pool2d(F.relu(self.conv2(x)), 2)\n",
        "        x = x.view(-1, self.num_flat_features(x))\n",
        "        x = F.relu(self.fc1(x))\n",
        "        x = F.relu(self.fc2(x))\n",
        "        x = self.fc3(x)\n",
        "        return x\n",
        "\n",
        "    def num_flat_features(self, x):\n",
        "        size = x.size()[1:]  # all dimensions except the batch dimension\n",
        "        num_features = 1\n",
        "        for s in size:\n",
        "            num_features *= s\n",
        "        return num_features\n",
        "\n",
        "\n",
        "# Places network on the default TPU core\n",
        "net = Net().to(dev)\n",
        "\n",
        "# Creates random input on the default TPU core\n",
        "input = torch.randn(1, 1, 32, 32, device=dev)\n",
        "\n",
        "# Runs network\n",
        "out = net(input)\n",
        "print(out)"
      ],
      "execution_count": 16,
      "outputs": [
        {
          "output_type": "stream",
          "text": [
            "tensor([[ 0.1949, -0.0153, -0.0022,  0.0143, -0.1247,  0.0424, -0.1731, -0.0325,\n",
            "          0.0929,  0.0782]], device='xla:1', grad_fn=<AddmmBackward>)\n"
          ],
          "name": "stdout"
        }
      ]
    },
    {
      "cell_type": "code",
      "metadata": {
        "id": "1SEhLc_POw2V"
      },
      "source": [
        ""
      ],
      "execution_count": null,
      "outputs": []
    }
  ]
}