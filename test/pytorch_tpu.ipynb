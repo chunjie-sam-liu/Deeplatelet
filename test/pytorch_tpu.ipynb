{
  "nbformat": 4,
  "nbformat_minor": 0,
  "metadata": {
    "colab": {
      "name": "pytorch-tpu.ipynb",
      "provenance": [],
      "collapsed_sections": [],
      "authorship_tag": "ABX9TyOdWEnCFxJXP7aHGQt3o69s",
      "include_colab_link": true
    },
    "kernelspec": {
      "name": "python3",
      "display_name": "Python 3"
    },
    "accelerator": "TPU"
  },
  "cells": [
    {
      "cell_type": "markdown",
      "metadata": {
        "id": "view-in-github",
        "colab_type": "text"
      },
      "source": [
        "<a href=\"https://colab.research.google.com/github/chunjie-sam-liu/TEP-prognosis/blob/main/test/pytorch_tpu.ipynb\" target=\"_parent\"><img src=\"https://colab.research.google.com/assets/colab-badge.svg\" alt=\"Open In Colab\"/></a>"
      ]
    },
    {
      "cell_type": "code",
      "metadata": {
        "colab": {
          "base_uri": "https://localhost:8080/"
        },
        "id": "ndizea6RKore",
        "outputId": "2da328f8-f95a-4065-9ca9-f9dc0483735b"
      },
      "source": [
        "VERSION = \"nightly\" #@param [\"20200220\",\"nightly\", \"xrt==1.15.0\"]\n",
        "!curl https://raw.githubusercontent.com/pytorch/xla/master/contrib/scripts/env-setup.py -o pytorch-xla-env-setup.py\n",
        "!python pytorch-xla-env-setup.py --version $VERSION"
      ],
      "execution_count": null,
      "outputs": [
        {
          "output_type": "stream",
          "text": [
            "  % Total    % Received % Xferd  Average Speed   Time    Time     Time  Current\n",
            "                                 Dload  Upload   Total   Spent    Left  Speed\n",
            "\r  0     0    0     0    0     0      0      0 --:--:-- --:--:-- --:--:--     0\r100  5116  100  5116    0     0  50156      0 --:--:-- --:--:-- --:--:-- 50156\n",
            "Updating... This may take around 2 minutes.\n",
            "Updating TPU runtime to pytorch-nightly ...\n",
            "Collecting cloud-tpu-client\n",
            "  Downloading https://files.pythonhosted.org/packages/56/9f/7b1958c2886db06feb5de5b2c191096f9e619914b6c31fdf93999fdbbd8b/cloud_tpu_client-0.10-py3-none-any.whl\n",
            "Requirement already satisfied: oauth2client in /usr/local/lib/python3.6/dist-packages (from cloud-tpu-client) (4.1.3)\n",
            "Collecting google-api-python-client==1.8.0\n",
            "\u001b[?25l  Downloading https://files.pythonhosted.org/packages/9a/b4/a955f393b838bc47cbb6ae4643b9d0f90333d3b4db4dc1e819f36aad18cc/google_api_python_client-1.8.0-py3-none-any.whl (57kB)\n",
            "\u001b[K     |████████████████████████████████| 61kB 3.0MB/s \n",
            "\u001b[?25hRequirement already satisfied: six>=1.6.1 in /usr/local/lib/python3.6/dist-packages (from oauth2client->cloud-tpu-client) (1.15.0)\n",
            "Requirement already satisfied: pyasn1-modules>=0.0.5 in /usr/local/lib/python3.6/dist-packages (from oauth2client->cloud-tpu-client) (0.2.8)\n",
            "Requirement already satisfied: rsa>=3.1.4 in /usr/local/lib/python3.6/dist-packages (from oauth2client->cloud-tpu-client) (4.6)\n",
            "Requirement already satisfied: pyasn1>=0.1.7 in /usr/local/lib/python3.6/dist-packages (from oauth2client->cloud-tpu-client) (0.4.8)\n",
            "Requirement already satisfied: httplib2>=0.9.1 in /usr/local/lib/python3.6/dist-packages (from oauth2client->cloud-tpu-client) (0.17.4)\n",
            "Requirement already satisfied: google-auth-httplib2>=0.0.3 in /usr/local/lib/python3.6/dist-packages (from google-api-python-client==1.8.0->cloud-tpu-client) (0.0.4)\n",
            "Requirement already satisfied: uritemplate<4dev,>=3.0.0 in /usr/local/lib/python3.6/dist-packages (from google-api-python-client==1.8.0->cloud-tpu-client) (3.0.1)\n",
            "Requirement already satisfied: google-api-core<2dev,>=1.13.0 in /usr/local/lib/python3.6/dist-packages (from google-api-python-client==1.8.0->cloud-tpu-client) (1.16.0)\n",
            "Requirement already satisfied: google-auth>=1.4.1 in /usr/local/lib/python3.6/dist-packages (from google-api-python-client==1.8.0->cloud-tpu-client) (1.17.2)\n",
            "Requirement already satisfied: pytz in /usr/local/lib/python3.6/dist-packages (from google-api-core<2dev,>=1.13.0->google-api-python-client==1.8.0->cloud-tpu-client) (2018.9)\n",
            "Uninstalling torch-1.7.0+cu101:\n",
            "Requirement already satisfied: setuptools>=34.0.0 in /usr/local/lib/python3.6/dist-packages (from google-api-core<2dev,>=1.13.0->google-api-python-client==1.8.0->cloud-tpu-client) (51.1.1)\n",
            "Requirement already satisfied: googleapis-common-protos<2.0dev,>=1.6.0 in /usr/local/lib/python3.6/dist-packages (from google-api-core<2dev,>=1.13.0->google-api-python-client==1.8.0->cloud-tpu-client) (1.52.0)\n",
            "Requirement already satisfied: protobuf>=3.4.0 in /usr/local/lib/python3.6/dist-packages (from google-api-core<2dev,>=1.13.0->google-api-python-client==1.8.0->cloud-tpu-client) (3.12.4)\n",
            "Requirement already satisfied: requests<3.0.0dev,>=2.18.0 in /usr/local/lib/python3.6/dist-packages (from google-api-core<2dev,>=1.13.0->google-api-python-client==1.8.0->cloud-tpu-client) (2.23.0)\n",
            "Requirement already satisfied: cachetools<5.0,>=2.0.0 in /usr/local/lib/python3.6/dist-packages (from google-auth>=1.4.1->google-api-python-client==1.8.0->cloud-tpu-client) (4.2.0)\n",
            "Requirement already satisfied: urllib3!=1.25.0,!=1.25.1,<1.26,>=1.21.1 in /usr/local/lib/python3.6/dist-packages (from requests<3.0.0dev,>=2.18.0->google-api-core<2dev,>=1.13.0->google-api-python-client==1.8.0->cloud-tpu-client) (1.24.3)\n",
            "Requirement already satisfied: idna<3,>=2.5 in /usr/local/lib/python3.6/dist-packages (from requests<3.0.0dev,>=2.18.0->google-api-core<2dev,>=1.13.0->google-api-python-client==1.8.0->cloud-tpu-client) (2.10)\n",
            "Requirement already satisfied: chardet<4,>=3.0.2 in /usr/local/lib/python3.6/dist-packages (from requests<3.0.0dev,>=2.18.0->google-api-core<2dev,>=1.13.0->google-api-python-client==1.8.0->cloud-tpu-client) (3.0.4)\n",
            "Requirement already satisfied: certifi>=2017.4.17 in /usr/local/lib/python3.6/dist-packages (from requests<3.0.0dev,>=2.18.0->google-api-core<2dev,>=1.13.0->google-api-python-client==1.8.0->cloud-tpu-client) (2020.12.5)\n",
            "Installing collected packages: google-api-python-client, cloud-tpu-client\n",
            "  Found existing installation: google-api-python-client 1.7.12\n",
            "    Uninstalling google-api-python-client-1.7.12:\n",
            "      Successfully uninstalled google-api-python-client-1.7.12\n",
            "Successfully installed cloud-tpu-client-0.10 google-api-python-client-1.8.0\n",
            "  Successfully uninstalled torch-1.7.0+cu101\n",
            "Uninstalling torchvision-0.8.1+cu101:\n",
            "Done updating TPU runtime\n",
            "  Successfully uninstalled torchvision-0.8.1+cu101\n",
            "Copying gs://tpu-pytorch/wheels/torch-nightly-cp36-cp36m-linux_x86_64.whl...\n",
            "\\ [1 files][ 94.3 MiB/ 94.3 MiB]                                                \n",
            "Operation completed over 1 objects/94.3 MiB.                                     \n",
            "Copying gs://tpu-pytorch/wheels/torch_xla-nightly-cp36-cp36m-linux_x86_64.whl...\n",
            "/ [1 files][131.0 MiB/131.0 MiB]                                                \n",
            "Operation completed over 1 objects/131.0 MiB.                                    \n",
            "Copying gs://tpu-pytorch/wheels/torchvision-nightly-cp36-cp36m-linux_x86_64.whl...\n",
            "/ [1 files][  4.8 MiB/  4.8 MiB]                                                \n",
            "Operation completed over 1 objects/4.8 MiB.                                      \n",
            "Processing ./torch-nightly-cp36-cp36m-linux_x86_64.whl\n",
            "Requirement already satisfied: dataclasses; python_version < \"3.7\" in /usr/local/lib/python3.6/dist-packages (from torch==nightly) (0.8)\n",
            "Requirement already satisfied: typing-extensions in /usr/local/lib/python3.6/dist-packages (from torch==nightly) (3.7.4.3)\n",
            "Requirement already satisfied: numpy in /usr/local/lib/python3.6/dist-packages (from torch==nightly) (1.19.5)\n",
            "\u001b[31mERROR: fastai 1.0.61 requires torchvision, which is not installed.\u001b[0m\n",
            "Installing collected packages: torch\n",
            "Successfully installed torch-1.8.0a0\n",
            "Processing ./torch_xla-nightly-cp36-cp36m-linux_x86_64.whl\n",
            "Installing collected packages: torch-xla\n",
            "Successfully installed torch-xla-1.6+ee12b88\n",
            "Processing ./torchvision-nightly-cp36-cp36m-linux_x86_64.whl\n",
            "Requirement already satisfied: torch in /usr/local/lib/python3.6/dist-packages (from torchvision==nightly) (1.8.0a0)\n",
            "Requirement already satisfied: numpy in /usr/local/lib/python3.6/dist-packages (from torchvision==nightly) (1.19.5)\n",
            "Requirement already satisfied: pillow>=4.1.1 in /usr/local/lib/python3.6/dist-packages (from torchvision==nightly) (7.0.0)\n",
            "Requirement already satisfied: dataclasses; python_version < \"3.7\" in /usr/local/lib/python3.6/dist-packages (from torch->torchvision==nightly) (0.8)\n",
            "Requirement already satisfied: typing-extensions in /usr/local/lib/python3.6/dist-packages (from torch->torchvision==nightly) (3.7.4.3)\n",
            "Installing collected packages: torchvision\n",
            "Successfully installed torchvision-0.9.0a0+8ebfd2f\n",
            "Reading package lists... Done\n",
            "Building dependency tree       \n",
            "Reading state information... Done\n",
            "The following NEW packages will be installed:\n",
            "  libomp5\n",
            "0 upgraded, 1 newly installed, 0 to remove and 16 not upgraded.\n",
            "Need to get 234 kB of archives.\n",
            "After this operation, 774 kB of additional disk space will be used.\n",
            "Get:1 http://archive.ubuntu.com/ubuntu bionic/universe amd64 libomp5 amd64 5.0.1-1 [234 kB]\n",
            "Fetched 234 kB in 1s (332 kB/s)\n",
            "Selecting previously unselected package libomp5:amd64.\n",
            "(Reading database ... 145483 files and directories currently installed.)\n",
            "Preparing to unpack .../libomp5_5.0.1-1_amd64.deb ...\n",
            "Unpacking libomp5:amd64 (5.0.1-1) ...\n",
            "Setting up libomp5:amd64 (5.0.1-1) ...\n",
            "Processing triggers for libc-bin (2.27-3ubuntu1.2) ...\n",
            "/sbin/ldconfig.real: /usr/local/lib/python3.6/dist-packages/ideep4py/lib/libmkldnn.so.0 is not a symbolic link\n",
            "\n"
          ],
          "name": "stdout"
        }
      ]
    },
    {
      "cell_type": "code",
      "metadata": {
        "colab": {
          "base_uri": "https://localhost:8080/"
        },
        "id": "ds-eIHHQMuxt",
        "outputId": "22f4eca6-121e-45de-f09d-363ee3470932"
      },
      "source": [
        "!pip install cloud-tpu-client==0.10 https://storage.googleapis.com/tpu-pytorch/wheels/torch_xla-1.7-cp36-cp36m-linux_x86_64.whl"
      ],
      "execution_count": null,
      "outputs": [
        {
          "output_type": "stream",
          "text": [
            "Requirement already satisfied: cloud-tpu-client==0.10 in /usr/local/lib/python3.6/dist-packages (0.10)\n",
            "Collecting torch-xla==1.7\n",
            "\u001b[?25l  Downloading https://storage.googleapis.com/tpu-pytorch/wheels/torch_xla-1.7-cp36-cp36m-linux_x86_64.whl (133.6MB)\n",
            "\u001b[K     |████████████████████████████████| 133.6MB 77kB/s \n",
            "\u001b[?25hRequirement already satisfied: google-api-python-client==1.8.0 in /usr/local/lib/python3.6/dist-packages (from cloud-tpu-client==0.10) (1.8.0)\n",
            "Requirement already satisfied: oauth2client in /usr/local/lib/python3.6/dist-packages (from cloud-tpu-client==0.10) (4.1.3)\n",
            "Requirement already satisfied: httplib2<1dev,>=0.9.2 in /usr/local/lib/python3.6/dist-packages (from google-api-python-client==1.8.0->cloud-tpu-client==0.10) (0.17.4)\n",
            "Requirement already satisfied: google-api-core<2dev,>=1.13.0 in /usr/local/lib/python3.6/dist-packages (from google-api-python-client==1.8.0->cloud-tpu-client==0.10) (1.16.0)\n",
            "Requirement already satisfied: uritemplate<4dev,>=3.0.0 in /usr/local/lib/python3.6/dist-packages (from google-api-python-client==1.8.0->cloud-tpu-client==0.10) (3.0.1)\n",
            "Requirement already satisfied: google-auth-httplib2>=0.0.3 in /usr/local/lib/python3.6/dist-packages (from google-api-python-client==1.8.0->cloud-tpu-client==0.10) (0.0.4)\n",
            "Requirement already satisfied: six<2dev,>=1.6.1 in /usr/local/lib/python3.6/dist-packages (from google-api-python-client==1.8.0->cloud-tpu-client==0.10) (1.15.0)\n",
            "Requirement already satisfied: google-auth>=1.4.1 in /usr/local/lib/python3.6/dist-packages (from google-api-python-client==1.8.0->cloud-tpu-client==0.10) (1.17.2)\n",
            "Requirement already satisfied: pyasn1>=0.1.7 in /usr/local/lib/python3.6/dist-packages (from oauth2client->cloud-tpu-client==0.10) (0.4.8)\n",
            "Requirement already satisfied: pyasn1-modules>=0.0.5 in /usr/local/lib/python3.6/dist-packages (from oauth2client->cloud-tpu-client==0.10) (0.2.8)\n",
            "Requirement already satisfied: rsa>=3.1.4 in /usr/local/lib/python3.6/dist-packages (from oauth2client->cloud-tpu-client==0.10) (4.6)\n",
            "Requirement already satisfied: setuptools>=34.0.0 in /usr/local/lib/python3.6/dist-packages (from google-api-core<2dev,>=1.13.0->google-api-python-client==1.8.0->cloud-tpu-client==0.10) (51.1.1)\n",
            "Requirement already satisfied: protobuf>=3.4.0 in /usr/local/lib/python3.6/dist-packages (from google-api-core<2dev,>=1.13.0->google-api-python-client==1.8.0->cloud-tpu-client==0.10) (3.12.4)\n",
            "Requirement already satisfied: requests<3.0.0dev,>=2.18.0 in /usr/local/lib/python3.6/dist-packages (from google-api-core<2dev,>=1.13.0->google-api-python-client==1.8.0->cloud-tpu-client==0.10) (2.23.0)\n",
            "Requirement already satisfied: googleapis-common-protos<2.0dev,>=1.6.0 in /usr/local/lib/python3.6/dist-packages (from google-api-core<2dev,>=1.13.0->google-api-python-client==1.8.0->cloud-tpu-client==0.10) (1.52.0)\n",
            "Requirement already satisfied: pytz in /usr/local/lib/python3.6/dist-packages (from google-api-core<2dev,>=1.13.0->google-api-python-client==1.8.0->cloud-tpu-client==0.10) (2018.9)\n",
            "Requirement already satisfied: cachetools<5.0,>=2.0.0 in /usr/local/lib/python3.6/dist-packages (from google-auth>=1.4.1->google-api-python-client==1.8.0->cloud-tpu-client==0.10) (4.2.0)\n",
            "Requirement already satisfied: urllib3!=1.25.0,!=1.25.1,<1.26,>=1.21.1 in /usr/local/lib/python3.6/dist-packages (from requests<3.0.0dev,>=2.18.0->google-api-core<2dev,>=1.13.0->google-api-python-client==1.8.0->cloud-tpu-client==0.10) (1.24.3)\n",
            "Requirement already satisfied: idna<3,>=2.5 in /usr/local/lib/python3.6/dist-packages (from requests<3.0.0dev,>=2.18.0->google-api-core<2dev,>=1.13.0->google-api-python-client==1.8.0->cloud-tpu-client==0.10) (2.10)\n",
            "Requirement already satisfied: chardet<4,>=3.0.2 in /usr/local/lib/python3.6/dist-packages (from requests<3.0.0dev,>=2.18.0->google-api-core<2dev,>=1.13.0->google-api-python-client==1.8.0->cloud-tpu-client==0.10) (3.0.4)\n",
            "Requirement already satisfied: certifi>=2017.4.17 in /usr/local/lib/python3.6/dist-packages (from requests<3.0.0dev,>=2.18.0->google-api-core<2dev,>=1.13.0->google-api-python-client==1.8.0->cloud-tpu-client==0.10) (2020.12.5)\n",
            "Installing collected packages: torch-xla\n",
            "  Found existing installation: torch-xla 1.6+ee12b88\n",
            "    Uninstalling torch-xla-1.6+ee12b88:\n",
            "      Successfully uninstalled torch-xla-1.6+ee12b88\n",
            "Successfully installed torch-xla-1.7\n"
          ],
          "name": "stdout"
        }
      ]
    },
    {
      "cell_type": "code",
      "metadata": {
        "colab": {
          "base_uri": "https://localhost:8080/"
        },
        "id": "G3pLyJlvKuPV",
        "outputId": "858bc132-f057-4efd-bcef-62ac076e34d1"
      },
      "source": [
        "import torch\n",
        "import torch_xla\n",
        "import torch_xla.core.xla_model as xm"
      ],
      "execution_count": null,
      "outputs": [
        {
          "output_type": "stream",
          "text": [
            "WARNING:root:Waiting for TPU to be start up with version pytorch-1.6+ee12b88...\n",
            "WARNING:root:Waiting for TPU to be start up with version pytorch-1.6+ee12b88...\n",
            "WARNING:root:Waiting for TPU to be start up with version pytorch-1.6+ee12b88...\n",
            "WARNING:root:TPU has started up successfully with version pytorch-1.6+ee12b88\n"
          ],
          "name": "stderr"
        }
      ]
    },
    {
      "cell_type": "code",
      "metadata": {
        "colab": {
          "base_uri": "https://localhost:8080/"
        },
        "id": "MMR8qQ0xLIrr",
        "outputId": "ea5773db-55b0-4b4f-9d69-b1d00a1e1f87"
      },
      "source": [
        "# Create a random tensor on xla:1 \n",
        "dev = xm.xla_device()\n",
        "t1 = torch.ones(3, 3, device=dev)\n",
        "print(t1)"
      ],
      "execution_count": null,
      "outputs": [
        {
          "output_type": "stream",
          "text": [
            "tensor([[1., 1., 1.],\n",
            "        [1., 1., 1.],\n",
            "        [1., 1., 1.]], device='xla:1')\n"
          ],
          "name": "stdout"
        }
      ]
    },
    {
      "cell_type": "code",
      "metadata": {
        "colab": {
          "base_uri": "https://localhost:8080/"
        },
        "id": "PRQ4VgQCLThb",
        "outputId": "2e0e8dc6-19e1-4e05-939e-8518b558ef14"
      },
      "source": [
        "second_dev = xm.xla_device(n = 2, devkind='TPU')\n",
        "t2 = torch.zeros(3, 3, device=second_dev)\n",
        "print(t2)"
      ],
      "execution_count": null,
      "outputs": [
        {
          "output_type": "stream",
          "text": [
            "tensor([[0., 0., 0.],\n",
            "        [0., 0., 0.],\n",
            "        [0., 0., 0.]], device='xla:2')\n"
          ],
          "name": "stdout"
        }
      ]
    },
    {
      "cell_type": "code",
      "metadata": {
        "colab": {
          "base_uri": "https://localhost:8080/"
        },
        "id": "_X3i1uDBNarK",
        "outputId": "cc7c4650-b71d-406c-823e-e71039f825ef"
      },
      "source": [
        "a = torch.randn(2, 2, device=dev)\n",
        "b = torch.randn(2, 2, device=dev)\n",
        "print(a + b)\n",
        "print(b * 2)\n",
        "print(torch.matmul(a, b))"
      ],
      "execution_count": null,
      "outputs": [
        {
          "output_type": "stream",
          "text": [
            "tensor([[-0.3088,  0.6661],\n",
            "        [ 1.3402, -0.4989]], device='xla:1')\n",
            "tensor([[-1.2814,  3.1716],\n",
            "        [ 2.1050, -2.6671]], device='xla:1')\n",
            "tensor([[-1.1809,  1.7529],\n",
            "        [ 0.6977, -0.6614]], device='xla:1')\n"
          ],
          "name": "stdout"
        }
      ]
    },
    {
      "cell_type": "code",
      "metadata": {
        "colab": {
          "base_uri": "https://localhost:8080/"
        },
        "id": "158ZTM2nNpll",
        "outputId": "83a96b73-146d-40f5-82c7-203d86d44fe8"
      },
      "source": [
        "filters = torch.randn(33, 16, 3, device=dev)\n",
        "inputs = torch.randn(20, 16, 50, device=dev)\n",
        "torch.nn.functional.conv1d(inputs, filters)"
      ],
      "execution_count": null,
      "outputs": [
        {
          "output_type": "execute_result",
          "data": {
            "text/plain": [
              "tensor([[[ 4.6650e+00,  2.4131e+00,  8.4184e+00,  ..., -3.4691e+00,\n",
              "           1.3903e+00, -1.0927e+00],\n",
              "         [ 3.4179e+00,  8.0244e+00, -9.9459e+00,  ..., -8.1479e+00,\n",
              "          -3.1750e+00,  4.1194e+00],\n",
              "         [ 1.3079e+01,  4.3412e-01,  4.8352e+00,  ..., -5.5864e+00,\n",
              "          -5.9210e+00,  3.0204e+00],\n",
              "         ...,\n",
              "         [-9.0025e-01,  1.0062e+00, -7.9940e+00,  ..., -3.3179e-01,\n",
              "           1.4145e+00, -1.6179e+00],\n",
              "         [ 6.8360e+00, -7.3494e+00, -5.3362e+00,  ..., -2.9572e+00,\n",
              "          -2.2959e-02,  3.9403e+00],\n",
              "         [ 5.0153e+00,  8.0487e+00,  1.1326e+01,  ..., -1.4361e+00,\n",
              "          -3.4222e+00, -1.2024e+01]],\n",
              "\n",
              "        [[ 7.2372e+00,  4.9307e+00, -3.2422e-02,  ..., -1.2313e+00,\n",
              "          -7.7229e+00, -2.7538e-01],\n",
              "         [ 1.3342e+00, -3.3721e+00, -3.7326e+00,  ...,  1.9647e+00,\n",
              "           2.9404e+00, -2.5306e+00],\n",
              "         [-1.4254e+00, -1.2025e+01, -8.0462e+00,  ..., -9.1502e+00,\n",
              "          -4.7130e+00, -8.2591e+00],\n",
              "         ...,\n",
              "         [ 1.4655e-01,  2.5141e+00, -7.3199e+00,  ...,  1.4466e+00,\n",
              "           2.2178e+00, -3.8114e+00],\n",
              "         [ 3.7458e-03,  6.8704e+00, -1.3839e+01,  ..., -2.2898e+00,\n",
              "          -8.1921e+00, -8.7277e+00],\n",
              "         [ 4.7435e+00, -1.5033e+01,  3.1681e+00,  ..., -4.4003e+00,\n",
              "          -1.0665e+01,  1.1110e+00]],\n",
              "\n",
              "        [[-3.5043e+00,  2.8066e+00, -6.1085e+00,  ..., -4.4275e+00,\n",
              "           3.6302e+00,  1.1821e+00],\n",
              "         [-8.2691e+00,  3.7238e-01,  7.2745e+00,  ..., -1.7588e+00,\n",
              "           6.3638e+00, -3.6559e-01],\n",
              "         [ 2.7032e-01, -2.5759e+00, -3.1927e+00,  ...,  8.4598e+00,\n",
              "           1.3132e+00, -3.3473e+00],\n",
              "         ...,\n",
              "         [-5.5490e+00, -7.2575e-01,  1.3502e+00,  ..., -1.8283e-01,\n",
              "          -3.4637e+00, -6.0446e+00],\n",
              "         [ 4.3602e+00,  4.6406e+00, -3.5517e+00,  ...,  7.9270e+00,\n",
              "           1.7566e+00, -1.4553e+01],\n",
              "         [-9.3492e+00,  1.3737e+00,  5.7003e+00,  ...,  2.1305e+00,\n",
              "           4.3656e+00,  3.0046e+00]],\n",
              "\n",
              "        ...,\n",
              "\n",
              "        [[ 1.1080e+01, -3.9389e+00, -5.2548e+00,  ...,  8.2101e+00,\n",
              "          -7.9672e+00, -8.9024e+00],\n",
              "         [ 1.5413e+00, -3.5958e+00, -6.1157e+00,  ..., -3.7576e+00,\n",
              "           3.9608e+00, -5.6852e+00],\n",
              "         [-3.0463e+00, -4.4396e+00, -1.1957e+01,  ...,  2.3989e+00,\n",
              "           3.3539e+00,  7.8329e-01],\n",
              "         ...,\n",
              "         [-5.9561e-01,  2.8596e+00,  6.5266e+00,  ..., -4.4846e+00,\n",
              "           8.5571e+00, -5.3521e-01],\n",
              "         [-1.6707e+01,  3.1983e-01,  7.2152e-02,  ...,  2.4063e-01,\n",
              "          -3.0637e+00,  3.1889e+00],\n",
              "         [ 8.0232e+00,  2.7624e+00, -7.9152e+00,  ...,  1.3670e+01,\n",
              "          -7.5753e+00, -9.3185e+00]],\n",
              "\n",
              "        [[ 5.0997e+00, -5.0909e+00, -6.1577e+00,  ...,  1.4599e+01,\n",
              "           7.9659e+00,  8.4881e+00],\n",
              "         [ 8.3327e+00, -9.0717e+00, -9.9733e-01,  ..., -6.6648e-02,\n",
              "          -7.6925e+00, -1.1900e+00],\n",
              "         [-1.0069e+01, -1.0186e+01,  2.6805e+00,  ...,  3.0037e+00,\n",
              "          -6.6001e+00,  1.4394e+01],\n",
              "         ...,\n",
              "         [ 3.2893e+00, -2.1851e+00,  1.8217e+00,  ...,  3.1576e+00,\n",
              "          -2.3926e+00, -7.2878e-01],\n",
              "         [-1.0046e+01, -8.0010e+00, -3.4788e+00,  ...,  1.0995e+00,\n",
              "          -2.6140e+00,  3.2687e+00],\n",
              "         [ 1.2398e+01, -4.6997e+00, -6.8262e+00,  ...,  3.7703e+00,\n",
              "           7.3308e+00,  9.4431e+00]],\n",
              "\n",
              "        [[ 7.2592e+00,  3.2988e+00,  5.8443e+00,  ...,  1.1305e+01,\n",
              "          -3.8611e+00,  5.0856e+00],\n",
              "         [-5.1464e+00,  5.9260e-01, -2.0413e-01,  ..., -4.1986e+00,\n",
              "          -3.4386e+00,  5.5735e+00],\n",
              "         [-2.8847e+00, -1.4953e+00, -6.3338e-01,  ...,  3.5979e+00,\n",
              "           4.1185e+00,  5.1189e+00],\n",
              "         ...,\n",
              "         [-4.0611e-01, -8.9535e+00,  5.5380e+00,  ...,  1.5341e+00,\n",
              "           5.9711e+00,  4.5657e+00],\n",
              "         [ 6.8745e+00,  7.5186e-01, -6.3092e+00,  ...,  5.0450e+00,\n",
              "           6.5563e+00,  1.1478e+01],\n",
              "         [ 9.3007e-01,  4.8270e+00,  7.4270e+00,  ...,  1.4235e+01,\n",
              "           5.8128e-01,  8.6167e-01]]], device='xla:1')"
            ]
          },
          "metadata": {
            "tags": []
          },
          "execution_count": 12
        }
      ]
    },
    {
      "cell_type": "code",
      "metadata": {
        "colab": {
          "base_uri": "https://localhost:8080/"
        },
        "id": "J-GA0bj5N241",
        "outputId": "6431a2f1-2191-4e4d-a50e-1ae8ee3ca433"
      },
      "source": [
        "t_cpu = torch.rand(2, 2, device='cpu')\n",
        "print(t_cpu)\n",
        "t_tpu = t_cpu.to(dev)\n",
        "print(t_tpu)\n",
        "t_cpu_again = t_tpu.to('cpu')\n",
        "print(t_cpu_again)"
      ],
      "execution_count": null,
      "outputs": [
        {
          "output_type": "stream",
          "text": [
            "tensor([[0.7431, 0.7050],\n",
            "        [0.8456, 0.2437]])\n",
            "tensor([[0.7431, 0.7050],\n",
            "        [0.8456, 0.2437]], device='xla:1')\n",
            "tensor([[0.7431, 0.7050],\n",
            "        [0.8456, 0.2437]])\n"
          ],
          "name": "stdout"
        }
      ]
    },
    {
      "cell_type": "code",
      "metadata": {
        "colab": {
          "base_uri": "https://localhost:8080/"
        },
        "id": "p4dm179yOQcm",
        "outputId": "0d96dc1f-b172-4cd9-8355-ae164c19059e"
      },
      "source": [
        "fc = torch.nn.Linear(5, 2, bias=True)\n",
        "fc = fc.to(dev)\n",
        "features = torch.rand(3, 5, device=dev, requires_grad=True)\n",
        "output = fc(features)\n",
        "print(output)"
      ],
      "execution_count": null,
      "outputs": [
        {
          "output_type": "stream",
          "text": [
            "tensor([[-0.1844,  0.2907],\n",
            "        [-0.3993,  0.2969],\n",
            "        [-0.0952,  0.4496]], device='xla:1', grad_fn=<AddmmBackward>)\n"
          ],
          "name": "stdout"
        }
      ]
    },
    {
      "cell_type": "code",
      "metadata": {
        "colab": {
          "base_uri": "https://localhost:8080/"
        },
        "id": "q5hRgtkZOh-l",
        "outputId": "a2aa2723-3624-49b6-ceee-521c95d6453c"
      },
      "source": [
        "output.backward(torch.ones_like(output))\n",
        "print(fc.weight.grad)"
      ],
      "execution_count": null,
      "outputs": [
        {
          "output_type": "stream",
          "text": [
            "tensor([[0.7920, 1.6270, 1.3105, 1.3555, 0.8315],\n",
            "        [0.7920, 1.6270, 1.3105, 1.3555, 0.8315]], device='xla:1')\n"
          ],
          "name": "stdout"
        }
      ]
    },
    {
      "cell_type": "code",
      "metadata": {
        "colab": {
          "base_uri": "https://localhost:8080/"
        },
        "id": "n6YIfjE2OpNT",
        "outputId": "c9848fc3-d47a-4d64-8a09-48595957ce94"
      },
      "source": [
        "import torch.nn as nn\n",
        "import torch.nn.functional as F\n",
        "\n",
        "# Simple example network from \n",
        "# https://pytorch.org/tutorials/beginner/blitz/neural_networks_tutorial.html#sphx-glr-beginner-blitz-neural-networks-tutorial-py\n",
        "class Net(nn.Module):\n",
        "\n",
        "    def __init__(self):\n",
        "        super(Net, self).__init__()\n",
        "        # 1 input image channel, 6 output channels, 3x3 square convolution\n",
        "        # kernel\n",
        "        self.conv1 = nn.Conv2d(1, 6, 3)\n",
        "        self.conv2 = nn.Conv2d(6, 16, 3)\n",
        "        # an affine operation: y = Wx + b\n",
        "        self.fc1 = nn.Linear(16 * 6 * 6, 120)  # 6*6 from image dimension\n",
        "        self.fc2 = nn.Linear(120, 84)\n",
        "        self.fc3 = nn.Linear(84, 10)\n",
        "\n",
        "    def forward(self, x):\n",
        "        # Max pooling over a (2, 2) window\n",
        "        x = F.max_pool2d(F.relu(self.conv1(x)), (2, 2))\n",
        "        # If the size is a square you can only specify a single number\n",
        "        x = F.max_pool2d(F.relu(self.conv2(x)), 2)\n",
        "        x = x.view(-1, self.num_flat_features(x))\n",
        "        x = F.relu(self.fc1(x))\n",
        "        x = F.relu(self.fc2(x))\n",
        "        x = self.fc3(x)\n",
        "        return x\n",
        "\n",
        "    def num_flat_features(self, x):\n",
        "        size = x.size()[1:]  # all dimensions except the batch dimension\n",
        "        num_features = 1\n",
        "        for s in size:\n",
        "            num_features *= s\n",
        "        return num_features\n",
        "\n",
        "\n",
        "# Places network on the default TPU core\n",
        "net = Net().to(dev)\n",
        "\n",
        "# Creates random input on the default TPU core\n",
        "input = torch.randn(1, 1, 32, 32, device=dev)\n",
        "\n",
        "# Runs network\n",
        "out = net(input)\n",
        "print(out)"
      ],
      "execution_count": null,
      "outputs": [
        {
          "output_type": "stream",
          "text": [
            "tensor([[ 0.1949, -0.0153, -0.0022,  0.0143, -0.1247,  0.0424, -0.1731, -0.0325,\n",
            "          0.0929,  0.0782]], device='xla:1', grad_fn=<AddmmBackward>)\n"
          ],
          "name": "stdout"
        }
      ]
    },
    {
      "cell_type": "code",
      "metadata": {
        "id": "1SEhLc_POw2V"
      },
      "source": [
        "import numpy as np"
      ],
      "execution_count": 18,
      "outputs": []
    },
    {
      "cell_type": "code",
      "metadata": {
        "id": "pKDQHWezQVrZ"
      },
      "source": [
        "np.random.seed(42)\n",
        "x = np.random.rand(100, 1)\n",
        "y = 1 + 2 * x + .1 * np.random.rand(100, 1)"
      ],
      "execution_count": 19,
      "outputs": []
    },
    {
      "cell_type": "code",
      "metadata": {
        "id": "4mNhlTXxQiZ3"
      },
      "source": [
        "idx = np.arange(100)\n",
        "np.random.shuffle(idx)"
      ],
      "execution_count": 21,
      "outputs": []
    },
    {
      "cell_type": "code",
      "metadata": {
        "id": "VXBStrwTQmi8"
      },
      "source": [
        "train_idx = idx[:80]\n",
        "val_idx = idx[80:]"
      ],
      "execution_count": 22,
      "outputs": []
    },
    {
      "cell_type": "code",
      "metadata": {
        "id": "7xbpKjEnQwlX"
      },
      "source": [
        "x_train, y_train = x[train_idx], y[train_idx]\n",
        "x_val, y_val = x[val_idx], y[val_idx]"
      ],
      "execution_count": 23,
      "outputs": []
    },
    {
      "cell_type": "code",
      "metadata": {
        "id": "p4HGIkB4Q36g"
      },
      "source": [
        "import matplotlib.pyplot as plt"
      ],
      "execution_count": 24,
      "outputs": []
    },
    {
      "cell_type": "code",
      "metadata": {
        "colab": {
          "base_uri": "https://localhost:8080/",
          "height": 282
        },
        "id": "7Gh6ZPqrQ9dm",
        "outputId": "d3849132-0a4e-47d6-dd79-d75c1a6b6543"
      },
      "source": [
        "plt.plot(x_train, y_train)"
      ],
      "execution_count": 28,
      "outputs": [
        {
          "output_type": "execute_result",
          "data": {
            "text/plain": [
              "[<matplotlib.lines.Line2D at 0x7fa9dec861d0>]"
            ]
          },
          "metadata": {
            "tags": []
          },
          "execution_count": 28
        },
        {
          "output_type": "display_data",
          "data": {
            "image/png": "[encoded data removed]",
            "text/plain": [
              "<Figure size 432x288 with 1 Axes>"
            ]
          },
          "metadata": {
            "tags": [],
            "needs_background": "light"
          }
        }
      ]
    },
    {
      "cell_type": "code",
      "metadata": {
        "colab": {
          "base_uri": "https://localhost:8080/",
          "height": 282
        },
        "id": "g9Rt0b3UQ__n",
        "outputId": "4fe90ca4-3c03-44c2-ba9e-fc4a9f10c369"
      },
      "source": [
        "plt.plot(x_val, y_val)"
      ],
      "execution_count": 29,
      "outputs": [
        {
          "output_type": "execute_result",
          "data": {
            "text/plain": [
              "[<matplotlib.lines.Line2D at 0x7fa9dec70160>]"
            ]
          },
          "metadata": {
            "tags": []
          },
          "execution_count": 29
        },
        {
          "output_type": "display_data",
          "data": {
            "image/png": "[encoded data removed]",
            "text/plain": [
              "<Figure size 432x288 with 1 Axes>"
            ]
          },
          "metadata": {
            "tags": [],
            "needs_background": "light"
          }
        }
      ]
    },
    {
      "cell_type": "markdown",
      "metadata": {
        "id": "li-uOgLmnb0u"
      },
      "source": [
        "## Linear Regression\n",
        "\n",
        "y = a + bx + e; a = 1, b = 2"
      ]
    },
    {
      "cell_type": "code",
      "metadata": {
        "colab": {
          "base_uri": "https://localhost:8080/"
        },
        "id": "AzHnQCmWnP98",
        "outputId": "96617fb5-5d5b-4c2a-d774-cbd895983598"
      },
      "source": [
        "np.random.seed(1234)\n",
        "\n",
        "x = np.random.rand(100, 1)\n",
        "print(x)\n",
        "y = 1 + 2 * x + 0.1 * np.random.randn(100, 1)\n",
        "\n",
        "idx = np.arange(100)\n",
        "np.random.shuffle(idx)\n",
        "print(idx)\n",
        "\n",
        "train_idx = idx[:80]\n",
        "val_idx = idx[80:]\n",
        "\n",
        "x_train, y_train = x[train_idx], y[train_idx]\n",
        "x_val, y_val = x[val_idx], y[val_idx]"
      ],
      "execution_count": 33,
      "outputs": [
        {
          "output_type": "stream",
          "text": [
            "[[0.19151945]\n",
            " [0.62210877]\n",
            " [0.43772774]\n",
            " [0.78535858]\n",
            " [0.77997581]\n",
            " [0.27259261]\n",
            " [0.27646426]\n",
            " [0.80187218]\n",
            " [0.95813935]\n",
            " [0.87593263]\n",
            " [0.35781727]\n",
            " [0.50099513]\n",
            " [0.68346294]\n",
            " [0.71270203]\n",
            " [0.37025075]\n",
            " [0.56119619]\n",
            " [0.50308317]\n",
            " [0.01376845]\n",
            " [0.77282662]\n",
            " [0.88264119]\n",
            " [0.36488598]\n",
            " [0.61539618]\n",
            " [0.07538124]\n",
            " [0.36882401]\n",
            " [0.9331401 ]\n",
            " [0.65137814]\n",
            " [0.39720258]\n",
            " [0.78873014]\n",
            " [0.31683612]\n",
            " [0.56809865]\n",
            " [0.86912739]\n",
            " [0.43617342]\n",
            " [0.80214764]\n",
            " [0.14376682]\n",
            " [0.70426097]\n",
            " [0.70458131]\n",
            " [0.21879211]\n",
            " [0.92486763]\n",
            " [0.44214076]\n",
            " [0.90931596]\n",
            " [0.05980922]\n",
            " [0.18428708]\n",
            " [0.04735528]\n",
            " [0.67488094]\n",
            " [0.59462478]\n",
            " [0.53331016]\n",
            " [0.04332406]\n",
            " [0.56143308]\n",
            " [0.32966845]\n",
            " [0.50296683]\n",
            " [0.11189432]\n",
            " [0.60719371]\n",
            " [0.56594464]\n",
            " [0.00676406]\n",
            " [0.61744171]\n",
            " [0.91212289]\n",
            " [0.79052413]\n",
            " [0.99208147]\n",
            " [0.95880176]\n",
            " [0.79196414]\n",
            " [0.28525096]\n",
            " [0.62491671]\n",
            " [0.4780938 ]\n",
            " [0.19567518]\n",
            " [0.38231745]\n",
            " [0.05387369]\n",
            " [0.45164841]\n",
            " [0.98200474]\n",
            " [0.1239427 ]\n",
            " [0.1193809 ]\n",
            " [0.73852306]\n",
            " [0.58730363]\n",
            " [0.47163253]\n",
            " [0.10712682]\n",
            " [0.22921857]\n",
            " [0.89996519]\n",
            " [0.41675354]\n",
            " [0.53585166]\n",
            " [0.00620852]\n",
            " [0.30064171]\n",
            " [0.43689317]\n",
            " [0.612149  ]\n",
            " [0.91819808]\n",
            " [0.62573667]\n",
            " [0.70599757]\n",
            " [0.14983372]\n",
            " [0.74606341]\n",
            " [0.83100699]\n",
            " [0.63372577]\n",
            " [0.43830988]\n",
            " [0.15257277]\n",
            " [0.56840962]\n",
            " [0.52822428]\n",
            " [0.95142876]\n",
            " [0.48035918]\n",
            " [0.50255956]\n",
            " [0.53687819]\n",
            " [0.81920207]\n",
            " [0.05711564]\n",
            " [0.66942174]]\n",
            "[40 44 28 83 79 27 70 62  7  8 88 11 22 32 59 71 52 45 50 16 73 20 75 68\n",
            " 43 15 31 94 72 97 39 89 66 57 98 61 14 93 21 13 25 84 18 53 29  1 78  9\n",
            " 24 23 10 92 41 56 81 34  6 85 58 65  3 64 38 91 77 74 35  2 69 48 42 90\n",
            " 19 55 99 49 86 33 12 76 63 54  5 80 36 87  4 95 51 96 47 60 26 30 82 37\n",
            " 67  0 17 46]\n"
          ],
          "name": "stdout"
        }
      ]
    },
    {
      "cell_type": "code",
      "metadata": {
        "colab": {
          "base_uri": "https://localhost:8080/",
          "height": 312
        },
        "id": "DA3mMVvjoVAN",
        "outputId": "fea347f1-62d6-42f7-abe9-375ce91cad0f"
      },
      "source": [
        "import matplotlib.pyplot as plt\n",
        "\n",
        "fig = plt.figure()\n",
        "\n",
        "plt.subplot(1, 2, 1)\n",
        "plt.scatter(x_train, y_train, color='red')\n",
        "plt.title('Generated data - Train')\n",
        "plt.xlabel('x')\n",
        "plt.ylabel('y')\n",
        "\n",
        "plt.subplot(1, 2, 2)\n",
        "plt.scatter(x_val, y_val)\n",
        "plt.title('Generated data - Validation')\n",
        "plt.xlabel('x')\n",
        "plt.ylabel('y')"
      ],
      "execution_count": 38,
      "outputs": [
        {
          "output_type": "execute_result",
          "data": {
            "text/plain": [
              "Text(0, 0.5, 'y')"
            ]
          },
          "metadata": {
            "tags": []
          },
          "execution_count": 38
        },
        {
          "output_type": "display_data",
          "data": {
            "image/png": "[encoded data removed]",
            "text/plain": [
              "<Figure size 432x288 with 2 Axes>"
            ]
          },
          "metadata": {
            "tags": [],
            "needs_background": "light"
          }
        }
      ]
    },
    {
      "cell_type": "code",
      "metadata": {
        "colab": {
          "base_uri": "https://localhost:8080/"
        },
        "id": "HTPlW9I2ozRD",
        "outputId": "6b96031f-a3d4-4e84-98a3-a9aa3f29dea1"
      },
      "source": [
        "a = np.random.randn(1)\n",
        "b = np.random.randn(1)\n",
        "print(f'Init a={a}, Init b={b}')"
      ],
      "execution_count": 39,
      "outputs": [
        {
          "output_type": "stream",
          "text": [
            "Init a=[1.33488658], Init b=[-1.38749941]\n"
          ],
          "name": "stdout"
        }
      ]
    },
    {
      "cell_type": "code",
      "metadata": {
        "id": "FU5YT4Djq1g9"
      },
      "source": [
        "learning_rate = 1e-2\n",
        "epochs = 100000\n",
        "for epoch in range(epochs):\n",
        "  pred = a + b * x_train\n",
        "  error = y_train - pred\n",
        "  loss = (error**2).mean()\n",
        "  a_grad = -2*error.mean()\n",
        "  b_grad = -2*(x_train * error).mean()\n",
        "  a = a - learning_rate * a_grad\n",
        "  b = b - learning_rate * b_grad"
      ],
      "execution_count": 47,
      "outputs": []
    },
    {
      "cell_type": "code",
      "metadata": {
        "colab": {
          "base_uri": "https://localhost:8080/"
        },
        "id": "gjwitKU0wCmO",
        "outputId": "5b9ee9da-42ab-4ac5-9c4e-ed6a51e3605d"
      },
      "source": [
        "print(f'Init a={a}, Init b={b}')"
      ],
      "execution_count": 48,
      "outputs": [
        {
          "output_type": "stream",
          "text": [
            "Init a=[0.99343915], Init b=[1.99585804]\n"
          ],
          "name": "stdout"
        }
      ]
    },
    {
      "cell_type": "code",
      "metadata": {
        "colab": {
          "base_uri": "https://localhost:8080/"
        },
        "id": "T9vR7yRSwLo0",
        "outputId": "ef905e05-15e0-49ac-c4c6-4ff14f66e304"
      },
      "source": [
        "from sklearn.linear_model import LinearRegression\n",
        "linr = LinearRegression()\n",
        "linr.fit(x_train, y_train)"
      ],
      "execution_count": 49,
      "outputs": [
        {
          "output_type": "execute_result",
          "data": {
            "text/plain": [
              "LinearRegression(copy_X=True, fit_intercept=True, n_jobs=None, normalize=False)"
            ]
          },
          "metadata": {
            "tags": []
          },
          "execution_count": 49
        }
      ]
    },
    {
      "cell_type": "code",
      "metadata": {
        "colab": {
          "base_uri": "https://localhost:8080/"
        },
        "id": "EnJiCFVEwjCL",
        "outputId": "5d0bcec0-d90a-46cb-d99a-0f95b7b0b914"
      },
      "source": [
        "print(linr.intercept_, linr.coef_[0])"
      ],
      "execution_count": 50,
      "outputs": [
        {
          "output_type": "stream",
          "text": [
            "[0.99343915] [1.99585804]\n"
          ],
          "name": "stdout"
        }
      ]
    },
    {
      "cell_type": "code",
      "metadata": {
        "colab": {
          "base_uri": "https://localhost:8080/"
        },
        "id": "1lGdCaEQwm6b",
        "outputId": "8ff4d1e6-ff60-4a90-e6c8-6c9bb43d3d76"
      },
      "source": [
        "a = torch.randn(1, requires_grad=True, dtype=torch.float).to(dev)\n",
        "b = torch.randn(1, requires_grad=True, dtype=torch.float).to(dev)\n",
        "print(a, b)"
      ],
      "execution_count": 54,
      "outputs": [
        {
          "output_type": "stream",
          "text": [
            "tensor([1.9135], device='xla:1', grad_fn=<CopyBackwards>) tensor([0.3106], device='xla:1', grad_fn=<CopyBackwards>)\n"
          ],
          "name": "stdout"
        }
      ]
    },
    {
      "cell_type": "code",
      "metadata": {
        "colab": {
          "base_uri": "https://localhost:8080/"
        },
        "id": "_jUzYrp1wumA",
        "outputId": "a88da250-f2a7-47d8-fc11-5d50d512ee00"
      },
      "source": [
        "a.requires_grad_()\n",
        "b.requires_grad_()"
      ],
      "execution_count": 55,
      "outputs": [
        {
          "output_type": "execute_result",
          "data": {
            "text/plain": [
              "tensor([0.3106], device='xla:1', grad_fn=<CopyBackwards>)"
            ]
          },
          "metadata": {
            "tags": []
          },
          "execution_count": 55
        }
      ]
    },
    {
      "cell_type": "code",
      "metadata": {
        "colab": {
          "base_uri": "https://localhost:8080/"
        },
        "id": "q8GcHeZfxHvg",
        "outputId": "ed556dd1-2dfe-418e-ce4f-c5293c822c4b"
      },
      "source": [
        "print(a, b)"
      ],
      "execution_count": 56,
      "outputs": [
        {
          "output_type": "stream",
          "text": [
            "tensor([1.9135], device='xla:1', grad_fn=<CopyBackwards>) tensor([0.3106], device='xla:1', grad_fn=<CopyBackwards>)\n"
          ],
          "name": "stdout"
        }
      ]
    },
    {
      "cell_type": "code",
      "metadata": {
        "id": "TjgrFJlhxIug"
      },
      "source": [
        "lr=1e-1\n",
        "epochs=1000\n",
        "\n",
        "a = torch.randn(1, requires_grad=True, dtype=torch.float, device=dev)\n",
        "b = torch.randn(1, requires_grad=True, dtype=torch.float, device=dev)\n",
        "\n",
        "x_train_tensor = torch.from_numpy(x_train).to(dev)\n",
        "y_train_tensor = torch.from_numpy(y_train).to(dev)"
      ],
      "execution_count": 65,
      "outputs": []
    },
    {
      "cell_type": "code",
      "metadata": {
        "colab": {
          "base_uri": "https://localhost:8080/"
        },
        "id": "4BesLvl1xfST",
        "outputId": "6a4b2f03-f029-4f83-e69d-3b3cf1af9519"
      },
      "source": [
        "for epoch in range(epochs):\n",
        "  yhat = a + b * x_train_tensor\n",
        "  error = y_train_tensor - yhat\n",
        "\n",
        "  loss = (error ** 2).mean()\n",
        "  loss.backward()\n",
        "\n",
        "  with torch.no_grad():\n",
        "    a -= lr * a.grad\n",
        "    b -= lr * b.grad\n",
        "  \n",
        "  a.grad.zero_()\n",
        "  b.grad.zero_()\n",
        "\n",
        "print(a, b)"
      ],
      "execution_count": 66,
      "outputs": [
        {
          "output_type": "stream",
          "text": [
            "tensor([0.9935], device='xla:1', requires_grad=True) tensor([1.9958], device='xla:1', requires_grad=True)\n"
          ],
          "name": "stdout"
        }
      ]
    },
    {
      "cell_type": "code",
      "metadata": {
        "id": "3meXVVuzz9Sk"
      },
      "source": [
        "from torch import optim"
      ],
      "execution_count": 85,
      "outputs": []
    },
    {
      "cell_type": "code",
      "metadata": {
        "colab": {
          "base_uri": "https://localhost:8080/"
        },
        "id": "ARBoJyE80bNs",
        "outputId": "1d526107-e59b-4231-922f-987f3993d19f"
      },
      "source": [
        "a = torch.randn(1, requires_grad=True, dtype=torch.float, device=dev)\n",
        "b = torch.randn(1, requires_grad=True, dtype=torch.float, device=dev)\n",
        "print(a, b)"
      ],
      "execution_count": 90,
      "outputs": [
        {
          "output_type": "stream",
          "text": [
            "tensor([0.8133], device='xla:1', requires_grad=True) tensor([0.1143], device='xla:1', requires_grad=True)\n"
          ],
          "name": "stdout"
        }
      ]
    },
    {
      "cell_type": "code",
      "metadata": {
        "id": "Pt_XP02Jyc8y"
      },
      "source": [
        "optimizer = optim.SGD([a, b], lr = lr)"
      ],
      "execution_count": 91,
      "outputs": []
    },
    {
      "cell_type": "code",
      "metadata": {
        "colab": {
          "base_uri": "https://localhost:8080/"
        },
        "id": "SyQOxxXF09Wi",
        "outputId": "def5b3a8-134a-4adc-8961-41a613a2a1f7"
      },
      "source": [
        "optimizer"
      ],
      "execution_count": 92,
      "outputs": [
        {
          "output_type": "execute_result",
          "data": {
            "text/plain": [
              "SGD (\n",
              "Parameter Group 0\n",
              "    dampening: 0\n",
              "    lr: 0.1\n",
              "    momentum: 0\n",
              "    nesterov: False\n",
              "    weight_decay: 0\n",
              ")"
            ]
          },
          "metadata": {
            "tags": []
          },
          "execution_count": 92
        }
      ]
    },
    {
      "cell_type": "code",
      "metadata": {
        "colab": {
          "base_uri": "https://localhost:8080/"
        },
        "id": "mYsMmnqHzy8a",
        "outputId": "2981c7f5-7cc7-42e7-d3ca-c38f9f4c362f"
      },
      "source": [
        "for epoch in range(epochs):\n",
        "  yhat = a + b * x_train_tensor\n",
        "  error = y_train_tensor - yhat\n",
        "  loss = (error ** 2).mean()\n",
        "\n",
        "  loss.backward()\n",
        "\n",
        "  optimizer.step()\n",
        "  optimizer.zero_grad()\n",
        "\n",
        "print(a, b)"
      ],
      "execution_count": 93,
      "outputs": [
        {
          "output_type": "stream",
          "text": [
            "tensor([0.9934], device='xla:1', requires_grad=True) tensor([1.9958], device='xla:1', requires_grad=True)\n"
          ],
          "name": "stdout"
        }
      ]
    },
    {
      "cell_type": "code",
      "metadata": {
        "colab": {
          "base_uri": "https://localhost:8080/"
        },
        "id": "IR6sFveD0lZc",
        "outputId": "74909428-a2e0-4cd7-9774-72bc54dd0b48"
      },
      "source": [
        "import torch\n",
        "from torch import optim\n",
        "from torch import nn\n",
        "torch.manual_seed(1234)\n",
        "a = torch.randn(1, requires_grad=True, dtype=torch.float, device=dev)\n",
        "b = torch.randn(1, requires_grad=True, dtype=torch.float, device=dev)\n",
        "print(a, b)\n",
        "\n",
        "x_train_tensor = torch.from_numpy(x_train).to(dev)\n",
        "y_train_tensor = torch.from_numpy(y_train).to(dev)\n",
        "lr=1e-1\n",
        "epochs=1000\n",
        "\n",
        "loss_fn = nn.MSELoss(reduction='mean')\n",
        "optimizer = optim.SGD([a, b], lr=lr)"
      ],
      "execution_count": 95,
      "outputs": [
        {
          "output_type": "stream",
          "text": [
            "tensor([0.5917], device='xla:1', requires_grad=True) tensor([-1.1786], device='xla:1', requires_grad=True)\n"
          ],
          "name": "stdout"
        }
      ]
    },
    {
      "cell_type": "code",
      "metadata": {
        "colab": {
          "base_uri": "https://localhost:8080/"
        },
        "id": "Q_Y3Uz3A2QwV",
        "outputId": "9aa3b0a9-19ac-4a41-fb08-4b64174720f0"
      },
      "source": [
        "for epoch in range(epochs):\n",
        "  yhat = a + b * x_train_tensor\n",
        "\n",
        "  error = yhat - y_train_tensor\n",
        "\n",
        "  loss = loss_fn(y_train_tensor, yhat)\n",
        "\n",
        "  loss.backward()\n",
        "\n",
        "  optimizer.step()\n",
        "\n",
        "  optimizer.zero_grad()\n",
        "\n",
        "print(a, b)"
      ],
      "execution_count": 99,
      "outputs": [
        {
          "output_type": "stream",
          "text": [
            "tensor([0.9935], device='xla:1', requires_grad=True) tensor([1.9958], device='xla:1', requires_grad=True)\n"
          ],
          "name": "stdout"
        }
      ]
    },
    {
      "cell_type": "code",
      "metadata": {
        "id": "40e0mKsB29p1"
      },
      "source": [
        "class ManualLinearRegression(nn.Module):\n",
        "  def __init__(self):\n",
        "    super().__init__()\n",
        "    self.a = nn.Parameter(torch.randn(1, requires_grad=True, dtype=torch.float, device=dev))\n",
        "    self.b = nn.Parameter(torch.randn(1, requires_grad=True, dtype=torch.float, device=dev))\n",
        "  \n",
        "  def forward(self, x):\n",
        "    return self.a + self.b * x"
      ],
      "execution_count": 102,
      "outputs": []
    },
    {
      "cell_type": "code",
      "metadata": {
        "colab": {
          "base_uri": "https://localhost:8080/"
        },
        "id": "grHIaJia4G0H",
        "outputId": "a206dc7f-cca4-4e2f-a488-1d11c3b9db2c"
      },
      "source": [
        "torch.manual_seed(1234)\n",
        "\n",
        "model = ManualLinearRegression().to(dev)\n",
        "print(model.state_dict())\n",
        "\n",
        "lr=1e-1\n",
        "epochs=1000\n",
        "loss_fn = nn.MSELoss(reduction='mean')\n",
        "optimizer = optim.SGD(model.parameters(), lr=lr)"
      ],
      "execution_count": 103,
      "outputs": [
        {
          "output_type": "stream",
          "text": [
            "OrderedDict([('a', tensor([-0.4003], device='xla:1')), ('b', tensor([-0.6421], device='xla:1'))])\n"
          ],
          "name": "stdout"
        }
      ]
    },
    {
      "cell_type": "code",
      "metadata": {
        "colab": {
          "base_uri": "https://localhost:8080/"
        },
        "id": "fRtszYlC4sA6",
        "outputId": "9eea8a6c-e064-4c39-81f4-33208537ceeb"
      },
      "source": [
        "for epoch in range(epochs):\n",
        "  model.train()\n",
        "\n",
        "  yhat = model(x_train_tensor)\n",
        "  loss = loss_fn(yhat, y_train_tensor)\n",
        "  loss.backward()\n",
        "  optimizer.step()\n",
        "  optimizer.zero_grad()\n",
        "\n",
        "print(model.state_dict())"
      ],
      "execution_count": 104,
      "outputs": [
        {
          "output_type": "stream",
          "text": [
            "OrderedDict([('a', tensor([0.9934], device='xla:1')), ('b', tensor([1.9958], device='xla:1'))])\n"
          ],
          "name": "stdout"
        }
      ]
    },
    {
      "cell_type": "code",
      "metadata": {
        "id": "YRv_i5bF5ICq"
      },
      "source": [
        "def make_train_step(model, loss_fn, optimizer):\n",
        "  def train_step(x, y):\n",
        "    model.train()\n",
        "    yhat = model(x)\n",
        "    loss = loss_fn(y, yhat)\n",
        "    loss.backward()\n",
        "    optimizer.step()\n",
        "    optimizer.zero_grad()\n",
        "    return loss.item()\n",
        "  return train_step"
      ],
      "execution_count": 105,
      "outputs": []
    },
    {
      "cell_type": "code",
      "metadata": {
        "colab": {
          "base_uri": "https://localhost:8080/",
          "height": 334
        },
        "id": "OP3lTxbC57-l",
        "outputId": "d1bc1d18-8a7f-43fa-f2e5-9a67f79e830e"
      },
      "source": [
        "train_step = make_train_step(model, loss_fn, optimizer)\n",
        "losses = []\n",
        "\n",
        "\n",
        "for epoch in range(epochs):\n",
        "  loss = train_step(x_train_tensor, y_train_tensor)\n",
        "  losses.append(loss)\n",
        "\n",
        "print(model.state_dict())"
      ],
      "execution_count": 106,
      "outputs": [
        {
          "output_type": "error",
          "ename": "KeyboardInterrupt",
          "evalue": "ignored",
          "traceback": [
            "\u001b[0;31m---------------------------------------------------------------------------\u001b[0m",
            "\u001b[0;31mKeyboardInterrupt\u001b[0m                         Traceback (most recent call last)",
            "\u001b[0;32m<ipython-input-106-7882a806e976>\u001b[0m in \u001b[0;36m<module>\u001b[0;34m()\u001b[0m\n\u001b[1;32m      4\u001b[0m \u001b[0;34m\u001b[0m\u001b[0m\n\u001b[1;32m      5\u001b[0m \u001b[0;32mfor\u001b[0m \u001b[0mepoch\u001b[0m \u001b[0;32min\u001b[0m \u001b[0mrange\u001b[0m\u001b[0;34m(\u001b[0m\u001b[0mepochs\u001b[0m\u001b[0;34m)\u001b[0m\u001b[0;34m:\u001b[0m\u001b[0;34m\u001b[0m\u001b[0;34m\u001b[0m\u001b[0m\n\u001b[0;32m----> 6\u001b[0;31m   \u001b[0mloss\u001b[0m \u001b[0;34m=\u001b[0m \u001b[0mtrain_step\u001b[0m\u001b[0;34m(\u001b[0m\u001b[0mx_train_tensor\u001b[0m\u001b[0;34m,\u001b[0m \u001b[0my_train_tensor\u001b[0m\u001b[0;34m)\u001b[0m\u001b[0;34m\u001b[0m\u001b[0;34m\u001b[0m\u001b[0m\n\u001b[0m\u001b[1;32m      7\u001b[0m   \u001b[0mlosses\u001b[0m\u001b[0;34m.\u001b[0m\u001b[0mappend\u001b[0m\u001b[0;34m(\u001b[0m\u001b[0mloss\u001b[0m\u001b[0;34m)\u001b[0m\u001b[0;34m\u001b[0m\u001b[0;34m\u001b[0m\u001b[0m\n\u001b[1;32m      8\u001b[0m \u001b[0;34m\u001b[0m\u001b[0m\n",
            "\u001b[0;32m<ipython-input-105-e99157a19b37>\u001b[0m in \u001b[0;36mtrain_step\u001b[0;34m(x, y)\u001b[0m\n\u001b[1;32m      7\u001b[0m     \u001b[0moptimizer\u001b[0m\u001b[0;34m.\u001b[0m\u001b[0mstep\u001b[0m\u001b[0;34m(\u001b[0m\u001b[0;34m)\u001b[0m\u001b[0;34m\u001b[0m\u001b[0;34m\u001b[0m\u001b[0m\n\u001b[1;32m      8\u001b[0m     \u001b[0moptimizer\u001b[0m\u001b[0;34m.\u001b[0m\u001b[0mzero_grad\u001b[0m\u001b[0;34m(\u001b[0m\u001b[0;34m)\u001b[0m\u001b[0;34m\u001b[0m\u001b[0;34m\u001b[0m\u001b[0m\n\u001b[0;32m----> 9\u001b[0;31m     \u001b[0;32mreturn\u001b[0m \u001b[0mloss\u001b[0m\u001b[0;34m.\u001b[0m\u001b[0mitem\u001b[0m\u001b[0;34m(\u001b[0m\u001b[0;34m)\u001b[0m\u001b[0;34m\u001b[0m\u001b[0;34m\u001b[0m\u001b[0m\n\u001b[0m\u001b[1;32m     10\u001b[0m   \u001b[0;32mreturn\u001b[0m \u001b[0mtrain_step\u001b[0m\u001b[0;34m\u001b[0m\u001b[0;34m\u001b[0m\u001b[0m\n",
            "\u001b[0;31mKeyboardInterrupt\u001b[0m: "
          ]
        }
      ]
    },
    {
      "cell_type": "code",
      "metadata": {
        "id": "uQU4m7Jd6PBU"
      },
      "source": [
        "from torch.utils.data import Dataset, TensorDataset"
      ],
      "execution_count": 107,
      "outputs": []
    },
    {
      "cell_type": "code",
      "metadata": {
        "id": "9k80j-_H8Bt6"
      },
      "source": [
        "class CustomDataset(Dataset):\n",
        "  def __init__(self, x_tensor, y_tensor):\n",
        "    self.x = x_tensor\n",
        "    self.y = y_tensor\n",
        "  \n",
        "  def __getitem__(self, index):\n",
        "    return (self.x[index], self.y[index])\n",
        "\n",
        "  def __len__(self):\n",
        "    return len(self.x)"
      ],
      "execution_count": 112,
      "outputs": []
    },
    {
      "cell_type": "code",
      "metadata": {
        "colab": {
          "base_uri": "https://localhost:8080/"
        },
        "id": "OJG84uqz8dYu",
        "outputId": "e8680345-af19-42f3-f7c3-234a95cb5cda"
      },
      "source": [
        "x_train_tensor = torch.from_numpy(x_train).float()\n",
        "y_train_tensor = torch.from_numpy(y_train).float()\n",
        "train_data = CustomDataset(x_train_tensor, y_train_tensor)\n",
        "print(train_data)"
      ],
      "execution_count": 113,
      "outputs": [
        {
          "output_type": "stream",
          "text": [
            "<__main__.CustomDataset object at 0x7fa9cd536550>\n"
          ],
          "name": "stdout"
        }
      ]
    },
    {
      "cell_type": "code",
      "metadata": {
        "colab": {
          "base_uri": "https://localhost:8080/"
        },
        "id": "bc5kxk4h8sQG",
        "outputId": "8b0fb846-a0a4-43f3-b794-312e01c48ef6"
      },
      "source": [
        "print(train_data[0])"
      ],
      "execution_count": 114,
      "outputs": [
        {
          "output_type": "stream",
          "text": [
            "(tensor([0.0598]), tensor([1.0717]))\n"
          ],
          "name": "stdout"
        }
      ]
    },
    {
      "cell_type": "code",
      "metadata": {
        "id": "C5MQA4EH88W9"
      },
      "source": [
        "train_data = TensorDataset(x_train_tensor, y_train_tensor)"
      ],
      "execution_count": 115,
      "outputs": []
    },
    {
      "cell_type": "code",
      "metadata": {
        "colab": {
          "base_uri": "https://localhost:8080/"
        },
        "id": "-slggOXQ9BsN",
        "outputId": "a076abad-9195-4f56-a507-0b6cc930c889"
      },
      "source": [
        "print(train_data)"
      ],
      "execution_count": 116,
      "outputs": [
        {
          "output_type": "stream",
          "text": [
            "<torch.utils.data.dataset.TensorDataset object at 0x7fa9cd5365f8>\n"
          ],
          "name": "stdout"
        }
      ]
    },
    {
      "cell_type": "code",
      "metadata": {
        "id": "ZBJeIpVu9DbN"
      },
      "source": [
        "from torch.utils.data import DataLoader\n",
        "train_loader = DataLoader(dataset=train_data, batch_size=16, shuffle=True)"
      ],
      "execution_count": 117,
      "outputs": []
    },
    {
      "cell_type": "code",
      "metadata": {
        "colab": {
          "base_uri": "https://localhost:8080/"
        },
        "id": "fnAVwTzX9qM9",
        "outputId": "7d246633-22dc-4c14-e2b3-5f07c882389e"
      },
      "source": [
        "next(iter(train_loader))"
      ],
      "execution_count": 118,
      "outputs": [
        {
          "output_type": "execute_result",
          "data": {
            "text/plain": [
              "[tensor([[0.7461],\n",
              "         [0.8021],\n",
              "         [0.4362],\n",
              "         [0.3688],\n",
              "         [0.5031],\n",
              "         [0.0539],\n",
              "         [0.5030],\n",
              "         [0.5612],\n",
              "         [0.7728],\n",
              "         [0.0062],\n",
              "         [0.9121],\n",
              "         [0.2292],\n",
              "         [0.7854],\n",
              "         [0.4421],\n",
              "         [0.1071],\n",
              "         [0.5333]]), tensor([[2.3983],\n",
              "         [2.6090],\n",
              "         [1.6905],\n",
              "         [1.6095],\n",
              "         [2.0565],\n",
              "         [1.1874],\n",
              "         [1.9097],\n",
              "         [2.1790],\n",
              "         [2.5941],\n",
              "         [0.9265],\n",
              "         [2.7863],\n",
              "         [1.5121],\n",
              "         [2.7099],\n",
              "         [1.7140],\n",
              "         [1.2477],\n",
              "         [2.0817]])]"
            ]
          },
          "metadata": {
            "tags": []
          },
          "execution_count": 118
        }
      ]
    },
    {
      "cell_type": "code",
      "metadata": {
        "id": "X83ec_aD9tIF"
      },
      "source": [
        "losses = []\n",
        "train_step = make_train_step(model, loss_fn, optimizer)"
      ],
      "execution_count": 119,
      "outputs": []
    },
    {
      "cell_type": "code",
      "metadata": {
        "id": "FpJG8GyG947V"
      },
      "source": [
        "for epoch in range(epochs):\n",
        "  for x_batch, y_batch in train_loader:\n",
        "    x_batch = x_batch.to(dev)\n",
        "    y_batch = y_batch.to(dev)\n",
        "\n",
        "    loss = train_step(x_batch, y_batch)\n",
        "    losses.append(loss)\n",
        "\n",
        "print(model.state_dict())"
      ],
      "execution_count": null,
      "outputs": []
    },
    {
      "cell_type": "code",
      "metadata": {
        "id": "r-e551nd-PT1"
      },
      "source": [
        ""
      ],
      "execution_count": null,
      "outputs": []
    }
  ]
}